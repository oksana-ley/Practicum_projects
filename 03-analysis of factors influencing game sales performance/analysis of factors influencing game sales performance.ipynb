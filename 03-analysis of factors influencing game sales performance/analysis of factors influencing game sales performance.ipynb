{
 "cells": [
  {
   "cell_type": "markdown",
   "metadata": {},
   "source": [
    "# Проект \"Анализ факторов, влияющих на успех продаж игр\""
   ]
  },
  {
   "cell_type": "markdown",
   "metadata": {},
   "source": [
    "**Описание проекта**: Представим ситуацию, что я работаю в интернет-магазине «Стримчик», который продаёт по всему миру компьютерные игры. Из открытых источников доступны исторические данные о продажах игр, оценки пользователей и экспертов, жанры и платформы (например, Xbox или PlayStation). Мне нужно выявить определяющие успешность игры закономерности. Это позволит сделать ставку на потенциально популярный продукт и спланировать рекламные кампании.\n",
    "Перед мной данные до 2016 года. Представим, что сейчас декабрь 2016 г., и я планирую кампанию на 2017-й. Нужно отработать принцип работы с данными. Неважно, прогнозируете ли я продажи на 2017 год по данным 2016-го или же 2027-й — по данным 2026 года.\n",
    "   \n",
    "В наборе данных попадается аббревиатура ESRB (Entertainment Software Rating Board) — это ассоциация, определяющая возрастной рейтинг компьютерных игр. ESRB оценивает игровой контент и присваивает ему подходящую возрастную категорию, например, «Для взрослых», «Для детей младшего возраста» или «Для подростков».\n",
    "\n",
    "**Цель исследования**: Выявить определяющие успешность игры закономерности, которые позволят сделать ставку на потенциально популярный продукт и спланировать рекламные кампании.\n",
    "\n",
    "**Ход исследования**: \n",
    "- Подготовка данных: загрузка и изучение общей информации из предоставленного датасета;\n",
    "- Предобработка данных: обработка пропущенных значений, корректировка типа данных, дубликатов и других аномалий;\n",
    "- Расширение набора данных: добавление нового столбца - суммарные продажи во всех регионах;\n",
    "- Исследовательский анализ данных: \n",
    "    - посмотреть, сколько игр выпускалось в разные годы;\n",
    "    - посмотреть, как менялись продажи по платформам;\n",
    "    - определить какие платформы лидируют по продажам, растут или падают;\n",
    "    - построить график «ящик с усами» по глобальным продажам игр в разбивке по платформам;\n",
    "    - посмотреть, как влияют на продажи внутри одной популярной платформы отзывы пользователей и критиков;\n",
    "    - посмотреть на общее распределение игр по жанрам.\n",
    "- Составление портрета пользователя каждого региона;\n",
    "- Проверка гипотез.\n",
    "\n",
    "**Описание данных**:\n",
    "- Name — название игры\n",
    "- Platform — платформа\n",
    "- Year_of_Release — год выпуска\n",
    "- Genre — жанр игры\n",
    "- NA_sales — продажи в Северной Америке (миллионы проданных копий)\n",
    "- EU_sales — продажи в Европе (миллионы проданных копий)\n",
    "- JP_sales — продажи в Японии (миллионы проданных копий)\n",
    "- Other_sales — продажи в других странах (миллионы проданных копий)\n",
    "- Critic_Score — оценка критиков (максимум 100)\n",
    "- User_Score — оценка пользователей (максимум 10)\n",
    "- Rating — рейтинг от организации ESRB (англ. Entertainment Software Rating Board). Эта ассоциация определяет рейтинг компьютерных игр и присваивает им подходящую возрастную категорию.\n",
    "\n",
    "Данные за 2016 год могут быть неполными.\n",
    "\n",
    "**Общий вывод**: Резюмирование полученных результатов, формулировка ключевых выводов и рекомендаций."
   ]
  },
  {
   "cell_type": "code",
   "execution_count": null,
   "metadata": {},
   "outputs": [],
   "source": [
    "# импорт библиотек\n",
    "import pandas as pd\n",
    "import matplotlib.pyplot as plt\n",
    "import seaborn as sns\n",
    "from scipy import stats as st"
   ]
  },
  {
   "cell_type": "markdown",
   "metadata": {},
   "source": [
    "## Загрузка данных"
   ]
  },
  {
   "cell_type": "code",
   "execution_count": null,
   "metadata": {},
   "outputs": [],
   "source": [
    "# считаем CSV-файл с данными с помощью библиотеки pandas и сохраним в датафрейм\n",
    "data_games = pd.read_csv('/Users/numberone/Documents/Projects/datasets/games.csv')"
   ]
  },
  {
   "cell_type": "code",
   "execution_count": null,
   "metadata": {},
   "outputs": [],
   "source": [
    "# выведем первые 10 cтрок таблицы data_games\n",
    "display(data_games.head(10))"
   ]
  },
  {
   "cell_type": "code",
   "execution_count": null,
   "metadata": {},
   "outputs": [],
   "source": [
    "# посмотрим общую информацию о каждом датафрейме\n",
    "data_games.info()"
   ]
  },
  {
   "cell_type": "code",
   "execution_count": null,
   "metadata": {},
   "outputs": [],
   "source": [
    "# посмотрим сводную статистику всех числовых столбцов\n",
    "data_games.describe()"
   ]
  },
  {
   "cell_type": "markdown",
   "metadata": {},
   "source": [
    "**Вывод**\n",
    "\n",
    "Видим в данных data_games 16715 строк и 11 столбцов, вес датафрейма - 1,4 MB; столбцы Name, Platform, Genre, User_Score и Rating имеют тип данных - object; столбцы Year_of_Release, NA_sales, EU_sales, JP_sales, Other_sales и Critic_Score имеют тип данных - float64.\n",
    "   \n",
    "Необходимо привести названия столбцов к нижнему регистру.\n",
    "\n",
    "Изменить тип данных столбцов Year_of_Release и Critic_Score на int64 (т.к. значения должны быть целочисленными), столбец User_Score на float64.\n",
    "\n",
    "В столбцах содержатся пропуски, обработаем их в следующем разделе."
   ]
  },
  {
   "cell_type": "markdown",
   "metadata": {},
   "source": [
    "## Предобработка данных"
   ]
  },
  {
   "cell_type": "markdown",
   "metadata": {},
   "source": [
    "### Заменим названия столбцов (приведем к нижнему регистру)"
   ]
  },
  {
   "cell_type": "code",
   "execution_count": null,
   "metadata": {},
   "outputs": [],
   "source": [
    "data_games.columns = data_games.columns.str.lower()\n",
    "display(data_games.head())"
   ]
  },
  {
   "cell_type": "markdown",
   "metadata": {},
   "source": [
    "### Проверим наличие пропущенных значений и дубликатов в датафрейме и обработаем"
   ]
  },
  {
   "cell_type": "code",
   "execution_count": null,
   "metadata": {},
   "outputs": [],
   "source": [
    "# посчитаем количество пропущенных значений в датафрейме\n",
    "print(f'Количество пропущенных значений в data_games: {data_games.isna().sum().sum()}')\n",
    "\n",
    "# посчитаем количество явных дубликатов в датафрейме\n",
    "print(f'Количество явных дубликатов в data_games: {data_games.duplicated().sum()}')"
   ]
  },
  {
   "cell_type": "code",
   "execution_count": null,
   "metadata": {},
   "outputs": [],
   "source": [
    "# посмотрим на неявные дубликаты\n",
    "data_games[data_games[['name', 'platform','year_of_release']].duplicated(keep=False)]"
   ]
  },
  {
   "cell_type": "markdown",
   "metadata": {},
   "source": [
    "Видим две похожие строки под номером 659 и 14244, эти данные не подлежат восстановление, поэтому можно их удалить.\n",
    "\n",
    "Строку 604 с неявным дубликатом удалять нельзя, т.к. она содержит данные по продажам в Северной Америке и соответственно строку 16230 тоже нельзя удалить, т.к. она содержит данные о продажах в Европе. Объединим эти две строки."
   ]
  },
  {
   "cell_type": "code",
   "execution_count": null,
   "metadata": {},
   "outputs": [],
   "source": [
    "# удалим строки 659 и 14244\n",
    "data_games.drop(index=[659, 14244], axis=0, inplace=True)"
   ]
  },
  {
   "cell_type": "code",
   "execution_count": null,
   "metadata": {},
   "outputs": [],
   "source": [
    "# cложим значения 'eu_sales' в строках с неявными дубликатами\n",
    "pd.options.mode.chained_assignment = None\n",
    "data_games.eu_sales[604] = data_games.eu_sales[604] + data_games.eu_sales[16230]\n",
    "\n",
    "# удалим строку дубликата\n",
    "data_games.drop(index=[16230], axis=0, inplace=True)\n",
    "\n",
    "# проверим\n",
    "data_games.loc[\n",
    "    (data_games['name'] == 'Madden NFL 13') & \n",
    "    (data_games['platform'] == 'PS3') & \n",
    "    (data_games['year_of_release'] == 2012)\n",
    "]"
   ]
  },
  {
   "cell_type": "code",
   "execution_count": null,
   "metadata": {},
   "outputs": [],
   "source": [
    "data_games.isna().sum()"
   ]
  },
  {
   "cell_type": "code",
   "execution_count": null,
   "metadata": {},
   "outputs": [],
   "source": [
    "# посмотрим долю пропусков для дальнейшей обработки \n",
    "pd.DataFrame(round(data_games.isna().mean()*100,1)).style.background_gradient('coolwarm')"
   ]
  },
  {
   "cell_type": "markdown",
   "metadata": {},
   "source": [
    "#### Столбец name"
   ]
  },
  {
   "cell_type": "code",
   "execution_count": null,
   "metadata": {},
   "outputs": [],
   "source": [
    "# видим, что в стоблце name 2 пропуска, удалим их, удаление такого малого количества никак не повлияет на исследование\n",
    "data_games = data_games.dropna(subset = ['name'])\n",
    "data_games.isna().sum()"
   ]
  },
  {
   "cell_type": "markdown",
   "metadata": {},
   "source": [
    "#### Столбец year_of_release"
   ]
  },
  {
   "cell_type": "code",
   "execution_count": null,
   "metadata": {},
   "outputs": [],
   "source": [
    "# посчитаем процент пропусков в столбце year_of_release от всего датафрейма\n",
    "'{:.1%}'.format((data_games[data_games['year_of_release'].isna()].shape[0]/data_games['year_of_release'].shape[0]))"
   ]
  },
  {
   "cell_type": "code",
   "execution_count": null,
   "metadata": {},
   "outputs": [],
   "source": [
    "# удалим строки с пропусками в столбце year_of_release, будет потерено 1.6% строк с данными, что не является кричным\n",
    "data_games = data_games.dropna(subset = ['year_of_release'])\n",
    "data_games.isna().sum()"
   ]
  },
  {
   "cell_type": "markdown",
   "metadata": {},
   "source": [
    "#### Столбец critic_score"
   ]
  },
  {
   "cell_type": "code",
   "execution_count": null,
   "metadata": {},
   "outputs": [],
   "source": [
    "# посчитаем процент пропусков в столбце critic_score от всего датафрейма\n",
    "'{:.1%}'.format((data_games[data_games['critic_score'].isna()].shape[0]/data_games['critic_score'].shape[0]))"
   ]
  },
  {
   "cell_type": "markdown",
   "metadata": {},
   "source": [
    "Видим большое количество пропусков (возможно вследствие технического фактора или человеческого - оценки просто не были проставлены), поэтому будет неправильным удаление их. Каждая оценка индивидуальна и ее не получится заменить средним или медианным значением, поэтому оставим пропуски в данном столбце и заменим их 0."
   ]
  },
  {
   "cell_type": "code",
   "execution_count": null,
   "metadata": {},
   "outputs": [],
   "source": [
    "data_games['critic_score'] = data_games['critic_score'].fillna('0')\n",
    "data_games['critic_score']"
   ]
  },
  {
   "cell_type": "markdown",
   "metadata": {},
   "source": [
    "#### Столбец user_score "
   ]
  },
  {
   "cell_type": "code",
   "execution_count": null,
   "metadata": {},
   "outputs": [],
   "source": [
    "# посчитаем процент пропусков в столбце user_score от всего датафрейма\n",
    "'{:.1%}'.format((data_games[data_games['user_score'].isna()].shape[0]/data_games['user_score'].shape[0]))"
   ]
  },
  {
   "cell_type": "markdown",
   "metadata": {},
   "source": [
    "Видим большое количество пропусков (возможно вследствие технического фактора или человеческого - оценки пользователей просто не были проставлены), поэтому будет неправильным удаление их. Каждая оценка индивидуальна и ее не получится заменить средним или медианным значением, поэтому оставим пропуски в данном столбце и заменим их 0. Также видно, что пропуски в столбце сritic_score часто совпадают с пропусками в столбце user_score."
   ]
  },
  {
   "cell_type": "code",
   "execution_count": null,
   "metadata": {},
   "outputs": [],
   "source": [
    "data_games['user_score'] = data_games['user_score'].fillna('0')\n",
    "data_games['user_score']"
   ]
  },
  {
   "cell_type": "code",
   "execution_count": null,
   "metadata": {},
   "outputs": [],
   "source": [
    "# посмотрим на количество значений tbd в столбце user-score\n",
    "# изучив информацию в интернете было выяснено, что значение tbd - это to be determined (предстоит определить)\n",
    "data_games.query('user_score == \"tbd\"').shape"
   ]
  },
  {
   "cell_type": "code",
   "execution_count": null,
   "metadata": {},
   "outputs": [],
   "source": [
    "# удалить данные значения нельзя, поэтому оставим их в данном столбце и заменим их 0.\n",
    "data_games.loc[data_games['user_score'] == 'tbd', 'user_score'] = 0\n",
    "data_games['user_score'].unique()"
   ]
  },
  {
   "cell_type": "markdown",
   "metadata": {},
   "source": [
    "#### Столбец  rating"
   ]
  },
  {
   "cell_type": "code",
   "execution_count": null,
   "metadata": {},
   "outputs": [],
   "source": [
    "# посчитаем процент пропусков в столбце user_score от всего датафрейма\n",
    "'{:.1%}'.format((data_games[data_games['rating'].isna()].shape[0]/data_games['rating'].shape[0]))"
   ]
  },
  {
   "cell_type": "markdown",
   "metadata": {},
   "source": [
    "Как и в предыдущих пунктах видим большое количество пропусков (возможно вследствие технического фактора или человеческого - рейтинги возрастных категорий просто не были проставлены), поэтому будет неправильным удаление их. Оставим пропуски в данном столбце и заменим их 0. Также видно, что пропуски в столбце rating часто совпадают с пропусками в столбцах сritic_score и user_score."
   ]
  },
  {
   "cell_type": "code",
   "execution_count": null,
   "metadata": {},
   "outputs": [],
   "source": [
    "data_games['rating'] = data_games['rating'].fillna('0')\n",
    "data_games['rating']"
   ]
  },
  {
   "cell_type": "markdown",
   "metadata": {},
   "source": [
    "### Преобразуем данные в нужные типы"
   ]
  },
  {
   "cell_type": "code",
   "execution_count": null,
   "metadata": {},
   "outputs": [],
   "source": [
    "data_games['year_of_release'] = data_games['year_of_release'].astype('int')\n",
    "data_games['critic_score'] = data_games['critic_score'].astype('int')\n",
    "data_games['user_score'] = data_games['user_score'].astype('float')\n",
    "\n",
    "# проверим\n",
    "data_games.info()"
   ]
  },
  {
   "cell_type": "markdown",
   "metadata": {},
   "source": [
    "### Суммарные продажи"
   ]
  },
  {
   "cell_type": "code",
   "execution_count": null,
   "metadata": {},
   "outputs": [],
   "source": [
    "data_games['total_sales'] = (data_games['na_sales'] + data_games['eu_sales'] + data_games['jp_sales'] + data_games['other_sales'])\n",
    "data_games.head()"
   ]
  },
  {
   "cell_type": "markdown",
   "metadata": {},
   "source": [
    "**Вывод**\n",
    "\n",
    "Были приведены названия столбцов к нижнему регистру.\n",
    "\n",
    "Обработали пропуски в столбцах name, year_of_release, critic_score, user_score и rating. Отсутствие данных — это информация о том, что ни рейтинговое агентство ESRB, ни эксперты и пользователи не захотели или не смогли оценить эти игры. Либо как вариант, что какой-то технический фактор причастен к такому большому количеству пропусков.\n",
    "\n",
    "Изменили тип данных столбцов Year_of_Release и Critic_Score на int64, столбец User_Score на float64.\n",
    "\n",
    "Добавили новый столбец total_sales - суммарные продажи во всех регионах."
   ]
  },
  {
   "cell_type": "markdown",
   "metadata": {},
   "source": [
    "## Исследовательский анализ данных"
   ]
  },
  {
   "cell_type": "markdown",
   "metadata": {},
   "source": [
    "### Cколько игр выпускалось в разные годы"
   ]
  },
  {
   "cell_type": "code",
   "execution_count": null,
   "metadata": {},
   "outputs": [],
   "source": [
    "# посмотрим описательную статистику\n",
    "data_games['year_of_release'].describe()"
   ]
  },
  {
   "cell_type": "code",
   "execution_count": null,
   "metadata": {},
   "outputs": [],
   "source": [
    "# построим гистограмму\n",
    "data_games.pivot_table(index='year_of_release', values='name', aggfunc='count').plot(kind='bar', \n",
    "                        grid=True, figsize=(15, 10))\n",
    "plt.title('Динамика выпуска игр по годам')\n",
    "plt.xlabel('Год')\n",
    "plt.ylabel('Количество игр')\n",
    "plt.show()"
   ]
  },
  {
   "cell_type": "markdown",
   "metadata": {},
   "source": [
    "Согласно гистограмме видно, что количество продаваемых игр было малым до 1991 года, далее начался подъем продаж, самый пик продаж - это 2008 - 2009 года, далее произошел спад, но все равно выпускалось достатчно большое количество игр вплоть до 2016 года. Предполагаю, что такой спад связан со стремительным развитием цифровой индустрии - вследствии чего появились мобильные телефоны, общение в социальных сетях и мессенджерах, игры в мобильных телефонах и поэтому комппьютерные игры ушли на второй план. Думаю, что данные важны за все периоды."
   ]
  },
  {
   "cell_type": "markdown",
   "metadata": {},
   "source": [
    "### Как менялись продажи по платформам"
   ]
  },
  {
   "cell_type": "code",
   "execution_count": null,
   "metadata": {},
   "outputs": [],
   "source": [
    "# составим таблицу с общей суммой продаж по каждой платформе\n",
    "data_total_sales = pd.pivot_table(data_games, index=['platform'], values='total_sales', aggfunc='sum')\n",
    "data_total_sales = data_total_sales.sort_values('total_sales',ascending=False)\n",
    "data_total_sales"
   ]
  },
  {
   "cell_type": "markdown",
   "metadata": {},
   "source": [
    "Видим, что максимальные продажи присуще платформам - PS2, X360, PS3, Wii, DS, PS. Построим графики распределение по годам для этих платформ."
   ]
  },
  {
   "cell_type": "code",
   "execution_count": null,
   "metadata": {},
   "outputs": [],
   "source": [
    "# построим гистограммы распределения суммарных продаж топа платформ\n",
    "for platform in data_total_sales.index[:6]:\n",
    "    (data_games\n",
    "     .query('platform == @platform')\n",
    "     .pivot_table(index='year_of_release', values='total_sales', aggfunc='sum')\n",
    "     .plot(kind='bar', grid=True, figsize=(8, 5))\n",
    "    )\n",
    "    plt.title(platform)\n",
    "    plt.xlabel('Год')\n",
    "    plt.ylabel('Cуммарные продажи')\n",
    "    plt.show()"
   ]
  },
  {
   "cell_type": "markdown",
   "metadata": {},
   "source": [
    "PS2: видим продажи с 2000 по 2010 года\n",
    "\n",
    "Х360: видим продажи с 2005 по 2016 года\n",
    "\n",
    "PS3: видим продажи с 2006 по 2016 года\n",
    "Wii: видим продажи с 2006 по 2015 года\n",
    "\n",
    "DS: видим продажи с 2004 по 2013 года\n",
    "\n",
    "PS: видим продажи с 1994 по 2003 года\n",
    "\n",
    "В среднем можно сказать, что платформы существуют 10 лет; также видно, что платформы набирают максимальную популярность в среднем около 4 лет, далее идет пик продаж около 3 лет и соответственно спад."
   ]
  },
  {
   "cell_type": "markdown",
   "metadata": {},
   "source": [
    "### Актуальные данные"
   ]
  },
  {
   "cell_type": "markdown",
   "metadata": {},
   "source": [
    " Думаю, что актуальным периодом для исследования можно считать предшествующие 2017 году - пять лет, получается, что будем рассматривать данные за 2012, 2013, 2014, 2015, 2016 года (года ранее 2012 не берем в учет). Этих данных будет достаточно, чтобы построить прогноз на 2017 год."
   ]
  },
  {
   "cell_type": "markdown",
   "metadata": {},
   "source": [
    "### Какие платформы лидируют по продажам, растут или падают? "
   ]
  },
  {
   "cell_type": "code",
   "execution_count": null,
   "metadata": {},
   "outputs": [],
   "source": [
    "actual_period = data_games[data_games['year_of_release'] >= 2012]\n",
    "actual_period"
   ]
  },
  {
   "cell_type": "code",
   "execution_count": null,
   "metadata": {},
   "outputs": [],
   "source": [
    "# составим таблицу с общей суммой продаж по каждой платформе c 2012 по 2016 года\n",
    "data_actual_period = pd.pivot_table(actual_period, index=['platform'], values='total_sales', aggfunc='sum')\n",
    "data_actual_period = data_actual_period.sort_values('total_sales',ascending=False)\n",
    "data_actual_period"
   ]
  },
  {
   "cell_type": "markdown",
   "metadata": {},
   "source": [
    "Видим, что максимальные продажи за период 2012-2016 годов присуще платформам - PS4, PS3, X360, 3DS, XOne. Этот список отличается от списка за весь период продаж. Построим графики распределение по годам для этих платформ."
   ]
  },
  {
   "cell_type": "code",
   "execution_count": null,
   "metadata": {},
   "outputs": [],
   "source": [
    "# построим гистограммы распределения суммарных продаж топа платформ за период c 2012 по 2016 годов\n",
    "for platform in data_actual_period.index:\n",
    "    (actual_period\n",
    "     .query('platform == @platform')\n",
    "     .pivot_table(index='year_of_release', values='total_sales', aggfunc='sum')\n",
    "     .plot(kind='bar', grid=True, figsize=(7, 5))\n",
    "    )\n",
    "    plt.title(platform)\n",
    "    plt.xlabel('Год')\n",
    "    plt.ylabel('Cуммарные продажи')\n",
    "    plt.show()"
   ]
  },
  {
   "cell_type": "markdown",
   "metadata": {},
   "source": [
    "Видим, что максимальные продажи за период 2012-2016 годов присуще платформам - PS4, PS3, X360, 3DS, XOne. Самые низкие продажи - у PSP.\n",
    "\n",
    "Достаточное падение по продажам видим по платформам - PS3, X360, 3DS, PC, PSV, Wii, DS и PSP. \n",
    "\n",
    "Потенциально прибыльными платформами можно считать - PS4, Wii, XOne."
   ]
  },
  {
   "cell_type": "markdown",
   "metadata": {},
   "source": [
    "### График «ящик с усами» по глобальным продажам игр в разбивке по платформам"
   ]
  },
  {
   "cell_type": "code",
   "execution_count": null,
   "metadata": {},
   "outputs": [],
   "source": [
    "# построим ящик с усами по глобальным продажам игр по платформам за актуальный период\n",
    "actual_period.boxplot(by='platform', column=['total_sales'], figsize=(12,10), patch_artist=True, \n",
    "                      boxprops=dict(facecolor='r', color='b'))\n",
    "plt.ylim(0,3)\n",
    "plt.title('Продажи игр по платформам')\n",
    "plt.xlabel('Платформа')\n",
    "plt.ylabel('Суммарные продажи')\n",
    "plt.show()"
   ]
  },
  {
   "cell_type": "markdown",
   "metadata": {},
   "source": [
    "Согласно графика, видим, что все платформы имеют выбросы, максимальные продажи у платформы - X360, продажи у платформ поменьше, но рядом с Х360 - PS4, Wii и ХOne. Самые низкие продажи у платформ - PSP, PSV."
   ]
  },
  {
   "cell_type": "markdown",
   "metadata": {},
   "source": [
    "### Как влияют на продажи внутри одной популярной платформы отзывы пользователей и критиков"
   ]
  },
  {
   "cell_type": "code",
   "execution_count": null,
   "metadata": {},
   "outputs": [],
   "source": [
    "# посмотрим на примере PS4 - самая популярная платформа\n",
    "# и отфильтруем нулевые выбросы\n",
    "actual_period = actual_period.query('user_score > 0 and critic_score > 0 and total_sales > 0')\n",
    "sns.set_palette(\"dark\")\n",
    "sns.pairplot(actual_period[actual_period.platform == 'PS4'][['total_sales', 'critic_score', 'user_score']]) \n",
    "plt.show()"
   ]
  },
  {
   "cell_type": "code",
   "execution_count": null,
   "metadata": {},
   "outputs": [],
   "source": [
    "# видим нулевые выбросы, это пропуски, которые были заменены на 0, используем корреляцию Спирмена, чтобы отбросить их\n",
    "corr_1 = (actual_period[actual_period.platform == \"PS4\"][['total_sales', 'critic_score', 'user_score']].corr(method='spearman'))\n",
    "corr_1.style.background_gradient(cmap='coolwarm')"
   ]
  },
  {
   "cell_type": "markdown",
   "metadata": {},
   "source": [
    "На сильную положительную корреляцию указывает корреляция между user_score и critic_score - 0,797199, остальные связи являются слабыми."
   ]
  },
  {
   "cell_type": "markdown",
   "metadata": {},
   "source": [
    "### Соотношение вывода с продажами игр на других платформах"
   ]
  },
  {
   "cell_type": "code",
   "execution_count": null,
   "metadata": {},
   "outputs": [],
   "source": [
    "# посмотрим на таблицу корреляции для платформы PS3\n",
    "corr_2 = (actual_period[actual_period.platform == \"PS3\"][['total_sales', 'critic_score', 'user_score']].corr(method='spearman'))\n",
    "corr_2.style.background_gradient(cmap='coolwarm')"
   ]
  },
  {
   "cell_type": "code",
   "execution_count": null,
   "metadata": {},
   "outputs": [],
   "source": [
    "# построим диаграммы рессеяния для PS3\n",
    "# и отфильтруем нулевые выбросы\n",
    "actual_period = actual_period.query('user_score > 0 and critic_score > 0 and total_sales > 0')\n",
    "sns.set_palette(\"dark\")\n",
    "sns.pairplot(actual_period[actual_period.platform == 'PS3'][['total_sales', 'critic_score', 'user_score']]) \n",
    "plt.show()"
   ]
  },
  {
   "cell_type": "code",
   "execution_count": null,
   "metadata": {},
   "outputs": [],
   "source": [
    "# посмотрим на таблицу корреляции для платформы X360\n",
    "corr_3 = (actual_period[actual_period.platform == \"X360\"][['total_sales', 'critic_score', 'user_score']].corr(method='spearman'))\n",
    "corr_3.style.background_gradient(cmap='coolwarm')"
   ]
  },
  {
   "cell_type": "code",
   "execution_count": null,
   "metadata": {},
   "outputs": [],
   "source": [
    "# построим диаграммы рессеяния для Х360\n",
    "# и отфильтруем нулевые выбросы\n",
    "actual_period = actual_period.query('user_score > 0 and critic_score > 0 and total_sales > 0')\n",
    "sns.set_palette(\"dark\")\n",
    "sns.pairplot(actual_period[actual_period.platform == 'X360'][['total_sales', 'critic_score', 'user_score']]) \n",
    "plt.show()"
   ]
  },
  {
   "cell_type": "code",
   "execution_count": null,
   "metadata": {},
   "outputs": [],
   "source": [
    "# посмотрим на таблицу корреляции для платформы 3DS\n",
    "corr_4 = (actual_period[actual_period.platform == \"3DS\"][['total_sales', 'critic_score', 'user_score']].corr(method='spearman'))\n",
    "corr_4.style.background_gradient(cmap='coolwarm')"
   ]
  },
  {
   "cell_type": "code",
   "execution_count": null,
   "metadata": {},
   "outputs": [],
   "source": [
    "# построим диаграммы рессеяния для 3DS\n",
    "# и отфильтруем нулевые выбросы\n",
    "actual_period = actual_period.query('user_score > 0 and critic_score > 0 and total_sales > 0')\n",
    "sns.set_palette(\"dark\")\n",
    "sns.pairplot(actual_period[actual_period.platform == '3DS'][['total_sales', 'critic_score', 'user_score']]) \n",
    "plt.show()"
   ]
  },
  {
   "cell_type": "code",
   "execution_count": null,
   "metadata": {},
   "outputs": [],
   "source": [
    "# посмотрим на таблицу корреляции для платформы Xone\n",
    "corr_5 = (actual_period[actual_period.platform == \"XOne\"][['total_sales', 'critic_score', 'user_score']].corr(method='spearman'))\n",
    "corr_5.style.background_gradient(cmap='coolwarm')"
   ]
  },
  {
   "cell_type": "code",
   "execution_count": null,
   "metadata": {},
   "outputs": [],
   "source": [
    "# построим диаграммы рессеяния для XOne\n",
    "# и отфильтруем нулевые выбросы\n",
    "actual_period = actual_period.query('user_score > 0 and critic_score > 0 and total_sales > 0')\n",
    "sns.set_palette(\"dark\")\n",
    "sns.pairplot(actual_period[actual_period.platform == 'XOne'][['total_sales', 'critic_score', 'user_score']]) \n",
    "plt.show()"
   ]
  },
  {
   "cell_type": "markdown",
   "metadata": {},
   "source": [
    "Самую сильную положительную зависимость можно увидеть для платформы 3DS между user_score и critic_score - 0,907987. Для остальных платформ все зависимости намного слабее."
   ]
  },
  {
   "cell_type": "markdown",
   "metadata": {},
   "source": [
    "### Общее распределение игр по жанрам"
   ]
  },
  {
   "cell_type": "code",
   "execution_count": null,
   "metadata": {},
   "outputs": [],
   "source": [
    "# посмотрим суммарные продажи по жанрам за актуальный период\n",
    "actual_period.pivot_table(index='genre', values='total_sales', aggfunc='median').sort_values('total_sales', \n",
    "                                                                                             ascending=False)"
   ]
  },
  {
   "cell_type": "code",
   "execution_count": null,
   "metadata": {},
   "outputs": [],
   "source": [
    "# построим график распреления суммарных продаж относительно жанра за актуальный период\n",
    "actual_period.pivot_table(index='genre', values='total_sales', aggfunc='sum').sort_values('total_sales', \n",
    "                                    ascending=False).plot(kind='bar', y='total_sales', figsize=(15, 7), legend=False)\n",
    "plt.title('Продажи игр в зависимости от жанра')\n",
    "plt.xlabel('Жанр')\n",
    "plt.ylabel('Cуммарные продажи')\n",
    "plt.show()"
   ]
  },
  {
   "cell_type": "code",
   "execution_count": null,
   "metadata": {},
   "outputs": [],
   "source": [
    "# построим ящик с усами по глобальным продажам игр по жанрам за актуальный период\n",
    "actual_period.boxplot(by='genre', column=['total_sales'], figsize=(20,15), patch_artist=True, \n",
    "                      boxprops=dict(facecolor='r', color='b'))\n",
    "plt.ylim(0,4)\n",
    "plt.title('Продажи игр в зависимости от жанра')\n",
    "plt.xlabel('Жанр')\n",
    "plt.ylabel('Cуммарные продажи')\n",
    "plt.show()"
   ]
  },
  {
   "cell_type": "markdown",
   "metadata": {},
   "source": [
    "С 2012-2016 года в топ-жанров входят - Schooter, Sports и Platform (жанр Shooter значительно выделяется по суммарным продажам относительно других жанров игр). На последнем месте - жанр Puzzle.\n",
    "\n",
    "По большинству жанров присутствует большое количество выбросов."
   ]
  },
  {
   "cell_type": "markdown",
   "metadata": {},
   "source": [
    "**Вывод**\n",
    "\n",
    "Cогласно исследовательскому анализу было выявлено:\n",
    "- Пик продаж игр - это 2008 - 2009 года, далее был спад, но все равно выпускалось достаточно большое количество игр вплоть до 2016. \n",
    "- Максимальные продажи были у платформ - PS2, X360, PS3, Wii, DS, PS. В среднем платформы существуют 10 лет. Максимальную популярность набирают втечении 4 лет, далее идет пик продаж около 3 лет и соответственно спад.\n",
    "- Актуальным периодом для дальнейшего исследования взяли 2012-2016 года. Максимальные продажи за этот период присуще платформам - PS4, PS3, X360, 3DS, XOne. Этот список отличается от списка за весь период продаж. Самые низкие продажи - у PSP. Потенциально прибыльными платформами можно считать - PS4, Wii, XOne.\n",
    "- Сильная положительная корреляция между user_score и critic_score у платформ PS4 и 3DS.\n",
    "- Самыми популярными жанрами за актуальный период являются - Schooter, Sports и Platform. На последнем месте - жанр Puzzle."
   ]
  },
  {
   "cell_type": "markdown",
   "metadata": {},
   "source": [
    "## Портрет пользователя каждого региона"
   ]
  },
  {
   "cell_type": "markdown",
   "metadata": {},
   "source": [
    "### Анализ данных по популярным платформам, популярным жанрам и рейтингу ESRB в регионе NA"
   ]
  },
  {
   "cell_type": "code",
   "execution_count": null,
   "metadata": {},
   "outputs": [],
   "source": [
    "# cохраним в переменную рейтинг продаж по Северной Америке для каждой платформы\n",
    "platform_na = pd.pivot_table(actual_period, index='platform', values='na_sales',\n",
    "                                        aggfunc='sum').sort_values('na_sales', ascending=False)\n",
    "platform_na "
   ]
  },
  {
   "cell_type": "code",
   "execution_count": null,
   "metadata": {},
   "outputs": [],
   "source": [
    "# построим диаграмму для топ-5 платформ по продажам в Северной Америке\n",
    "plt.figure(figsize=(10,7))\n",
    "platform_na_graph = platform_na[:5].reset_index()\n",
    "plt.pie(platform_na_graph['na_sales'],labels=platform_na_graph['platform'], autopct='%1.1f%%')\n",
    "plt.axis('equal')\n",
    "plt.show()"
   ]
  },
  {
   "cell_type": "code",
   "execution_count": null,
   "metadata": {},
   "outputs": [],
   "source": [
    "# cохраним в переменную рейтинг продаж по Северной Америке для каждого жанра\n",
    "genre_na = pd.pivot_table(actual_period, index='genre', values='na_sales',\n",
    "                                        aggfunc='sum').sort_values('na_sales', ascending=False)\n",
    "genre_na"
   ]
  },
  {
   "cell_type": "code",
   "execution_count": null,
   "metadata": {},
   "outputs": [],
   "source": [
    "# построим диаграмму для топ-5 жанров по продажам в Северной Америке\n",
    "plt.figure(figsize=(10,7))\n",
    "genre_na_graph = genre_na[:5].reset_index()\n",
    "plt.pie(genre_na_graph['na_sales'],labels=genre_na_graph['genre'], autopct='%1.1f%%')\n",
    "plt.axis('equal')\n",
    "plt.show()"
   ]
  },
  {
   "cell_type": "code",
   "execution_count": null,
   "metadata": {},
   "outputs": [],
   "source": [
    "# cохраним в переменную рейтинг продаж по Северной Америке для каждого рейтинга\n",
    "rating_na = pd.pivot_table(actual_period, index='rating', values='na_sales',\n",
    "                                        aggfunc='sum').sort_values('na_sales', ascending=False)\n",
    "rating_na"
   ]
  },
  {
   "cell_type": "code",
   "execution_count": null,
   "metadata": {
    "scrolled": true
   },
   "outputs": [],
   "source": [
    "# построим диаграмму для топ-5 рейтингов по продажам в Северной Америке\n",
    "plt.figure(figsize=(9,6))\n",
    "rating_na_graph = rating_na.reset_index()\n",
    "plt.pie(rating_na_graph['na_sales'],labels=rating_na_graph['rating'], autopct='%1.1f%%')\n",
    "plt.axis('equal')\n",
    "plt.show()"
   ]
  },
  {
   "cell_type": "markdown",
   "metadata": {},
   "source": [
    "Топ-5 платформ по продажам в Северной Америке - X360, PS4, PS3, XOne и 3DS.\n",
    "Топ-5 жанров по продажам в Северной Америке - Action, Shooter, Sports, Role-Playing\tи Misc.\n",
    "Самым популярным рейтингом по продажам является - М."
   ]
  },
  {
   "cell_type": "markdown",
   "metadata": {},
   "source": [
    "### Анализ данных по популярным платформам, популярным жанрам и рейтингу ESRB в регионе EU"
   ]
  },
  {
   "cell_type": "code",
   "execution_count": null,
   "metadata": {},
   "outputs": [],
   "source": [
    "# cохраним в переменную рейтинг продаж по Европе для каждой платформы\n",
    "platform_eu = pd.pivot_table(actual_period, index='platform', values='eu_sales',\n",
    "                                        aggfunc='sum').sort_values('eu_sales', ascending=False)\n",
    "platform_eu "
   ]
  },
  {
   "cell_type": "code",
   "execution_count": null,
   "metadata": {},
   "outputs": [],
   "source": [
    "# построим диаграмму для топ-5 платформ по продажам в Европе\n",
    "plt.figure(figsize=(10,7))\n",
    "platform_eu_graph = platform_eu[:5].reset_index()\n",
    "plt.pie(platform_eu_graph['eu_sales'],labels=platform_eu_graph['platform'], autopct='%1.1f%%')\n",
    "plt.axis('equal')\n",
    "plt.show()"
   ]
  },
  {
   "cell_type": "code",
   "execution_count": null,
   "metadata": {},
   "outputs": [],
   "source": [
    "# cохраним в переменную рейтинг продаж по Европе для каждого жанра\n",
    "genre_eu = pd.pivot_table(actual_period, index='genre', values='eu_sales',\n",
    "                                        aggfunc='sum').sort_values('eu_sales', ascending=False)\n",
    "genre_eu"
   ]
  },
  {
   "cell_type": "code",
   "execution_count": null,
   "metadata": {},
   "outputs": [],
   "source": [
    "# построим диаграмму для топ-5 жанров по продажам в Европе\n",
    "plt.figure(figsize=(10,7))\n",
    "genre_eu_graph = genre_eu[:5].reset_index()\n",
    "plt.pie(genre_eu_graph['eu_sales'],labels=genre_eu_graph['genre'], autopct='%1.1f%%')\n",
    "plt.axis('equal')\n",
    "plt.show()"
   ]
  },
  {
   "cell_type": "code",
   "execution_count": null,
   "metadata": {},
   "outputs": [],
   "source": [
    "# cохраним в переменную рейтинг продаж по Европе для каждого рейтинга\n",
    "rating_eu = pd.pivot_table(actual_period, index='rating', values='eu_sales',\n",
    "                                        aggfunc='sum').sort_values('eu_sales', ascending=False)\n",
    "rating_eu"
   ]
  },
  {
   "cell_type": "code",
   "execution_count": null,
   "metadata": {},
   "outputs": [],
   "source": [
    "# построим диаграмму для топ-5 рейтингов по продажам в Европе\n",
    "plt.figure(figsize=(9,6))\n",
    "rating_eu_graph = rating_eu.reset_index()\n",
    "plt.pie(rating_eu_graph['eu_sales'],labels=rating_eu_graph['rating'], autopct='%1.1f%%')\n",
    "plt.axis('equal')\n",
    "plt.show()"
   ]
  },
  {
   "cell_type": "markdown",
   "metadata": {},
   "source": [
    "Топ-5 платформ по продажам в Европе - PS4, PS3, X360, XOne и 3DS. Топ-5 жанров по продажам в Европе - Action, Shooter, Sports, Role-Playing и Misc. Самым популярным рейтингом по продажам является - М."
   ]
  },
  {
   "cell_type": "markdown",
   "metadata": {},
   "source": [
    "### Анализ данных по популярным платформам, популярным жанрам и рейтингу ESRB в регионе JP"
   ]
  },
  {
   "cell_type": "code",
   "execution_count": null,
   "metadata": {},
   "outputs": [],
   "source": [
    "# cохраним в переменную рейтинг продаж по Японии для каждой платформы\n",
    "platform_jp = pd.pivot_table(actual_period, index='platform', values='jp_sales',\n",
    "                                        aggfunc='sum').sort_values('jp_sales', ascending=False)\n",
    "platform_jp "
   ]
  },
  {
   "cell_type": "code",
   "execution_count": null,
   "metadata": {},
   "outputs": [],
   "source": [
    "# построим диаграмму для топ-5 платформ по продажам в Японии\n",
    "plt.figure(figsize=(10,7))\n",
    "platform_jp_graph = platform_jp[:5].reset_index()\n",
    "plt.pie(platform_jp_graph['jp_sales'],labels=platform_jp_graph['platform'], autopct='%1.1f%%')\n",
    "plt.axis('equal')\n",
    "plt.show()"
   ]
  },
  {
   "cell_type": "code",
   "execution_count": null,
   "metadata": {},
   "outputs": [],
   "source": [
    "# cохраним в переменную рейтинг продаж по Японии для каждого жанра\n",
    "genre_jp = pd.pivot_table(actual_period, index='genre', values='jp_sales',\n",
    "                                        aggfunc='sum').sort_values('jp_sales', ascending=False)\n",
    "genre_jp"
   ]
  },
  {
   "cell_type": "code",
   "execution_count": null,
   "metadata": {},
   "outputs": [],
   "source": [
    "# построим диаграмму для топ-5 жанров по продажам в Японии\n",
    "plt.figure(figsize=(10,7))\n",
    "genre_jp_graph = genre_jp[:5].reset_index()\n",
    "plt.pie(genre_jp_graph['jp_sales'],labels=genre_jp_graph['genre'], autopct='%1.1f%%')\n",
    "plt.axis('equal')\n",
    "plt.show()"
   ]
  },
  {
   "cell_type": "code",
   "execution_count": null,
   "metadata": {},
   "outputs": [],
   "source": [
    "# cохраним в переменную рейтинг продаж по Японии для каждого рейтинга\n",
    "rating_jp = pd.pivot_table(actual_period, index='rating', values='jp_sales',\n",
    "                                        aggfunc='sum').sort_values('jp_sales', ascending=False)\n",
    "rating_jp"
   ]
  },
  {
   "cell_type": "code",
   "execution_count": null,
   "metadata": {},
   "outputs": [],
   "source": [
    "# построим диаграмму для топ-5 рейтингов по продажам в Японии\n",
    "plt.figure(figsize=(9,6))\n",
    "rating_jp_graph = rating_jp.reset_index()\n",
    "plt.pie(rating_jp_graph['jp_sales'],labels=rating_jp_graph['rating'], autopct='%1.1f%%')\n",
    "plt.axis('equal')\n",
    "plt.show()"
   ]
  },
  {
   "cell_type": "markdown",
   "metadata": {},
   "source": [
    "Топ-5 платформ по продажам в Японии - 3DS, PS3, PSV,PS4 и Wii. Топ-5 жанров по продажам в Японии - Role-Playing, Action, Misc, Simulation и Fighting. Самый популярный рейтинг по продажам не определен, второй по популярности - Е."
   ]
  },
  {
   "cell_type": "markdown",
   "metadata": {},
   "source": [
    "**Вывод**\n",
    "\n",
    "Исходя из полученных данных, выяснили, что в Северной Америке предпочитают игры на платформе Х360 жанра Action с рейтингом М. В Европе игры на платформе PS4 жанра Action с рейтингом М. В Японии же на платформе 3DS жанра Role-Playing с рейтингом Е."
   ]
  },
  {
   "cell_type": "markdown",
   "metadata": {},
   "source": [
    "## Проверка гипотез"
   ]
  },
  {
   "cell_type": "markdown",
   "metadata": {},
   "source": [
    "### Средние пользовательские рейтинги платформ Xbox One и PC одинаковые"
   ]
  },
  {
   "cell_type": "markdown",
   "metadata": {},
   "source": [
    "Гипотеза Н0: Средние пользовательские рейтинги платформ Xbox One и PC одинаковые.\n",
    "\n",
    "Гипотеза Н1: Средние пользовательские рейтинги платформ Xbox One и PC не одинаковые."
   ]
  },
  {
   "cell_type": "code",
   "execution_count": null,
   "metadata": {},
   "outputs": [],
   "source": [
    "alpha = 0.05\n",
    "results = st.ttest_ind(\n",
    "    actual_period.loc[actual_period['platform'] == 'XOne', 'user_score'].dropna(),\n",
    "    actual_period.loc[actual_period['platform'] == 'PC', 'user_score'].dropna(),\n",
    "    equal_var=False,\n",
    "    alternative='two-sided'\n",
    ")\n",
    "\n",
    "print(results.pvalue)\n",
    "if results.pvalue < alpha:\n",
    "    print('Отвергаем нулевую гипотезу')\n",
    "else:\n",
    "    print('Не получилось отвергнуть нулевую минуту')"
   ]
  },
  {
   "cell_type": "markdown",
   "metadata": {},
   "source": [
    "### Средние пользовательские рейтинги жанров Action и Sports разные"
   ]
  },
  {
   "cell_type": "markdown",
   "metadata": {},
   "source": [
    "Гипотеза Н0: Средние пользовательские рейтинги жанров Action и Sports одинаковые.\n",
    "\n",
    "Гипотеза Н1: Средние пользовательские рейтинги платформ Action и Sports не одинаковые."
   ]
  },
  {
   "cell_type": "code",
   "execution_count": null,
   "metadata": {},
   "outputs": [],
   "source": [
    "alpha = 0.05\n",
    "results = st.ttest_ind(\n",
    "    actual_period.loc[actual_period['genre'] == 'Action', 'user_score'].dropna(),\n",
    "    actual_period.loc[actual_period['genre'] == 'Sports', 'user_score'].dropna(),\n",
    "    equal_var=False,\n",
    "    alternative='two-sided'\n",
    ")\n",
    "\n",
    "print(results.pvalue)\n",
    "if results.pvalue < alpha:\n",
    "    print('Отвергаем нулевую гипотезу')\n",
    "else:\n",
    "    print('Не получилось отвергнуть нулевую минуту')"
   ]
  },
  {
   "cell_type": "markdown",
   "metadata": {},
   "source": [
    "**Вывод**\n",
    "\n",
    "Первая гипотеза о том, что средние пользовательские рейтинги платформ Xbox One и PC одинаковые - подтвердилась. Это означает, что пользователи ставят примерно одинаковые оценки играм на плаформах Xbox One и PC.\n",
    "\n",
    "Во второй гипотезе задание не удовлетворяет условия для составления нулевой гипотезы, т.к. сравнимаемые величины не равны. Для решения поменяли условия, если отвергнем нулевую гипотезу, значит подтвердим, что рейтинги разные. \n",
    "Было определено, что средние пользовательские рейтинги жанров Action и Sports разные."
   ]
  },
  {
   "cell_type": "markdown",
   "metadata": {},
   "source": [
    "## Общий вывод"
   ]
  },
  {
   "cell_type": "markdown",
   "metadata": {},
   "source": [
    "1. Цель проекта - выявить определяющие успешность игры закономерности, которые позволят сделать ставку на потенциально популярный продукт и спланировать рекламные кампании.\n",
    "\n",
    "\n",
    "2. В пункте Загрузка и предобработка данных было выполнено:\n",
    "- привели названия столбцов к нижнему регистру;\n",
    "- изменили тип данных столбцов Year_of_Release и Critic_Score на int64, столбец User_Score на float64;\n",
    "- обработали пропуски в столбцах name, year_of_release, critic_score, user_score и rating. Отсутствие данных — это информация о том, что ни рейтинговое агентство ESRB, ни эксперты и пользователи не захотели или не смогли оценить эти игры. Либо как вариант, что какой-то технический фактор причастен к такому большому количеству пропусков;\n",
    "- добавили новый столбец total_sales - суммарные продажи во всех регионах.\n",
    "\n",
    "\n",
    "3. Cогласно исследовательскому анализу было выявлено:\n",
    "- пик продаж игр - это 2008 - 2009 года, далее был спад, но все равно выпускалось достаточно большое количество игр вплоть до 2016;\n",
    "- максимальные продажи были у платформ - PS2, X360, PS3, Wii, DS, PS. В среднем платформы существуют 10 лет. Максимальную популярность набирают втечении 4 лет, далее идет пик продаж около 3 лет и соответственно спад;\n",
    "- актуальным периодом для дальнейшего был взят 2012-2016 года. Максимальные продажи за этот период присуще платформам - PS4, PS3, X360, 3DS, XOne. Этот список отличается от списка за весь период продаж. Самые низкие продажи - у PSP. Потенциально прибыльными платформами можно считать - PS4, Wii, XOne.\n",
    "- Сильная положительная корреляция между user_score и critic_score у платформ PS4 и 3DS. Самыми популярными жанрами за актуальный период являются - Schooter, Sports и Platform. На последнем месте - жанр Puzzle.\n",
    "- были построены графики распределения, графики \"ящик с усами\" и матрицы корреляции, благодаря которым были сделаны выводы выше.\n",
    "\n",
    "\n",
    "4. Проанализировав данные, в том числе при помощи визуализации ввиде диаграмм составили портрет пользвателя для каждого региона: в Северной Америке предпочитают игры на платформе Х360 жанра Action с рейтингом М. В Европе игры на платформе PS4 жанра Action с рейтингом М. В Японии же на платформе 3DS жанра Role-Playing с рейтингом Е.\n",
    "\n",
    "\n",
    "5. И подтвердили гипотезы о том, что средние пользовательские рейтинги платформ Xbox One и PC одинаковые и ,что средние пользовательские рейтинги платформ Action и Sports разные.\n",
    "\n",
    "\n",
    "6. Рекомендации для рекламных кампаний: рекламные кампании должны быть направлены на игры платформы Х360 жанра Action с рейтингом М для пользователей Северной Америки, для европейских пользвателей на игры для  платформы PS4 жанра Action с рейтингом М и для японских пользвателей на игры для платформы 3DS жанра Role-Playing с рейтингом Е.\n",
    "\n",
    "Спасибо за внимание!"
   ]
  }
 ],
 "metadata": {
  "ExecuteTimeLog": [
   {
    "duration": 1518,
    "start_time": "2024-09-09T14:46:17.390Z"
   },
   {
    "duration": 150,
    "start_time": "2024-09-09T14:52:47.806Z"
   },
   {
    "duration": 165,
    "start_time": "2024-09-09T14:52:59.623Z"
   },
   {
    "duration": 57,
    "start_time": "2024-09-09T14:53:02.517Z"
   },
   {
    "duration": 22,
    "start_time": "2024-09-09T14:54:49.417Z"
   },
   {
    "duration": 16,
    "start_time": "2024-09-09T14:55:40.796Z"
   },
   {
    "duration": 16,
    "start_time": "2024-09-09T15:02:05.567Z"
   },
   {
    "duration": 13,
    "start_time": "2024-09-09T15:02:27.746Z"
   },
   {
    "duration": 30,
    "start_time": "2024-09-09T15:05:42.951Z"
   },
   {
    "duration": 15,
    "start_time": "2024-09-09T16:43:52.493Z"
   },
   {
    "duration": 25,
    "start_time": "2024-09-09T16:44:00.752Z"
   },
   {
    "duration": 3,
    "start_time": "2024-09-09T16:45:21.714Z"
   },
   {
    "duration": 24,
    "start_time": "2024-09-09T16:49:55.004Z"
   },
   {
    "duration": 14,
    "start_time": "2024-09-09T16:50:21.200Z"
   },
   {
    "duration": 16,
    "start_time": "2024-09-09T16:51:22.775Z"
   },
   {
    "duration": 1340,
    "start_time": "2024-09-09T16:52:17.799Z"
   },
   {
    "duration": 63,
    "start_time": "2024-09-09T16:52:19.141Z"
   },
   {
    "duration": 23,
    "start_time": "2024-09-09T16:52:19.205Z"
   },
   {
    "duration": 21,
    "start_time": "2024-09-09T16:52:19.231Z"
   },
   {
    "duration": 44,
    "start_time": "2024-09-09T16:52:19.257Z"
   },
   {
    "duration": 15,
    "start_time": "2024-09-09T16:52:19.303Z"
   },
   {
    "duration": 161,
    "start_time": "2024-09-09T16:52:19.319Z"
   },
   {
    "duration": 15,
    "start_time": "2024-09-09T16:54:45.566Z"
   },
   {
    "duration": 14,
    "start_time": "2024-09-09T17:00:26.119Z"
   },
   {
    "duration": 81,
    "start_time": "2024-09-09T17:00:46.884Z"
   },
   {
    "duration": 121,
    "start_time": "2024-09-09T17:01:00.379Z"
   },
   {
    "duration": 75,
    "start_time": "2024-09-09T17:01:16.072Z"
   },
   {
    "duration": 9,
    "start_time": "2024-09-09T17:01:24.395Z"
   },
   {
    "duration": 9,
    "start_time": "2024-09-09T17:01:49.590Z"
   },
   {
    "duration": 94,
    "start_time": "2024-09-09T17:03:17.267Z"
   },
   {
    "duration": 24,
    "start_time": "2024-09-09T17:03:54.792Z"
   },
   {
    "duration": 34,
    "start_time": "2024-09-09T17:04:47.763Z"
   },
   {
    "duration": 22,
    "start_time": "2024-09-09T17:05:27.022Z"
   },
   {
    "duration": 38,
    "start_time": "2024-09-09T17:22:29.247Z"
   },
   {
    "duration": 31,
    "start_time": "2024-09-09T17:22:50.579Z"
   },
   {
    "duration": 21,
    "start_time": "2024-09-09T17:27:38.381Z"
   },
   {
    "duration": 10,
    "start_time": "2024-09-09T17:35:08.972Z"
   },
   {
    "duration": 44,
    "start_time": "2024-09-11T08:56:08.349Z"
   },
   {
    "duration": 1338,
    "start_time": "2024-09-11T08:56:22.033Z"
   },
   {
    "duration": 0,
    "start_time": "2024-09-11T08:56:23.372Z"
   },
   {
    "duration": 0,
    "start_time": "2024-09-11T08:56:23.373Z"
   },
   {
    "duration": 0,
    "start_time": "2024-09-11T08:56:23.374Z"
   },
   {
    "duration": 0,
    "start_time": "2024-09-11T08:56:23.375Z"
   },
   {
    "duration": 0,
    "start_time": "2024-09-11T08:56:23.376Z"
   },
   {
    "duration": 0,
    "start_time": "2024-09-11T08:56:23.376Z"
   },
   {
    "duration": 0,
    "start_time": "2024-09-11T08:56:23.377Z"
   },
   {
    "duration": 0,
    "start_time": "2024-09-11T08:56:23.378Z"
   },
   {
    "duration": 0,
    "start_time": "2024-09-11T08:56:23.379Z"
   },
   {
    "duration": 1109,
    "start_time": "2024-09-11T08:57:11.562Z"
   },
   {
    "duration": 183,
    "start_time": "2024-09-11T08:57:12.673Z"
   },
   {
    "duration": 18,
    "start_time": "2024-09-11T08:57:12.857Z"
   },
   {
    "duration": 21,
    "start_time": "2024-09-11T08:57:12.877Z"
   },
   {
    "duration": 23,
    "start_time": "2024-09-11T08:57:12.901Z"
   },
   {
    "duration": 11,
    "start_time": "2024-09-11T08:57:12.926Z"
   },
   {
    "duration": 25,
    "start_time": "2024-09-11T08:57:12.938Z"
   },
   {
    "duration": 9,
    "start_time": "2024-09-11T08:57:12.964Z"
   },
   {
    "duration": 106,
    "start_time": "2024-09-11T08:57:12.974Z"
   },
   {
    "duration": 0,
    "start_time": "2024-09-11T08:57:13.082Z"
   },
   {
    "duration": 1106,
    "start_time": "2024-09-11T09:12:43.514Z"
   },
   {
    "duration": 48,
    "start_time": "2024-09-11T09:12:44.622Z"
   },
   {
    "duration": 16,
    "start_time": "2024-09-11T09:12:44.672Z"
   },
   {
    "duration": 18,
    "start_time": "2024-09-11T09:12:44.689Z"
   },
   {
    "duration": 26,
    "start_time": "2024-09-11T09:12:44.708Z"
   },
   {
    "duration": 23,
    "start_time": "2024-09-11T09:12:44.736Z"
   },
   {
    "duration": 19,
    "start_time": "2024-09-11T09:12:44.760Z"
   },
   {
    "duration": 8,
    "start_time": "2024-09-11T09:12:44.780Z"
   },
   {
    "duration": 113,
    "start_time": "2024-09-11T09:12:44.789Z"
   },
   {
    "duration": 15,
    "start_time": "2024-09-11T14:33:56.201Z"
   },
   {
    "duration": 14,
    "start_time": "2024-09-11T14:44:03.790Z"
   },
   {
    "duration": 1173,
    "start_time": "2024-09-11T14:44:09.063Z"
   },
   {
    "duration": 55,
    "start_time": "2024-09-11T14:44:10.237Z"
   },
   {
    "duration": 18,
    "start_time": "2024-09-11T14:44:10.293Z"
   },
   {
    "duration": 20,
    "start_time": "2024-09-11T14:44:10.313Z"
   },
   {
    "duration": 27,
    "start_time": "2024-09-11T14:44:10.335Z"
   },
   {
    "duration": 21,
    "start_time": "2024-09-11T14:44:10.363Z"
   },
   {
    "duration": 21,
    "start_time": "2024-09-11T14:44:10.386Z"
   },
   {
    "duration": 10,
    "start_time": "2024-09-11T14:44:10.409Z"
   },
   {
    "duration": 15,
    "start_time": "2024-09-11T14:44:10.420Z"
   },
   {
    "duration": 135,
    "start_time": "2024-09-11T14:44:10.437Z"
   },
   {
    "duration": 50,
    "start_time": "2024-09-11T14:48:08.446Z"
   },
   {
    "duration": 106,
    "start_time": "2024-09-11T14:48:19.971Z"
   },
   {
    "duration": 60,
    "start_time": "2024-09-11T14:48:51.930Z"
   },
   {
    "duration": 4,
    "start_time": "2024-09-11T14:48:57.043Z"
   },
   {
    "duration": 49,
    "start_time": "2024-09-11T14:51:23.877Z"
   },
   {
    "duration": 3,
    "start_time": "2024-09-11T14:51:35.343Z"
   },
   {
    "duration": 10,
    "start_time": "2024-09-11T14:51:44.278Z"
   },
   {
    "duration": 10,
    "start_time": "2024-09-11T14:52:15.196Z"
   },
   {
    "duration": 10,
    "start_time": "2024-09-11T14:52:33.148Z"
   },
   {
    "duration": 3,
    "start_time": "2024-09-11T14:52:41.658Z"
   },
   {
    "duration": 55,
    "start_time": "2024-09-11T14:52:54.499Z"
   },
   {
    "duration": 5,
    "start_time": "2024-09-11T14:53:00.652Z"
   },
   {
    "duration": 56,
    "start_time": "2024-09-11T14:53:04.622Z"
   },
   {
    "duration": 53,
    "start_time": "2024-09-11T14:53:10.034Z"
   },
   {
    "duration": 51,
    "start_time": "2024-09-11T14:53:21.400Z"
   },
   {
    "duration": 49,
    "start_time": "2024-09-11T14:53:27.197Z"
   },
   {
    "duration": 51,
    "start_time": "2024-09-11T14:53:36.937Z"
   },
   {
    "duration": 4,
    "start_time": "2024-09-11T14:53:59.365Z"
   },
   {
    "duration": 3,
    "start_time": "2024-09-11T14:54:15.263Z"
   },
   {
    "duration": 3,
    "start_time": "2024-09-11T14:54:27.208Z"
   },
   {
    "duration": 3,
    "start_time": "2024-09-11T14:54:34.014Z"
   },
   {
    "duration": 1245,
    "start_time": "2024-09-11T14:59:29.445Z"
   },
   {
    "duration": 58,
    "start_time": "2024-09-11T14:59:30.692Z"
   },
   {
    "duration": 25,
    "start_time": "2024-09-11T14:59:30.752Z"
   },
   {
    "duration": 27,
    "start_time": "2024-09-11T14:59:30.779Z"
   },
   {
    "duration": 28,
    "start_time": "2024-09-11T14:59:30.808Z"
   },
   {
    "duration": 14,
    "start_time": "2024-09-11T14:59:30.838Z"
   },
   {
    "duration": 32,
    "start_time": "2024-09-11T14:59:30.853Z"
   },
   {
    "duration": 8,
    "start_time": "2024-09-11T14:59:30.887Z"
   },
   {
    "duration": 32,
    "start_time": "2024-09-11T14:59:30.896Z"
   },
   {
    "duration": 16,
    "start_time": "2024-09-11T14:59:30.930Z"
   },
   {
    "duration": 0,
    "start_time": "2024-09-11T14:59:30.947Z"
   },
   {
    "duration": 2,
    "start_time": "2024-09-11T14:59:46.184Z"
   },
   {
    "duration": 45,
    "start_time": "2024-09-11T14:59:53.286Z"
   },
   {
    "duration": 92,
    "start_time": "2024-09-11T15:00:01.874Z"
   },
   {
    "duration": 55,
    "start_time": "2024-09-11T15:00:14.766Z"
   },
   {
    "duration": 54,
    "start_time": "2024-09-11T15:00:24.799Z"
   },
   {
    "duration": 52,
    "start_time": "2024-09-11T15:00:33.662Z"
   },
   {
    "duration": 49,
    "start_time": "2024-09-11T15:00:49.121Z"
   },
   {
    "duration": 75,
    "start_time": "2024-09-11T15:00:54.073Z"
   },
   {
    "duration": 49,
    "start_time": "2024-09-11T15:00:57.868Z"
   },
   {
    "duration": 58,
    "start_time": "2024-09-11T15:01:26.895Z"
   },
   {
    "duration": 4,
    "start_time": "2024-09-11T15:01:34.246Z"
   },
   {
    "duration": 4,
    "start_time": "2024-09-11T15:01:43.570Z"
   },
   {
    "duration": 4,
    "start_time": "2024-09-11T15:02:08.503Z"
   },
   {
    "duration": 4,
    "start_time": "2024-09-11T15:02:35.844Z"
   },
   {
    "duration": 4,
    "start_time": "2024-09-11T15:02:54.057Z"
   },
   {
    "duration": 3,
    "start_time": "2024-09-11T15:03:14.686Z"
   },
   {
    "duration": 53,
    "start_time": "2024-09-11T15:03:24.721Z"
   },
   {
    "duration": 53,
    "start_time": "2024-09-11T15:03:49.709Z"
   },
   {
    "duration": 69,
    "start_time": "2024-09-11T15:04:08.620Z"
   },
   {
    "duration": 49,
    "start_time": "2024-09-11T15:04:11.473Z"
   },
   {
    "duration": 57,
    "start_time": "2024-09-11T15:04:25.983Z"
   },
   {
    "duration": 43,
    "start_time": "2024-09-11T15:04:52.106Z"
   },
   {
    "duration": 48,
    "start_time": "2024-09-11T15:04:58.472Z"
   },
   {
    "duration": 68,
    "start_time": "2024-09-11T15:05:32.836Z"
   },
   {
    "duration": 3,
    "start_time": "2024-09-11T15:05:41.863Z"
   },
   {
    "duration": 4,
    "start_time": "2024-09-11T15:05:52.989Z"
   },
   {
    "duration": 55,
    "start_time": "2024-09-11T15:06:08.735Z"
   },
   {
    "duration": 3,
    "start_time": "2024-09-11T15:06:15.130Z"
   },
   {
    "duration": 3,
    "start_time": "2024-09-11T15:06:28.701Z"
   },
   {
    "duration": 4,
    "start_time": "2024-09-11T15:06:43.764Z"
   },
   {
    "duration": 5,
    "start_time": "2024-09-11T15:10:16.013Z"
   },
   {
    "duration": 57,
    "start_time": "2024-09-11T15:10:48.968Z"
   },
   {
    "duration": 5,
    "start_time": "2024-09-11T15:10:57.937Z"
   },
   {
    "duration": 12,
    "start_time": "2024-09-11T15:15:15.202Z"
   },
   {
    "duration": 6,
    "start_time": "2024-09-11T15:22:33.106Z"
   },
   {
    "duration": 2,
    "start_time": "2024-09-11T15:31:23.196Z"
   },
   {
    "duration": 11,
    "start_time": "2024-09-11T19:06:05.269Z"
   },
   {
    "duration": 9,
    "start_time": "2024-09-11T19:06:26.234Z"
   },
   {
    "duration": 8,
    "start_time": "2024-09-11T19:10:06.041Z"
   },
   {
    "duration": 8,
    "start_time": "2024-09-11T19:13:16.028Z"
   },
   {
    "duration": 7,
    "start_time": "2024-09-11T19:31:21.784Z"
   },
   {
    "duration": 58,
    "start_time": "2024-09-12T09:16:08.415Z"
   },
   {
    "duration": 1451,
    "start_time": "2024-09-12T09:16:17.376Z"
   },
   {
    "duration": 238,
    "start_time": "2024-09-12T09:16:18.829Z"
   },
   {
    "duration": 20,
    "start_time": "2024-09-12T09:16:19.069Z"
   },
   {
    "duration": 31,
    "start_time": "2024-09-12T09:16:19.093Z"
   },
   {
    "duration": 29,
    "start_time": "2024-09-12T09:16:19.125Z"
   },
   {
    "duration": 14,
    "start_time": "2024-09-12T09:16:19.156Z"
   },
   {
    "duration": 55,
    "start_time": "2024-09-12T09:16:19.171Z"
   },
   {
    "duration": 10,
    "start_time": "2024-09-12T09:16:19.227Z"
   },
   {
    "duration": 15,
    "start_time": "2024-09-12T09:16:19.239Z"
   },
   {
    "duration": 5,
    "start_time": "2024-09-12T09:16:19.256Z"
   },
   {
    "duration": 15,
    "start_time": "2024-09-12T09:16:19.262Z"
   },
   {
    "duration": 31,
    "start_time": "2024-09-12T09:16:19.278Z"
   },
   {
    "duration": 13,
    "start_time": "2024-09-12T09:16:19.310Z"
   },
   {
    "duration": 11,
    "start_time": "2024-09-12T09:16:19.325Z"
   },
   {
    "duration": 13,
    "start_time": "2024-09-12T09:16:19.337Z"
   },
   {
    "duration": 12,
    "start_time": "2024-09-12T09:16:19.351Z"
   },
   {
    "duration": 6,
    "start_time": "2024-09-12T09:16:19.365Z"
   },
   {
    "duration": 40,
    "start_time": "2024-09-12T09:16:19.372Z"
   },
   {
    "duration": 4,
    "start_time": "2024-09-12T09:16:37.793Z"
   },
   {
    "duration": 112,
    "start_time": "2024-09-12T09:16:55.914Z"
   },
   {
    "duration": 10,
    "start_time": "2024-09-12T09:17:05.810Z"
   },
   {
    "duration": 9,
    "start_time": "2024-09-12T09:19:46.147Z"
   },
   {
    "duration": 7,
    "start_time": "2024-09-12T09:22:45.592Z"
   },
   {
    "duration": 6,
    "start_time": "2024-09-12T09:23:50.491Z"
   },
   {
    "duration": 7,
    "start_time": "2024-09-12T09:23:55.226Z"
   },
   {
    "duration": 6,
    "start_time": "2024-09-12T09:24:02.535Z"
   },
   {
    "duration": 6,
    "start_time": "2024-09-12T09:24:08.521Z"
   },
   {
    "duration": 11,
    "start_time": "2024-09-12T09:25:02.954Z"
   },
   {
    "duration": 7,
    "start_time": "2024-09-12T09:25:16.785Z"
   },
   {
    "duration": 8,
    "start_time": "2024-09-12T09:28:54.528Z"
   },
   {
    "duration": 8,
    "start_time": "2024-09-12T09:29:39.916Z"
   },
   {
    "duration": 7,
    "start_time": "2024-09-12T09:31:17.744Z"
   },
   {
    "duration": 8,
    "start_time": "2024-09-12T11:11:50.272Z"
   },
   {
    "duration": 16,
    "start_time": "2024-09-12T11:15:26.253Z"
   },
   {
    "duration": 17,
    "start_time": "2024-09-12T11:20:56.417Z"
   },
   {
    "duration": 18,
    "start_time": "2024-09-12T11:21:06.393Z"
   },
   {
    "duration": 21,
    "start_time": "2024-09-12T11:21:14.231Z"
   },
   {
    "duration": 16,
    "start_time": "2024-09-12T11:21:31.941Z"
   },
   {
    "duration": 9,
    "start_time": "2024-09-12T12:49:36.743Z"
   },
   {
    "duration": 11,
    "start_time": "2024-09-12T12:58:29.442Z"
   },
   {
    "duration": 381,
    "start_time": "2024-09-12T12:58:37.358Z"
   },
   {
    "duration": 375,
    "start_time": "2024-09-12T12:58:55.673Z"
   },
   {
    "duration": 372,
    "start_time": "2024-09-12T12:59:06.385Z"
   },
   {
    "duration": 469,
    "start_time": "2024-09-12T12:59:18.199Z"
   },
   {
    "duration": 1157,
    "start_time": "2024-09-12T13:49:33.217Z"
   },
   {
    "duration": 376,
    "start_time": "2024-09-12T13:51:40.213Z"
   },
   {
    "duration": 3,
    "start_time": "2024-09-12T19:46:59.171Z"
   },
   {
    "duration": 520,
    "start_time": "2024-09-12T19:51:25.379Z"
   },
   {
    "duration": 420,
    "start_time": "2024-09-12T19:51:48.606Z"
   },
   {
    "duration": 57,
    "start_time": "2024-09-13T08:30:57.723Z"
   },
   {
    "duration": 1531,
    "start_time": "2024-09-13T08:31:03.555Z"
   },
   {
    "duration": 220,
    "start_time": "2024-09-13T08:31:05.088Z"
   },
   {
    "duration": 21,
    "start_time": "2024-09-13T08:31:05.312Z"
   },
   {
    "duration": 15,
    "start_time": "2024-09-13T08:31:05.335Z"
   },
   {
    "duration": 31,
    "start_time": "2024-09-13T08:31:05.352Z"
   },
   {
    "duration": 34,
    "start_time": "2024-09-13T08:31:05.385Z"
   },
   {
    "duration": 22,
    "start_time": "2024-09-13T08:31:05.421Z"
   },
   {
    "duration": 11,
    "start_time": "2024-09-13T08:31:05.444Z"
   },
   {
    "duration": 47,
    "start_time": "2024-09-13T08:31:05.457Z"
   },
   {
    "duration": 6,
    "start_time": "2024-09-13T08:31:05.506Z"
   },
   {
    "duration": 16,
    "start_time": "2024-09-13T08:31:05.513Z"
   },
   {
    "duration": 7,
    "start_time": "2024-09-13T08:31:05.531Z"
   },
   {
    "duration": 12,
    "start_time": "2024-09-13T08:31:05.540Z"
   },
   {
    "duration": 8,
    "start_time": "2024-09-13T08:31:05.555Z"
   },
   {
    "duration": 11,
    "start_time": "2024-09-13T08:31:05.564Z"
   },
   {
    "duration": 16,
    "start_time": "2024-09-13T08:31:05.602Z"
   },
   {
    "duration": 117,
    "start_time": "2024-09-13T08:31:05.620Z"
   },
   {
    "duration": 0,
    "start_time": "2024-09-13T08:31:05.738Z"
   },
   {
    "duration": 0,
    "start_time": "2024-09-13T08:31:05.740Z"
   },
   {
    "duration": 0,
    "start_time": "2024-09-13T08:31:05.742Z"
   },
   {
    "duration": 0,
    "start_time": "2024-09-13T08:31:05.744Z"
   },
   {
    "duration": 0,
    "start_time": "2024-09-13T08:31:05.745Z"
   },
   {
    "duration": 0,
    "start_time": "2024-09-13T08:31:05.747Z"
   },
   {
    "duration": 0,
    "start_time": "2024-09-13T08:31:05.749Z"
   },
   {
    "duration": 14,
    "start_time": "2024-09-13T08:31:09.510Z"
   },
   {
    "duration": 1419,
    "start_time": "2024-09-13T08:31:16.315Z"
   },
   {
    "duration": 69,
    "start_time": "2024-09-13T08:31:17.736Z"
   },
   {
    "duration": 28,
    "start_time": "2024-09-13T08:31:17.807Z"
   },
   {
    "duration": 26,
    "start_time": "2024-09-13T08:31:17.838Z"
   },
   {
    "duration": 43,
    "start_time": "2024-09-13T08:31:17.866Z"
   },
   {
    "duration": 16,
    "start_time": "2024-09-13T08:31:17.911Z"
   },
   {
    "duration": 24,
    "start_time": "2024-09-13T08:31:17.930Z"
   },
   {
    "duration": 16,
    "start_time": "2024-09-13T08:31:17.956Z"
   },
   {
    "duration": 39,
    "start_time": "2024-09-13T08:31:17.975Z"
   },
   {
    "duration": 6,
    "start_time": "2024-09-13T08:31:18.016Z"
   },
   {
    "duration": 49,
    "start_time": "2024-09-13T08:31:18.024Z"
   },
   {
    "duration": 6,
    "start_time": "2024-09-13T08:31:18.074Z"
   },
   {
    "duration": 11,
    "start_time": "2024-09-13T08:31:18.082Z"
   },
   {
    "duration": 10,
    "start_time": "2024-09-13T08:31:18.094Z"
   },
   {
    "duration": 8,
    "start_time": "2024-09-13T08:31:18.106Z"
   },
   {
    "duration": 17,
    "start_time": "2024-09-13T08:31:18.116Z"
   },
   {
    "duration": 135,
    "start_time": "2024-09-13T08:31:18.135Z"
   },
   {
    "duration": 0,
    "start_time": "2024-09-13T08:31:18.271Z"
   },
   {
    "duration": 0,
    "start_time": "2024-09-13T08:31:18.273Z"
   },
   {
    "duration": 0,
    "start_time": "2024-09-13T08:31:18.274Z"
   },
   {
    "duration": 0,
    "start_time": "2024-09-13T08:31:18.275Z"
   },
   {
    "duration": 0,
    "start_time": "2024-09-13T08:31:18.276Z"
   },
   {
    "duration": 0,
    "start_time": "2024-09-13T08:31:18.277Z"
   },
   {
    "duration": 0,
    "start_time": "2024-09-13T08:31:18.278Z"
   },
   {
    "duration": 1413,
    "start_time": "2024-09-13T08:31:43.117Z"
   },
   {
    "duration": 59,
    "start_time": "2024-09-13T08:31:44.532Z"
   },
   {
    "duration": 21,
    "start_time": "2024-09-13T08:31:44.593Z"
   },
   {
    "duration": 18,
    "start_time": "2024-09-13T08:31:44.616Z"
   },
   {
    "duration": 42,
    "start_time": "2024-09-13T08:31:44.636Z"
   },
   {
    "duration": 32,
    "start_time": "2024-09-13T08:31:44.679Z"
   },
   {
    "duration": 25,
    "start_time": "2024-09-13T08:31:44.713Z"
   },
   {
    "duration": 11,
    "start_time": "2024-09-13T08:31:44.740Z"
   },
   {
    "duration": 27,
    "start_time": "2024-09-13T08:31:44.753Z"
   },
   {
    "duration": 19,
    "start_time": "2024-09-13T08:31:44.781Z"
   },
   {
    "duration": 35,
    "start_time": "2024-09-13T08:31:44.802Z"
   },
   {
    "duration": 72,
    "start_time": "2024-09-13T08:31:44.839Z"
   },
   {
    "duration": 115,
    "start_time": "2024-09-13T08:31:44.913Z"
   },
   {
    "duration": 38,
    "start_time": "2024-09-13T08:31:45.031Z"
   },
   {
    "duration": 41,
    "start_time": "2024-09-13T08:31:45.071Z"
   },
   {
    "duration": 30,
    "start_time": "2024-09-13T08:31:45.114Z"
   },
   {
    "duration": 164,
    "start_time": "2024-09-13T08:31:45.146Z"
   },
   {
    "duration": 0,
    "start_time": "2024-09-13T08:31:45.312Z"
   },
   {
    "duration": 0,
    "start_time": "2024-09-13T08:31:45.314Z"
   },
   {
    "duration": 0,
    "start_time": "2024-09-13T08:31:45.315Z"
   },
   {
    "duration": 0,
    "start_time": "2024-09-13T08:31:45.316Z"
   },
   {
    "duration": 0,
    "start_time": "2024-09-13T08:31:45.317Z"
   },
   {
    "duration": 1,
    "start_time": "2024-09-13T08:31:45.318Z"
   },
   {
    "duration": 0,
    "start_time": "2024-09-13T08:31:45.320Z"
   },
   {
    "duration": 16,
    "start_time": "2024-09-13T08:32:16.645Z"
   },
   {
    "duration": 9,
    "start_time": "2024-09-13T08:36:03.605Z"
   },
   {
    "duration": 7,
    "start_time": "2024-09-13T08:36:06.763Z"
   },
   {
    "duration": 20,
    "start_time": "2024-09-13T08:36:10.849Z"
   },
   {
    "duration": 16,
    "start_time": "2024-09-13T08:36:14.818Z"
   },
   {
    "duration": 8,
    "start_time": "2024-09-13T08:36:18.774Z"
   },
   {
    "duration": 422,
    "start_time": "2024-09-13T08:36:21.028Z"
   },
   {
    "duration": 354,
    "start_time": "2024-09-13T08:36:25.036Z"
   },
   {
    "duration": 1315,
    "start_time": "2024-09-13T08:37:19.602Z"
   },
   {
    "duration": 61,
    "start_time": "2024-09-13T08:37:20.919Z"
   },
   {
    "duration": 77,
    "start_time": "2024-09-13T08:37:20.981Z"
   },
   {
    "duration": 56,
    "start_time": "2024-09-13T08:37:21.060Z"
   },
   {
    "duration": 76,
    "start_time": "2024-09-13T08:37:21.117Z"
   },
   {
    "duration": 42,
    "start_time": "2024-09-13T08:37:21.195Z"
   },
   {
    "duration": 63,
    "start_time": "2024-09-13T08:37:21.238Z"
   },
   {
    "duration": 56,
    "start_time": "2024-09-13T08:37:21.302Z"
   },
   {
    "duration": 66,
    "start_time": "2024-09-13T08:37:21.359Z"
   },
   {
    "duration": 34,
    "start_time": "2024-09-13T08:37:21.428Z"
   },
   {
    "duration": 37,
    "start_time": "2024-09-13T08:37:21.464Z"
   },
   {
    "duration": 35,
    "start_time": "2024-09-13T08:37:21.503Z"
   },
   {
    "duration": 49,
    "start_time": "2024-09-13T08:37:21.540Z"
   },
   {
    "duration": 56,
    "start_time": "2024-09-13T08:37:21.591Z"
   },
   {
    "duration": 47,
    "start_time": "2024-09-13T08:37:21.649Z"
   },
   {
    "duration": 49,
    "start_time": "2024-09-13T08:37:21.697Z"
   },
   {
    "duration": 158,
    "start_time": "2024-09-13T08:37:21.748Z"
   },
   {
    "duration": 0,
    "start_time": "2024-09-13T08:37:21.908Z"
   },
   {
    "duration": 0,
    "start_time": "2024-09-13T08:37:21.909Z"
   },
   {
    "duration": 0,
    "start_time": "2024-09-13T08:37:21.910Z"
   },
   {
    "duration": 0,
    "start_time": "2024-09-13T08:37:21.911Z"
   },
   {
    "duration": 0,
    "start_time": "2024-09-13T08:37:21.913Z"
   },
   {
    "duration": 0,
    "start_time": "2024-09-13T08:37:21.914Z"
   },
   {
    "duration": 0,
    "start_time": "2024-09-13T08:37:21.916Z"
   },
   {
    "duration": 16,
    "start_time": "2024-09-13T08:38:05.998Z"
   },
   {
    "duration": 16,
    "start_time": "2024-09-13T08:38:10.836Z"
   },
   {
    "duration": 10,
    "start_time": "2024-09-13T08:41:22.119Z"
   },
   {
    "duration": 17,
    "start_time": "2024-09-13T08:41:36.408Z"
   },
   {
    "duration": 10,
    "start_time": "2024-09-13T08:43:02.258Z"
   },
   {
    "duration": 8,
    "start_time": "2024-09-13T08:43:20.703Z"
   },
   {
    "duration": 7,
    "start_time": "2024-09-13T08:45:13.747Z"
   },
   {
    "duration": 1299,
    "start_time": "2024-09-13T08:45:51.085Z"
   },
   {
    "duration": 61,
    "start_time": "2024-09-13T08:45:52.386Z"
   },
   {
    "duration": 23,
    "start_time": "2024-09-13T08:45:52.449Z"
   },
   {
    "duration": 27,
    "start_time": "2024-09-13T08:45:52.475Z"
   },
   {
    "duration": 46,
    "start_time": "2024-09-13T08:45:52.504Z"
   },
   {
    "duration": 15,
    "start_time": "2024-09-13T08:45:52.551Z"
   },
   {
    "duration": 23,
    "start_time": "2024-09-13T08:45:52.568Z"
   },
   {
    "duration": 35,
    "start_time": "2024-09-13T08:45:52.592Z"
   },
   {
    "duration": 21,
    "start_time": "2024-09-13T08:45:52.629Z"
   },
   {
    "duration": 5,
    "start_time": "2024-09-13T08:45:52.652Z"
   },
   {
    "duration": 19,
    "start_time": "2024-09-13T08:45:52.659Z"
   },
   {
    "duration": 6,
    "start_time": "2024-09-13T08:45:52.679Z"
   },
   {
    "duration": 32,
    "start_time": "2024-09-13T08:45:52.687Z"
   },
   {
    "duration": 10,
    "start_time": "2024-09-13T08:45:52.721Z"
   },
   {
    "duration": 13,
    "start_time": "2024-09-13T08:45:52.733Z"
   },
   {
    "duration": 16,
    "start_time": "2024-09-13T08:45:52.748Z"
   },
   {
    "duration": 10,
    "start_time": "2024-09-13T08:45:52.766Z"
   },
   {
    "duration": 8,
    "start_time": "2024-09-13T08:45:52.777Z"
   },
   {
    "duration": 13,
    "start_time": "2024-09-13T08:45:52.787Z"
   },
   {
    "duration": 19,
    "start_time": "2024-09-13T08:45:52.802Z"
   },
   {
    "duration": 16,
    "start_time": "2024-09-13T08:45:52.823Z"
   },
   {
    "duration": 15,
    "start_time": "2024-09-13T08:45:52.841Z"
   },
   {
    "duration": 458,
    "start_time": "2024-09-13T08:45:52.858Z"
   },
   {
    "duration": 374,
    "start_time": "2024-09-13T08:45:53.318Z"
   },
   {
    "duration": 110,
    "start_time": "2024-09-13T10:00:53.639Z"
   },
   {
    "duration": 12,
    "start_time": "2024-09-13T10:07:55.414Z"
   },
   {
    "duration": 48,
    "start_time": "2024-09-13T10:08:05.049Z"
   },
   {
    "duration": 46,
    "start_time": "2024-09-13T10:08:12.012Z"
   },
   {
    "duration": 13,
    "start_time": "2024-09-13T10:08:20.051Z"
   },
   {
    "duration": 11,
    "start_time": "2024-09-13T10:08:35.951Z"
   },
   {
    "duration": 13,
    "start_time": "2024-09-13T10:09:01.161Z"
   },
   {
    "duration": 10,
    "start_time": "2024-09-13T10:09:10.662Z"
   },
   {
    "duration": 47,
    "start_time": "2024-09-13T10:09:26.820Z"
   },
   {
    "duration": 48,
    "start_time": "2024-09-13T10:09:41.012Z"
   },
   {
    "duration": 51,
    "start_time": "2024-09-13T10:11:56.935Z"
   },
   {
    "duration": 52,
    "start_time": "2024-09-13T10:13:16.466Z"
   },
   {
    "duration": 46,
    "start_time": "2024-09-13T10:13:34.519Z"
   },
   {
    "duration": 44,
    "start_time": "2024-09-13T10:13:39.477Z"
   },
   {
    "duration": 64,
    "start_time": "2024-09-13T10:13:57.418Z"
   },
   {
    "duration": 10,
    "start_time": "2024-09-13T10:23:53.511Z"
   },
   {
    "duration": 9,
    "start_time": "2024-09-13T10:24:15.591Z"
   },
   {
    "duration": 9,
    "start_time": "2024-09-13T10:24:22.886Z"
   },
   {
    "duration": 1284,
    "start_time": "2024-09-13T10:24:28.842Z"
   },
   {
    "duration": 59,
    "start_time": "2024-09-13T10:24:30.128Z"
   },
   {
    "duration": 21,
    "start_time": "2024-09-13T10:24:30.189Z"
   },
   {
    "duration": 58,
    "start_time": "2024-09-13T10:24:30.212Z"
   },
   {
    "duration": 64,
    "start_time": "2024-09-13T10:24:30.272Z"
   },
   {
    "duration": 14,
    "start_time": "2024-09-13T10:24:30.338Z"
   },
   {
    "duration": 33,
    "start_time": "2024-09-13T10:24:30.353Z"
   },
   {
    "duration": 20,
    "start_time": "2024-09-13T10:24:30.388Z"
   },
   {
    "duration": 44,
    "start_time": "2024-09-13T10:24:30.409Z"
   },
   {
    "duration": 15,
    "start_time": "2024-09-13T10:24:30.455Z"
   },
   {
    "duration": 36,
    "start_time": "2024-09-13T10:24:30.471Z"
   },
   {
    "duration": 38,
    "start_time": "2024-09-13T10:24:30.508Z"
   },
   {
    "duration": 11,
    "start_time": "2024-09-13T10:24:30.547Z"
   },
   {
    "duration": 73,
    "start_time": "2024-09-13T10:24:30.559Z"
   },
   {
    "duration": 41,
    "start_time": "2024-09-13T10:24:30.634Z"
   },
   {
    "duration": 29,
    "start_time": "2024-09-13T10:24:30.676Z"
   },
   {
    "duration": 13,
    "start_time": "2024-09-13T10:24:30.707Z"
   },
   {
    "duration": 10,
    "start_time": "2024-09-13T10:24:30.721Z"
   },
   {
    "duration": 7,
    "start_time": "2024-09-13T10:24:30.733Z"
   },
   {
    "duration": 25,
    "start_time": "2024-09-13T10:24:30.742Z"
   },
   {
    "duration": 15,
    "start_time": "2024-09-13T10:24:30.769Z"
   },
   {
    "duration": 11,
    "start_time": "2024-09-13T10:24:30.798Z"
   },
   {
    "duration": 437,
    "start_time": "2024-09-13T10:24:30.811Z"
   },
   {
    "duration": 362,
    "start_time": "2024-09-13T10:24:31.250Z"
   },
   {
    "duration": 114,
    "start_time": "2024-09-13T10:24:31.613Z"
   },
   {
    "duration": 9,
    "start_time": "2024-09-13T10:25:09.021Z"
   },
   {
    "duration": 17,
    "start_time": "2024-09-13T10:50:30.058Z"
   },
   {
    "duration": 5,
    "start_time": "2024-09-13T10:55:20.933Z"
   },
   {
    "duration": 4,
    "start_time": "2024-09-13T10:56:54.114Z"
   },
   {
    "duration": 35,
    "start_time": "2024-09-13T11:03:07.076Z"
   },
   {
    "duration": 31,
    "start_time": "2024-09-13T11:07:41.596Z"
   },
   {
    "duration": 1285,
    "start_time": "2024-09-13T11:12:44.024Z"
   },
   {
    "duration": 61,
    "start_time": "2024-09-13T11:12:45.311Z"
   },
   {
    "duration": 21,
    "start_time": "2024-09-13T11:12:45.373Z"
   },
   {
    "duration": 113,
    "start_time": "2024-09-13T11:12:45.396Z"
   },
   {
    "duration": 30,
    "start_time": "2024-09-13T11:12:45.511Z"
   },
   {
    "duration": 15,
    "start_time": "2024-09-13T11:12:45.542Z"
   },
   {
    "duration": 23,
    "start_time": "2024-09-13T11:12:45.558Z"
   },
   {
    "duration": 23,
    "start_time": "2024-09-13T11:12:45.582Z"
   },
   {
    "duration": 17,
    "start_time": "2024-09-13T11:12:45.606Z"
   },
   {
    "duration": 7,
    "start_time": "2024-09-13T11:12:45.625Z"
   },
   {
    "duration": 31,
    "start_time": "2024-09-13T11:12:45.634Z"
   },
   {
    "duration": 7,
    "start_time": "2024-09-13T11:12:45.667Z"
   },
   {
    "duration": 82,
    "start_time": "2024-09-13T11:12:45.675Z"
   },
   {
    "duration": 9,
    "start_time": "2024-09-13T11:12:45.758Z"
   },
   {
    "duration": 7,
    "start_time": "2024-09-13T11:12:45.769Z"
   },
   {
    "duration": 8,
    "start_time": "2024-09-13T11:12:45.777Z"
   },
   {
    "duration": 13,
    "start_time": "2024-09-13T11:12:45.786Z"
   },
   {
    "duration": 8,
    "start_time": "2024-09-13T11:12:45.800Z"
   },
   {
    "duration": 6,
    "start_time": "2024-09-13T11:12:45.810Z"
   },
   {
    "duration": 19,
    "start_time": "2024-09-13T11:12:45.818Z"
   },
   {
    "duration": 15,
    "start_time": "2024-09-13T11:12:45.839Z"
   },
   {
    "duration": 44,
    "start_time": "2024-09-13T11:12:45.856Z"
   },
   {
    "duration": 447,
    "start_time": "2024-09-13T11:12:45.902Z"
   },
   {
    "duration": 18,
    "start_time": "2024-09-13T11:12:46.351Z"
   },
   {
    "duration": 7,
    "start_time": "2024-09-13T11:12:46.371Z"
   },
   {
    "duration": 150,
    "start_time": "2024-09-13T11:12:46.397Z"
   },
   {
    "duration": 24,
    "start_time": "2024-09-13T11:13:05.567Z"
   },
   {
    "duration": 9,
    "start_time": "2024-09-13T11:13:55.899Z"
   },
   {
    "duration": 9,
    "start_time": "2024-09-13T11:14:01.017Z"
   },
   {
    "duration": 4,
    "start_time": "2024-09-13T11:14:34.044Z"
   },
   {
    "duration": 4,
    "start_time": "2024-09-13T11:14:40.480Z"
   },
   {
    "duration": 10,
    "start_time": "2024-09-13T11:14:43.115Z"
   },
   {
    "duration": 8,
    "start_time": "2024-09-13T11:15:26.071Z"
   },
   {
    "duration": 4,
    "start_time": "2024-09-13T11:18:08.239Z"
   },
   {
    "duration": 7,
    "start_time": "2024-09-13T11:21:17.943Z"
   },
   {
    "duration": 16,
    "start_time": "2024-09-13T11:21:28.732Z"
   },
   {
    "duration": 15,
    "start_time": "2024-09-13T11:21:41.373Z"
   },
   {
    "duration": 1230,
    "start_time": "2024-09-13T11:21:53.962Z"
   },
   {
    "duration": 60,
    "start_time": "2024-09-13T11:21:55.193Z"
   },
   {
    "duration": 20,
    "start_time": "2024-09-13T11:21:55.255Z"
   },
   {
    "duration": 16,
    "start_time": "2024-09-13T11:21:55.277Z"
   },
   {
    "duration": 32,
    "start_time": "2024-09-13T11:21:55.294Z"
   },
   {
    "duration": 15,
    "start_time": "2024-09-13T11:21:55.328Z"
   },
   {
    "duration": 22,
    "start_time": "2024-09-13T11:21:55.345Z"
   },
   {
    "duration": 31,
    "start_time": "2024-09-13T11:21:55.368Z"
   },
   {
    "duration": 16,
    "start_time": "2024-09-13T11:21:55.400Z"
   },
   {
    "duration": 5,
    "start_time": "2024-09-13T11:21:55.419Z"
   },
   {
    "duration": 76,
    "start_time": "2024-09-13T11:21:55.425Z"
   },
   {
    "duration": 47,
    "start_time": "2024-09-13T11:21:55.502Z"
   },
   {
    "duration": 13,
    "start_time": "2024-09-13T11:21:55.550Z"
   },
   {
    "duration": 19,
    "start_time": "2024-09-13T11:21:55.564Z"
   },
   {
    "duration": 12,
    "start_time": "2024-09-13T11:21:55.585Z"
   },
   {
    "duration": 9,
    "start_time": "2024-09-13T11:21:55.598Z"
   },
   {
    "duration": 11,
    "start_time": "2024-09-13T11:21:55.609Z"
   },
   {
    "duration": 7,
    "start_time": "2024-09-13T11:21:55.621Z"
   },
   {
    "duration": 8,
    "start_time": "2024-09-13T11:21:55.629Z"
   },
   {
    "duration": 24,
    "start_time": "2024-09-13T11:21:55.638Z"
   },
   {
    "duration": 41,
    "start_time": "2024-09-13T11:21:55.663Z"
   },
   {
    "duration": 80,
    "start_time": "2024-09-13T11:21:55.706Z"
   },
   {
    "duration": 411,
    "start_time": "2024-09-13T11:21:55.787Z"
   },
   {
    "duration": 18,
    "start_time": "2024-09-13T11:21:56.199Z"
   },
   {
    "duration": 7,
    "start_time": "2024-09-13T11:21:56.219Z"
   },
   {
    "duration": 134,
    "start_time": "2024-09-13T11:21:56.228Z"
   },
   {
    "duration": 13,
    "start_time": "2024-09-13T11:22:23.531Z"
   },
   {
    "duration": 11,
    "start_time": "2024-09-13T11:24:08.681Z"
   },
   {
    "duration": 21,
    "start_time": "2024-09-13T11:24:32.899Z"
   },
   {
    "duration": 21,
    "start_time": "2024-09-13T11:25:02.131Z"
   },
   {
    "duration": 16,
    "start_time": "2024-09-13T11:26:27.022Z"
   },
   {
    "duration": 16,
    "start_time": "2024-09-13T11:26:33.298Z"
   },
   {
    "duration": 16,
    "start_time": "2024-09-13T11:26:54.363Z"
   },
   {
    "duration": 15,
    "start_time": "2024-09-13T11:27:37.319Z"
   },
   {
    "duration": 16,
    "start_time": "2024-09-13T11:28:09.796Z"
   },
   {
    "duration": 15,
    "start_time": "2024-09-13T11:28:20.785Z"
   },
   {
    "duration": 16,
    "start_time": "2024-09-13T11:28:25.166Z"
   },
   {
    "duration": 26,
    "start_time": "2024-09-13T11:28:54.649Z"
   },
   {
    "duration": 15,
    "start_time": "2024-09-13T11:29:17.159Z"
   },
   {
    "duration": 18,
    "start_time": "2024-09-13T11:32:03.845Z"
   },
   {
    "duration": 18,
    "start_time": "2024-09-13T11:33:59.791Z"
   },
   {
    "duration": 136,
    "start_time": "2024-09-13T11:34:19.703Z"
   },
   {
    "duration": 25,
    "start_time": "2024-09-13T11:35:19.495Z"
   },
   {
    "duration": 20,
    "start_time": "2024-09-13T11:35:39.085Z"
   },
   {
    "duration": 23,
    "start_time": "2024-09-13T11:36:36.025Z"
   },
   {
    "duration": 23,
    "start_time": "2024-09-13T11:36:59.074Z"
   },
   {
    "duration": 31,
    "start_time": "2024-09-13T11:37:09.360Z"
   },
   {
    "duration": 22,
    "start_time": "2024-09-13T11:37:53.706Z"
   },
   {
    "duration": 11,
    "start_time": "2024-09-13T11:38:20.832Z"
   },
   {
    "duration": 23,
    "start_time": "2024-09-13T11:38:40.744Z"
   },
   {
    "duration": 49,
    "start_time": "2024-09-13T11:39:13.243Z"
   },
   {
    "duration": 57,
    "start_time": "2024-09-13T11:39:24.969Z"
   },
   {
    "duration": 50,
    "start_time": "2024-09-13T11:39:37.462Z"
   },
   {
    "duration": 49,
    "start_time": "2024-09-13T11:39:43.514Z"
   },
   {
    "duration": 64,
    "start_time": "2024-09-13T11:39:56.317Z"
   },
   {
    "duration": 55,
    "start_time": "2024-09-13T11:40:04.991Z"
   },
   {
    "duration": 56,
    "start_time": "2024-09-13T11:41:36.322Z"
   },
   {
    "duration": 51,
    "start_time": "2024-09-13T11:41:42.493Z"
   },
   {
    "duration": 714,
    "start_time": "2024-09-13T11:41:57.402Z"
   },
   {
    "duration": 706,
    "start_time": "2024-09-13T11:43:22.862Z"
   },
   {
    "duration": 680,
    "start_time": "2024-09-13T11:44:03.798Z"
   },
   {
    "duration": 742,
    "start_time": "2024-09-13T11:45:24.816Z"
   },
   {
    "duration": 23,
    "start_time": "2024-09-13T11:45:49.462Z"
   },
   {
    "duration": 769,
    "start_time": "2024-09-13T11:46:16.369Z"
   },
   {
    "duration": 16,
    "start_time": "2024-09-13T11:50:36.733Z"
   },
   {
    "duration": 1191,
    "start_time": "2024-09-13T11:51:13.889Z"
   },
   {
    "duration": 1460,
    "start_time": "2024-09-13T12:14:46.679Z"
   },
   {
    "duration": 1415,
    "start_time": "2024-09-13T12:15:01.697Z"
   },
   {
    "duration": 1331,
    "start_time": "2024-09-13T12:16:13.696Z"
   },
   {
    "duration": 1346,
    "start_time": "2024-09-13T12:16:25.458Z"
   },
   {
    "duration": 1277,
    "start_time": "2024-09-13T12:18:58.834Z"
   },
   {
    "duration": 1415,
    "start_time": "2024-09-13T12:30:57.459Z"
   },
   {
    "duration": 46,
    "start_time": "2024-09-14T19:31:55.761Z"
   },
   {
    "duration": 1308,
    "start_time": "2024-09-14T19:32:03.091Z"
   },
   {
    "duration": 204,
    "start_time": "2024-09-14T19:32:04.401Z"
   },
   {
    "duration": 18,
    "start_time": "2024-09-14T19:32:04.607Z"
   },
   {
    "duration": 13,
    "start_time": "2024-09-14T19:32:04.626Z"
   },
   {
    "duration": 27,
    "start_time": "2024-09-14T19:32:04.641Z"
   },
   {
    "duration": 13,
    "start_time": "2024-09-14T19:32:04.669Z"
   },
   {
    "duration": 42,
    "start_time": "2024-09-14T19:32:04.683Z"
   },
   {
    "duration": 9,
    "start_time": "2024-09-14T19:32:04.727Z"
   },
   {
    "duration": 20,
    "start_time": "2024-09-14T19:32:04.737Z"
   },
   {
    "duration": 4,
    "start_time": "2024-09-14T19:32:04.759Z"
   },
   {
    "duration": 13,
    "start_time": "2024-09-14T19:32:04.764Z"
   },
   {
    "duration": 5,
    "start_time": "2024-09-14T19:32:04.778Z"
   },
   {
    "duration": 7,
    "start_time": "2024-09-14T19:32:04.784Z"
   },
   {
    "duration": 33,
    "start_time": "2024-09-14T19:32:04.793Z"
   },
   {
    "duration": 6,
    "start_time": "2024-09-14T19:32:04.828Z"
   },
   {
    "duration": 55,
    "start_time": "2024-09-14T19:32:04.835Z"
   },
   {
    "duration": 6,
    "start_time": "2024-09-14T19:32:04.892Z"
   },
   {
    "duration": 6,
    "start_time": "2024-09-14T19:32:04.899Z"
   },
   {
    "duration": 6,
    "start_time": "2024-09-14T19:32:04.907Z"
   },
   {
    "duration": 23,
    "start_time": "2024-09-14T19:32:04.914Z"
   },
   {
    "duration": 15,
    "start_time": "2024-09-14T19:32:04.939Z"
   },
   {
    "duration": 15,
    "start_time": "2024-09-14T19:32:04.955Z"
   },
   {
    "duration": 385,
    "start_time": "2024-09-14T19:32:04.972Z"
   },
   {
    "duration": 16,
    "start_time": "2024-09-14T19:32:05.359Z"
   },
   {
    "duration": 1194,
    "start_time": "2024-09-14T19:32:05.377Z"
   },
   {
    "duration": 21,
    "start_time": "2024-09-14T19:32:06.573Z"
   },
   {
    "duration": 13,
    "start_time": "2024-09-14T20:06:21.286Z"
   },
   {
    "duration": 14,
    "start_time": "2024-09-14T20:07:26.069Z"
   },
   {
    "duration": 787,
    "start_time": "2024-09-14T20:18:39.235Z"
   },
   {
    "duration": 716,
    "start_time": "2024-09-14T20:18:52.026Z"
   },
   {
    "duration": 1047,
    "start_time": "2024-09-14T20:19:13.131Z"
   },
   {
    "duration": 711,
    "start_time": "2024-09-14T20:20:28.037Z"
   },
   {
    "duration": 672,
    "start_time": "2024-09-14T20:27:19.011Z"
   },
   {
    "duration": 725,
    "start_time": "2024-09-14T20:28:51.046Z"
   },
   {
    "duration": 818,
    "start_time": "2024-09-14T20:30:00.918Z"
   },
   {
    "duration": 1827,
    "start_time": "2024-09-14T20:30:07.352Z"
   },
   {
    "duration": 102,
    "start_time": "2024-09-14T20:30:26.616Z"
   },
   {
    "duration": 1818,
    "start_time": "2024-09-14T20:30:58.449Z"
   },
   {
    "duration": 1840,
    "start_time": "2024-09-14T20:32:25.983Z"
   },
   {
    "duration": 1458,
    "start_time": "2024-09-14T20:33:01.807Z"
   },
   {
    "duration": 1346,
    "start_time": "2024-09-14T20:33:48.081Z"
   },
   {
    "duration": 1472,
    "start_time": "2024-09-14T20:34:14.758Z"
   },
   {
    "duration": 53,
    "start_time": "2024-09-16T07:56:02.369Z"
   },
   {
    "duration": 1628,
    "start_time": "2024-09-16T07:56:10.653Z"
   },
   {
    "duration": 184,
    "start_time": "2024-09-16T07:56:12.284Z"
   },
   {
    "duration": 22,
    "start_time": "2024-09-16T07:56:12.470Z"
   },
   {
    "duration": 27,
    "start_time": "2024-09-16T07:56:12.494Z"
   },
   {
    "duration": 43,
    "start_time": "2024-09-16T07:56:12.523Z"
   },
   {
    "duration": 16,
    "start_time": "2024-09-16T07:56:12.568Z"
   },
   {
    "duration": 23,
    "start_time": "2024-09-16T07:56:12.586Z"
   },
   {
    "duration": 11,
    "start_time": "2024-09-16T07:56:12.611Z"
   },
   {
    "duration": 45,
    "start_time": "2024-09-16T07:56:12.624Z"
   },
   {
    "duration": 6,
    "start_time": "2024-09-16T07:56:12.671Z"
   },
   {
    "duration": 89,
    "start_time": "2024-09-16T07:56:12.679Z"
   },
   {
    "duration": 105,
    "start_time": "2024-09-16T07:56:12.770Z"
   },
   {
    "duration": 20,
    "start_time": "2024-09-16T07:56:12.877Z"
   },
   {
    "duration": 8,
    "start_time": "2024-09-16T07:56:12.900Z"
   },
   {
    "duration": 8,
    "start_time": "2024-09-16T07:56:12.909Z"
   },
   {
    "duration": 13,
    "start_time": "2024-09-16T07:56:12.918Z"
   },
   {
    "duration": 8,
    "start_time": "2024-09-16T07:56:12.933Z"
   },
   {
    "duration": 28,
    "start_time": "2024-09-16T07:56:12.943Z"
   },
   {
    "duration": 8,
    "start_time": "2024-09-16T07:56:12.973Z"
   },
   {
    "duration": 36,
    "start_time": "2024-09-16T07:56:12.982Z"
   },
   {
    "duration": 17,
    "start_time": "2024-09-16T07:56:13.019Z"
   },
   {
    "duration": 14,
    "start_time": "2024-09-16T07:56:13.037Z"
   },
   {
    "duration": 462,
    "start_time": "2024-09-16T07:56:13.053Z"
   },
   {
    "duration": 17,
    "start_time": "2024-09-16T07:56:13.516Z"
   },
   {
    "duration": 1379,
    "start_time": "2024-09-16T07:56:13.535Z"
   },
   {
    "duration": 25,
    "start_time": "2024-09-16T07:56:14.915Z"
   },
   {
    "duration": 35,
    "start_time": "2024-09-16T07:56:14.941Z"
   },
   {
    "duration": 1898,
    "start_time": "2024-09-16T07:56:14.978Z"
   },
   {
    "duration": 332,
    "start_time": "2024-09-16T07:56:16.877Z"
   },
   {
    "duration": 314,
    "start_time": "2024-09-16T07:57:01.401Z"
   },
   {
    "duration": 280,
    "start_time": "2024-09-16T08:02:22.379Z"
   },
   {
    "duration": 324,
    "start_time": "2024-09-16T08:02:30.874Z"
   },
   {
    "duration": 362,
    "start_time": "2024-09-16T08:02:40.533Z"
   },
   {
    "duration": 465,
    "start_time": "2024-09-16T08:11:18.964Z"
   },
   {
    "duration": 108,
    "start_time": "2024-09-16T08:15:54.615Z"
   },
   {
    "duration": 87,
    "start_time": "2024-09-16T08:16:08.282Z"
   },
   {
    "duration": 86,
    "start_time": "2024-09-16T08:16:12.873Z"
   },
   {
    "duration": 78,
    "start_time": "2024-09-16T08:16:28.247Z"
   },
   {
    "duration": 75,
    "start_time": "2024-09-16T08:16:40.078Z"
   },
   {
    "duration": 76,
    "start_time": "2024-09-16T08:16:46.870Z"
   },
   {
    "duration": 316,
    "start_time": "2024-09-16T08:17:04.781Z"
   },
   {
    "duration": 322,
    "start_time": "2024-09-16T08:17:48.207Z"
   },
   {
    "duration": 332,
    "start_time": "2024-09-16T08:55:42.343Z"
   },
   {
    "duration": 311,
    "start_time": "2024-09-16T09:13:32.757Z"
   },
   {
    "duration": 432,
    "start_time": "2024-09-16T09:13:48.169Z"
   },
   {
    "duration": 336,
    "start_time": "2024-09-16T09:24:59.942Z"
   },
   {
    "duration": 19,
    "start_time": "2024-09-16T09:29:28.450Z"
   },
   {
    "duration": 14,
    "start_time": "2024-09-16T09:30:12.269Z"
   },
   {
    "duration": 123,
    "start_time": "2024-09-16T09:45:56.427Z"
   },
   {
    "duration": 1736,
    "start_time": "2024-09-16T09:46:01.430Z"
   },
   {
    "duration": 365,
    "start_time": "2024-09-16T09:50:43.112Z"
   },
   {
    "duration": 1021,
    "start_time": "2024-09-16T09:52:05.869Z"
   },
   {
    "duration": 10,
    "start_time": "2024-09-16T10:03:08.006Z"
   },
   {
    "duration": 1060,
    "start_time": "2024-09-16T10:03:41.426Z"
   },
   {
    "duration": 86,
    "start_time": "2024-09-16T10:11:58.521Z"
   },
   {
    "duration": 77,
    "start_time": "2024-09-16T10:12:08.033Z"
   },
   {
    "duration": 100,
    "start_time": "2024-09-16T10:12:16.521Z"
   },
   {
    "duration": 70,
    "start_time": "2024-09-16T10:12:20.815Z"
   },
   {
    "duration": 79,
    "start_time": "2024-09-16T10:12:57.599Z"
   },
   {
    "duration": 86,
    "start_time": "2024-09-16T10:19:27.894Z"
   },
   {
    "duration": 151,
    "start_time": "2024-09-16T10:21:10.691Z"
   },
   {
    "duration": 151,
    "start_time": "2024-09-16T10:21:18.903Z"
   },
   {
    "duration": 76,
    "start_time": "2024-09-16T10:22:21.312Z"
   },
   {
    "duration": 74,
    "start_time": "2024-09-16T10:22:44.608Z"
   },
   {
    "duration": 83,
    "start_time": "2024-09-16T10:22:51.608Z"
   },
   {
    "duration": 84,
    "start_time": "2024-09-16T10:23:32.974Z"
   },
   {
    "duration": 89,
    "start_time": "2024-09-16T10:23:40.832Z"
   },
   {
    "duration": 91,
    "start_time": "2024-09-16T10:25:15.075Z"
   },
   {
    "duration": 82,
    "start_time": "2024-09-16T10:26:05.395Z"
   },
   {
    "duration": 92,
    "start_time": "2024-09-16T10:30:18.848Z"
   },
   {
    "duration": 81,
    "start_time": "2024-09-16T10:30:41.765Z"
   },
   {
    "duration": 74,
    "start_time": "2024-09-16T10:32:19.161Z"
   },
   {
    "duration": 73,
    "start_time": "2024-09-16T10:32:57.648Z"
   },
   {
    "duration": 78,
    "start_time": "2024-09-16T10:33:08.512Z"
   },
   {
    "duration": 95,
    "start_time": "2024-09-16T10:33:21.037Z"
   },
   {
    "duration": 97,
    "start_time": "2024-09-16T10:33:27.456Z"
   },
   {
    "duration": 206,
    "start_time": "2024-09-16T10:33:40.294Z"
   },
   {
    "duration": 1218,
    "start_time": "2024-09-16T10:33:54.549Z"
   },
   {
    "duration": 2158,
    "start_time": "2024-09-16T10:34:31.838Z"
   },
   {
    "duration": 14,
    "start_time": "2024-09-16T10:34:49.710Z"
   },
   {
    "duration": 19,
    "start_time": "2024-09-16T10:35:02.560Z"
   },
   {
    "duration": 70,
    "start_time": "2024-09-16T10:35:48.029Z"
   },
   {
    "duration": 114,
    "start_time": "2024-09-16T10:35:52.062Z"
   },
   {
    "duration": 77,
    "start_time": "2024-09-16T10:35:57.734Z"
   },
   {
    "duration": 82,
    "start_time": "2024-09-16T10:36:01.468Z"
   },
   {
    "duration": 86,
    "start_time": "2024-09-16T10:36:08.326Z"
   },
   {
    "duration": 12,
    "start_time": "2024-09-16T10:36:12.617Z"
   },
   {
    "duration": 12,
    "start_time": "2024-09-16T10:36:15.615Z"
   },
   {
    "duration": 13,
    "start_time": "2024-09-16T10:37:08.217Z"
   },
   {
    "duration": 10,
    "start_time": "2024-09-16T10:38:04.820Z"
   },
   {
    "duration": 20,
    "start_time": "2024-09-16T10:38:17.603Z"
   },
   {
    "duration": 73,
    "start_time": "2024-09-16T10:40:08.958Z"
   },
   {
    "duration": 86,
    "start_time": "2024-09-16T10:40:15.160Z"
   },
   {
    "duration": 102,
    "start_time": "2024-09-16T10:40:18.799Z"
   },
   {
    "duration": 133,
    "start_time": "2024-09-16T10:40:42.469Z"
   },
   {
    "duration": 45,
    "start_time": "2024-09-16T10:43:35.160Z"
   },
   {
    "duration": 16,
    "start_time": "2024-09-16T10:44:02.359Z"
   },
   {
    "duration": 16,
    "start_time": "2024-09-16T10:44:08.114Z"
   },
   {
    "duration": 13,
    "start_time": "2024-09-16T10:44:11.062Z"
   },
   {
    "duration": 13,
    "start_time": "2024-09-16T10:44:13.224Z"
   },
   {
    "duration": 12,
    "start_time": "2024-09-16T10:44:16.561Z"
   },
   {
    "duration": 12,
    "start_time": "2024-09-16T10:44:18.867Z"
   },
   {
    "duration": 39,
    "start_time": "2024-09-16T10:44:31.006Z"
   },
   {
    "duration": 40,
    "start_time": "2024-09-16T10:46:52.992Z"
   },
   {
    "duration": 39,
    "start_time": "2024-09-16T10:54:17.528Z"
   },
   {
    "duration": 10,
    "start_time": "2024-09-16T10:54:49.541Z"
   },
   {
    "duration": 10,
    "start_time": "2024-09-16T10:55:10.494Z"
   },
   {
    "duration": 37,
    "start_time": "2024-09-16T10:55:15.634Z"
   },
   {
    "duration": 95,
    "start_time": "2024-09-16T10:55:30.246Z"
   },
   {
    "duration": 12,
    "start_time": "2024-09-16T10:57:21.947Z"
   },
   {
    "duration": 81,
    "start_time": "2024-09-16T10:59:01.525Z"
   },
   {
    "duration": 111,
    "start_time": "2024-09-16T11:00:26.815Z"
   },
   {
    "duration": 35,
    "start_time": "2024-09-16T11:00:35.703Z"
   },
   {
    "duration": 39,
    "start_time": "2024-09-16T11:04:31.342Z"
   },
   {
    "duration": 43,
    "start_time": "2024-09-16T11:04:38.511Z"
   },
   {
    "duration": 78,
    "start_time": "2024-09-16T11:04:51.754Z"
   },
   {
    "duration": 71,
    "start_time": "2024-09-16T11:04:53.840Z"
   },
   {
    "duration": 71,
    "start_time": "2024-09-16T11:04:59.874Z"
   },
   {
    "duration": 45,
    "start_time": "2024-09-16T11:05:07.511Z"
   },
   {
    "duration": 99,
    "start_time": "2024-09-16T11:05:18.234Z"
   },
   {
    "duration": 1349,
    "start_time": "2024-09-16T11:05:52.749Z"
   },
   {
    "duration": 1121,
    "start_time": "2024-09-16T11:06:10.848Z"
   },
   {
    "duration": 1369,
    "start_time": "2024-09-17T07:50:08.580Z"
   },
   {
    "duration": 219,
    "start_time": "2024-09-17T07:50:09.951Z"
   },
   {
    "duration": 21,
    "start_time": "2024-09-17T07:50:10.172Z"
   },
   {
    "duration": 17,
    "start_time": "2024-09-17T07:50:10.195Z"
   },
   {
    "duration": 34,
    "start_time": "2024-09-17T07:50:10.214Z"
   },
   {
    "duration": 13,
    "start_time": "2024-09-17T07:50:10.249Z"
   },
   {
    "duration": 23,
    "start_time": "2024-09-17T07:50:10.263Z"
   },
   {
    "duration": 10,
    "start_time": "2024-09-17T07:50:10.287Z"
   },
   {
    "duration": 39,
    "start_time": "2024-09-17T07:50:10.298Z"
   },
   {
    "duration": 5,
    "start_time": "2024-09-17T07:50:10.339Z"
   },
   {
    "duration": 15,
    "start_time": "2024-09-17T07:50:10.346Z"
   },
   {
    "duration": 7,
    "start_time": "2024-09-17T07:50:10.362Z"
   },
   {
    "duration": 11,
    "start_time": "2024-09-17T07:50:10.370Z"
   },
   {
    "duration": 10,
    "start_time": "2024-09-17T07:50:10.383Z"
   },
   {
    "duration": 7,
    "start_time": "2024-09-17T07:50:10.426Z"
   },
   {
    "duration": 7,
    "start_time": "2024-09-17T07:50:10.435Z"
   },
   {
    "duration": 8,
    "start_time": "2024-09-17T07:50:10.443Z"
   },
   {
    "duration": 7,
    "start_time": "2024-09-17T07:50:10.452Z"
   },
   {
    "duration": 8,
    "start_time": "2024-09-17T07:50:10.460Z"
   },
   {
    "duration": 57,
    "start_time": "2024-09-17T07:50:10.469Z"
   },
   {
    "duration": 16,
    "start_time": "2024-09-17T07:50:10.528Z"
   },
   {
    "duration": 9,
    "start_time": "2024-09-17T07:50:10.545Z"
   },
   {
    "duration": 414,
    "start_time": "2024-09-17T07:50:10.555Z"
   },
   {
    "duration": 17,
    "start_time": "2024-09-17T07:50:10.971Z"
   },
   {
    "duration": 1185,
    "start_time": "2024-09-17T07:50:10.990Z"
   },
   {
    "duration": 20,
    "start_time": "2024-09-17T07:50:12.177Z"
   },
   {
    "duration": 27,
    "start_time": "2024-09-17T07:50:12.198Z"
   },
   {
    "duration": 1602,
    "start_time": "2024-09-17T07:50:12.228Z"
   },
   {
    "duration": 286,
    "start_time": "2024-09-17T07:50:13.832Z"
   },
   {
    "duration": 15,
    "start_time": "2024-09-17T07:50:14.119Z"
   },
   {
    "duration": 820,
    "start_time": "2024-09-17T07:50:14.135Z"
   },
   {
    "duration": 11,
    "start_time": "2024-09-17T08:14:31.898Z"
   },
   {
    "duration": 684,
    "start_time": "2024-09-17T08:14:52.434Z"
   },
   {
    "duration": 2092,
    "start_time": "2024-09-17T08:17:18.029Z"
   },
   {
    "duration": 56,
    "start_time": "2024-09-17T08:18:15.677Z"
   },
   {
    "duration": 1221,
    "start_time": "2024-09-17T08:18:23.196Z"
   },
   {
    "duration": 1900,
    "start_time": "2024-09-17T08:19:49.196Z"
   },
   {
    "duration": 625,
    "start_time": "2024-09-17T08:19:58.200Z"
   },
   {
    "duration": 1975,
    "start_time": "2024-09-17T08:20:04.797Z"
   },
   {
    "duration": 1907,
    "start_time": "2024-09-17T08:21:41.992Z"
   },
   {
    "duration": 1769,
    "start_time": "2024-09-17T08:21:54.448Z"
   },
   {
    "duration": 1319,
    "start_time": "2024-09-17T08:22:24.756Z"
   },
   {
    "duration": 1209,
    "start_time": "2024-09-17T08:22:45.561Z"
   },
   {
    "duration": 1225,
    "start_time": "2024-09-17T08:24:02.969Z"
   },
   {
    "duration": 17,
    "start_time": "2024-09-17T08:25:06.702Z"
   },
   {
    "duration": 17,
    "start_time": "2024-09-17T08:25:10.385Z"
   },
   {
    "duration": 1340,
    "start_time": "2024-09-17T08:25:33.862Z"
   },
   {
    "duration": 1257,
    "start_time": "2024-09-17T08:25:44.835Z"
   },
   {
    "duration": 1228,
    "start_time": "2024-09-17T08:28:05.416Z"
   },
   {
    "duration": 1501,
    "start_time": "2024-09-17T08:29:40.710Z"
   },
   {
    "duration": 2211,
    "start_time": "2024-09-17T08:30:02.331Z"
   },
   {
    "duration": 1222,
    "start_time": "2024-09-17T08:32:22.656Z"
   },
   {
    "duration": 277,
    "start_time": "2024-09-17T08:36:53.934Z"
   },
   {
    "duration": 13,
    "start_time": "2024-09-17T08:38:29.630Z"
   },
   {
    "duration": 11,
    "start_time": "2024-09-17T08:38:34.851Z"
   },
   {
    "duration": 11,
    "start_time": "2024-09-17T08:38:53.228Z"
   },
   {
    "duration": 11,
    "start_time": "2024-09-17T08:38:59.753Z"
   },
   {
    "duration": 11,
    "start_time": "2024-09-17T08:39:22.507Z"
   },
   {
    "duration": 10,
    "start_time": "2024-09-17T08:39:32.051Z"
   },
   {
    "duration": 1310,
    "start_time": "2024-09-17T08:39:53.949Z"
   },
   {
    "duration": 326,
    "start_time": "2024-09-17T08:39:56.513Z"
   },
   {
    "duration": 1203,
    "start_time": "2024-09-17T08:43:20.379Z"
   },
   {
    "duration": 1370,
    "start_time": "2024-09-17T08:46:37.657Z"
   },
   {
    "duration": 1341,
    "start_time": "2024-09-17T08:48:59.976Z"
   },
   {
    "duration": 1209,
    "start_time": "2024-09-17T08:49:09.224Z"
   },
   {
    "duration": 47,
    "start_time": "2024-09-17T08:50:17.873Z"
   },
   {
    "duration": 3,
    "start_time": "2024-09-17T08:50:47.561Z"
   },
   {
    "duration": 1171,
    "start_time": "2024-09-17T08:53:35.027Z"
   },
   {
    "duration": 58,
    "start_time": "2024-09-17T08:53:36.200Z"
   },
   {
    "duration": 19,
    "start_time": "2024-09-17T08:53:36.259Z"
   },
   {
    "duration": 14,
    "start_time": "2024-09-17T08:53:36.280Z"
   },
   {
    "duration": 38,
    "start_time": "2024-09-17T08:53:36.296Z"
   },
   {
    "duration": 13,
    "start_time": "2024-09-17T08:53:36.336Z"
   },
   {
    "duration": 29,
    "start_time": "2024-09-17T08:53:36.351Z"
   },
   {
    "duration": 9,
    "start_time": "2024-09-17T08:53:36.381Z"
   },
   {
    "duration": 24,
    "start_time": "2024-09-17T08:53:36.392Z"
   },
   {
    "duration": 6,
    "start_time": "2024-09-17T08:53:36.424Z"
   },
   {
    "duration": 13,
    "start_time": "2024-09-17T08:53:36.431Z"
   },
   {
    "duration": 5,
    "start_time": "2024-09-17T08:53:36.446Z"
   },
   {
    "duration": 7,
    "start_time": "2024-09-17T08:53:36.452Z"
   },
   {
    "duration": 6,
    "start_time": "2024-09-17T08:53:36.461Z"
   },
   {
    "duration": 33,
    "start_time": "2024-09-17T08:53:36.468Z"
   },
   {
    "duration": 26,
    "start_time": "2024-09-17T08:53:36.502Z"
   },
   {
    "duration": 16,
    "start_time": "2024-09-17T08:53:36.530Z"
   },
   {
    "duration": 16,
    "start_time": "2024-09-17T08:53:36.548Z"
   },
   {
    "duration": 11,
    "start_time": "2024-09-17T08:53:36.566Z"
   },
   {
    "duration": 34,
    "start_time": "2024-09-17T08:53:36.578Z"
   },
   {
    "duration": 15,
    "start_time": "2024-09-17T08:53:36.614Z"
   },
   {
    "duration": 50,
    "start_time": "2024-09-17T08:53:36.631Z"
   },
   {
    "duration": 458,
    "start_time": "2024-09-17T08:53:36.682Z"
   },
   {
    "duration": 16,
    "start_time": "2024-09-17T08:53:37.141Z"
   },
   {
    "duration": 1163,
    "start_time": "2024-09-17T08:53:37.158Z"
   },
   {
    "duration": 21,
    "start_time": "2024-09-17T08:53:38.323Z"
   },
   {
    "duration": 14,
    "start_time": "2024-09-17T08:53:38.345Z"
   },
   {
    "duration": 1562,
    "start_time": "2024-09-17T08:53:38.361Z"
   },
   {
    "duration": 263,
    "start_time": "2024-09-17T08:53:39.924Z"
   },
   {
    "duration": 113,
    "start_time": "2024-09-17T08:53:40.189Z"
   },
   {
    "duration": 1387,
    "start_time": "2024-09-17T08:54:51.007Z"
   },
   {
    "duration": 1461,
    "start_time": "2024-09-17T08:55:48.251Z"
   },
   {
    "duration": 1449,
    "start_time": "2024-09-17T09:35:52.753Z"
   },
   {
    "duration": 1560,
    "start_time": "2024-09-17T09:36:26.643Z"
   },
   {
    "duration": 1458,
    "start_time": "2024-09-17T09:36:54.425Z"
   },
   {
    "duration": 1492,
    "start_time": "2024-09-17T09:37:41.778Z"
   },
   {
    "duration": 1407,
    "start_time": "2024-09-17T09:38:49.297Z"
   },
   {
    "duration": 1509,
    "start_time": "2024-09-17T09:39:30.270Z"
   },
   {
    "duration": 1541,
    "start_time": "2024-09-17T09:41:57.494Z"
   },
   {
    "duration": 14,
    "start_time": "2024-09-17T09:47:08.377Z"
   },
   {
    "duration": 14,
    "start_time": "2024-09-17T09:48:24.015Z"
   },
   {
    "duration": 13,
    "start_time": "2024-09-17T09:48:26.500Z"
   },
   {
    "duration": 21,
    "start_time": "2024-09-17T09:48:45.801Z"
   },
   {
    "duration": 19,
    "start_time": "2024-09-17T09:49:48.526Z"
   },
   {
    "duration": 56,
    "start_time": "2024-09-17T09:50:30.651Z"
   },
   {
    "duration": 16,
    "start_time": "2024-09-17T09:51:11.360Z"
   },
   {
    "duration": 2,
    "start_time": "2024-09-17T10:02:12.251Z"
   },
   {
    "duration": 18,
    "start_time": "2024-09-17T10:07:35.767Z"
   },
   {
    "duration": 12,
    "start_time": "2024-09-17T10:09:08.477Z"
   },
   {
    "duration": 46,
    "start_time": "2024-09-17T10:09:21.384Z"
   },
   {
    "duration": 45,
    "start_time": "2024-09-17T10:09:46.063Z"
   },
   {
    "duration": 49,
    "start_time": "2024-09-17T10:09:57.053Z"
   },
   {
    "duration": 48,
    "start_time": "2024-09-17T10:10:07.362Z"
   },
   {
    "duration": 50,
    "start_time": "2024-09-17T10:10:15.683Z"
   },
   {
    "duration": 50,
    "start_time": "2024-09-17T10:10:23.893Z"
   },
   {
    "duration": 49,
    "start_time": "2024-09-17T10:10:30.782Z"
   },
   {
    "duration": 39,
    "start_time": "2024-09-17T10:10:48.264Z"
   },
   {
    "duration": 50,
    "start_time": "2024-09-17T10:11:14.431Z"
   },
   {
    "duration": 45,
    "start_time": "2024-09-17T10:11:29.437Z"
   },
   {
    "duration": 10,
    "start_time": "2024-09-17T10:11:46.983Z"
   },
   {
    "duration": 48,
    "start_time": "2024-09-17T10:11:54.641Z"
   },
   {
    "duration": 21,
    "start_time": "2024-09-17T10:12:02.936Z"
   },
   {
    "duration": 18,
    "start_time": "2024-09-17T10:12:41.755Z"
   },
   {
    "duration": 50,
    "start_time": "2024-09-17T10:12:55.690Z"
   },
   {
    "duration": 46,
    "start_time": "2024-09-17T10:14:13.726Z"
   },
   {
    "duration": 53,
    "start_time": "2024-09-17T10:14:59.902Z"
   },
   {
    "duration": 63,
    "start_time": "2024-09-17T10:15:15.533Z"
   },
   {
    "duration": 48,
    "start_time": "2024-09-17T10:15:28.324Z"
   },
   {
    "duration": 50,
    "start_time": "2024-09-17T10:15:39.854Z"
   },
   {
    "duration": 56,
    "start_time": "2024-09-17T10:15:53.528Z"
   },
   {
    "duration": 54,
    "start_time": "2024-09-17T10:16:11.332Z"
   },
   {
    "duration": 51,
    "start_time": "2024-09-17T10:16:35.151Z"
   },
   {
    "duration": 1401,
    "start_time": "2024-09-17T11:01:03.184Z"
   },
   {
    "duration": 15,
    "start_time": "2024-09-17T11:01:28.193Z"
   },
   {
    "duration": 142,
    "start_time": "2024-09-17T11:02:32.934Z"
   },
   {
    "duration": 13,
    "start_time": "2024-09-17T11:03:37.690Z"
   },
   {
    "duration": 10,
    "start_time": "2024-09-17T11:04:12.878Z"
   },
   {
    "duration": 1431,
    "start_time": "2024-09-17T11:06:57.732Z"
   },
   {
    "duration": 13,
    "start_time": "2024-09-17T11:15:03.268Z"
   },
   {
    "duration": 11,
    "start_time": "2024-09-17T11:15:23.589Z"
   },
   {
    "duration": 17,
    "start_time": "2024-09-17T11:17:06.010Z"
   },
   {
    "duration": 17,
    "start_time": "2024-09-17T11:17:46.525Z"
   },
   {
    "duration": 15,
    "start_time": "2024-09-17T11:18:37.406Z"
   },
   {
    "duration": 14,
    "start_time": "2024-09-17T11:19:07.609Z"
   },
   {
    "duration": 17,
    "start_time": "2024-09-17T11:23:47.161Z"
   },
   {
    "duration": 14,
    "start_time": "2024-09-17T11:23:58.465Z"
   },
   {
    "duration": 13,
    "start_time": "2024-09-17T11:24:07.157Z"
   },
   {
    "duration": 15,
    "start_time": "2024-09-17T11:24:16.018Z"
   },
   {
    "duration": 15,
    "start_time": "2024-09-17T11:24:23.633Z"
   },
   {
    "duration": 1379,
    "start_time": "2024-09-17T11:24:28.800Z"
   },
   {
    "duration": 69,
    "start_time": "2024-09-17T11:24:30.181Z"
   },
   {
    "duration": 23,
    "start_time": "2024-09-17T11:24:30.252Z"
   },
   {
    "duration": 29,
    "start_time": "2024-09-17T11:24:30.277Z"
   },
   {
    "duration": 38,
    "start_time": "2024-09-17T11:24:30.309Z"
   },
   {
    "duration": 15,
    "start_time": "2024-09-17T11:24:30.348Z"
   },
   {
    "duration": 30,
    "start_time": "2024-09-17T11:24:30.364Z"
   },
   {
    "duration": 19,
    "start_time": "2024-09-17T11:24:30.396Z"
   },
   {
    "duration": 45,
    "start_time": "2024-09-17T11:24:30.416Z"
   },
   {
    "duration": 8,
    "start_time": "2024-09-17T11:24:30.463Z"
   },
   {
    "duration": 27,
    "start_time": "2024-09-17T11:24:30.473Z"
   },
   {
    "duration": 6,
    "start_time": "2024-09-17T11:24:30.502Z"
   },
   {
    "duration": 8,
    "start_time": "2024-09-17T11:24:30.510Z"
   },
   {
    "duration": 8,
    "start_time": "2024-09-17T11:24:30.521Z"
   },
   {
    "duration": 18,
    "start_time": "2024-09-17T11:24:30.530Z"
   },
   {
    "duration": 8,
    "start_time": "2024-09-17T11:24:30.549Z"
   },
   {
    "duration": 22,
    "start_time": "2024-09-17T11:24:30.559Z"
   },
   {
    "duration": 11,
    "start_time": "2024-09-17T11:24:30.583Z"
   },
   {
    "duration": 28,
    "start_time": "2024-09-17T11:24:30.597Z"
   },
   {
    "duration": 28,
    "start_time": "2024-09-17T11:24:30.626Z"
   },
   {
    "duration": 18,
    "start_time": "2024-09-17T11:24:30.656Z"
   },
   {
    "duration": 27,
    "start_time": "2024-09-17T11:24:30.676Z"
   },
   {
    "duration": 458,
    "start_time": "2024-09-17T11:24:30.704Z"
   },
   {
    "duration": 16,
    "start_time": "2024-09-17T11:24:31.164Z"
   },
   {
    "duration": 1223,
    "start_time": "2024-09-17T11:24:31.181Z"
   },
   {
    "duration": 26,
    "start_time": "2024-09-17T11:24:32.405Z"
   },
   {
    "duration": 14,
    "start_time": "2024-09-17T11:24:32.432Z"
   },
   {
    "duration": 1651,
    "start_time": "2024-09-17T11:24:32.448Z"
   },
   {
    "duration": 279,
    "start_time": "2024-09-17T11:24:34.101Z"
   },
   {
    "duration": 1488,
    "start_time": "2024-09-17T11:24:34.382Z"
   },
   {
    "duration": 54,
    "start_time": "2024-09-17T11:24:35.872Z"
   },
   {
    "duration": 15,
    "start_time": "2024-09-17T11:24:35.928Z"
   },
   {
    "duration": 15,
    "start_time": "2024-09-17T11:24:35.945Z"
   },
   {
    "duration": 14,
    "start_time": "2024-09-17T11:24:35.962Z"
   },
   {
    "duration": 16,
    "start_time": "2024-09-17T11:24:35.978Z"
   },
   {
    "duration": 49,
    "start_time": "2024-09-17T11:24:35.995Z"
   },
   {
    "duration": 3,
    "start_time": "2024-09-17T11:53:32.604Z"
   },
   {
    "duration": 45,
    "start_time": "2024-09-17T11:58:48.569Z"
   },
   {
    "duration": 49,
    "start_time": "2024-09-17T11:59:07.546Z"
   },
   {
    "duration": 193,
    "start_time": "2024-09-17T11:59:13.120Z"
   },
   {
    "duration": 46,
    "start_time": "2024-09-17T11:59:23.081Z"
   },
   {
    "duration": 54,
    "start_time": "2024-09-17T11:59:26.715Z"
   },
   {
    "duration": 44,
    "start_time": "2024-09-17T11:59:40.449Z"
   },
   {
    "duration": 3,
    "start_time": "2024-09-17T11:59:43.451Z"
   },
   {
    "duration": 47,
    "start_time": "2024-09-17T11:59:46.946Z"
   },
   {
    "duration": 49,
    "start_time": "2024-09-17T11:59:51.985Z"
   },
   {
    "duration": 258,
    "start_time": "2024-09-17T12:00:01.437Z"
   },
   {
    "duration": 183,
    "start_time": "2024-09-17T12:00:55.207Z"
   },
   {
    "duration": 168,
    "start_time": "2024-09-17T12:01:26.865Z"
   },
   {
    "duration": 203,
    "start_time": "2024-09-17T12:01:35.211Z"
   },
   {
    "duration": 188,
    "start_time": "2024-09-17T12:02:52.642Z"
   },
   {
    "duration": 198,
    "start_time": "2024-09-17T12:04:41.051Z"
   },
   {
    "duration": 294,
    "start_time": "2024-09-17T12:04:50.256Z"
   },
   {
    "duration": 267,
    "start_time": "2024-09-17T12:09:26.528Z"
   },
   {
    "duration": 382,
    "start_time": "2024-09-17T12:09:56.125Z"
   },
   {
    "duration": 294,
    "start_time": "2024-09-17T12:10:19.620Z"
   },
   {
    "duration": 302,
    "start_time": "2024-09-17T12:10:29.361Z"
   },
   {
    "duration": 291,
    "start_time": "2024-09-17T12:15:27.420Z"
   },
   {
    "duration": 281,
    "start_time": "2024-09-17T12:15:38.356Z"
   },
   {
    "duration": 284,
    "start_time": "2024-09-17T12:17:38.621Z"
   },
   {
    "duration": 154,
    "start_time": "2024-09-17T12:17:45.134Z"
   },
   {
    "duration": 366,
    "start_time": "2024-09-17T12:17:50.498Z"
   },
   {
    "duration": 166,
    "start_time": "2024-09-17T12:17:59.900Z"
   },
   {
    "duration": 269,
    "start_time": "2024-09-17T12:18:17.251Z"
   },
   {
    "duration": 285,
    "start_time": "2024-09-17T12:18:43.723Z"
   },
   {
    "duration": 289,
    "start_time": "2024-09-17T12:19:01.009Z"
   },
   {
    "duration": 290,
    "start_time": "2024-09-17T12:19:56.007Z"
   },
   {
    "duration": 424,
    "start_time": "2024-09-17T12:23:10.736Z"
   },
   {
    "duration": 408,
    "start_time": "2024-09-17T12:23:19.362Z"
   },
   {
    "duration": 20,
    "start_time": "2024-09-17T12:24:18.886Z"
   },
   {
    "duration": 198,
    "start_time": "2024-09-17T12:30:48.838Z"
   },
   {
    "duration": 3,
    "start_time": "2024-09-17T13:00:38.565Z"
   },
   {
    "duration": 4,
    "start_time": "2024-09-17T13:45:40.198Z"
   },
   {
    "duration": 16,
    "start_time": "2024-09-17T13:48:09.495Z"
   },
   {
    "duration": 50,
    "start_time": "2024-09-17T13:49:53.962Z"
   },
   {
    "duration": 56,
    "start_time": "2024-09-17T13:50:47.721Z"
   },
   {
    "duration": 1320,
    "start_time": "2024-09-17T17:31:35.355Z"
   },
   {
    "duration": 71,
    "start_time": "2024-09-17T17:31:36.676Z"
   },
   {
    "duration": 29,
    "start_time": "2024-09-17T17:31:36.749Z"
   },
   {
    "duration": 15,
    "start_time": "2024-09-17T17:31:36.779Z"
   },
   {
    "duration": 53,
    "start_time": "2024-09-17T17:31:36.797Z"
   },
   {
    "duration": 14,
    "start_time": "2024-09-17T17:31:36.851Z"
   },
   {
    "duration": 22,
    "start_time": "2024-09-17T17:31:36.866Z"
   },
   {
    "duration": 10,
    "start_time": "2024-09-17T17:31:36.890Z"
   },
   {
    "duration": 58,
    "start_time": "2024-09-17T17:31:36.902Z"
   },
   {
    "duration": 14,
    "start_time": "2024-09-17T17:31:36.962Z"
   },
   {
    "duration": 15,
    "start_time": "2024-09-17T17:31:36.978Z"
   },
   {
    "duration": 47,
    "start_time": "2024-09-17T17:31:36.994Z"
   },
   {
    "duration": 14,
    "start_time": "2024-09-17T17:31:37.043Z"
   },
   {
    "duration": 8,
    "start_time": "2024-09-17T17:31:37.059Z"
   },
   {
    "duration": 7,
    "start_time": "2024-09-17T17:31:37.068Z"
   },
   {
    "duration": 7,
    "start_time": "2024-09-17T17:31:37.076Z"
   },
   {
    "duration": 7,
    "start_time": "2024-09-17T17:31:37.084Z"
   },
   {
    "duration": 33,
    "start_time": "2024-09-17T17:31:37.093Z"
   },
   {
    "duration": 11,
    "start_time": "2024-09-17T17:31:37.128Z"
   },
   {
    "duration": 65,
    "start_time": "2024-09-17T17:31:37.142Z"
   },
   {
    "duration": 15,
    "start_time": "2024-09-17T17:31:37.208Z"
   },
   {
    "duration": 46,
    "start_time": "2024-09-17T17:31:37.224Z"
   },
   {
    "duration": 390,
    "start_time": "2024-09-17T17:31:37.271Z"
   },
   {
    "duration": 17,
    "start_time": "2024-09-17T17:31:37.662Z"
   },
   {
    "duration": 1349,
    "start_time": "2024-09-17T17:31:37.680Z"
   },
   {
    "duration": 32,
    "start_time": "2024-09-17T17:31:39.032Z"
   },
   {
    "duration": 21,
    "start_time": "2024-09-17T17:31:39.066Z"
   },
   {
    "duration": 1813,
    "start_time": "2024-09-17T17:31:39.089Z"
   },
   {
    "duration": 292,
    "start_time": "2024-09-17T17:31:40.903Z"
   },
   {
    "duration": 1462,
    "start_time": "2024-09-17T17:31:41.196Z"
   },
   {
    "duration": 52,
    "start_time": "2024-09-17T17:31:42.660Z"
   },
   {
    "duration": 15,
    "start_time": "2024-09-17T17:31:42.713Z"
   },
   {
    "duration": 21,
    "start_time": "2024-09-17T17:31:42.730Z"
   },
   {
    "duration": 16,
    "start_time": "2024-09-17T17:31:42.753Z"
   },
   {
    "duration": 17,
    "start_time": "2024-09-17T17:31:42.770Z"
   },
   {
    "duration": 39,
    "start_time": "2024-09-17T17:31:42.788Z"
   },
   {
    "duration": 231,
    "start_time": "2024-09-17T17:31:42.829Z"
   },
   {
    "duration": 506,
    "start_time": "2024-09-17T17:31:43.061Z"
   },
   {
    "duration": 14,
    "start_time": "2024-09-17T17:31:43.568Z"
   },
   {
    "duration": 59,
    "start_time": "2024-09-17T17:31:43.583Z"
   },
   {
    "duration": 0,
    "start_time": "2024-09-17T17:31:43.644Z"
   },
   {
    "duration": 201,
    "start_time": "2024-09-17T17:32:33.717Z"
   },
   {
    "duration": 114,
    "start_time": "2024-09-17T17:32:53.250Z"
   },
   {
    "duration": 13,
    "start_time": "2024-09-17T17:33:27.238Z"
   },
   {
    "duration": 15,
    "start_time": "2024-09-17T17:33:43.038Z"
   },
   {
    "duration": 216,
    "start_time": "2024-09-17T17:34:13.538Z"
   },
   {
    "duration": 12,
    "start_time": "2024-09-17T17:34:31.013Z"
   },
   {
    "duration": 14,
    "start_time": "2024-09-17T17:39:58.613Z"
   },
   {
    "duration": 12,
    "start_time": "2024-09-17T17:40:27.860Z"
   },
   {
    "duration": 1182,
    "start_time": "2024-09-17T17:40:33.239Z"
   },
   {
    "duration": 60,
    "start_time": "2024-09-17T17:40:34.425Z"
   },
   {
    "duration": 21,
    "start_time": "2024-09-17T17:40:34.487Z"
   },
   {
    "duration": 30,
    "start_time": "2024-09-17T17:40:34.510Z"
   },
   {
    "duration": 32,
    "start_time": "2024-09-17T17:40:34.542Z"
   },
   {
    "duration": 13,
    "start_time": "2024-09-17T17:40:34.576Z"
   },
   {
    "duration": 35,
    "start_time": "2024-09-17T17:40:34.590Z"
   },
   {
    "duration": 14,
    "start_time": "2024-09-17T17:40:34.627Z"
   },
   {
    "duration": 20,
    "start_time": "2024-09-17T17:40:34.643Z"
   },
   {
    "duration": 5,
    "start_time": "2024-09-17T17:40:34.665Z"
   },
   {
    "duration": 17,
    "start_time": "2024-09-17T17:40:34.671Z"
   },
   {
    "duration": 6,
    "start_time": "2024-09-17T17:40:34.689Z"
   },
   {
    "duration": 32,
    "start_time": "2024-09-17T17:40:34.696Z"
   },
   {
    "duration": 18,
    "start_time": "2024-09-17T17:40:34.730Z"
   },
   {
    "duration": 8,
    "start_time": "2024-09-17T17:40:34.750Z"
   },
   {
    "duration": 11,
    "start_time": "2024-09-17T17:40:34.759Z"
   },
   {
    "duration": 8,
    "start_time": "2024-09-17T17:40:34.771Z"
   },
   {
    "duration": 9,
    "start_time": "2024-09-17T17:40:34.780Z"
   },
   {
    "duration": 23,
    "start_time": "2024-09-17T17:40:34.791Z"
   },
   {
    "duration": 28,
    "start_time": "2024-09-17T17:40:34.816Z"
   },
   {
    "duration": 16,
    "start_time": "2024-09-17T17:40:34.846Z"
   },
   {
    "duration": 15,
    "start_time": "2024-09-17T17:40:34.864Z"
   },
   {
    "duration": 425,
    "start_time": "2024-09-17T17:40:34.880Z"
   },
   {
    "duration": 27,
    "start_time": "2024-09-17T17:40:35.307Z"
   },
   {
    "duration": 1208,
    "start_time": "2024-09-17T17:40:35.336Z"
   },
   {
    "duration": 21,
    "start_time": "2024-09-17T17:40:36.545Z"
   },
   {
    "duration": 12,
    "start_time": "2024-09-17T17:40:36.567Z"
   },
   {
    "duration": 1668,
    "start_time": "2024-09-17T17:40:36.583Z"
   },
   {
    "duration": 284,
    "start_time": "2024-09-17T17:40:38.252Z"
   },
   {
    "duration": 1481,
    "start_time": "2024-09-17T17:40:38.537Z"
   },
   {
    "duration": 60,
    "start_time": "2024-09-17T17:40:40.020Z"
   },
   {
    "duration": 16,
    "start_time": "2024-09-17T17:40:40.081Z"
   },
   {
    "duration": 45,
    "start_time": "2024-09-17T17:40:40.098Z"
   },
   {
    "duration": 21,
    "start_time": "2024-09-17T17:40:40.145Z"
   },
   {
    "duration": 16,
    "start_time": "2024-09-17T17:40:40.167Z"
   },
   {
    "duration": 15,
    "start_time": "2024-09-17T17:40:40.185Z"
   },
   {
    "duration": 225,
    "start_time": "2024-09-17T17:40:40.202Z"
   },
   {
    "duration": 473,
    "start_time": "2024-09-17T17:40:40.429Z"
   },
   {
    "duration": 24,
    "start_time": "2024-09-17T17:40:40.904Z"
   },
   {
    "duration": 117,
    "start_time": "2024-09-17T17:40:40.929Z"
   },
   {
    "duration": 0,
    "start_time": "2024-09-17T17:40:41.047Z"
   },
   {
    "duration": 11,
    "start_time": "2024-09-17T17:41:03.463Z"
   },
   {
    "duration": 12,
    "start_time": "2024-09-17T17:41:06.459Z"
   },
   {
    "duration": 12,
    "start_time": "2024-09-17T17:42:02.559Z"
   },
   {
    "duration": 12,
    "start_time": "2024-09-17T17:42:08.270Z"
   },
   {
    "duration": 12,
    "start_time": "2024-09-17T17:43:34.061Z"
   },
   {
    "duration": 4,
    "start_time": "2024-09-17T17:45:28.577Z"
   },
   {
    "duration": 4,
    "start_time": "2024-09-17T17:45:34.257Z"
   },
   {
    "duration": 15,
    "start_time": "2024-09-17T17:45:44.705Z"
   },
   {
    "duration": 13,
    "start_time": "2024-09-17T17:46:46.919Z"
   },
   {
    "duration": 17,
    "start_time": "2024-09-17T17:46:51.085Z"
   },
   {
    "duration": 18,
    "start_time": "2024-09-17T17:47:17.286Z"
   },
   {
    "duration": 722,
    "start_time": "2024-09-17T17:48:07.951Z"
   },
   {
    "duration": 193,
    "start_time": "2024-09-17T17:59:36.681Z"
   },
   {
    "duration": 691,
    "start_time": "2024-09-17T18:02:13.332Z"
   },
   {
    "duration": 661,
    "start_time": "2024-09-17T18:02:38.653Z"
   },
   {
    "duration": 686,
    "start_time": "2024-09-17T18:03:00.215Z"
   },
   {
    "duration": 16,
    "start_time": "2024-09-17T18:03:26.961Z"
   },
   {
    "duration": 4,
    "start_time": "2024-09-17T18:04:26.553Z"
   },
   {
    "duration": 13,
    "start_time": "2024-09-17T18:04:32.713Z"
   },
   {
    "duration": 709,
    "start_time": "2024-09-17T18:05:16.351Z"
   },
   {
    "duration": 708,
    "start_time": "2024-09-17T18:06:29.608Z"
   },
   {
    "duration": 14,
    "start_time": "2024-09-17T18:12:22.726Z"
   },
   {
    "duration": 886,
    "start_time": "2024-09-17T18:12:35.841Z"
   },
   {
    "duration": 128,
    "start_time": "2024-09-17T18:13:20.297Z"
   },
   {
    "duration": 109,
    "start_time": "2024-09-17T18:26:13.209Z"
   },
   {
    "duration": 98,
    "start_time": "2024-09-17T18:27:50.546Z"
   },
   {
    "duration": 104,
    "start_time": "2024-09-17T18:27:58.755Z"
   },
   {
    "duration": 111,
    "start_time": "2024-09-17T18:28:43.051Z"
   },
   {
    "duration": 14,
    "start_time": "2024-09-17T18:30:32.809Z"
   },
   {
    "duration": 107,
    "start_time": "2024-09-17T18:31:21.889Z"
   },
   {
    "duration": 21,
    "start_time": "2024-09-17T18:32:50.973Z"
   },
   {
    "duration": 101,
    "start_time": "2024-09-17T18:36:41.028Z"
   },
   {
    "duration": 14,
    "start_time": "2024-09-17T18:37:00.742Z"
   },
   {
    "duration": 710,
    "start_time": "2024-09-17T18:39:41.613Z"
   },
   {
    "duration": 51,
    "start_time": "2024-09-17T18:40:14.945Z"
   },
   {
    "duration": 55,
    "start_time": "2024-09-17T18:41:06.268Z"
   },
   {
    "duration": 1158,
    "start_time": "2024-09-17T18:41:11.574Z"
   },
   {
    "duration": 58,
    "start_time": "2024-09-17T18:41:12.734Z"
   },
   {
    "duration": 20,
    "start_time": "2024-09-17T18:41:12.793Z"
   },
   {
    "duration": 15,
    "start_time": "2024-09-17T18:41:12.815Z"
   },
   {
    "duration": 28,
    "start_time": "2024-09-17T18:41:12.832Z"
   },
   {
    "duration": 14,
    "start_time": "2024-09-17T18:41:12.862Z"
   },
   {
    "duration": 22,
    "start_time": "2024-09-17T18:41:12.877Z"
   },
   {
    "duration": 10,
    "start_time": "2024-09-17T18:41:12.925Z"
   },
   {
    "duration": 14,
    "start_time": "2024-09-17T18:41:12.936Z"
   },
   {
    "duration": 5,
    "start_time": "2024-09-17T18:41:12.951Z"
   },
   {
    "duration": 16,
    "start_time": "2024-09-17T18:41:12.957Z"
   },
   {
    "duration": 6,
    "start_time": "2024-09-17T18:41:12.975Z"
   },
   {
    "duration": 9,
    "start_time": "2024-09-17T18:41:12.982Z"
   },
   {
    "duration": 8,
    "start_time": "2024-09-17T18:41:13.027Z"
   },
   {
    "duration": 7,
    "start_time": "2024-09-17T18:41:13.037Z"
   },
   {
    "duration": 9,
    "start_time": "2024-09-17T18:41:13.045Z"
   },
   {
    "duration": 11,
    "start_time": "2024-09-17T18:41:13.055Z"
   },
   {
    "duration": 10,
    "start_time": "2024-09-17T18:41:13.067Z"
   },
   {
    "duration": 18,
    "start_time": "2024-09-17T18:41:13.078Z"
   },
   {
    "duration": 30,
    "start_time": "2024-09-17T18:41:13.097Z"
   },
   {
    "duration": 15,
    "start_time": "2024-09-17T18:41:13.128Z"
   },
   {
    "duration": 7,
    "start_time": "2024-09-17T18:41:13.145Z"
   },
   {
    "duration": 401,
    "start_time": "2024-09-17T18:41:13.153Z"
   },
   {
    "duration": 16,
    "start_time": "2024-09-17T18:41:13.555Z"
   },
   {
    "duration": 1222,
    "start_time": "2024-09-17T18:41:13.572Z"
   },
   {
    "duration": 31,
    "start_time": "2024-09-17T18:41:14.796Z"
   },
   {
    "duration": 13,
    "start_time": "2024-09-17T18:41:14.829Z"
   },
   {
    "duration": 1618,
    "start_time": "2024-09-17T18:41:14.843Z"
   },
   {
    "duration": 263,
    "start_time": "2024-09-17T18:41:16.462Z"
   },
   {
    "duration": 1422,
    "start_time": "2024-09-17T18:41:16.728Z"
   },
   {
    "duration": 51,
    "start_time": "2024-09-17T18:41:18.151Z"
   },
   {
    "duration": 14,
    "start_time": "2024-09-17T18:41:18.204Z"
   },
   {
    "duration": 19,
    "start_time": "2024-09-17T18:41:18.220Z"
   },
   {
    "duration": 19,
    "start_time": "2024-09-17T18:41:18.240Z"
   },
   {
    "duration": 15,
    "start_time": "2024-09-17T18:41:18.261Z"
   },
   {
    "duration": 13,
    "start_time": "2024-09-17T18:41:18.277Z"
   },
   {
    "duration": 229,
    "start_time": "2024-09-17T18:41:18.292Z"
   },
   {
    "duration": 496,
    "start_time": "2024-09-17T18:41:18.524Z"
   },
   {
    "duration": 14,
    "start_time": "2024-09-17T18:41:19.025Z"
   },
   {
    "duration": 137,
    "start_time": "2024-09-17T18:41:19.040Z"
   },
   {
    "duration": 14,
    "start_time": "2024-09-17T18:41:19.181Z"
   },
   {
    "duration": 52,
    "start_time": "2024-09-17T18:41:19.196Z"
   },
   {
    "duration": 49,
    "start_time": "2024-09-17T18:42:38.807Z"
   },
   {
    "duration": 111,
    "start_time": "2024-09-17T18:42:51.286Z"
   },
   {
    "duration": 54,
    "start_time": "2024-09-17T18:44:06.057Z"
   },
   {
    "duration": 49,
    "start_time": "2024-09-17T18:44:36.380Z"
   },
   {
    "duration": 46,
    "start_time": "2024-09-17T18:44:44.087Z"
   },
   {
    "duration": 12,
    "start_time": "2024-09-17T18:45:42.920Z"
   },
   {
    "duration": 101,
    "start_time": "2024-09-17T18:49:39.463Z"
   },
   {
    "duration": 4,
    "start_time": "2024-09-17T19:01:09.890Z"
   },
   {
    "duration": 16,
    "start_time": "2024-09-17T19:02:08.696Z"
   },
   {
    "duration": 109,
    "start_time": "2024-09-17T19:03:31.312Z"
   },
   {
    "duration": 9,
    "start_time": "2024-09-17T19:03:36.358Z"
   },
   {
    "duration": 11,
    "start_time": "2024-09-17T19:04:14.021Z"
   },
   {
    "duration": 15,
    "start_time": "2024-09-17T19:04:33.328Z"
   },
   {
    "duration": 1211,
    "start_time": "2024-09-18T06:40:36.831Z"
   },
   {
    "duration": 162,
    "start_time": "2024-09-18T06:40:38.043Z"
   },
   {
    "duration": 17,
    "start_time": "2024-09-18T06:40:38.206Z"
   },
   {
    "duration": 38,
    "start_time": "2024-09-18T06:40:38.225Z"
   },
   {
    "duration": 27,
    "start_time": "2024-09-18T06:40:38.264Z"
   },
   {
    "duration": 11,
    "start_time": "2024-09-18T06:40:38.293Z"
   },
   {
    "duration": 23,
    "start_time": "2024-09-18T06:40:38.305Z"
   },
   {
    "duration": 9,
    "start_time": "2024-09-18T06:40:38.329Z"
   },
   {
    "duration": 25,
    "start_time": "2024-09-18T06:40:38.339Z"
   },
   {
    "duration": 8,
    "start_time": "2024-09-18T06:40:38.367Z"
   },
   {
    "duration": 11,
    "start_time": "2024-09-18T06:40:38.377Z"
   },
   {
    "duration": 5,
    "start_time": "2024-09-18T06:40:38.389Z"
   },
   {
    "duration": 17,
    "start_time": "2024-09-18T06:40:38.396Z"
   },
   {
    "duration": 6,
    "start_time": "2024-09-18T06:40:38.415Z"
   },
   {
    "duration": 11,
    "start_time": "2024-09-18T06:40:38.423Z"
   },
   {
    "duration": 7,
    "start_time": "2024-09-18T06:40:38.435Z"
   },
   {
    "duration": 104,
    "start_time": "2024-09-18T06:40:38.443Z"
   },
   {
    "duration": 6,
    "start_time": "2024-09-18T06:40:38.549Z"
   },
   {
    "duration": 26,
    "start_time": "2024-09-18T06:40:38.556Z"
   },
   {
    "duration": 29,
    "start_time": "2024-09-18T06:40:38.584Z"
   },
   {
    "duration": 31,
    "start_time": "2024-09-18T06:40:38.615Z"
   },
   {
    "duration": 100,
    "start_time": "2024-09-18T06:40:38.647Z"
   },
   {
    "duration": 346,
    "start_time": "2024-09-18T06:40:38.748Z"
   },
   {
    "duration": 15,
    "start_time": "2024-09-18T06:40:39.096Z"
   },
   {
    "duration": 940,
    "start_time": "2024-09-18T06:40:39.112Z"
   },
   {
    "duration": 18,
    "start_time": "2024-09-18T06:40:40.053Z"
   },
   {
    "duration": 200,
    "start_time": "2024-09-18T06:40:40.073Z"
   },
   {
    "duration": 1359,
    "start_time": "2024-09-18T06:40:40.276Z"
   },
   {
    "duration": 224,
    "start_time": "2024-09-18T06:40:41.637Z"
   },
   {
    "duration": 1219,
    "start_time": "2024-09-18T06:40:41.862Z"
   },
   {
    "duration": 43,
    "start_time": "2024-09-18T06:40:43.083Z"
   },
   {
    "duration": 12,
    "start_time": "2024-09-18T06:40:43.127Z"
   },
   {
    "duration": 13,
    "start_time": "2024-09-18T06:40:43.140Z"
   },
   {
    "duration": 45,
    "start_time": "2024-09-18T06:40:43.154Z"
   },
   {
    "duration": 14,
    "start_time": "2024-09-18T06:40:43.200Z"
   },
   {
    "duration": 28,
    "start_time": "2024-09-18T06:40:43.215Z"
   },
   {
    "duration": 161,
    "start_time": "2024-09-18T06:40:43.244Z"
   },
   {
    "duration": 371,
    "start_time": "2024-09-18T06:40:43.407Z"
   },
   {
    "duration": 12,
    "start_time": "2024-09-18T06:40:43.779Z"
   },
   {
    "duration": 98,
    "start_time": "2024-09-18T06:40:43.792Z"
   },
   {
    "duration": 21,
    "start_time": "2024-09-18T06:40:43.891Z"
   },
   {
    "duration": 128,
    "start_time": "2024-09-18T06:40:43.913Z"
   },
   {
    "duration": 14,
    "start_time": "2024-09-18T06:40:44.043Z"
   },
   {
    "duration": 102,
    "start_time": "2024-09-18T06:40:44.058Z"
   },
   {
    "duration": 11,
    "start_time": "2024-09-18T06:40:44.162Z"
   },
   {
    "duration": 97,
    "start_time": "2024-09-18T06:40:44.174Z"
   },
   {
    "duration": 78,
    "start_time": "2024-09-18T06:41:11.398Z"
   },
   {
    "duration": 1150,
    "start_time": "2024-09-18T06:42:35.217Z"
   },
   {
    "duration": 87,
    "start_time": "2024-09-18T06:42:46.389Z"
   },
   {
    "duration": 13,
    "start_time": "2024-09-18T06:43:43.186Z"
   },
   {
    "duration": 91,
    "start_time": "2024-09-18T06:45:06.557Z"
   },
   {
    "duration": 11,
    "start_time": "2024-09-18T06:51:15.580Z"
   },
   {
    "duration": 83,
    "start_time": "2024-09-18T06:52:12.047Z"
   },
   {
    "duration": 2,
    "start_time": "2024-09-18T06:55:19.774Z"
   },
   {
    "duration": 14,
    "start_time": "2024-09-18T06:56:34.138Z"
   },
   {
    "duration": 109,
    "start_time": "2024-09-18T07:04:02.544Z"
   },
   {
    "duration": 147,
    "start_time": "2024-09-18T07:04:13.811Z"
   },
   {
    "duration": 12,
    "start_time": "2024-09-18T07:13:05.915Z"
   },
   {
    "duration": 1072,
    "start_time": "2024-09-18T07:14:15.897Z"
   },
   {
    "duration": 93,
    "start_time": "2024-09-18T07:14:24.487Z"
   },
   {
    "duration": 12,
    "start_time": "2024-09-18T07:17:25.563Z"
   },
   {
    "duration": 80,
    "start_time": "2024-09-18T07:24:17.563Z"
   },
   {
    "duration": 9,
    "start_time": "2024-09-18T08:07:14.485Z"
   },
   {
    "duration": 6,
    "start_time": "2024-09-18T08:30:08.524Z"
   },
   {
    "duration": 5,
    "start_time": "2024-09-18T08:34:30.606Z"
   },
   {
    "duration": 1127,
    "start_time": "2024-09-18T11:15:50.600Z"
   },
   {
    "duration": 52,
    "start_time": "2024-09-18T11:15:51.729Z"
   },
   {
    "duration": 16,
    "start_time": "2024-09-18T11:15:51.782Z"
   },
   {
    "duration": 11,
    "start_time": "2024-09-18T11:15:51.800Z"
   },
   {
    "duration": 23,
    "start_time": "2024-09-18T11:15:51.813Z"
   },
   {
    "duration": 11,
    "start_time": "2024-09-18T11:15:51.838Z"
   },
   {
    "duration": 26,
    "start_time": "2024-09-18T11:15:51.850Z"
   },
   {
    "duration": 7,
    "start_time": "2024-09-18T11:15:51.878Z"
   },
   {
    "duration": 27,
    "start_time": "2024-09-18T11:15:51.886Z"
   },
   {
    "duration": 10,
    "start_time": "2024-09-18T11:15:51.916Z"
   },
   {
    "duration": 34,
    "start_time": "2024-09-18T11:15:51.927Z"
   },
   {
    "duration": 84,
    "start_time": "2024-09-18T11:15:51.963Z"
   },
   {
    "duration": 141,
    "start_time": "2024-09-18T11:15:52.048Z"
   },
   {
    "duration": 42,
    "start_time": "2024-09-18T11:15:52.191Z"
   },
   {
    "duration": 33,
    "start_time": "2024-09-18T11:15:52.235Z"
   },
   {
    "duration": 22,
    "start_time": "2024-09-18T11:15:52.270Z"
   },
   {
    "duration": 12,
    "start_time": "2024-09-18T11:15:52.294Z"
   },
   {
    "duration": 11,
    "start_time": "2024-09-18T11:15:52.308Z"
   },
   {
    "duration": 19,
    "start_time": "2024-09-18T11:15:52.320Z"
   },
   {
    "duration": 18,
    "start_time": "2024-09-18T11:15:52.340Z"
   },
   {
    "duration": 12,
    "start_time": "2024-09-18T11:15:52.360Z"
   },
   {
    "duration": 76,
    "start_time": "2024-09-18T11:15:52.373Z"
   },
   {
    "duration": 344,
    "start_time": "2024-09-18T11:15:52.450Z"
   },
   {
    "duration": 20,
    "start_time": "2024-09-18T11:15:52.795Z"
   },
   {
    "duration": 980,
    "start_time": "2024-09-18T11:15:52.816Z"
   },
   {
    "duration": 23,
    "start_time": "2024-09-18T11:15:53.798Z"
   },
   {
    "duration": 17,
    "start_time": "2024-09-18T11:15:53.822Z"
   },
   {
    "duration": 1355,
    "start_time": "2024-09-18T11:15:53.843Z"
   },
   {
    "duration": 235,
    "start_time": "2024-09-18T11:15:55.199Z"
   },
   {
    "duration": 1178,
    "start_time": "2024-09-18T11:15:55.435Z"
   },
   {
    "duration": 43,
    "start_time": "2024-09-18T11:15:56.615Z"
   },
   {
    "duration": 11,
    "start_time": "2024-09-18T11:15:56.660Z"
   },
   {
    "duration": 20,
    "start_time": "2024-09-18T11:15:56.672Z"
   },
   {
    "duration": 16,
    "start_time": "2024-09-18T11:15:56.693Z"
   },
   {
    "duration": 14,
    "start_time": "2024-09-18T11:15:56.710Z"
   },
   {
    "duration": 17,
    "start_time": "2024-09-18T11:15:56.725Z"
   },
   {
    "duration": 171,
    "start_time": "2024-09-18T11:15:56.744Z"
   },
   {
    "duration": 402,
    "start_time": "2024-09-18T11:15:56.916Z"
   },
   {
    "duration": 11,
    "start_time": "2024-09-18T11:15:57.319Z"
   },
   {
    "duration": 105,
    "start_time": "2024-09-18T11:15:57.332Z"
   },
   {
    "duration": 11,
    "start_time": "2024-09-18T11:15:57.438Z"
   },
   {
    "duration": 105,
    "start_time": "2024-09-18T11:15:57.451Z"
   },
   {
    "duration": 12,
    "start_time": "2024-09-18T11:15:57.557Z"
   },
   {
    "duration": 91,
    "start_time": "2024-09-18T11:15:57.570Z"
   },
   {
    "duration": 13,
    "start_time": "2024-09-18T11:15:57.662Z"
   },
   {
    "duration": 104,
    "start_time": "2024-09-18T11:15:57.676Z"
   },
   {
    "duration": 12,
    "start_time": "2024-09-18T11:15:57.781Z"
   },
   {
    "duration": 97,
    "start_time": "2024-09-18T11:15:57.794Z"
   },
   {
    "duration": 18,
    "start_time": "2024-09-18T11:15:57.893Z"
   },
   {
    "duration": 82,
    "start_time": "2024-09-18T11:15:57.913Z"
   },
   {
    "duration": 20,
    "start_time": "2024-09-18T11:15:57.997Z"
   },
   {
    "duration": 116,
    "start_time": "2024-09-18T11:15:58.019Z"
   },
   {
    "duration": 12,
    "start_time": "2024-09-18T11:15:58.137Z"
   },
   {
    "duration": 103,
    "start_time": "2024-09-18T11:15:58.151Z"
   },
   {
    "duration": 12,
    "start_time": "2024-09-18T11:15:58.256Z"
   },
   {
    "duration": 116,
    "start_time": "2024-09-18T11:15:58.269Z"
   },
   {
    "duration": 6,
    "start_time": "2024-09-18T11:15:58.386Z"
   },
   {
    "duration": 56,
    "start_time": "2024-09-18T11:15:58.393Z"
   },
   {
    "duration": 1405,
    "start_time": "2024-09-18T11:55:00.592Z"
   },
   {
    "duration": 238,
    "start_time": "2024-09-18T11:55:01.999Z"
   },
   {
    "duration": 18,
    "start_time": "2024-09-18T11:55:02.238Z"
   },
   {
    "duration": 49,
    "start_time": "2024-09-18T11:55:02.257Z"
   },
   {
    "duration": 55,
    "start_time": "2024-09-18T11:55:02.308Z"
   },
   {
    "duration": 18,
    "start_time": "2024-09-18T11:55:02.365Z"
   },
   {
    "duration": 44,
    "start_time": "2024-09-18T11:55:02.385Z"
   },
   {
    "duration": 29,
    "start_time": "2024-09-18T11:55:02.430Z"
   },
   {
    "duration": 19,
    "start_time": "2024-09-18T11:55:02.460Z"
   },
   {
    "duration": 47,
    "start_time": "2024-09-18T11:55:02.480Z"
   },
   {
    "duration": 29,
    "start_time": "2024-09-18T11:55:02.528Z"
   },
   {
    "duration": 8,
    "start_time": "2024-09-18T11:55:02.558Z"
   },
   {
    "duration": 15,
    "start_time": "2024-09-18T11:55:02.567Z"
   },
   {
    "duration": 41,
    "start_time": "2024-09-18T11:55:02.585Z"
   },
   {
    "duration": 26,
    "start_time": "2024-09-18T11:55:02.628Z"
   },
   {
    "duration": 12,
    "start_time": "2024-09-18T11:55:02.656Z"
   },
   {
    "duration": 30,
    "start_time": "2024-09-18T11:55:02.670Z"
   },
   {
    "duration": 33,
    "start_time": "2024-09-18T11:55:02.701Z"
   },
   {
    "duration": 7,
    "start_time": "2024-09-18T11:55:02.736Z"
   },
   {
    "duration": 100,
    "start_time": "2024-09-18T11:55:02.745Z"
   },
   {
    "duration": 17,
    "start_time": "2024-09-18T11:55:02.847Z"
   },
   {
    "duration": 7,
    "start_time": "2024-09-18T11:55:02.866Z"
   },
   {
    "duration": 429,
    "start_time": "2024-09-18T11:55:02.874Z"
   },
   {
    "duration": 16,
    "start_time": "2024-09-18T11:55:03.304Z"
   },
   {
    "duration": 1215,
    "start_time": "2024-09-18T11:55:03.321Z"
   },
   {
    "duration": 21,
    "start_time": "2024-09-18T11:55:04.538Z"
   },
   {
    "duration": 13,
    "start_time": "2024-09-18T11:55:04.560Z"
   },
   {
    "duration": 1618,
    "start_time": "2024-09-18T11:55:04.590Z"
   },
   {
    "duration": 265,
    "start_time": "2024-09-18T11:55:06.209Z"
   },
   {
    "duration": 1415,
    "start_time": "2024-09-18T11:55:06.475Z"
   },
   {
    "duration": 48,
    "start_time": "2024-09-18T11:55:07.892Z"
   },
   {
    "duration": 14,
    "start_time": "2024-09-18T11:55:07.941Z"
   },
   {
    "duration": 92,
    "start_time": "2024-09-18T11:55:07.956Z"
   },
   {
    "duration": 25,
    "start_time": "2024-09-18T11:55:08.050Z"
   },
   {
    "duration": 14,
    "start_time": "2024-09-18T11:55:08.076Z"
   },
   {
    "duration": 13,
    "start_time": "2024-09-18T11:55:08.091Z"
   },
   {
    "duration": 196,
    "start_time": "2024-09-18T11:55:08.106Z"
   },
   {
    "duration": 458,
    "start_time": "2024-09-18T11:55:08.304Z"
   },
   {
    "duration": 27,
    "start_time": "2024-09-18T11:55:08.763Z"
   },
   {
    "duration": 146,
    "start_time": "2024-09-18T11:55:08.792Z"
   },
   {
    "duration": 15,
    "start_time": "2024-09-18T11:55:08.943Z"
   },
   {
    "duration": 118,
    "start_time": "2024-09-18T11:55:08.959Z"
   },
   {
    "duration": 19,
    "start_time": "2024-09-18T11:55:09.079Z"
   },
   {
    "duration": 98,
    "start_time": "2024-09-18T11:55:09.100Z"
   },
   {
    "duration": 12,
    "start_time": "2024-09-18T11:55:09.200Z"
   },
   {
    "duration": 116,
    "start_time": "2024-09-18T11:55:09.214Z"
   },
   {
    "duration": 12,
    "start_time": "2024-09-18T11:55:09.332Z"
   },
   {
    "duration": 155,
    "start_time": "2024-09-18T11:55:09.346Z"
   },
   {
    "duration": 13,
    "start_time": "2024-09-18T11:55:09.503Z"
   },
   {
    "duration": 114,
    "start_time": "2024-09-18T11:55:09.517Z"
   },
   {
    "duration": 14,
    "start_time": "2024-09-18T11:55:09.633Z"
   },
   {
    "duration": 119,
    "start_time": "2024-09-18T11:55:09.648Z"
   },
   {
    "duration": 22,
    "start_time": "2024-09-18T11:55:09.769Z"
   },
   {
    "duration": 113,
    "start_time": "2024-09-18T11:55:09.792Z"
   },
   {
    "duration": 13,
    "start_time": "2024-09-18T11:55:09.906Z"
   },
   {
    "duration": 111,
    "start_time": "2024-09-18T11:55:09.920Z"
   },
   {
    "duration": 14,
    "start_time": "2024-09-18T11:55:10.033Z"
   },
   {
    "duration": 19,
    "start_time": "2024-09-18T11:55:10.049Z"
   },
   {
    "duration": 82,
    "start_time": "2024-09-19T07:53:37.324Z"
   },
   {
    "duration": 1510,
    "start_time": "2024-09-19T07:57:38.564Z"
   },
   {
    "duration": 179,
    "start_time": "2024-09-19T07:57:40.076Z"
   },
   {
    "duration": 23,
    "start_time": "2024-09-19T07:57:40.257Z"
   },
   {
    "duration": 56,
    "start_time": "2024-09-19T07:57:40.282Z"
   },
   {
    "duration": 79,
    "start_time": "2024-09-19T07:57:40.339Z"
   },
   {
    "duration": 15,
    "start_time": "2024-09-19T07:57:40.419Z"
   },
   {
    "duration": 35,
    "start_time": "2024-09-19T07:57:40.436Z"
   },
   {
    "duration": 14,
    "start_time": "2024-09-19T07:57:40.473Z"
   },
   {
    "duration": 23,
    "start_time": "2024-09-19T07:57:40.489Z"
   },
   {
    "duration": 7,
    "start_time": "2024-09-19T07:57:40.514Z"
   },
   {
    "duration": 34,
    "start_time": "2024-09-19T07:57:40.523Z"
   },
   {
    "duration": 12,
    "start_time": "2024-09-19T07:57:40.558Z"
   },
   {
    "duration": 14,
    "start_time": "2024-09-19T07:57:40.572Z"
   },
   {
    "duration": 8,
    "start_time": "2024-09-19T07:57:40.588Z"
   },
   {
    "duration": 16,
    "start_time": "2024-09-19T07:57:40.605Z"
   },
   {
    "duration": 19,
    "start_time": "2024-09-19T07:57:40.623Z"
   },
   {
    "duration": 55,
    "start_time": "2024-09-19T07:57:40.644Z"
   },
   {
    "duration": 17,
    "start_time": "2024-09-19T07:57:40.701Z"
   },
   {
    "duration": 13,
    "start_time": "2024-09-19T07:57:40.719Z"
   },
   {
    "duration": 22,
    "start_time": "2024-09-19T07:57:40.734Z"
   },
   {
    "duration": 16,
    "start_time": "2024-09-19T07:57:40.758Z"
   },
   {
    "duration": 27,
    "start_time": "2024-09-19T07:57:40.776Z"
   },
   {
    "duration": 459,
    "start_time": "2024-09-19T07:57:40.805Z"
   },
   {
    "duration": 26,
    "start_time": "2024-09-19T07:57:41.267Z"
   },
   {
    "duration": 1347,
    "start_time": "2024-09-19T07:57:41.305Z"
   },
   {
    "duration": 24,
    "start_time": "2024-09-19T07:57:42.654Z"
   },
   {
    "duration": 28,
    "start_time": "2024-09-19T07:57:42.680Z"
   },
   {
    "duration": 1756,
    "start_time": "2024-09-19T07:57:42.714Z"
   },
   {
    "duration": 298,
    "start_time": "2024-09-19T07:57:44.471Z"
   },
   {
    "duration": 1643,
    "start_time": "2024-09-19T07:57:44.771Z"
   },
   {
    "duration": 56,
    "start_time": "2024-09-19T07:57:46.415Z"
   },
   {
    "duration": 16,
    "start_time": "2024-09-19T07:57:46.473Z"
   },
   {
    "duration": 31,
    "start_time": "2024-09-19T07:57:46.491Z"
   },
   {
    "duration": 15,
    "start_time": "2024-09-19T07:57:46.524Z"
   },
   {
    "duration": 32,
    "start_time": "2024-09-19T07:57:46.541Z"
   },
   {
    "duration": 15,
    "start_time": "2024-09-19T07:57:46.575Z"
   },
   {
    "duration": 242,
    "start_time": "2024-09-19T07:57:46.591Z"
   },
   {
    "duration": 504,
    "start_time": "2024-09-19T07:57:46.835Z"
   },
   {
    "duration": 15,
    "start_time": "2024-09-19T07:57:47.341Z"
   },
   {
    "duration": 127,
    "start_time": "2024-09-19T07:57:47.357Z"
   },
   {
    "duration": 20,
    "start_time": "2024-09-19T07:57:47.486Z"
   },
   {
    "duration": 130,
    "start_time": "2024-09-19T07:57:47.508Z"
   },
   {
    "duration": 14,
    "start_time": "2024-09-19T07:57:47.640Z"
   },
   {
    "duration": 119,
    "start_time": "2024-09-19T07:57:47.656Z"
   },
   {
    "duration": 14,
    "start_time": "2024-09-19T07:57:47.777Z"
   },
   {
    "duration": 134,
    "start_time": "2024-09-19T07:57:47.793Z"
   },
   {
    "duration": 15,
    "start_time": "2024-09-19T07:57:47.928Z"
   },
   {
    "duration": 135,
    "start_time": "2024-09-19T07:57:47.945Z"
   },
   {
    "duration": 24,
    "start_time": "2024-09-19T07:57:48.082Z"
   },
   {
    "duration": 132,
    "start_time": "2024-09-19T07:57:48.108Z"
   },
   {
    "duration": 15,
    "start_time": "2024-09-19T07:57:48.242Z"
   },
   {
    "duration": 144,
    "start_time": "2024-09-19T07:57:48.259Z"
   },
   {
    "duration": 15,
    "start_time": "2024-09-19T07:57:48.404Z"
   },
   {
    "duration": 144,
    "start_time": "2024-09-19T07:57:48.420Z"
   },
   {
    "duration": 14,
    "start_time": "2024-09-19T07:57:48.566Z"
   },
   {
    "duration": 120,
    "start_time": "2024-09-19T07:57:48.582Z"
   },
   {
    "duration": 8,
    "start_time": "2024-09-19T07:57:48.705Z"
   },
   {
    "duration": 12,
    "start_time": "2024-09-19T07:57:48.715Z"
   },
   {
    "duration": 20,
    "start_time": "2024-09-19T07:59:22.535Z"
   },
   {
    "duration": 22,
    "start_time": "2024-09-19T08:23:12.269Z"
   },
   {
    "duration": 21,
    "start_time": "2024-09-19T08:31:43.878Z"
   },
   {
    "duration": 20,
    "start_time": "2024-09-19T08:31:47.970Z"
   },
   {
    "duration": 1366,
    "start_time": "2024-09-19T08:32:20.081Z"
   },
   {
    "duration": 77,
    "start_time": "2024-09-19T08:32:21.449Z"
   },
   {
    "duration": 21,
    "start_time": "2024-09-19T08:32:21.528Z"
   },
   {
    "duration": 39,
    "start_time": "2024-09-19T08:32:21.551Z"
   },
   {
    "duration": 41,
    "start_time": "2024-09-19T08:32:21.591Z"
   },
   {
    "duration": 25,
    "start_time": "2024-09-19T08:32:21.633Z"
   },
   {
    "duration": 36,
    "start_time": "2024-09-19T08:32:21.660Z"
   },
   {
    "duration": 21,
    "start_time": "2024-09-19T08:32:21.698Z"
   },
   {
    "duration": 10,
    "start_time": "2024-09-19T08:32:21.721Z"
   },
   {
    "duration": 46,
    "start_time": "2024-09-19T08:32:21.734Z"
   },
   {
    "duration": 35,
    "start_time": "2024-09-19T08:32:21.782Z"
   },
   {
    "duration": 40,
    "start_time": "2024-09-19T08:32:21.818Z"
   },
   {
    "duration": 33,
    "start_time": "2024-09-19T08:32:21.859Z"
   },
   {
    "duration": 31,
    "start_time": "2024-09-19T08:32:21.893Z"
   },
   {
    "duration": 41,
    "start_time": "2024-09-19T08:32:21.926Z"
   },
   {
    "duration": 37,
    "start_time": "2024-09-19T08:32:21.968Z"
   },
   {
    "duration": 31,
    "start_time": "2024-09-19T08:32:22.007Z"
   },
   {
    "duration": 31,
    "start_time": "2024-09-19T08:32:22.040Z"
   },
   {
    "duration": 27,
    "start_time": "2024-09-19T08:32:22.073Z"
   },
   {
    "duration": 16,
    "start_time": "2024-09-19T08:32:22.102Z"
   },
   {
    "duration": 49,
    "start_time": "2024-09-19T08:32:22.120Z"
   },
   {
    "duration": 26,
    "start_time": "2024-09-19T08:32:22.170Z"
   },
   {
    "duration": 8,
    "start_time": "2024-09-19T08:32:22.198Z"
   },
   {
    "duration": 439,
    "start_time": "2024-09-19T08:32:22.208Z"
   },
   {
    "duration": 26,
    "start_time": "2024-09-19T08:32:22.650Z"
   },
   {
    "duration": 1540,
    "start_time": "2024-09-19T08:32:22.678Z"
   },
   {
    "duration": 23,
    "start_time": "2024-09-19T08:32:24.220Z"
   },
   {
    "duration": 14,
    "start_time": "2024-09-19T08:32:24.247Z"
   },
   {
    "duration": 1781,
    "start_time": "2024-09-19T08:32:24.263Z"
   },
   {
    "duration": 313,
    "start_time": "2024-09-19T08:32:26.046Z"
   },
   {
    "duration": 1563,
    "start_time": "2024-09-19T08:32:26.362Z"
   },
   {
    "duration": 56,
    "start_time": "2024-09-19T08:32:27.928Z"
   },
   {
    "duration": 15,
    "start_time": "2024-09-19T08:32:27.986Z"
   },
   {
    "duration": 44,
    "start_time": "2024-09-19T08:32:28.005Z"
   },
   {
    "duration": 26,
    "start_time": "2024-09-19T08:32:28.051Z"
   },
   {
    "duration": 18,
    "start_time": "2024-09-19T08:32:28.079Z"
   },
   {
    "duration": 14,
    "start_time": "2024-09-19T08:32:28.098Z"
   },
   {
    "duration": 229,
    "start_time": "2024-09-19T08:32:28.113Z"
   },
   {
    "duration": 517,
    "start_time": "2024-09-19T08:32:28.343Z"
   },
   {
    "duration": 20,
    "start_time": "2024-09-19T08:32:28.862Z"
   },
   {
    "duration": 132,
    "start_time": "2024-09-19T08:32:28.884Z"
   },
   {
    "duration": 16,
    "start_time": "2024-09-19T08:32:29.017Z"
   },
   {
    "duration": 237,
    "start_time": "2024-09-19T08:32:29.035Z"
   },
   {
    "duration": 15,
    "start_time": "2024-09-19T08:32:29.274Z"
   },
   {
    "duration": 132,
    "start_time": "2024-09-19T08:32:29.290Z"
   },
   {
    "duration": 15,
    "start_time": "2024-09-19T08:32:29.424Z"
   },
   {
    "duration": 161,
    "start_time": "2024-09-19T08:32:29.442Z"
   },
   {
    "duration": 16,
    "start_time": "2024-09-19T08:32:29.605Z"
   },
   {
    "duration": 149,
    "start_time": "2024-09-19T08:32:29.623Z"
   },
   {
    "duration": 15,
    "start_time": "2024-09-19T08:32:29.774Z"
   },
   {
    "duration": 130,
    "start_time": "2024-09-19T08:32:29.792Z"
   },
   {
    "duration": 15,
    "start_time": "2024-09-19T08:32:29.923Z"
   },
   {
    "duration": 143,
    "start_time": "2024-09-19T08:32:29.940Z"
   },
   {
    "duration": 24,
    "start_time": "2024-09-19T08:32:30.085Z"
   },
   {
    "duration": 161,
    "start_time": "2024-09-19T08:32:30.111Z"
   },
   {
    "duration": 16,
    "start_time": "2024-09-19T08:32:30.273Z"
   },
   {
    "duration": 183,
    "start_time": "2024-09-19T08:32:30.290Z"
   },
   {
    "duration": 25,
    "start_time": "2024-09-19T08:32:30.476Z"
   },
   {
    "duration": 30,
    "start_time": "2024-09-19T08:32:30.503Z"
   },
   {
    "duration": 129,
    "start_time": "2024-09-19T10:50:53.360Z"
   },
   {
    "duration": 17,
    "start_time": "2024-09-19T10:51:07.538Z"
   },
   {
    "duration": 13,
    "start_time": "2024-09-19T10:51:33.637Z"
   },
   {
    "duration": 14,
    "start_time": "2024-09-19T10:54:44.966Z"
   },
   {
    "duration": 22,
    "start_time": "2024-09-19T10:54:46.950Z"
   },
   {
    "duration": 1395,
    "start_time": "2024-09-19T10:55:16.560Z"
   },
   {
    "duration": 68,
    "start_time": "2024-09-19T10:55:17.957Z"
   },
   {
    "duration": 22,
    "start_time": "2024-09-19T10:55:18.027Z"
   },
   {
    "duration": 14,
    "start_time": "2024-09-19T10:55:18.051Z"
   },
   {
    "duration": 53,
    "start_time": "2024-09-19T10:55:18.068Z"
   },
   {
    "duration": 15,
    "start_time": "2024-09-19T10:55:18.123Z"
   },
   {
    "duration": 26,
    "start_time": "2024-09-19T10:55:18.140Z"
   },
   {
    "duration": 46,
    "start_time": "2024-09-19T10:55:18.168Z"
   },
   {
    "duration": 11,
    "start_time": "2024-09-19T10:55:18.216Z"
   },
   {
    "duration": 9,
    "start_time": "2024-09-19T10:55:18.229Z"
   },
   {
    "duration": 15,
    "start_time": "2024-09-19T10:55:18.240Z"
   },
   {
    "duration": 5,
    "start_time": "2024-09-19T10:55:18.257Z"
   },
   {
    "duration": 17,
    "start_time": "2024-09-19T10:55:18.263Z"
   },
   {
    "duration": 10,
    "start_time": "2024-09-19T10:55:18.304Z"
   },
   {
    "duration": 13,
    "start_time": "2024-09-19T10:55:18.317Z"
   },
   {
    "duration": 30,
    "start_time": "2024-09-19T10:55:18.332Z"
   },
   {
    "duration": 9,
    "start_time": "2024-09-19T10:55:18.364Z"
   },
   {
    "duration": 31,
    "start_time": "2024-09-19T10:55:18.375Z"
   },
   {
    "duration": 12,
    "start_time": "2024-09-19T10:55:18.408Z"
   },
   {
    "duration": 7,
    "start_time": "2024-09-19T10:55:18.423Z"
   },
   {
    "duration": 10,
    "start_time": "2024-09-19T10:55:18.432Z"
   },
   {
    "duration": 33,
    "start_time": "2024-09-19T10:55:18.444Z"
   },
   {
    "duration": 44,
    "start_time": "2024-09-19T10:55:18.479Z"
   },
   {
    "duration": 24,
    "start_time": "2024-09-19T10:55:18.525Z"
   },
   {
    "duration": 488,
    "start_time": "2024-09-19T10:55:18.551Z"
   },
   {
    "duration": 16,
    "start_time": "2024-09-19T10:55:19.041Z"
   },
   {
    "duration": 1398,
    "start_time": "2024-09-19T10:55:19.058Z"
   },
   {
    "duration": 23,
    "start_time": "2024-09-19T10:55:20.458Z"
   },
   {
    "duration": 32,
    "start_time": "2024-09-19T10:55:20.482Z"
   },
   {
    "duration": 1955,
    "start_time": "2024-09-19T10:55:20.516Z"
   },
   {
    "duration": 324,
    "start_time": "2024-09-19T10:55:22.473Z"
   },
   {
    "duration": 1622,
    "start_time": "2024-09-19T10:55:22.799Z"
   },
   {
    "duration": 54,
    "start_time": "2024-09-19T10:55:24.423Z"
   },
   {
    "duration": 16,
    "start_time": "2024-09-19T10:55:24.478Z"
   },
   {
    "duration": 21,
    "start_time": "2024-09-19T10:55:24.496Z"
   },
   {
    "duration": 16,
    "start_time": "2024-09-19T10:55:24.519Z"
   },
   {
    "duration": 15,
    "start_time": "2024-09-19T10:55:24.537Z"
   },
   {
    "duration": 14,
    "start_time": "2024-09-19T10:55:24.554Z"
   },
   {
    "duration": 303,
    "start_time": "2024-09-19T10:55:24.569Z"
   },
   {
    "duration": 561,
    "start_time": "2024-09-19T10:55:24.874Z"
   },
   {
    "duration": 17,
    "start_time": "2024-09-19T10:55:25.439Z"
   },
   {
    "duration": 141,
    "start_time": "2024-09-19T10:55:25.458Z"
   },
   {
    "duration": 23,
    "start_time": "2024-09-19T10:55:25.600Z"
   },
   {
    "duration": 242,
    "start_time": "2024-09-19T10:55:25.625Z"
   },
   {
    "duration": 18,
    "start_time": "2024-09-19T10:55:25.868Z"
   },
   {
    "duration": 140,
    "start_time": "2024-09-19T10:55:25.892Z"
   },
   {
    "duration": 19,
    "start_time": "2024-09-19T10:55:26.034Z"
   },
   {
    "duration": 141,
    "start_time": "2024-09-19T10:55:26.055Z"
   },
   {
    "duration": 25,
    "start_time": "2024-09-19T10:55:26.198Z"
   },
   {
    "duration": 135,
    "start_time": "2024-09-19T10:55:26.225Z"
   },
   {
    "duration": 14,
    "start_time": "2024-09-19T10:55:26.362Z"
   },
   {
    "duration": 121,
    "start_time": "2024-09-19T10:55:26.378Z"
   },
   {
    "duration": 22,
    "start_time": "2024-09-19T10:55:26.501Z"
   },
   {
    "duration": 138,
    "start_time": "2024-09-19T10:55:26.525Z"
   },
   {
    "duration": 15,
    "start_time": "2024-09-19T10:55:26.665Z"
   },
   {
    "duration": 137,
    "start_time": "2024-09-19T10:55:26.682Z"
   },
   {
    "duration": 15,
    "start_time": "2024-09-19T10:55:26.821Z"
   },
   {
    "duration": 140,
    "start_time": "2024-09-19T10:55:26.838Z"
   },
   {
    "duration": 7,
    "start_time": "2024-09-19T10:55:26.980Z"
   },
   {
    "duration": 21,
    "start_time": "2024-09-19T10:55:26.989Z"
   },
   {
    "duration": 20,
    "start_time": "2024-09-19T10:55:50.562Z"
   },
   {
    "duration": 124,
    "start_time": "2024-09-19T10:57:05.765Z"
   },
   {
    "duration": 17,
    "start_time": "2024-09-19T10:57:12.696Z"
   },
   {
    "duration": 14,
    "start_time": "2024-09-19T10:57:22.022Z"
   },
   {
    "duration": 18,
    "start_time": "2024-09-19T10:57:24.142Z"
   },
   {
    "duration": 21,
    "start_time": "2024-09-19T10:57:38.055Z"
   },
   {
    "duration": 13,
    "start_time": "2024-09-19T10:57:43.446Z"
   },
   {
    "duration": 14,
    "start_time": "2024-09-19T11:00:34.885Z"
   },
   {
    "duration": 15,
    "start_time": "2024-09-19T11:00:40.357Z"
   },
   {
    "duration": 16,
    "start_time": "2024-09-19T11:01:09.001Z"
   },
   {
    "duration": 93,
    "start_time": "2024-09-19T11:04:05.517Z"
   },
   {
    "duration": 14,
    "start_time": "2024-09-19T11:04:19.808Z"
   },
   {
    "duration": 15,
    "start_time": "2024-09-19T11:04:44.620Z"
   },
   {
    "duration": 14,
    "start_time": "2024-09-19T11:05:38.480Z"
   },
   {
    "duration": 17,
    "start_time": "2024-09-19T11:05:49.380Z"
   },
   {
    "duration": 1284,
    "start_time": "2024-09-19T11:05:58.218Z"
   },
   {
    "duration": 55,
    "start_time": "2024-09-19T11:05:59.504Z"
   },
   {
    "duration": 19,
    "start_time": "2024-09-19T11:05:59.561Z"
   },
   {
    "duration": 15,
    "start_time": "2024-09-19T11:05:59.582Z"
   },
   {
    "duration": 27,
    "start_time": "2024-09-19T11:05:59.599Z"
   },
   {
    "duration": 97,
    "start_time": "2024-09-19T11:05:59.628Z"
   },
   {
    "duration": 169,
    "start_time": "2024-09-19T11:05:59.726Z"
   },
   {
    "duration": 30,
    "start_time": "2024-09-19T11:05:59.897Z"
   },
   {
    "duration": 35,
    "start_time": "2024-09-19T11:05:59.929Z"
   },
   {
    "duration": 11,
    "start_time": "2024-09-19T11:05:59.967Z"
   },
   {
    "duration": 25,
    "start_time": "2024-09-19T11:05:59.979Z"
   },
   {
    "duration": 26,
    "start_time": "2024-09-19T11:06:00.005Z"
   },
   {
    "duration": 133,
    "start_time": "2024-09-19T11:06:00.033Z"
   },
   {
    "duration": 21,
    "start_time": "2024-09-19T11:06:00.168Z"
   },
   {
    "duration": 23,
    "start_time": "2024-09-19T11:06:00.191Z"
   },
   {
    "duration": 66,
    "start_time": "2024-09-19T11:06:00.216Z"
   },
   {
    "duration": 77,
    "start_time": "2024-09-19T11:06:00.285Z"
   },
   {
    "duration": 153,
    "start_time": "2024-09-19T11:06:00.364Z"
   },
   {
    "duration": 181,
    "start_time": "2024-09-19T11:06:00.520Z"
   },
   {
    "duration": 31,
    "start_time": "2024-09-19T11:06:00.703Z"
   },
   {
    "duration": 36,
    "start_time": "2024-09-19T11:06:00.736Z"
   },
   {
    "duration": 36,
    "start_time": "2024-09-19T11:06:00.774Z"
   },
   {
    "duration": 19,
    "start_time": "2024-09-19T11:06:00.812Z"
   },
   {
    "duration": 31,
    "start_time": "2024-09-19T11:06:00.832Z"
   },
   {
    "duration": 453,
    "start_time": "2024-09-19T11:06:00.865Z"
   },
   {
    "duration": 17,
    "start_time": "2024-09-19T11:06:01.320Z"
   },
   {
    "duration": 1300,
    "start_time": "2024-09-19T11:06:01.339Z"
   },
   {
    "duration": 23,
    "start_time": "2024-09-19T11:06:02.643Z"
   },
   {
    "duration": 54,
    "start_time": "2024-09-19T11:06:02.668Z"
   },
   {
    "duration": 1753,
    "start_time": "2024-09-19T11:06:02.724Z"
   },
   {
    "duration": 285,
    "start_time": "2024-09-19T11:06:04.479Z"
   },
   {
    "duration": 1551,
    "start_time": "2024-09-19T11:06:04.766Z"
   },
   {
    "duration": 50,
    "start_time": "2024-09-19T11:06:06.319Z"
   },
   {
    "duration": 26,
    "start_time": "2024-09-19T11:06:06.371Z"
   },
   {
    "duration": 29,
    "start_time": "2024-09-19T11:06:06.398Z"
   },
   {
    "duration": 25,
    "start_time": "2024-09-19T11:06:06.428Z"
   },
   {
    "duration": 14,
    "start_time": "2024-09-19T11:06:06.454Z"
   },
   {
    "duration": 26,
    "start_time": "2024-09-19T11:06:06.470Z"
   },
   {
    "duration": 207,
    "start_time": "2024-09-19T11:06:06.498Z"
   },
   {
    "duration": 533,
    "start_time": "2024-09-19T11:06:06.707Z"
   },
   {
    "duration": 15,
    "start_time": "2024-09-19T11:06:07.242Z"
   },
   {
    "duration": 150,
    "start_time": "2024-09-19T11:06:07.258Z"
   },
   {
    "duration": 15,
    "start_time": "2024-09-19T11:06:07.409Z"
   },
   {
    "duration": 127,
    "start_time": "2024-09-19T11:06:07.426Z"
   },
   {
    "duration": 16,
    "start_time": "2024-09-19T11:06:07.555Z"
   },
   {
    "duration": 115,
    "start_time": "2024-09-19T11:06:07.573Z"
   },
   {
    "duration": 27,
    "start_time": "2024-09-19T11:06:07.690Z"
   },
   {
    "duration": 121,
    "start_time": "2024-09-19T11:06:07.719Z"
   },
   {
    "duration": 14,
    "start_time": "2024-09-19T11:06:07.842Z"
   },
   {
    "duration": 129,
    "start_time": "2024-09-19T11:06:07.858Z"
   },
   {
    "duration": 26,
    "start_time": "2024-09-19T11:06:07.989Z"
   },
   {
    "duration": 172,
    "start_time": "2024-09-19T11:06:08.017Z"
   },
   {
    "duration": 16,
    "start_time": "2024-09-19T11:06:08.191Z"
   },
   {
    "duration": 127,
    "start_time": "2024-09-19T11:06:08.209Z"
   },
   {
    "duration": 14,
    "start_time": "2024-09-19T11:06:08.338Z"
   },
   {
    "duration": 179,
    "start_time": "2024-09-19T11:06:08.353Z"
   },
   {
    "duration": 14,
    "start_time": "2024-09-19T11:06:08.534Z"
   },
   {
    "duration": 207,
    "start_time": "2024-09-19T11:06:08.551Z"
   },
   {
    "duration": 8,
    "start_time": "2024-09-19T11:06:08.760Z"
   },
   {
    "duration": 8,
    "start_time": "2024-09-19T11:06:08.769Z"
   },
   {
    "duration": 127,
    "start_time": "2024-09-19T11:06:31.692Z"
   },
   {
    "duration": 16,
    "start_time": "2024-09-19T11:06:37.870Z"
   },
   {
    "duration": 14,
    "start_time": "2024-09-19T11:10:20.003Z"
   },
   {
    "duration": 14,
    "start_time": "2024-09-19T11:10:30.958Z"
   },
   {
    "duration": 19,
    "start_time": "2024-09-19T11:11:06.120Z"
   },
   {
    "duration": 14,
    "start_time": "2024-09-19T11:11:08.672Z"
   },
   {
    "duration": 13,
    "start_time": "2024-09-19T11:13:06.237Z"
   },
   {
    "duration": 1319,
    "start_time": "2024-09-19T11:13:12.491Z"
   },
   {
    "duration": 58,
    "start_time": "2024-09-19T11:13:13.811Z"
   },
   {
    "duration": 21,
    "start_time": "2024-09-19T11:13:13.871Z"
   },
   {
    "duration": 27,
    "start_time": "2024-09-19T11:13:13.894Z"
   },
   {
    "duration": 43,
    "start_time": "2024-09-19T11:13:13.923Z"
   },
   {
    "duration": 13,
    "start_time": "2024-09-19T11:13:13.968Z"
   },
   {
    "duration": 30,
    "start_time": "2024-09-19T11:13:13.983Z"
   },
   {
    "duration": 19,
    "start_time": "2024-09-19T11:13:14.015Z"
   },
   {
    "duration": 35,
    "start_time": "2024-09-19T11:13:14.037Z"
   },
   {
    "duration": 10,
    "start_time": "2024-09-19T11:13:14.075Z"
   },
   {
    "duration": 33,
    "start_time": "2024-09-19T11:13:14.087Z"
   },
   {
    "duration": 5,
    "start_time": "2024-09-19T11:13:14.122Z"
   },
   {
    "duration": 34,
    "start_time": "2024-09-19T11:13:14.129Z"
   },
   {
    "duration": 7,
    "start_time": "2024-09-19T11:13:14.167Z"
   },
   {
    "duration": 47,
    "start_time": "2024-09-19T11:13:14.176Z"
   },
   {
    "duration": 30,
    "start_time": "2024-09-19T11:13:14.225Z"
   },
   {
    "duration": 38,
    "start_time": "2024-09-19T11:13:14.256Z"
   },
   {
    "duration": 41,
    "start_time": "2024-09-19T11:13:14.295Z"
   },
   {
    "duration": 46,
    "start_time": "2024-09-19T11:13:14.337Z"
   },
   {
    "duration": 37,
    "start_time": "2024-09-19T11:13:14.385Z"
   },
   {
    "duration": 21,
    "start_time": "2024-09-19T11:13:14.423Z"
   },
   {
    "duration": 33,
    "start_time": "2024-09-19T11:13:14.446Z"
   },
   {
    "duration": 15,
    "start_time": "2024-09-19T11:13:14.481Z"
   },
   {
    "duration": 8,
    "start_time": "2024-09-19T11:13:14.498Z"
   },
   {
    "duration": 428,
    "start_time": "2024-09-19T11:13:14.507Z"
   },
   {
    "duration": 17,
    "start_time": "2024-09-19T11:13:14.936Z"
   },
   {
    "duration": 1293,
    "start_time": "2024-09-19T11:13:14.954Z"
   },
   {
    "duration": 23,
    "start_time": "2024-09-19T11:13:16.249Z"
   },
   {
    "duration": 14,
    "start_time": "2024-09-19T11:13:16.273Z"
   },
   {
    "duration": 1695,
    "start_time": "2024-09-19T11:13:16.288Z"
   },
   {
    "duration": 274,
    "start_time": "2024-09-19T11:13:17.984Z"
   },
   {
    "duration": 1549,
    "start_time": "2024-09-19T11:13:18.260Z"
   },
   {
    "duration": 53,
    "start_time": "2024-09-19T11:13:19.811Z"
   },
   {
    "duration": 17,
    "start_time": "2024-09-19T11:13:19.865Z"
   },
   {
    "duration": 32,
    "start_time": "2024-09-19T11:13:19.884Z"
   },
   {
    "duration": 42,
    "start_time": "2024-09-19T11:13:19.917Z"
   },
   {
    "duration": 20,
    "start_time": "2024-09-19T11:13:19.960Z"
   },
   {
    "duration": 12,
    "start_time": "2024-09-19T11:13:19.982Z"
   },
   {
    "duration": 230,
    "start_time": "2024-09-19T11:13:19.996Z"
   },
   {
    "duration": 499,
    "start_time": "2024-09-19T11:13:20.228Z"
   },
   {
    "duration": 14,
    "start_time": "2024-09-19T11:13:20.732Z"
   },
   {
    "duration": 139,
    "start_time": "2024-09-19T11:13:20.748Z"
   },
   {
    "duration": 28,
    "start_time": "2024-09-19T11:13:20.888Z"
   },
   {
    "duration": 189,
    "start_time": "2024-09-19T11:13:20.917Z"
   },
   {
    "duration": 13,
    "start_time": "2024-09-19T11:13:21.107Z"
   },
   {
    "duration": 110,
    "start_time": "2024-09-19T11:13:21.122Z"
   },
   {
    "duration": 14,
    "start_time": "2024-09-19T11:13:21.233Z"
   },
   {
    "duration": 159,
    "start_time": "2024-09-19T11:13:21.249Z"
   },
   {
    "duration": 14,
    "start_time": "2024-09-19T11:13:21.410Z"
   },
   {
    "duration": 120,
    "start_time": "2024-09-19T11:13:21.425Z"
   },
   {
    "duration": 14,
    "start_time": "2024-09-19T11:13:21.546Z"
   },
   {
    "duration": 119,
    "start_time": "2024-09-19T11:13:21.561Z"
   },
   {
    "duration": 24,
    "start_time": "2024-09-19T11:13:21.681Z"
   },
   {
    "duration": 149,
    "start_time": "2024-09-19T11:13:21.707Z"
   },
   {
    "duration": 15,
    "start_time": "2024-09-19T11:13:21.858Z"
   },
   {
    "duration": 142,
    "start_time": "2024-09-19T11:13:21.875Z"
   },
   {
    "duration": 14,
    "start_time": "2024-09-19T11:13:22.019Z"
   },
   {
    "duration": 122,
    "start_time": "2024-09-19T11:13:22.035Z"
   },
   {
    "duration": 7,
    "start_time": "2024-09-19T11:13:22.159Z"
   },
   {
    "duration": 22,
    "start_time": "2024-09-19T11:13:22.168Z"
   },
   {
    "duration": 77,
    "start_time": "2024-09-19T11:14:45.629Z"
   },
   {
    "duration": 4,
    "start_time": "2024-09-19T11:14:55.240Z"
   },
   {
    "duration": 98,
    "start_time": "2024-09-19T11:15:00.962Z"
   },
   {
    "duration": 114,
    "start_time": "2024-09-19T11:15:09.080Z"
   },
   {
    "duration": 1319,
    "start_time": "2024-09-19T11:15:18.004Z"
   },
   {
    "duration": 60,
    "start_time": "2024-09-19T11:15:19.325Z"
   },
   {
    "duration": 22,
    "start_time": "2024-09-19T11:15:19.386Z"
   },
   {
    "duration": 56,
    "start_time": "2024-09-19T11:15:19.409Z"
   },
   {
    "duration": 31,
    "start_time": "2024-09-19T11:15:19.467Z"
   },
   {
    "duration": 14,
    "start_time": "2024-09-19T11:15:19.500Z"
   },
   {
    "duration": 29,
    "start_time": "2024-09-19T11:15:19.515Z"
   },
   {
    "duration": 27,
    "start_time": "2024-09-19T11:15:19.546Z"
   },
   {
    "duration": 135,
    "start_time": "2024-09-19T11:15:19.575Z"
   },
   {
    "duration": 0,
    "start_time": "2024-09-19T11:15:19.713Z"
   },
   {
    "duration": 0,
    "start_time": "2024-09-19T11:15:19.715Z"
   },
   {
    "duration": 0,
    "start_time": "2024-09-19T11:15:19.716Z"
   },
   {
    "duration": 0,
    "start_time": "2024-09-19T11:15:19.717Z"
   },
   {
    "duration": 0,
    "start_time": "2024-09-19T11:15:19.718Z"
   },
   {
    "duration": 0,
    "start_time": "2024-09-19T11:15:19.719Z"
   },
   {
    "duration": 0,
    "start_time": "2024-09-19T11:15:19.720Z"
   },
   {
    "duration": 0,
    "start_time": "2024-09-19T11:15:19.721Z"
   },
   {
    "duration": 0,
    "start_time": "2024-09-19T11:15:19.723Z"
   },
   {
    "duration": 0,
    "start_time": "2024-09-19T11:15:19.724Z"
   },
   {
    "duration": 0,
    "start_time": "2024-09-19T11:15:19.725Z"
   },
   {
    "duration": 0,
    "start_time": "2024-09-19T11:15:19.726Z"
   },
   {
    "duration": 0,
    "start_time": "2024-09-19T11:15:19.727Z"
   },
   {
    "duration": 0,
    "start_time": "2024-09-19T11:15:19.728Z"
   },
   {
    "duration": 0,
    "start_time": "2024-09-19T11:15:19.729Z"
   },
   {
    "duration": 0,
    "start_time": "2024-09-19T11:15:19.730Z"
   },
   {
    "duration": 0,
    "start_time": "2024-09-19T11:15:19.731Z"
   },
   {
    "duration": 0,
    "start_time": "2024-09-19T11:15:19.732Z"
   },
   {
    "duration": 0,
    "start_time": "2024-09-19T11:15:19.733Z"
   },
   {
    "duration": 0,
    "start_time": "2024-09-19T11:15:19.734Z"
   },
   {
    "duration": 0,
    "start_time": "2024-09-19T11:15:19.735Z"
   },
   {
    "duration": 0,
    "start_time": "2024-09-19T11:15:19.736Z"
   },
   {
    "duration": 0,
    "start_time": "2024-09-19T11:15:19.737Z"
   },
   {
    "duration": 0,
    "start_time": "2024-09-19T11:15:19.738Z"
   },
   {
    "duration": 0,
    "start_time": "2024-09-19T11:15:19.739Z"
   },
   {
    "duration": 0,
    "start_time": "2024-09-19T11:15:19.740Z"
   },
   {
    "duration": 0,
    "start_time": "2024-09-19T11:15:19.741Z"
   },
   {
    "duration": 0,
    "start_time": "2024-09-19T11:15:19.742Z"
   },
   {
    "duration": 0,
    "start_time": "2024-09-19T11:15:19.744Z"
   },
   {
    "duration": 0,
    "start_time": "2024-09-19T11:15:19.745Z"
   },
   {
    "duration": 0,
    "start_time": "2024-09-19T11:15:19.746Z"
   },
   {
    "duration": 0,
    "start_time": "2024-09-19T11:15:19.747Z"
   },
   {
    "duration": 0,
    "start_time": "2024-09-19T11:15:19.804Z"
   },
   {
    "duration": 1,
    "start_time": "2024-09-19T11:15:19.805Z"
   },
   {
    "duration": 0,
    "start_time": "2024-09-19T11:15:19.806Z"
   },
   {
    "duration": 0,
    "start_time": "2024-09-19T11:15:19.808Z"
   },
   {
    "duration": 0,
    "start_time": "2024-09-19T11:15:19.809Z"
   },
   {
    "duration": 0,
    "start_time": "2024-09-19T11:15:19.810Z"
   },
   {
    "duration": 0,
    "start_time": "2024-09-19T11:15:19.811Z"
   },
   {
    "duration": 0,
    "start_time": "2024-09-19T11:15:19.812Z"
   },
   {
    "duration": 0,
    "start_time": "2024-09-19T11:15:19.814Z"
   },
   {
    "duration": 0,
    "start_time": "2024-09-19T11:15:19.815Z"
   },
   {
    "duration": 0,
    "start_time": "2024-09-19T11:15:19.816Z"
   },
   {
    "duration": 0,
    "start_time": "2024-09-19T11:15:19.817Z"
   },
   {
    "duration": 0,
    "start_time": "2024-09-19T11:15:19.818Z"
   },
   {
    "duration": 0,
    "start_time": "2024-09-19T11:15:19.819Z"
   },
   {
    "duration": 0,
    "start_time": "2024-09-19T11:15:19.820Z"
   },
   {
    "duration": 0,
    "start_time": "2024-09-19T11:15:19.821Z"
   },
   {
    "duration": 0,
    "start_time": "2024-09-19T11:15:19.822Z"
   },
   {
    "duration": 0,
    "start_time": "2024-09-19T11:15:19.823Z"
   },
   {
    "duration": 0,
    "start_time": "2024-09-19T11:15:19.824Z"
   },
   {
    "duration": 16,
    "start_time": "2024-09-19T11:18:16.149Z"
   },
   {
    "duration": 1348,
    "start_time": "2024-09-19T11:18:22.110Z"
   },
   {
    "duration": 67,
    "start_time": "2024-09-19T11:18:23.460Z"
   },
   {
    "duration": 21,
    "start_time": "2024-09-19T11:18:23.528Z"
   },
   {
    "duration": 15,
    "start_time": "2024-09-19T11:18:23.551Z"
   },
   {
    "duration": 54,
    "start_time": "2024-09-19T11:18:23.567Z"
   },
   {
    "duration": 14,
    "start_time": "2024-09-19T11:18:23.623Z"
   },
   {
    "duration": 21,
    "start_time": "2024-09-19T11:18:23.639Z"
   },
   {
    "duration": 47,
    "start_time": "2024-09-19T11:18:23.661Z"
   },
   {
    "duration": 7,
    "start_time": "2024-09-19T11:18:23.711Z"
   },
   {
    "duration": 16,
    "start_time": "2024-09-19T11:18:23.722Z"
   },
   {
    "duration": 14,
    "start_time": "2024-09-19T11:18:23.739Z"
   },
   {
    "duration": 5,
    "start_time": "2024-09-19T11:18:23.755Z"
   },
   {
    "duration": 19,
    "start_time": "2024-09-19T11:18:23.761Z"
   },
   {
    "duration": 31,
    "start_time": "2024-09-19T11:18:23.781Z"
   },
   {
    "duration": 72,
    "start_time": "2024-09-19T11:18:23.821Z"
   },
   {
    "duration": 24,
    "start_time": "2024-09-19T11:18:23.895Z"
   },
   {
    "duration": 33,
    "start_time": "2024-09-19T11:18:23.920Z"
   },
   {
    "duration": 8,
    "start_time": "2024-09-19T11:18:23.955Z"
   },
   {
    "duration": 7,
    "start_time": "2024-09-19T11:18:23.965Z"
   },
   {
    "duration": 9,
    "start_time": "2024-09-19T11:18:23.973Z"
   },
   {
    "duration": 11,
    "start_time": "2024-09-19T11:18:23.983Z"
   },
   {
    "duration": 36,
    "start_time": "2024-09-19T11:18:23.996Z"
   },
   {
    "duration": 18,
    "start_time": "2024-09-19T11:18:24.033Z"
   },
   {
    "duration": 25,
    "start_time": "2024-09-19T11:18:24.052Z"
   },
   {
    "duration": 441,
    "start_time": "2024-09-19T11:18:24.079Z"
   },
   {
    "duration": 17,
    "start_time": "2024-09-19T11:18:24.522Z"
   },
   {
    "duration": 1409,
    "start_time": "2024-09-19T11:18:24.541Z"
   },
   {
    "duration": 26,
    "start_time": "2024-09-19T11:18:25.954Z"
   },
   {
    "duration": 32,
    "start_time": "2024-09-19T11:18:25.982Z"
   },
   {
    "duration": 1845,
    "start_time": "2024-09-19T11:18:26.015Z"
   },
   {
    "duration": 307,
    "start_time": "2024-09-19T11:18:27.862Z"
   },
   {
    "duration": 1607,
    "start_time": "2024-09-19T11:18:28.170Z"
   },
   {
    "duration": 58,
    "start_time": "2024-09-19T11:18:29.779Z"
   },
   {
    "duration": 62,
    "start_time": "2024-09-19T11:18:29.839Z"
   },
   {
    "duration": 38,
    "start_time": "2024-09-19T11:18:29.902Z"
   },
   {
    "duration": 25,
    "start_time": "2024-09-19T11:18:29.941Z"
   },
   {
    "duration": 18,
    "start_time": "2024-09-19T11:18:29.968Z"
   },
   {
    "duration": 13,
    "start_time": "2024-09-19T11:18:29.988Z"
   },
   {
    "duration": 247,
    "start_time": "2024-09-19T11:18:30.003Z"
   },
   {
    "duration": 521,
    "start_time": "2024-09-19T11:18:30.252Z"
   },
   {
    "duration": 17,
    "start_time": "2024-09-19T11:18:30.775Z"
   },
   {
    "duration": 175,
    "start_time": "2024-09-19T11:18:30.804Z"
   },
   {
    "duration": 26,
    "start_time": "2024-09-19T11:18:30.981Z"
   },
   {
    "duration": 126,
    "start_time": "2024-09-19T11:18:31.009Z"
   },
   {
    "duration": 13,
    "start_time": "2024-09-19T11:18:31.137Z"
   },
   {
    "duration": 198,
    "start_time": "2024-09-19T11:18:31.152Z"
   },
   {
    "duration": 39,
    "start_time": "2024-09-19T11:18:31.352Z"
   },
   {
    "duration": 143,
    "start_time": "2024-09-19T11:18:31.393Z"
   },
   {
    "duration": 15,
    "start_time": "2024-09-19T11:18:31.538Z"
   },
   {
    "duration": 143,
    "start_time": "2024-09-19T11:18:31.555Z"
   },
   {
    "duration": 20,
    "start_time": "2024-09-19T11:18:31.704Z"
   },
   {
    "duration": 170,
    "start_time": "2024-09-19T11:18:31.726Z"
   },
   {
    "duration": 25,
    "start_time": "2024-09-19T11:18:31.898Z"
   },
   {
    "duration": 166,
    "start_time": "2024-09-19T11:18:31.925Z"
   },
   {
    "duration": 17,
    "start_time": "2024-09-19T11:18:32.093Z"
   },
   {
    "duration": 205,
    "start_time": "2024-09-19T11:18:32.112Z"
   },
   {
    "duration": 16,
    "start_time": "2024-09-19T11:18:32.320Z"
   },
   {
    "duration": 129,
    "start_time": "2024-09-19T11:18:32.338Z"
   },
   {
    "duration": 10,
    "start_time": "2024-09-19T11:18:32.469Z"
   },
   {
    "duration": 28,
    "start_time": "2024-09-19T11:18:32.481Z"
   },
   {
    "duration": 21,
    "start_time": "2024-09-19T11:33:35.472Z"
   },
   {
    "duration": 118,
    "start_time": "2024-09-19T11:35:02.692Z"
   },
   {
    "duration": 22,
    "start_time": "2024-09-19T11:35:11.879Z"
   },
   {
    "duration": 16,
    "start_time": "2024-09-19T11:35:24.130Z"
   },
   {
    "duration": 1276,
    "start_time": "2024-09-19T11:35:30.857Z"
   },
   {
    "duration": 56,
    "start_time": "2024-09-19T11:35:32.135Z"
   },
   {
    "duration": 21,
    "start_time": "2024-09-19T11:35:32.193Z"
   },
   {
    "duration": 15,
    "start_time": "2024-09-19T11:35:32.217Z"
   },
   {
    "duration": 31,
    "start_time": "2024-09-19T11:35:32.235Z"
   },
   {
    "duration": 38,
    "start_time": "2024-09-19T11:35:32.268Z"
   },
   {
    "duration": 22,
    "start_time": "2024-09-19T11:35:32.309Z"
   },
   {
    "duration": 22,
    "start_time": "2024-09-19T11:35:32.333Z"
   },
   {
    "duration": 6,
    "start_time": "2024-09-19T11:35:32.357Z"
   },
   {
    "duration": 45,
    "start_time": "2024-09-19T11:35:32.364Z"
   },
   {
    "duration": 10,
    "start_time": "2024-09-19T11:35:32.411Z"
   },
   {
    "duration": 26,
    "start_time": "2024-09-19T11:35:32.423Z"
   },
   {
    "duration": 8,
    "start_time": "2024-09-19T11:35:32.451Z"
   },
   {
    "duration": 27,
    "start_time": "2024-09-19T11:35:32.462Z"
   },
   {
    "duration": 9,
    "start_time": "2024-09-19T11:35:32.491Z"
   },
   {
    "duration": 13,
    "start_time": "2024-09-19T11:35:32.502Z"
   },
   {
    "duration": 8,
    "start_time": "2024-09-19T11:35:32.516Z"
   },
   {
    "duration": 17,
    "start_time": "2024-09-19T11:35:32.525Z"
   },
   {
    "duration": 9,
    "start_time": "2024-09-19T11:35:32.544Z"
   },
   {
    "duration": 8,
    "start_time": "2024-09-19T11:35:32.555Z"
   },
   {
    "duration": 23,
    "start_time": "2024-09-19T11:35:32.565Z"
   },
   {
    "duration": 57,
    "start_time": "2024-09-19T11:35:32.589Z"
   },
   {
    "duration": 27,
    "start_time": "2024-09-19T11:35:32.648Z"
   },
   {
    "duration": 17,
    "start_time": "2024-09-19T11:35:32.676Z"
   },
   {
    "duration": 9,
    "start_time": "2024-09-19T11:35:32.695Z"
   },
   {
    "duration": 429,
    "start_time": "2024-09-19T11:35:32.707Z"
   },
   {
    "duration": 16,
    "start_time": "2024-09-19T11:35:33.137Z"
   },
   {
    "duration": 1214,
    "start_time": "2024-09-19T11:35:33.155Z"
   },
   {
    "duration": 34,
    "start_time": "2024-09-19T11:35:34.371Z"
   },
   {
    "duration": 14,
    "start_time": "2024-09-19T11:35:34.407Z"
   },
   {
    "duration": 1694,
    "start_time": "2024-09-19T11:35:34.422Z"
   },
   {
    "duration": 300,
    "start_time": "2024-09-19T11:35:36.117Z"
   },
   {
    "duration": 1455,
    "start_time": "2024-09-19T11:35:36.418Z"
   },
   {
    "duration": 66,
    "start_time": "2024-09-19T11:35:37.875Z"
   },
   {
    "duration": 28,
    "start_time": "2024-09-19T11:35:37.943Z"
   },
   {
    "duration": 21,
    "start_time": "2024-09-19T11:35:37.973Z"
   },
   {
    "duration": 20,
    "start_time": "2024-09-19T11:35:37.995Z"
   },
   {
    "duration": 25,
    "start_time": "2024-09-19T11:35:38.017Z"
   },
   {
    "duration": 14,
    "start_time": "2024-09-19T11:35:38.044Z"
   },
   {
    "duration": 207,
    "start_time": "2024-09-19T11:35:38.060Z"
   },
   {
    "duration": 478,
    "start_time": "2024-09-19T11:35:38.272Z"
   },
   {
    "duration": 15,
    "start_time": "2024-09-19T11:35:38.752Z"
   },
   {
    "duration": 126,
    "start_time": "2024-09-19T11:35:38.768Z"
   },
   {
    "duration": 20,
    "start_time": "2024-09-19T11:35:38.896Z"
   },
   {
    "duration": 119,
    "start_time": "2024-09-19T11:35:38.918Z"
   },
   {
    "duration": 13,
    "start_time": "2024-09-19T11:35:39.039Z"
   },
   {
    "duration": 115,
    "start_time": "2024-09-19T11:35:39.053Z"
   },
   {
    "duration": 14,
    "start_time": "2024-09-19T11:35:39.169Z"
   },
   {
    "duration": 183,
    "start_time": "2024-09-19T11:35:39.185Z"
   },
   {
    "duration": 14,
    "start_time": "2024-09-19T11:35:39.370Z"
   },
   {
    "duration": 135,
    "start_time": "2024-09-19T11:35:39.385Z"
   },
   {
    "duration": 18,
    "start_time": "2024-09-19T11:35:39.522Z"
   },
   {
    "duration": 132,
    "start_time": "2024-09-19T11:35:39.542Z"
   },
   {
    "duration": 14,
    "start_time": "2024-09-19T11:35:39.676Z"
   },
   {
    "duration": 119,
    "start_time": "2024-09-19T11:35:39.692Z"
   },
   {
    "duration": 15,
    "start_time": "2024-09-19T11:35:39.813Z"
   },
   {
    "duration": 127,
    "start_time": "2024-09-19T11:35:39.830Z"
   },
   {
    "duration": 40,
    "start_time": "2024-09-19T11:35:39.958Z"
   },
   {
    "duration": 126,
    "start_time": "2024-09-19T11:35:40.000Z"
   },
   {
    "duration": 6,
    "start_time": "2024-09-19T11:35:40.128Z"
   },
   {
    "duration": 17,
    "start_time": "2024-09-19T11:35:40.136Z"
   },
   {
    "duration": 85,
    "start_time": "2024-09-19T11:39:07.613Z"
   },
   {
    "duration": 121,
    "start_time": "2024-09-19T11:39:23.205Z"
   },
   {
    "duration": 1273,
    "start_time": "2024-09-19T11:39:34.161Z"
   },
   {
    "duration": 61,
    "start_time": "2024-09-19T11:39:35.436Z"
   },
   {
    "duration": 21,
    "start_time": "2024-09-19T11:39:35.498Z"
   },
   {
    "duration": 15,
    "start_time": "2024-09-19T11:39:35.521Z"
   },
   {
    "duration": 32,
    "start_time": "2024-09-19T11:39:35.538Z"
   },
   {
    "duration": 23,
    "start_time": "2024-09-19T11:39:35.572Z"
   },
   {
    "duration": 29,
    "start_time": "2024-09-19T11:39:35.597Z"
   },
   {
    "duration": 20,
    "start_time": "2024-09-19T11:39:35.628Z"
   },
   {
    "duration": 5,
    "start_time": "2024-09-19T11:39:35.649Z"
   },
   {
    "duration": 42,
    "start_time": "2024-09-19T11:39:35.657Z"
   },
   {
    "duration": 11,
    "start_time": "2024-09-19T11:39:35.701Z"
   },
   {
    "duration": 13,
    "start_time": "2024-09-19T11:39:35.714Z"
   },
   {
    "duration": 81,
    "start_time": "2024-09-19T11:39:35.729Z"
   },
   {
    "duration": 16,
    "start_time": "2024-09-19T11:39:35.811Z"
   },
   {
    "duration": 21,
    "start_time": "2024-09-19T11:39:35.828Z"
   },
   {
    "duration": 13,
    "start_time": "2024-09-19T11:39:35.851Z"
   },
   {
    "duration": 101,
    "start_time": "2024-09-19T11:39:35.865Z"
   },
   {
    "duration": 23,
    "start_time": "2024-09-19T11:39:35.969Z"
   },
   {
    "duration": 38,
    "start_time": "2024-09-19T11:39:35.993Z"
   },
   {
    "duration": 38,
    "start_time": "2024-09-19T11:39:36.033Z"
   },
   {
    "duration": 32,
    "start_time": "2024-09-19T11:39:36.073Z"
   },
   {
    "duration": 38,
    "start_time": "2024-09-19T11:39:36.107Z"
   },
   {
    "duration": 48,
    "start_time": "2024-09-19T11:39:36.147Z"
   },
   {
    "duration": 54,
    "start_time": "2024-09-19T11:39:36.197Z"
   },
   {
    "duration": 60,
    "start_time": "2024-09-19T11:39:36.253Z"
   },
   {
    "duration": 439,
    "start_time": "2024-09-19T11:39:36.315Z"
   },
   {
    "duration": 17,
    "start_time": "2024-09-19T11:39:36.756Z"
   },
   {
    "duration": 1306,
    "start_time": "2024-09-19T11:39:36.777Z"
   },
   {
    "duration": 32,
    "start_time": "2024-09-19T11:39:38.085Z"
   },
   {
    "duration": 13,
    "start_time": "2024-09-19T11:39:38.119Z"
   },
   {
    "duration": 1738,
    "start_time": "2024-09-19T11:39:38.133Z"
   },
   {
    "duration": 302,
    "start_time": "2024-09-19T11:39:39.873Z"
   },
   {
    "duration": 1520,
    "start_time": "2024-09-19T11:39:40.177Z"
   },
   {
    "duration": 54,
    "start_time": "2024-09-19T11:39:41.699Z"
   },
   {
    "duration": 15,
    "start_time": "2024-09-19T11:39:41.755Z"
   },
   {
    "duration": 89,
    "start_time": "2024-09-19T11:39:41.772Z"
   },
   {
    "duration": 14,
    "start_time": "2024-09-19T11:39:41.862Z"
   },
   {
    "duration": 87,
    "start_time": "2024-09-19T11:39:41.878Z"
   },
   {
    "duration": 14,
    "start_time": "2024-09-19T11:39:41.966Z"
   },
   {
    "duration": 201,
    "start_time": "2024-09-19T11:39:41.981Z"
   },
   {
    "duration": 504,
    "start_time": "2024-09-19T11:39:42.183Z"
   },
   {
    "duration": 31,
    "start_time": "2024-09-19T11:39:42.689Z"
   },
   {
    "duration": 125,
    "start_time": "2024-09-19T11:39:42.722Z"
   },
   {
    "duration": 19,
    "start_time": "2024-09-19T11:39:42.849Z"
   },
   {
    "duration": 134,
    "start_time": "2024-09-19T11:39:42.870Z"
   },
   {
    "duration": 19,
    "start_time": "2024-09-19T11:39:43.007Z"
   },
   {
    "duration": 121,
    "start_time": "2024-09-19T11:39:43.028Z"
   },
   {
    "duration": 13,
    "start_time": "2024-09-19T11:39:43.151Z"
   },
   {
    "duration": 125,
    "start_time": "2024-09-19T11:39:43.166Z"
   },
   {
    "duration": 22,
    "start_time": "2024-09-19T11:39:43.293Z"
   },
   {
    "duration": 119,
    "start_time": "2024-09-19T11:39:43.316Z"
   },
   {
    "duration": 14,
    "start_time": "2024-09-19T11:39:43.436Z"
   },
   {
    "duration": 137,
    "start_time": "2024-09-19T11:39:43.451Z"
   },
   {
    "duration": 17,
    "start_time": "2024-09-19T11:39:43.589Z"
   },
   {
    "duration": 120,
    "start_time": "2024-09-19T11:39:43.608Z"
   },
   {
    "duration": 14,
    "start_time": "2024-09-19T11:39:43.730Z"
   },
   {
    "duration": 197,
    "start_time": "2024-09-19T11:39:43.745Z"
   },
   {
    "duration": 14,
    "start_time": "2024-09-19T11:39:43.944Z"
   },
   {
    "duration": 122,
    "start_time": "2024-09-19T11:39:43.960Z"
   },
   {
    "duration": 8,
    "start_time": "2024-09-19T11:39:44.084Z"
   },
   {
    "duration": 7,
    "start_time": "2024-09-19T11:39:44.106Z"
   },
   {
    "duration": 1375,
    "start_time": "2024-09-19T11:43:52.850Z"
   },
   {
    "duration": 57,
    "start_time": "2024-09-19T11:43:54.227Z"
   },
   {
    "duration": 20,
    "start_time": "2024-09-19T11:43:54.286Z"
   },
   {
    "duration": 14,
    "start_time": "2024-09-19T11:43:54.308Z"
   },
   {
    "duration": 38,
    "start_time": "2024-09-19T11:43:54.324Z"
   },
   {
    "duration": 15,
    "start_time": "2024-09-19T11:43:54.363Z"
   },
   {
    "duration": 42,
    "start_time": "2024-09-19T11:43:54.379Z"
   },
   {
    "duration": 21,
    "start_time": "2024-09-19T11:43:54.422Z"
   },
   {
    "duration": 5,
    "start_time": "2024-09-19T11:43:54.444Z"
   },
   {
    "duration": 26,
    "start_time": "2024-09-19T11:43:54.452Z"
   },
   {
    "duration": 27,
    "start_time": "2024-09-19T11:43:54.480Z"
   },
   {
    "duration": 14,
    "start_time": "2024-09-19T11:43:54.509Z"
   },
   {
    "duration": 6,
    "start_time": "2024-09-19T11:43:54.525Z"
   },
   {
    "duration": 24,
    "start_time": "2024-09-19T11:43:54.533Z"
   },
   {
    "duration": 9,
    "start_time": "2024-09-19T11:43:54.558Z"
   },
   {
    "duration": 33,
    "start_time": "2024-09-19T11:43:54.568Z"
   },
   {
    "duration": 11,
    "start_time": "2024-09-19T11:43:54.603Z"
   },
   {
    "duration": 15,
    "start_time": "2024-09-19T11:43:54.616Z"
   },
   {
    "duration": 42,
    "start_time": "2024-09-19T11:43:54.633Z"
   },
   {
    "duration": 24,
    "start_time": "2024-09-19T11:43:54.677Z"
   },
   {
    "duration": 18,
    "start_time": "2024-09-19T11:43:54.703Z"
   },
   {
    "duration": 28,
    "start_time": "2024-09-19T11:43:54.722Z"
   },
   {
    "duration": 29,
    "start_time": "2024-09-19T11:43:54.752Z"
   },
   {
    "duration": 16,
    "start_time": "2024-09-19T11:43:54.783Z"
   },
   {
    "duration": 10,
    "start_time": "2024-09-19T11:43:54.801Z"
   },
   {
    "duration": 439,
    "start_time": "2024-09-19T11:43:54.813Z"
   },
   {
    "duration": 17,
    "start_time": "2024-09-19T11:43:55.254Z"
   },
   {
    "duration": 1331,
    "start_time": "2024-09-19T11:43:55.274Z"
   },
   {
    "duration": 24,
    "start_time": "2024-09-19T11:43:56.607Z"
   },
   {
    "duration": 38,
    "start_time": "2024-09-19T11:43:56.633Z"
   },
   {
    "duration": 1756,
    "start_time": "2024-09-19T11:43:56.673Z"
   },
   {
    "duration": 322,
    "start_time": "2024-09-19T11:43:58.431Z"
   },
   {
    "duration": 1631,
    "start_time": "2024-09-19T11:43:58.755Z"
   },
   {
    "duration": 61,
    "start_time": "2024-09-19T11:44:00.388Z"
   },
   {
    "duration": 15,
    "start_time": "2024-09-19T11:44:00.451Z"
   },
   {
    "duration": 63,
    "start_time": "2024-09-19T11:44:00.467Z"
   },
   {
    "duration": 87,
    "start_time": "2024-09-19T11:44:00.531Z"
   },
   {
    "duration": 62,
    "start_time": "2024-09-19T11:44:00.619Z"
   },
   {
    "duration": 30,
    "start_time": "2024-09-19T11:44:00.682Z"
   },
   {
    "duration": 240,
    "start_time": "2024-09-19T11:44:00.713Z"
   },
   {
    "duration": 497,
    "start_time": "2024-09-19T11:44:00.955Z"
   },
   {
    "duration": 16,
    "start_time": "2024-09-19T11:44:01.453Z"
   },
   {
    "duration": 151,
    "start_time": "2024-09-19T11:44:01.471Z"
   },
   {
    "duration": 15,
    "start_time": "2024-09-19T11:44:01.623Z"
   },
   {
    "duration": 136,
    "start_time": "2024-09-19T11:44:01.640Z"
   },
   {
    "duration": 16,
    "start_time": "2024-09-19T11:44:01.778Z"
   },
   {
    "duration": 291,
    "start_time": "2024-09-19T11:44:01.796Z"
   },
   {
    "duration": 16,
    "start_time": "2024-09-19T11:44:02.090Z"
   },
   {
    "duration": 130,
    "start_time": "2024-09-19T11:44:02.108Z"
   },
   {
    "duration": 16,
    "start_time": "2024-09-19T11:44:02.240Z"
   },
   {
    "duration": 144,
    "start_time": "2024-09-19T11:44:02.258Z"
   },
   {
    "duration": 36,
    "start_time": "2024-09-19T11:44:02.404Z"
   },
   {
    "duration": 178,
    "start_time": "2024-09-19T11:44:02.442Z"
   },
   {
    "duration": 15,
    "start_time": "2024-09-19T11:44:02.622Z"
   },
   {
    "duration": 130,
    "start_time": "2024-09-19T11:44:02.639Z"
   },
   {
    "duration": 16,
    "start_time": "2024-09-19T11:44:02.771Z"
   },
   {
    "duration": 141,
    "start_time": "2024-09-19T11:44:02.804Z"
   },
   {
    "duration": 19,
    "start_time": "2024-09-19T11:44:02.946Z"
   },
   {
    "duration": 162,
    "start_time": "2024-09-19T11:44:02.967Z"
   },
   {
    "duration": 7,
    "start_time": "2024-09-19T11:44:03.131Z"
   },
   {
    "duration": 7,
    "start_time": "2024-09-19T11:44:03.140Z"
   },
   {
    "duration": 114,
    "start_time": "2024-09-19T11:53:11.755Z"
   },
   {
    "duration": 22,
    "start_time": "2024-09-19T11:53:23.485Z"
   },
   {
    "duration": 1318,
    "start_time": "2024-09-19T11:55:22.611Z"
   },
   {
    "duration": 57,
    "start_time": "2024-09-19T11:55:23.932Z"
   },
   {
    "duration": 19,
    "start_time": "2024-09-19T11:55:23.991Z"
   },
   {
    "duration": 24,
    "start_time": "2024-09-19T11:55:24.012Z"
   },
   {
    "duration": 29,
    "start_time": "2024-09-19T11:55:24.037Z"
   },
   {
    "duration": 18,
    "start_time": "2024-09-19T11:55:24.068Z"
   },
   {
    "duration": 45,
    "start_time": "2024-09-19T11:55:24.087Z"
   },
   {
    "duration": 28,
    "start_time": "2024-09-19T11:55:24.134Z"
   },
   {
    "duration": 6,
    "start_time": "2024-09-19T11:55:24.163Z"
   },
   {
    "duration": 47,
    "start_time": "2024-09-19T11:55:24.173Z"
   },
   {
    "duration": 10,
    "start_time": "2024-09-19T11:55:24.222Z"
   },
   {
    "duration": 23,
    "start_time": "2024-09-19T11:55:24.234Z"
   },
   {
    "duration": 7,
    "start_time": "2024-09-19T11:55:24.259Z"
   },
   {
    "duration": 49,
    "start_time": "2024-09-19T11:55:24.268Z"
   },
   {
    "duration": 6,
    "start_time": "2024-09-19T11:55:24.319Z"
   },
   {
    "duration": 39,
    "start_time": "2024-09-19T11:55:24.327Z"
   },
   {
    "duration": 30,
    "start_time": "2024-09-19T11:55:24.368Z"
   },
   {
    "duration": 20,
    "start_time": "2024-09-19T11:55:24.400Z"
   },
   {
    "duration": 23,
    "start_time": "2024-09-19T11:55:24.422Z"
   },
   {
    "duration": 13,
    "start_time": "2024-09-19T11:55:24.447Z"
   },
   {
    "duration": 24,
    "start_time": "2024-09-19T11:55:24.461Z"
   },
   {
    "duration": 13,
    "start_time": "2024-09-19T11:55:24.487Z"
   },
   {
    "duration": 26,
    "start_time": "2024-09-19T11:55:24.502Z"
   },
   {
    "duration": 16,
    "start_time": "2024-09-19T11:55:24.530Z"
   },
   {
    "duration": 11,
    "start_time": "2024-09-19T11:55:24.548Z"
   },
   {
    "duration": 433,
    "start_time": "2024-09-19T11:55:24.561Z"
   },
   {
    "duration": 21,
    "start_time": "2024-09-19T11:55:24.996Z"
   },
   {
    "duration": 1294,
    "start_time": "2024-09-19T11:55:25.021Z"
   },
   {
    "duration": 22,
    "start_time": "2024-09-19T11:55:26.317Z"
   },
   {
    "duration": 16,
    "start_time": "2024-09-19T11:55:26.341Z"
   },
   {
    "duration": 1741,
    "start_time": "2024-09-19T11:55:26.358Z"
   },
   {
    "duration": 285,
    "start_time": "2024-09-19T11:55:28.105Z"
   },
   {
    "duration": 1497,
    "start_time": "2024-09-19T11:55:28.392Z"
   },
   {
    "duration": 52,
    "start_time": "2024-09-19T11:55:29.891Z"
   },
   {
    "duration": 15,
    "start_time": "2024-09-19T11:55:29.944Z"
   },
   {
    "duration": 24,
    "start_time": "2024-09-19T11:55:29.961Z"
   },
   {
    "duration": 23,
    "start_time": "2024-09-19T11:55:29.987Z"
   },
   {
    "duration": 64,
    "start_time": "2024-09-19T11:55:30.012Z"
   },
   {
    "duration": 45,
    "start_time": "2024-09-19T11:55:30.078Z"
   },
   {
    "duration": 266,
    "start_time": "2024-09-19T11:55:30.125Z"
   },
   {
    "duration": 527,
    "start_time": "2024-09-19T11:55:30.394Z"
   },
   {
    "duration": 18,
    "start_time": "2024-09-19T11:55:30.923Z"
   },
   {
    "duration": 155,
    "start_time": "2024-09-19T11:55:30.943Z"
   },
   {
    "duration": 14,
    "start_time": "2024-09-19T11:55:31.100Z"
   },
   {
    "duration": 142,
    "start_time": "2024-09-19T11:55:31.115Z"
   },
   {
    "duration": 14,
    "start_time": "2024-09-19T11:55:31.259Z"
   },
   {
    "duration": 129,
    "start_time": "2024-09-19T11:55:31.275Z"
   },
   {
    "duration": 15,
    "start_time": "2024-09-19T11:55:31.405Z"
   },
   {
    "duration": 132,
    "start_time": "2024-09-19T11:55:31.422Z"
   },
   {
    "duration": 15,
    "start_time": "2024-09-19T11:55:31.556Z"
   },
   {
    "duration": 135,
    "start_time": "2024-09-19T11:55:31.573Z"
   },
   {
    "duration": 14,
    "start_time": "2024-09-19T11:55:31.710Z"
   },
   {
    "duration": 138,
    "start_time": "2024-09-19T11:55:31.726Z"
   },
   {
    "duration": 16,
    "start_time": "2024-09-19T11:55:31.866Z"
   },
   {
    "duration": 126,
    "start_time": "2024-09-19T11:55:31.883Z"
   },
   {
    "duration": 16,
    "start_time": "2024-09-19T11:55:32.010Z"
   },
   {
    "duration": 131,
    "start_time": "2024-09-19T11:55:32.027Z"
   },
   {
    "duration": 15,
    "start_time": "2024-09-19T11:55:32.160Z"
   },
   {
    "duration": 130,
    "start_time": "2024-09-19T11:55:32.177Z"
   },
   {
    "duration": 8,
    "start_time": "2024-09-19T11:55:32.309Z"
   },
   {
    "duration": 19,
    "start_time": "2024-09-19T11:55:32.318Z"
   },
   {
    "duration": 1301,
    "start_time": "2024-09-19T11:59:43.720Z"
   },
   {
    "duration": 58,
    "start_time": "2024-09-19T11:59:45.023Z"
   },
   {
    "duration": 21,
    "start_time": "2024-09-19T11:59:45.083Z"
   },
   {
    "duration": 45,
    "start_time": "2024-09-19T11:59:45.106Z"
   },
   {
    "duration": 46,
    "start_time": "2024-09-19T11:59:45.153Z"
   },
   {
    "duration": 15,
    "start_time": "2024-09-19T11:59:45.200Z"
   },
   {
    "duration": 23,
    "start_time": "2024-09-19T11:59:45.217Z"
   },
   {
    "duration": 21,
    "start_time": "2024-09-19T11:59:45.242Z"
   },
   {
    "duration": 60,
    "start_time": "2024-09-19T11:59:45.265Z"
   },
   {
    "duration": 13,
    "start_time": "2024-09-19T11:59:45.328Z"
   },
   {
    "duration": 0,
    "start_time": "2024-09-19T11:59:45.344Z"
   },
   {
    "duration": 0,
    "start_time": "2024-09-19T11:59:45.345Z"
   },
   {
    "duration": 0,
    "start_time": "2024-09-19T11:59:45.346Z"
   },
   {
    "duration": 0,
    "start_time": "2024-09-19T11:59:45.348Z"
   },
   {
    "duration": 0,
    "start_time": "2024-09-19T11:59:45.349Z"
   },
   {
    "duration": 0,
    "start_time": "2024-09-19T11:59:45.351Z"
   },
   {
    "duration": 0,
    "start_time": "2024-09-19T11:59:45.352Z"
   },
   {
    "duration": 0,
    "start_time": "2024-09-19T11:59:45.354Z"
   },
   {
    "duration": 0,
    "start_time": "2024-09-19T11:59:45.356Z"
   },
   {
    "duration": 0,
    "start_time": "2024-09-19T11:59:45.357Z"
   },
   {
    "duration": 0,
    "start_time": "2024-09-19T11:59:45.358Z"
   },
   {
    "duration": 0,
    "start_time": "2024-09-19T11:59:45.360Z"
   },
   {
    "duration": 1,
    "start_time": "2024-09-19T11:59:45.361Z"
   },
   {
    "duration": 0,
    "start_time": "2024-09-19T11:59:45.363Z"
   },
   {
    "duration": 1,
    "start_time": "2024-09-19T11:59:45.364Z"
   },
   {
    "duration": 0,
    "start_time": "2024-09-19T11:59:45.366Z"
   },
   {
    "duration": 0,
    "start_time": "2024-09-19T11:59:45.367Z"
   },
   {
    "duration": 0,
    "start_time": "2024-09-19T11:59:45.369Z"
   },
   {
    "duration": 0,
    "start_time": "2024-09-19T11:59:45.370Z"
   },
   {
    "duration": 0,
    "start_time": "2024-09-19T11:59:45.372Z"
   },
   {
    "duration": 0,
    "start_time": "2024-09-19T11:59:45.373Z"
   },
   {
    "duration": 0,
    "start_time": "2024-09-19T11:59:45.374Z"
   },
   {
    "duration": 0,
    "start_time": "2024-09-19T11:59:45.376Z"
   },
   {
    "duration": 0,
    "start_time": "2024-09-19T11:59:45.406Z"
   },
   {
    "duration": 0,
    "start_time": "2024-09-19T11:59:45.408Z"
   },
   {
    "duration": 0,
    "start_time": "2024-09-19T11:59:45.409Z"
   },
   {
    "duration": 0,
    "start_time": "2024-09-19T11:59:45.410Z"
   },
   {
    "duration": 0,
    "start_time": "2024-09-19T11:59:45.412Z"
   },
   {
    "duration": 0,
    "start_time": "2024-09-19T11:59:45.413Z"
   },
   {
    "duration": 0,
    "start_time": "2024-09-19T11:59:45.415Z"
   },
   {
    "duration": 0,
    "start_time": "2024-09-19T11:59:45.417Z"
   },
   {
    "duration": 0,
    "start_time": "2024-09-19T11:59:45.418Z"
   },
   {
    "duration": 0,
    "start_time": "2024-09-19T11:59:45.419Z"
   },
   {
    "duration": 0,
    "start_time": "2024-09-19T11:59:45.420Z"
   },
   {
    "duration": 0,
    "start_time": "2024-09-19T11:59:45.421Z"
   },
   {
    "duration": 0,
    "start_time": "2024-09-19T11:59:45.422Z"
   },
   {
    "duration": 0,
    "start_time": "2024-09-19T11:59:45.422Z"
   },
   {
    "duration": 0,
    "start_time": "2024-09-19T11:59:45.423Z"
   },
   {
    "duration": 0,
    "start_time": "2024-09-19T11:59:45.424Z"
   },
   {
    "duration": 0,
    "start_time": "2024-09-19T11:59:45.426Z"
   },
   {
    "duration": 0,
    "start_time": "2024-09-19T11:59:45.427Z"
   },
   {
    "duration": 0,
    "start_time": "2024-09-19T11:59:45.428Z"
   },
   {
    "duration": 0,
    "start_time": "2024-09-19T11:59:45.429Z"
   },
   {
    "duration": 0,
    "start_time": "2024-09-19T11:59:45.430Z"
   },
   {
    "duration": 0,
    "start_time": "2024-09-19T11:59:45.431Z"
   },
   {
    "duration": 0,
    "start_time": "2024-09-19T11:59:45.432Z"
   },
   {
    "duration": 0,
    "start_time": "2024-09-19T11:59:45.433Z"
   },
   {
    "duration": 0,
    "start_time": "2024-09-19T11:59:45.434Z"
   },
   {
    "duration": 0,
    "start_time": "2024-09-19T11:59:45.435Z"
   },
   {
    "duration": 0,
    "start_time": "2024-09-19T11:59:45.436Z"
   },
   {
    "duration": 0,
    "start_time": "2024-09-19T11:59:45.437Z"
   },
   {
    "duration": 1246,
    "start_time": "2024-09-19T12:00:23.362Z"
   },
   {
    "duration": 55,
    "start_time": "2024-09-19T12:00:24.610Z"
   },
   {
    "duration": 20,
    "start_time": "2024-09-19T12:00:24.669Z"
   },
   {
    "duration": 15,
    "start_time": "2024-09-19T12:00:24.690Z"
   },
   {
    "duration": 50,
    "start_time": "2024-09-19T12:00:24.707Z"
   },
   {
    "duration": 14,
    "start_time": "2024-09-19T12:00:24.759Z"
   },
   {
    "duration": 31,
    "start_time": "2024-09-19T12:00:24.774Z"
   },
   {
    "duration": 27,
    "start_time": "2024-09-19T12:00:24.807Z"
   },
   {
    "duration": 6,
    "start_time": "2024-09-19T12:00:24.837Z"
   },
   {
    "duration": 111,
    "start_time": "2024-09-19T12:00:24.845Z"
   },
   {
    "duration": 0,
    "start_time": "2024-09-19T12:00:24.958Z"
   },
   {
    "duration": 0,
    "start_time": "2024-09-19T12:00:24.959Z"
   },
   {
    "duration": 0,
    "start_time": "2024-09-19T12:00:24.960Z"
   },
   {
    "duration": 0,
    "start_time": "2024-09-19T12:00:24.962Z"
   },
   {
    "duration": 0,
    "start_time": "2024-09-19T12:00:24.962Z"
   },
   {
    "duration": 0,
    "start_time": "2024-09-19T12:00:24.963Z"
   },
   {
    "duration": 0,
    "start_time": "2024-09-19T12:00:24.964Z"
   },
   {
    "duration": 0,
    "start_time": "2024-09-19T12:00:24.965Z"
   },
   {
    "duration": 0,
    "start_time": "2024-09-19T12:00:24.966Z"
   },
   {
    "duration": 0,
    "start_time": "2024-09-19T12:00:24.967Z"
   },
   {
    "duration": 0,
    "start_time": "2024-09-19T12:00:24.968Z"
   },
   {
    "duration": 0,
    "start_time": "2024-09-19T12:00:24.969Z"
   },
   {
    "duration": 0,
    "start_time": "2024-09-19T12:00:24.970Z"
   },
   {
    "duration": 0,
    "start_time": "2024-09-19T12:00:24.971Z"
   },
   {
    "duration": 0,
    "start_time": "2024-09-19T12:00:24.972Z"
   },
   {
    "duration": 0,
    "start_time": "2024-09-19T12:00:24.973Z"
   },
   {
    "duration": 0,
    "start_time": "2024-09-19T12:00:24.974Z"
   },
   {
    "duration": 0,
    "start_time": "2024-09-19T12:00:24.975Z"
   },
   {
    "duration": 0,
    "start_time": "2024-09-19T12:00:24.976Z"
   },
   {
    "duration": 0,
    "start_time": "2024-09-19T12:00:24.976Z"
   },
   {
    "duration": 0,
    "start_time": "2024-09-19T12:00:24.977Z"
   },
   {
    "duration": 0,
    "start_time": "2024-09-19T12:00:24.978Z"
   },
   {
    "duration": 0,
    "start_time": "2024-09-19T12:00:24.979Z"
   },
   {
    "duration": 0,
    "start_time": "2024-09-19T12:00:24.980Z"
   },
   {
    "duration": 0,
    "start_time": "2024-09-19T12:00:24.981Z"
   },
   {
    "duration": 0,
    "start_time": "2024-09-19T12:00:24.982Z"
   },
   {
    "duration": 0,
    "start_time": "2024-09-19T12:00:24.983Z"
   },
   {
    "duration": 0,
    "start_time": "2024-09-19T12:00:24.985Z"
   },
   {
    "duration": 0,
    "start_time": "2024-09-19T12:00:24.986Z"
   },
   {
    "duration": 0,
    "start_time": "2024-09-19T12:00:24.987Z"
   },
   {
    "duration": 0,
    "start_time": "2024-09-19T12:00:24.988Z"
   },
   {
    "duration": 0,
    "start_time": "2024-09-19T12:00:24.989Z"
   },
   {
    "duration": 0,
    "start_time": "2024-09-19T12:00:24.990Z"
   },
   {
    "duration": 0,
    "start_time": "2024-09-19T12:00:24.991Z"
   },
   {
    "duration": 0,
    "start_time": "2024-09-19T12:00:24.992Z"
   },
   {
    "duration": 0,
    "start_time": "2024-09-19T12:00:24.993Z"
   },
   {
    "duration": 0,
    "start_time": "2024-09-19T12:00:24.994Z"
   },
   {
    "duration": 0,
    "start_time": "2024-09-19T12:00:24.996Z"
   },
   {
    "duration": 0,
    "start_time": "2024-09-19T12:00:24.997Z"
   },
   {
    "duration": 0,
    "start_time": "2024-09-19T12:00:25.005Z"
   },
   {
    "duration": 0,
    "start_time": "2024-09-19T12:00:25.006Z"
   },
   {
    "duration": 0,
    "start_time": "2024-09-19T12:00:25.007Z"
   },
   {
    "duration": 0,
    "start_time": "2024-09-19T12:00:25.008Z"
   },
   {
    "duration": 0,
    "start_time": "2024-09-19T12:00:25.009Z"
   },
   {
    "duration": 0,
    "start_time": "2024-09-19T12:00:25.010Z"
   },
   {
    "duration": 0,
    "start_time": "2024-09-19T12:00:25.011Z"
   },
   {
    "duration": 0,
    "start_time": "2024-09-19T12:00:25.012Z"
   },
   {
    "duration": 0,
    "start_time": "2024-09-19T12:00:25.013Z"
   },
   {
    "duration": 0,
    "start_time": "2024-09-19T12:00:25.014Z"
   },
   {
    "duration": 0,
    "start_time": "2024-09-19T12:00:25.015Z"
   },
   {
    "duration": 0,
    "start_time": "2024-09-19T12:00:25.016Z"
   },
   {
    "duration": 1374,
    "start_time": "2024-09-19T12:01:23.702Z"
   },
   {
    "duration": 71,
    "start_time": "2024-09-19T12:01:25.078Z"
   },
   {
    "duration": 24,
    "start_time": "2024-09-19T12:01:25.150Z"
   },
   {
    "duration": 30,
    "start_time": "2024-09-19T12:01:25.176Z"
   },
   {
    "duration": 33,
    "start_time": "2024-09-19T12:01:25.208Z"
   },
   {
    "duration": 18,
    "start_time": "2024-09-19T12:01:25.243Z"
   },
   {
    "duration": 80,
    "start_time": "2024-09-19T12:01:25.262Z"
   },
   {
    "duration": 22,
    "start_time": "2024-09-19T12:01:25.344Z"
   },
   {
    "duration": 5,
    "start_time": "2024-09-19T12:01:25.367Z"
   },
   {
    "duration": 86,
    "start_time": "2024-09-19T12:01:25.374Z"
   },
   {
    "duration": 0,
    "start_time": "2024-09-19T12:01:25.462Z"
   },
   {
    "duration": 0,
    "start_time": "2024-09-19T12:01:25.463Z"
   },
   {
    "duration": 0,
    "start_time": "2024-09-19T12:01:25.464Z"
   },
   {
    "duration": 0,
    "start_time": "2024-09-19T12:01:25.465Z"
   },
   {
    "duration": 0,
    "start_time": "2024-09-19T12:01:25.466Z"
   },
   {
    "duration": 0,
    "start_time": "2024-09-19T12:01:25.467Z"
   },
   {
    "duration": 0,
    "start_time": "2024-09-19T12:01:25.468Z"
   },
   {
    "duration": 0,
    "start_time": "2024-09-19T12:01:25.469Z"
   },
   {
    "duration": 0,
    "start_time": "2024-09-19T12:01:25.470Z"
   },
   {
    "duration": 0,
    "start_time": "2024-09-19T12:01:25.471Z"
   },
   {
    "duration": 0,
    "start_time": "2024-09-19T12:01:25.472Z"
   },
   {
    "duration": 0,
    "start_time": "2024-09-19T12:01:25.473Z"
   },
   {
    "duration": 0,
    "start_time": "2024-09-19T12:01:25.474Z"
   },
   {
    "duration": 0,
    "start_time": "2024-09-19T12:01:25.475Z"
   },
   {
    "duration": 0,
    "start_time": "2024-09-19T12:01:25.476Z"
   },
   {
    "duration": 0,
    "start_time": "2024-09-19T12:01:25.477Z"
   },
   {
    "duration": 0,
    "start_time": "2024-09-19T12:01:25.478Z"
   },
   {
    "duration": 0,
    "start_time": "2024-09-19T12:01:25.479Z"
   },
   {
    "duration": 0,
    "start_time": "2024-09-19T12:01:25.480Z"
   },
   {
    "duration": 0,
    "start_time": "2024-09-19T12:01:25.481Z"
   },
   {
    "duration": 0,
    "start_time": "2024-09-19T12:01:25.482Z"
   },
   {
    "duration": 0,
    "start_time": "2024-09-19T12:01:25.483Z"
   },
   {
    "duration": 0,
    "start_time": "2024-09-19T12:01:25.484Z"
   },
   {
    "duration": 0,
    "start_time": "2024-09-19T12:01:25.485Z"
   },
   {
    "duration": 0,
    "start_time": "2024-09-19T12:01:25.486Z"
   },
   {
    "duration": 0,
    "start_time": "2024-09-19T12:01:25.487Z"
   },
   {
    "duration": 0,
    "start_time": "2024-09-19T12:01:25.488Z"
   },
   {
    "duration": 0,
    "start_time": "2024-09-19T12:01:25.489Z"
   },
   {
    "duration": 0,
    "start_time": "2024-09-19T12:01:25.490Z"
   },
   {
    "duration": 0,
    "start_time": "2024-09-19T12:01:25.491Z"
   },
   {
    "duration": 0,
    "start_time": "2024-09-19T12:01:25.492Z"
   },
   {
    "duration": 0,
    "start_time": "2024-09-19T12:01:25.493Z"
   },
   {
    "duration": 0,
    "start_time": "2024-09-19T12:01:25.494Z"
   },
   {
    "duration": 0,
    "start_time": "2024-09-19T12:01:25.495Z"
   },
   {
    "duration": 0,
    "start_time": "2024-09-19T12:01:25.496Z"
   },
   {
    "duration": 0,
    "start_time": "2024-09-19T12:01:25.497Z"
   },
   {
    "duration": 0,
    "start_time": "2024-09-19T12:01:25.498Z"
   },
   {
    "duration": 0,
    "start_time": "2024-09-19T12:01:25.499Z"
   },
   {
    "duration": 0,
    "start_time": "2024-09-19T12:01:25.505Z"
   },
   {
    "duration": 0,
    "start_time": "2024-09-19T12:01:25.507Z"
   },
   {
    "duration": 0,
    "start_time": "2024-09-19T12:01:25.508Z"
   },
   {
    "duration": 0,
    "start_time": "2024-09-19T12:01:25.510Z"
   },
   {
    "duration": 0,
    "start_time": "2024-09-19T12:01:25.512Z"
   },
   {
    "duration": 0,
    "start_time": "2024-09-19T12:01:25.513Z"
   },
   {
    "duration": 0,
    "start_time": "2024-09-19T12:01:25.515Z"
   },
   {
    "duration": 0,
    "start_time": "2024-09-19T12:01:25.516Z"
   },
   {
    "duration": 0,
    "start_time": "2024-09-19T12:01:25.518Z"
   },
   {
    "duration": 0,
    "start_time": "2024-09-19T12:01:25.519Z"
   },
   {
    "duration": 0,
    "start_time": "2024-09-19T12:01:25.521Z"
   },
   {
    "duration": 0,
    "start_time": "2024-09-19T12:01:25.523Z"
   },
   {
    "duration": 0,
    "start_time": "2024-09-19T12:01:25.525Z"
   },
   {
    "duration": 1259,
    "start_time": "2024-09-19T12:06:48.038Z"
   },
   {
    "duration": 56,
    "start_time": "2024-09-19T12:06:49.304Z"
   },
   {
    "duration": 27,
    "start_time": "2024-09-19T12:06:49.362Z"
   },
   {
    "duration": 15,
    "start_time": "2024-09-19T12:06:49.391Z"
   },
   {
    "duration": 37,
    "start_time": "2024-09-19T12:06:49.408Z"
   },
   {
    "duration": 16,
    "start_time": "2024-09-19T12:06:49.447Z"
   },
   {
    "duration": 37,
    "start_time": "2024-09-19T12:06:49.464Z"
   },
   {
    "duration": 17,
    "start_time": "2024-09-19T12:06:49.503Z"
   },
   {
    "duration": 4,
    "start_time": "2024-09-19T12:06:49.522Z"
   },
   {
    "duration": 75,
    "start_time": "2024-09-19T12:06:49.528Z"
   },
   {
    "duration": 0,
    "start_time": "2024-09-19T12:06:49.606Z"
   },
   {
    "duration": 0,
    "start_time": "2024-09-19T12:06:49.607Z"
   },
   {
    "duration": 0,
    "start_time": "2024-09-19T12:06:49.609Z"
   },
   {
    "duration": 0,
    "start_time": "2024-09-19T12:06:49.609Z"
   },
   {
    "duration": 0,
    "start_time": "2024-09-19T12:06:49.610Z"
   },
   {
    "duration": 0,
    "start_time": "2024-09-19T12:06:49.611Z"
   },
   {
    "duration": 0,
    "start_time": "2024-09-19T12:06:49.612Z"
   },
   {
    "duration": 0,
    "start_time": "2024-09-19T12:06:49.613Z"
   },
   {
    "duration": 0,
    "start_time": "2024-09-19T12:06:49.614Z"
   },
   {
    "duration": 0,
    "start_time": "2024-09-19T12:06:49.615Z"
   },
   {
    "duration": 0,
    "start_time": "2024-09-19T12:06:49.616Z"
   },
   {
    "duration": 0,
    "start_time": "2024-09-19T12:06:49.617Z"
   },
   {
    "duration": 0,
    "start_time": "2024-09-19T12:06:49.618Z"
   },
   {
    "duration": 0,
    "start_time": "2024-09-19T12:06:49.619Z"
   },
   {
    "duration": 0,
    "start_time": "2024-09-19T12:06:49.620Z"
   },
   {
    "duration": 0,
    "start_time": "2024-09-19T12:06:49.621Z"
   },
   {
    "duration": 0,
    "start_time": "2024-09-19T12:06:49.622Z"
   },
   {
    "duration": 0,
    "start_time": "2024-09-19T12:06:49.623Z"
   },
   {
    "duration": 0,
    "start_time": "2024-09-19T12:06:49.624Z"
   },
   {
    "duration": 0,
    "start_time": "2024-09-19T12:06:49.625Z"
   },
   {
    "duration": 0,
    "start_time": "2024-09-19T12:06:49.626Z"
   },
   {
    "duration": 0,
    "start_time": "2024-09-19T12:06:49.628Z"
   },
   {
    "duration": 0,
    "start_time": "2024-09-19T12:06:49.629Z"
   },
   {
    "duration": 0,
    "start_time": "2024-09-19T12:06:49.630Z"
   },
   {
    "duration": 0,
    "start_time": "2024-09-19T12:06:49.631Z"
   },
   {
    "duration": 0,
    "start_time": "2024-09-19T12:06:49.632Z"
   },
   {
    "duration": 0,
    "start_time": "2024-09-19T12:06:49.633Z"
   },
   {
    "duration": 0,
    "start_time": "2024-09-19T12:06:49.634Z"
   },
   {
    "duration": 0,
    "start_time": "2024-09-19T12:06:49.635Z"
   },
   {
    "duration": 0,
    "start_time": "2024-09-19T12:06:49.636Z"
   },
   {
    "duration": 0,
    "start_time": "2024-09-19T12:06:49.637Z"
   },
   {
    "duration": 0,
    "start_time": "2024-09-19T12:06:49.638Z"
   },
   {
    "duration": 0,
    "start_time": "2024-09-19T12:06:49.640Z"
   },
   {
    "duration": 0,
    "start_time": "2024-09-19T12:06:49.640Z"
   },
   {
    "duration": 0,
    "start_time": "2024-09-19T12:06:49.642Z"
   },
   {
    "duration": 0,
    "start_time": "2024-09-19T12:06:49.643Z"
   },
   {
    "duration": 0,
    "start_time": "2024-09-19T12:06:49.644Z"
   },
   {
    "duration": 0,
    "start_time": "2024-09-19T12:06:49.705Z"
   },
   {
    "duration": 0,
    "start_time": "2024-09-19T12:06:49.706Z"
   },
   {
    "duration": 0,
    "start_time": "2024-09-19T12:06:49.707Z"
   },
   {
    "duration": 0,
    "start_time": "2024-09-19T12:06:49.709Z"
   },
   {
    "duration": 0,
    "start_time": "2024-09-19T12:06:49.710Z"
   },
   {
    "duration": 0,
    "start_time": "2024-09-19T12:06:49.711Z"
   },
   {
    "duration": 0,
    "start_time": "2024-09-19T12:06:49.712Z"
   },
   {
    "duration": 0,
    "start_time": "2024-09-19T12:06:49.713Z"
   },
   {
    "duration": 0,
    "start_time": "2024-09-19T12:06:49.714Z"
   },
   {
    "duration": 0,
    "start_time": "2024-09-19T12:06:49.715Z"
   },
   {
    "duration": 0,
    "start_time": "2024-09-19T12:06:49.716Z"
   },
   {
    "duration": 0,
    "start_time": "2024-09-19T12:06:49.717Z"
   },
   {
    "duration": 0,
    "start_time": "2024-09-19T12:06:49.718Z"
   },
   {
    "duration": 0,
    "start_time": "2024-09-19T12:06:49.719Z"
   },
   {
    "duration": 1291,
    "start_time": "2024-09-19T12:07:18.929Z"
   },
   {
    "duration": 59,
    "start_time": "2024-09-19T12:07:20.223Z"
   },
   {
    "duration": 21,
    "start_time": "2024-09-19T12:07:20.284Z"
   },
   {
    "duration": 31,
    "start_time": "2024-09-19T12:07:20.306Z"
   },
   {
    "duration": 31,
    "start_time": "2024-09-19T12:07:20.339Z"
   },
   {
    "duration": 14,
    "start_time": "2024-09-19T12:07:20.371Z"
   },
   {
    "duration": 37,
    "start_time": "2024-09-19T12:07:20.387Z"
   },
   {
    "duration": 29,
    "start_time": "2024-09-19T12:07:20.426Z"
   },
   {
    "duration": 36,
    "start_time": "2024-09-19T12:07:20.457Z"
   },
   {
    "duration": 101,
    "start_time": "2024-09-19T12:07:20.495Z"
   },
   {
    "duration": 0,
    "start_time": "2024-09-19T12:07:20.599Z"
   },
   {
    "duration": 0,
    "start_time": "2024-09-19T12:07:20.601Z"
   },
   {
    "duration": 0,
    "start_time": "2024-09-19T12:07:20.603Z"
   },
   {
    "duration": 0,
    "start_time": "2024-09-19T12:07:20.604Z"
   },
   {
    "duration": 0,
    "start_time": "2024-09-19T12:07:20.605Z"
   },
   {
    "duration": 0,
    "start_time": "2024-09-19T12:07:20.607Z"
   },
   {
    "duration": 0,
    "start_time": "2024-09-19T12:07:20.608Z"
   },
   {
    "duration": 0,
    "start_time": "2024-09-19T12:07:20.609Z"
   },
   {
    "duration": 0,
    "start_time": "2024-09-19T12:07:20.611Z"
   },
   {
    "duration": 1,
    "start_time": "2024-09-19T12:07:20.612Z"
   },
   {
    "duration": 0,
    "start_time": "2024-09-19T12:07:20.614Z"
   },
   {
    "duration": 0,
    "start_time": "2024-09-19T12:07:20.616Z"
   },
   {
    "duration": 0,
    "start_time": "2024-09-19T12:07:20.617Z"
   },
   {
    "duration": 0,
    "start_time": "2024-09-19T12:07:20.618Z"
   },
   {
    "duration": 0,
    "start_time": "2024-09-19T12:07:20.620Z"
   },
   {
    "duration": 0,
    "start_time": "2024-09-19T12:07:20.621Z"
   },
   {
    "duration": 0,
    "start_time": "2024-09-19T12:07:20.623Z"
   },
   {
    "duration": 0,
    "start_time": "2024-09-19T12:07:20.624Z"
   },
   {
    "duration": 0,
    "start_time": "2024-09-19T12:07:20.626Z"
   },
   {
    "duration": 0,
    "start_time": "2024-09-19T12:07:20.627Z"
   },
   {
    "duration": 0,
    "start_time": "2024-09-19T12:07:20.628Z"
   },
   {
    "duration": 0,
    "start_time": "2024-09-19T12:07:20.630Z"
   },
   {
    "duration": 0,
    "start_time": "2024-09-19T12:07:20.631Z"
   },
   {
    "duration": 0,
    "start_time": "2024-09-19T12:07:20.633Z"
   },
   {
    "duration": 0,
    "start_time": "2024-09-19T12:07:20.634Z"
   },
   {
    "duration": 0,
    "start_time": "2024-09-19T12:07:20.635Z"
   },
   {
    "duration": 0,
    "start_time": "2024-09-19T12:07:20.637Z"
   },
   {
    "duration": 0,
    "start_time": "2024-09-19T12:07:20.638Z"
   },
   {
    "duration": 0,
    "start_time": "2024-09-19T12:07:20.640Z"
   },
   {
    "duration": 0,
    "start_time": "2024-09-19T12:07:20.641Z"
   },
   {
    "duration": 0,
    "start_time": "2024-09-19T12:07:20.642Z"
   },
   {
    "duration": 0,
    "start_time": "2024-09-19T12:07:20.643Z"
   },
   {
    "duration": 0,
    "start_time": "2024-09-19T12:07:20.644Z"
   },
   {
    "duration": 0,
    "start_time": "2024-09-19T12:07:20.645Z"
   },
   {
    "duration": 0,
    "start_time": "2024-09-19T12:07:20.705Z"
   },
   {
    "duration": 0,
    "start_time": "2024-09-19T12:07:20.706Z"
   },
   {
    "duration": 0,
    "start_time": "2024-09-19T12:07:20.708Z"
   },
   {
    "duration": 0,
    "start_time": "2024-09-19T12:07:20.709Z"
   },
   {
    "duration": 0,
    "start_time": "2024-09-19T12:07:20.710Z"
   },
   {
    "duration": 0,
    "start_time": "2024-09-19T12:07:20.711Z"
   },
   {
    "duration": 0,
    "start_time": "2024-09-19T12:07:20.712Z"
   },
   {
    "duration": 0,
    "start_time": "2024-09-19T12:07:20.713Z"
   },
   {
    "duration": 0,
    "start_time": "2024-09-19T12:07:20.714Z"
   },
   {
    "duration": 0,
    "start_time": "2024-09-19T12:07:20.715Z"
   },
   {
    "duration": 0,
    "start_time": "2024-09-19T12:07:20.716Z"
   },
   {
    "duration": 0,
    "start_time": "2024-09-19T12:07:20.717Z"
   },
   {
    "duration": 0,
    "start_time": "2024-09-19T12:07:20.718Z"
   },
   {
    "duration": 0,
    "start_time": "2024-09-19T12:07:20.719Z"
   },
   {
    "duration": 0,
    "start_time": "2024-09-19T12:07:20.720Z"
   },
   {
    "duration": 0,
    "start_time": "2024-09-19T12:07:20.722Z"
   },
   {
    "duration": 0,
    "start_time": "2024-09-19T12:07:20.723Z"
   },
   {
    "duration": 1364,
    "start_time": "2024-09-19T12:16:32.862Z"
   },
   {
    "duration": 62,
    "start_time": "2024-09-19T12:16:34.228Z"
   },
   {
    "duration": 20,
    "start_time": "2024-09-19T12:16:34.292Z"
   },
   {
    "duration": 15,
    "start_time": "2024-09-19T12:16:34.315Z"
   },
   {
    "duration": 32,
    "start_time": "2024-09-19T12:16:34.332Z"
   },
   {
    "duration": 15,
    "start_time": "2024-09-19T12:16:34.365Z"
   },
   {
    "duration": 41,
    "start_time": "2024-09-19T12:16:34.382Z"
   },
   {
    "duration": 39,
    "start_time": "2024-09-19T12:16:34.424Z"
   },
   {
    "duration": 4,
    "start_time": "2024-09-19T12:16:34.465Z"
   },
   {
    "duration": 105,
    "start_time": "2024-09-19T12:16:34.472Z"
   },
   {
    "duration": 0,
    "start_time": "2024-09-19T12:16:34.580Z"
   },
   {
    "duration": 0,
    "start_time": "2024-09-19T12:16:34.581Z"
   },
   {
    "duration": 0,
    "start_time": "2024-09-19T12:16:34.582Z"
   },
   {
    "duration": 0,
    "start_time": "2024-09-19T12:16:34.583Z"
   },
   {
    "duration": 0,
    "start_time": "2024-09-19T12:16:34.585Z"
   },
   {
    "duration": 0,
    "start_time": "2024-09-19T12:16:34.586Z"
   },
   {
    "duration": 0,
    "start_time": "2024-09-19T12:16:34.587Z"
   },
   {
    "duration": 0,
    "start_time": "2024-09-19T12:16:34.588Z"
   },
   {
    "duration": 0,
    "start_time": "2024-09-19T12:16:34.589Z"
   },
   {
    "duration": 0,
    "start_time": "2024-09-19T12:16:34.590Z"
   },
   {
    "duration": 0,
    "start_time": "2024-09-19T12:16:34.591Z"
   },
   {
    "duration": 0,
    "start_time": "2024-09-19T12:16:34.592Z"
   },
   {
    "duration": 0,
    "start_time": "2024-09-19T12:16:34.593Z"
   },
   {
    "duration": 0,
    "start_time": "2024-09-19T12:16:34.595Z"
   },
   {
    "duration": 0,
    "start_time": "2024-09-19T12:16:34.596Z"
   },
   {
    "duration": 0,
    "start_time": "2024-09-19T12:16:34.597Z"
   },
   {
    "duration": 0,
    "start_time": "2024-09-19T12:16:34.598Z"
   },
   {
    "duration": 0,
    "start_time": "2024-09-19T12:16:34.599Z"
   },
   {
    "duration": 0,
    "start_time": "2024-09-19T12:16:34.600Z"
   },
   {
    "duration": 0,
    "start_time": "2024-09-19T12:16:34.601Z"
   },
   {
    "duration": 0,
    "start_time": "2024-09-19T12:16:34.602Z"
   },
   {
    "duration": 0,
    "start_time": "2024-09-19T12:16:34.604Z"
   },
   {
    "duration": 0,
    "start_time": "2024-09-19T12:16:34.605Z"
   },
   {
    "duration": 0,
    "start_time": "2024-09-19T12:16:34.606Z"
   },
   {
    "duration": 0,
    "start_time": "2024-09-19T12:16:34.608Z"
   },
   {
    "duration": 0,
    "start_time": "2024-09-19T12:16:34.609Z"
   },
   {
    "duration": 1,
    "start_time": "2024-09-19T12:16:34.610Z"
   },
   {
    "duration": 0,
    "start_time": "2024-09-19T12:16:34.612Z"
   },
   {
    "duration": 0,
    "start_time": "2024-09-19T12:16:34.613Z"
   },
   {
    "duration": 0,
    "start_time": "2024-09-19T12:16:34.615Z"
   },
   {
    "duration": 0,
    "start_time": "2024-09-19T12:16:34.616Z"
   },
   {
    "duration": 0,
    "start_time": "2024-09-19T12:16:34.618Z"
   },
   {
    "duration": 0,
    "start_time": "2024-09-19T12:16:34.620Z"
   },
   {
    "duration": 0,
    "start_time": "2024-09-19T12:16:34.621Z"
   },
   {
    "duration": 0,
    "start_time": "2024-09-19T12:16:34.623Z"
   },
   {
    "duration": 0,
    "start_time": "2024-09-19T12:16:34.624Z"
   },
   {
    "duration": 0,
    "start_time": "2024-09-19T12:16:34.625Z"
   },
   {
    "duration": 0,
    "start_time": "2024-09-19T12:16:34.627Z"
   },
   {
    "duration": 0,
    "start_time": "2024-09-19T12:16:34.628Z"
   },
   {
    "duration": 0,
    "start_time": "2024-09-19T12:16:34.629Z"
   },
   {
    "duration": 0,
    "start_time": "2024-09-19T12:16:34.630Z"
   },
   {
    "duration": 0,
    "start_time": "2024-09-19T12:16:34.631Z"
   },
   {
    "duration": 0,
    "start_time": "2024-09-19T12:16:34.632Z"
   },
   {
    "duration": 0,
    "start_time": "2024-09-19T12:16:34.633Z"
   },
   {
    "duration": 0,
    "start_time": "2024-09-19T12:16:34.634Z"
   },
   {
    "duration": 0,
    "start_time": "2024-09-19T12:16:34.635Z"
   },
   {
    "duration": 0,
    "start_time": "2024-09-19T12:16:34.636Z"
   },
   {
    "duration": 0,
    "start_time": "2024-09-19T12:16:34.637Z"
   },
   {
    "duration": 0,
    "start_time": "2024-09-19T12:16:34.638Z"
   },
   {
    "duration": 0,
    "start_time": "2024-09-19T12:16:34.639Z"
   },
   {
    "duration": 0,
    "start_time": "2024-09-19T12:16:34.641Z"
   },
   {
    "duration": 2661,
    "start_time": "2024-09-19T12:17:37.967Z"
   },
   {
    "duration": 69,
    "start_time": "2024-09-19T12:17:40.631Z"
   },
   {
    "duration": 22,
    "start_time": "2024-09-19T12:17:40.701Z"
   },
   {
    "duration": 15,
    "start_time": "2024-09-19T12:17:40.726Z"
   },
   {
    "duration": 35,
    "start_time": "2024-09-19T12:17:40.743Z"
   },
   {
    "duration": 28,
    "start_time": "2024-09-19T12:17:40.780Z"
   },
   {
    "duration": 30,
    "start_time": "2024-09-19T12:17:40.810Z"
   },
   {
    "duration": 63,
    "start_time": "2024-09-19T12:17:40.842Z"
   },
   {
    "duration": 4,
    "start_time": "2024-09-19T12:17:40.907Z"
   },
   {
    "duration": 761,
    "start_time": "2024-09-19T12:17:40.914Z"
   },
   {
    "duration": 0,
    "start_time": "2024-09-19T12:17:41.677Z"
   },
   {
    "duration": 0,
    "start_time": "2024-09-19T12:17:41.678Z"
   },
   {
    "duration": 0,
    "start_time": "2024-09-19T12:17:41.679Z"
   },
   {
    "duration": 0,
    "start_time": "2024-09-19T12:17:41.680Z"
   },
   {
    "duration": 0,
    "start_time": "2024-09-19T12:17:41.681Z"
   },
   {
    "duration": 0,
    "start_time": "2024-09-19T12:17:41.681Z"
   },
   {
    "duration": 0,
    "start_time": "2024-09-19T12:17:41.682Z"
   },
   {
    "duration": 0,
    "start_time": "2024-09-19T12:17:41.684Z"
   },
   {
    "duration": 0,
    "start_time": "2024-09-19T12:17:41.685Z"
   },
   {
    "duration": 0,
    "start_time": "2024-09-19T12:17:41.685Z"
   },
   {
    "duration": 0,
    "start_time": "2024-09-19T12:17:41.686Z"
   },
   {
    "duration": 0,
    "start_time": "2024-09-19T12:17:41.688Z"
   },
   {
    "duration": 0,
    "start_time": "2024-09-19T12:17:41.688Z"
   },
   {
    "duration": 0,
    "start_time": "2024-09-19T12:17:41.690Z"
   },
   {
    "duration": 0,
    "start_time": "2024-09-19T12:17:41.691Z"
   },
   {
    "duration": 0,
    "start_time": "2024-09-19T12:17:41.692Z"
   },
   {
    "duration": 0,
    "start_time": "2024-09-19T12:17:41.693Z"
   },
   {
    "duration": 0,
    "start_time": "2024-09-19T12:17:41.694Z"
   },
   {
    "duration": 0,
    "start_time": "2024-09-19T12:17:41.695Z"
   },
   {
    "duration": 0,
    "start_time": "2024-09-19T12:17:41.697Z"
   },
   {
    "duration": 0,
    "start_time": "2024-09-19T12:17:41.698Z"
   },
   {
    "duration": 0,
    "start_time": "2024-09-19T12:17:41.699Z"
   },
   {
    "duration": 0,
    "start_time": "2024-09-19T12:17:41.700Z"
   },
   {
    "duration": 0,
    "start_time": "2024-09-19T12:17:41.701Z"
   },
   {
    "duration": 0,
    "start_time": "2024-09-19T12:17:41.703Z"
   },
   {
    "duration": 0,
    "start_time": "2024-09-19T12:17:41.704Z"
   },
   {
    "duration": 0,
    "start_time": "2024-09-19T12:17:41.705Z"
   },
   {
    "duration": 0,
    "start_time": "2024-09-19T12:17:41.706Z"
   },
   {
    "duration": 0,
    "start_time": "2024-09-19T12:17:41.707Z"
   },
   {
    "duration": 0,
    "start_time": "2024-09-19T12:17:41.708Z"
   },
   {
    "duration": 0,
    "start_time": "2024-09-19T12:17:41.709Z"
   },
   {
    "duration": 0,
    "start_time": "2024-09-19T12:17:41.710Z"
   },
   {
    "duration": 0,
    "start_time": "2024-09-19T12:17:41.711Z"
   },
   {
    "duration": 0,
    "start_time": "2024-09-19T12:17:41.712Z"
   },
   {
    "duration": 0,
    "start_time": "2024-09-19T12:17:41.713Z"
   },
   {
    "duration": 0,
    "start_time": "2024-09-19T12:17:41.714Z"
   },
   {
    "duration": 0,
    "start_time": "2024-09-19T12:17:41.715Z"
   },
   {
    "duration": 0,
    "start_time": "2024-09-19T12:17:41.716Z"
   },
   {
    "duration": 0,
    "start_time": "2024-09-19T12:17:41.717Z"
   },
   {
    "duration": 0,
    "start_time": "2024-09-19T12:17:41.718Z"
   },
   {
    "duration": 0,
    "start_time": "2024-09-19T12:17:41.719Z"
   },
   {
    "duration": 0,
    "start_time": "2024-09-19T12:17:41.720Z"
   },
   {
    "duration": 0,
    "start_time": "2024-09-19T12:17:41.721Z"
   },
   {
    "duration": 0,
    "start_time": "2024-09-19T12:17:41.723Z"
   },
   {
    "duration": 0,
    "start_time": "2024-09-19T12:17:41.724Z"
   },
   {
    "duration": 0,
    "start_time": "2024-09-19T12:17:41.725Z"
   },
   {
    "duration": 0,
    "start_time": "2024-09-19T12:17:41.726Z"
   },
   {
    "duration": 0,
    "start_time": "2024-09-19T12:17:41.727Z"
   },
   {
    "duration": 0,
    "start_time": "2024-09-19T12:17:41.728Z"
   },
   {
    "duration": 0,
    "start_time": "2024-09-19T12:17:41.729Z"
   },
   {
    "duration": 0,
    "start_time": "2024-09-19T12:17:41.730Z"
   },
   {
    "duration": 1314,
    "start_time": "2024-09-19T12:18:52.921Z"
   },
   {
    "duration": 57,
    "start_time": "2024-09-19T12:18:54.239Z"
   },
   {
    "duration": 27,
    "start_time": "2024-09-19T12:18:54.298Z"
   },
   {
    "duration": 15,
    "start_time": "2024-09-19T12:18:54.327Z"
   },
   {
    "duration": 52,
    "start_time": "2024-09-19T12:18:54.344Z"
   },
   {
    "duration": 20,
    "start_time": "2024-09-19T12:18:54.397Z"
   },
   {
    "duration": 49,
    "start_time": "2024-09-19T12:18:54.419Z"
   },
   {
    "duration": 20,
    "start_time": "2024-09-19T12:18:54.470Z"
   },
   {
    "duration": 11,
    "start_time": "2024-09-19T12:18:54.491Z"
   },
   {
    "duration": 79,
    "start_time": "2024-09-19T12:18:54.505Z"
   },
   {
    "duration": 0,
    "start_time": "2024-09-19T12:18:54.587Z"
   },
   {
    "duration": 0,
    "start_time": "2024-09-19T12:18:54.589Z"
   },
   {
    "duration": 0,
    "start_time": "2024-09-19T12:18:54.590Z"
   },
   {
    "duration": 0,
    "start_time": "2024-09-19T12:18:54.591Z"
   },
   {
    "duration": 0,
    "start_time": "2024-09-19T12:18:54.593Z"
   },
   {
    "duration": 0,
    "start_time": "2024-09-19T12:18:54.593Z"
   },
   {
    "duration": 0,
    "start_time": "2024-09-19T12:18:54.595Z"
   },
   {
    "duration": 0,
    "start_time": "2024-09-19T12:18:54.596Z"
   },
   {
    "duration": 0,
    "start_time": "2024-09-19T12:18:54.597Z"
   },
   {
    "duration": 0,
    "start_time": "2024-09-19T12:18:54.598Z"
   },
   {
    "duration": 0,
    "start_time": "2024-09-19T12:18:54.599Z"
   },
   {
    "duration": 0,
    "start_time": "2024-09-19T12:18:54.600Z"
   },
   {
    "duration": 0,
    "start_time": "2024-09-19T12:18:54.601Z"
   },
   {
    "duration": 0,
    "start_time": "2024-09-19T12:18:54.602Z"
   },
   {
    "duration": 0,
    "start_time": "2024-09-19T12:18:54.603Z"
   },
   {
    "duration": 0,
    "start_time": "2024-09-19T12:18:54.604Z"
   },
   {
    "duration": 0,
    "start_time": "2024-09-19T12:18:54.605Z"
   },
   {
    "duration": 0,
    "start_time": "2024-09-19T12:18:54.607Z"
   },
   {
    "duration": 0,
    "start_time": "2024-09-19T12:18:54.608Z"
   },
   {
    "duration": 0,
    "start_time": "2024-09-19T12:18:54.609Z"
   },
   {
    "duration": 0,
    "start_time": "2024-09-19T12:18:54.611Z"
   },
   {
    "duration": 0,
    "start_time": "2024-09-19T12:18:54.612Z"
   },
   {
    "duration": 0,
    "start_time": "2024-09-19T12:18:54.613Z"
   },
   {
    "duration": 0,
    "start_time": "2024-09-19T12:18:54.614Z"
   },
   {
    "duration": 0,
    "start_time": "2024-09-19T12:18:54.616Z"
   },
   {
    "duration": 0,
    "start_time": "2024-09-19T12:18:54.617Z"
   },
   {
    "duration": 0,
    "start_time": "2024-09-19T12:18:54.619Z"
   },
   {
    "duration": 0,
    "start_time": "2024-09-19T12:18:54.621Z"
   },
   {
    "duration": 0,
    "start_time": "2024-09-19T12:18:54.622Z"
   },
   {
    "duration": 0,
    "start_time": "2024-09-19T12:18:54.623Z"
   },
   {
    "duration": 0,
    "start_time": "2024-09-19T12:18:54.625Z"
   },
   {
    "duration": 0,
    "start_time": "2024-09-19T12:18:54.626Z"
   },
   {
    "duration": 0,
    "start_time": "2024-09-19T12:18:54.627Z"
   },
   {
    "duration": 0,
    "start_time": "2024-09-19T12:18:54.628Z"
   },
   {
    "duration": 0,
    "start_time": "2024-09-19T12:18:54.629Z"
   },
   {
    "duration": 0,
    "start_time": "2024-09-19T12:18:54.630Z"
   },
   {
    "duration": 0,
    "start_time": "2024-09-19T12:18:54.631Z"
   },
   {
    "duration": 0,
    "start_time": "2024-09-19T12:18:54.632Z"
   },
   {
    "duration": 0,
    "start_time": "2024-09-19T12:18:54.633Z"
   },
   {
    "duration": 0,
    "start_time": "2024-09-19T12:18:54.635Z"
   },
   {
    "duration": 0,
    "start_time": "2024-09-19T12:18:54.635Z"
   },
   {
    "duration": 0,
    "start_time": "2024-09-19T12:18:54.637Z"
   },
   {
    "duration": 1,
    "start_time": "2024-09-19T12:18:54.637Z"
   },
   {
    "duration": 0,
    "start_time": "2024-09-19T12:18:54.638Z"
   },
   {
    "duration": 0,
    "start_time": "2024-09-19T12:18:54.639Z"
   },
   {
    "duration": 0,
    "start_time": "2024-09-19T12:18:54.640Z"
   },
   {
    "duration": 0,
    "start_time": "2024-09-19T12:18:54.642Z"
   },
   {
    "duration": 0,
    "start_time": "2024-09-19T12:18:54.643Z"
   },
   {
    "duration": 0,
    "start_time": "2024-09-19T12:18:54.644Z"
   },
   {
    "duration": 0,
    "start_time": "2024-09-19T12:18:54.705Z"
   },
   {
    "duration": 0,
    "start_time": "2024-09-19T12:18:54.707Z"
   },
   {
    "duration": 1352,
    "start_time": "2024-09-19T12:26:48.556Z"
   },
   {
    "duration": 59,
    "start_time": "2024-09-19T12:26:49.911Z"
   },
   {
    "duration": 23,
    "start_time": "2024-09-19T12:26:49.971Z"
   },
   {
    "duration": 51,
    "start_time": "2024-09-19T12:26:49.997Z"
   },
   {
    "duration": 34,
    "start_time": "2024-09-19T12:26:50.050Z"
   },
   {
    "duration": 16,
    "start_time": "2024-09-19T12:26:50.086Z"
   },
   {
    "duration": 112,
    "start_time": "2024-09-19T12:26:50.104Z"
   },
   {
    "duration": 21,
    "start_time": "2024-09-19T12:26:50.218Z"
   },
   {
    "duration": 4,
    "start_time": "2024-09-19T12:26:50.241Z"
   },
   {
    "duration": 114,
    "start_time": "2024-09-19T12:26:50.248Z"
   },
   {
    "duration": 0,
    "start_time": "2024-09-19T12:26:50.365Z"
   },
   {
    "duration": 0,
    "start_time": "2024-09-19T12:26:50.366Z"
   },
   {
    "duration": 0,
    "start_time": "2024-09-19T12:26:50.367Z"
   },
   {
    "duration": 0,
    "start_time": "2024-09-19T12:26:50.369Z"
   },
   {
    "duration": 0,
    "start_time": "2024-09-19T12:26:50.370Z"
   },
   {
    "duration": 0,
    "start_time": "2024-09-19T12:26:50.372Z"
   },
   {
    "duration": 0,
    "start_time": "2024-09-19T12:26:50.373Z"
   },
   {
    "duration": 0,
    "start_time": "2024-09-19T12:26:50.374Z"
   },
   {
    "duration": 0,
    "start_time": "2024-09-19T12:26:50.375Z"
   },
   {
    "duration": 0,
    "start_time": "2024-09-19T12:26:50.376Z"
   },
   {
    "duration": 0,
    "start_time": "2024-09-19T12:26:50.377Z"
   },
   {
    "duration": 0,
    "start_time": "2024-09-19T12:26:50.378Z"
   },
   {
    "duration": 0,
    "start_time": "2024-09-19T12:26:50.405Z"
   },
   {
    "duration": 0,
    "start_time": "2024-09-19T12:26:50.406Z"
   },
   {
    "duration": 0,
    "start_time": "2024-09-19T12:26:50.407Z"
   },
   {
    "duration": 0,
    "start_time": "2024-09-19T12:26:50.408Z"
   },
   {
    "duration": 0,
    "start_time": "2024-09-19T12:26:50.410Z"
   },
   {
    "duration": 0,
    "start_time": "2024-09-19T12:26:50.411Z"
   },
   {
    "duration": 0,
    "start_time": "2024-09-19T12:26:50.412Z"
   },
   {
    "duration": 0,
    "start_time": "2024-09-19T12:26:50.413Z"
   },
   {
    "duration": 0,
    "start_time": "2024-09-19T12:26:50.414Z"
   },
   {
    "duration": 0,
    "start_time": "2024-09-19T12:26:50.416Z"
   },
   {
    "duration": 0,
    "start_time": "2024-09-19T12:26:50.417Z"
   },
   {
    "duration": 0,
    "start_time": "2024-09-19T12:26:50.419Z"
   },
   {
    "duration": 0,
    "start_time": "2024-09-19T12:26:50.420Z"
   },
   {
    "duration": 0,
    "start_time": "2024-09-19T12:26:50.421Z"
   },
   {
    "duration": 0,
    "start_time": "2024-09-19T12:26:50.422Z"
   },
   {
    "duration": 0,
    "start_time": "2024-09-19T12:26:50.423Z"
   },
   {
    "duration": 0,
    "start_time": "2024-09-19T12:26:50.423Z"
   },
   {
    "duration": 0,
    "start_time": "2024-09-19T12:26:50.425Z"
   },
   {
    "duration": 0,
    "start_time": "2024-09-19T12:26:50.426Z"
   },
   {
    "duration": 0,
    "start_time": "2024-09-19T12:26:50.427Z"
   },
   {
    "duration": 0,
    "start_time": "2024-09-19T12:26:50.429Z"
   },
   {
    "duration": 0,
    "start_time": "2024-09-19T12:26:50.429Z"
   },
   {
    "duration": 0,
    "start_time": "2024-09-19T12:26:50.434Z"
   },
   {
    "duration": 0,
    "start_time": "2024-09-19T12:26:50.435Z"
   },
   {
    "duration": 0,
    "start_time": "2024-09-19T12:26:50.437Z"
   },
   {
    "duration": 0,
    "start_time": "2024-09-19T12:26:50.437Z"
   },
   {
    "duration": 0,
    "start_time": "2024-09-19T12:26:50.439Z"
   },
   {
    "duration": 0,
    "start_time": "2024-09-19T12:26:50.440Z"
   },
   {
    "duration": 0,
    "start_time": "2024-09-19T12:26:50.442Z"
   },
   {
    "duration": 0,
    "start_time": "2024-09-19T12:26:50.443Z"
   },
   {
    "duration": 0,
    "start_time": "2024-09-19T12:26:50.444Z"
   },
   {
    "duration": 0,
    "start_time": "2024-09-19T12:26:50.505Z"
   },
   {
    "duration": 0,
    "start_time": "2024-09-19T12:26:50.507Z"
   },
   {
    "duration": 0,
    "start_time": "2024-09-19T12:26:50.509Z"
   },
   {
    "duration": 0,
    "start_time": "2024-09-19T12:26:50.510Z"
   },
   {
    "duration": 1,
    "start_time": "2024-09-19T12:26:50.511Z"
   },
   {
    "duration": 0,
    "start_time": "2024-09-19T12:26:50.513Z"
   },
   {
    "duration": 0,
    "start_time": "2024-09-19T12:26:50.514Z"
   },
   {
    "duration": 0,
    "start_time": "2024-09-19T12:26:50.516Z"
   },
   {
    "duration": 1307,
    "start_time": "2024-09-19T12:27:30.216Z"
   },
   {
    "duration": 60,
    "start_time": "2024-09-19T12:27:31.525Z"
   },
   {
    "duration": 29,
    "start_time": "2024-09-19T12:27:31.587Z"
   },
   {
    "duration": 29,
    "start_time": "2024-09-19T12:27:31.620Z"
   },
   {
    "duration": 45,
    "start_time": "2024-09-19T12:27:31.651Z"
   },
   {
    "duration": 26,
    "start_time": "2024-09-19T12:27:31.698Z"
   },
   {
    "duration": 45,
    "start_time": "2024-09-19T12:27:31.726Z"
   },
   {
    "duration": 49,
    "start_time": "2024-09-19T12:27:31.773Z"
   },
   {
    "duration": 22,
    "start_time": "2024-09-19T12:27:31.824Z"
   },
   {
    "duration": 130,
    "start_time": "2024-09-19T12:27:31.850Z"
   },
   {
    "duration": 0,
    "start_time": "2024-09-19T12:27:31.984Z"
   },
   {
    "duration": 0,
    "start_time": "2024-09-19T12:27:31.985Z"
   },
   {
    "duration": 0,
    "start_time": "2024-09-19T12:27:31.987Z"
   },
   {
    "duration": 0,
    "start_time": "2024-09-19T12:27:31.988Z"
   },
   {
    "duration": 0,
    "start_time": "2024-09-19T12:27:31.990Z"
   },
   {
    "duration": 0,
    "start_time": "2024-09-19T12:27:31.991Z"
   },
   {
    "duration": 0,
    "start_time": "2024-09-19T12:27:32.005Z"
   },
   {
    "duration": 0,
    "start_time": "2024-09-19T12:27:32.007Z"
   },
   {
    "duration": 0,
    "start_time": "2024-09-19T12:27:32.008Z"
   },
   {
    "duration": 0,
    "start_time": "2024-09-19T12:27:32.010Z"
   },
   {
    "duration": 0,
    "start_time": "2024-09-19T12:27:32.011Z"
   },
   {
    "duration": 0,
    "start_time": "2024-09-19T12:27:32.012Z"
   },
   {
    "duration": 0,
    "start_time": "2024-09-19T12:27:32.014Z"
   },
   {
    "duration": 0,
    "start_time": "2024-09-19T12:27:32.015Z"
   },
   {
    "duration": 0,
    "start_time": "2024-09-19T12:27:32.017Z"
   },
   {
    "duration": 0,
    "start_time": "2024-09-19T12:27:32.018Z"
   },
   {
    "duration": 0,
    "start_time": "2024-09-19T12:27:32.020Z"
   },
   {
    "duration": 0,
    "start_time": "2024-09-19T12:27:32.021Z"
   },
   {
    "duration": 0,
    "start_time": "2024-09-19T12:27:32.022Z"
   },
   {
    "duration": 0,
    "start_time": "2024-09-19T12:27:32.024Z"
   },
   {
    "duration": 0,
    "start_time": "2024-09-19T12:27:32.025Z"
   },
   {
    "duration": 0,
    "start_time": "2024-09-19T12:27:32.027Z"
   },
   {
    "duration": 0,
    "start_time": "2024-09-19T12:27:32.028Z"
   },
   {
    "duration": 0,
    "start_time": "2024-09-19T12:27:32.030Z"
   },
   {
    "duration": 0,
    "start_time": "2024-09-19T12:27:32.031Z"
   },
   {
    "duration": 0,
    "start_time": "2024-09-19T12:27:32.032Z"
   },
   {
    "duration": 0,
    "start_time": "2024-09-19T12:27:32.034Z"
   },
   {
    "duration": 0,
    "start_time": "2024-09-19T12:27:32.035Z"
   },
   {
    "duration": 0,
    "start_time": "2024-09-19T12:27:32.037Z"
   },
   {
    "duration": 0,
    "start_time": "2024-09-19T12:27:32.038Z"
   },
   {
    "duration": 0,
    "start_time": "2024-09-19T12:27:32.040Z"
   },
   {
    "duration": 0,
    "start_time": "2024-09-19T12:27:32.041Z"
   },
   {
    "duration": 0,
    "start_time": "2024-09-19T12:27:32.042Z"
   },
   {
    "duration": 0,
    "start_time": "2024-09-19T12:27:32.106Z"
   },
   {
    "duration": 0,
    "start_time": "2024-09-19T12:27:32.108Z"
   },
   {
    "duration": 0,
    "start_time": "2024-09-19T12:27:32.109Z"
   },
   {
    "duration": 0,
    "start_time": "2024-09-19T12:27:32.110Z"
   },
   {
    "duration": 0,
    "start_time": "2024-09-19T12:27:32.111Z"
   },
   {
    "duration": 0,
    "start_time": "2024-09-19T12:27:32.112Z"
   },
   {
    "duration": 0,
    "start_time": "2024-09-19T12:27:32.113Z"
   },
   {
    "duration": 0,
    "start_time": "2024-09-19T12:27:32.114Z"
   },
   {
    "duration": 0,
    "start_time": "2024-09-19T12:27:32.115Z"
   },
   {
    "duration": 0,
    "start_time": "2024-09-19T12:27:32.116Z"
   },
   {
    "duration": 0,
    "start_time": "2024-09-19T12:27:32.118Z"
   },
   {
    "duration": 0,
    "start_time": "2024-09-19T12:27:32.119Z"
   },
   {
    "duration": 0,
    "start_time": "2024-09-19T12:27:32.121Z"
   },
   {
    "duration": 0,
    "start_time": "2024-09-19T12:27:32.122Z"
   },
   {
    "duration": 0,
    "start_time": "2024-09-19T12:27:32.123Z"
   },
   {
    "duration": 0,
    "start_time": "2024-09-19T12:27:32.124Z"
   },
   {
    "duration": 0,
    "start_time": "2024-09-19T12:27:32.125Z"
   },
   {
    "duration": 0,
    "start_time": "2024-09-19T12:27:32.127Z"
   },
   {
    "duration": 1327,
    "start_time": "2024-09-19T12:35:06.294Z"
   },
   {
    "duration": 58,
    "start_time": "2024-09-19T12:35:07.623Z"
   },
   {
    "duration": 20,
    "start_time": "2024-09-19T12:35:07.683Z"
   },
   {
    "duration": 42,
    "start_time": "2024-09-19T12:35:07.705Z"
   },
   {
    "duration": 44,
    "start_time": "2024-09-19T12:35:07.749Z"
   },
   {
    "duration": 39,
    "start_time": "2024-09-19T12:35:07.796Z"
   },
   {
    "duration": 35,
    "start_time": "2024-09-19T12:35:07.837Z"
   },
   {
    "duration": 24,
    "start_time": "2024-09-19T12:35:07.874Z"
   },
   {
    "duration": 27,
    "start_time": "2024-09-19T12:35:07.900Z"
   },
   {
    "duration": 121,
    "start_time": "2024-09-19T12:35:07.930Z"
   },
   {
    "duration": 0,
    "start_time": "2024-09-19T12:35:08.054Z"
   },
   {
    "duration": 0,
    "start_time": "2024-09-19T12:35:08.054Z"
   },
   {
    "duration": 0,
    "start_time": "2024-09-19T12:35:08.056Z"
   },
   {
    "duration": 0,
    "start_time": "2024-09-19T12:35:08.057Z"
   },
   {
    "duration": 0,
    "start_time": "2024-09-19T12:35:08.058Z"
   },
   {
    "duration": 0,
    "start_time": "2024-09-19T12:35:08.059Z"
   },
   {
    "duration": 0,
    "start_time": "2024-09-19T12:35:08.061Z"
   },
   {
    "duration": 0,
    "start_time": "2024-09-19T12:35:08.062Z"
   },
   {
    "duration": 0,
    "start_time": "2024-09-19T12:35:08.063Z"
   },
   {
    "duration": 0,
    "start_time": "2024-09-19T12:35:08.065Z"
   },
   {
    "duration": 0,
    "start_time": "2024-09-19T12:35:08.066Z"
   },
   {
    "duration": 0,
    "start_time": "2024-09-19T12:35:08.067Z"
   },
   {
    "duration": 0,
    "start_time": "2024-09-19T12:35:08.069Z"
   },
   {
    "duration": 0,
    "start_time": "2024-09-19T12:35:08.070Z"
   },
   {
    "duration": 0,
    "start_time": "2024-09-19T12:35:08.072Z"
   },
   {
    "duration": 0,
    "start_time": "2024-09-19T12:35:08.073Z"
   },
   {
    "duration": 0,
    "start_time": "2024-09-19T12:35:08.106Z"
   },
   {
    "duration": 0,
    "start_time": "2024-09-19T12:35:08.108Z"
   },
   {
    "duration": 0,
    "start_time": "2024-09-19T12:35:08.110Z"
   },
   {
    "duration": 0,
    "start_time": "2024-09-19T12:35:08.111Z"
   },
   {
    "duration": 0,
    "start_time": "2024-09-19T12:35:08.113Z"
   },
   {
    "duration": 0,
    "start_time": "2024-09-19T12:35:08.114Z"
   },
   {
    "duration": 0,
    "start_time": "2024-09-19T12:35:08.116Z"
   },
   {
    "duration": 0,
    "start_time": "2024-09-19T12:35:08.117Z"
   },
   {
    "duration": 0,
    "start_time": "2024-09-19T12:35:08.119Z"
   },
   {
    "duration": 0,
    "start_time": "2024-09-19T12:35:08.120Z"
   },
   {
    "duration": 1,
    "start_time": "2024-09-19T12:35:08.121Z"
   },
   {
    "duration": 0,
    "start_time": "2024-09-19T12:35:08.123Z"
   },
   {
    "duration": 1,
    "start_time": "2024-09-19T12:35:08.124Z"
   },
   {
    "duration": 0,
    "start_time": "2024-09-19T12:35:08.126Z"
   },
   {
    "duration": 0,
    "start_time": "2024-09-19T12:35:08.128Z"
   },
   {
    "duration": 0,
    "start_time": "2024-09-19T12:35:08.129Z"
   },
   {
    "duration": 0,
    "start_time": "2024-09-19T12:35:08.130Z"
   },
   {
    "duration": 0,
    "start_time": "2024-09-19T12:35:08.131Z"
   },
   {
    "duration": 0,
    "start_time": "2024-09-19T12:35:08.132Z"
   },
   {
    "duration": 0,
    "start_time": "2024-09-19T12:35:08.133Z"
   },
   {
    "duration": 0,
    "start_time": "2024-09-19T12:35:08.134Z"
   },
   {
    "duration": 0,
    "start_time": "2024-09-19T12:35:08.136Z"
   },
   {
    "duration": 0,
    "start_time": "2024-09-19T12:35:08.137Z"
   },
   {
    "duration": 0,
    "start_time": "2024-09-19T12:35:08.138Z"
   },
   {
    "duration": 0,
    "start_time": "2024-09-19T12:35:08.140Z"
   },
   {
    "duration": 0,
    "start_time": "2024-09-19T12:35:08.140Z"
   },
   {
    "duration": 0,
    "start_time": "2024-09-19T12:35:08.142Z"
   },
   {
    "duration": 0,
    "start_time": "2024-09-19T12:35:08.207Z"
   },
   {
    "duration": 0,
    "start_time": "2024-09-19T12:35:08.209Z"
   },
   {
    "duration": 0,
    "start_time": "2024-09-19T12:35:08.210Z"
   },
   {
    "duration": 0,
    "start_time": "2024-09-19T12:35:08.212Z"
   },
   {
    "duration": 0,
    "start_time": "2024-09-19T12:35:08.214Z"
   },
   {
    "duration": 0,
    "start_time": "2024-09-19T12:35:08.215Z"
   },
   {
    "duration": 0,
    "start_time": "2024-09-19T12:35:08.217Z"
   },
   {
    "duration": 0,
    "start_time": "2024-09-19T12:35:08.218Z"
   },
   {
    "duration": 1321,
    "start_time": "2024-09-19T12:35:48.192Z"
   },
   {
    "duration": 57,
    "start_time": "2024-09-19T12:35:49.515Z"
   },
   {
    "duration": 25,
    "start_time": "2024-09-19T12:35:49.574Z"
   },
   {
    "duration": 22,
    "start_time": "2024-09-19T12:35:49.601Z"
   },
   {
    "duration": 38,
    "start_time": "2024-09-19T12:35:49.626Z"
   },
   {
    "duration": 16,
    "start_time": "2024-09-19T12:35:49.665Z"
   },
   {
    "duration": 32,
    "start_time": "2024-09-19T12:35:49.683Z"
   },
   {
    "duration": 20,
    "start_time": "2024-09-19T12:35:49.717Z"
   },
   {
    "duration": 8,
    "start_time": "2024-09-19T12:35:49.738Z"
   },
   {
    "duration": 129,
    "start_time": "2024-09-19T12:35:49.748Z"
   },
   {
    "duration": 0,
    "start_time": "2024-09-19T12:35:49.880Z"
   },
   {
    "duration": 0,
    "start_time": "2024-09-19T12:35:49.881Z"
   },
   {
    "duration": 0,
    "start_time": "2024-09-19T12:35:49.883Z"
   },
   {
    "duration": 0,
    "start_time": "2024-09-19T12:35:49.884Z"
   },
   {
    "duration": 0,
    "start_time": "2024-09-19T12:35:49.885Z"
   },
   {
    "duration": 0,
    "start_time": "2024-09-19T12:35:49.886Z"
   },
   {
    "duration": 0,
    "start_time": "2024-09-19T12:35:49.888Z"
   },
   {
    "duration": 0,
    "start_time": "2024-09-19T12:35:49.889Z"
   },
   {
    "duration": 0,
    "start_time": "2024-09-19T12:35:49.906Z"
   },
   {
    "duration": 0,
    "start_time": "2024-09-19T12:35:49.907Z"
   },
   {
    "duration": 0,
    "start_time": "2024-09-19T12:35:49.909Z"
   },
   {
    "duration": 0,
    "start_time": "2024-09-19T12:35:49.910Z"
   },
   {
    "duration": 0,
    "start_time": "2024-09-19T12:35:49.912Z"
   },
   {
    "duration": 0,
    "start_time": "2024-09-19T12:35:49.914Z"
   },
   {
    "duration": 0,
    "start_time": "2024-09-19T12:35:49.915Z"
   },
   {
    "duration": 0,
    "start_time": "2024-09-19T12:35:49.917Z"
   },
   {
    "duration": 0,
    "start_time": "2024-09-19T12:35:49.918Z"
   },
   {
    "duration": 0,
    "start_time": "2024-09-19T12:35:49.919Z"
   },
   {
    "duration": 0,
    "start_time": "2024-09-19T12:35:49.921Z"
   },
   {
    "duration": 0,
    "start_time": "2024-09-19T12:35:49.922Z"
   },
   {
    "duration": 0,
    "start_time": "2024-09-19T12:35:49.924Z"
   },
   {
    "duration": 0,
    "start_time": "2024-09-19T12:35:49.925Z"
   },
   {
    "duration": 0,
    "start_time": "2024-09-19T12:35:49.926Z"
   },
   {
    "duration": 0,
    "start_time": "2024-09-19T12:35:49.928Z"
   },
   {
    "duration": 0,
    "start_time": "2024-09-19T12:35:49.930Z"
   },
   {
    "duration": 0,
    "start_time": "2024-09-19T12:35:49.931Z"
   },
   {
    "duration": 0,
    "start_time": "2024-09-19T12:35:49.933Z"
   },
   {
    "duration": 0,
    "start_time": "2024-09-19T12:35:49.934Z"
   },
   {
    "duration": 0,
    "start_time": "2024-09-19T12:35:49.936Z"
   },
   {
    "duration": 0,
    "start_time": "2024-09-19T12:35:49.937Z"
   },
   {
    "duration": 0,
    "start_time": "2024-09-19T12:35:49.939Z"
   },
   {
    "duration": 0,
    "start_time": "2024-09-19T12:35:49.940Z"
   },
   {
    "duration": 0,
    "start_time": "2024-09-19T12:35:49.941Z"
   },
   {
    "duration": 0,
    "start_time": "2024-09-19T12:35:49.942Z"
   },
   {
    "duration": 0,
    "start_time": "2024-09-19T12:35:49.943Z"
   },
   {
    "duration": 0,
    "start_time": "2024-09-19T12:35:50.005Z"
   },
   {
    "duration": 0,
    "start_time": "2024-09-19T12:35:50.007Z"
   },
   {
    "duration": 0,
    "start_time": "2024-09-19T12:35:50.008Z"
   },
   {
    "duration": 0,
    "start_time": "2024-09-19T12:35:50.009Z"
   },
   {
    "duration": 0,
    "start_time": "2024-09-19T12:35:50.010Z"
   },
   {
    "duration": 0,
    "start_time": "2024-09-19T12:35:50.011Z"
   },
   {
    "duration": 1,
    "start_time": "2024-09-19T12:35:50.011Z"
   },
   {
    "duration": 0,
    "start_time": "2024-09-19T12:35:50.012Z"
   },
   {
    "duration": 0,
    "start_time": "2024-09-19T12:35:50.013Z"
   },
   {
    "duration": 0,
    "start_time": "2024-09-19T12:35:50.014Z"
   },
   {
    "duration": 0,
    "start_time": "2024-09-19T12:35:50.015Z"
   },
   {
    "duration": 0,
    "start_time": "2024-09-19T12:35:50.016Z"
   },
   {
    "duration": 0,
    "start_time": "2024-09-19T12:35:50.017Z"
   },
   {
    "duration": 0,
    "start_time": "2024-09-19T12:35:50.018Z"
   },
   {
    "duration": 0,
    "start_time": "2024-09-19T12:35:50.019Z"
   },
   {
    "duration": 0,
    "start_time": "2024-09-19T12:35:50.020Z"
   },
   {
    "duration": 1313,
    "start_time": "2024-09-19T12:54:21.293Z"
   },
   {
    "duration": 58,
    "start_time": "2024-09-19T12:54:22.608Z"
   },
   {
    "duration": 20,
    "start_time": "2024-09-19T12:54:22.668Z"
   },
   {
    "duration": 41,
    "start_time": "2024-09-19T12:54:22.690Z"
   },
   {
    "duration": 31,
    "start_time": "2024-09-19T12:54:22.734Z"
   },
   {
    "duration": 15,
    "start_time": "2024-09-19T12:54:22.767Z"
   },
   {
    "duration": 54,
    "start_time": "2024-09-19T12:54:22.784Z"
   },
   {
    "duration": 20,
    "start_time": "2024-09-19T12:54:22.840Z"
   },
   {
    "duration": 10,
    "start_time": "2024-09-19T12:54:22.862Z"
   },
   {
    "duration": 43,
    "start_time": "2024-09-19T12:54:22.873Z"
   },
   {
    "duration": 27,
    "start_time": "2024-09-19T12:54:22.917Z"
   },
   {
    "duration": 25,
    "start_time": "2024-09-19T12:54:22.946Z"
   },
   {
    "duration": 19,
    "start_time": "2024-09-19T12:54:22.973Z"
   },
   {
    "duration": 25,
    "start_time": "2024-09-19T12:54:22.995Z"
   },
   {
    "duration": 8,
    "start_time": "2024-09-19T12:54:23.022Z"
   },
   {
    "duration": 28,
    "start_time": "2024-09-19T12:54:23.031Z"
   },
   {
    "duration": 41,
    "start_time": "2024-09-19T12:54:23.061Z"
   },
   {
    "duration": 17,
    "start_time": "2024-09-19T12:54:23.104Z"
   },
   {
    "duration": 12,
    "start_time": "2024-09-19T12:54:23.123Z"
   },
   {
    "duration": 32,
    "start_time": "2024-09-19T12:54:23.137Z"
   },
   {
    "duration": 14,
    "start_time": "2024-09-19T12:54:23.171Z"
   },
   {
    "duration": 30,
    "start_time": "2024-09-19T12:54:23.187Z"
   },
   {
    "duration": 33,
    "start_time": "2024-09-19T12:54:23.218Z"
   },
   {
    "duration": 17,
    "start_time": "2024-09-19T12:54:23.253Z"
   },
   {
    "duration": 8,
    "start_time": "2024-09-19T12:54:23.271Z"
   },
   {
    "duration": 439,
    "start_time": "2024-09-19T12:54:23.280Z"
   },
   {
    "duration": 17,
    "start_time": "2024-09-19T12:54:23.721Z"
   },
   {
    "duration": 1285,
    "start_time": "2024-09-19T12:54:23.740Z"
   },
   {
    "duration": 22,
    "start_time": "2024-09-19T12:54:25.027Z"
   },
   {
    "duration": 23,
    "start_time": "2024-09-19T12:54:25.051Z"
   },
   {
    "duration": 1701,
    "start_time": "2024-09-19T12:54:25.075Z"
   },
   {
    "duration": 329,
    "start_time": "2024-09-19T12:54:26.778Z"
   },
   {
    "duration": 1445,
    "start_time": "2024-09-19T12:54:27.108Z"
   },
   {
    "duration": 67,
    "start_time": "2024-09-19T12:54:28.555Z"
   },
   {
    "duration": 17,
    "start_time": "2024-09-19T12:54:28.623Z"
   },
   {
    "duration": 15,
    "start_time": "2024-09-19T12:54:28.641Z"
   },
   {
    "duration": 17,
    "start_time": "2024-09-19T12:54:28.657Z"
   },
   {
    "duration": 42,
    "start_time": "2024-09-19T12:54:28.676Z"
   },
   {
    "duration": 14,
    "start_time": "2024-09-19T12:54:28.719Z"
   },
   {
    "duration": 229,
    "start_time": "2024-09-19T12:54:28.735Z"
   },
   {
    "duration": 494,
    "start_time": "2024-09-19T12:54:28.969Z"
   },
   {
    "duration": 15,
    "start_time": "2024-09-19T12:54:29.465Z"
   },
   {
    "duration": 115,
    "start_time": "2024-09-19T12:54:29.481Z"
   },
   {
    "duration": 15,
    "start_time": "2024-09-19T12:54:29.604Z"
   },
   {
    "duration": 124,
    "start_time": "2024-09-19T12:54:29.620Z"
   },
   {
    "duration": 14,
    "start_time": "2024-09-19T12:54:29.746Z"
   },
   {
    "duration": 113,
    "start_time": "2024-09-19T12:54:29.762Z"
   },
   {
    "duration": 15,
    "start_time": "2024-09-19T12:54:29.877Z"
   },
   {
    "duration": 122,
    "start_time": "2024-09-19T12:54:29.906Z"
   },
   {
    "duration": 14,
    "start_time": "2024-09-19T12:54:30.030Z"
   },
   {
    "duration": 161,
    "start_time": "2024-09-19T12:54:30.046Z"
   },
   {
    "duration": 19,
    "start_time": "2024-09-19T12:54:30.209Z"
   },
   {
    "duration": 237,
    "start_time": "2024-09-19T12:54:30.230Z"
   },
   {
    "duration": 15,
    "start_time": "2024-09-19T12:54:30.468Z"
   },
   {
    "duration": 123,
    "start_time": "2024-09-19T12:54:30.484Z"
   },
   {
    "duration": 14,
    "start_time": "2024-09-19T12:54:30.609Z"
   },
   {
    "duration": 123,
    "start_time": "2024-09-19T12:54:30.625Z"
   },
   {
    "duration": 14,
    "start_time": "2024-09-19T12:54:30.750Z"
   },
   {
    "duration": 119,
    "start_time": "2024-09-19T12:54:30.765Z"
   },
   {
    "duration": 9,
    "start_time": "2024-09-19T12:54:30.886Z"
   },
   {
    "duration": 14,
    "start_time": "2024-09-19T12:54:30.904Z"
   },
   {
    "duration": 1705,
    "start_time": "2024-09-19T13:10:47.520Z"
   },
   {
    "duration": 60,
    "start_time": "2024-09-19T13:10:49.227Z"
   },
   {
    "duration": 21,
    "start_time": "2024-09-19T13:10:49.289Z"
   },
   {
    "duration": 16,
    "start_time": "2024-09-19T13:10:49.311Z"
   },
   {
    "duration": 42,
    "start_time": "2024-09-19T13:10:49.330Z"
   },
   {
    "duration": 15,
    "start_time": "2024-09-19T13:10:49.374Z"
   },
   {
    "duration": 29,
    "start_time": "2024-09-19T13:10:49.391Z"
   },
   {
    "duration": 20,
    "start_time": "2024-09-19T13:10:49.422Z"
   },
   {
    "duration": 4,
    "start_time": "2024-09-19T13:10:49.444Z"
   },
   {
    "duration": 90,
    "start_time": "2024-09-19T13:10:49.450Z"
   },
   {
    "duration": 12,
    "start_time": "2024-09-19T13:10:49.542Z"
   },
   {
    "duration": 41,
    "start_time": "2024-09-19T13:10:49.556Z"
   },
   {
    "duration": 30,
    "start_time": "2024-09-19T13:10:49.599Z"
   },
   {
    "duration": 36,
    "start_time": "2024-09-19T13:10:49.634Z"
   },
   {
    "duration": 13,
    "start_time": "2024-09-19T13:10:49.672Z"
   },
   {
    "duration": 34,
    "start_time": "2024-09-19T13:10:49.687Z"
   },
   {
    "duration": 23,
    "start_time": "2024-09-19T13:10:49.723Z"
   },
   {
    "duration": 34,
    "start_time": "2024-09-19T13:10:49.749Z"
   },
   {
    "duration": 53,
    "start_time": "2024-09-19T13:10:49.785Z"
   },
   {
    "duration": 139,
    "start_time": "2024-09-19T13:10:49.840Z"
   },
   {
    "duration": 23,
    "start_time": "2024-09-19T13:10:49.981Z"
   },
   {
    "duration": 35,
    "start_time": "2024-09-19T13:10:50.006Z"
   },
   {
    "duration": 88,
    "start_time": "2024-09-19T13:10:50.043Z"
   },
   {
    "duration": 85,
    "start_time": "2024-09-19T13:10:50.133Z"
   },
   {
    "duration": 11,
    "start_time": "2024-09-19T13:10:50.220Z"
   },
   {
    "duration": 495,
    "start_time": "2024-09-19T13:10:50.233Z"
   },
   {
    "duration": 17,
    "start_time": "2024-09-19T13:10:50.730Z"
   },
   {
    "duration": 1358,
    "start_time": "2024-09-19T13:10:50.749Z"
   },
   {
    "duration": 23,
    "start_time": "2024-09-19T13:10:52.109Z"
   },
   {
    "duration": 63,
    "start_time": "2024-09-19T13:10:52.134Z"
   },
   {
    "duration": 1802,
    "start_time": "2024-09-19T13:10:52.199Z"
   },
   {
    "duration": 302,
    "start_time": "2024-09-19T13:10:54.005Z"
   },
   {
    "duration": 1588,
    "start_time": "2024-09-19T13:10:54.309Z"
   },
   {
    "duration": 58,
    "start_time": "2024-09-19T13:10:55.899Z"
   },
   {
    "duration": 18,
    "start_time": "2024-09-19T13:10:55.960Z"
   },
   {
    "duration": 30,
    "start_time": "2024-09-19T13:10:55.980Z"
   },
   {
    "duration": 16,
    "start_time": "2024-09-19T13:10:56.012Z"
   },
   {
    "duration": 24,
    "start_time": "2024-09-19T13:10:56.030Z"
   },
   {
    "duration": 19,
    "start_time": "2024-09-19T13:10:56.056Z"
   },
   {
    "duration": 224,
    "start_time": "2024-09-19T13:10:56.105Z"
   },
   {
    "duration": 515,
    "start_time": "2024-09-19T13:10:56.333Z"
   },
   {
    "duration": 20,
    "start_time": "2024-09-19T13:10:56.850Z"
   },
   {
    "duration": 161,
    "start_time": "2024-09-19T13:10:56.872Z"
   },
   {
    "duration": 15,
    "start_time": "2024-09-19T13:10:57.034Z"
   },
   {
    "duration": 134,
    "start_time": "2024-09-19T13:10:57.052Z"
   },
   {
    "duration": 28,
    "start_time": "2024-09-19T13:10:57.189Z"
   },
   {
    "duration": 130,
    "start_time": "2024-09-19T13:10:57.219Z"
   },
   {
    "duration": 16,
    "start_time": "2024-09-19T13:10:57.351Z"
   },
   {
    "duration": 144,
    "start_time": "2024-09-19T13:10:57.369Z"
   },
   {
    "duration": 16,
    "start_time": "2024-09-19T13:10:57.515Z"
   },
   {
    "duration": 138,
    "start_time": "2024-09-19T13:10:57.533Z"
   },
   {
    "duration": 17,
    "start_time": "2024-09-19T13:10:57.672Z"
   },
   {
    "duration": 126,
    "start_time": "2024-09-19T13:10:57.690Z"
   },
   {
    "duration": 15,
    "start_time": "2024-09-19T13:10:57.818Z"
   },
   {
    "duration": 132,
    "start_time": "2024-09-19T13:10:57.835Z"
   },
   {
    "duration": 15,
    "start_time": "2024-09-19T13:10:57.969Z"
   },
   {
    "duration": 131,
    "start_time": "2024-09-19T13:10:57.986Z"
   },
   {
    "duration": 14,
    "start_time": "2024-09-19T13:10:58.119Z"
   },
   {
    "duration": 164,
    "start_time": "2024-09-19T13:10:58.134Z"
   },
   {
    "duration": 9,
    "start_time": "2024-09-19T13:10:58.300Z"
   },
   {
    "duration": 69,
    "start_time": "2024-09-19T13:10:58.311Z"
   },
   {
    "duration": 1357,
    "start_time": "2024-09-19T13:12:13.788Z"
   },
   {
    "duration": 64,
    "start_time": "2024-09-19T13:12:15.147Z"
   },
   {
    "duration": 21,
    "start_time": "2024-09-19T13:12:15.213Z"
   },
   {
    "duration": 33,
    "start_time": "2024-09-19T13:12:15.237Z"
   },
   {
    "duration": 47,
    "start_time": "2024-09-19T13:12:15.271Z"
   },
   {
    "duration": 15,
    "start_time": "2024-09-19T13:12:15.319Z"
   },
   {
    "duration": 47,
    "start_time": "2024-09-19T13:12:15.335Z"
   },
   {
    "duration": 30,
    "start_time": "2024-09-19T13:12:15.384Z"
   },
   {
    "duration": 6,
    "start_time": "2024-09-19T13:12:15.415Z"
   },
   {
    "duration": 81,
    "start_time": "2024-09-19T13:12:15.423Z"
   },
   {
    "duration": 1,
    "start_time": "2024-09-19T13:12:15.507Z"
   },
   {
    "duration": 0,
    "start_time": "2024-09-19T13:12:15.509Z"
   },
   {
    "duration": 0,
    "start_time": "2024-09-19T13:12:15.510Z"
   },
   {
    "duration": 0,
    "start_time": "2024-09-19T13:12:15.511Z"
   },
   {
    "duration": 0,
    "start_time": "2024-09-19T13:12:15.513Z"
   },
   {
    "duration": 0,
    "start_time": "2024-09-19T13:12:15.514Z"
   },
   {
    "duration": 0,
    "start_time": "2024-09-19T13:12:15.516Z"
   },
   {
    "duration": 0,
    "start_time": "2024-09-19T13:12:15.517Z"
   },
   {
    "duration": 0,
    "start_time": "2024-09-19T13:12:15.518Z"
   },
   {
    "duration": 0,
    "start_time": "2024-09-19T13:12:15.519Z"
   },
   {
    "duration": 0,
    "start_time": "2024-09-19T13:12:15.520Z"
   },
   {
    "duration": 0,
    "start_time": "2024-09-19T13:12:15.521Z"
   },
   {
    "duration": 0,
    "start_time": "2024-09-19T13:12:15.522Z"
   },
   {
    "duration": 0,
    "start_time": "2024-09-19T13:12:15.524Z"
   },
   {
    "duration": 0,
    "start_time": "2024-09-19T13:12:15.525Z"
   },
   {
    "duration": 0,
    "start_time": "2024-09-19T13:12:15.526Z"
   },
   {
    "duration": 0,
    "start_time": "2024-09-19T13:12:15.527Z"
   },
   {
    "duration": 0,
    "start_time": "2024-09-19T13:12:15.528Z"
   },
   {
    "duration": 0,
    "start_time": "2024-09-19T13:12:15.529Z"
   },
   {
    "duration": 0,
    "start_time": "2024-09-19T13:12:15.530Z"
   },
   {
    "duration": 0,
    "start_time": "2024-09-19T13:12:15.531Z"
   },
   {
    "duration": 0,
    "start_time": "2024-09-19T13:12:15.533Z"
   },
   {
    "duration": 0,
    "start_time": "2024-09-19T13:12:15.535Z"
   },
   {
    "duration": 0,
    "start_time": "2024-09-19T13:12:15.536Z"
   },
   {
    "duration": 0,
    "start_time": "2024-09-19T13:12:15.537Z"
   },
   {
    "duration": 0,
    "start_time": "2024-09-19T13:12:15.538Z"
   },
   {
    "duration": 0,
    "start_time": "2024-09-19T13:12:15.540Z"
   },
   {
    "duration": 0,
    "start_time": "2024-09-19T13:12:15.542Z"
   },
   {
    "duration": 0,
    "start_time": "2024-09-19T13:12:15.543Z"
   },
   {
    "duration": 0,
    "start_time": "2024-09-19T13:12:15.544Z"
   },
   {
    "duration": 0,
    "start_time": "2024-09-19T13:12:15.605Z"
   },
   {
    "duration": 0,
    "start_time": "2024-09-19T13:12:15.607Z"
   },
   {
    "duration": 0,
    "start_time": "2024-09-19T13:12:15.609Z"
   },
   {
    "duration": 0,
    "start_time": "2024-09-19T13:12:15.610Z"
   },
   {
    "duration": 0,
    "start_time": "2024-09-19T13:12:15.611Z"
   },
   {
    "duration": 0,
    "start_time": "2024-09-19T13:12:15.613Z"
   },
   {
    "duration": 0,
    "start_time": "2024-09-19T13:12:15.615Z"
   },
   {
    "duration": 0,
    "start_time": "2024-09-19T13:12:15.616Z"
   },
   {
    "duration": 0,
    "start_time": "2024-09-19T13:12:15.617Z"
   },
   {
    "duration": 0,
    "start_time": "2024-09-19T13:12:15.619Z"
   },
   {
    "duration": 0,
    "start_time": "2024-09-19T13:12:15.621Z"
   },
   {
    "duration": 0,
    "start_time": "2024-09-19T13:12:15.622Z"
   },
   {
    "duration": 0,
    "start_time": "2024-09-19T13:12:15.623Z"
   },
   {
    "duration": 0,
    "start_time": "2024-09-19T13:12:15.625Z"
   },
   {
    "duration": 0,
    "start_time": "2024-09-19T13:12:15.626Z"
   },
   {
    "duration": 0,
    "start_time": "2024-09-19T13:12:15.627Z"
   },
   {
    "duration": 0,
    "start_time": "2024-09-19T13:12:15.629Z"
   },
   {
    "duration": 0,
    "start_time": "2024-09-19T13:12:15.630Z"
   },
   {
    "duration": 0,
    "start_time": "2024-09-19T13:12:15.635Z"
   },
   {
    "duration": 0,
    "start_time": "2024-09-19T13:12:15.635Z"
   },
   {
    "duration": 0,
    "start_time": "2024-09-19T13:12:15.636Z"
   },
   {
    "duration": 1380,
    "start_time": "2024-09-19T13:13:11.893Z"
   },
   {
    "duration": 59,
    "start_time": "2024-09-19T13:13:13.275Z"
   },
   {
    "duration": 21,
    "start_time": "2024-09-19T13:13:13.336Z"
   },
   {
    "duration": 15,
    "start_time": "2024-09-19T13:13:13.359Z"
   },
   {
    "duration": 44,
    "start_time": "2024-09-19T13:13:13.376Z"
   },
   {
    "duration": 15,
    "start_time": "2024-09-19T13:13:13.422Z"
   },
   {
    "duration": 25,
    "start_time": "2024-09-19T13:13:13.439Z"
   },
   {
    "duration": 42,
    "start_time": "2024-09-19T13:13:13.465Z"
   },
   {
    "duration": 6,
    "start_time": "2024-09-19T13:13:13.509Z"
   },
   {
    "duration": 133,
    "start_time": "2024-09-19T13:13:13.519Z"
   },
   {
    "duration": 0,
    "start_time": "2024-09-19T13:13:13.656Z"
   },
   {
    "duration": 0,
    "start_time": "2024-09-19T13:13:13.657Z"
   },
   {
    "duration": 0,
    "start_time": "2024-09-19T13:13:13.659Z"
   },
   {
    "duration": 0,
    "start_time": "2024-09-19T13:13:13.660Z"
   },
   {
    "duration": 0,
    "start_time": "2024-09-19T13:13:13.662Z"
   },
   {
    "duration": 0,
    "start_time": "2024-09-19T13:13:13.664Z"
   },
   {
    "duration": 0,
    "start_time": "2024-09-19T13:13:13.665Z"
   },
   {
    "duration": 0,
    "start_time": "2024-09-19T13:13:13.667Z"
   },
   {
    "duration": 0,
    "start_time": "2024-09-19T13:13:13.668Z"
   },
   {
    "duration": 1,
    "start_time": "2024-09-19T13:13:13.669Z"
   },
   {
    "duration": 0,
    "start_time": "2024-09-19T13:13:13.671Z"
   },
   {
    "duration": 0,
    "start_time": "2024-09-19T13:13:13.672Z"
   },
   {
    "duration": 0,
    "start_time": "2024-09-19T13:13:13.674Z"
   },
   {
    "duration": 0,
    "start_time": "2024-09-19T13:13:13.676Z"
   },
   {
    "duration": 1,
    "start_time": "2024-09-19T13:13:13.705Z"
   },
   {
    "duration": 0,
    "start_time": "2024-09-19T13:13:13.707Z"
   },
   {
    "duration": 0,
    "start_time": "2024-09-19T13:13:13.708Z"
   },
   {
    "duration": 0,
    "start_time": "2024-09-19T13:13:13.710Z"
   },
   {
    "duration": 0,
    "start_time": "2024-09-19T13:13:13.711Z"
   },
   {
    "duration": 0,
    "start_time": "2024-09-19T13:13:13.713Z"
   },
   {
    "duration": 0,
    "start_time": "2024-09-19T13:13:13.714Z"
   },
   {
    "duration": 0,
    "start_time": "2024-09-19T13:13:13.715Z"
   },
   {
    "duration": 0,
    "start_time": "2024-09-19T13:13:13.716Z"
   },
   {
    "duration": 0,
    "start_time": "2024-09-19T13:13:13.718Z"
   },
   {
    "duration": 0,
    "start_time": "2024-09-19T13:13:13.719Z"
   },
   {
    "duration": 0,
    "start_time": "2024-09-19T13:13:13.721Z"
   },
   {
    "duration": 0,
    "start_time": "2024-09-19T13:13:13.722Z"
   },
   {
    "duration": 0,
    "start_time": "2024-09-19T13:13:13.723Z"
   },
   {
    "duration": 0,
    "start_time": "2024-09-19T13:13:13.724Z"
   },
   {
    "duration": 0,
    "start_time": "2024-09-19T13:13:13.725Z"
   },
   {
    "duration": 0,
    "start_time": "2024-09-19T13:13:13.725Z"
   },
   {
    "duration": 0,
    "start_time": "2024-09-19T13:13:13.726Z"
   },
   {
    "duration": 0,
    "start_time": "2024-09-19T13:13:13.728Z"
   },
   {
    "duration": 0,
    "start_time": "2024-09-19T13:13:13.729Z"
   },
   {
    "duration": 0,
    "start_time": "2024-09-19T13:13:13.730Z"
   },
   {
    "duration": 0,
    "start_time": "2024-09-19T13:13:13.731Z"
   },
   {
    "duration": 0,
    "start_time": "2024-09-19T13:13:13.732Z"
   },
   {
    "duration": 0,
    "start_time": "2024-09-19T13:13:13.733Z"
   },
   {
    "duration": 0,
    "start_time": "2024-09-19T13:13:13.734Z"
   },
   {
    "duration": 0,
    "start_time": "2024-09-19T13:13:13.735Z"
   },
   {
    "duration": 0,
    "start_time": "2024-09-19T13:13:13.736Z"
   },
   {
    "duration": 0,
    "start_time": "2024-09-19T13:13:13.738Z"
   },
   {
    "duration": 0,
    "start_time": "2024-09-19T13:13:13.739Z"
   },
   {
    "duration": 0,
    "start_time": "2024-09-19T13:13:13.740Z"
   },
   {
    "duration": 0,
    "start_time": "2024-09-19T13:13:13.742Z"
   },
   {
    "duration": 0,
    "start_time": "2024-09-19T13:13:13.806Z"
   },
   {
    "duration": 0,
    "start_time": "2024-09-19T13:13:13.807Z"
   },
   {
    "duration": 0,
    "start_time": "2024-09-19T13:13:13.808Z"
   },
   {
    "duration": 0,
    "start_time": "2024-09-19T13:13:13.809Z"
   },
   {
    "duration": 0,
    "start_time": "2024-09-19T13:13:13.810Z"
   },
   {
    "duration": 0,
    "start_time": "2024-09-19T13:13:13.811Z"
   },
   {
    "duration": 1435,
    "start_time": "2024-09-19T13:14:09.594Z"
   },
   {
    "duration": 80,
    "start_time": "2024-09-19T13:14:11.032Z"
   },
   {
    "duration": 32,
    "start_time": "2024-09-19T13:14:11.114Z"
   },
   {
    "duration": 24,
    "start_time": "2024-09-19T13:14:11.148Z"
   },
   {
    "duration": 47,
    "start_time": "2024-09-19T13:14:11.176Z"
   },
   {
    "duration": 15,
    "start_time": "2024-09-19T13:14:11.225Z"
   },
   {
    "duration": 26,
    "start_time": "2024-09-19T13:14:11.242Z"
   },
   {
    "duration": 46,
    "start_time": "2024-09-19T13:14:11.270Z"
   },
   {
    "duration": 13,
    "start_time": "2024-09-19T13:14:11.318Z"
   },
   {
    "duration": 35,
    "start_time": "2024-09-19T13:14:11.333Z"
   },
   {
    "duration": 24,
    "start_time": "2024-09-19T13:14:11.370Z"
   },
   {
    "duration": 23,
    "start_time": "2024-09-19T13:14:11.396Z"
   },
   {
    "duration": 12,
    "start_time": "2024-09-19T13:14:11.421Z"
   },
   {
    "duration": 20,
    "start_time": "2024-09-19T13:14:11.438Z"
   },
   {
    "duration": 8,
    "start_time": "2024-09-19T13:14:11.460Z"
   },
   {
    "duration": 71,
    "start_time": "2024-09-19T13:14:11.470Z"
   },
   {
    "duration": 9,
    "start_time": "2024-09-19T13:14:11.543Z"
   },
   {
    "duration": 7,
    "start_time": "2024-09-19T13:14:11.553Z"
   },
   {
    "duration": 17,
    "start_time": "2024-09-19T13:14:11.562Z"
   },
   {
    "duration": 29,
    "start_time": "2024-09-19T13:14:11.581Z"
   },
   {
    "duration": 48,
    "start_time": "2024-09-19T13:14:11.612Z"
   },
   {
    "duration": 10,
    "start_time": "2024-09-19T13:14:11.662Z"
   },
   {
    "duration": 34,
    "start_time": "2024-09-19T13:14:11.674Z"
   },
   {
    "duration": 17,
    "start_time": "2024-09-19T13:14:11.709Z"
   },
   {
    "duration": 15,
    "start_time": "2024-09-19T13:14:11.728Z"
   },
   {
    "duration": 455,
    "start_time": "2024-09-19T13:14:11.744Z"
   },
   {
    "duration": 21,
    "start_time": "2024-09-19T13:14:12.204Z"
   },
   {
    "duration": 1360,
    "start_time": "2024-09-19T13:14:12.227Z"
   },
   {
    "duration": 33,
    "start_time": "2024-09-19T13:14:13.589Z"
   },
   {
    "duration": 39,
    "start_time": "2024-09-19T13:14:13.623Z"
   },
   {
    "duration": 1756,
    "start_time": "2024-09-19T13:14:13.664Z"
   },
   {
    "duration": 295,
    "start_time": "2024-09-19T13:14:15.421Z"
   },
   {
    "duration": 1576,
    "start_time": "2024-09-19T13:14:15.717Z"
   },
   {
    "duration": 57,
    "start_time": "2024-09-19T13:14:17.296Z"
   },
   {
    "duration": 16,
    "start_time": "2024-09-19T13:14:17.355Z"
   },
   {
    "duration": 34,
    "start_time": "2024-09-19T13:14:17.373Z"
   },
   {
    "duration": 16,
    "start_time": "2024-09-19T13:14:17.409Z"
   },
   {
    "duration": 16,
    "start_time": "2024-09-19T13:14:17.427Z"
   },
   {
    "duration": 37,
    "start_time": "2024-09-19T13:14:17.445Z"
   },
   {
    "duration": 280,
    "start_time": "2024-09-19T13:14:17.483Z"
   },
   {
    "duration": 526,
    "start_time": "2024-09-19T13:14:17.767Z"
   },
   {
    "duration": 16,
    "start_time": "2024-09-19T13:14:18.295Z"
   },
   {
    "duration": 167,
    "start_time": "2024-09-19T13:14:18.313Z"
   },
   {
    "duration": 14,
    "start_time": "2024-09-19T13:14:18.482Z"
   },
   {
    "duration": 123,
    "start_time": "2024-09-19T13:14:18.506Z"
   },
   {
    "duration": 15,
    "start_time": "2024-09-19T13:14:18.630Z"
   },
   {
    "duration": 120,
    "start_time": "2024-09-19T13:14:18.647Z"
   },
   {
    "duration": 15,
    "start_time": "2024-09-19T13:14:18.768Z"
   },
   {
    "duration": 131,
    "start_time": "2024-09-19T13:14:18.785Z"
   },
   {
    "duration": 17,
    "start_time": "2024-09-19T13:14:18.918Z"
   },
   {
    "duration": 132,
    "start_time": "2024-09-19T13:14:18.937Z"
   },
   {
    "duration": 34,
    "start_time": "2024-09-19T13:14:19.071Z"
   },
   {
    "duration": 133,
    "start_time": "2024-09-19T13:14:19.107Z"
   },
   {
    "duration": 20,
    "start_time": "2024-09-19T13:14:19.242Z"
   },
   {
    "duration": 164,
    "start_time": "2024-09-19T13:14:19.263Z"
   },
   {
    "duration": 15,
    "start_time": "2024-09-19T13:14:19.428Z"
   },
   {
    "duration": 139,
    "start_time": "2024-09-19T13:14:19.445Z"
   },
   {
    "duration": 23,
    "start_time": "2024-09-19T13:14:19.586Z"
   },
   {
    "duration": 115,
    "start_time": "2024-09-19T13:14:19.611Z"
   },
   {
    "duration": 8,
    "start_time": "2024-09-19T13:14:19.728Z"
   },
   {
    "duration": 8,
    "start_time": "2024-09-19T13:14:19.738Z"
   },
   {
    "duration": 1315,
    "start_time": "2024-09-19T13:18:36.129Z"
   },
   {
    "duration": 60,
    "start_time": "2024-09-19T13:18:37.446Z"
   },
   {
    "duration": 26,
    "start_time": "2024-09-19T13:18:37.508Z"
   },
   {
    "duration": 31,
    "start_time": "2024-09-19T13:18:37.536Z"
   },
   {
    "duration": 43,
    "start_time": "2024-09-19T13:18:37.569Z"
   },
   {
    "duration": 15,
    "start_time": "2024-09-19T13:18:37.614Z"
   },
   {
    "duration": 24,
    "start_time": "2024-09-19T13:18:37.630Z"
   },
   {
    "duration": 31,
    "start_time": "2024-09-19T13:18:37.655Z"
   },
   {
    "duration": 23,
    "start_time": "2024-09-19T13:18:37.688Z"
   },
   {
    "duration": 31,
    "start_time": "2024-09-19T13:18:37.714Z"
   },
   {
    "duration": 10,
    "start_time": "2024-09-19T13:18:37.747Z"
   },
   {
    "duration": 24,
    "start_time": "2024-09-19T13:18:37.759Z"
   },
   {
    "duration": 30,
    "start_time": "2024-09-19T13:18:37.785Z"
   },
   {
    "duration": 30,
    "start_time": "2024-09-19T13:18:37.817Z"
   },
   {
    "duration": 28,
    "start_time": "2024-09-19T13:18:37.849Z"
   },
   {
    "duration": 37,
    "start_time": "2024-09-19T13:18:37.880Z"
   },
   {
    "duration": 10,
    "start_time": "2024-09-19T13:18:37.919Z"
   },
   {
    "duration": 10,
    "start_time": "2024-09-19T13:18:37.931Z"
   },
   {
    "duration": 23,
    "start_time": "2024-09-19T13:18:37.942Z"
   },
   {
    "duration": 21,
    "start_time": "2024-09-19T13:18:37.967Z"
   },
   {
    "duration": 17,
    "start_time": "2024-09-19T13:18:37.989Z"
   },
   {
    "duration": 16,
    "start_time": "2024-09-19T13:18:38.008Z"
   },
   {
    "duration": 24,
    "start_time": "2024-09-19T13:18:38.026Z"
   },
   {
    "duration": 34,
    "start_time": "2024-09-19T13:18:38.052Z"
   },
   {
    "duration": 17,
    "start_time": "2024-09-19T13:18:38.088Z"
   },
   {
    "duration": 449,
    "start_time": "2024-09-19T13:18:38.107Z"
   },
   {
    "duration": 17,
    "start_time": "2024-09-19T13:18:38.557Z"
   },
   {
    "duration": 1329,
    "start_time": "2024-09-19T13:18:38.578Z"
   },
   {
    "duration": 25,
    "start_time": "2024-09-19T13:18:39.909Z"
   },
   {
    "duration": 18,
    "start_time": "2024-09-19T13:18:39.936Z"
   },
   {
    "duration": 1845,
    "start_time": "2024-09-19T13:18:39.956Z"
   },
   {
    "duration": 291,
    "start_time": "2024-09-19T13:18:41.804Z"
   },
   {
    "duration": 1508,
    "start_time": "2024-09-19T13:18:42.097Z"
   },
   {
    "duration": 53,
    "start_time": "2024-09-19T13:18:43.607Z"
   },
   {
    "duration": 16,
    "start_time": "2024-09-19T13:18:43.661Z"
   },
   {
    "duration": 40,
    "start_time": "2024-09-19T13:18:43.679Z"
   },
   {
    "duration": 16,
    "start_time": "2024-09-19T13:18:43.721Z"
   },
   {
    "duration": 15,
    "start_time": "2024-09-19T13:18:43.739Z"
   },
   {
    "duration": 24,
    "start_time": "2024-09-19T13:18:43.755Z"
   },
   {
    "duration": 226,
    "start_time": "2024-09-19T13:18:43.781Z"
   },
   {
    "duration": 498,
    "start_time": "2024-09-19T13:18:44.009Z"
   },
   {
    "duration": 16,
    "start_time": "2024-09-19T13:18:44.509Z"
   },
   {
    "duration": 148,
    "start_time": "2024-09-19T13:18:44.527Z"
   },
   {
    "duration": 16,
    "start_time": "2024-09-19T13:18:44.677Z"
   },
   {
    "duration": 143,
    "start_time": "2024-09-19T13:18:44.694Z"
   },
   {
    "duration": 18,
    "start_time": "2024-09-19T13:18:44.839Z"
   },
   {
    "duration": 152,
    "start_time": "2024-09-19T13:18:44.860Z"
   },
   {
    "duration": 16,
    "start_time": "2024-09-19T13:18:45.014Z"
   },
   {
    "duration": 210,
    "start_time": "2024-09-19T13:18:45.032Z"
   },
   {
    "duration": 15,
    "start_time": "2024-09-19T13:18:45.243Z"
   },
   {
    "duration": 151,
    "start_time": "2024-09-19T13:18:45.260Z"
   },
   {
    "duration": 14,
    "start_time": "2024-09-19T13:18:45.413Z"
   },
   {
    "duration": 129,
    "start_time": "2024-09-19T13:18:45.429Z"
   },
   {
    "duration": 40,
    "start_time": "2024-09-19T13:18:45.559Z"
   },
   {
    "duration": 138,
    "start_time": "2024-09-19T13:18:45.601Z"
   },
   {
    "duration": 14,
    "start_time": "2024-09-19T13:18:45.741Z"
   },
   {
    "duration": 122,
    "start_time": "2024-09-19T13:18:45.757Z"
   },
   {
    "duration": 24,
    "start_time": "2024-09-19T13:18:45.881Z"
   },
   {
    "duration": 125,
    "start_time": "2024-09-19T13:18:45.906Z"
   },
   {
    "duration": 9,
    "start_time": "2024-09-19T13:18:46.033Z"
   },
   {
    "duration": 11,
    "start_time": "2024-09-19T13:18:46.044Z"
   },
   {
    "duration": 1315,
    "start_time": "2024-09-19T13:19:41.102Z"
   },
   {
    "duration": 58,
    "start_time": "2024-09-19T13:19:42.419Z"
   },
   {
    "duration": 21,
    "start_time": "2024-09-19T13:19:42.478Z"
   },
   {
    "duration": 15,
    "start_time": "2024-09-19T13:19:42.501Z"
   },
   {
    "duration": 32,
    "start_time": "2024-09-19T13:19:42.518Z"
   },
   {
    "duration": 15,
    "start_time": "2024-09-19T13:19:42.552Z"
   },
   {
    "duration": 46,
    "start_time": "2024-09-19T13:19:42.569Z"
   },
   {
    "duration": 21,
    "start_time": "2024-09-19T13:19:42.617Z"
   },
   {
    "duration": 5,
    "start_time": "2024-09-19T13:19:42.640Z"
   },
   {
    "duration": 75,
    "start_time": "2024-09-19T13:19:42.648Z"
   },
   {
    "duration": 0,
    "start_time": "2024-09-19T13:19:42.726Z"
   },
   {
    "duration": 0,
    "start_time": "2024-09-19T13:19:42.727Z"
   },
   {
    "duration": 0,
    "start_time": "2024-09-19T13:19:42.729Z"
   },
   {
    "duration": 0,
    "start_time": "2024-09-19T13:19:42.730Z"
   },
   {
    "duration": 0,
    "start_time": "2024-09-19T13:19:42.731Z"
   },
   {
    "duration": 0,
    "start_time": "2024-09-19T13:19:42.733Z"
   },
   {
    "duration": 0,
    "start_time": "2024-09-19T13:19:42.734Z"
   },
   {
    "duration": 0,
    "start_time": "2024-09-19T13:19:42.736Z"
   },
   {
    "duration": 0,
    "start_time": "2024-09-19T13:19:42.738Z"
   },
   {
    "duration": 0,
    "start_time": "2024-09-19T13:19:42.739Z"
   },
   {
    "duration": 0,
    "start_time": "2024-09-19T13:19:42.740Z"
   },
   {
    "duration": 0,
    "start_time": "2024-09-19T13:19:42.742Z"
   },
   {
    "duration": 0,
    "start_time": "2024-09-19T13:19:42.743Z"
   },
   {
    "duration": 0,
    "start_time": "2024-09-19T13:19:42.745Z"
   },
   {
    "duration": 0,
    "start_time": "2024-09-19T13:19:42.747Z"
   },
   {
    "duration": 0,
    "start_time": "2024-09-19T13:19:42.749Z"
   },
   {
    "duration": 0,
    "start_time": "2024-09-19T13:19:42.750Z"
   },
   {
    "duration": 0,
    "start_time": "2024-09-19T13:19:42.752Z"
   },
   {
    "duration": 0,
    "start_time": "2024-09-19T13:19:42.753Z"
   },
   {
    "duration": 0,
    "start_time": "2024-09-19T13:19:42.755Z"
   },
   {
    "duration": 0,
    "start_time": "2024-09-19T13:19:42.756Z"
   },
   {
    "duration": 0,
    "start_time": "2024-09-19T13:19:42.758Z"
   },
   {
    "duration": 0,
    "start_time": "2024-09-19T13:19:42.760Z"
   },
   {
    "duration": 0,
    "start_time": "2024-09-19T13:19:42.761Z"
   },
   {
    "duration": 0,
    "start_time": "2024-09-19T13:19:42.763Z"
   },
   {
    "duration": 0,
    "start_time": "2024-09-19T13:19:42.764Z"
   },
   {
    "duration": 0,
    "start_time": "2024-09-19T13:19:42.765Z"
   },
   {
    "duration": 0,
    "start_time": "2024-09-19T13:19:42.807Z"
   },
   {
    "duration": 0,
    "start_time": "2024-09-19T13:19:42.809Z"
   },
   {
    "duration": 0,
    "start_time": "2024-09-19T13:19:42.810Z"
   },
   {
    "duration": 0,
    "start_time": "2024-09-19T13:19:42.811Z"
   },
   {
    "duration": 0,
    "start_time": "2024-09-19T13:19:42.813Z"
   },
   {
    "duration": 0,
    "start_time": "2024-09-19T13:19:42.815Z"
   },
   {
    "duration": 0,
    "start_time": "2024-09-19T13:19:42.816Z"
   },
   {
    "duration": 0,
    "start_time": "2024-09-19T13:19:42.818Z"
   },
   {
    "duration": 0,
    "start_time": "2024-09-19T13:19:42.819Z"
   },
   {
    "duration": 0,
    "start_time": "2024-09-19T13:19:42.821Z"
   },
   {
    "duration": 0,
    "start_time": "2024-09-19T13:19:42.822Z"
   },
   {
    "duration": 0,
    "start_time": "2024-09-19T13:19:42.823Z"
   },
   {
    "duration": 0,
    "start_time": "2024-09-19T13:19:42.825Z"
   },
   {
    "duration": 0,
    "start_time": "2024-09-19T13:19:42.827Z"
   },
   {
    "duration": 0,
    "start_time": "2024-09-19T13:19:42.828Z"
   },
   {
    "duration": 0,
    "start_time": "2024-09-19T13:19:42.829Z"
   },
   {
    "duration": 0,
    "start_time": "2024-09-19T13:19:42.830Z"
   },
   {
    "duration": 0,
    "start_time": "2024-09-19T13:19:42.832Z"
   },
   {
    "duration": 0,
    "start_time": "2024-09-19T13:19:42.833Z"
   },
   {
    "duration": 0,
    "start_time": "2024-09-19T13:19:42.834Z"
   },
   {
    "duration": 0,
    "start_time": "2024-09-19T13:19:42.835Z"
   },
   {
    "duration": 0,
    "start_time": "2024-09-19T13:19:42.837Z"
   },
   {
    "duration": 0,
    "start_time": "2024-09-19T13:19:42.838Z"
   },
   {
    "duration": 0,
    "start_time": "2024-09-19T13:19:42.840Z"
   },
   {
    "duration": 1332,
    "start_time": "2024-09-19T13:21:03.082Z"
   },
   {
    "duration": 61,
    "start_time": "2024-09-19T13:21:04.415Z"
   },
   {
    "duration": 33,
    "start_time": "2024-09-19T13:21:04.478Z"
   },
   {
    "duration": 17,
    "start_time": "2024-09-19T13:21:04.514Z"
   },
   {
    "duration": 32,
    "start_time": "2024-09-19T13:21:04.533Z"
   },
   {
    "duration": 15,
    "start_time": "2024-09-19T13:21:04.567Z"
   },
   {
    "duration": 45,
    "start_time": "2024-09-19T13:21:04.585Z"
   },
   {
    "duration": 50,
    "start_time": "2024-09-19T13:21:04.632Z"
   },
   {
    "duration": 11,
    "start_time": "2024-09-19T13:21:04.684Z"
   },
   {
    "duration": 32,
    "start_time": "2024-09-19T13:21:04.698Z"
   },
   {
    "duration": 90,
    "start_time": "2024-09-19T13:21:04.732Z"
   },
   {
    "duration": 71,
    "start_time": "2024-09-19T13:21:04.823Z"
   },
   {
    "duration": 6,
    "start_time": "2024-09-19T13:21:04.896Z"
   },
   {
    "duration": 93,
    "start_time": "2024-09-19T13:21:04.904Z"
   },
   {
    "duration": 16,
    "start_time": "2024-09-19T13:21:04.999Z"
   },
   {
    "duration": 47,
    "start_time": "2024-09-19T13:21:05.017Z"
   },
   {
    "duration": 36,
    "start_time": "2024-09-19T13:21:05.066Z"
   },
   {
    "duration": 60,
    "start_time": "2024-09-19T13:21:05.104Z"
   },
   {
    "duration": 29,
    "start_time": "2024-09-19T13:21:05.165Z"
   },
   {
    "duration": 20,
    "start_time": "2024-09-19T13:21:05.196Z"
   },
   {
    "duration": 46,
    "start_time": "2024-09-19T13:21:05.218Z"
   },
   {
    "duration": 26,
    "start_time": "2024-09-19T13:21:05.266Z"
   },
   {
    "duration": 56,
    "start_time": "2024-09-19T13:21:05.293Z"
   },
   {
    "duration": 50,
    "start_time": "2024-09-19T13:21:05.350Z"
   },
   {
    "duration": 8,
    "start_time": "2024-09-19T13:21:05.402Z"
   },
   {
    "duration": 418,
    "start_time": "2024-09-19T13:21:05.411Z"
   },
   {
    "duration": 15,
    "start_time": "2024-09-19T13:21:05.831Z"
   },
   {
    "duration": 1328,
    "start_time": "2024-09-19T13:21:05.850Z"
   },
   {
    "duration": 33,
    "start_time": "2024-09-19T13:21:07.180Z"
   },
   {
    "duration": 31,
    "start_time": "2024-09-19T13:21:07.214Z"
   },
   {
    "duration": 1763,
    "start_time": "2024-09-19T13:21:07.246Z"
   },
   {
    "duration": 285,
    "start_time": "2024-09-19T13:21:09.011Z"
   },
   {
    "duration": 1527,
    "start_time": "2024-09-19T13:21:09.298Z"
   },
   {
    "duration": 53,
    "start_time": "2024-09-19T13:21:10.828Z"
   },
   {
    "duration": 16,
    "start_time": "2024-09-19T13:21:10.882Z"
   },
   {
    "duration": 21,
    "start_time": "2024-09-19T13:21:10.899Z"
   },
   {
    "duration": 16,
    "start_time": "2024-09-19T13:21:10.921Z"
   },
   {
    "duration": 15,
    "start_time": "2024-09-19T13:21:10.939Z"
   },
   {
    "duration": 19,
    "start_time": "2024-09-19T13:21:10.955Z"
   },
   {
    "duration": 247,
    "start_time": "2024-09-19T13:21:10.976Z"
   },
   {
    "duration": 511,
    "start_time": "2024-09-19T13:21:11.225Z"
   },
   {
    "duration": 14,
    "start_time": "2024-09-19T13:21:11.737Z"
   },
   {
    "duration": 129,
    "start_time": "2024-09-19T13:21:11.753Z"
   },
   {
    "duration": 27,
    "start_time": "2024-09-19T13:21:11.884Z"
   },
   {
    "duration": 133,
    "start_time": "2024-09-19T13:21:11.913Z"
   },
   {
    "duration": 14,
    "start_time": "2024-09-19T13:21:12.047Z"
   },
   {
    "duration": 113,
    "start_time": "2024-09-19T13:21:12.063Z"
   },
   {
    "duration": 13,
    "start_time": "2024-09-19T13:21:12.178Z"
   },
   {
    "duration": 136,
    "start_time": "2024-09-19T13:21:12.206Z"
   },
   {
    "duration": 13,
    "start_time": "2024-09-19T13:21:12.344Z"
   },
   {
    "duration": 164,
    "start_time": "2024-09-19T13:21:12.359Z"
   },
   {
    "duration": 14,
    "start_time": "2024-09-19T13:21:12.524Z"
   },
   {
    "duration": 116,
    "start_time": "2024-09-19T13:21:12.539Z"
   },
   {
    "duration": 15,
    "start_time": "2024-09-19T13:21:12.657Z"
   },
   {
    "duration": 153,
    "start_time": "2024-09-19T13:21:12.673Z"
   },
   {
    "duration": 16,
    "start_time": "2024-09-19T13:21:12.829Z"
   },
   {
    "duration": 138,
    "start_time": "2024-09-19T13:21:12.847Z"
   },
   {
    "duration": 19,
    "start_time": "2024-09-19T13:21:12.987Z"
   },
   {
    "duration": 132,
    "start_time": "2024-09-19T13:21:13.008Z"
   },
   {
    "duration": 9,
    "start_time": "2024-09-19T13:21:13.142Z"
   },
   {
    "duration": 30,
    "start_time": "2024-09-19T13:21:13.153Z"
   },
   {
    "duration": 1306,
    "start_time": "2024-09-19T13:22:52.836Z"
   },
   {
    "duration": 59,
    "start_time": "2024-09-19T13:22:54.143Z"
   },
   {
    "duration": 20,
    "start_time": "2024-09-19T13:22:54.203Z"
   },
   {
    "duration": 34,
    "start_time": "2024-09-19T13:22:54.225Z"
   },
   {
    "duration": 30,
    "start_time": "2024-09-19T13:22:54.263Z"
   },
   {
    "duration": 15,
    "start_time": "2024-09-19T13:22:54.295Z"
   },
   {
    "duration": 33,
    "start_time": "2024-09-19T13:22:54.312Z"
   },
   {
    "duration": 51,
    "start_time": "2024-09-19T13:22:54.346Z"
   },
   {
    "duration": 47,
    "start_time": "2024-09-19T13:22:54.399Z"
   },
   {
    "duration": 24,
    "start_time": "2024-09-19T13:22:54.447Z"
   },
   {
    "duration": 10,
    "start_time": "2024-09-19T13:22:54.473Z"
   },
   {
    "duration": 21,
    "start_time": "2024-09-19T13:22:54.485Z"
   },
   {
    "duration": 5,
    "start_time": "2024-09-19T13:22:54.508Z"
   },
   {
    "duration": 17,
    "start_time": "2024-09-19T13:22:54.516Z"
   },
   {
    "duration": 7,
    "start_time": "2024-09-19T13:22:54.534Z"
   },
   {
    "duration": 14,
    "start_time": "2024-09-19T13:22:54.542Z"
   },
   {
    "duration": 7,
    "start_time": "2024-09-19T13:22:54.558Z"
   },
   {
    "duration": 8,
    "start_time": "2024-09-19T13:22:54.567Z"
   },
   {
    "duration": 8,
    "start_time": "2024-09-19T13:22:54.606Z"
   },
   {
    "duration": 7,
    "start_time": "2024-09-19T13:22:54.616Z"
   },
   {
    "duration": 7,
    "start_time": "2024-09-19T13:22:54.624Z"
   },
   {
    "duration": 7,
    "start_time": "2024-09-19T13:22:54.633Z"
   },
   {
    "duration": 20,
    "start_time": "2024-09-19T13:22:54.641Z"
   },
   {
    "duration": 57,
    "start_time": "2024-09-19T13:22:54.663Z"
   },
   {
    "duration": 8,
    "start_time": "2024-09-19T13:22:54.721Z"
   },
   {
    "duration": 478,
    "start_time": "2024-09-19T13:22:54.731Z"
   },
   {
    "duration": 18,
    "start_time": "2024-09-19T13:22:55.211Z"
   },
   {
    "duration": 1361,
    "start_time": "2024-09-19T13:22:55.230Z"
   },
   {
    "duration": 28,
    "start_time": "2024-09-19T13:22:56.593Z"
   },
   {
    "duration": 14,
    "start_time": "2024-09-19T13:22:56.622Z"
   },
   {
    "duration": 1812,
    "start_time": "2024-09-19T13:22:56.638Z"
   },
   {
    "duration": 296,
    "start_time": "2024-09-19T13:22:58.452Z"
   },
   {
    "duration": 1544,
    "start_time": "2024-09-19T13:22:58.750Z"
   },
   {
    "duration": 56,
    "start_time": "2024-09-19T13:23:00.295Z"
   },
   {
    "duration": 97,
    "start_time": "2024-09-19T13:23:00.353Z"
   },
   {
    "duration": 84,
    "start_time": "2024-09-19T13:23:00.451Z"
   },
   {
    "duration": 73,
    "start_time": "2024-09-19T13:23:00.536Z"
   },
   {
    "duration": 37,
    "start_time": "2024-09-19T13:23:00.612Z"
   },
   {
    "duration": 30,
    "start_time": "2024-09-19T13:23:00.650Z"
   },
   {
    "duration": 240,
    "start_time": "2024-09-19T13:23:00.682Z"
   },
   {
    "duration": 519,
    "start_time": "2024-09-19T13:23:00.926Z"
   },
   {
    "duration": 15,
    "start_time": "2024-09-19T13:23:01.447Z"
   },
   {
    "duration": 177,
    "start_time": "2024-09-19T13:23:01.463Z"
   },
   {
    "duration": 14,
    "start_time": "2024-09-19T13:23:01.642Z"
   },
   {
    "duration": 143,
    "start_time": "2024-09-19T13:23:01.658Z"
   },
   {
    "duration": 15,
    "start_time": "2024-09-19T13:23:01.803Z"
   },
   {
    "duration": 143,
    "start_time": "2024-09-19T13:23:01.820Z"
   },
   {
    "duration": 16,
    "start_time": "2024-09-19T13:23:01.965Z"
   },
   {
    "duration": 136,
    "start_time": "2024-09-19T13:23:01.982Z"
   },
   {
    "duration": 15,
    "start_time": "2024-09-19T13:23:02.120Z"
   },
   {
    "duration": 135,
    "start_time": "2024-09-19T13:23:02.137Z"
   },
   {
    "duration": 15,
    "start_time": "2024-09-19T13:23:02.274Z"
   },
   {
    "duration": 134,
    "start_time": "2024-09-19T13:23:02.291Z"
   },
   {
    "duration": 15,
    "start_time": "2024-09-19T13:23:02.427Z"
   },
   {
    "duration": 147,
    "start_time": "2024-09-19T13:23:02.443Z"
   },
   {
    "duration": 21,
    "start_time": "2024-09-19T13:23:02.591Z"
   },
   {
    "duration": 156,
    "start_time": "2024-09-19T13:23:02.614Z"
   },
   {
    "duration": 14,
    "start_time": "2024-09-19T13:23:02.772Z"
   },
   {
    "duration": 159,
    "start_time": "2024-09-19T13:23:02.787Z"
   },
   {
    "duration": 9,
    "start_time": "2024-09-19T13:23:02.948Z"
   },
   {
    "duration": 34,
    "start_time": "2024-09-19T13:23:02.959Z"
   },
   {
    "duration": 1363,
    "start_time": "2024-09-19T13:33:33.177Z"
   },
   {
    "duration": 61,
    "start_time": "2024-09-19T13:33:34.542Z"
   },
   {
    "duration": 28,
    "start_time": "2024-09-19T13:33:34.604Z"
   },
   {
    "duration": 30,
    "start_time": "2024-09-19T13:33:34.635Z"
   },
   {
    "duration": 47,
    "start_time": "2024-09-19T13:33:34.667Z"
   },
   {
    "duration": 22,
    "start_time": "2024-09-19T13:33:34.716Z"
   },
   {
    "duration": 25,
    "start_time": "2024-09-19T13:33:34.740Z"
   },
   {
    "duration": 38,
    "start_time": "2024-09-19T13:33:34.767Z"
   },
   {
    "duration": 17,
    "start_time": "2024-09-19T13:33:34.806Z"
   },
   {
    "duration": 32,
    "start_time": "2024-09-19T13:33:34.827Z"
   },
   {
    "duration": 17,
    "start_time": "2024-09-19T13:33:34.861Z"
   },
   {
    "duration": 37,
    "start_time": "2024-09-19T13:33:34.880Z"
   },
   {
    "duration": 13,
    "start_time": "2024-09-19T13:33:34.920Z"
   },
   {
    "duration": 20,
    "start_time": "2024-09-19T13:33:34.935Z"
   },
   {
    "duration": 10,
    "start_time": "2024-09-19T13:33:34.957Z"
   },
   {
    "duration": 20,
    "start_time": "2024-09-19T13:33:34.969Z"
   },
   {
    "duration": 20,
    "start_time": "2024-09-19T13:33:34.991Z"
   },
   {
    "duration": 31,
    "start_time": "2024-09-19T13:33:35.012Z"
   },
   {
    "duration": 26,
    "start_time": "2024-09-19T13:33:35.046Z"
   },
   {
    "duration": 17,
    "start_time": "2024-09-19T13:33:35.074Z"
   },
   {
    "duration": 34,
    "start_time": "2024-09-19T13:33:35.093Z"
   },
   {
    "duration": 53,
    "start_time": "2024-09-19T13:33:35.129Z"
   },
   {
    "duration": 64,
    "start_time": "2024-09-19T13:33:35.184Z"
   },
   {
    "duration": 30,
    "start_time": "2024-09-19T13:33:35.250Z"
   },
   {
    "duration": 9,
    "start_time": "2024-09-19T13:33:35.282Z"
   },
   {
    "duration": 461,
    "start_time": "2024-09-19T13:33:35.293Z"
   },
   {
    "duration": 21,
    "start_time": "2024-09-19T13:33:35.756Z"
   },
   {
    "duration": 1425,
    "start_time": "2024-09-19T13:33:35.783Z"
   },
   {
    "duration": 42,
    "start_time": "2024-09-19T13:33:37.210Z"
   },
   {
    "duration": 19,
    "start_time": "2024-09-19T13:33:37.255Z"
   },
   {
    "duration": 1851,
    "start_time": "2024-09-19T13:33:37.276Z"
   },
   {
    "duration": 301,
    "start_time": "2024-09-19T13:33:39.129Z"
   },
   {
    "duration": 1665,
    "start_time": "2024-09-19T13:33:39.432Z"
   },
   {
    "duration": 54,
    "start_time": "2024-09-19T13:33:41.099Z"
   },
   {
    "duration": 103,
    "start_time": "2024-09-19T13:33:41.155Z"
   },
   {
    "duration": 18,
    "start_time": "2024-09-19T13:33:41.260Z"
   },
   {
    "duration": 15,
    "start_time": "2024-09-19T13:33:41.280Z"
   },
   {
    "duration": 16,
    "start_time": "2024-09-19T13:33:41.296Z"
   },
   {
    "duration": 14,
    "start_time": "2024-09-19T13:33:41.313Z"
   },
   {
    "duration": 216,
    "start_time": "2024-09-19T13:33:41.329Z"
   },
   {
    "duration": 505,
    "start_time": "2024-09-19T13:33:41.546Z"
   },
   {
    "duration": 15,
    "start_time": "2024-09-19T13:33:42.053Z"
   },
   {
    "duration": 135,
    "start_time": "2024-09-19T13:33:42.070Z"
   },
   {
    "duration": 15,
    "start_time": "2024-09-19T13:33:42.207Z"
   },
   {
    "duration": 174,
    "start_time": "2024-09-19T13:33:42.224Z"
   },
   {
    "duration": 16,
    "start_time": "2024-09-19T13:33:42.400Z"
   },
   {
    "duration": 191,
    "start_time": "2024-09-19T13:33:42.418Z"
   },
   {
    "duration": 18,
    "start_time": "2024-09-19T13:33:42.611Z"
   },
   {
    "duration": 129,
    "start_time": "2024-09-19T13:33:42.631Z"
   },
   {
    "duration": 21,
    "start_time": "2024-09-19T13:33:42.763Z"
   },
   {
    "duration": 207,
    "start_time": "2024-09-19T13:33:42.786Z"
   },
   {
    "duration": 21,
    "start_time": "2024-09-19T13:33:42.994Z"
   },
   {
    "duration": 155,
    "start_time": "2024-09-19T13:33:43.017Z"
   },
   {
    "duration": 21,
    "start_time": "2024-09-19T13:33:43.174Z"
   },
   {
    "duration": 148,
    "start_time": "2024-09-19T13:33:43.204Z"
   },
   {
    "duration": 15,
    "start_time": "2024-09-19T13:33:43.354Z"
   },
   {
    "duration": 141,
    "start_time": "2024-09-19T13:33:43.371Z"
   },
   {
    "duration": 15,
    "start_time": "2024-09-19T13:33:43.514Z"
   },
   {
    "duration": 222,
    "start_time": "2024-09-19T13:33:43.530Z"
   },
   {
    "duration": 7,
    "start_time": "2024-09-19T13:33:43.754Z"
   },
   {
    "duration": 22,
    "start_time": "2024-09-19T13:33:43.763Z"
   },
   {
    "duration": 1261,
    "start_time": "2024-09-19T13:34:39.249Z"
   },
   {
    "duration": 59,
    "start_time": "2024-09-19T13:34:40.512Z"
   },
   {
    "duration": 21,
    "start_time": "2024-09-19T13:34:40.572Z"
   },
   {
    "duration": 17,
    "start_time": "2024-09-19T13:34:40.595Z"
   },
   {
    "duration": 34,
    "start_time": "2024-09-19T13:34:40.614Z"
   },
   {
    "duration": 15,
    "start_time": "2024-09-19T13:34:40.649Z"
   },
   {
    "duration": 40,
    "start_time": "2024-09-19T13:34:40.665Z"
   },
   {
    "duration": 20,
    "start_time": "2024-09-19T13:34:40.707Z"
   },
   {
    "duration": 10,
    "start_time": "2024-09-19T13:34:40.728Z"
   },
   {
    "duration": 21,
    "start_time": "2024-09-19T13:34:40.740Z"
   },
   {
    "duration": 11,
    "start_time": "2024-09-19T13:34:40.762Z"
   },
   {
    "duration": 38,
    "start_time": "2024-09-19T13:34:40.774Z"
   },
   {
    "duration": 6,
    "start_time": "2024-09-19T13:34:40.815Z"
   },
   {
    "duration": 20,
    "start_time": "2024-09-19T13:34:40.823Z"
   },
   {
    "duration": 9,
    "start_time": "2024-09-19T13:34:40.845Z"
   },
   {
    "duration": 10,
    "start_time": "2024-09-19T13:34:40.856Z"
   },
   {
    "duration": 39,
    "start_time": "2024-09-19T13:34:40.867Z"
   },
   {
    "duration": 10,
    "start_time": "2024-09-19T13:34:40.908Z"
   },
   {
    "duration": 14,
    "start_time": "2024-09-19T13:34:40.920Z"
   },
   {
    "duration": 22,
    "start_time": "2024-09-19T13:34:40.936Z"
   },
   {
    "duration": 23,
    "start_time": "2024-09-19T13:34:40.960Z"
   },
   {
    "duration": 8,
    "start_time": "2024-09-19T13:34:40.985Z"
   },
   {
    "duration": 41,
    "start_time": "2024-09-19T13:34:40.995Z"
   },
   {
    "duration": 17,
    "start_time": "2024-09-19T13:34:41.037Z"
   },
   {
    "duration": 9,
    "start_time": "2024-09-19T13:34:41.055Z"
   },
   {
    "duration": 458,
    "start_time": "2024-09-19T13:34:41.065Z"
   },
   {
    "duration": 18,
    "start_time": "2024-09-19T13:34:41.525Z"
   },
   {
    "duration": 1357,
    "start_time": "2024-09-19T13:34:41.548Z"
   },
   {
    "duration": 36,
    "start_time": "2024-09-19T13:34:42.907Z"
   },
   {
    "duration": 23,
    "start_time": "2024-09-19T13:34:42.945Z"
   },
   {
    "duration": 1815,
    "start_time": "2024-09-19T13:34:42.970Z"
   },
   {
    "duration": 333,
    "start_time": "2024-09-19T13:34:44.787Z"
   },
   {
    "duration": 1539,
    "start_time": "2024-09-19T13:34:45.122Z"
   },
   {
    "duration": 57,
    "start_time": "2024-09-19T13:34:46.663Z"
   },
   {
    "duration": 16,
    "start_time": "2024-09-19T13:34:46.721Z"
   },
   {
    "duration": 20,
    "start_time": "2024-09-19T13:34:46.739Z"
   },
   {
    "duration": 30,
    "start_time": "2024-09-19T13:34:46.761Z"
   },
   {
    "duration": 35,
    "start_time": "2024-09-19T13:34:46.793Z"
   },
   {
    "duration": 22,
    "start_time": "2024-09-19T13:34:46.831Z"
   },
   {
    "duration": 242,
    "start_time": "2024-09-19T13:34:46.856Z"
   },
   {
    "duration": 519,
    "start_time": "2024-09-19T13:34:47.099Z"
   },
   {
    "duration": 14,
    "start_time": "2024-09-19T13:34:47.620Z"
   },
   {
    "duration": 140,
    "start_time": "2024-09-19T13:34:47.636Z"
   },
   {
    "duration": 15,
    "start_time": "2024-09-19T13:34:47.778Z"
   },
   {
    "duration": 129,
    "start_time": "2024-09-19T13:34:47.795Z"
   },
   {
    "duration": 14,
    "start_time": "2024-09-19T13:34:47.926Z"
   },
   {
    "duration": 185,
    "start_time": "2024-09-19T13:34:47.942Z"
   },
   {
    "duration": 15,
    "start_time": "2024-09-19T13:34:48.129Z"
   },
   {
    "duration": 219,
    "start_time": "2024-09-19T13:34:48.145Z"
   },
   {
    "duration": 17,
    "start_time": "2024-09-19T13:34:48.404Z"
   },
   {
    "duration": 189,
    "start_time": "2024-09-19T13:34:48.423Z"
   },
   {
    "duration": 14,
    "start_time": "2024-09-19T13:34:48.613Z"
   },
   {
    "duration": 115,
    "start_time": "2024-09-19T13:34:48.629Z"
   },
   {
    "duration": 13,
    "start_time": "2024-09-19T13:34:48.746Z"
   },
   {
    "duration": 140,
    "start_time": "2024-09-19T13:34:48.761Z"
   },
   {
    "duration": 21,
    "start_time": "2024-09-19T13:34:48.905Z"
   },
   {
    "duration": 145,
    "start_time": "2024-09-19T13:34:48.928Z"
   },
   {
    "duration": 13,
    "start_time": "2024-09-19T13:34:49.075Z"
   },
   {
    "duration": 117,
    "start_time": "2024-09-19T13:34:49.090Z"
   },
   {
    "duration": 7,
    "start_time": "2024-09-19T13:34:49.209Z"
   },
   {
    "duration": 33,
    "start_time": "2024-09-19T13:34:49.217Z"
   },
   {
    "duration": 1329,
    "start_time": "2024-09-19T13:38:30.197Z"
   },
   {
    "duration": 1308,
    "start_time": "2024-09-19T13:38:43.158Z"
   },
   {
    "duration": 60,
    "start_time": "2024-09-19T13:38:44.468Z"
   },
   {
    "duration": 21,
    "start_time": "2024-09-19T13:38:44.529Z"
   },
   {
    "duration": 27,
    "start_time": "2024-09-19T13:38:44.551Z"
   },
   {
    "duration": 34,
    "start_time": "2024-09-19T13:38:44.581Z"
   },
   {
    "duration": 14,
    "start_time": "2024-09-19T13:38:44.617Z"
   },
   {
    "duration": 33,
    "start_time": "2024-09-19T13:38:44.633Z"
   },
   {
    "duration": 38,
    "start_time": "2024-09-19T13:38:44.668Z"
   },
   {
    "duration": 5,
    "start_time": "2024-09-19T13:38:44.708Z"
   },
   {
    "duration": 24,
    "start_time": "2024-09-19T13:38:44.715Z"
   },
   {
    "duration": 1456,
    "start_time": "2024-09-19T13:38:44.741Z"
   },
   {
    "duration": 0,
    "start_time": "2024-09-19T13:38:46.200Z"
   },
   {
    "duration": 0,
    "start_time": "2024-09-19T13:38:46.201Z"
   },
   {
    "duration": 0,
    "start_time": "2024-09-19T13:38:46.202Z"
   },
   {
    "duration": 0,
    "start_time": "2024-09-19T13:38:46.203Z"
   },
   {
    "duration": 0,
    "start_time": "2024-09-19T13:38:46.205Z"
   },
   {
    "duration": 0,
    "start_time": "2024-09-19T13:38:46.206Z"
   },
   {
    "duration": 0,
    "start_time": "2024-09-19T13:38:46.208Z"
   },
   {
    "duration": 0,
    "start_time": "2024-09-19T13:38:46.209Z"
   },
   {
    "duration": 0,
    "start_time": "2024-09-19T13:38:46.210Z"
   },
   {
    "duration": 0,
    "start_time": "2024-09-19T13:38:46.212Z"
   },
   {
    "duration": 0,
    "start_time": "2024-09-19T13:38:46.213Z"
   },
   {
    "duration": 0,
    "start_time": "2024-09-19T13:38:46.215Z"
   },
   {
    "duration": 0,
    "start_time": "2024-09-19T13:38:46.217Z"
   },
   {
    "duration": 0,
    "start_time": "2024-09-19T13:38:46.218Z"
   },
   {
    "duration": 0,
    "start_time": "2024-09-19T13:38:46.220Z"
   },
   {
    "duration": 0,
    "start_time": "2024-09-19T13:38:46.221Z"
   },
   {
    "duration": 0,
    "start_time": "2024-09-19T13:38:46.223Z"
   },
   {
    "duration": 0,
    "start_time": "2024-09-19T13:38:46.225Z"
   },
   {
    "duration": 0,
    "start_time": "2024-09-19T13:38:46.227Z"
   },
   {
    "duration": 0,
    "start_time": "2024-09-19T13:38:46.228Z"
   },
   {
    "duration": 0,
    "start_time": "2024-09-19T13:38:46.230Z"
   },
   {
    "duration": 0,
    "start_time": "2024-09-19T13:38:46.232Z"
   },
   {
    "duration": 0,
    "start_time": "2024-09-19T13:38:46.233Z"
   },
   {
    "duration": 0,
    "start_time": "2024-09-19T13:38:46.235Z"
   },
   {
    "duration": 0,
    "start_time": "2024-09-19T13:38:46.236Z"
   },
   {
    "duration": 0,
    "start_time": "2024-09-19T13:38:46.237Z"
   },
   {
    "duration": 0,
    "start_time": "2024-09-19T13:38:46.238Z"
   },
   {
    "duration": 0,
    "start_time": "2024-09-19T13:38:46.239Z"
   },
   {
    "duration": 0,
    "start_time": "2024-09-19T13:38:46.241Z"
   },
   {
    "duration": 0,
    "start_time": "2024-09-19T13:38:46.242Z"
   },
   {
    "duration": 0,
    "start_time": "2024-09-19T13:38:46.243Z"
   },
   {
    "duration": 0,
    "start_time": "2024-09-19T13:38:46.245Z"
   },
   {
    "duration": 0,
    "start_time": "2024-09-19T13:38:46.246Z"
   },
   {
    "duration": 0,
    "start_time": "2024-09-19T13:38:46.305Z"
   },
   {
    "duration": 0,
    "start_time": "2024-09-19T13:38:46.306Z"
   },
   {
    "duration": 0,
    "start_time": "2024-09-19T13:38:46.307Z"
   },
   {
    "duration": 0,
    "start_time": "2024-09-19T13:38:46.308Z"
   },
   {
    "duration": 0,
    "start_time": "2024-09-19T13:38:46.310Z"
   },
   {
    "duration": 0,
    "start_time": "2024-09-19T13:38:46.311Z"
   },
   {
    "duration": 0,
    "start_time": "2024-09-19T13:38:46.312Z"
   },
   {
    "duration": 0,
    "start_time": "2024-09-19T13:38:46.313Z"
   },
   {
    "duration": 0,
    "start_time": "2024-09-19T13:38:46.314Z"
   },
   {
    "duration": 0,
    "start_time": "2024-09-19T13:38:46.315Z"
   },
   {
    "duration": 0,
    "start_time": "2024-09-19T13:38:46.316Z"
   },
   {
    "duration": 0,
    "start_time": "2024-09-19T13:38:46.317Z"
   },
   {
    "duration": 0,
    "start_time": "2024-09-19T13:38:46.318Z"
   },
   {
    "duration": 0,
    "start_time": "2024-09-19T13:38:46.319Z"
   },
   {
    "duration": 0,
    "start_time": "2024-09-19T13:38:46.320Z"
   },
   {
    "duration": 0,
    "start_time": "2024-09-19T13:38:46.321Z"
   },
   {
    "duration": 0,
    "start_time": "2024-09-19T13:38:46.322Z"
   },
   {
    "duration": 0,
    "start_time": "2024-09-19T13:38:46.323Z"
   },
   {
    "duration": 1167,
    "start_time": "2024-09-19T13:39:08.218Z"
   },
   {
    "duration": 1148,
    "start_time": "2024-09-19T13:39:11.913Z"
   },
   {
    "duration": 14,
    "start_time": "2024-09-19T13:41:22.620Z"
   },
   {
    "duration": 1347,
    "start_time": "2024-09-19T13:49:50.021Z"
   },
   {
    "duration": 59,
    "start_time": "2024-09-19T13:49:51.370Z"
   },
   {
    "duration": 21,
    "start_time": "2024-09-19T13:49:51.430Z"
   },
   {
    "duration": 48,
    "start_time": "2024-09-19T13:49:51.454Z"
   },
   {
    "duration": 64,
    "start_time": "2024-09-19T13:49:51.504Z"
   },
   {
    "duration": 92,
    "start_time": "2024-09-19T13:49:51.570Z"
   },
   {
    "duration": 79,
    "start_time": "2024-09-19T13:49:51.664Z"
   },
   {
    "duration": 66,
    "start_time": "2024-09-19T13:49:51.744Z"
   },
   {
    "duration": 27,
    "start_time": "2024-09-19T13:49:51.811Z"
   },
   {
    "duration": 2246,
    "start_time": "2024-09-19T13:49:51.841Z"
   },
   {
    "duration": 0,
    "start_time": "2024-09-19T13:49:54.090Z"
   },
   {
    "duration": 0,
    "start_time": "2024-09-19T13:49:54.092Z"
   },
   {
    "duration": 0,
    "start_time": "2024-09-19T13:49:54.093Z"
   },
   {
    "duration": 0,
    "start_time": "2024-09-19T13:49:54.094Z"
   },
   {
    "duration": 0,
    "start_time": "2024-09-19T13:49:54.096Z"
   },
   {
    "duration": 0,
    "start_time": "2024-09-19T13:49:54.097Z"
   },
   {
    "duration": 0,
    "start_time": "2024-09-19T13:49:54.098Z"
   },
   {
    "duration": 0,
    "start_time": "2024-09-19T13:49:54.099Z"
   },
   {
    "duration": 0,
    "start_time": "2024-09-19T13:49:54.100Z"
   },
   {
    "duration": 0,
    "start_time": "2024-09-19T13:49:54.101Z"
   },
   {
    "duration": 0,
    "start_time": "2024-09-19T13:49:54.102Z"
   },
   {
    "duration": 0,
    "start_time": "2024-09-19T13:49:54.103Z"
   },
   {
    "duration": 0,
    "start_time": "2024-09-19T13:49:54.104Z"
   },
   {
    "duration": 0,
    "start_time": "2024-09-19T13:49:54.105Z"
   },
   {
    "duration": 0,
    "start_time": "2024-09-19T13:49:54.106Z"
   },
   {
    "duration": 0,
    "start_time": "2024-09-19T13:49:54.107Z"
   },
   {
    "duration": 0,
    "start_time": "2024-09-19T13:49:54.108Z"
   },
   {
    "duration": 0,
    "start_time": "2024-09-19T13:49:54.109Z"
   },
   {
    "duration": 0,
    "start_time": "2024-09-19T13:49:54.110Z"
   },
   {
    "duration": 0,
    "start_time": "2024-09-19T13:49:54.112Z"
   },
   {
    "duration": 0,
    "start_time": "2024-09-19T13:49:54.113Z"
   },
   {
    "duration": 0,
    "start_time": "2024-09-19T13:49:54.114Z"
   },
   {
    "duration": 0,
    "start_time": "2024-09-19T13:49:54.115Z"
   },
   {
    "duration": 0,
    "start_time": "2024-09-19T13:49:54.116Z"
   },
   {
    "duration": 0,
    "start_time": "2024-09-19T13:49:54.117Z"
   },
   {
    "duration": 0,
    "start_time": "2024-09-19T13:49:54.118Z"
   },
   {
    "duration": 0,
    "start_time": "2024-09-19T13:49:54.120Z"
   },
   {
    "duration": 0,
    "start_time": "2024-09-19T13:49:54.121Z"
   },
   {
    "duration": 0,
    "start_time": "2024-09-19T13:49:54.122Z"
   },
   {
    "duration": 0,
    "start_time": "2024-09-19T13:49:54.122Z"
   },
   {
    "duration": 1,
    "start_time": "2024-09-19T13:49:54.123Z"
   },
   {
    "duration": 0,
    "start_time": "2024-09-19T13:49:54.125Z"
   },
   {
    "duration": 0,
    "start_time": "2024-09-19T13:49:54.125Z"
   },
   {
    "duration": 0,
    "start_time": "2024-09-19T13:49:54.126Z"
   },
   {
    "duration": 0,
    "start_time": "2024-09-19T13:49:54.128Z"
   },
   {
    "duration": 0,
    "start_time": "2024-09-19T13:49:54.129Z"
   },
   {
    "duration": 0,
    "start_time": "2024-09-19T13:49:54.129Z"
   },
   {
    "duration": 0,
    "start_time": "2024-09-19T13:49:54.130Z"
   },
   {
    "duration": 0,
    "start_time": "2024-09-19T13:49:54.131Z"
   },
   {
    "duration": 0,
    "start_time": "2024-09-19T13:49:54.132Z"
   },
   {
    "duration": 0,
    "start_time": "2024-09-19T13:49:54.134Z"
   },
   {
    "duration": 0,
    "start_time": "2024-09-19T13:49:54.135Z"
   },
   {
    "duration": 0,
    "start_time": "2024-09-19T13:49:54.136Z"
   },
   {
    "duration": 0,
    "start_time": "2024-09-19T13:49:54.137Z"
   },
   {
    "duration": 0,
    "start_time": "2024-09-19T13:49:54.138Z"
   },
   {
    "duration": 0,
    "start_time": "2024-09-19T13:49:54.139Z"
   },
   {
    "duration": 0,
    "start_time": "2024-09-19T13:49:54.140Z"
   },
   {
    "duration": 0,
    "start_time": "2024-09-19T13:49:54.140Z"
   },
   {
    "duration": 0,
    "start_time": "2024-09-19T13:49:54.141Z"
   },
   {
    "duration": 0,
    "start_time": "2024-09-19T13:49:54.142Z"
   },
   {
    "duration": 0,
    "start_time": "2024-09-19T13:49:54.143Z"
   },
   {
    "duration": 1356,
    "start_time": "2024-09-19T14:58:16.221Z"
   },
   {
    "duration": 60,
    "start_time": "2024-09-19T14:58:17.579Z"
   },
   {
    "duration": 21,
    "start_time": "2024-09-19T14:58:17.641Z"
   },
   {
    "duration": 16,
    "start_time": "2024-09-19T14:58:17.664Z"
   },
   {
    "duration": 47,
    "start_time": "2024-09-19T14:58:17.682Z"
   },
   {
    "duration": 80,
    "start_time": "2024-09-19T14:58:17.731Z"
   },
   {
    "duration": 34,
    "start_time": "2024-09-19T14:58:17.813Z"
   },
   {
    "duration": 21,
    "start_time": "2024-09-19T14:58:17.849Z"
   },
   {
    "duration": 5,
    "start_time": "2024-09-19T14:58:17.871Z"
   },
   {
    "duration": 36,
    "start_time": "2024-09-19T14:58:17.879Z"
   },
   {
    "duration": 10,
    "start_time": "2024-09-19T14:58:17.917Z"
   },
   {
    "duration": 24,
    "start_time": "2024-09-19T14:58:17.929Z"
   },
   {
    "duration": 5,
    "start_time": "2024-09-19T14:58:17.955Z"
   },
   {
    "duration": 15,
    "start_time": "2024-09-19T14:58:17.962Z"
   },
   {
    "duration": 31,
    "start_time": "2024-09-19T14:58:17.978Z"
   },
   {
    "duration": 9,
    "start_time": "2024-09-19T14:58:18.010Z"
   },
   {
    "duration": 8,
    "start_time": "2024-09-19T14:58:18.021Z"
   },
   {
    "duration": 8,
    "start_time": "2024-09-19T14:58:18.031Z"
   },
   {
    "duration": 12,
    "start_time": "2024-09-19T14:58:18.040Z"
   },
   {
    "duration": 9,
    "start_time": "2024-09-19T14:58:18.053Z"
   },
   {
    "duration": 42,
    "start_time": "2024-09-19T14:58:18.064Z"
   },
   {
    "duration": 9,
    "start_time": "2024-09-19T14:58:18.108Z"
   },
   {
    "duration": 25,
    "start_time": "2024-09-19T14:58:18.118Z"
   },
   {
    "duration": 17,
    "start_time": "2024-09-19T14:58:18.145Z"
   },
   {
    "duration": 9,
    "start_time": "2024-09-19T14:58:18.164Z"
   },
   {
    "duration": 434,
    "start_time": "2024-09-19T14:58:18.206Z"
   },
   {
    "duration": 17,
    "start_time": "2024-09-19T14:58:18.642Z"
   },
   {
    "duration": 1336,
    "start_time": "2024-09-19T14:58:18.663Z"
   },
   {
    "duration": 26,
    "start_time": "2024-09-19T14:58:20.000Z"
   },
   {
    "duration": 28,
    "start_time": "2024-09-19T14:58:20.028Z"
   },
   {
    "duration": 1755,
    "start_time": "2024-09-19T14:58:20.058Z"
   },
   {
    "duration": 315,
    "start_time": "2024-09-19T14:58:21.815Z"
   },
   {
    "duration": 1581,
    "start_time": "2024-09-19T14:58:22.132Z"
   },
   {
    "duration": 67,
    "start_time": "2024-09-19T14:58:23.715Z"
   },
   {
    "duration": 26,
    "start_time": "2024-09-19T14:58:23.784Z"
   },
   {
    "duration": 15,
    "start_time": "2024-09-19T14:58:23.812Z"
   },
   {
    "duration": 16,
    "start_time": "2024-09-19T14:58:23.829Z"
   },
   {
    "duration": 16,
    "start_time": "2024-09-19T14:58:23.847Z"
   },
   {
    "duration": 48,
    "start_time": "2024-09-19T14:58:23.865Z"
   },
   {
    "duration": 216,
    "start_time": "2024-09-19T14:58:23.916Z"
   },
   {
    "duration": 488,
    "start_time": "2024-09-19T14:58:24.134Z"
   },
   {
    "duration": 15,
    "start_time": "2024-09-19T14:58:24.624Z"
   },
   {
    "duration": 134,
    "start_time": "2024-09-19T14:58:24.641Z"
   },
   {
    "duration": 16,
    "start_time": "2024-09-19T14:58:24.777Z"
   },
   {
    "duration": 146,
    "start_time": "2024-09-19T14:58:24.795Z"
   },
   {
    "duration": 15,
    "start_time": "2024-09-19T14:58:24.942Z"
   },
   {
    "duration": 125,
    "start_time": "2024-09-19T14:58:24.958Z"
   },
   {
    "duration": 24,
    "start_time": "2024-09-19T14:58:25.085Z"
   },
   {
    "duration": 120,
    "start_time": "2024-09-19T14:58:25.111Z"
   },
   {
    "duration": 15,
    "start_time": "2024-09-19T14:58:25.233Z"
   },
   {
    "duration": 149,
    "start_time": "2024-09-19T14:58:25.250Z"
   },
   {
    "duration": 16,
    "start_time": "2024-09-19T14:58:25.400Z"
   },
   {
    "duration": 118,
    "start_time": "2024-09-19T14:58:25.418Z"
   },
   {
    "duration": 14,
    "start_time": "2024-09-19T14:58:25.538Z"
   },
   {
    "duration": 129,
    "start_time": "2024-09-19T14:58:25.553Z"
   },
   {
    "duration": 25,
    "start_time": "2024-09-19T14:58:25.683Z"
   },
   {
    "duration": 190,
    "start_time": "2024-09-19T14:58:25.709Z"
   },
   {
    "duration": 14,
    "start_time": "2024-09-19T14:58:25.905Z"
   },
   {
    "duration": 130,
    "start_time": "2024-09-19T14:58:25.920Z"
   },
   {
    "duration": 9,
    "start_time": "2024-09-19T14:58:26.052Z"
   },
   {
    "duration": 9,
    "start_time": "2024-09-19T14:58:26.063Z"
   },
   {
    "duration": 1303,
    "start_time": "2024-09-19T14:59:14.019Z"
   },
   {
    "duration": 61,
    "start_time": "2024-09-19T14:59:15.324Z"
   },
   {
    "duration": 21,
    "start_time": "2024-09-19T14:59:15.386Z"
   },
   {
    "duration": 32,
    "start_time": "2024-09-19T14:59:15.409Z"
   },
   {
    "duration": 43,
    "start_time": "2024-09-19T14:59:15.443Z"
   },
   {
    "duration": 15,
    "start_time": "2024-09-19T14:59:15.488Z"
   },
   {
    "duration": 42,
    "start_time": "2024-09-19T14:59:15.505Z"
   },
   {
    "duration": 19,
    "start_time": "2024-09-19T14:59:15.549Z"
   },
   {
    "duration": 5,
    "start_time": "2024-09-19T14:59:15.569Z"
   },
   {
    "duration": 60,
    "start_time": "2024-09-19T14:59:15.576Z"
   },
   {
    "duration": 11,
    "start_time": "2024-09-19T14:59:15.638Z"
   },
   {
    "duration": 15,
    "start_time": "2024-09-19T14:59:15.650Z"
   },
   {
    "duration": 6,
    "start_time": "2024-09-19T14:59:15.667Z"
   },
   {
    "duration": 38,
    "start_time": "2024-09-19T14:59:15.674Z"
   },
   {
    "duration": 7,
    "start_time": "2024-09-19T14:59:15.713Z"
   },
   {
    "duration": 62,
    "start_time": "2024-09-19T14:59:15.721Z"
   },
   {
    "duration": 16,
    "start_time": "2024-09-19T14:59:15.784Z"
   },
   {
    "duration": 15,
    "start_time": "2024-09-19T14:59:15.802Z"
   },
   {
    "duration": 28,
    "start_time": "2024-09-19T14:59:15.818Z"
   },
   {
    "duration": 8,
    "start_time": "2024-09-19T14:59:15.848Z"
   },
   {
    "duration": 23,
    "start_time": "2024-09-19T14:59:15.857Z"
   },
   {
    "duration": 32,
    "start_time": "2024-09-19T14:59:15.881Z"
   },
   {
    "duration": 42,
    "start_time": "2024-09-19T14:59:15.915Z"
   },
   {
    "duration": 26,
    "start_time": "2024-09-19T14:59:15.959Z"
   },
   {
    "duration": 21,
    "start_time": "2024-09-19T14:59:15.987Z"
   },
   {
    "duration": 475,
    "start_time": "2024-09-19T14:59:16.010Z"
   },
   {
    "duration": 21,
    "start_time": "2024-09-19T14:59:16.487Z"
   },
   {
    "duration": 1384,
    "start_time": "2024-09-19T14:59:16.512Z"
   },
   {
    "duration": 30,
    "start_time": "2024-09-19T14:59:17.898Z"
   },
   {
    "duration": 14,
    "start_time": "2024-09-19T14:59:17.930Z"
   },
   {
    "duration": 1767,
    "start_time": "2024-09-19T14:59:17.946Z"
   },
   {
    "duration": 286,
    "start_time": "2024-09-19T14:59:19.715Z"
   },
   {
    "duration": 1531,
    "start_time": "2024-09-19T14:59:20.002Z"
   },
   {
    "duration": 51,
    "start_time": "2024-09-19T14:59:21.535Z"
   },
   {
    "duration": 14,
    "start_time": "2024-09-19T14:59:21.588Z"
   },
   {
    "duration": 17,
    "start_time": "2024-09-19T14:59:21.604Z"
   },
   {
    "duration": 30,
    "start_time": "2024-09-19T14:59:21.622Z"
   },
   {
    "duration": 15,
    "start_time": "2024-09-19T14:59:21.653Z"
   },
   {
    "duration": 14,
    "start_time": "2024-09-19T14:59:21.669Z"
   },
   {
    "duration": 226,
    "start_time": "2024-09-19T14:59:21.685Z"
   },
   {
    "duration": 491,
    "start_time": "2024-09-19T14:59:21.913Z"
   },
   {
    "duration": 16,
    "start_time": "2024-09-19T14:59:22.406Z"
   },
   {
    "duration": 128,
    "start_time": "2024-09-19T14:59:22.424Z"
   },
   {
    "duration": 14,
    "start_time": "2024-09-19T14:59:22.554Z"
   },
   {
    "duration": 140,
    "start_time": "2024-09-19T14:59:22.570Z"
   },
   {
    "duration": 14,
    "start_time": "2024-09-19T14:59:22.712Z"
   },
   {
    "duration": 234,
    "start_time": "2024-09-19T14:59:22.728Z"
   },
   {
    "duration": 15,
    "start_time": "2024-09-19T14:59:22.963Z"
   },
   {
    "duration": 119,
    "start_time": "2024-09-19T14:59:22.980Z"
   },
   {
    "duration": 16,
    "start_time": "2024-09-19T14:59:23.101Z"
   },
   {
    "duration": 133,
    "start_time": "2024-09-19T14:59:23.119Z"
   },
   {
    "duration": 14,
    "start_time": "2024-09-19T14:59:23.253Z"
   },
   {
    "duration": 112,
    "start_time": "2024-09-19T14:59:23.268Z"
   },
   {
    "duration": 13,
    "start_time": "2024-09-19T14:59:23.382Z"
   },
   {
    "duration": 119,
    "start_time": "2024-09-19T14:59:23.405Z"
   },
   {
    "duration": 14,
    "start_time": "2024-09-19T14:59:23.525Z"
   },
   {
    "duration": 126,
    "start_time": "2024-09-19T14:59:23.540Z"
   },
   {
    "duration": 14,
    "start_time": "2024-09-19T14:59:23.667Z"
   },
   {
    "duration": 109,
    "start_time": "2024-09-19T14:59:23.683Z"
   },
   {
    "duration": 14,
    "start_time": "2024-09-19T14:59:23.793Z"
   },
   {
    "duration": 7,
    "start_time": "2024-09-19T14:59:23.809Z"
   },
   {
    "duration": 15,
    "start_time": "2024-09-19T15:00:50.852Z"
   },
   {
    "duration": 1371,
    "start_time": "2024-09-19T15:01:07.775Z"
   },
   {
    "duration": 59,
    "start_time": "2024-09-19T15:01:09.148Z"
   },
   {
    "duration": 21,
    "start_time": "2024-09-19T15:01:09.209Z"
   },
   {
    "duration": 40,
    "start_time": "2024-09-19T15:01:09.232Z"
   },
   {
    "duration": 30,
    "start_time": "2024-09-19T15:01:09.274Z"
   },
   {
    "duration": 15,
    "start_time": "2024-09-19T15:01:09.306Z"
   },
   {
    "duration": 27,
    "start_time": "2024-09-19T15:01:09.322Z"
   },
   {
    "duration": 21,
    "start_time": "2024-09-19T15:01:09.351Z"
   },
   {
    "duration": 5,
    "start_time": "2024-09-19T15:01:09.373Z"
   },
   {
    "duration": 43,
    "start_time": "2024-09-19T15:01:09.380Z"
   },
   {
    "duration": 12,
    "start_time": "2024-09-19T15:01:09.424Z"
   },
   {
    "duration": 95,
    "start_time": "2024-09-19T15:01:09.437Z"
   },
   {
    "duration": 13,
    "start_time": "2024-09-19T15:01:09.534Z"
   },
   {
    "duration": 27,
    "start_time": "2024-09-19T15:01:09.549Z"
   },
   {
    "duration": 22,
    "start_time": "2024-09-19T15:01:09.577Z"
   },
   {
    "duration": 5,
    "start_time": "2024-09-19T15:01:09.601Z"
   },
   {
    "duration": 18,
    "start_time": "2024-09-19T15:01:09.608Z"
   },
   {
    "duration": 21,
    "start_time": "2024-09-19T15:01:09.628Z"
   },
   {
    "duration": 21,
    "start_time": "2024-09-19T15:01:09.651Z"
   },
   {
    "duration": 25,
    "start_time": "2024-09-19T15:01:09.673Z"
   },
   {
    "duration": 74,
    "start_time": "2024-09-19T15:01:09.700Z"
   },
   {
    "duration": 8,
    "start_time": "2024-09-19T15:01:09.777Z"
   },
   {
    "duration": 21,
    "start_time": "2024-09-19T15:01:09.786Z"
   },
   {
    "duration": 21,
    "start_time": "2024-09-19T15:01:09.809Z"
   },
   {
    "duration": 17,
    "start_time": "2024-09-19T15:01:09.833Z"
   },
   {
    "duration": 8,
    "start_time": "2024-09-19T15:01:09.852Z"
   },
   {
    "duration": 451,
    "start_time": "2024-09-19T15:01:09.862Z"
   },
   {
    "duration": 17,
    "start_time": "2024-09-19T15:01:10.317Z"
   },
   {
    "duration": 1302,
    "start_time": "2024-09-19T15:01:10.335Z"
   },
   {
    "duration": 23,
    "start_time": "2024-09-19T15:01:11.638Z"
   },
   {
    "duration": 14,
    "start_time": "2024-09-19T15:01:11.663Z"
   },
   {
    "duration": 1776,
    "start_time": "2024-09-19T15:01:11.679Z"
   },
   {
    "duration": 293,
    "start_time": "2024-09-19T15:01:13.457Z"
   },
   {
    "duration": 1589,
    "start_time": "2024-09-19T15:01:13.752Z"
   },
   {
    "duration": 15,
    "start_time": "2024-09-19T15:01:15.343Z"
   },
   {
    "duration": 36,
    "start_time": "2024-09-19T15:01:15.360Z"
   },
   {
    "duration": 74,
    "start_time": "2024-09-19T15:01:15.397Z"
   },
   {
    "duration": 17,
    "start_time": "2024-09-19T15:01:15.473Z"
   },
   {
    "duration": 19,
    "start_time": "2024-09-19T15:01:15.492Z"
   },
   {
    "duration": 50,
    "start_time": "2024-09-19T15:01:15.513Z"
   },
   {
    "duration": 204,
    "start_time": "2024-09-19T15:01:15.565Z"
   },
   {
    "duration": 512,
    "start_time": "2024-09-19T15:01:15.771Z"
   },
   {
    "duration": 23,
    "start_time": "2024-09-19T15:01:16.284Z"
   },
   {
    "duration": 120,
    "start_time": "2024-09-19T15:01:16.309Z"
   },
   {
    "duration": 20,
    "start_time": "2024-09-19T15:01:16.431Z"
   },
   {
    "duration": 163,
    "start_time": "2024-09-19T15:01:16.452Z"
   },
   {
    "duration": 20,
    "start_time": "2024-09-19T15:01:16.617Z"
   },
   {
    "duration": 117,
    "start_time": "2024-09-19T15:01:16.639Z"
   },
   {
    "duration": 14,
    "start_time": "2024-09-19T15:01:16.757Z"
   },
   {
    "duration": 164,
    "start_time": "2024-09-19T15:01:16.773Z"
   },
   {
    "duration": 13,
    "start_time": "2024-09-19T15:01:16.939Z"
   },
   {
    "duration": 119,
    "start_time": "2024-09-19T15:01:16.954Z"
   },
   {
    "duration": 14,
    "start_time": "2024-09-19T15:01:17.074Z"
   },
   {
    "duration": 107,
    "start_time": "2024-09-19T15:01:17.090Z"
   },
   {
    "duration": 20,
    "start_time": "2024-09-19T15:01:17.199Z"
   },
   {
    "duration": 122,
    "start_time": "2024-09-19T15:01:17.220Z"
   },
   {
    "duration": 15,
    "start_time": "2024-09-19T15:01:17.343Z"
   },
   {
    "duration": 129,
    "start_time": "2024-09-19T15:01:17.360Z"
   },
   {
    "duration": 19,
    "start_time": "2024-09-19T15:01:17.491Z"
   },
   {
    "duration": 118,
    "start_time": "2024-09-19T15:01:17.512Z"
   },
   {
    "duration": 8,
    "start_time": "2024-09-19T15:01:17.631Z"
   },
   {
    "duration": 9,
    "start_time": "2024-09-19T15:01:17.640Z"
   },
   {
    "duration": 15,
    "start_time": "2024-09-19T15:03:22.186Z"
   },
   {
    "duration": 82,
    "start_time": "2024-09-19T15:06:56.497Z"
   },
   {
    "duration": 71,
    "start_time": "2024-09-19T15:09:06.980Z"
   },
   {
    "duration": 98,
    "start_time": "2024-09-19T15:14:52.802Z"
   },
   {
    "duration": 114,
    "start_time": "2024-09-19T15:15:38.908Z"
   },
   {
    "duration": 11,
    "start_time": "2024-09-19T15:15:52.715Z"
   },
   {
    "duration": 1279,
    "start_time": "2024-09-19T15:16:13.746Z"
   },
   {
    "duration": 1310,
    "start_time": "2024-09-19T15:16:32.826Z"
   },
   {
    "duration": 61,
    "start_time": "2024-09-19T15:16:34.138Z"
   },
   {
    "duration": 23,
    "start_time": "2024-09-19T15:16:34.200Z"
   },
   {
    "duration": 26,
    "start_time": "2024-09-19T15:16:34.225Z"
   },
   {
    "duration": 45,
    "start_time": "2024-09-19T15:16:34.252Z"
   },
   {
    "duration": 14,
    "start_time": "2024-09-19T15:16:34.299Z"
   },
   {
    "duration": 34,
    "start_time": "2024-09-19T15:16:34.315Z"
   },
   {
    "duration": 31,
    "start_time": "2024-09-19T15:16:34.357Z"
   },
   {
    "duration": 15,
    "start_time": "2024-09-19T15:16:34.390Z"
   },
   {
    "duration": 19,
    "start_time": "2024-09-19T15:16:34.410Z"
   },
   {
    "duration": 10,
    "start_time": "2024-09-19T15:16:34.431Z"
   },
   {
    "duration": 85,
    "start_time": "2024-09-19T15:16:34.444Z"
   },
   {
    "duration": 14,
    "start_time": "2024-09-19T15:16:34.530Z"
   },
   {
    "duration": 5,
    "start_time": "2024-09-19T15:16:34.546Z"
   },
   {
    "duration": 22,
    "start_time": "2024-09-19T15:16:34.552Z"
   },
   {
    "duration": 57,
    "start_time": "2024-09-19T15:16:34.575Z"
   },
   {
    "duration": 59,
    "start_time": "2024-09-19T15:16:34.634Z"
   },
   {
    "duration": 12,
    "start_time": "2024-09-19T15:16:34.695Z"
   },
   {
    "duration": 34,
    "start_time": "2024-09-19T15:16:34.709Z"
   },
   {
    "duration": 21,
    "start_time": "2024-09-19T15:16:34.746Z"
   },
   {
    "duration": 25,
    "start_time": "2024-09-19T15:16:34.769Z"
   },
   {
    "duration": 47,
    "start_time": "2024-09-19T15:16:34.796Z"
   },
   {
    "duration": 138,
    "start_time": "2024-09-19T15:16:34.845Z"
   },
   {
    "duration": 33,
    "start_time": "2024-09-19T15:16:34.984Z"
   },
   {
    "duration": 17,
    "start_time": "2024-09-19T15:16:35.019Z"
   },
   {
    "duration": 8,
    "start_time": "2024-09-19T15:16:35.038Z"
   },
   {
    "duration": 433,
    "start_time": "2024-09-19T15:16:35.048Z"
   },
   {
    "duration": 26,
    "start_time": "2024-09-19T15:16:35.485Z"
   },
   {
    "duration": 1345,
    "start_time": "2024-09-19T15:16:35.513Z"
   },
   {
    "duration": 23,
    "start_time": "2024-09-19T15:16:36.860Z"
   },
   {
    "duration": 141,
    "start_time": "2024-09-19T15:16:36.884Z"
   },
   {
    "duration": 1722,
    "start_time": "2024-09-19T15:16:37.027Z"
   },
   {
    "duration": 296,
    "start_time": "2024-09-19T15:16:38.751Z"
   },
   {
    "duration": 1516,
    "start_time": "2024-09-19T15:16:39.049Z"
   },
   {
    "duration": 0,
    "start_time": "2024-09-19T15:16:40.566Z"
   },
   {
    "duration": 0,
    "start_time": "2024-09-19T15:16:40.568Z"
   },
   {
    "duration": 0,
    "start_time": "2024-09-19T15:16:40.569Z"
   },
   {
    "duration": 0,
    "start_time": "2024-09-19T15:16:40.570Z"
   },
   {
    "duration": 0,
    "start_time": "2024-09-19T15:16:40.571Z"
   },
   {
    "duration": 0,
    "start_time": "2024-09-19T15:16:40.572Z"
   },
   {
    "duration": 0,
    "start_time": "2024-09-19T15:16:40.573Z"
   },
   {
    "duration": 0,
    "start_time": "2024-09-19T15:16:40.575Z"
   },
   {
    "duration": 0,
    "start_time": "2024-09-19T15:16:40.575Z"
   },
   {
    "duration": 0,
    "start_time": "2024-09-19T15:16:40.576Z"
   },
   {
    "duration": 0,
    "start_time": "2024-09-19T15:16:40.578Z"
   },
   {
    "duration": 0,
    "start_time": "2024-09-19T15:16:40.579Z"
   },
   {
    "duration": 0,
    "start_time": "2024-09-19T15:16:40.580Z"
   },
   {
    "duration": 0,
    "start_time": "2024-09-19T15:16:40.581Z"
   },
   {
    "duration": 0,
    "start_time": "2024-09-19T15:16:40.582Z"
   },
   {
    "duration": 0,
    "start_time": "2024-09-19T15:16:40.583Z"
   },
   {
    "duration": 0,
    "start_time": "2024-09-19T15:16:40.584Z"
   },
   {
    "duration": 0,
    "start_time": "2024-09-19T15:16:40.586Z"
   },
   {
    "duration": 0,
    "start_time": "2024-09-19T15:16:40.587Z"
   },
   {
    "duration": 0,
    "start_time": "2024-09-19T15:16:40.588Z"
   },
   {
    "duration": 0,
    "start_time": "2024-09-19T15:16:40.589Z"
   },
   {
    "duration": 0,
    "start_time": "2024-09-19T15:16:40.590Z"
   },
   {
    "duration": 0,
    "start_time": "2024-09-19T15:16:40.591Z"
   },
   {
    "duration": 0,
    "start_time": "2024-09-19T15:16:40.592Z"
   },
   {
    "duration": 0,
    "start_time": "2024-09-19T15:16:40.593Z"
   },
   {
    "duration": 0,
    "start_time": "2024-09-19T15:16:40.594Z"
   },
   {
    "duration": 0,
    "start_time": "2024-09-19T15:16:40.595Z"
   },
   {
    "duration": 0,
    "start_time": "2024-09-19T15:16:40.596Z"
   },
   {
    "duration": 1540,
    "start_time": "2024-09-19T15:17:11.769Z"
   },
   {
    "duration": 11,
    "start_time": "2024-09-19T15:17:44.647Z"
   },
   {
    "duration": 10,
    "start_time": "2024-09-19T15:18:24.278Z"
   },
   {
    "duration": 13,
    "start_time": "2024-09-19T15:18:33.534Z"
   },
   {
    "duration": 11,
    "start_time": "2024-09-19T15:18:41.560Z"
   },
   {
    "duration": 10,
    "start_time": "2024-09-19T15:18:44.637Z"
   },
   {
    "duration": 11,
    "start_time": "2024-09-19T15:18:50.044Z"
   },
   {
    "duration": 13,
    "start_time": "2024-09-19T15:20:39.590Z"
   },
   {
    "duration": 11,
    "start_time": "2024-09-19T15:21:38.428Z"
   },
   {
    "duration": 315,
    "start_time": "2024-09-19T15:21:47.376Z"
   },
   {
    "duration": 13,
    "start_time": "2024-09-19T15:22:40.627Z"
   },
   {
    "duration": 564,
    "start_time": "2024-09-19T15:26:21.545Z"
   },
   {
    "duration": 16,
    "start_time": "2024-09-19T15:26:46.524Z"
   },
   {
    "duration": 1531,
    "start_time": "2024-09-19T15:26:56.914Z"
   },
   {
    "duration": 795,
    "start_time": "2024-09-19T15:27:16.878Z"
   },
   {
    "duration": 4,
    "start_time": "2024-09-19T15:28:20.758Z"
   },
   {
    "duration": 77,
    "start_time": "2024-09-19T15:28:26.528Z"
   },
   {
    "duration": 73,
    "start_time": "2024-09-19T15:28:31.168Z"
   },
   {
    "duration": 77,
    "start_time": "2024-09-19T15:28:39.952Z"
   },
   {
    "duration": 1330,
    "start_time": "2024-09-19T15:28:51.705Z"
   },
   {
    "duration": 59,
    "start_time": "2024-09-19T15:28:53.038Z"
   },
   {
    "duration": 21,
    "start_time": "2024-09-19T15:28:53.098Z"
   },
   {
    "duration": 16,
    "start_time": "2024-09-19T15:28:53.121Z"
   },
   {
    "duration": 30,
    "start_time": "2024-09-19T15:28:53.139Z"
   },
   {
    "duration": 15,
    "start_time": "2024-09-19T15:28:53.170Z"
   },
   {
    "duration": 36,
    "start_time": "2024-09-19T15:28:53.187Z"
   },
   {
    "duration": 19,
    "start_time": "2024-09-19T15:28:53.225Z"
   },
   {
    "duration": 5,
    "start_time": "2024-09-19T15:28:53.245Z"
   },
   {
    "duration": 19,
    "start_time": "2024-09-19T15:28:53.253Z"
   },
   {
    "duration": 36,
    "start_time": "2024-09-19T15:28:53.273Z"
   },
   {
    "duration": 52,
    "start_time": "2024-09-19T15:28:53.311Z"
   },
   {
    "duration": 14,
    "start_time": "2024-09-19T15:28:53.365Z"
   },
   {
    "duration": 26,
    "start_time": "2024-09-19T15:28:53.380Z"
   },
   {
    "duration": 18,
    "start_time": "2024-09-19T15:28:53.408Z"
   },
   {
    "duration": 5,
    "start_time": "2024-09-19T15:28:53.428Z"
   },
   {
    "duration": 10,
    "start_time": "2024-09-19T15:28:53.435Z"
   },
   {
    "duration": 18,
    "start_time": "2024-09-19T15:28:53.447Z"
   },
   {
    "duration": 10,
    "start_time": "2024-09-19T15:28:53.466Z"
   },
   {
    "duration": 12,
    "start_time": "2024-09-19T15:28:53.477Z"
   },
   {
    "duration": 23,
    "start_time": "2024-09-19T15:28:53.491Z"
   },
   {
    "duration": 15,
    "start_time": "2024-09-19T15:28:53.516Z"
   },
   {
    "duration": 7,
    "start_time": "2024-09-19T15:28:53.533Z"
   },
   {
    "duration": 29,
    "start_time": "2024-09-19T15:28:53.542Z"
   },
   {
    "duration": 18,
    "start_time": "2024-09-19T15:28:53.572Z"
   },
   {
    "duration": 9,
    "start_time": "2024-09-19T15:28:53.605Z"
   },
   {
    "duration": 440,
    "start_time": "2024-09-19T15:28:53.616Z"
   },
   {
    "duration": 16,
    "start_time": "2024-09-19T15:28:54.060Z"
   },
   {
    "duration": 1252,
    "start_time": "2024-09-19T15:28:54.077Z"
   },
   {
    "duration": 30,
    "start_time": "2024-09-19T15:28:55.331Z"
   },
   {
    "duration": 19,
    "start_time": "2024-09-19T15:28:55.365Z"
   },
   {
    "duration": 1687,
    "start_time": "2024-09-19T15:28:55.386Z"
   },
   {
    "duration": 302,
    "start_time": "2024-09-19T15:28:57.075Z"
   },
   {
    "duration": 78,
    "start_time": "2024-09-19T15:28:57.378Z"
   },
   {
    "duration": 0,
    "start_time": "2024-09-19T15:28:57.458Z"
   },
   {
    "duration": 0,
    "start_time": "2024-09-19T15:28:57.459Z"
   },
   {
    "duration": 0,
    "start_time": "2024-09-19T15:28:57.460Z"
   },
   {
    "duration": 0,
    "start_time": "2024-09-19T15:28:57.462Z"
   },
   {
    "duration": 0,
    "start_time": "2024-09-19T15:28:57.463Z"
   },
   {
    "duration": 0,
    "start_time": "2024-09-19T15:28:57.463Z"
   },
   {
    "duration": 0,
    "start_time": "2024-09-19T15:28:57.464Z"
   },
   {
    "duration": 0,
    "start_time": "2024-09-19T15:28:57.465Z"
   },
   {
    "duration": 0,
    "start_time": "2024-09-19T15:28:57.467Z"
   },
   {
    "duration": 0,
    "start_time": "2024-09-19T15:28:57.467Z"
   },
   {
    "duration": 0,
    "start_time": "2024-09-19T15:28:57.468Z"
   },
   {
    "duration": 0,
    "start_time": "2024-09-19T15:28:57.469Z"
   },
   {
    "duration": 0,
    "start_time": "2024-09-19T15:28:57.470Z"
   },
   {
    "duration": 0,
    "start_time": "2024-09-19T15:28:57.472Z"
   },
   {
    "duration": 1,
    "start_time": "2024-09-19T15:28:57.472Z"
   },
   {
    "duration": 0,
    "start_time": "2024-09-19T15:28:57.473Z"
   },
   {
    "duration": 0,
    "start_time": "2024-09-19T15:28:57.475Z"
   },
   {
    "duration": 0,
    "start_time": "2024-09-19T15:28:57.476Z"
   },
   {
    "duration": 0,
    "start_time": "2024-09-19T15:28:57.477Z"
   },
   {
    "duration": 0,
    "start_time": "2024-09-19T15:28:57.478Z"
   },
   {
    "duration": 0,
    "start_time": "2024-09-19T15:28:57.479Z"
   },
   {
    "duration": 0,
    "start_time": "2024-09-19T15:28:57.481Z"
   },
   {
    "duration": 0,
    "start_time": "2024-09-19T15:28:57.482Z"
   },
   {
    "duration": 0,
    "start_time": "2024-09-19T15:28:57.483Z"
   },
   {
    "duration": 0,
    "start_time": "2024-09-19T15:28:57.485Z"
   },
   {
    "duration": 0,
    "start_time": "2024-09-19T15:28:57.486Z"
   },
   {
    "duration": 0,
    "start_time": "2024-09-19T15:28:57.486Z"
   },
   {
    "duration": 0,
    "start_time": "2024-09-19T15:28:57.488Z"
   },
   {
    "duration": 83,
    "start_time": "2024-09-19T15:29:23.249Z"
   },
   {
    "duration": 77,
    "start_time": "2024-09-19T15:29:31.784Z"
   },
   {
    "duration": 3,
    "start_time": "2024-09-19T15:31:08.071Z"
   },
   {
    "duration": 1516,
    "start_time": "2024-09-19T15:31:30.785Z"
   },
   {
    "duration": 1700,
    "start_time": "2024-09-19T15:33:02.080Z"
   },
   {
    "duration": 1501,
    "start_time": "2024-09-19T15:33:13.790Z"
   },
   {
    "duration": 1658,
    "start_time": "2024-09-19T15:33:34.989Z"
   },
   {
    "duration": 19,
    "start_time": "2024-09-19T15:34:21.910Z"
   },
   {
    "duration": 4,
    "start_time": "2024-09-19T15:37:34.039Z"
   },
   {
    "duration": 5,
    "start_time": "2024-09-19T15:37:44.886Z"
   },
   {
    "duration": 10,
    "start_time": "2024-09-19T15:39:29.947Z"
   },
   {
    "duration": 10,
    "start_time": "2024-09-19T15:39:33.406Z"
   },
   {
    "duration": 327,
    "start_time": "2024-09-19T15:40:05.454Z"
   },
   {
    "duration": 575,
    "start_time": "2024-09-19T15:40:27.852Z"
   },
   {
    "duration": 9,
    "start_time": "2024-09-19T15:40:42.667Z"
   },
   {
    "duration": 13,
    "start_time": "2024-09-19T15:42:55.915Z"
   },
   {
    "duration": 11,
    "start_time": "2024-09-19T15:45:03.515Z"
   },
   {
    "duration": 1317,
    "start_time": "2024-09-19T15:45:14.117Z"
   },
   {
    "duration": 76,
    "start_time": "2024-09-19T15:45:15.436Z"
   },
   {
    "duration": 20,
    "start_time": "2024-09-19T15:45:15.514Z"
   },
   {
    "duration": 25,
    "start_time": "2024-09-19T15:45:15.536Z"
   },
   {
    "duration": 30,
    "start_time": "2024-09-19T15:45:15.563Z"
   },
   {
    "duration": 15,
    "start_time": "2024-09-19T15:45:15.594Z"
   },
   {
    "duration": 33,
    "start_time": "2024-09-19T15:45:15.611Z"
   },
   {
    "duration": 22,
    "start_time": "2024-09-19T15:45:15.646Z"
   },
   {
    "duration": 5,
    "start_time": "2024-09-19T15:45:15.669Z"
   },
   {
    "duration": 20,
    "start_time": "2024-09-19T15:45:15.676Z"
   },
   {
    "duration": 11,
    "start_time": "2024-09-19T15:45:15.698Z"
   },
   {
    "duration": 58,
    "start_time": "2024-09-19T15:45:15.711Z"
   },
   {
    "duration": 14,
    "start_time": "2024-09-19T15:45:15.771Z"
   },
   {
    "duration": 5,
    "start_time": "2024-09-19T15:45:15.788Z"
   },
   {
    "duration": 54,
    "start_time": "2024-09-19T15:45:15.795Z"
   },
   {
    "duration": 17,
    "start_time": "2024-09-19T15:45:15.851Z"
   },
   {
    "duration": 21,
    "start_time": "2024-09-19T15:45:15.869Z"
   },
   {
    "duration": 32,
    "start_time": "2024-09-19T15:45:15.891Z"
   },
   {
    "duration": 17,
    "start_time": "2024-09-19T15:45:15.925Z"
   },
   {
    "duration": 9,
    "start_time": "2024-09-19T15:45:15.944Z"
   },
   {
    "duration": 7,
    "start_time": "2024-09-19T15:45:15.955Z"
   },
   {
    "duration": 13,
    "start_time": "2024-09-19T15:45:15.964Z"
   },
   {
    "duration": 42,
    "start_time": "2024-09-19T15:45:15.978Z"
   },
   {
    "duration": 27,
    "start_time": "2024-09-19T15:45:16.023Z"
   },
   {
    "duration": 66,
    "start_time": "2024-09-19T15:45:16.052Z"
   },
   {
    "duration": 17,
    "start_time": "2024-09-19T15:45:16.120Z"
   },
   {
    "duration": 599,
    "start_time": "2024-09-19T15:45:16.139Z"
   },
   {
    "duration": 20,
    "start_time": "2024-09-19T15:45:16.740Z"
   },
   {
    "duration": 1313,
    "start_time": "2024-09-19T15:45:16.761Z"
   },
   {
    "duration": 34,
    "start_time": "2024-09-19T15:45:18.076Z"
   },
   {
    "duration": 20,
    "start_time": "2024-09-19T15:45:18.112Z"
   },
   {
    "duration": 1806,
    "start_time": "2024-09-19T15:45:18.134Z"
   },
   {
    "duration": 314,
    "start_time": "2024-09-19T15:45:19.942Z"
   },
   {
    "duration": 114,
    "start_time": "2024-09-19T15:45:20.258Z"
   },
   {
    "duration": 0,
    "start_time": "2024-09-19T15:45:20.375Z"
   },
   {
    "duration": 0,
    "start_time": "2024-09-19T15:45:20.376Z"
   },
   {
    "duration": 0,
    "start_time": "2024-09-19T15:45:20.377Z"
   },
   {
    "duration": 0,
    "start_time": "2024-09-19T15:45:20.378Z"
   },
   {
    "duration": 0,
    "start_time": "2024-09-19T15:45:20.379Z"
   },
   {
    "duration": 0,
    "start_time": "2024-09-19T15:45:20.380Z"
   },
   {
    "duration": 0,
    "start_time": "2024-09-19T15:45:20.381Z"
   },
   {
    "duration": 0,
    "start_time": "2024-09-19T15:45:20.382Z"
   },
   {
    "duration": 0,
    "start_time": "2024-09-19T15:45:20.383Z"
   },
   {
    "duration": 0,
    "start_time": "2024-09-19T15:45:20.384Z"
   },
   {
    "duration": 0,
    "start_time": "2024-09-19T15:45:20.385Z"
   },
   {
    "duration": 0,
    "start_time": "2024-09-19T15:45:20.386Z"
   },
   {
    "duration": 0,
    "start_time": "2024-09-19T15:45:20.387Z"
   },
   {
    "duration": 0,
    "start_time": "2024-09-19T15:45:20.405Z"
   },
   {
    "duration": 0,
    "start_time": "2024-09-19T15:45:20.406Z"
   },
   {
    "duration": 0,
    "start_time": "2024-09-19T15:45:20.407Z"
   },
   {
    "duration": 0,
    "start_time": "2024-09-19T15:45:20.408Z"
   },
   {
    "duration": 0,
    "start_time": "2024-09-19T15:45:20.409Z"
   },
   {
    "duration": 0,
    "start_time": "2024-09-19T15:45:20.410Z"
   },
   {
    "duration": 0,
    "start_time": "2024-09-19T15:45:20.411Z"
   },
   {
    "duration": 0,
    "start_time": "2024-09-19T15:45:20.412Z"
   },
   {
    "duration": 0,
    "start_time": "2024-09-19T15:45:20.413Z"
   },
   {
    "duration": 0,
    "start_time": "2024-09-19T15:45:20.414Z"
   },
   {
    "duration": 0,
    "start_time": "2024-09-19T15:45:20.415Z"
   },
   {
    "duration": 0,
    "start_time": "2024-09-19T15:45:20.416Z"
   },
   {
    "duration": 0,
    "start_time": "2024-09-19T15:45:20.417Z"
   },
   {
    "duration": 0,
    "start_time": "2024-09-19T15:45:20.418Z"
   },
   {
    "duration": 0,
    "start_time": "2024-09-19T15:45:20.419Z"
   },
   {
    "duration": 1172,
    "start_time": "2024-09-19T15:45:50.435Z"
   },
   {
    "duration": 1094,
    "start_time": "2024-09-19T15:46:48.069Z"
   },
   {
    "duration": 1094,
    "start_time": "2024-09-19T15:47:03.824Z"
   },
   {
    "duration": 95,
    "start_time": "2024-09-19T15:47:27.495Z"
   },
   {
    "duration": 1145,
    "start_time": "2024-09-19T15:47:34.119Z"
   },
   {
    "duration": 10,
    "start_time": "2024-09-19T15:47:47.160Z"
   },
   {
    "duration": 1190,
    "start_time": "2024-09-19T15:47:52.722Z"
   },
   {
    "duration": 1177,
    "start_time": "2024-09-19T15:48:21.637Z"
   },
   {
    "duration": 1343,
    "start_time": "2024-09-19T15:48:49.192Z"
   },
   {
    "duration": 60,
    "start_time": "2024-09-19T15:48:50.537Z"
   },
   {
    "duration": 21,
    "start_time": "2024-09-19T15:48:50.598Z"
   },
   {
    "duration": 16,
    "start_time": "2024-09-19T15:48:50.621Z"
   },
   {
    "duration": 30,
    "start_time": "2024-09-19T15:48:50.638Z"
   },
   {
    "duration": 36,
    "start_time": "2024-09-19T15:48:50.670Z"
   },
   {
    "duration": 65,
    "start_time": "2024-09-19T15:48:50.708Z"
   },
   {
    "duration": 21,
    "start_time": "2024-09-19T15:48:50.775Z"
   },
   {
    "duration": 5,
    "start_time": "2024-09-19T15:48:50.798Z"
   },
   {
    "duration": 33,
    "start_time": "2024-09-19T15:48:50.805Z"
   },
   {
    "duration": 18,
    "start_time": "2024-09-19T15:48:50.840Z"
   },
   {
    "duration": 61,
    "start_time": "2024-09-19T15:48:50.860Z"
   },
   {
    "duration": 16,
    "start_time": "2024-09-19T15:48:50.923Z"
   },
   {
    "duration": 6,
    "start_time": "2024-09-19T15:48:50.941Z"
   },
   {
    "duration": 24,
    "start_time": "2024-09-19T15:48:50.948Z"
   },
   {
    "duration": 6,
    "start_time": "2024-09-19T15:48:50.974Z"
   },
   {
    "duration": 91,
    "start_time": "2024-09-19T15:48:50.981Z"
   },
   {
    "duration": 21,
    "start_time": "2024-09-19T15:48:51.073Z"
   },
   {
    "duration": 13,
    "start_time": "2024-09-19T15:48:51.096Z"
   },
   {
    "duration": 20,
    "start_time": "2024-09-19T15:48:51.112Z"
   },
   {
    "duration": 9,
    "start_time": "2024-09-19T15:48:51.133Z"
   },
   {
    "duration": 23,
    "start_time": "2024-09-19T15:48:51.144Z"
   },
   {
    "duration": 16,
    "start_time": "2024-09-19T15:48:51.169Z"
   },
   {
    "duration": 28,
    "start_time": "2024-09-19T15:48:51.186Z"
   },
   {
    "duration": 24,
    "start_time": "2024-09-19T15:48:51.216Z"
   },
   {
    "duration": 9,
    "start_time": "2024-09-19T15:48:51.241Z"
   },
   {
    "duration": 431,
    "start_time": "2024-09-19T15:48:51.251Z"
   },
   {
    "duration": 26,
    "start_time": "2024-09-19T15:48:51.686Z"
   },
   {
    "duration": 1323,
    "start_time": "2024-09-19T15:48:51.714Z"
   },
   {
    "duration": 24,
    "start_time": "2024-09-19T15:48:53.039Z"
   },
   {
    "duration": 31,
    "start_time": "2024-09-19T15:48:53.065Z"
   },
   {
    "duration": 1736,
    "start_time": "2024-09-19T15:48:53.098Z"
   },
   {
    "duration": 308,
    "start_time": "2024-09-19T15:48:54.836Z"
   },
   {
    "duration": 1199,
    "start_time": "2024-09-19T15:48:55.146Z"
   },
   {
    "duration": 0,
    "start_time": "2024-09-19T15:48:56.347Z"
   },
   {
    "duration": 0,
    "start_time": "2024-09-19T15:48:56.349Z"
   },
   {
    "duration": 0,
    "start_time": "2024-09-19T15:48:56.351Z"
   },
   {
    "duration": 0,
    "start_time": "2024-09-19T15:48:56.352Z"
   },
   {
    "duration": 0,
    "start_time": "2024-09-19T15:48:56.353Z"
   },
   {
    "duration": 0,
    "start_time": "2024-09-19T15:48:56.355Z"
   },
   {
    "duration": 0,
    "start_time": "2024-09-19T15:48:56.357Z"
   },
   {
    "duration": 0,
    "start_time": "2024-09-19T15:48:56.358Z"
   },
   {
    "duration": 0,
    "start_time": "2024-09-19T15:48:56.360Z"
   },
   {
    "duration": 0,
    "start_time": "2024-09-19T15:48:56.362Z"
   },
   {
    "duration": 0,
    "start_time": "2024-09-19T15:48:56.363Z"
   },
   {
    "duration": 0,
    "start_time": "2024-09-19T15:48:56.364Z"
   },
   {
    "duration": 0,
    "start_time": "2024-09-19T15:48:56.366Z"
   },
   {
    "duration": 0,
    "start_time": "2024-09-19T15:48:56.368Z"
   },
   {
    "duration": 0,
    "start_time": "2024-09-19T15:48:56.369Z"
   },
   {
    "duration": 0,
    "start_time": "2024-09-19T15:48:56.371Z"
   },
   {
    "duration": 0,
    "start_time": "2024-09-19T15:48:56.373Z"
   },
   {
    "duration": 0,
    "start_time": "2024-09-19T15:48:56.374Z"
   },
   {
    "duration": 0,
    "start_time": "2024-09-19T15:48:56.375Z"
   },
   {
    "duration": 0,
    "start_time": "2024-09-19T15:48:56.377Z"
   },
   {
    "duration": 0,
    "start_time": "2024-09-19T15:48:56.379Z"
   },
   {
    "duration": 0,
    "start_time": "2024-09-19T15:48:56.380Z"
   },
   {
    "duration": 0,
    "start_time": "2024-09-19T15:48:56.382Z"
   },
   {
    "duration": 0,
    "start_time": "2024-09-19T15:48:56.383Z"
   },
   {
    "duration": 0,
    "start_time": "2024-09-19T15:48:56.385Z"
   },
   {
    "duration": 0,
    "start_time": "2024-09-19T15:48:56.404Z"
   },
   {
    "duration": 0,
    "start_time": "2024-09-19T15:48:56.406Z"
   },
   {
    "duration": 0,
    "start_time": "2024-09-19T15:48:56.407Z"
   },
   {
    "duration": 1591,
    "start_time": "2024-09-19T15:49:21.730Z"
   },
   {
    "duration": 106,
    "start_time": "2024-09-19T15:51:49.384Z"
   },
   {
    "duration": 13,
    "start_time": "2024-09-19T15:51:55.382Z"
   },
   {
    "duration": 1931,
    "start_time": "2024-09-19T15:54:19.394Z"
   },
   {
    "duration": 12,
    "start_time": "2024-09-19T15:59:34.874Z"
   },
   {
    "duration": 4485,
    "start_time": "2024-09-19T16:00:08.960Z"
   },
   {
    "duration": 1963,
    "start_time": "2024-09-19T16:00:21.873Z"
   },
   {
    "duration": 10,
    "start_time": "2024-09-19T16:01:35.838Z"
   },
   {
    "duration": 1486,
    "start_time": "2024-09-19T16:01:44.394Z"
   },
   {
    "duration": 10,
    "start_time": "2024-09-19T16:02:25.098Z"
   },
   {
    "duration": 11,
    "start_time": "2024-09-19T16:02:49.246Z"
   },
   {
    "duration": 14,
    "start_time": "2024-09-19T16:02:57.654Z"
   },
   {
    "duration": 85,
    "start_time": "2024-09-19T16:03:13.129Z"
   },
   {
    "duration": 10,
    "start_time": "2024-09-19T16:03:18.967Z"
   },
   {
    "duration": 10,
    "start_time": "2024-09-19T16:04:26.632Z"
   },
   {
    "duration": 10,
    "start_time": "2024-09-19T16:04:42.637Z"
   },
   {
    "duration": 9,
    "start_time": "2024-09-19T16:04:49.408Z"
   },
   {
    "duration": 1676,
    "start_time": "2024-09-19T16:05:38.085Z"
   },
   {
    "duration": 698,
    "start_time": "2024-09-19T16:06:43.640Z"
   },
   {
    "duration": 13,
    "start_time": "2024-09-19T16:06:59.811Z"
   },
   {
    "duration": 85,
    "start_time": "2024-09-19T16:08:37.750Z"
   },
   {
    "duration": 77,
    "start_time": "2024-09-19T16:08:49.560Z"
   },
   {
    "duration": 79,
    "start_time": "2024-09-19T16:09:12.346Z"
   },
   {
    "duration": 114,
    "start_time": "2024-09-19T16:09:25.668Z"
   },
   {
    "duration": 11,
    "start_time": "2024-09-19T16:09:37.315Z"
   },
   {
    "duration": 12,
    "start_time": "2024-09-19T16:09:46.809Z"
   },
   {
    "duration": 12,
    "start_time": "2024-09-19T16:09:57.651Z"
   },
   {
    "duration": 11,
    "start_time": "2024-09-19T16:10:19.255Z"
   },
   {
    "duration": 1480,
    "start_time": "2024-09-19T16:11:23.206Z"
   },
   {
    "duration": 13,
    "start_time": "2024-09-19T16:11:50.602Z"
   },
   {
    "duration": 12,
    "start_time": "2024-09-19T16:12:03.969Z"
   },
   {
    "duration": 11,
    "start_time": "2024-09-19T16:12:11.429Z"
   },
   {
    "duration": 12,
    "start_time": "2024-09-19T16:12:22.817Z"
   },
   {
    "duration": 10,
    "start_time": "2024-09-19T16:12:29.361Z"
   },
   {
    "duration": 1585,
    "start_time": "2024-09-19T16:12:44.171Z"
   },
   {
    "duration": 19,
    "start_time": "2024-09-19T16:13:06.833Z"
   },
   {
    "duration": 1231,
    "start_time": "2024-09-19T16:15:31.781Z"
   },
   {
    "duration": 1151,
    "start_time": "2024-09-19T16:16:11.409Z"
   },
   {
    "duration": 1081,
    "start_time": "2024-09-19T16:16:28.255Z"
   },
   {
    "duration": 1133,
    "start_time": "2024-09-19T16:16:44.571Z"
   },
   {
    "duration": 1092,
    "start_time": "2024-09-19T16:18:29.872Z"
   },
   {
    "duration": 76,
    "start_time": "2024-09-19T16:21:59.371Z"
   },
   {
    "duration": 79,
    "start_time": "2024-09-19T16:22:21.035Z"
   },
   {
    "duration": 101,
    "start_time": "2024-09-19T16:22:29.514Z"
   },
   {
    "duration": 79,
    "start_time": "2024-09-19T16:22:56.927Z"
   },
   {
    "duration": 498,
    "start_time": "2024-09-19T16:23:11.729Z"
   },
   {
    "duration": 92,
    "start_time": "2024-09-19T16:23:32.369Z"
   },
   {
    "duration": 73,
    "start_time": "2024-09-19T16:24:51.572Z"
   },
   {
    "duration": 78,
    "start_time": "2024-09-19T16:25:24.748Z"
   },
   {
    "duration": 1503,
    "start_time": "2024-09-19T16:26:02.767Z"
   },
   {
    "duration": 1483,
    "start_time": "2024-09-19T16:26:41.159Z"
   },
   {
    "duration": 1633,
    "start_time": "2024-09-19T16:27:01.966Z"
   },
   {
    "duration": 17,
    "start_time": "2024-09-19T16:43:14.785Z"
   },
   {
    "duration": 331,
    "start_time": "2024-09-19T16:44:16.358Z"
   },
   {
    "duration": 9,
    "start_time": "2024-09-19T16:45:05.165Z"
   },
   {
    "duration": 1533,
    "start_time": "2024-09-19T16:45:35.909Z"
   },
   {
    "duration": 1645,
    "start_time": "2024-09-19T16:48:20.729Z"
   },
   {
    "duration": 79,
    "start_time": "2024-09-19T16:48:49.457Z"
   },
   {
    "duration": 1548,
    "start_time": "2024-09-19T16:48:55.298Z"
   },
   {
    "duration": 1881,
    "start_time": "2024-09-19T16:49:28.204Z"
   },
   {
    "duration": 1341,
    "start_time": "2024-09-19T16:50:48.180Z"
   },
   {
    "duration": 60,
    "start_time": "2024-09-19T16:50:49.523Z"
   },
   {
    "duration": 20,
    "start_time": "2024-09-19T16:50:49.584Z"
   },
   {
    "duration": 16,
    "start_time": "2024-09-19T16:50:49.606Z"
   },
   {
    "duration": 29,
    "start_time": "2024-09-19T16:50:49.623Z"
   },
   {
    "duration": 14,
    "start_time": "2024-09-19T16:50:49.654Z"
   },
   {
    "duration": 58,
    "start_time": "2024-09-19T16:50:49.670Z"
   },
   {
    "duration": 21,
    "start_time": "2024-09-19T16:50:49.729Z"
   },
   {
    "duration": 6,
    "start_time": "2024-09-19T16:50:49.752Z"
   },
   {
    "duration": 49,
    "start_time": "2024-09-19T16:50:49.761Z"
   },
   {
    "duration": 10,
    "start_time": "2024-09-19T16:50:49.812Z"
   },
   {
    "duration": 94,
    "start_time": "2024-09-19T16:50:49.824Z"
   },
   {
    "duration": 19,
    "start_time": "2024-09-19T16:50:49.920Z"
   },
   {
    "duration": 6,
    "start_time": "2024-09-19T16:50:49.941Z"
   },
   {
    "duration": 20,
    "start_time": "2024-09-19T16:50:49.949Z"
   },
   {
    "duration": 67,
    "start_time": "2024-09-19T16:50:49.971Z"
   },
   {
    "duration": 22,
    "start_time": "2024-09-19T16:50:50.040Z"
   },
   {
    "duration": 14,
    "start_time": "2024-09-19T16:50:50.063Z"
   },
   {
    "duration": 22,
    "start_time": "2024-09-19T16:50:50.078Z"
   },
   {
    "duration": 29,
    "start_time": "2024-09-19T16:50:50.101Z"
   },
   {
    "duration": 24,
    "start_time": "2024-09-19T16:50:50.132Z"
   },
   {
    "duration": 6,
    "start_time": "2024-09-19T16:50:50.158Z"
   },
   {
    "duration": 8,
    "start_time": "2024-09-19T16:50:50.166Z"
   },
   {
    "duration": 34,
    "start_time": "2024-09-19T16:50:50.175Z"
   },
   {
    "duration": 15,
    "start_time": "2024-09-19T16:50:50.211Z"
   },
   {
    "duration": 8,
    "start_time": "2024-09-19T16:50:50.228Z"
   },
   {
    "duration": 406,
    "start_time": "2024-09-19T16:50:50.237Z"
   },
   {
    "duration": 16,
    "start_time": "2024-09-19T16:50:50.647Z"
   },
   {
    "duration": 1303,
    "start_time": "2024-09-19T16:50:50.665Z"
   },
   {
    "duration": 23,
    "start_time": "2024-09-19T16:50:51.970Z"
   },
   {
    "duration": 38,
    "start_time": "2024-09-19T16:50:51.994Z"
   },
   {
    "duration": 1685,
    "start_time": "2024-09-19T16:50:52.034Z"
   },
   {
    "duration": 289,
    "start_time": "2024-09-19T16:50:53.721Z"
   },
   {
    "duration": 1490,
    "start_time": "2024-09-19T16:50:54.011Z"
   },
   {
    "duration": 15,
    "start_time": "2024-09-19T16:50:55.503Z"
   },
   {
    "duration": 13,
    "start_time": "2024-09-19T16:50:55.520Z"
   },
   {
    "duration": 14,
    "start_time": "2024-09-19T16:50:55.535Z"
   },
   {
    "duration": 19,
    "start_time": "2024-09-19T16:50:55.550Z"
   },
   {
    "duration": 15,
    "start_time": "2024-09-19T16:50:55.570Z"
   },
   {
    "duration": 32,
    "start_time": "2024-09-19T16:50:55.586Z"
   },
   {
    "duration": 209,
    "start_time": "2024-09-19T16:50:55.619Z"
   },
   {
    "duration": 550,
    "start_time": "2024-09-19T16:50:55.829Z"
   },
   {
    "duration": 13,
    "start_time": "2024-09-19T16:50:56.381Z"
   },
   {
    "duration": 122,
    "start_time": "2024-09-19T16:50:56.405Z"
   },
   {
    "duration": 15,
    "start_time": "2024-09-19T16:50:56.529Z"
   },
   {
    "duration": 120,
    "start_time": "2024-09-19T16:50:56.545Z"
   },
   {
    "duration": 14,
    "start_time": "2024-09-19T16:50:56.667Z"
   },
   {
    "duration": 145,
    "start_time": "2024-09-19T16:50:56.683Z"
   },
   {
    "duration": 15,
    "start_time": "2024-09-19T16:50:56.830Z"
   },
   {
    "duration": 131,
    "start_time": "2024-09-19T16:50:56.847Z"
   },
   {
    "duration": 13,
    "start_time": "2024-09-19T16:50:56.980Z"
   },
   {
    "duration": 118,
    "start_time": "2024-09-19T16:50:56.995Z"
   },
   {
    "duration": 13,
    "start_time": "2024-09-19T16:50:57.114Z"
   },
   {
    "duration": 122,
    "start_time": "2024-09-19T16:50:57.129Z"
   },
   {
    "duration": 15,
    "start_time": "2024-09-19T16:50:57.253Z"
   },
   {
    "duration": 173,
    "start_time": "2024-09-19T16:50:57.270Z"
   },
   {
    "duration": 14,
    "start_time": "2024-09-19T16:50:57.444Z"
   },
   {
    "duration": 132,
    "start_time": "2024-09-19T16:50:57.459Z"
   },
   {
    "duration": 21,
    "start_time": "2024-09-19T16:50:57.592Z"
   },
   {
    "duration": 121,
    "start_time": "2024-09-19T16:50:57.615Z"
   },
   {
    "duration": 8,
    "start_time": "2024-09-19T16:50:57.737Z"
   },
   {
    "duration": 15,
    "start_time": "2024-09-19T16:50:57.747Z"
   },
   {
    "duration": 114,
    "start_time": "2024-09-19T16:52:27.549Z"
   },
   {
    "duration": 1541,
    "start_time": "2024-09-19T16:52:47.973Z"
   },
   {
    "duration": 23,
    "start_time": "2024-09-19T16:53:02.396Z"
   },
   {
    "duration": 16,
    "start_time": "2024-09-19T16:53:06.117Z"
   },
   {
    "duration": 1526,
    "start_time": "2024-09-19T16:53:26.958Z"
   },
   {
    "duration": 1888,
    "start_time": "2024-09-19T17:00:45.812Z"
   },
   {
    "duration": 1349,
    "start_time": "2024-09-19T17:01:21.588Z"
   },
   {
    "duration": 59,
    "start_time": "2024-09-19T17:01:22.940Z"
   },
   {
    "duration": 20,
    "start_time": "2024-09-19T17:01:23.004Z"
   },
   {
    "duration": 16,
    "start_time": "2024-09-19T17:01:23.026Z"
   },
   {
    "duration": 45,
    "start_time": "2024-09-19T17:01:23.043Z"
   },
   {
    "duration": 17,
    "start_time": "2024-09-19T17:01:23.089Z"
   },
   {
    "duration": 22,
    "start_time": "2024-09-19T17:01:23.108Z"
   },
   {
    "duration": 20,
    "start_time": "2024-09-19T17:01:23.132Z"
   },
   {
    "duration": 5,
    "start_time": "2024-09-19T17:01:23.155Z"
   },
   {
    "duration": 51,
    "start_time": "2024-09-19T17:01:23.161Z"
   },
   {
    "duration": 10,
    "start_time": "2024-09-19T17:01:23.214Z"
   },
   {
    "duration": 54,
    "start_time": "2024-09-19T17:01:23.226Z"
   },
   {
    "duration": 32,
    "start_time": "2024-09-19T17:01:23.282Z"
   },
   {
    "duration": 6,
    "start_time": "2024-09-19T17:01:23.316Z"
   },
   {
    "duration": 15,
    "start_time": "2024-09-19T17:01:23.323Z"
   },
   {
    "duration": 6,
    "start_time": "2024-09-19T17:01:23.339Z"
   },
   {
    "duration": 93,
    "start_time": "2024-09-19T17:01:23.347Z"
   },
   {
    "duration": 8,
    "start_time": "2024-09-19T17:01:23.442Z"
   },
   {
    "duration": 13,
    "start_time": "2024-09-19T17:01:23.452Z"
   },
   {
    "duration": 17,
    "start_time": "2024-09-19T17:01:23.466Z"
   },
   {
    "duration": 8,
    "start_time": "2024-09-19T17:01:23.485Z"
   },
   {
    "duration": 6,
    "start_time": "2024-09-19T17:01:23.495Z"
   },
   {
    "duration": 8,
    "start_time": "2024-09-19T17:01:23.503Z"
   },
   {
    "duration": 24,
    "start_time": "2024-09-19T17:01:23.512Z"
   },
   {
    "duration": 19,
    "start_time": "2024-09-19T17:01:23.538Z"
   },
   {
    "duration": 10,
    "start_time": "2024-09-19T17:01:23.559Z"
   },
   {
    "duration": 473,
    "start_time": "2024-09-19T17:01:23.574Z"
   },
   {
    "duration": 17,
    "start_time": "2024-09-19T17:01:24.049Z"
   },
   {
    "duration": 1302,
    "start_time": "2024-09-19T17:01:24.068Z"
   },
   {
    "duration": 36,
    "start_time": "2024-09-19T17:01:25.372Z"
   },
   {
    "duration": 22,
    "start_time": "2024-09-19T17:01:25.410Z"
   },
   {
    "duration": 1792,
    "start_time": "2024-09-19T17:01:25.434Z"
   },
   {
    "duration": 327,
    "start_time": "2024-09-19T17:01:27.228Z"
   },
   {
    "duration": 1660,
    "start_time": "2024-09-19T17:01:27.557Z"
   },
   {
    "duration": 16,
    "start_time": "2024-09-19T17:01:29.219Z"
   },
   {
    "duration": 52,
    "start_time": "2024-09-19T17:01:29.237Z"
   },
   {
    "duration": 2005,
    "start_time": "2024-09-19T17:01:29.290Z"
   },
   {
    "duration": 19,
    "start_time": "2024-09-19T17:01:31.297Z"
   },
   {
    "duration": 16,
    "start_time": "2024-09-19T17:01:31.317Z"
   },
   {
    "duration": 17,
    "start_time": "2024-09-19T17:01:31.334Z"
   },
   {
    "duration": 13,
    "start_time": "2024-09-19T17:01:31.353Z"
   },
   {
    "duration": 240,
    "start_time": "2024-09-19T17:01:31.367Z"
   },
   {
    "duration": 418,
    "start_time": "2024-09-19T17:01:31.610Z"
   },
   {
    "duration": 16,
    "start_time": "2024-09-19T17:01:32.030Z"
   },
   {
    "duration": 137,
    "start_time": "2024-09-19T17:01:32.048Z"
   },
   {
    "duration": 26,
    "start_time": "2024-09-19T17:01:32.187Z"
   },
   {
    "duration": 136,
    "start_time": "2024-09-19T17:01:32.215Z"
   },
   {
    "duration": 19,
    "start_time": "2024-09-19T17:01:32.354Z"
   },
   {
    "duration": 137,
    "start_time": "2024-09-19T17:01:32.375Z"
   },
   {
    "duration": 15,
    "start_time": "2024-09-19T17:01:32.514Z"
   },
   {
    "duration": 248,
    "start_time": "2024-09-19T17:01:32.531Z"
   },
   {
    "duration": 15,
    "start_time": "2024-09-19T17:01:32.780Z"
   },
   {
    "duration": 137,
    "start_time": "2024-09-19T17:01:32.805Z"
   },
   {
    "duration": 15,
    "start_time": "2024-09-19T17:01:32.943Z"
   },
   {
    "duration": 150,
    "start_time": "2024-09-19T17:01:32.959Z"
   },
   {
    "duration": 15,
    "start_time": "2024-09-19T17:01:33.111Z"
   },
   {
    "duration": 128,
    "start_time": "2024-09-19T17:01:33.128Z"
   },
   {
    "duration": 15,
    "start_time": "2024-09-19T17:01:33.258Z"
   },
   {
    "duration": 131,
    "start_time": "2024-09-19T17:01:33.274Z"
   },
   {
    "duration": 14,
    "start_time": "2024-09-19T17:01:33.407Z"
   },
   {
    "duration": 135,
    "start_time": "2024-09-19T17:01:33.422Z"
   },
   {
    "duration": 8,
    "start_time": "2024-09-19T17:01:33.558Z"
   },
   {
    "duration": 10,
    "start_time": "2024-09-19T17:01:33.568Z"
   },
   {
    "duration": 1773,
    "start_time": "2024-09-19T17:03:25.586Z"
   },
   {
    "duration": 103,
    "start_time": "2024-09-19T17:03:49.727Z"
   },
   {
    "duration": 1682,
    "start_time": "2024-09-19T17:03:59.696Z"
   },
   {
    "duration": 1617,
    "start_time": "2024-09-19T17:04:32.646Z"
   },
   {
    "duration": 1448,
    "start_time": "2024-09-19T17:04:40.916Z"
   },
   {
    "duration": 1612,
    "start_time": "2024-09-19T17:05:09.387Z"
   },
   {
    "duration": 1486,
    "start_time": "2024-09-19T17:05:18.352Z"
   },
   {
    "duration": 1469,
    "start_time": "2024-09-19T17:05:35.410Z"
   },
   {
    "duration": 1674,
    "start_time": "2024-09-19T17:07:19.928Z"
   },
   {
    "duration": 1563,
    "start_time": "2024-09-19T17:08:16.182Z"
   },
   {
    "duration": 1546,
    "start_time": "2024-09-19T17:10:48.642Z"
   },
   {
    "duration": 1468,
    "start_time": "2024-09-19T17:11:30.696Z"
   },
   {
    "duration": 1325,
    "start_time": "2024-09-19T18:14:08.603Z"
   },
   {
    "duration": 60,
    "start_time": "2024-09-19T18:14:09.930Z"
   },
   {
    "duration": 21,
    "start_time": "2024-09-19T18:14:09.991Z"
   },
   {
    "duration": 17,
    "start_time": "2024-09-19T18:14:10.014Z"
   },
   {
    "duration": 45,
    "start_time": "2024-09-19T18:14:10.032Z"
   },
   {
    "duration": 14,
    "start_time": "2024-09-19T18:14:10.079Z"
   },
   {
    "duration": 39,
    "start_time": "2024-09-19T18:14:10.095Z"
   },
   {
    "duration": 40,
    "start_time": "2024-09-19T18:14:10.136Z"
   },
   {
    "duration": 56,
    "start_time": "2024-09-19T18:14:10.178Z"
   },
   {
    "duration": 31,
    "start_time": "2024-09-19T18:14:10.237Z"
   },
   {
    "duration": 24,
    "start_time": "2024-09-19T18:14:10.269Z"
   },
   {
    "duration": 57,
    "start_time": "2024-09-19T18:14:10.294Z"
   },
   {
    "duration": 14,
    "start_time": "2024-09-19T18:14:10.353Z"
   },
   {
    "duration": 21,
    "start_time": "2024-09-19T18:14:10.369Z"
   },
   {
    "duration": 31,
    "start_time": "2024-09-19T18:14:10.392Z"
   },
   {
    "duration": 12,
    "start_time": "2024-09-19T18:14:10.425Z"
   },
   {
    "duration": 13,
    "start_time": "2024-09-19T18:14:10.439Z"
   },
   {
    "duration": 9,
    "start_time": "2024-09-19T18:14:10.454Z"
   },
   {
    "duration": 12,
    "start_time": "2024-09-19T18:14:10.465Z"
   },
   {
    "duration": 14,
    "start_time": "2024-09-19T18:14:10.478Z"
   },
   {
    "duration": 14,
    "start_time": "2024-09-19T18:14:10.494Z"
   },
   {
    "duration": 8,
    "start_time": "2024-09-19T18:14:10.510Z"
   },
   {
    "duration": 17,
    "start_time": "2024-09-19T18:14:10.520Z"
   },
   {
    "duration": 22,
    "start_time": "2024-09-19T18:14:10.538Z"
   },
   {
    "duration": 64,
    "start_time": "2024-09-19T18:14:10.562Z"
   },
   {
    "duration": 16,
    "start_time": "2024-09-19T18:14:10.628Z"
   },
   {
    "duration": 459,
    "start_time": "2024-09-19T18:14:10.646Z"
   },
   {
    "duration": 17,
    "start_time": "2024-09-19T18:14:11.109Z"
   },
   {
    "duration": 1365,
    "start_time": "2024-09-19T18:14:11.128Z"
   },
   {
    "duration": 29,
    "start_time": "2024-09-19T18:14:12.494Z"
   },
   {
    "duration": 14,
    "start_time": "2024-09-19T18:14:12.525Z"
   },
   {
    "duration": 1739,
    "start_time": "2024-09-19T18:14:12.540Z"
   },
   {
    "duration": 286,
    "start_time": "2024-09-19T18:14:14.280Z"
   },
   {
    "duration": 1577,
    "start_time": "2024-09-19T18:14:14.568Z"
   },
   {
    "duration": 16,
    "start_time": "2024-09-19T18:14:16.147Z"
   },
   {
    "duration": 27,
    "start_time": "2024-09-19T18:14:16.164Z"
   },
   {
    "duration": 1648,
    "start_time": "2024-09-19T18:14:16.193Z"
   },
   {
    "duration": 14,
    "start_time": "2024-09-19T18:14:17.843Z"
   },
   {
    "duration": 1502,
    "start_time": "2024-09-19T18:14:17.859Z"
   },
   {
    "duration": 17,
    "start_time": "2024-09-19T18:14:19.362Z"
   },
   {
    "duration": 1526,
    "start_time": "2024-09-19T18:14:19.380Z"
   },
   {
    "duration": 15,
    "start_time": "2024-09-19T18:14:20.908Z"
   },
   {
    "duration": 1505,
    "start_time": "2024-09-19T18:14:20.925Z"
   },
   {
    "duration": 15,
    "start_time": "2024-09-19T18:14:22.432Z"
   },
   {
    "duration": 218,
    "start_time": "2024-09-19T18:14:22.449Z"
   },
   {
    "duration": 396,
    "start_time": "2024-09-19T18:14:22.669Z"
   },
   {
    "duration": 14,
    "start_time": "2024-09-19T18:14:23.067Z"
   },
   {
    "duration": 224,
    "start_time": "2024-09-19T18:14:23.083Z"
   },
   {
    "duration": 14,
    "start_time": "2024-09-19T18:14:23.309Z"
   },
   {
    "duration": 129,
    "start_time": "2024-09-19T18:14:23.325Z"
   },
   {
    "duration": 14,
    "start_time": "2024-09-19T18:14:23.456Z"
   },
   {
    "duration": 129,
    "start_time": "2024-09-19T18:14:23.471Z"
   },
   {
    "duration": 16,
    "start_time": "2024-09-19T18:14:23.601Z"
   },
   {
    "duration": 198,
    "start_time": "2024-09-19T18:14:23.619Z"
   },
   {
    "duration": 14,
    "start_time": "2024-09-19T18:14:23.819Z"
   },
   {
    "duration": 131,
    "start_time": "2024-09-19T18:14:23.835Z"
   },
   {
    "duration": 14,
    "start_time": "2024-09-19T18:14:23.968Z"
   },
   {
    "duration": 111,
    "start_time": "2024-09-19T18:14:23.984Z"
   },
   {
    "duration": 20,
    "start_time": "2024-09-19T18:14:24.097Z"
   },
   {
    "duration": 118,
    "start_time": "2024-09-19T18:14:24.119Z"
   },
   {
    "duration": 14,
    "start_time": "2024-09-19T18:14:24.239Z"
   },
   {
    "duration": 125,
    "start_time": "2024-09-19T18:14:24.255Z"
   },
   {
    "duration": 14,
    "start_time": "2024-09-19T18:14:24.382Z"
   },
   {
    "duration": 104,
    "start_time": "2024-09-19T18:14:24.405Z"
   },
   {
    "duration": 6,
    "start_time": "2024-09-19T18:14:24.511Z"
   },
   {
    "duration": 8,
    "start_time": "2024-09-19T18:14:24.518Z"
   },
   {
    "duration": 1391,
    "start_time": "2024-09-19T18:30:36.685Z"
   },
   {
    "duration": 59,
    "start_time": "2024-09-19T18:30:38.078Z"
   },
   {
    "duration": 21,
    "start_time": "2024-09-19T18:30:38.139Z"
   },
   {
    "duration": 27,
    "start_time": "2024-09-19T18:30:38.162Z"
   },
   {
    "duration": 73,
    "start_time": "2024-09-19T18:30:38.190Z"
   },
   {
    "duration": 14,
    "start_time": "2024-09-19T18:30:38.265Z"
   },
   {
    "duration": 42,
    "start_time": "2024-09-19T18:30:38.281Z"
   },
   {
    "duration": 21,
    "start_time": "2024-09-19T18:30:38.325Z"
   },
   {
    "duration": 6,
    "start_time": "2024-09-19T18:30:38.347Z"
   },
   {
    "duration": 31,
    "start_time": "2024-09-19T18:30:38.356Z"
   },
   {
    "duration": 24,
    "start_time": "2024-09-19T18:30:38.390Z"
   },
   {
    "duration": 64,
    "start_time": "2024-09-19T18:30:38.416Z"
   },
   {
    "duration": 28,
    "start_time": "2024-09-19T18:30:38.482Z"
   },
   {
    "duration": 6,
    "start_time": "2024-09-19T18:30:38.512Z"
   },
   {
    "duration": 37,
    "start_time": "2024-09-19T18:30:38.520Z"
   },
   {
    "duration": 9,
    "start_time": "2024-09-19T18:30:38.559Z"
   },
   {
    "duration": 32,
    "start_time": "2024-09-19T18:30:38.570Z"
   },
   {
    "duration": 12,
    "start_time": "2024-09-19T18:30:38.604Z"
   },
   {
    "duration": 12,
    "start_time": "2024-09-19T18:30:38.618Z"
   },
   {
    "duration": 30,
    "start_time": "2024-09-19T18:30:38.631Z"
   },
   {
    "duration": 17,
    "start_time": "2024-09-19T18:30:38.663Z"
   },
   {
    "duration": 28,
    "start_time": "2024-09-19T18:30:38.682Z"
   },
   {
    "duration": 25,
    "start_time": "2024-09-19T18:30:38.711Z"
   },
   {
    "duration": 35,
    "start_time": "2024-09-19T18:30:38.738Z"
   },
   {
    "duration": 17,
    "start_time": "2024-09-19T18:30:38.774Z"
   },
   {
    "duration": 39,
    "start_time": "2024-09-19T18:30:38.793Z"
   },
   {
    "duration": 451,
    "start_time": "2024-09-19T18:30:38.834Z"
   },
   {
    "duration": 25,
    "start_time": "2024-09-19T18:30:39.289Z"
   },
   {
    "duration": 1616,
    "start_time": "2024-09-19T18:30:39.316Z"
   },
   {
    "duration": 25,
    "start_time": "2024-09-19T18:30:40.935Z"
   },
   {
    "duration": 24,
    "start_time": "2024-09-19T18:30:40.962Z"
   },
   {
    "duration": 1762,
    "start_time": "2024-09-19T18:30:40.988Z"
   },
   {
    "duration": 307,
    "start_time": "2024-09-19T18:30:42.752Z"
   },
   {
    "duration": 1269,
    "start_time": "2024-09-19T19:02:04.993Z"
   },
   {
    "duration": 54,
    "start_time": "2024-09-19T19:02:06.264Z"
   },
   {
    "duration": 19,
    "start_time": "2024-09-19T19:02:06.322Z"
   },
   {
    "duration": 17,
    "start_time": "2024-09-19T19:02:06.342Z"
   },
   {
    "duration": 31,
    "start_time": "2024-09-19T19:02:06.361Z"
   },
   {
    "duration": 13,
    "start_time": "2024-09-19T19:02:06.393Z"
   },
   {
    "duration": 21,
    "start_time": "2024-09-19T19:02:06.408Z"
   },
   {
    "duration": 19,
    "start_time": "2024-09-19T19:02:06.430Z"
   },
   {
    "duration": 26,
    "start_time": "2024-09-19T19:02:06.452Z"
   },
   {
    "duration": 33,
    "start_time": "2024-09-19T19:02:06.480Z"
   },
   {
    "duration": 11,
    "start_time": "2024-09-19T19:02:06.514Z"
   },
   {
    "duration": 57,
    "start_time": "2024-09-19T19:02:06.526Z"
   },
   {
    "duration": 12,
    "start_time": "2024-09-19T19:02:06.585Z"
   },
   {
    "duration": 5,
    "start_time": "2024-09-19T19:02:06.598Z"
   },
   {
    "duration": 50,
    "start_time": "2024-09-19T19:02:06.605Z"
   },
   {
    "duration": 5,
    "start_time": "2024-09-19T19:02:06.657Z"
   },
   {
    "duration": 11,
    "start_time": "2024-09-19T19:02:06.663Z"
   },
   {
    "duration": 21,
    "start_time": "2024-09-19T19:02:06.675Z"
   },
   {
    "duration": 8,
    "start_time": "2024-09-19T19:02:06.698Z"
   },
   {
    "duration": 10,
    "start_time": "2024-09-19T19:02:06.708Z"
   },
   {
    "duration": 25,
    "start_time": "2024-09-19T19:02:06.719Z"
   },
   {
    "duration": 14,
    "start_time": "2024-09-19T19:02:06.745Z"
   },
   {
    "duration": 6,
    "start_time": "2024-09-19T19:02:06.761Z"
   },
   {
    "duration": 21,
    "start_time": "2024-09-19T19:02:06.769Z"
   },
   {
    "duration": 15,
    "start_time": "2024-09-19T19:02:06.792Z"
   },
   {
    "duration": 47,
    "start_time": "2024-09-19T19:02:06.808Z"
   },
   {
    "duration": 397,
    "start_time": "2024-09-19T19:02:06.858Z"
   },
   {
    "duration": 25,
    "start_time": "2024-09-19T19:02:07.256Z"
   },
   {
    "duration": 1197,
    "start_time": "2024-09-19T19:02:07.282Z"
   },
   {
    "duration": 21,
    "start_time": "2024-09-19T19:02:08.481Z"
   },
   {
    "duration": 13,
    "start_time": "2024-09-19T19:02:08.503Z"
   },
   {
    "duration": 1606,
    "start_time": "2024-09-19T19:02:08.517Z"
   },
   {
    "duration": 263,
    "start_time": "2024-09-19T19:02:10.125Z"
   },
   {
    "duration": 1411,
    "start_time": "2024-09-19T19:02:10.389Z"
   },
   {
    "duration": 15,
    "start_time": "2024-09-19T19:02:11.802Z"
   },
   {
    "duration": 15,
    "start_time": "2024-09-19T19:02:11.818Z"
   },
   {
    "duration": 1545,
    "start_time": "2024-09-19T19:02:11.835Z"
   },
   {
    "duration": 15,
    "start_time": "2024-09-19T19:02:13.382Z"
   },
   {
    "duration": 1419,
    "start_time": "2024-09-19T19:02:13.399Z"
   },
   {
    "duration": 15,
    "start_time": "2024-09-19T19:02:14.820Z"
   },
   {
    "duration": 1447,
    "start_time": "2024-09-19T19:02:14.837Z"
   },
   {
    "duration": 14,
    "start_time": "2024-09-19T19:02:16.285Z"
   },
   {
    "duration": 1346,
    "start_time": "2024-09-19T19:02:16.300Z"
   },
   {
    "duration": 12,
    "start_time": "2024-09-19T19:02:17.648Z"
   },
   {
    "duration": 202,
    "start_time": "2024-09-19T19:02:17.675Z"
   },
   {
    "duration": 365,
    "start_time": "2024-09-19T19:02:17.879Z"
   },
   {
    "duration": 14,
    "start_time": "2024-09-19T19:02:18.246Z"
   },
   {
    "duration": 217,
    "start_time": "2024-09-19T19:02:18.261Z"
   },
   {
    "duration": 14,
    "start_time": "2024-09-19T19:02:18.479Z"
   },
   {
    "duration": 124,
    "start_time": "2024-09-19T19:02:18.494Z"
   },
   {
    "duration": 12,
    "start_time": "2024-09-19T19:02:18.620Z"
   },
   {
    "duration": 109,
    "start_time": "2024-09-19T19:02:18.634Z"
   },
   {
    "duration": 14,
    "start_time": "2024-09-19T19:02:18.745Z"
   },
   {
    "duration": 117,
    "start_time": "2024-09-19T19:02:18.760Z"
   },
   {
    "duration": 13,
    "start_time": "2024-09-19T19:02:18.879Z"
   },
   {
    "duration": 124,
    "start_time": "2024-09-19T19:02:18.893Z"
   },
   {
    "duration": 13,
    "start_time": "2024-09-19T19:02:19.019Z"
   },
   {
    "duration": 158,
    "start_time": "2024-09-19T19:02:19.034Z"
   },
   {
    "duration": 14,
    "start_time": "2024-09-19T19:02:19.193Z"
   },
   {
    "duration": 118,
    "start_time": "2024-09-19T19:02:19.208Z"
   },
   {
    "duration": 15,
    "start_time": "2024-09-19T19:02:19.327Z"
   },
   {
    "duration": 149,
    "start_time": "2024-09-19T19:02:19.343Z"
   },
   {
    "duration": 14,
    "start_time": "2024-09-19T19:02:19.493Z"
   },
   {
    "duration": 109,
    "start_time": "2024-09-19T19:02:19.508Z"
   },
   {
    "duration": 7,
    "start_time": "2024-09-19T19:02:19.619Z"
   },
   {
    "duration": 8,
    "start_time": "2024-09-19T19:02:19.627Z"
   },
   {
    "duration": 54,
    "start_time": "2025-02-11T19:52:40.475Z"
   }
  ],
  "kernelspec": {
   "display_name": "Python [conda env:practicum]",
   "language": "python",
   "name": "conda-env-practicum-py"
  },
  "language_info": {
   "codemirror_mode": {
    "name": "ipython",
    "version": 3
   },
   "file_extension": ".py",
   "mimetype": "text/x-python",
   "name": "python",
   "nbconvert_exporter": "python",
   "pygments_lexer": "ipython3",
   "version": "3.9.19"
  },
  "toc": {
   "base_numbering": 1,
   "nav_menu": {},
   "number_sections": true,
   "sideBar": true,
   "skip_h1_title": true,
   "title_cell": "Table of Contents",
   "title_sidebar": "Contents",
   "toc_cell": false,
   "toc_position": {},
   "toc_section_display": true,
   "toc_window_display": false
  }
 },
 "nbformat": 4,
 "nbformat_minor": 4
}
