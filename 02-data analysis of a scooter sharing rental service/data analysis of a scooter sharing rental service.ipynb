{
 "cells": [
  {
   "cell_type": "markdown",
   "id": "5f606634",
   "metadata": {},
   "source": [
    "# Проект: \"Статистический анализ данных сервиса аренды самокатов\"\n"
   ]
  },
  {
   "cell_type": "markdown",
   "id": "81250e5a-1430-4a13-a8c2-92948eae8e4e",
   "metadata": {},
   "source": [
    "   Мне передали данные о некоторых пользователях из нескольких городов, а также об их поездках. Проанализирую данные и проверю некоторые гипотезы, которые могут помочь бизнесу вырасти.\n",
    "   Чтобы совершать поездки по городу, пользователи сервиса аренды самокатов GoFast пользуются мобильным приложением. Сервисом можно пользоваться:\n",
    " - без подписки\n",
    "    - абонентская плата отсутствует;\n",
    "    - стоимость одной минуты поездки - 88 рублей;\n",
    "    - стоимость старта (начала поездки) — 50 рублей;\n",
    " - с подпиской Ultra\n",
    "    - абонентская плата — 199 рублей в месяц;\n",
    "    - стоимость одной минуты поездки — 66 рублей;\n",
    "    - стоимость старта — бесплатно.\n",
    "\n",
    "**Описание данных**\n",
    "\n",
    "   В основных данных есть информация о пользователях, их поездках и подписках.\n",
    "   \n",
    "<div style=\"text-align: center; font-weight: bold;\">\n",
    "Пользователи\n",
    "</div>\n",
    "   \n",
    "|Столбец 1|Столбец 2|\n",
    "|---------|---------|\n",
    "|user_id|уникальный идентификатор пользователя|\n",
    "|name|имя пользователя|\n",
    "|age|возраст|\n",
    "|city|город|\n",
    "|subscription_type|тип подписки (free, ultra)|\n",
    "\n",
    "\n",
    "<div style=\"text-align: center; font-weight: bold;\">\n",
    "Поездки\n",
    "</div>\n",
    "\n",
    "|Столбец 1|Столбец 2|\n",
    "|---------|---------|\n",
    "|user_id|уникальный идентификатор пользователя|\n",
    "|distance|расстояние, которое пользователь проехал в текущей сессии (в метрах)|\n",
    "|duration|продолжительность сессии (в минутах) — время с того момента, как пользователь нажал кнопку «Начать поездку» до момента, как он нажал кнопку «Завершить поездку»|\n",
    "|date|дата совершения поездки|\n",
    "\n",
    "\n",
    "<div style=\"text-align: center; font-weight: bold;\">\n",
    "Подписки\n",
    "</div>\n",
    "\n",
    "|Столбец 1|Столбец 2|\n",
    "|---------|---------|\n",
    "|subscription_type|тип подписки|\n",
    "|minute_price|стоимость одной минуты поездки по данной подписке|\n",
    "|start_ride_price|стоимость начала поездки|\n",
    "|subscription_fee|стоимость ежемесячного платежа|"
   ]
  },
  {
   "cell_type": "code",
   "execution_count": 1,
   "id": "72576667",
   "metadata": {},
   "outputs": [],
   "source": [
    "# импорт библиотек\n",
    "import pandas as pd\n",
    "import matplotlib.pyplot as plt\n",
    "import seaborn as sns\n",
    "import numpy as np\n",
    "from scipy import stats as st"
   ]
  },
  {
   "cell_type": "markdown",
   "id": "c42cbe00",
   "metadata": {},
   "source": [
    "## Загрузка данных"
   ]
  },
  {
   "cell_type": "markdown",
   "id": "c53dd880",
   "metadata": {},
   "source": [
    "### Считаем CSV-файлы с данными с помощью библиотеки pandas и сохраним их в датафреймы"
   ]
  },
  {
   "cell_type": "code",
   "execution_count": 2,
   "id": "08c3ea0a",
   "metadata": {},
   "outputs": [],
   "source": [
    "data_users = pd.read_csv('/Users/numberone/Documents/Projects/datasets/users_go.csv')\n",
    "data_rides = pd.read_csv('/Users/numberone/Documents/Projects/datasets/rides_go.csv')\n",
    "data_subscriptions = pd.read_csv('/Users/numberone/Documents/Projects/datasets/subscriptions_go.csv')"
   ]
  },
  {
   "cell_type": "markdown",
   "id": "17202e28",
   "metadata": {},
   "source": [
    "### Общая информация о каждом датафрейме"
   ]
  },
  {
   "cell_type": "code",
   "execution_count": 3,
   "id": "b6135bc7",
   "metadata": {},
   "outputs": [
    {
     "data": {
      "text/html": [
       "<div>\n",
       "<style scoped>\n",
       "    .dataframe tbody tr th:only-of-type {\n",
       "        vertical-align: middle;\n",
       "    }\n",
       "\n",
       "    .dataframe tbody tr th {\n",
       "        vertical-align: top;\n",
       "    }\n",
       "\n",
       "    .dataframe thead th {\n",
       "        text-align: right;\n",
       "    }\n",
       "</style>\n",
       "<table border=\"1\" class=\"dataframe\">\n",
       "  <thead>\n",
       "    <tr style=\"text-align: right;\">\n",
       "      <th></th>\n",
       "      <th>user_id</th>\n",
       "      <th>name</th>\n",
       "      <th>age</th>\n",
       "      <th>city</th>\n",
       "      <th>subscription_type</th>\n",
       "    </tr>\n",
       "  </thead>\n",
       "  <tbody>\n",
       "    <tr>\n",
       "      <th>0</th>\n",
       "      <td>1</td>\n",
       "      <td>Кира</td>\n",
       "      <td>22</td>\n",
       "      <td>Тюмень</td>\n",
       "      <td>ultra</td>\n",
       "    </tr>\n",
       "    <tr>\n",
       "      <th>1</th>\n",
       "      <td>2</td>\n",
       "      <td>Станислав</td>\n",
       "      <td>31</td>\n",
       "      <td>Омск</td>\n",
       "      <td>ultra</td>\n",
       "    </tr>\n",
       "    <tr>\n",
       "      <th>2</th>\n",
       "      <td>3</td>\n",
       "      <td>Алексей</td>\n",
       "      <td>20</td>\n",
       "      <td>Москва</td>\n",
       "      <td>ultra</td>\n",
       "    </tr>\n",
       "    <tr>\n",
       "      <th>3</th>\n",
       "      <td>4</td>\n",
       "      <td>Константин</td>\n",
       "      <td>26</td>\n",
       "      <td>Ростов-на-Дону</td>\n",
       "      <td>ultra</td>\n",
       "    </tr>\n",
       "    <tr>\n",
       "      <th>4</th>\n",
       "      <td>5</td>\n",
       "      <td>Адель</td>\n",
       "      <td>28</td>\n",
       "      <td>Омск</td>\n",
       "      <td>ultra</td>\n",
       "    </tr>\n",
       "    <tr>\n",
       "      <th>5</th>\n",
       "      <td>6</td>\n",
       "      <td>Регина</td>\n",
       "      <td>25</td>\n",
       "      <td>Краснодар</td>\n",
       "      <td>ultra</td>\n",
       "    </tr>\n",
       "    <tr>\n",
       "      <th>6</th>\n",
       "      <td>7</td>\n",
       "      <td>Игорь</td>\n",
       "      <td>23</td>\n",
       "      <td>Омск</td>\n",
       "      <td>ultra</td>\n",
       "    </tr>\n",
       "    <tr>\n",
       "      <th>7</th>\n",
       "      <td>8</td>\n",
       "      <td>Юрий</td>\n",
       "      <td>23</td>\n",
       "      <td>Краснодар</td>\n",
       "      <td>ultra</td>\n",
       "    </tr>\n",
       "    <tr>\n",
       "      <th>8</th>\n",
       "      <td>9</td>\n",
       "      <td>Ян</td>\n",
       "      <td>21</td>\n",
       "      <td>Пятигорск</td>\n",
       "      <td>ultra</td>\n",
       "    </tr>\n",
       "    <tr>\n",
       "      <th>9</th>\n",
       "      <td>10</td>\n",
       "      <td>Валерий</td>\n",
       "      <td>18</td>\n",
       "      <td>Екатеринбург</td>\n",
       "      <td>ultra</td>\n",
       "    </tr>\n",
       "  </tbody>\n",
       "</table>\n",
       "</div>"
      ],
      "text/plain": [
       "   user_id        name  age            city subscription_type\n",
       "0        1        Кира   22          Тюмень             ultra\n",
       "1        2   Станислав   31            Омск             ultra\n",
       "2        3     Алексей   20          Москва             ultra\n",
       "3        4  Константин   26  Ростов-на-Дону             ultra\n",
       "4        5       Адель   28            Омск             ultra\n",
       "5        6      Регина   25       Краснодар             ultra\n",
       "6        7       Игорь   23            Омск             ultra\n",
       "7        8        Юрий   23       Краснодар             ultra\n",
       "8        9          Ян   21       Пятигорск             ultra\n",
       "9       10     Валерий   18    Екатеринбург             ultra"
      ]
     },
     "metadata": {},
     "output_type": "display_data"
    },
    {
     "data": {
      "text/html": [
       "<div>\n",
       "<style scoped>\n",
       "    .dataframe tbody tr th:only-of-type {\n",
       "        vertical-align: middle;\n",
       "    }\n",
       "\n",
       "    .dataframe tbody tr th {\n",
       "        vertical-align: top;\n",
       "    }\n",
       "\n",
       "    .dataframe thead th {\n",
       "        text-align: right;\n",
       "    }\n",
       "</style>\n",
       "<table border=\"1\" class=\"dataframe\">\n",
       "  <thead>\n",
       "    <tr style=\"text-align: right;\">\n",
       "      <th></th>\n",
       "      <th>user_id</th>\n",
       "      <th>distance</th>\n",
       "      <th>duration</th>\n",
       "      <th>date</th>\n",
       "    </tr>\n",
       "  </thead>\n",
       "  <tbody>\n",
       "    <tr>\n",
       "      <th>0</th>\n",
       "      <td>1</td>\n",
       "      <td>4409.919140</td>\n",
       "      <td>25.599769</td>\n",
       "      <td>2021-01-01</td>\n",
       "    </tr>\n",
       "    <tr>\n",
       "      <th>1</th>\n",
       "      <td>1</td>\n",
       "      <td>2617.592153</td>\n",
       "      <td>15.816871</td>\n",
       "      <td>2021-01-18</td>\n",
       "    </tr>\n",
       "    <tr>\n",
       "      <th>2</th>\n",
       "      <td>1</td>\n",
       "      <td>754.159807</td>\n",
       "      <td>6.232113</td>\n",
       "      <td>2021-04-20</td>\n",
       "    </tr>\n",
       "    <tr>\n",
       "      <th>3</th>\n",
       "      <td>1</td>\n",
       "      <td>2694.783254</td>\n",
       "      <td>18.511000</td>\n",
       "      <td>2021-08-11</td>\n",
       "    </tr>\n",
       "    <tr>\n",
       "      <th>4</th>\n",
       "      <td>1</td>\n",
       "      <td>4028.687306</td>\n",
       "      <td>26.265803</td>\n",
       "      <td>2021-08-28</td>\n",
       "    </tr>\n",
       "    <tr>\n",
       "      <th>5</th>\n",
       "      <td>1</td>\n",
       "      <td>2770.890808</td>\n",
       "      <td>16.650138</td>\n",
       "      <td>2021-10-09</td>\n",
       "    </tr>\n",
       "    <tr>\n",
       "      <th>6</th>\n",
       "      <td>1</td>\n",
       "      <td>3039.020292</td>\n",
       "      <td>14.927879</td>\n",
       "      <td>2021-10-19</td>\n",
       "    </tr>\n",
       "    <tr>\n",
       "      <th>7</th>\n",
       "      <td>1</td>\n",
       "      <td>2842.118050</td>\n",
       "      <td>23.117468</td>\n",
       "      <td>2021-11-06</td>\n",
       "    </tr>\n",
       "    <tr>\n",
       "      <th>8</th>\n",
       "      <td>1</td>\n",
       "      <td>3412.690668</td>\n",
       "      <td>15.238072</td>\n",
       "      <td>2021-11-14</td>\n",
       "    </tr>\n",
       "    <tr>\n",
       "      <th>9</th>\n",
       "      <td>1</td>\n",
       "      <td>748.690645</td>\n",
       "      <td>15.041884</td>\n",
       "      <td>2021-11-22</td>\n",
       "    </tr>\n",
       "  </tbody>\n",
       "</table>\n",
       "</div>"
      ],
      "text/plain": [
       "   user_id     distance   duration        date\n",
       "0        1  4409.919140  25.599769  2021-01-01\n",
       "1        1  2617.592153  15.816871  2021-01-18\n",
       "2        1   754.159807   6.232113  2021-04-20\n",
       "3        1  2694.783254  18.511000  2021-08-11\n",
       "4        1  4028.687306  26.265803  2021-08-28\n",
       "5        1  2770.890808  16.650138  2021-10-09\n",
       "6        1  3039.020292  14.927879  2021-10-19\n",
       "7        1  2842.118050  23.117468  2021-11-06\n",
       "8        1  3412.690668  15.238072  2021-11-14\n",
       "9        1   748.690645  15.041884  2021-11-22"
      ]
     },
     "metadata": {},
     "output_type": "display_data"
    },
    {
     "data": {
      "text/html": [
       "<div>\n",
       "<style scoped>\n",
       "    .dataframe tbody tr th:only-of-type {\n",
       "        vertical-align: middle;\n",
       "    }\n",
       "\n",
       "    .dataframe tbody tr th {\n",
       "        vertical-align: top;\n",
       "    }\n",
       "\n",
       "    .dataframe thead th {\n",
       "        text-align: right;\n",
       "    }\n",
       "</style>\n",
       "<table border=\"1\" class=\"dataframe\">\n",
       "  <thead>\n",
       "    <tr style=\"text-align: right;\">\n",
       "      <th></th>\n",
       "      <th>subscription_type</th>\n",
       "      <th>minute_price</th>\n",
       "      <th>start_ride_price</th>\n",
       "      <th>subscription_fee</th>\n",
       "    </tr>\n",
       "  </thead>\n",
       "  <tbody>\n",
       "    <tr>\n",
       "      <th>0</th>\n",
       "      <td>free</td>\n",
       "      <td>8</td>\n",
       "      <td>50</td>\n",
       "      <td>0</td>\n",
       "    </tr>\n",
       "    <tr>\n",
       "      <th>1</th>\n",
       "      <td>ultra</td>\n",
       "      <td>6</td>\n",
       "      <td>0</td>\n",
       "      <td>199</td>\n",
       "    </tr>\n",
       "  </tbody>\n",
       "</table>\n",
       "</div>"
      ],
      "text/plain": [
       "  subscription_type  minute_price  start_ride_price  subscription_fee\n",
       "0              free             8                50                 0\n",
       "1             ultra             6                 0               199"
      ]
     },
     "execution_count": 3,
     "metadata": {},
     "output_type": "execute_result"
    }
   ],
   "source": [
    "# выведем первые 10 cтрок таблицы data_users\n",
    "display(data_users.head(10))\n",
    "\n",
    "# выведем первые 10 cтрок таблицы data_rides\n",
    "display(data_rides.head(10))\n",
    "\n",
    "# выведем первые 10 cтрок таблицы data_subscriptions\n",
    "data_subscriptions.head(10)"
   ]
  },
  {
   "cell_type": "code",
   "execution_count": 4,
   "id": "f3cd8c26",
   "metadata": {},
   "outputs": [
    {
     "name": "stdout",
     "output_type": "stream",
     "text": [
      "<class 'pandas.core.frame.DataFrame'>\n",
      "RangeIndex: 1565 entries, 0 to 1564\n",
      "Data columns (total 5 columns):\n",
      " #   Column             Non-Null Count  Dtype \n",
      "---  ------             --------------  ----- \n",
      " 0   user_id            1565 non-null   int64 \n",
      " 1   name               1565 non-null   object\n",
      " 2   age                1565 non-null   int64 \n",
      " 3   city               1565 non-null   object\n",
      " 4   subscription_type  1565 non-null   object\n",
      "dtypes: int64(2), object(3)\n",
      "memory usage: 61.3+ KB\n"
     ]
    },
    {
     "data": {
      "text/plain": [
       "None"
      ]
     },
     "metadata": {},
     "output_type": "display_data"
    },
    {
     "name": "stdout",
     "output_type": "stream",
     "text": [
      "<class 'pandas.core.frame.DataFrame'>\n",
      "RangeIndex: 18068 entries, 0 to 18067\n",
      "Data columns (total 4 columns):\n",
      " #   Column    Non-Null Count  Dtype  \n",
      "---  ------    --------------  -----  \n",
      " 0   user_id   18068 non-null  int64  \n",
      " 1   distance  18068 non-null  float64\n",
      " 2   duration  18068 non-null  float64\n",
      " 3   date      18068 non-null  object \n",
      "dtypes: float64(2), int64(1), object(1)\n",
      "memory usage: 564.8+ KB\n"
     ]
    },
    {
     "data": {
      "text/plain": [
       "None"
      ]
     },
     "metadata": {},
     "output_type": "display_data"
    },
    {
     "name": "stdout",
     "output_type": "stream",
     "text": [
      "<class 'pandas.core.frame.DataFrame'>\n",
      "RangeIndex: 2 entries, 0 to 1\n",
      "Data columns (total 4 columns):\n",
      " #   Column             Non-Null Count  Dtype \n",
      "---  ------             --------------  ----- \n",
      " 0   subscription_type  2 non-null      object\n",
      " 1   minute_price       2 non-null      int64 \n",
      " 2   start_ride_price   2 non-null      int64 \n",
      " 3   subscription_fee   2 non-null      int64 \n",
      "dtypes: int64(3), object(1)\n",
      "memory usage: 192.0+ bytes\n"
     ]
    }
   ],
   "source": [
    "# посмотрим общую информацию о каждом датафрейме\n",
    "display(data_users.info())\n",
    "display(data_rides.info())\n",
    "data_subscriptions.info()"
   ]
  },
  {
   "cell_type": "code",
   "execution_count": 5,
   "id": "922b8fc2",
   "metadata": {},
   "outputs": [
    {
     "data": {
      "image/png": "[encoded data removed]",
      "text/plain": [
       "<Figure size 640x480 with 1 Axes>"
      ]
     },
     "metadata": {},
     "output_type": "display_data"
    }
   ],
   "source": [
    "# построим гистограммы\n",
    "plt.hist(data_users['age'], bins = 15)\n",
    "plt.title('Возраст пользователей')\n",
    "plt.xlabel('лет')\n",
    "plt.ylabel('Количество пользователей')\n",
    "plt.grid()\n",
    "plt.show()"
   ]
  },
  {
   "cell_type": "code",
   "execution_count": 6,
   "id": "e777b2a4",
   "metadata": {},
   "outputs": [
    {
     "data": {
      "image/png": "[encoded data removed]",
      "text/plain": [
       "<Figure size 640x480 with 1 Axes>"
      ]
     },
     "metadata": {},
     "output_type": "display_data"
    }
   ],
   "source": [
    "plt.hist(data_rides['distance'], bins=15)\n",
    "plt.title('Расстояние')\n",
    "plt.xlabel('м')\n",
    "plt.ylabel('Количество пользователей')\n",
    "plt.grid()\n",
    "plt.show()"
   ]
  },
  {
   "cell_type": "code",
   "execution_count": 7,
   "id": "72670449",
   "metadata": {},
   "outputs": [
    {
     "data": {
      "image/png": "[encoded data removed]",
      "text/plain": [
       "<Figure size 640x480 with 1 Axes>"
      ]
     },
     "metadata": {},
     "output_type": "display_data"
    }
   ],
   "source": [
    "plt.hist(data_rides['duration'], bins=15)\n",
    "plt.title('Продолжительность')\n",
    "plt.xlabel('мин')\n",
    "plt.ylabel('Количество пользователей')\n",
    "plt.grid()\n",
    "plt.show()"
   ]
  },
  {
   "cell_type": "markdown",
   "id": "76dd80e7",
   "metadata": {},
   "source": [
    "**Вывод**\n",
    "1. Видим в данных data_users 1565 строк, 5 столбцов, вес датафрейма 61,3 Kб; столбцы user_id и age имеют тип данных - int64; cтолбцы name, city и subscription_type имеют тип данных - object.\n",
    "    Cогласно гистрограмме видим, что основные пользователи - возраста 20-30 лет.\n",
    "2. Видим в данных data_rides 18068 строк, 4 столбца, вес датафрейма 564,8 Кб; столбцы distance и duration имеют тип данных - float64 (изменим тип данных на целочисленный int64); столбец user_id имеет тип данных - int64; столбец date имеет тип данных - object (что неккоректно,  изменим на datetime64).\n",
    "    Cогласно гистограммам видим, что большинство пользователей проезжает в среднем в одной сессии 2000-4500 метров и продолжительностью в среднем - 10-27 минут.\n",
    "    Столбец с наименованием user_id является общим столбцом в данных о пользователях и поездках, поэтому их можно объединить для дальнейшего анализа.\n",
    "3. Видим в данных data_subscriptions 2 строки, 4 столбца, вес датафрейма 192 б; столбец subscription_type имеет тип данных - object; столбцы  minute_price, start_ride_price и subscription_fee имеют тип данных - int64."
   ]
  },
  {
   "cell_type": "markdown",
   "id": "e95ebca7",
   "metadata": {},
   "source": [
    "## Предобработка данных"
   ]
  },
  {
   "cell_type": "markdown",
   "id": "6577a638",
   "metadata": {},
   "source": [
    "### Изменение типа данных"
   ]
  },
  {
   "cell_type": "code",
   "execution_count": 8,
   "id": "9c428880",
   "metadata": {},
   "outputs": [
    {
     "data": {
      "text/plain": [
       "0   2021-01-01\n",
       "1   2021-01-18\n",
       "2   2021-04-20\n",
       "3   2021-08-11\n",
       "4   2021-08-28\n",
       "5   2021-10-09\n",
       "6   2021-10-19\n",
       "7   2021-11-06\n",
       "8   2021-11-14\n",
       "9   2021-11-22\n",
       "Name: date, dtype: datetime64[ns]"
      ]
     },
     "execution_count": 8,
     "metadata": {},
     "output_type": "execute_result"
    }
   ],
   "source": [
    "# преобразуем тип данных в столбце date на тип datetime64\n",
    "data_rides['date'] = pd.to_datetime(data_rides['date'])\n",
    "\n",
    "# проверим\n",
    "data_rides['date'].head(10)"
   ]
  },
  {
   "cell_type": "code",
   "execution_count": 9,
   "id": "27789804",
   "metadata": {},
   "outputs": [],
   "source": [
    "# округлим значения в столбцах distance и duration до целых в большую сторону и изменим тип данных на целочисленный\n",
    "data_rides['distance'] = np.ceil(data_rides['distance']).astype('int')\n",
    "data_rides['duration'] = np.ceil(data_rides['duration']).astype('int')"
   ]
  },
  {
   "cell_type": "code",
   "execution_count": 10,
   "id": "a57eafe9",
   "metadata": {},
   "outputs": [
    {
     "data": {
      "text/html": [
       "<div>\n",
       "<style scoped>\n",
       "    .dataframe tbody tr th:only-of-type {\n",
       "        vertical-align: middle;\n",
       "    }\n",
       "\n",
       "    .dataframe tbody tr th {\n",
       "        vertical-align: top;\n",
       "    }\n",
       "\n",
       "    .dataframe thead th {\n",
       "        text-align: right;\n",
       "    }\n",
       "</style>\n",
       "<table border=\"1\" class=\"dataframe\">\n",
       "  <thead>\n",
       "    <tr style=\"text-align: right;\">\n",
       "      <th></th>\n",
       "      <th>user_id</th>\n",
       "      <th>distance</th>\n",
       "      <th>duration</th>\n",
       "      <th>date</th>\n",
       "    </tr>\n",
       "  </thead>\n",
       "  <tbody>\n",
       "    <tr>\n",
       "      <th>0</th>\n",
       "      <td>1</td>\n",
       "      <td>4410</td>\n",
       "      <td>26</td>\n",
       "      <td>2021-01-01</td>\n",
       "    </tr>\n",
       "    <tr>\n",
       "      <th>1</th>\n",
       "      <td>1</td>\n",
       "      <td>2618</td>\n",
       "      <td>16</td>\n",
       "      <td>2021-01-18</td>\n",
       "    </tr>\n",
       "    <tr>\n",
       "      <th>2</th>\n",
       "      <td>1</td>\n",
       "      <td>755</td>\n",
       "      <td>7</td>\n",
       "      <td>2021-04-20</td>\n",
       "    </tr>\n",
       "    <tr>\n",
       "      <th>3</th>\n",
       "      <td>1</td>\n",
       "      <td>2695</td>\n",
       "      <td>19</td>\n",
       "      <td>2021-08-11</td>\n",
       "    </tr>\n",
       "    <tr>\n",
       "      <th>4</th>\n",
       "      <td>1</td>\n",
       "      <td>4029</td>\n",
       "      <td>27</td>\n",
       "      <td>2021-08-28</td>\n",
       "    </tr>\n",
       "    <tr>\n",
       "      <th>5</th>\n",
       "      <td>1</td>\n",
       "      <td>2771</td>\n",
       "      <td>17</td>\n",
       "      <td>2021-10-09</td>\n",
       "    </tr>\n",
       "    <tr>\n",
       "      <th>6</th>\n",
       "      <td>1</td>\n",
       "      <td>3040</td>\n",
       "      <td>15</td>\n",
       "      <td>2021-10-19</td>\n",
       "    </tr>\n",
       "    <tr>\n",
       "      <th>7</th>\n",
       "      <td>1</td>\n",
       "      <td>2843</td>\n",
       "      <td>24</td>\n",
       "      <td>2021-11-06</td>\n",
       "    </tr>\n",
       "    <tr>\n",
       "      <th>8</th>\n",
       "      <td>1</td>\n",
       "      <td>3413</td>\n",
       "      <td>16</td>\n",
       "      <td>2021-11-14</td>\n",
       "    </tr>\n",
       "    <tr>\n",
       "      <th>9</th>\n",
       "      <td>1</td>\n",
       "      <td>749</td>\n",
       "      <td>16</td>\n",
       "      <td>2021-11-22</td>\n",
       "    </tr>\n",
       "  </tbody>\n",
       "</table>\n",
       "</div>"
      ],
      "text/plain": [
       "   user_id  distance  duration       date\n",
       "0        1      4410        26 2021-01-01\n",
       "1        1      2618        16 2021-01-18\n",
       "2        1       755         7 2021-04-20\n",
       "3        1      2695        19 2021-08-11\n",
       "4        1      4029        27 2021-08-28\n",
       "5        1      2771        17 2021-10-09\n",
       "6        1      3040        15 2021-10-19\n",
       "7        1      2843        24 2021-11-06\n",
       "8        1      3413        16 2021-11-14\n",
       "9        1       749        16 2021-11-22"
      ]
     },
     "metadata": {},
     "output_type": "display_data"
    },
    {
     "name": "stdout",
     "output_type": "stream",
     "text": [
      "<class 'pandas.core.frame.DataFrame'>\n",
      "RangeIndex: 18068 entries, 0 to 18067\n",
      "Data columns (total 4 columns):\n",
      " #   Column    Non-Null Count  Dtype         \n",
      "---  ------    --------------  -----         \n",
      " 0   user_id   18068 non-null  int64         \n",
      " 1   distance  18068 non-null  int64         \n",
      " 2   duration  18068 non-null  int64         \n",
      " 3   date      18068 non-null  datetime64[ns]\n",
      "dtypes: datetime64[ns](1), int64(3)\n",
      "memory usage: 564.8 KB\n"
     ]
    }
   ],
   "source": [
    "# проверим\n",
    "display(data_rides.head(10))\n",
    "data_rides.info()"
   ]
  },
  {
   "cell_type": "markdown",
   "id": "7edf97c9",
   "metadata": {},
   "source": [
    "### Создание нового столбца с номером месяца на основе столбца date"
   ]
  },
  {
   "cell_type": "code",
   "execution_count": 11,
   "id": "f98aaf59",
   "metadata": {},
   "outputs": [
    {
     "data": {
      "text/plain": [
       "array([2021])"
      ]
     },
     "execution_count": 11,
     "metadata": {},
     "output_type": "execute_result"
    }
   ],
   "source": [
    "# проверим за какой период (в годах) представлены данные в столбце date\n",
    "data_rides['date'].dt.year.unique()"
   ]
  },
  {
   "cell_type": "code",
   "execution_count": 12,
   "id": "c05189d2",
   "metadata": {},
   "outputs": [
    {
     "data": {
      "text/html": [
       "<div>\n",
       "<style scoped>\n",
       "    .dataframe tbody tr th:only-of-type {\n",
       "        vertical-align: middle;\n",
       "    }\n",
       "\n",
       "    .dataframe tbody tr th {\n",
       "        vertical-align: top;\n",
       "    }\n",
       "\n",
       "    .dataframe thead th {\n",
       "        text-align: right;\n",
       "    }\n",
       "</style>\n",
       "<table border=\"1\" class=\"dataframe\">\n",
       "  <thead>\n",
       "    <tr style=\"text-align: right;\">\n",
       "      <th></th>\n",
       "      <th>user_id</th>\n",
       "      <th>distance</th>\n",
       "      <th>duration</th>\n",
       "      <th>date</th>\n",
       "      <th>month</th>\n",
       "    </tr>\n",
       "  </thead>\n",
       "  <tbody>\n",
       "    <tr>\n",
       "      <th>0</th>\n",
       "      <td>1</td>\n",
       "      <td>4410</td>\n",
       "      <td>26</td>\n",
       "      <td>2021-01-01</td>\n",
       "      <td>1</td>\n",
       "    </tr>\n",
       "    <tr>\n",
       "      <th>1</th>\n",
       "      <td>1</td>\n",
       "      <td>2618</td>\n",
       "      <td>16</td>\n",
       "      <td>2021-01-18</td>\n",
       "      <td>1</td>\n",
       "    </tr>\n",
       "    <tr>\n",
       "      <th>2</th>\n",
       "      <td>1</td>\n",
       "      <td>755</td>\n",
       "      <td>7</td>\n",
       "      <td>2021-04-20</td>\n",
       "      <td>4</td>\n",
       "    </tr>\n",
       "    <tr>\n",
       "      <th>3</th>\n",
       "      <td>1</td>\n",
       "      <td>2695</td>\n",
       "      <td>19</td>\n",
       "      <td>2021-08-11</td>\n",
       "      <td>8</td>\n",
       "    </tr>\n",
       "    <tr>\n",
       "      <th>4</th>\n",
       "      <td>1</td>\n",
       "      <td>4029</td>\n",
       "      <td>27</td>\n",
       "      <td>2021-08-28</td>\n",
       "      <td>8</td>\n",
       "    </tr>\n",
       "    <tr>\n",
       "      <th>5</th>\n",
       "      <td>1</td>\n",
       "      <td>2771</td>\n",
       "      <td>17</td>\n",
       "      <td>2021-10-09</td>\n",
       "      <td>10</td>\n",
       "    </tr>\n",
       "    <tr>\n",
       "      <th>6</th>\n",
       "      <td>1</td>\n",
       "      <td>3040</td>\n",
       "      <td>15</td>\n",
       "      <td>2021-10-19</td>\n",
       "      <td>10</td>\n",
       "    </tr>\n",
       "    <tr>\n",
       "      <th>7</th>\n",
       "      <td>1</td>\n",
       "      <td>2843</td>\n",
       "      <td>24</td>\n",
       "      <td>2021-11-06</td>\n",
       "      <td>11</td>\n",
       "    </tr>\n",
       "    <tr>\n",
       "      <th>8</th>\n",
       "      <td>1</td>\n",
       "      <td>3413</td>\n",
       "      <td>16</td>\n",
       "      <td>2021-11-14</td>\n",
       "      <td>11</td>\n",
       "    </tr>\n",
       "    <tr>\n",
       "      <th>9</th>\n",
       "      <td>1</td>\n",
       "      <td>749</td>\n",
       "      <td>16</td>\n",
       "      <td>2021-11-22</td>\n",
       "      <td>11</td>\n",
       "    </tr>\n",
       "  </tbody>\n",
       "</table>\n",
       "</div>"
      ],
      "text/plain": [
       "   user_id  distance  duration       date  month\n",
       "0        1      4410        26 2021-01-01      1\n",
       "1        1      2618        16 2021-01-18      1\n",
       "2        1       755         7 2021-04-20      4\n",
       "3        1      2695        19 2021-08-11      8\n",
       "4        1      4029        27 2021-08-28      8\n",
       "5        1      2771        17 2021-10-09     10\n",
       "6        1      3040        15 2021-10-19     10\n",
       "7        1      2843        24 2021-11-06     11\n",
       "8        1      3413        16 2021-11-14     11\n",
       "9        1       749        16 2021-11-22     11"
      ]
     },
     "execution_count": 12,
     "metadata": {},
     "output_type": "execute_result"
    }
   ],
   "source": [
    "# данные предоставлены только за один год, следовательно ошибок не будет, если добавим номер месяца\n",
    "data_rides['month'] = data_rides['date'].dt.month\n",
    "\n",
    "# проверим\n",
    "data_rides.head(10)"
   ]
  },
  {
   "cell_type": "markdown",
   "id": "1617b7c2",
   "metadata": {},
   "source": [
    "### Проверка наличия пропущенных значений и дубликатов в датафреймах. Обработка\n"
   ]
  },
  {
   "cell_type": "code",
   "execution_count": 13,
   "id": "d609b470",
   "metadata": {},
   "outputs": [
    {
     "name": "stdout",
     "output_type": "stream",
     "text": [
      "Количество пропущенных значений в data_users: 0\n",
      "Количество пропущенных значений в data_rides: 0\n",
      "Количество пропущенных значений в data_subscriptions: 0\n"
     ]
    }
   ],
   "source": [
    "# посчитаем количество пропущенных значений в датафреймах\n",
    "print(f'Количество пропущенных значений в data_users: {data_users.isna().sum().sum()}')\n",
    "print(f'Количество пропущенных значений в data_rides: {data_rides.isna().sum().sum()}')\n",
    "print(f'Количество пропущенных значений в data_subscriptions: {data_subscriptions.isna().sum().sum()}')"
   ]
  },
  {
   "cell_type": "code",
   "execution_count": 14,
   "id": "0c50b130",
   "metadata": {},
   "outputs": [
    {
     "name": "stdout",
     "output_type": "stream",
     "text": [
      "Количество явных дубликатов в data_users: 31\n",
      "Количество явных дубликатов в data_subscriptions: 0\n"
     ]
    }
   ],
   "source": [
    "# посчитаем количество явных дубликатов в датафреймах\n",
    "print(f'Количество явных дубликатов в data_users: {data_users.duplicated().sum()}')\n",
    "print(f'Количество явных дубликатов в data_subscriptions: {data_subscriptions.duplicated().sum()}')"
   ]
  },
  {
   "cell_type": "code",
   "execution_count": 15,
   "id": "1a39c7d6",
   "metadata": {},
   "outputs": [
    {
     "data": {
      "text/html": [
       "<div>\n",
       "<style scoped>\n",
       "    .dataframe tbody tr th:only-of-type {\n",
       "        vertical-align: middle;\n",
       "    }\n",
       "\n",
       "    .dataframe tbody tr th {\n",
       "        vertical-align: top;\n",
       "    }\n",
       "\n",
       "    .dataframe thead th {\n",
       "        text-align: right;\n",
       "    }\n",
       "</style>\n",
       "<table border=\"1\" class=\"dataframe\">\n",
       "  <thead>\n",
       "    <tr style=\"text-align: right;\">\n",
       "      <th></th>\n",
       "      <th>user_id</th>\n",
       "      <th>name</th>\n",
       "      <th>age</th>\n",
       "      <th>city</th>\n",
       "      <th>subscription_type</th>\n",
       "    </tr>\n",
       "  </thead>\n",
       "  <tbody>\n",
       "    <tr>\n",
       "      <th>15</th>\n",
       "      <td>16</td>\n",
       "      <td>Амалия</td>\n",
       "      <td>27</td>\n",
       "      <td>Краснодар</td>\n",
       "      <td>ultra</td>\n",
       "    </tr>\n",
       "    <tr>\n",
       "      <th>1535</th>\n",
       "      <td>16</td>\n",
       "      <td>Амалия</td>\n",
       "      <td>27</td>\n",
       "      <td>Краснодар</td>\n",
       "      <td>ultra</td>\n",
       "    </tr>\n",
       "    <tr>\n",
       "      <th>42</th>\n",
       "      <td>43</td>\n",
       "      <td>Стефания</td>\n",
       "      <td>22</td>\n",
       "      <td>Омск</td>\n",
       "      <td>ultra</td>\n",
       "    </tr>\n",
       "    <tr>\n",
       "      <th>1539</th>\n",
       "      <td>43</td>\n",
       "      <td>Стефания</td>\n",
       "      <td>22</td>\n",
       "      <td>Омск</td>\n",
       "      <td>ultra</td>\n",
       "    </tr>\n",
       "    <tr>\n",
       "      <th>1563</th>\n",
       "      <td>47</td>\n",
       "      <td>Юрий</td>\n",
       "      <td>28</td>\n",
       "      <td>Тюмень</td>\n",
       "      <td>ultra</td>\n",
       "    </tr>\n",
       "    <tr>\n",
       "      <th>...</th>\n",
       "      <td>...</td>\n",
       "      <td>...</td>\n",
       "      <td>...</td>\n",
       "      <td>...</td>\n",
       "      <td>...</td>\n",
       "    </tr>\n",
       "    <tr>\n",
       "      <th>1554</th>\n",
       "      <td>1198</td>\n",
       "      <td>Демид</td>\n",
       "      <td>29</td>\n",
       "      <td>Ростов-на-Дону</td>\n",
       "      <td>free</td>\n",
       "    </tr>\n",
       "    <tr>\n",
       "      <th>1558</th>\n",
       "      <td>1237</td>\n",
       "      <td>Евгения</td>\n",
       "      <td>23</td>\n",
       "      <td>Тюмень</td>\n",
       "      <td>free</td>\n",
       "    </tr>\n",
       "    <tr>\n",
       "      <th>1236</th>\n",
       "      <td>1237</td>\n",
       "      <td>Евгения</td>\n",
       "      <td>23</td>\n",
       "      <td>Тюмень</td>\n",
       "      <td>free</td>\n",
       "    </tr>\n",
       "    <tr>\n",
       "      <th>1544</th>\n",
       "      <td>1245</td>\n",
       "      <td>Регина</td>\n",
       "      <td>27</td>\n",
       "      <td>Пятигорск</td>\n",
       "      <td>free</td>\n",
       "    </tr>\n",
       "    <tr>\n",
       "      <th>1244</th>\n",
       "      <td>1245</td>\n",
       "      <td>Регина</td>\n",
       "      <td>27</td>\n",
       "      <td>Пятигорск</td>\n",
       "      <td>free</td>\n",
       "    </tr>\n",
       "  </tbody>\n",
       "</table>\n",
       "<p>62 rows × 5 columns</p>\n",
       "</div>"
      ],
      "text/plain": [
       "      user_id      name  age            city subscription_type\n",
       "15         16    Амалия   27       Краснодар             ultra\n",
       "1535       16    Амалия   27       Краснодар             ultra\n",
       "42         43  Стефания   22            Омск             ultra\n",
       "1539       43  Стефания   22            Омск             ultra\n",
       "1563       47      Юрий   28          Тюмень             ultra\n",
       "...       ...       ...  ...             ...               ...\n",
       "1554     1198     Демид   29  Ростов-на-Дону              free\n",
       "1558     1237   Евгения   23          Тюмень              free\n",
       "1236     1237   Евгения   23          Тюмень              free\n",
       "1544     1245    Регина   27       Пятигорск              free\n",
       "1244     1245    Регина   27       Пятигорск              free\n",
       "\n",
       "[62 rows x 5 columns]"
      ]
     },
     "execution_count": 15,
     "metadata": {},
     "output_type": "execute_result"
    }
   ],
   "source": [
    "# выведем дубликаты и их пары в отсортированном виде\n",
    "data_users[data_users.duplicated(keep=False)].sort_values(by='user_id')"
   ]
  },
  {
   "cell_type": "code",
   "execution_count": 16,
   "id": "e4df8cfb",
   "metadata": {},
   "outputs": [
    {
     "data": {
      "text/plain": [
       "0"
      ]
     },
     "execution_count": 16,
     "metadata": {},
     "output_type": "execute_result"
    }
   ],
   "source": [
    "# удалим явные дубликаты, оставив первую встретившуюся строку\n",
    "data_users = data_users.drop_duplicates(keep='first')\n",
    "\n",
    "# проверим\n",
    "data_users.duplicated().sum()"
   ]
  },
  {
   "cell_type": "markdown",
   "id": "743283ad",
   "metadata": {},
   "source": [
    "**Вывод**\n",
    "1. Создали новый столбец с номером месяца на основе столбца date.\n",
    "2. Пропущенных данных в таблица нет.\n",
    "2. Определили дубликаты и удалили их."
   ]
  },
  {
   "cell_type": "markdown",
   "id": "212593c7",
   "metadata": {},
   "source": [
    "## Исследовательский анализ данных"
   ]
  },
  {
   "cell_type": "markdown",
   "id": "1118fe89",
   "metadata": {},
   "source": [
    "### Частота встречаемости городов"
   ]
  },
  {
   "cell_type": "code",
   "execution_count": 17,
   "id": "862b4d61",
   "metadata": {},
   "outputs": [
    {
     "data": {
      "text/html": [
       "<div>\n",
       "<style scoped>\n",
       "    .dataframe tbody tr th:only-of-type {\n",
       "        vertical-align: middle;\n",
       "    }\n",
       "\n",
       "    .dataframe tbody tr th {\n",
       "        vertical-align: top;\n",
       "    }\n",
       "\n",
       "    .dataframe thead th {\n",
       "        text-align: right;\n",
       "    }\n",
       "</style>\n",
       "<table border=\"1\" class=\"dataframe\">\n",
       "  <thead>\n",
       "    <tr style=\"text-align: right;\">\n",
       "      <th></th>\n",
       "      <th>city</th>\n",
       "      <th>counts</th>\n",
       "      <th>percentage</th>\n",
       "    </tr>\n",
       "  </thead>\n",
       "  <tbody>\n",
       "    <tr>\n",
       "      <th>0</th>\n",
       "      <td>Пятигорск</td>\n",
       "      <td>219</td>\n",
       "      <td>14.0</td>\n",
       "    </tr>\n",
       "    <tr>\n",
       "      <th>1</th>\n",
       "      <td>Екатеринбург</td>\n",
       "      <td>204</td>\n",
       "      <td>13.0</td>\n",
       "    </tr>\n",
       "    <tr>\n",
       "      <th>2</th>\n",
       "      <td>Ростов-на-Дону</td>\n",
       "      <td>198</td>\n",
       "      <td>13.0</td>\n",
       "    </tr>\n",
       "    <tr>\n",
       "      <th>3</th>\n",
       "      <td>Краснодар</td>\n",
       "      <td>193</td>\n",
       "      <td>13.0</td>\n",
       "    </tr>\n",
       "    <tr>\n",
       "      <th>4</th>\n",
       "      <td>Сочи</td>\n",
       "      <td>189</td>\n",
       "      <td>12.0</td>\n",
       "    </tr>\n",
       "    <tr>\n",
       "      <th>5</th>\n",
       "      <td>Омск</td>\n",
       "      <td>183</td>\n",
       "      <td>12.0</td>\n",
       "    </tr>\n",
       "    <tr>\n",
       "      <th>6</th>\n",
       "      <td>Тюмень</td>\n",
       "      <td>180</td>\n",
       "      <td>12.0</td>\n",
       "    </tr>\n",
       "    <tr>\n",
       "      <th>7</th>\n",
       "      <td>Москва</td>\n",
       "      <td>168</td>\n",
       "      <td>11.0</td>\n",
       "    </tr>\n",
       "  </tbody>\n",
       "</table>\n",
       "</div>"
      ],
      "text/plain": [
       "             city  counts  percentage\n",
       "0       Пятигорск     219        14.0\n",
       "1    Екатеринбург     204        13.0\n",
       "2  Ростов-на-Дону     198        13.0\n",
       "3       Краснодар     193        13.0\n",
       "4            Сочи     189        12.0\n",
       "5            Омск     183        12.0\n",
       "6          Тюмень     180        12.0\n",
       "7          Москва     168        11.0"
      ]
     },
     "execution_count": 17,
     "metadata": {},
     "output_type": "execute_result"
    }
   ],
   "source": [
    "# создадим сводную таблицу, чтобы наглядно увидеть в каких городах больше всего пользователей и \n",
    "# их процентное соотношение (округленное до целых)\n",
    "(\n",
    "    data_users['city'].value_counts().reset_index().rename(columns={'index': 'city', 'city': 'counts'})\n",
    "    .assign(percentage=lambda x: (x['counts'] / len(data_users) * 100).round())\n",
    "    .sort_values(by='counts', ascending=False)\n",
    ")"
   ]
  },
  {
   "cell_type": "code",
   "execution_count": 18,
   "id": "097d535b",
   "metadata": {},
   "outputs": [
    {
     "data": {
      "image/png": "[encoded data removed]",
      "text/plain": [
       "<Figure size 1000x500 with 1 Axes>"
      ]
     },
     "metadata": {},
     "output_type": "display_data"
    }
   ],
   "source": [
    "# построим столбчатый график\n",
    "data_users['city'].value_counts().plot.bar(figsize=(10, 5), legend=True)\n",
    "plt.title('Количество пользователей в городе')\n",
    "plt.xlabel('City')\n",
    "plt.ylabel('Counts')\n",
    "plt.grid()\n",
    "plt.show()"
   ]
  },
  {
   "cell_type": "markdown",
   "id": "cfdcee63",
   "metadata": {},
   "source": [
    "### Cоотношение пользователей с подпиской и без подписки"
   ]
  },
  {
   "cell_type": "code",
   "execution_count": 19,
   "id": "4562c115",
   "metadata": {},
   "outputs": [
    {
     "name": "stdout",
     "output_type": "stream",
     "text": [
      "free     835\n",
      "ultra    699\n",
      "Name: subscription_type, dtype: int64\n"
     ]
    }
   ],
   "source": [
    "# посмотрим количество пользователей с подпиской и без\n",
    "count_subscription = data_users['subscription_type'].value_counts()\n",
    "print(count_subscription)"
   ]
  },
  {
   "cell_type": "code",
   "execution_count": 20,
   "id": "1a00dd71",
   "metadata": {},
   "outputs": [
    {
     "data": {
      "image/png": "[encoded data removed]",
      "text/plain": [
       "<Figure size 700x700 with 1 Axes>"
      ]
     },
     "metadata": {},
     "output_type": "display_data"
    }
   ],
   "source": [
    "# построим круговую диаграмму для более наглядного отображения\n",
    "data_users['subscription_type'].value_counts().plot(\n",
    "    kind = 'pie', \n",
    "    autopct = '%1.0f%%', \n",
    "    figsize=(7,7),\n",
    "    title = 'Процентное соотношение пользователей в зависимости от тарифа');"
   ]
  },
  {
   "cell_type": "markdown",
   "id": "6026773e",
   "metadata": {},
   "source": [
    "### Возраст пользователей"
   ]
  },
  {
   "cell_type": "code",
   "execution_count": 21,
   "id": "4532b950",
   "metadata": {},
   "outputs": [
    {
     "data": {
      "image/png": "[encoded data removed]",
      "text/plain": [
       "<Figure size 640x480 with 1 Axes>"
      ]
     },
     "metadata": {},
     "output_type": "display_data"
    }
   ],
   "source": [
    "# построим гистограмму\n",
    "plt.hist(data_users['age'], bins = 15)\n",
    "plt.title('Возраст пользователей')\n",
    "plt.xlabel('лет')\n",
    "plt.ylabel('Количество пользователей')\n",
    "plt.grid()\n",
    "plt.show()"
   ]
  },
  {
   "cell_type": "code",
   "execution_count": 22,
   "id": "c429bfcd",
   "metadata": {},
   "outputs": [
    {
     "data": {
      "text/plain": [
       "count    1534.000000\n",
       "mean       24.903520\n",
       "std         4.572367\n",
       "min        12.000000\n",
       "25%        22.000000\n",
       "50%        25.000000\n",
       "75%        28.000000\n",
       "max        43.000000\n",
       "Name: age, dtype: float64"
      ]
     },
     "execution_count": 22,
     "metadata": {},
     "output_type": "execute_result"
    }
   ],
   "source": [
    "# посмотрим описательную статистику\n",
    "data_users['age'].describe()"
   ]
  },
  {
   "cell_type": "markdown",
   "id": "b64aa405",
   "metadata": {},
   "source": [
    "### Расстояние, которое пользователь преодолел за одну поездку"
   ]
  },
  {
   "cell_type": "code",
   "execution_count": 23,
   "id": "421715e3",
   "metadata": {},
   "outputs": [
    {
     "data": {
      "image/png": "[encoded data removed]",
      "text/plain": [
       "<Figure size 640x480 with 1 Axes>"
      ]
     },
     "metadata": {},
     "output_type": "display_data"
    }
   ],
   "source": [
    "# построим гистограмму\n",
    "plt.hist(data_rides['distance'], bins=15)\n",
    "plt.title('Расстояние')\n",
    "plt.xlabel('м')\n",
    "plt.ylabel('Количество пользователей')\n",
    "plt.grid()\n",
    "plt.show()"
   ]
  },
  {
   "cell_type": "code",
   "execution_count": 24,
   "id": "3d812f8e",
   "metadata": {},
   "outputs": [
    {
     "data": {
      "text/plain": [
       "count    18068.00\n",
       "mean      3071.16\n",
       "std       1116.83\n",
       "min          1.00\n",
       "25%       2543.75\n",
       "50%       3134.00\n",
       "75%       3777.00\n",
       "max       7212.00\n",
       "Name: distance, dtype: float64"
      ]
     },
     "execution_count": 24,
     "metadata": {},
     "output_type": "execute_result"
    }
   ],
   "source": [
    "# посмотрим описательную статистику\n",
    "data_rides['distance'].describe().round(2)"
   ]
  },
  {
   "cell_type": "code",
   "execution_count": 25,
   "id": "3a42ac70",
   "metadata": {},
   "outputs": [
    {
     "data": {
      "image/png": "[encoded data removed]",
      "text/plain": [
       "<Figure size 600x800 with 1 Axes>"
      ]
     },
     "metadata": {},
     "output_type": "display_data"
    }
   ],
   "source": [
    "# также построим диаграмму размаха для данной переменной\n",
    "data_rides.boxplot(column='distance', figsize=(6, 8))\n",
    "plt.title('Расстояние за одну поездку, м')\n",
    "plt.ylim(0, 8000)\n",
    "plt.show()"
   ]
  },
  {
   "cell_type": "markdown",
   "id": "52adba99",
   "metadata": {},
   "source": [
    "### Продолжительность поездок"
   ]
  },
  {
   "cell_type": "code",
   "execution_count": 26,
   "id": "c350230b",
   "metadata": {},
   "outputs": [
    {
     "data": {
      "image/png": "[encoded data removed]",
      "text/plain": [
       "<Figure size 640x480 with 1 Axes>"
      ]
     },
     "metadata": {},
     "output_type": "display_data"
    }
   ],
   "source": [
    "# построим гистограмму\n",
    "plt.hist(data_rides['duration'], bins=15)\n",
    "plt.title('Продолжительность')\n",
    "plt.xlabel('мин')\n",
    "plt.ylabel('Количество пользователей')\n",
    "plt.grid()\n",
    "plt.show()"
   ]
  },
  {
   "cell_type": "code",
   "execution_count": 27,
   "id": "89bc553b",
   "metadata": {},
   "outputs": [
    {
     "data": {
      "text/plain": [
       "count    18068.00\n",
       "mean        18.30\n",
       "std          6.09\n",
       "min          1.00\n",
       "25%         14.00\n",
       "50%         18.00\n",
       "75%         22.00\n",
       "max         41.00\n",
       "Name: duration, dtype: float64"
      ]
     },
     "execution_count": 27,
     "metadata": {},
     "output_type": "execute_result"
    }
   ],
   "source": [
    "# посмотрим описательную статистику\n",
    "data_rides['duration'].describe().round(2)"
   ]
  },
  {
   "cell_type": "code",
   "execution_count": 28,
   "id": "6bf288b5",
   "metadata": {},
   "outputs": [
    {
     "data": {
      "image/png": "[encoded data removed]",
      "text/plain": [
       "<Figure size 600x800 with 1 Axes>"
      ]
     },
     "metadata": {},
     "output_type": "display_data"
    }
   ],
   "source": [
    "# также построим диаграмму размаха для данной переменной\n",
    "data_rides.boxplot(column='duration', figsize=(6, 8))\n",
    "plt.title('Продолжительность одной поездки, мин')\n",
    "plt.ylim(0, 50)\n",
    "plt.show()"
   ]
  },
  {
   "cell_type": "markdown",
   "id": "eb880419",
   "metadata": {},
   "source": [
    "**Вывод**\n",
    "1. Количество пользователей по городам распределено практически одинаково, самое большое количество пользователей в Пятигорске - 219, самое наименьшее в Москве - 168. Думаю это из-за того, что Пятигорск маленький город и удобно (быстро) добраться из одной точки города в другую на самокате.\n",
    "2. Пользователей с платной подпиской 46%, что меньше, чем с бесплатной - 54%.\n",
    "3. В основном преобладают пользователи - 20-30 лет, самыми младшими являются - 12 лет, страшими - 43 года.\n",
    "4. В основном расстояние, которое пользователь преодолевал за одну поездку - 2000-4500 метров, самая короткая дистанция - 1 метр (возможно пользователь просто передумал брать данный самокат либо он был неисправен), самая длинная дистанция - 7212 метров.\n",
    "5. Продолжительность поездок в среднем составляет - 10-27 минут, минимальная - 1 минута, максимальная - 41 минута."
   ]
  },
  {
   "cell_type": "markdown",
   "id": "4ef51331",
   "metadata": {},
   "source": [
    "## Объединение данных"
   ]
  },
  {
   "cell_type": "markdown",
   "id": "a8ca61ef",
   "metadata": {},
   "source": [
    "### Объединение данных о пользователях, поездках и подписках в один датафрейм"
   ]
  },
  {
   "cell_type": "code",
   "execution_count": 29,
   "id": "bc85aa52",
   "metadata": {},
   "outputs": [],
   "source": [
    "total_data = data_users.merge(data_rides, on='user_id').merge(data_subscriptions, on='subscription_type')"
   ]
  },
  {
   "cell_type": "code",
   "execution_count": 30,
   "id": "4ddfa176",
   "metadata": {},
   "outputs": [
    {
     "data": {
      "text/html": [
       "<div>\n",
       "<style scoped>\n",
       "    .dataframe tbody tr th:only-of-type {\n",
       "        vertical-align: middle;\n",
       "    }\n",
       "\n",
       "    .dataframe tbody tr th {\n",
       "        vertical-align: top;\n",
       "    }\n",
       "\n",
       "    .dataframe thead th {\n",
       "        text-align: right;\n",
       "    }\n",
       "</style>\n",
       "<table border=\"1\" class=\"dataframe\">\n",
       "  <thead>\n",
       "    <tr style=\"text-align: right;\">\n",
       "      <th></th>\n",
       "      <th>user_id</th>\n",
       "      <th>name</th>\n",
       "      <th>age</th>\n",
       "      <th>city</th>\n",
       "      <th>subscription_type</th>\n",
       "      <th>distance</th>\n",
       "      <th>duration</th>\n",
       "      <th>date</th>\n",
       "      <th>month</th>\n",
       "      <th>minute_price</th>\n",
       "      <th>start_ride_price</th>\n",
       "      <th>subscription_fee</th>\n",
       "    </tr>\n",
       "  </thead>\n",
       "  <tbody>\n",
       "    <tr>\n",
       "      <th>0</th>\n",
       "      <td>1</td>\n",
       "      <td>Кира</td>\n",
       "      <td>22</td>\n",
       "      <td>Тюмень</td>\n",
       "      <td>ultra</td>\n",
       "      <td>4410</td>\n",
       "      <td>26</td>\n",
       "      <td>2021-01-01</td>\n",
       "      <td>1</td>\n",
       "      <td>6</td>\n",
       "      <td>0</td>\n",
       "      <td>199</td>\n",
       "    </tr>\n",
       "    <tr>\n",
       "      <th>1</th>\n",
       "      <td>1</td>\n",
       "      <td>Кира</td>\n",
       "      <td>22</td>\n",
       "      <td>Тюмень</td>\n",
       "      <td>ultra</td>\n",
       "      <td>2618</td>\n",
       "      <td>16</td>\n",
       "      <td>2021-01-18</td>\n",
       "      <td>1</td>\n",
       "      <td>6</td>\n",
       "      <td>0</td>\n",
       "      <td>199</td>\n",
       "    </tr>\n",
       "    <tr>\n",
       "      <th>2</th>\n",
       "      <td>1</td>\n",
       "      <td>Кира</td>\n",
       "      <td>22</td>\n",
       "      <td>Тюмень</td>\n",
       "      <td>ultra</td>\n",
       "      <td>755</td>\n",
       "      <td>7</td>\n",
       "      <td>2021-04-20</td>\n",
       "      <td>4</td>\n",
       "      <td>6</td>\n",
       "      <td>0</td>\n",
       "      <td>199</td>\n",
       "    </tr>\n",
       "    <tr>\n",
       "      <th>3</th>\n",
       "      <td>1</td>\n",
       "      <td>Кира</td>\n",
       "      <td>22</td>\n",
       "      <td>Тюмень</td>\n",
       "      <td>ultra</td>\n",
       "      <td>2695</td>\n",
       "      <td>19</td>\n",
       "      <td>2021-08-11</td>\n",
       "      <td>8</td>\n",
       "      <td>6</td>\n",
       "      <td>0</td>\n",
       "      <td>199</td>\n",
       "    </tr>\n",
       "    <tr>\n",
       "      <th>4</th>\n",
       "      <td>1</td>\n",
       "      <td>Кира</td>\n",
       "      <td>22</td>\n",
       "      <td>Тюмень</td>\n",
       "      <td>ultra</td>\n",
       "      <td>4029</td>\n",
       "      <td>27</td>\n",
       "      <td>2021-08-28</td>\n",
       "      <td>8</td>\n",
       "      <td>6</td>\n",
       "      <td>0</td>\n",
       "      <td>199</td>\n",
       "    </tr>\n",
       "  </tbody>\n",
       "</table>\n",
       "</div>"
      ],
      "text/plain": [
       "   user_id  name  age    city subscription_type  distance  duration  \\\n",
       "0        1  Кира   22  Тюмень             ultra      4410        26   \n",
       "1        1  Кира   22  Тюмень             ultra      2618        16   \n",
       "2        1  Кира   22  Тюмень             ultra       755         7   \n",
       "3        1  Кира   22  Тюмень             ultra      2695        19   \n",
       "4        1  Кира   22  Тюмень             ultra      4029        27   \n",
       "\n",
       "        date  month  minute_price  start_ride_price  subscription_fee  \n",
       "0 2021-01-01      1             6                 0               199  \n",
       "1 2021-01-18      1             6                 0               199  \n",
       "2 2021-04-20      4             6                 0               199  \n",
       "3 2021-08-11      8             6                 0               199  \n",
       "4 2021-08-28      8             6                 0               199  "
      ]
     },
     "execution_count": 30,
     "metadata": {},
     "output_type": "execute_result"
    }
   ],
   "source": [
    "total_data.head()"
   ]
  },
  {
   "cell_type": "code",
   "execution_count": 31,
   "id": "79a645fe",
   "metadata": {},
   "outputs": [
    {
     "name": "stdout",
     "output_type": "stream",
     "text": [
      "Количество строк в data_rides: 18068\n",
      "Количество строк в total_data: 18068\n",
      "Количество уникальных пользователей в data_users: 1534\n",
      "Количество уникальных пользователей в total_data: 1534\n"
     ]
    }
   ],
   "source": [
    "print(f\"Количество строк в data_rides: {data_rides['user_id'].count()}\")\n",
    "print(f\"Количество строк в total_data: {total_data['user_id'].count()}\")\n",
    "print(f\"Количество уникальных пользователей в data_users: {len(data_users['user_id'].unique())}\")\n",
    "print(f\"Количество уникальных пользователей в total_data: {len(total_data['user_id'].unique())}\")"
   ]
  },
  {
   "cell_type": "code",
   "execution_count": 32,
   "id": "b4553502",
   "metadata": {},
   "outputs": [
    {
     "name": "stdout",
     "output_type": "stream",
     "text": [
      "<class 'pandas.core.frame.DataFrame'>\n",
      "Int64Index: 18068 entries, 0 to 18067\n",
      "Data columns (total 12 columns):\n",
      " #   Column             Non-Null Count  Dtype         \n",
      "---  ------             --------------  -----         \n",
      " 0   user_id            18068 non-null  int64         \n",
      " 1   name               18068 non-null  object        \n",
      " 2   age                18068 non-null  int64         \n",
      " 3   city               18068 non-null  object        \n",
      " 4   subscription_type  18068 non-null  object        \n",
      " 5   distance           18068 non-null  int64         \n",
      " 6   duration           18068 non-null  int64         \n",
      " 7   date               18068 non-null  datetime64[ns]\n",
      " 8   month              18068 non-null  int64         \n",
      " 9   minute_price       18068 non-null  int64         \n",
      " 10  start_ride_price   18068 non-null  int64         \n",
      " 11  subscription_fee   18068 non-null  int64         \n",
      "dtypes: datetime64[ns](1), int64(8), object(3)\n",
      "memory usage: 1.8+ MB\n"
     ]
    }
   ],
   "source": [
    "# выведем информацию о датафрейме\n",
    "total_data.info()"
   ]
  },
  {
   "cell_type": "markdown",
   "id": "53ed82b3",
   "metadata": {},
   "source": [
    "### Создание ещё двух датафреймов из датафрейма, созданного на этапе 4.1"
   ]
  },
  {
   "cell_type": "code",
   "execution_count": 33,
   "id": "e6a5d131",
   "metadata": {},
   "outputs": [],
   "source": [
    "# создадим датафрейм данных с пользователями с подпиской\n",
    "data_ultra = total_data.loc[total_data['subscription_type'] == 'ultra']\n",
    "# создадим датафрейм данных с пользователями без подписки\n",
    "data_free = total_data.loc[total_data['subscription_type'] == 'free']"
   ]
  },
  {
   "cell_type": "code",
   "execution_count": 34,
   "id": "d5511c4b",
   "metadata": {},
   "outputs": [
    {
     "data": {
      "text/html": [
       "<div>\n",
       "<style scoped>\n",
       "    .dataframe tbody tr th:only-of-type {\n",
       "        vertical-align: middle;\n",
       "    }\n",
       "\n",
       "    .dataframe tbody tr th {\n",
       "        vertical-align: top;\n",
       "    }\n",
       "\n",
       "    .dataframe thead th {\n",
       "        text-align: right;\n",
       "    }\n",
       "</style>\n",
       "<table border=\"1\" class=\"dataframe\">\n",
       "  <thead>\n",
       "    <tr style=\"text-align: right;\">\n",
       "      <th></th>\n",
       "      <th>user_id</th>\n",
       "      <th>name</th>\n",
       "      <th>age</th>\n",
       "      <th>city</th>\n",
       "      <th>subscription_type</th>\n",
       "      <th>distance</th>\n",
       "      <th>duration</th>\n",
       "      <th>date</th>\n",
       "      <th>month</th>\n",
       "      <th>minute_price</th>\n",
       "      <th>start_ride_price</th>\n",
       "      <th>subscription_fee</th>\n",
       "    </tr>\n",
       "  </thead>\n",
       "  <tbody>\n",
       "    <tr>\n",
       "      <th>0</th>\n",
       "      <td>1</td>\n",
       "      <td>Кира</td>\n",
       "      <td>22</td>\n",
       "      <td>Тюмень</td>\n",
       "      <td>ultra</td>\n",
       "      <td>4410</td>\n",
       "      <td>26</td>\n",
       "      <td>2021-01-01</td>\n",
       "      <td>1</td>\n",
       "      <td>6</td>\n",
       "      <td>0</td>\n",
       "      <td>199</td>\n",
       "    </tr>\n",
       "    <tr>\n",
       "      <th>1</th>\n",
       "      <td>1</td>\n",
       "      <td>Кира</td>\n",
       "      <td>22</td>\n",
       "      <td>Тюмень</td>\n",
       "      <td>ultra</td>\n",
       "      <td>2618</td>\n",
       "      <td>16</td>\n",
       "      <td>2021-01-18</td>\n",
       "      <td>1</td>\n",
       "      <td>6</td>\n",
       "      <td>0</td>\n",
       "      <td>199</td>\n",
       "    </tr>\n",
       "    <tr>\n",
       "      <th>2</th>\n",
       "      <td>1</td>\n",
       "      <td>Кира</td>\n",
       "      <td>22</td>\n",
       "      <td>Тюмень</td>\n",
       "      <td>ultra</td>\n",
       "      <td>755</td>\n",
       "      <td>7</td>\n",
       "      <td>2021-04-20</td>\n",
       "      <td>4</td>\n",
       "      <td>6</td>\n",
       "      <td>0</td>\n",
       "      <td>199</td>\n",
       "    </tr>\n",
       "    <tr>\n",
       "      <th>3</th>\n",
       "      <td>1</td>\n",
       "      <td>Кира</td>\n",
       "      <td>22</td>\n",
       "      <td>Тюмень</td>\n",
       "      <td>ultra</td>\n",
       "      <td>2695</td>\n",
       "      <td>19</td>\n",
       "      <td>2021-08-11</td>\n",
       "      <td>8</td>\n",
       "      <td>6</td>\n",
       "      <td>0</td>\n",
       "      <td>199</td>\n",
       "    </tr>\n",
       "    <tr>\n",
       "      <th>4</th>\n",
       "      <td>1</td>\n",
       "      <td>Кира</td>\n",
       "      <td>22</td>\n",
       "      <td>Тюмень</td>\n",
       "      <td>ultra</td>\n",
       "      <td>4029</td>\n",
       "      <td>27</td>\n",
       "      <td>2021-08-28</td>\n",
       "      <td>8</td>\n",
       "      <td>6</td>\n",
       "      <td>0</td>\n",
       "      <td>199</td>\n",
       "    </tr>\n",
       "  </tbody>\n",
       "</table>\n",
       "</div>"
      ],
      "text/plain": [
       "   user_id  name  age    city subscription_type  distance  duration  \\\n",
       "0        1  Кира   22  Тюмень             ultra      4410        26   \n",
       "1        1  Кира   22  Тюмень             ultra      2618        16   \n",
       "2        1  Кира   22  Тюмень             ultra       755         7   \n",
       "3        1  Кира   22  Тюмень             ultra      2695        19   \n",
       "4        1  Кира   22  Тюмень             ultra      4029        27   \n",
       "\n",
       "        date  month  minute_price  start_ride_price  subscription_fee  \n",
       "0 2021-01-01      1             6                 0               199  \n",
       "1 2021-01-18      1             6                 0               199  \n",
       "2 2021-04-20      4             6                 0               199  \n",
       "3 2021-08-11      8             6                 0               199  \n",
       "4 2021-08-28      8             6                 0               199  "
      ]
     },
     "metadata": {},
     "output_type": "display_data"
    },
    {
     "data": {
      "text/html": [
       "<div>\n",
       "<style scoped>\n",
       "    .dataframe tbody tr th:only-of-type {\n",
       "        vertical-align: middle;\n",
       "    }\n",
       "\n",
       "    .dataframe tbody tr th {\n",
       "        vertical-align: top;\n",
       "    }\n",
       "\n",
       "    .dataframe thead th {\n",
       "        text-align: right;\n",
       "    }\n",
       "</style>\n",
       "<table border=\"1\" class=\"dataframe\">\n",
       "  <thead>\n",
       "    <tr style=\"text-align: right;\">\n",
       "      <th></th>\n",
       "      <th>user_id</th>\n",
       "      <th>name</th>\n",
       "      <th>age</th>\n",
       "      <th>city</th>\n",
       "      <th>subscription_type</th>\n",
       "      <th>distance</th>\n",
       "      <th>duration</th>\n",
       "      <th>date</th>\n",
       "      <th>month</th>\n",
       "      <th>minute_price</th>\n",
       "      <th>start_ride_price</th>\n",
       "      <th>subscription_fee</th>\n",
       "    </tr>\n",
       "  </thead>\n",
       "  <tbody>\n",
       "    <tr>\n",
       "      <th>6500</th>\n",
       "      <td>700</td>\n",
       "      <td>Айдар</td>\n",
       "      <td>22</td>\n",
       "      <td>Омск</td>\n",
       "      <td>free</td>\n",
       "      <td>2516</td>\n",
       "      <td>15</td>\n",
       "      <td>2021-01-02</td>\n",
       "      <td>1</td>\n",
       "      <td>8</td>\n",
       "      <td>50</td>\n",
       "      <td>0</td>\n",
       "    </tr>\n",
       "    <tr>\n",
       "      <th>6501</th>\n",
       "      <td>700</td>\n",
       "      <td>Айдар</td>\n",
       "      <td>22</td>\n",
       "      <td>Омск</td>\n",
       "      <td>free</td>\n",
       "      <td>847</td>\n",
       "      <td>17</td>\n",
       "      <td>2021-02-01</td>\n",
       "      <td>2</td>\n",
       "      <td>8</td>\n",
       "      <td>50</td>\n",
       "      <td>0</td>\n",
       "    </tr>\n",
       "    <tr>\n",
       "      <th>6502</th>\n",
       "      <td>700</td>\n",
       "      <td>Айдар</td>\n",
       "      <td>22</td>\n",
       "      <td>Омск</td>\n",
       "      <td>free</td>\n",
       "      <td>4005</td>\n",
       "      <td>21</td>\n",
       "      <td>2021-02-04</td>\n",
       "      <td>2</td>\n",
       "      <td>8</td>\n",
       "      <td>50</td>\n",
       "      <td>0</td>\n",
       "    </tr>\n",
       "    <tr>\n",
       "      <th>6503</th>\n",
       "      <td>700</td>\n",
       "      <td>Айдар</td>\n",
       "      <td>22</td>\n",
       "      <td>Омск</td>\n",
       "      <td>free</td>\n",
       "      <td>1206</td>\n",
       "      <td>10</td>\n",
       "      <td>2021-02-10</td>\n",
       "      <td>2</td>\n",
       "      <td>8</td>\n",
       "      <td>50</td>\n",
       "      <td>0</td>\n",
       "    </tr>\n",
       "    <tr>\n",
       "      <th>6504</th>\n",
       "      <td>700</td>\n",
       "      <td>Айдар</td>\n",
       "      <td>22</td>\n",
       "      <td>Омск</td>\n",
       "      <td>free</td>\n",
       "      <td>3048</td>\n",
       "      <td>18</td>\n",
       "      <td>2021-02-14</td>\n",
       "      <td>2</td>\n",
       "      <td>8</td>\n",
       "      <td>50</td>\n",
       "      <td>0</td>\n",
       "    </tr>\n",
       "  </tbody>\n",
       "</table>\n",
       "</div>"
      ],
      "text/plain": [
       "      user_id   name  age  city subscription_type  distance  duration  \\\n",
       "6500      700  Айдар   22  Омск              free      2516        15   \n",
       "6501      700  Айдар   22  Омск              free       847        17   \n",
       "6502      700  Айдар   22  Омск              free      4005        21   \n",
       "6503      700  Айдар   22  Омск              free      1206        10   \n",
       "6504      700  Айдар   22  Омск              free      3048        18   \n",
       "\n",
       "           date  month  minute_price  start_ride_price  subscription_fee  \n",
       "6500 2021-01-02      1             8                50                 0  \n",
       "6501 2021-02-01      2             8                50                 0  \n",
       "6502 2021-02-04      2             8                50                 0  \n",
       "6503 2021-02-10      2             8                50                 0  \n",
       "6504 2021-02-14      2             8                50                 0  "
      ]
     },
     "execution_count": 34,
     "metadata": {},
     "output_type": "execute_result"
    }
   ],
   "source": [
    "# выведем датафреймы\n",
    "display(data_ultra.head())\n",
    "data_free.head()"
   ]
  },
  {
   "cell_type": "code",
   "execution_count": 35,
   "id": "4695a9e8",
   "metadata": {},
   "outputs": [
    {
     "name": "stdout",
     "output_type": "stream",
     "text": [
      "<class 'pandas.core.frame.DataFrame'>\n",
      "Int64Index: 6500 entries, 0 to 6499\n",
      "Data columns (total 12 columns):\n",
      " #   Column             Non-Null Count  Dtype         \n",
      "---  ------             --------------  -----         \n",
      " 0   user_id            6500 non-null   int64         \n",
      " 1   name               6500 non-null   object        \n",
      " 2   age                6500 non-null   int64         \n",
      " 3   city               6500 non-null   object        \n",
      " 4   subscription_type  6500 non-null   object        \n",
      " 5   distance           6500 non-null   int64         \n",
      " 6   duration           6500 non-null   int64         \n",
      " 7   date               6500 non-null   datetime64[ns]\n",
      " 8   month              6500 non-null   int64         \n",
      " 9   minute_price       6500 non-null   int64         \n",
      " 10  start_ride_price   6500 non-null   int64         \n",
      " 11  subscription_fee   6500 non-null   int64         \n",
      "dtypes: datetime64[ns](1), int64(8), object(3)\n",
      "memory usage: 660.2+ KB\n",
      "<class 'pandas.core.frame.DataFrame'>\n",
      "Int64Index: 11568 entries, 6500 to 18067\n",
      "Data columns (total 12 columns):\n",
      " #   Column             Non-Null Count  Dtype         \n",
      "---  ------             --------------  -----         \n",
      " 0   user_id            11568 non-null  int64         \n",
      " 1   name               11568 non-null  object        \n",
      " 2   age                11568 non-null  int64         \n",
      " 3   city               11568 non-null  object        \n",
      " 4   subscription_type  11568 non-null  object        \n",
      " 5   distance           11568 non-null  int64         \n",
      " 6   duration           11568 non-null  int64         \n",
      " 7   date               11568 non-null  datetime64[ns]\n",
      " 8   month              11568 non-null  int64         \n",
      " 9   minute_price       11568 non-null  int64         \n",
      " 10  start_ride_price   11568 non-null  int64         \n",
      " 11  subscription_fee   11568 non-null  int64         \n",
      "dtypes: datetime64[ns](1), int64(8), object(3)\n",
      "memory usage: 1.1+ MB\n"
     ]
    }
   ],
   "source": [
    "# выведем информацию о датафреймах\n",
    "data_ultra.info()\n",
    "data_free.info()"
   ]
  },
  {
   "cell_type": "markdown",
   "id": "253a64c0",
   "metadata": {},
   "source": [
    "### Визуализация"
   ]
  },
  {
   "cell_type": "code",
   "execution_count": 36,
   "id": "ccc124e8",
   "metadata": {},
   "outputs": [
    {
     "data": {
      "image/png": "[encoded data removed]",
      "text/plain": [
       "<Figure size 1500x800 with 1 Axes>"
      ]
     },
     "metadata": {},
     "output_type": "display_data"
    }
   ],
   "source": [
    "# построим гистограмму продолжительности поездок пользователей с подпиской и без\n",
    "plt.figure(figsize=(15, 8))\n",
    "sns.histplot(data_ultra['distance'], bins=30, color='red', alpha=1, label='С подпиской: ultra')\n",
    "sns.histplot(data_free['distance'], bins=30, color='blue',alpha=0.5, label='Без подписки: free')\n",
    "plt.title('Распределение расстояния поездок для пользователей с подпиской и без')\n",
    "plt.xlabel('Расстояние, м')\n",
    "plt.ylabel('Количество пользователей')\n",
    "plt.legend(title='Тип подписки')\n",
    "plt.show()"
   ]
  },
  {
   "cell_type": "code",
   "execution_count": 37,
   "id": "8c5a86d6",
   "metadata": {},
   "outputs": [
    {
     "data": {
      "image/png": "[encoded data removed]",
      "text/plain": [
       "<Figure size 1500x1200 with 1 Axes>"
      ]
     },
     "metadata": {},
     "output_type": "display_data"
    }
   ],
   "source": [
    "# построим гистограмму распределения расстояния, которое пользователь преодолел за одну поездку с подпиской и без\n",
    "plt.figure(figsize=(15, 12))\n",
    "sns.histplot(data_ultra['duration'], bins=30, color='red', alpha=1, label='С подпиской: ultra')\n",
    "sns.histplot(data_free['duration'], bins=30, color='blue',alpha=0.5, label='Без подписки: free')\n",
    "plt.title('Распределение продолжительности поездок для пользователей с подпиской и без')\n",
    "plt.xlabel('Продолжительность, мин')\n",
    "plt.ylabel('Количество пользователей')\n",
    "plt.legend(title='Тип подписки')\n",
    "plt.show()"
   ]
  },
  {
   "cell_type": "markdown",
   "id": "a652d03b",
   "metadata": {},
   "source": [
    "**Вывод**\n",
    "1. Были созданы три датафрейма - общий и два датафрейма для пользователей с подпиской и без. \n",
    "2. Согласно гистограмме (Распределение расстояния поездок для пользователей с подпиской и без) видим, что у пользователей без подписки больше коротких поездок и максимальная дальность поездки выше, чем у платных пользователей. Данные с подпиской имеют также 2 пика как и у данных без подписки, но первый пик при этом не так ярко выражен как у пользователей без подписки.Если рассматривать второй пик, то у пользователей с подпиской он более пикообразный, чем у пользователей без, что свидетельствует о меньшей мере разброса вокруг среднее, если рассматривать только второй пик.\n",
    "2. Согласно гистограмме(Распределение продолжительности поездок для пользователей с подпиской и без)видим, что для пользователей с подпиской \"ultra\" характерно более высокое количество длинных поездок - до 40 минут и более. Короткие поездки начинаются с 4 минут, а без подписки с 1 минуты. Продолжительность поездок при использовании подписки 'free' немного меньше по всем показателям, чем при использовании 'ultra'. Пик поездок ориентировочно в обоих случаях приходится на 18-20 минут."
   ]
  },
  {
   "cell_type": "markdown",
   "id": "402d620f",
   "metadata": {},
   "source": [
    "## Подсчёт выручки"
   ]
  },
  {
   "cell_type": "markdown",
   "id": "29d7c23b",
   "metadata": {},
   "source": [
    "### Создание датафрейма с агрегированными данными о поездках на основе датафрейма с объединёнными данными из шага 4"
   ]
  },
  {
   "cell_type": "code",
   "execution_count": 38,
   "id": "fe8bc639",
   "metadata": {},
   "outputs": [
    {
     "data": {
      "text/html": [
       "<div>\n",
       "<style scoped>\n",
       "    .dataframe tbody tr th:only-of-type {\n",
       "        vertical-align: middle;\n",
       "    }\n",
       "\n",
       "    .dataframe tbody tr th {\n",
       "        vertical-align: top;\n",
       "    }\n",
       "\n",
       "    .dataframe thead th {\n",
       "        text-align: right;\n",
       "    }\n",
       "</style>\n",
       "<table border=\"1\" class=\"dataframe\">\n",
       "  <thead>\n",
       "    <tr style=\"text-align: right;\">\n",
       "      <th></th>\n",
       "      <th>user_id</th>\n",
       "      <th>name</th>\n",
       "      <th>age</th>\n",
       "      <th>city</th>\n",
       "      <th>subscription_type</th>\n",
       "      <th>month</th>\n",
       "      <th>minute_price</th>\n",
       "      <th>start_ride_price</th>\n",
       "      <th>subscription_fee</th>\n",
       "      <th>total_distance</th>\n",
       "      <th>total_duration</th>\n",
       "      <th>trips_count</th>\n",
       "    </tr>\n",
       "  </thead>\n",
       "  <tbody>\n",
       "    <tr>\n",
       "      <th>0</th>\n",
       "      <td>1</td>\n",
       "      <td>Кира</td>\n",
       "      <td>22</td>\n",
       "      <td>Тюмень</td>\n",
       "      <td>ultra</td>\n",
       "      <td>1</td>\n",
       "      <td>6</td>\n",
       "      <td>0</td>\n",
       "      <td>199</td>\n",
       "      <td>7028</td>\n",
       "      <td>42</td>\n",
       "      <td>2</td>\n",
       "    </tr>\n",
       "    <tr>\n",
       "      <th>1</th>\n",
       "      <td>1</td>\n",
       "      <td>Кира</td>\n",
       "      <td>22</td>\n",
       "      <td>Тюмень</td>\n",
       "      <td>ultra</td>\n",
       "      <td>4</td>\n",
       "      <td>6</td>\n",
       "      <td>0</td>\n",
       "      <td>199</td>\n",
       "      <td>755</td>\n",
       "      <td>7</td>\n",
       "      <td>1</td>\n",
       "    </tr>\n",
       "    <tr>\n",
       "      <th>2</th>\n",
       "      <td>1</td>\n",
       "      <td>Кира</td>\n",
       "      <td>22</td>\n",
       "      <td>Тюмень</td>\n",
       "      <td>ultra</td>\n",
       "      <td>8</td>\n",
       "      <td>6</td>\n",
       "      <td>0</td>\n",
       "      <td>199</td>\n",
       "      <td>6724</td>\n",
       "      <td>46</td>\n",
       "      <td>2</td>\n",
       "    </tr>\n",
       "    <tr>\n",
       "      <th>3</th>\n",
       "      <td>1</td>\n",
       "      <td>Кира</td>\n",
       "      <td>22</td>\n",
       "      <td>Тюмень</td>\n",
       "      <td>ultra</td>\n",
       "      <td>10</td>\n",
       "      <td>6</td>\n",
       "      <td>0</td>\n",
       "      <td>199</td>\n",
       "      <td>5811</td>\n",
       "      <td>32</td>\n",
       "      <td>2</td>\n",
       "    </tr>\n",
       "    <tr>\n",
       "      <th>4</th>\n",
       "      <td>1</td>\n",
       "      <td>Кира</td>\n",
       "      <td>22</td>\n",
       "      <td>Тюмень</td>\n",
       "      <td>ultra</td>\n",
       "      <td>11</td>\n",
       "      <td>6</td>\n",
       "      <td>0</td>\n",
       "      <td>199</td>\n",
       "      <td>7005</td>\n",
       "      <td>56</td>\n",
       "      <td>3</td>\n",
       "    </tr>\n",
       "    <tr>\n",
       "      <th>5</th>\n",
       "      <td>1</td>\n",
       "      <td>Кира</td>\n",
       "      <td>22</td>\n",
       "      <td>Тюмень</td>\n",
       "      <td>ultra</td>\n",
       "      <td>12</td>\n",
       "      <td>6</td>\n",
       "      <td>0</td>\n",
       "      <td>199</td>\n",
       "      <td>6753</td>\n",
       "      <td>28</td>\n",
       "      <td>2</td>\n",
       "    </tr>\n",
       "    <tr>\n",
       "      <th>6</th>\n",
       "      <td>2</td>\n",
       "      <td>Станислав</td>\n",
       "      <td>31</td>\n",
       "      <td>Омск</td>\n",
       "      <td>ultra</td>\n",
       "      <td>3</td>\n",
       "      <td>6</td>\n",
       "      <td>0</td>\n",
       "      <td>199</td>\n",
       "      <td>10190</td>\n",
       "      <td>63</td>\n",
       "      <td>3</td>\n",
       "    </tr>\n",
       "    <tr>\n",
       "      <th>7</th>\n",
       "      <td>2</td>\n",
       "      <td>Станислав</td>\n",
       "      <td>31</td>\n",
       "      <td>Омск</td>\n",
       "      <td>ultra</td>\n",
       "      <td>4</td>\n",
       "      <td>6</td>\n",
       "      <td>0</td>\n",
       "      <td>199</td>\n",
       "      <td>6165</td>\n",
       "      <td>40</td>\n",
       "      <td>2</td>\n",
       "    </tr>\n",
       "    <tr>\n",
       "      <th>8</th>\n",
       "      <td>2</td>\n",
       "      <td>Станислав</td>\n",
       "      <td>31</td>\n",
       "      <td>Омск</td>\n",
       "      <td>ultra</td>\n",
       "      <td>6</td>\n",
       "      <td>6</td>\n",
       "      <td>0</td>\n",
       "      <td>199</td>\n",
       "      <td>3256</td>\n",
       "      <td>14</td>\n",
       "      <td>1</td>\n",
       "    </tr>\n",
       "    <tr>\n",
       "      <th>9</th>\n",
       "      <td>2</td>\n",
       "      <td>Станислав</td>\n",
       "      <td>31</td>\n",
       "      <td>Омск</td>\n",
       "      <td>ultra</td>\n",
       "      <td>7</td>\n",
       "      <td>6</td>\n",
       "      <td>0</td>\n",
       "      <td>199</td>\n",
       "      <td>6781</td>\n",
       "      <td>48</td>\n",
       "      <td>2</td>\n",
       "    </tr>\n",
       "  </tbody>\n",
       "</table>\n",
       "</div>"
      ],
      "text/plain": [
       "   user_id       name  age    city subscription_type  month  minute_price  \\\n",
       "0        1       Кира   22  Тюмень             ultra      1             6   \n",
       "1        1       Кира   22  Тюмень             ultra      4             6   \n",
       "2        1       Кира   22  Тюмень             ultra      8             6   \n",
       "3        1       Кира   22  Тюмень             ultra     10             6   \n",
       "4        1       Кира   22  Тюмень             ultra     11             6   \n",
       "5        1       Кира   22  Тюмень             ultra     12             6   \n",
       "6        2  Станислав   31    Омск             ultra      3             6   \n",
       "7        2  Станислав   31    Омск             ultra      4             6   \n",
       "8        2  Станислав   31    Омск             ultra      6             6   \n",
       "9        2  Станислав   31    Омск             ultra      7             6   \n",
       "\n",
       "   start_ride_price  subscription_fee  total_distance  total_duration  \\\n",
       "0                 0               199            7028              42   \n",
       "1                 0               199             755               7   \n",
       "2                 0               199            6724              46   \n",
       "3                 0               199            5811              32   \n",
       "4                 0               199            7005              56   \n",
       "5                 0               199            6753              28   \n",
       "6                 0               199           10190              63   \n",
       "7                 0               199            6165              40   \n",
       "8                 0               199            3256              14   \n",
       "9                 0               199            6781              48   \n",
       "\n",
       "   trips_count  \n",
       "0            2  \n",
       "1            1  \n",
       "2            2  \n",
       "3            2  \n",
       "4            3  \n",
       "5            2  \n",
       "6            3  \n",
       "7            2  \n",
       "8            1  \n",
       "9            2  "
      ]
     },
     "execution_count": 38,
     "metadata": {},
     "output_type": "execute_result"
    }
   ],
   "source": [
    "# сгруппируем данные по пользователям, месяцам и типам подписок\n",
    "total_data_month = total_data.groupby(\n",
    "    ['user_id', 'name', 'age', 'city', 'subscription_type', 'month', 'minute_price', 'start_ride_price', 'subscription_fee']\n",
    "                          ).agg({\n",
    "    'distance': 'sum',\n",
    "    'duration': 'sum', \n",
    "    'date': 'count'\n",
    "}).reset_index()\n",
    "\n",
    "\n",
    "# переименуем столбцы\n",
    "total_data_month.rename(columns={\n",
    "    'distance': 'total_distance',\n",
    "    'duration': 'total_duration',\n",
    "    'date': 'trips_count'\n",
    "}, inplace=True)\n",
    "\n",
    "# выведем первые строки агрегированного датафрейма\n",
    "total_data_month.head(10)"
   ]
  },
  {
   "cell_type": "code",
   "execution_count": 39,
   "id": "95dc556b",
   "metadata": {},
   "outputs": [
    {
     "data": {
      "text/plain": [
       "user_id              0\n",
       "name                 0\n",
       "age                  0\n",
       "city                 0\n",
       "subscription_type    0\n",
       "month                0\n",
       "minute_price         0\n",
       "start_ride_price     0\n",
       "subscription_fee     0\n",
       "total_distance       0\n",
       "total_duration       0\n",
       "trips_count          0\n",
       "dtype: int64"
      ]
     },
     "execution_count": 39,
     "metadata": {},
     "output_type": "execute_result"
    }
   ],
   "source": [
    "# проверим пропуски в сводной таблице\n",
    "total_data_month.isna().sum()"
   ]
  },
  {
   "cell_type": "markdown",
   "id": "ea862bd0",
   "metadata": {},
   "source": [
    "### В этот же датафрейм добавление столбца с помесячной выручкой, которую принёс каждый пользователь"
   ]
  },
  {
   "cell_type": "code",
   "execution_count": 40,
   "id": "961af0e7",
   "metadata": {},
   "outputs": [
    {
     "data": {
      "text/html": [
       "<div>\n",
       "<style scoped>\n",
       "    .dataframe tbody tr th:only-of-type {\n",
       "        vertical-align: middle;\n",
       "    }\n",
       "\n",
       "    .dataframe tbody tr th {\n",
       "        vertical-align: top;\n",
       "    }\n",
       "\n",
       "    .dataframe thead th {\n",
       "        text-align: right;\n",
       "    }\n",
       "</style>\n",
       "<table border=\"1\" class=\"dataframe\">\n",
       "  <thead>\n",
       "    <tr style=\"text-align: right;\">\n",
       "      <th></th>\n",
       "      <th>user_id</th>\n",
       "      <th>name</th>\n",
       "      <th>age</th>\n",
       "      <th>city</th>\n",
       "      <th>subscription_type</th>\n",
       "      <th>month</th>\n",
       "      <th>minute_price</th>\n",
       "      <th>start_ride_price</th>\n",
       "      <th>subscription_fee</th>\n",
       "      <th>total_distance</th>\n",
       "      <th>total_duration</th>\n",
       "      <th>trips_count</th>\n",
       "      <th>proceeds</th>\n",
       "    </tr>\n",
       "  </thead>\n",
       "  <tbody>\n",
       "    <tr>\n",
       "      <th>0</th>\n",
       "      <td>1</td>\n",
       "      <td>Кира</td>\n",
       "      <td>22</td>\n",
       "      <td>Тюмень</td>\n",
       "      <td>ultra</td>\n",
       "      <td>1</td>\n",
       "      <td>6</td>\n",
       "      <td>0</td>\n",
       "      <td>199</td>\n",
       "      <td>7028</td>\n",
       "      <td>42</td>\n",
       "      <td>2</td>\n",
       "      <td>451</td>\n",
       "    </tr>\n",
       "    <tr>\n",
       "      <th>1</th>\n",
       "      <td>1</td>\n",
       "      <td>Кира</td>\n",
       "      <td>22</td>\n",
       "      <td>Тюмень</td>\n",
       "      <td>ultra</td>\n",
       "      <td>4</td>\n",
       "      <td>6</td>\n",
       "      <td>0</td>\n",
       "      <td>199</td>\n",
       "      <td>755</td>\n",
       "      <td>7</td>\n",
       "      <td>1</td>\n",
       "      <td>241</td>\n",
       "    </tr>\n",
       "    <tr>\n",
       "      <th>2</th>\n",
       "      <td>1</td>\n",
       "      <td>Кира</td>\n",
       "      <td>22</td>\n",
       "      <td>Тюмень</td>\n",
       "      <td>ultra</td>\n",
       "      <td>8</td>\n",
       "      <td>6</td>\n",
       "      <td>0</td>\n",
       "      <td>199</td>\n",
       "      <td>6724</td>\n",
       "      <td>46</td>\n",
       "      <td>2</td>\n",
       "      <td>475</td>\n",
       "    </tr>\n",
       "    <tr>\n",
       "      <th>3</th>\n",
       "      <td>1</td>\n",
       "      <td>Кира</td>\n",
       "      <td>22</td>\n",
       "      <td>Тюмень</td>\n",
       "      <td>ultra</td>\n",
       "      <td>10</td>\n",
       "      <td>6</td>\n",
       "      <td>0</td>\n",
       "      <td>199</td>\n",
       "      <td>5811</td>\n",
       "      <td>32</td>\n",
       "      <td>2</td>\n",
       "      <td>391</td>\n",
       "    </tr>\n",
       "    <tr>\n",
       "      <th>4</th>\n",
       "      <td>1</td>\n",
       "      <td>Кира</td>\n",
       "      <td>22</td>\n",
       "      <td>Тюмень</td>\n",
       "      <td>ultra</td>\n",
       "      <td>11</td>\n",
       "      <td>6</td>\n",
       "      <td>0</td>\n",
       "      <td>199</td>\n",
       "      <td>7005</td>\n",
       "      <td>56</td>\n",
       "      <td>3</td>\n",
       "      <td>535</td>\n",
       "    </tr>\n",
       "    <tr>\n",
       "      <th>5</th>\n",
       "      <td>1</td>\n",
       "      <td>Кира</td>\n",
       "      <td>22</td>\n",
       "      <td>Тюмень</td>\n",
       "      <td>ultra</td>\n",
       "      <td>12</td>\n",
       "      <td>6</td>\n",
       "      <td>0</td>\n",
       "      <td>199</td>\n",
       "      <td>6753</td>\n",
       "      <td>28</td>\n",
       "      <td>2</td>\n",
       "      <td>367</td>\n",
       "    </tr>\n",
       "    <tr>\n",
       "      <th>6</th>\n",
       "      <td>2</td>\n",
       "      <td>Станислав</td>\n",
       "      <td>31</td>\n",
       "      <td>Омск</td>\n",
       "      <td>ultra</td>\n",
       "      <td>3</td>\n",
       "      <td>6</td>\n",
       "      <td>0</td>\n",
       "      <td>199</td>\n",
       "      <td>10190</td>\n",
       "      <td>63</td>\n",
       "      <td>3</td>\n",
       "      <td>577</td>\n",
       "    </tr>\n",
       "    <tr>\n",
       "      <th>7</th>\n",
       "      <td>2</td>\n",
       "      <td>Станислав</td>\n",
       "      <td>31</td>\n",
       "      <td>Омск</td>\n",
       "      <td>ultra</td>\n",
       "      <td>4</td>\n",
       "      <td>6</td>\n",
       "      <td>0</td>\n",
       "      <td>199</td>\n",
       "      <td>6165</td>\n",
       "      <td>40</td>\n",
       "      <td>2</td>\n",
       "      <td>439</td>\n",
       "    </tr>\n",
       "    <tr>\n",
       "      <th>8</th>\n",
       "      <td>2</td>\n",
       "      <td>Станислав</td>\n",
       "      <td>31</td>\n",
       "      <td>Омск</td>\n",
       "      <td>ultra</td>\n",
       "      <td>6</td>\n",
       "      <td>6</td>\n",
       "      <td>0</td>\n",
       "      <td>199</td>\n",
       "      <td>3256</td>\n",
       "      <td>14</td>\n",
       "      <td>1</td>\n",
       "      <td>283</td>\n",
       "    </tr>\n",
       "    <tr>\n",
       "      <th>9</th>\n",
       "      <td>2</td>\n",
       "      <td>Станислав</td>\n",
       "      <td>31</td>\n",
       "      <td>Омск</td>\n",
       "      <td>ultra</td>\n",
       "      <td>7</td>\n",
       "      <td>6</td>\n",
       "      <td>0</td>\n",
       "      <td>199</td>\n",
       "      <td>6781</td>\n",
       "      <td>48</td>\n",
       "      <td>2</td>\n",
       "      <td>487</td>\n",
       "    </tr>\n",
       "  </tbody>\n",
       "</table>\n",
       "</div>"
      ],
      "text/plain": [
       "   user_id       name  age    city subscription_type  month  minute_price  \\\n",
       "0        1       Кира   22  Тюмень             ultra      1             6   \n",
       "1        1       Кира   22  Тюмень             ultra      4             6   \n",
       "2        1       Кира   22  Тюмень             ultra      8             6   \n",
       "3        1       Кира   22  Тюмень             ultra     10             6   \n",
       "4        1       Кира   22  Тюмень             ultra     11             6   \n",
       "5        1       Кира   22  Тюмень             ultra     12             6   \n",
       "6        2  Станислав   31    Омск             ultra      3             6   \n",
       "7        2  Станислав   31    Омск             ultra      4             6   \n",
       "8        2  Станислав   31    Омск             ultra      6             6   \n",
       "9        2  Станислав   31    Омск             ultra      7             6   \n",
       "\n",
       "   start_ride_price  subscription_fee  total_distance  total_duration  \\\n",
       "0                 0               199            7028              42   \n",
       "1                 0               199             755               7   \n",
       "2                 0               199            6724              46   \n",
       "3                 0               199            5811              32   \n",
       "4                 0               199            7005              56   \n",
       "5                 0               199            6753              28   \n",
       "6                 0               199           10190              63   \n",
       "7                 0               199            6165              40   \n",
       "8                 0               199            3256              14   \n",
       "9                 0               199            6781              48   \n",
       "\n",
       "   trips_count  proceeds  \n",
       "0            2       451  \n",
       "1            1       241  \n",
       "2            2       475  \n",
       "3            2       391  \n",
       "4            3       535  \n",
       "5            2       367  \n",
       "6            3       577  \n",
       "7            2       439  \n",
       "8            1       283  \n",
       "9            2       487  "
      ]
     },
     "execution_count": 40,
     "metadata": {},
     "output_type": "execute_result"
    }
   ],
   "source": [
    "# расчет выручки в зависимости от типа подписки\n",
    "total_data_month['proceeds'] = (\n",
    "    total_data_month['start_ride_price'] * total_data_month['trips_count'] + \n",
    "    total_data_month['minute_price'] * total_data_month['total_duration'] + total_data_month['subscription_fee']\n",
    "                                           )\n",
    "# выведем первые строки датафрейма\n",
    "total_data_month.head(10)"
   ]
  },
  {
   "cell_type": "markdown",
   "id": "24783f18",
   "metadata": {},
   "source": [
    "**Вывод**\n",
    "    \n",
    "Создали новый датафрейм с агрегированными данными total_data_month на основе датафрейма с объединенными данными total_data. Нашли суммарное расстояние, количество поездок и суммарное время для каждого пользователя за каждый месяц. Также добавили столбец с помесячной выручкой, которую принес каждый пользователь."
   ]
  },
  {
   "cell_type": "markdown",
   "id": "41545ac0",
   "metadata": {},
   "source": [
    "## Проверка гипотез"
   ]
  },
  {
   "cell_type": "markdown",
   "id": "5e2e91d1",
   "metadata": {},
   "source": [
    "### Проверим, тратят ли пользователи с подпиской больше времени на поездки"
   ]
  },
  {
   "cell_type": "markdown",
   "id": "4af03786",
   "metadata": {},
   "source": [
    "Проверим гипотезу: пользователи с подпиской тратят больше времени на поездки, чем пользователи на бесплатном тарифе.\n",
    "\n",
    "H_0: Время пользователей на подписке ultra равно времени пользователей на подписке free\n",
    "\n",
    "H_1: Время пользователей на подписке ultra больше времени пользователей на подписке free\n",
    "\n",
    "alpha = 0.05"
   ]
  },
  {
   "cell_type": "code",
   "execution_count": 41,
   "id": "7ea2d82e",
   "metadata": {},
   "outputs": [
    {
     "name": "stdout",
     "output_type": "stream",
     "text": [
      "2.4959453720736625e-34\n",
      "Отвергаем нулевую гипотезу\n"
     ]
    }
   ],
   "source": [
    "ultra_duration = data_ultra['duration'] \n",
    "free_duration = data_free['duration']\n",
    "alpha = 0.05\n",
    "results = st.ttest_ind(ultra_duration, \n",
    "                       free_duration,\n",
    "                       alternative = 'greater')\n",
    "print(results.pvalue)\n",
    "\n",
    "if results.pvalue < alpha:\n",
    "    print('Отвергаем нулевую гипотезу')\n",
    "else:\n",
    "    print('Не удалось отвергнуть нулевую гипотезу')"
   ]
  },
  {
   "cell_type": "markdown",
   "id": "db0b43a6",
   "metadata": {},
   "source": [
    "### Проверим, можно ли сказать, что среднее расстояние, которое проезжают пользователи с подпиской за одну поездку, не превышает 3130 метров"
   ]
  },
  {
   "cell_type": "markdown",
   "id": "6255b011",
   "metadata": {},
   "source": [
    "Проверим гипотезу: пользователи с подпиской проезжают расстояние, не превышающее 3130 метров за одну поездку.\n",
    "\n",
    "H_0: Расстояние (distance) пользователей на подписке ultra = 3130 метров\n",
    "\n",
    "H_1: Расстояние (distance) пользователей на подписке ultra больше оптимального (3130 метров)\n",
    "\n",
    "alpha = 0.05"
   ]
  },
  {
   "cell_type": "code",
   "execution_count": 42,
   "id": "3f6e90e6",
   "metadata": {},
   "outputs": [
    {
     "name": "stdout",
     "output_type": "stream",
     "text": [
      "0.9120422337080507\n",
      "Не удалось отвергнуть нулевую гипотезу\n"
     ]
    }
   ],
   "source": [
    "ultra_distance = data_ultra['distance']\n",
    "interested_value = 3130\n",
    "alpha = 0.05\n",
    "results = st.ttest_1samp(\n",
    "    ultra_distance, \n",
    "    interested_value,\n",
    "    alternative='greater')\n",
    "print(results.pvalue)\n",
    "\n",
    "if (results.pvalue < alpha):\n",
    "    print('Отвергаем нулевую гипотезу')\n",
    "else:\n",
    "    print('Не удалось отвергнуть нулевую гипотезу')"
   ]
  },
  {
   "cell_type": "markdown",
   "id": "a1c07fd9",
   "metadata": {},
   "source": [
    "### Проверим гипотезу о том, будет ли помесячная выручка от пользователей с подпиской по месяцам выше, чем выручка от пользователей без подписки"
   ]
  },
  {
   "cell_type": "markdown",
   "id": "878db39e",
   "metadata": {},
   "source": [
    "Проверим гипотезу: помесячная выручка от пользователей с подпиской выше, чем выручка от пользователей без подписки\n",
    "\n",
    "H_0: Выручка пользователей на подписке ultra равна выручке пользователей на подписке free\n",
    "\n",
    "H_1: Выручка пользователей на подписке ultra > выручки пользователей на подписке free\n",
    "\n",
    "alpha = 0.05"
   ]
  },
  {
   "cell_type": "code",
   "execution_count": 43,
   "id": "003a8efc",
   "metadata": {},
   "outputs": [
    {
     "name": "stdout",
     "output_type": "stream",
     "text": [
      "3.819490444237055e-17\n",
      "Отвергаем нулевую гипотезу\n"
     ]
    }
   ],
   "source": [
    "ultra_proceeds = total_data_month.loc[total_data.subscription_type == 'ultra', 'proceeds'] \n",
    "free_proceeds = total_data_month.loc[total_data.subscription_type == 'free', 'proceeds'] \n",
    "alpha = 0.05\n",
    "results = st.ttest_ind(ultra_proceeds, \n",
    "                       free_proceeds,\n",
    "                       alternative = 'greater')\n",
    "print(results.pvalue)\n",
    "\n",
    "if results.pvalue < alpha:\n",
    "    print('Отвергаем нулевую гипотезу')\n",
    "else:\n",
    "    print('Не удалось отвергнуть нулевую гипотезу')"
   ]
  },
  {
   "cell_type": "markdown",
   "id": "77309914",
   "metadata": {},
   "source": [
    "### Проверим, уменьшится ли количесто обращений в техподдержку после обновления серверов"
   ]
  },
  {
   "cell_type": "markdown",
   "id": "25525d03",
   "metadata": {},
   "source": [
    "Необходимо использовать гипотезу о равенстве средних для зависимых (парных) выборок. Гипотезы будут сформулированы так:\n",
    "\n",
    "H_0: Различия между количеством обращений до и после обновления отсутствуют или что количество обращений после обновления больше или равно, чем до: μ2 >= μ1\n",
    "\n",
    "H_1:Количество обращений после обновления меньше, чем до обновления.\n",
    "</div> μ2 < μ1\n",
    "\n",
    ",где μ1 и μ2 - средние значения количество обращений в техподдержку до и после изменения.\n",
    "Метод, который нужно использовать при сравнении: scipy.stats.ttest_rel(alternative='less')"
   ]
  },
  {
   "cell_type": "markdown",
   "id": "868adbb9",
   "metadata": {},
   "source": [
    "**Вывод**\n",
    "\n",
    "Проверили все гипотезы, которые были даны в задании."
   ]
  },
  {
   "cell_type": "markdown",
   "id": "61213c5e",
   "metadata": {},
   "source": [
    "## Общий вывод"
   ]
  },
  {
   "cell_type": "markdown",
   "id": "a7141060",
   "metadata": {},
   "source": [
    "1. Цель проекта - это анализ данных и проверка некоторых гипотез, которые могут помочь бизнесу вырасти.\n",
    "\n",
    "\n",
    "2. В пункте Загрузка и предобработка данных было определено: \n",
    "    - В данных отсутствуют пропуски.\n",
    "    - Переменная date была приведена к нужному типу данных datetime.\n",
    "    - Округлили значения в столбцах distance и duration до целых в большую сторону и изменим тип данных на целочисленный.\n",
    "    - Создали новый столбец с номером месяца на основе столбца date.\n",
    "    - В датасете data_users имелись дубликаты, которые были обработаны.\n",
    "\n",
    "\n",
    "3. Исследовательский анализ данных помог выяснить:\n",
    "    - Количество пользователей по городам распределено практически одинаково, самое большое количество пользователей в Пятигорске - 219, самое наименьшее в Москве - 168. Думаю это из-за того, что Пятигорск маленький город и удобно (быстро) добраться из одной точки города в другую на самокате.\n",
    "    - Пользователей с платной подпиской 46%, что меньше, чем с бесплатной - 54%.\n",
    "    - В основном преобладают пользователи - 20-30 лет, самыми младшими являются - 12 лет, страшими - 43 года.\n",
    "    - В основном расстояние, которое пользователь преодолевал за одну поездку - 2000-4500 метров, самая короткая дистанция - 1 метр (возможно пользователь просто передумал брать данный самокат либо он был неисправен), самая длинная дистанция - 7212 метров.\n",
    "    - Продолжительность поездок в среднем составляет - 10-27 минут, минимальная - 1 минута, максимальная - 41 минута.\n",
    "\n",
    "\n",
    "4. В пункте Объединение данных было выполнено и определено:\n",
    "    - Были созданы три датафрейма - общий и два датафрейма для пользователей с подпиской и без.\n",
    "    - Согласно гистограмме (Распределение расстояния поездок для пользователей с подпиской и без) увидели, что у пользователей без подписки больше коротких поездок и максимальная дальность поездки выше, чем у платных пользователей. \n",
    "    - Данные с подпиской имеют также 2 пика как и у данных без подписки, но первый пик при этом не так ярко выражен как у пользователей без подписки. Если рассматривать второй пик, то у пользователей с подпиской он более пикообразный, чем у пользователей без, что свидетельствует о меньшей мере разброса вокруг среднее, если рассматривать только второй пик.\n",
    "    - Согласно гистограмме(Распределение продолжительности поездок для пользователей с подпиской и без)увидели, что для пользователей с подпиской \"ultra\" характерно более высокое количество длинных поездок - до 40 минут и более. Короткие поездки начинаются с 4 минут, а без подписки с 1 минуты. Продолжительность поездок при использовании подписки 'free' немного меньше по всем показателям, чем при использовании 'ultra'. Пик поездок ориентировочно в обоих случаях приходится на 18-20 минут.\n",
    "\n",
    "\n",
    "5. В пункте Подсчет выручки создали новый датафрейм с агрегированными данными total_data_month на основе датафрейма с объединенными данными total_data. Нашли суммарное расстояние, количество поездок и суммарное время для каждого пользователя за каждый месяц. Также добавили столбец с помесячной выручкой, которую принес каждый пользователь.\n",
    "\n",
    "\n",
    "6. Проверили гипотезы:\n",
    "    - Время пользователей на подписке ultra равно времени пользователей на подписке free - была отвергнута.\n",
    "    - Пользователи с подпиской проезжают расстояние, не превышающее 3130 метров за одну поездку - не была отвергнута.\n",
    "    - Выручка пользователей на подписке ultra равна выручке пользователей на подписке free - была отвергнута.\n",
    "    \n",
    "    \n",
    "7. Также можем дать рекомендации рекламному отделу, что необходимо продвигать платный вид подписки, тк он приносит больше выручки ( выяснили это при проверки гипотезы в пункте 6.3).\n",
    "    \n",
    "    Спасибо за внимание!"
   ]
  }
 ],
 "metadata": {
  "ExecuteTimeLog": [
   {
    "duration": 1401,
    "start_time": "2024-08-29T10:29:14.528Z"
   },
   {
    "duration": 4,
    "start_time": "2024-08-29T10:29:18.898Z"
   },
   {
    "duration": 1325,
    "start_time": "2024-08-29T10:32:46.910Z"
   },
   {
    "duration": 1371,
    "start_time": "2024-08-29T10:33:47.086Z"
   },
   {
    "duration": 111,
    "start_time": "2024-08-29T10:42:39.277Z"
   },
   {
    "duration": 292,
    "start_time": "2024-08-29T10:46:31.948Z"
   },
   {
    "duration": 111,
    "start_time": "2024-08-29T10:52:20.297Z"
   },
   {
    "duration": 13,
    "start_time": "2024-08-29T10:52:39.042Z"
   },
   {
    "duration": 14,
    "start_time": "2024-08-29T10:52:57.044Z"
   },
   {
    "duration": 24,
    "start_time": "2024-08-29T10:53:06.926Z"
   },
   {
    "duration": 51,
    "start_time": "2024-08-29T12:34:35.992Z"
   },
   {
    "duration": 8,
    "start_time": "2024-08-29T12:34:50.578Z"
   },
   {
    "duration": 7,
    "start_time": "2024-08-29T12:35:00.059Z"
   },
   {
    "duration": 1499,
    "start_time": "2024-08-29T12:35:37.680Z"
   },
   {
    "duration": 276,
    "start_time": "2024-08-29T12:35:39.181Z"
   },
   {
    "duration": 31,
    "start_time": "2024-08-29T12:35:39.459Z"
   },
   {
    "duration": 32,
    "start_time": "2024-08-29T12:35:39.491Z"
   },
   {
    "duration": 251,
    "start_time": "2024-08-29T12:55:15.801Z"
   },
   {
    "duration": 263,
    "start_time": "2024-08-29T12:55:27.995Z"
   },
   {
    "duration": 161,
    "start_time": "2024-08-29T13:09:06.328Z"
   },
   {
    "duration": 150,
    "start_time": "2024-08-29T13:09:13.002Z"
   },
   {
    "duration": 297,
    "start_time": "2024-08-29T13:09:20.025Z"
   },
   {
    "duration": 222,
    "start_time": "2024-08-29T13:09:25.496Z"
   },
   {
    "duration": 142,
    "start_time": "2024-08-29T13:09:31.514Z"
   },
   {
    "duration": 149,
    "start_time": "2024-08-29T13:09:42.003Z"
   },
   {
    "duration": 279,
    "start_time": "2024-08-29T13:09:49.775Z"
   },
   {
    "duration": 148,
    "start_time": "2024-08-29T13:09:55.401Z"
   },
   {
    "duration": 181,
    "start_time": "2024-08-29T13:10:07.807Z"
   },
   {
    "duration": 148,
    "start_time": "2024-08-29T13:10:12.879Z"
   },
   {
    "duration": 278,
    "start_time": "2024-08-29T13:13:14.958Z"
   },
   {
    "duration": 170,
    "start_time": "2024-08-29T13:13:37.701Z"
   },
   {
    "duration": 165,
    "start_time": "2024-08-29T13:13:46.787Z"
   },
   {
    "duration": 347,
    "start_time": "2024-08-29T13:13:54.808Z"
   },
   {
    "duration": 758,
    "start_time": "2024-08-29T13:14:02.252Z"
   },
   {
    "duration": 149,
    "start_time": "2024-08-29T13:14:11.946Z"
   },
   {
    "duration": 46,
    "start_time": "2024-08-29T15:38:24.356Z"
   },
   {
    "duration": 6,
    "start_time": "2024-08-29T15:38:34.204Z"
   },
   {
    "duration": 6,
    "start_time": "2024-08-29T15:38:37.112Z"
   },
   {
    "duration": 6,
    "start_time": "2024-08-29T15:38:48.159Z"
   },
   {
    "duration": 1433,
    "start_time": "2024-08-29T15:38:53.700Z"
   },
   {
    "duration": 409,
    "start_time": "2024-08-29T15:38:55.135Z"
   },
   {
    "duration": 22,
    "start_time": "2024-08-29T15:38:55.545Z"
   },
   {
    "duration": 27,
    "start_time": "2024-08-29T15:38:55.570Z"
   },
   {
    "duration": 160,
    "start_time": "2024-08-29T15:38:55.599Z"
   },
   {
    "duration": 263,
    "start_time": "2024-08-29T15:38:55.760Z"
   },
   {
    "duration": 102,
    "start_time": "2024-08-29T15:38:56.024Z"
   },
   {
    "duration": 153,
    "start_time": "2024-08-29T15:39:14.589Z"
   },
   {
    "duration": 145,
    "start_time": "2024-08-29T15:39:38.822Z"
   },
   {
    "duration": 132,
    "start_time": "2024-08-29T15:44:11.815Z"
   },
   {
    "duration": 149,
    "start_time": "2024-08-29T15:44:55.962Z"
   },
   {
    "duration": 213,
    "start_time": "2024-08-29T15:46:12.182Z"
   },
   {
    "duration": 156,
    "start_time": "2024-08-29T15:46:40.663Z"
   },
   {
    "duration": 155,
    "start_time": "2024-08-29T15:46:51.478Z"
   },
   {
    "duration": 243,
    "start_time": "2024-08-29T15:47:26.897Z"
   },
   {
    "duration": 245,
    "start_time": "2024-08-29T15:47:37.635Z"
   },
   {
    "duration": 244,
    "start_time": "2024-08-29T15:47:53.205Z"
   },
   {
    "duration": 222,
    "start_time": "2024-08-29T15:48:05.266Z"
   },
   {
    "duration": 248,
    "start_time": "2024-08-29T15:48:48.848Z"
   },
   {
    "duration": 163,
    "start_time": "2024-08-29T15:49:10.104Z"
   },
   {
    "duration": 157,
    "start_time": "2024-08-29T15:49:35.162Z"
   },
   {
    "duration": 251,
    "start_time": "2024-08-29T15:49:45.057Z"
   },
   {
    "duration": 135,
    "start_time": "2024-08-29T15:49:52.473Z"
   },
   {
    "duration": 4783,
    "start_time": "2024-08-29T15:51:37.875Z"
   },
   {
    "duration": 4788,
    "start_time": "2024-08-29T15:52:16.543Z"
   },
   {
    "duration": 69,
    "start_time": "2024-08-29T16:00:06.483Z"
   },
   {
    "duration": 10,
    "start_time": "2024-08-29T17:06:47.625Z"
   },
   {
    "duration": 14,
    "start_time": "2024-08-29T17:06:55.547Z"
   },
   {
    "duration": 17,
    "start_time": "2024-08-29T17:08:20.169Z"
   },
   {
    "duration": 5,
    "start_time": "2024-08-29T17:13:36.310Z"
   },
   {
    "duration": 6,
    "start_time": "2024-08-29T17:14:17.843Z"
   },
   {
    "duration": 8,
    "start_time": "2024-08-29T17:14:31.276Z"
   },
   {
    "duration": 15,
    "start_time": "2024-08-29T17:21:26.737Z"
   },
   {
    "duration": 8,
    "start_time": "2024-08-29T17:21:46.232Z"
   },
   {
    "duration": 7,
    "start_time": "2024-08-29T17:21:57.148Z"
   },
   {
    "duration": 8,
    "start_time": "2024-08-29T17:22:08.982Z"
   },
   {
    "duration": 3,
    "start_time": "2024-08-29T17:22:16.140Z"
   },
   {
    "duration": 8,
    "start_time": "2024-08-29T17:22:35.317Z"
   },
   {
    "duration": 3,
    "start_time": "2024-08-29T17:22:52.347Z"
   },
   {
    "duration": 3,
    "start_time": "2024-08-29T17:22:57.155Z"
   },
   {
    "duration": 3,
    "start_time": "2024-08-29T17:23:00.590Z"
   },
   {
    "duration": 12,
    "start_time": "2024-08-29T17:23:01.211Z"
   },
   {
    "duration": 1146,
    "start_time": "2024-08-29T17:23:20.276Z"
   },
   {
    "duration": 79,
    "start_time": "2024-08-29T17:23:21.425Z"
   },
   {
    "duration": 22,
    "start_time": "2024-08-29T17:23:21.506Z"
   },
   {
    "duration": 27,
    "start_time": "2024-08-29T17:23:21.530Z"
   },
   {
    "duration": 167,
    "start_time": "2024-08-29T17:23:21.558Z"
   },
   {
    "duration": 174,
    "start_time": "2024-08-29T17:23:21.727Z"
   },
   {
    "duration": 162,
    "start_time": "2024-08-29T17:23:21.903Z"
   },
   {
    "duration": 9,
    "start_time": "2024-08-29T17:23:22.067Z"
   },
   {
    "duration": 3,
    "start_time": "2024-08-29T17:23:22.078Z"
   },
   {
    "duration": 10,
    "start_time": "2024-08-29T17:23:22.083Z"
   },
   {
    "duration": 3,
    "start_time": "2024-08-29T17:23:39.176Z"
   },
   {
    "duration": 10,
    "start_time": "2024-08-29T17:23:39.837Z"
   },
   {
    "duration": 4,
    "start_time": "2024-08-29T17:24:06.144Z"
   },
   {
    "duration": 9,
    "start_time": "2024-08-29T17:24:07.632Z"
   },
   {
    "duration": 3,
    "start_time": "2024-08-29T17:25:57.350Z"
   },
   {
    "duration": 4,
    "start_time": "2024-08-29T17:25:59.719Z"
   },
   {
    "duration": 10,
    "start_time": "2024-08-29T17:26:00.137Z"
   },
   {
    "duration": 4,
    "start_time": "2024-08-29T17:26:16.095Z"
   },
   {
    "duration": 4,
    "start_time": "2024-08-29T17:26:18.150Z"
   },
   {
    "duration": 9,
    "start_time": "2024-08-29T17:26:18.740Z"
   },
   {
    "duration": 1282,
    "start_time": "2024-08-29T17:26:26.318Z"
   },
   {
    "duration": 78,
    "start_time": "2024-08-29T17:26:27.602Z"
   },
   {
    "duration": 21,
    "start_time": "2024-08-29T17:26:27.682Z"
   },
   {
    "duration": 27,
    "start_time": "2024-08-29T17:26:27.705Z"
   },
   {
    "duration": 156,
    "start_time": "2024-08-29T17:26:27.734Z"
   },
   {
    "duration": 168,
    "start_time": "2024-08-29T17:26:27.891Z"
   },
   {
    "duration": 158,
    "start_time": "2024-08-29T17:26:28.060Z"
   },
   {
    "duration": 15,
    "start_time": "2024-08-29T17:26:28.219Z"
   },
   {
    "duration": 4,
    "start_time": "2024-08-29T17:26:28.235Z"
   },
   {
    "duration": 10,
    "start_time": "2024-08-29T17:26:28.240Z"
   },
   {
    "duration": 1174,
    "start_time": "2024-08-29T17:28:21.745Z"
   },
   {
    "duration": 78,
    "start_time": "2024-08-29T17:28:22.921Z"
   },
   {
    "duration": 20,
    "start_time": "2024-08-29T17:28:23.001Z"
   },
   {
    "duration": 35,
    "start_time": "2024-08-29T17:28:23.023Z"
   },
   {
    "duration": 151,
    "start_time": "2024-08-29T17:28:23.060Z"
   },
   {
    "duration": 166,
    "start_time": "2024-08-29T17:28:23.213Z"
   },
   {
    "duration": 155,
    "start_time": "2024-08-29T17:28:23.381Z"
   },
   {
    "duration": 8,
    "start_time": "2024-08-29T17:28:23.538Z"
   },
   {
    "duration": 4,
    "start_time": "2024-08-29T17:28:23.547Z"
   },
   {
    "duration": 8,
    "start_time": "2024-08-29T17:28:23.553Z"
   },
   {
    "duration": 4,
    "start_time": "2024-08-29T17:29:25.551Z"
   },
   {
    "duration": 8,
    "start_time": "2024-08-29T17:29:26.155Z"
   },
   {
    "duration": 1189,
    "start_time": "2024-08-29T17:29:31.975Z"
   },
   {
    "duration": 78,
    "start_time": "2024-08-29T17:29:33.166Z"
   },
   {
    "duration": 20,
    "start_time": "2024-08-29T17:29:33.246Z"
   },
   {
    "duration": 26,
    "start_time": "2024-08-29T17:29:33.268Z"
   },
   {
    "duration": 157,
    "start_time": "2024-08-29T17:29:33.295Z"
   },
   {
    "duration": 168,
    "start_time": "2024-08-29T17:29:33.453Z"
   },
   {
    "duration": 160,
    "start_time": "2024-08-29T17:29:33.622Z"
   },
   {
    "duration": 10,
    "start_time": "2024-08-29T17:29:33.783Z"
   },
   {
    "duration": 5,
    "start_time": "2024-08-29T17:29:33.794Z"
   },
   {
    "duration": 24,
    "start_time": "2024-08-29T17:29:33.801Z"
   },
   {
    "duration": 1142,
    "start_time": "2024-08-29T17:33:13.471Z"
   },
   {
    "duration": 79,
    "start_time": "2024-08-29T17:33:14.614Z"
   },
   {
    "duration": 23,
    "start_time": "2024-08-29T17:33:14.695Z"
   },
   {
    "duration": 28,
    "start_time": "2024-08-29T17:33:14.719Z"
   },
   {
    "duration": 155,
    "start_time": "2024-08-29T17:33:14.749Z"
   },
   {
    "duration": 165,
    "start_time": "2024-08-29T17:33:14.906Z"
   },
   {
    "duration": 160,
    "start_time": "2024-08-29T17:33:15.073Z"
   },
   {
    "duration": 9,
    "start_time": "2024-08-29T17:33:15.235Z"
   },
   {
    "duration": 32,
    "start_time": "2024-08-29T17:33:15.246Z"
   },
   {
    "duration": 21,
    "start_time": "2024-08-29T17:33:15.280Z"
   },
   {
    "duration": 15,
    "start_time": "2024-08-29T17:34:09.586Z"
   },
   {
    "duration": 14,
    "start_time": "2024-08-29T17:34:19.209Z"
   },
   {
    "duration": 6,
    "start_time": "2024-08-29T17:42:53.938Z"
   },
   {
    "duration": 10,
    "start_time": "2024-08-29T17:47:52.807Z"
   },
   {
    "duration": 14,
    "start_time": "2024-08-29T17:47:59.622Z"
   },
   {
    "duration": 1204,
    "start_time": "2024-08-29T17:48:04.612Z"
   },
   {
    "duration": 80,
    "start_time": "2024-08-29T17:48:05.818Z"
   },
   {
    "duration": 22,
    "start_time": "2024-08-29T17:48:05.899Z"
   },
   {
    "duration": 26,
    "start_time": "2024-08-29T17:48:05.922Z"
   },
   {
    "duration": 158,
    "start_time": "2024-08-29T17:48:05.950Z"
   },
   {
    "duration": 164,
    "start_time": "2024-08-29T17:48:06.109Z"
   },
   {
    "duration": 155,
    "start_time": "2024-08-29T17:48:06.274Z"
   },
   {
    "duration": 9,
    "start_time": "2024-08-29T17:48:06.431Z"
   },
   {
    "duration": 16,
    "start_time": "2024-08-29T17:48:06.442Z"
   },
   {
    "duration": 14,
    "start_time": "2024-08-29T17:48:06.460Z"
   },
   {
    "duration": 5,
    "start_time": "2024-08-29T17:48:06.476Z"
   },
   {
    "duration": 9,
    "start_time": "2024-08-29T17:48:06.482Z"
   },
   {
    "duration": 8,
    "start_time": "2024-08-29T17:56:57.404Z"
   },
   {
    "duration": 8,
    "start_time": "2024-08-29T17:57:07.528Z"
   },
   {
    "duration": 11,
    "start_time": "2024-08-29T17:59:32.107Z"
   },
   {
    "duration": 110,
    "start_time": "2024-08-29T18:00:20.925Z"
   },
   {
    "duration": 15,
    "start_time": "2024-08-29T18:00:25.663Z"
   },
   {
    "duration": 6,
    "start_time": "2024-08-29T18:04:29.561Z"
   },
   {
    "duration": 6,
    "start_time": "2024-08-29T18:05:34.629Z"
   },
   {
    "duration": 5,
    "start_time": "2024-08-29T18:05:45.158Z"
   },
   {
    "duration": 4,
    "start_time": "2024-08-29T18:11:52.206Z"
   },
   {
    "duration": 11,
    "start_time": "2024-08-29T18:11:58.768Z"
   },
   {
    "duration": 12,
    "start_time": "2024-08-29T18:12:30.881Z"
   },
   {
    "duration": 7,
    "start_time": "2024-08-29T18:16:10.989Z"
   },
   {
    "duration": 9,
    "start_time": "2024-08-29T18:18:27.682Z"
   },
   {
    "duration": 1216,
    "start_time": "2024-08-29T18:18:51.702Z"
   },
   {
    "duration": 80,
    "start_time": "2024-08-29T18:18:52.919Z"
   },
   {
    "duration": 22,
    "start_time": "2024-08-29T18:18:53.003Z"
   },
   {
    "duration": 25,
    "start_time": "2024-08-29T18:18:53.026Z"
   },
   {
    "duration": 158,
    "start_time": "2024-08-29T18:18:53.052Z"
   },
   {
    "duration": 162,
    "start_time": "2024-08-29T18:18:53.211Z"
   },
   {
    "duration": 155,
    "start_time": "2024-08-29T18:18:53.374Z"
   },
   {
    "duration": 9,
    "start_time": "2024-08-29T18:18:53.531Z"
   },
   {
    "duration": 5,
    "start_time": "2024-08-29T18:18:53.542Z"
   },
   {
    "duration": 28,
    "start_time": "2024-08-29T18:18:53.549Z"
   },
   {
    "duration": 70,
    "start_time": "2024-08-29T18:18:53.579Z"
   },
   {
    "duration": 10,
    "start_time": "2024-08-29T18:18:53.650Z"
   },
   {
    "duration": 7,
    "start_time": "2024-08-29T18:18:53.661Z"
   },
   {
    "duration": 9,
    "start_time": "2024-08-29T18:18:53.669Z"
   },
   {
    "duration": 25,
    "start_time": "2024-08-29T18:22:55.421Z"
   },
   {
    "duration": 14,
    "start_time": "2024-08-29T18:23:53.263Z"
   },
   {
    "duration": 8,
    "start_time": "2024-08-29T18:25:10.710Z"
   },
   {
    "duration": 8,
    "start_time": "2024-08-29T18:25:17.139Z"
   },
   {
    "duration": 1178,
    "start_time": "2024-08-29T18:33:22.918Z"
   },
   {
    "duration": 77,
    "start_time": "2024-08-29T18:33:24.098Z"
   },
   {
    "duration": 21,
    "start_time": "2024-08-29T18:33:24.179Z"
   },
   {
    "duration": 26,
    "start_time": "2024-08-29T18:33:24.202Z"
   },
   {
    "duration": 153,
    "start_time": "2024-08-29T18:33:24.229Z"
   },
   {
    "duration": 166,
    "start_time": "2024-08-29T18:33:24.384Z"
   },
   {
    "duration": 164,
    "start_time": "2024-08-29T18:33:24.551Z"
   },
   {
    "duration": 14,
    "start_time": "2024-08-29T18:33:24.717Z"
   },
   {
    "duration": 5,
    "start_time": "2024-08-29T18:33:24.733Z"
   },
   {
    "duration": 14,
    "start_time": "2024-08-29T18:33:24.739Z"
   },
   {
    "duration": 6,
    "start_time": "2024-08-29T18:33:24.754Z"
   },
   {
    "duration": 13,
    "start_time": "2024-08-29T18:33:24.761Z"
   },
   {
    "duration": 7,
    "start_time": "2024-08-29T18:33:24.776Z"
   },
   {
    "duration": 42,
    "start_time": "2024-08-29T18:33:24.785Z"
   },
   {
    "duration": 14,
    "start_time": "2024-08-29T18:33:24.829Z"
   },
   {
    "duration": 8,
    "start_time": "2024-08-29T18:33:24.844Z"
   },
   {
    "duration": 1125,
    "start_time": "2024-08-29T18:33:47.581Z"
   },
   {
    "duration": 78,
    "start_time": "2024-08-29T18:33:48.708Z"
   },
   {
    "duration": 21,
    "start_time": "2024-08-29T18:33:48.787Z"
   },
   {
    "duration": 28,
    "start_time": "2024-08-29T18:33:48.810Z"
   },
   {
    "duration": 156,
    "start_time": "2024-08-29T18:33:48.840Z"
   },
   {
    "duration": 173,
    "start_time": "2024-08-29T18:33:48.998Z"
   },
   {
    "duration": 161,
    "start_time": "2024-08-29T18:33:49.172Z"
   },
   {
    "duration": 9,
    "start_time": "2024-08-29T18:33:49.335Z"
   },
   {
    "duration": 5,
    "start_time": "2024-08-29T18:33:49.345Z"
   },
   {
    "duration": 14,
    "start_time": "2024-08-29T18:33:49.352Z"
   },
   {
    "duration": 12,
    "start_time": "2024-08-29T18:33:49.367Z"
   },
   {
    "duration": 10,
    "start_time": "2024-08-29T18:33:49.380Z"
   },
   {
    "duration": 37,
    "start_time": "2024-08-29T18:33:49.391Z"
   },
   {
    "duration": 8,
    "start_time": "2024-08-29T18:33:49.430Z"
   },
   {
    "duration": 13,
    "start_time": "2024-08-29T18:33:49.439Z"
   },
   {
    "duration": 7,
    "start_time": "2024-08-29T18:33:49.453Z"
   },
   {
    "duration": 54,
    "start_time": "2024-08-30T12:00:39.216Z"
   },
   {
    "duration": 1563,
    "start_time": "2024-08-30T12:00:47.054Z"
   },
   {
    "duration": 298,
    "start_time": "2024-08-30T12:00:48.619Z"
   },
   {
    "duration": 22,
    "start_time": "2024-08-30T12:00:48.919Z"
   },
   {
    "duration": 46,
    "start_time": "2024-08-30T12:00:48.943Z"
   },
   {
    "duration": 166,
    "start_time": "2024-08-30T12:00:48.992Z"
   },
   {
    "duration": 170,
    "start_time": "2024-08-30T12:00:49.164Z"
   },
   {
    "duration": 186,
    "start_time": "2024-08-30T12:00:49.336Z"
   },
   {
    "duration": 13,
    "start_time": "2024-08-30T12:00:49.525Z"
   },
   {
    "duration": 13,
    "start_time": "2024-08-30T12:00:49.540Z"
   },
   {
    "duration": 31,
    "start_time": "2024-08-30T12:00:49.555Z"
   },
   {
    "duration": 11,
    "start_time": "2024-08-30T12:00:49.588Z"
   },
   {
    "duration": 10,
    "start_time": "2024-08-30T12:00:49.601Z"
   },
   {
    "duration": 8,
    "start_time": "2024-08-30T12:00:49.612Z"
   },
   {
    "duration": 78,
    "start_time": "2024-08-30T12:00:49.622Z"
   },
   {
    "duration": 20,
    "start_time": "2024-08-30T12:00:49.701Z"
   },
   {
    "duration": 9,
    "start_time": "2024-08-30T12:00:49.723Z"
   },
   {
    "duration": 25,
    "start_time": "2024-08-30T12:00:49.734Z"
   },
   {
    "duration": 13,
    "start_time": "2024-08-30T12:04:07.916Z"
   },
   {
    "duration": 180,
    "start_time": "2024-08-30T12:10:55.912Z"
   },
   {
    "duration": 169,
    "start_time": "2024-08-30T12:13:09.400Z"
   },
   {
    "duration": 6,
    "start_time": "2024-08-30T12:31:47.255Z"
   },
   {
    "duration": 1286,
    "start_time": "2024-08-30T13:07:27.931Z"
   },
   {
    "duration": 70,
    "start_time": "2024-08-30T13:07:29.219Z"
   },
   {
    "duration": 20,
    "start_time": "2024-08-30T13:07:29.290Z"
   },
   {
    "duration": 25,
    "start_time": "2024-08-30T13:07:29.312Z"
   },
   {
    "duration": 150,
    "start_time": "2024-08-30T13:07:29.339Z"
   },
   {
    "duration": 167,
    "start_time": "2024-08-30T13:07:29.490Z"
   },
   {
    "duration": 191,
    "start_time": "2024-08-30T13:07:29.659Z"
   },
   {
    "duration": 22,
    "start_time": "2024-08-30T13:07:29.851Z"
   },
   {
    "duration": 31,
    "start_time": "2024-08-30T13:07:29.875Z"
   },
   {
    "duration": 15,
    "start_time": "2024-08-30T13:07:29.908Z"
   },
   {
    "duration": 5,
    "start_time": "2024-08-30T13:07:29.925Z"
   },
   {
    "duration": 10,
    "start_time": "2024-08-30T13:07:29.932Z"
   },
   {
    "duration": 8,
    "start_time": "2024-08-30T13:07:29.944Z"
   },
   {
    "duration": 21,
    "start_time": "2024-08-30T13:07:29.953Z"
   },
   {
    "duration": 14,
    "start_time": "2024-08-30T13:07:29.975Z"
   },
   {
    "duration": 9,
    "start_time": "2024-08-30T13:07:29.991Z"
   },
   {
    "duration": 13,
    "start_time": "2024-08-30T13:07:30.002Z"
   },
   {
    "duration": 242,
    "start_time": "2024-08-30T13:07:30.017Z"
   },
   {
    "duration": 7,
    "start_time": "2024-08-30T13:07:30.261Z"
   },
   {
    "duration": 140,
    "start_time": "2024-08-30T13:07:30.269Z"
   },
   {
    "duration": 102,
    "start_time": "2024-08-30T13:07:43.363Z"
   },
   {
    "duration": 102,
    "start_time": "2024-08-30T13:07:52.385Z"
   },
   {
    "duration": 167,
    "start_time": "2024-08-30T13:08:46.238Z"
   },
   {
    "duration": 98,
    "start_time": "2024-08-30T13:08:49.398Z"
   },
   {
    "duration": 1322,
    "start_time": "2024-08-30T13:08:56.653Z"
   },
   {
    "duration": 72,
    "start_time": "2024-08-30T13:08:57.977Z"
   },
   {
    "duration": 23,
    "start_time": "2024-08-30T13:08:58.050Z"
   },
   {
    "duration": 28,
    "start_time": "2024-08-30T13:08:58.076Z"
   },
   {
    "duration": 178,
    "start_time": "2024-08-30T13:08:58.106Z"
   },
   {
    "duration": 193,
    "start_time": "2024-08-30T13:08:58.286Z"
   },
   {
    "duration": 168,
    "start_time": "2024-08-30T13:08:58.481Z"
   },
   {
    "duration": 17,
    "start_time": "2024-08-30T13:08:58.651Z"
   },
   {
    "duration": 61,
    "start_time": "2024-08-30T13:08:58.670Z"
   },
   {
    "duration": 18,
    "start_time": "2024-08-30T13:08:58.734Z"
   },
   {
    "duration": 7,
    "start_time": "2024-08-30T13:08:58.753Z"
   },
   {
    "duration": 10,
    "start_time": "2024-08-30T13:08:58.762Z"
   },
   {
    "duration": 8,
    "start_time": "2024-08-30T13:08:58.774Z"
   },
   {
    "duration": 16,
    "start_time": "2024-08-30T13:08:58.784Z"
   },
   {
    "duration": 19,
    "start_time": "2024-08-30T13:08:58.802Z"
   },
   {
    "duration": 11,
    "start_time": "2024-08-30T13:08:58.822Z"
   },
   {
    "duration": 41,
    "start_time": "2024-08-30T13:08:58.835Z"
   },
   {
    "duration": 200,
    "start_time": "2024-08-30T13:08:58.878Z"
   },
   {
    "duration": 4,
    "start_time": "2024-08-30T13:08:59.080Z"
   },
   {
    "duration": 112,
    "start_time": "2024-08-30T13:08:59.086Z"
   },
   {
    "duration": 95,
    "start_time": "2024-08-30T13:09:07.222Z"
   },
   {
    "duration": 90,
    "start_time": "2024-08-30T13:09:26.407Z"
   },
   {
    "duration": 1245,
    "start_time": "2024-08-30T13:09:35.230Z"
   },
   {
    "duration": 70,
    "start_time": "2024-08-30T13:09:36.477Z"
   },
   {
    "duration": 23,
    "start_time": "2024-08-30T13:09:36.549Z"
   },
   {
    "duration": 28,
    "start_time": "2024-08-30T13:09:36.574Z"
   },
   {
    "duration": 180,
    "start_time": "2024-08-30T13:09:36.604Z"
   },
   {
    "duration": 166,
    "start_time": "2024-08-30T13:09:36.785Z"
   },
   {
    "duration": 164,
    "start_time": "2024-08-30T13:09:36.953Z"
   },
   {
    "duration": 9,
    "start_time": "2024-08-30T13:09:37.119Z"
   },
   {
    "duration": 10,
    "start_time": "2024-08-30T13:09:37.130Z"
   },
   {
    "duration": 32,
    "start_time": "2024-08-30T13:09:37.142Z"
   },
   {
    "duration": 5,
    "start_time": "2024-08-30T13:09:37.176Z"
   },
   {
    "duration": 31,
    "start_time": "2024-08-30T13:09:37.183Z"
   },
   {
    "duration": 8,
    "start_time": "2024-08-30T13:09:37.216Z"
   },
   {
    "duration": 29,
    "start_time": "2024-08-30T13:09:37.225Z"
   },
   {
    "duration": 14,
    "start_time": "2024-08-30T13:09:37.256Z"
   },
   {
    "duration": 8,
    "start_time": "2024-08-30T13:09:37.272Z"
   },
   {
    "duration": 13,
    "start_time": "2024-08-30T13:09:37.281Z"
   },
   {
    "duration": 198,
    "start_time": "2024-08-30T13:09:37.296Z"
   },
   {
    "duration": 4,
    "start_time": "2024-08-30T13:09:37.495Z"
   },
   {
    "duration": 95,
    "start_time": "2024-08-30T13:09:37.501Z"
   },
   {
    "duration": 119,
    "start_time": "2024-08-30T13:09:50.656Z"
   },
   {
    "duration": 141,
    "start_time": "2024-08-30T13:19:19.187Z"
   },
   {
    "duration": 206,
    "start_time": "2024-08-30T13:19:46.976Z"
   },
   {
    "duration": 131,
    "start_time": "2024-08-30T13:20:16.975Z"
   },
   {
    "duration": 9,
    "start_time": "2024-08-30T13:22:37.612Z"
   },
   {
    "duration": 160,
    "start_time": "2024-08-30T13:43:33.000Z"
   },
   {
    "duration": 9,
    "start_time": "2024-08-30T13:44:49.324Z"
   },
   {
    "duration": 124,
    "start_time": "2024-08-30T13:50:24.110Z"
   },
   {
    "duration": 132,
    "start_time": "2024-08-30T13:51:13.478Z"
   },
   {
    "duration": 132,
    "start_time": "2024-08-30T13:51:53.105Z"
   },
   {
    "duration": 123,
    "start_time": "2024-08-30T13:52:18.321Z"
   },
   {
    "duration": 1268,
    "start_time": "2024-08-30T13:52:29.764Z"
   },
   {
    "duration": 72,
    "start_time": "2024-08-30T13:52:31.034Z"
   },
   {
    "duration": 22,
    "start_time": "2024-08-30T13:52:31.108Z"
   },
   {
    "duration": 29,
    "start_time": "2024-08-30T13:52:31.132Z"
   },
   {
    "duration": 172,
    "start_time": "2024-08-30T13:52:31.163Z"
   },
   {
    "duration": 174,
    "start_time": "2024-08-30T13:52:31.337Z"
   },
   {
    "duration": 178,
    "start_time": "2024-08-30T13:52:31.513Z"
   },
   {
    "duration": 14,
    "start_time": "2024-08-30T13:52:31.693Z"
   },
   {
    "duration": 13,
    "start_time": "2024-08-30T13:52:31.709Z"
   },
   {
    "duration": 18,
    "start_time": "2024-08-30T13:52:31.725Z"
   },
   {
    "duration": 27,
    "start_time": "2024-08-30T13:52:31.745Z"
   },
   {
    "duration": 17,
    "start_time": "2024-08-30T13:52:31.775Z"
   },
   {
    "duration": 10,
    "start_time": "2024-08-30T13:52:31.795Z"
   },
   {
    "duration": 17,
    "start_time": "2024-08-30T13:52:31.808Z"
   },
   {
    "duration": 50,
    "start_time": "2024-08-30T13:52:31.828Z"
   },
   {
    "duration": 11,
    "start_time": "2024-08-30T13:52:31.882Z"
   },
   {
    "duration": 15,
    "start_time": "2024-08-30T13:52:31.895Z"
   },
   {
    "duration": 233,
    "start_time": "2024-08-30T13:52:31.911Z"
   },
   {
    "duration": 5,
    "start_time": "2024-08-30T13:52:32.146Z"
   },
   {
    "duration": 119,
    "start_time": "2024-08-30T13:52:32.153Z"
   },
   {
    "duration": 185,
    "start_time": "2024-08-30T13:52:32.274Z"
   },
   {
    "duration": 11,
    "start_time": "2024-08-30T13:52:32.461Z"
   },
   {
    "duration": 186,
    "start_time": "2024-08-30T13:52:32.474Z"
   },
   {
    "duration": 9,
    "start_time": "2024-08-30T13:52:32.665Z"
   },
   {
    "duration": 218,
    "start_time": "2024-08-30T13:52:32.676Z"
   },
   {
    "duration": 165,
    "start_time": "2024-08-30T13:52:51.471Z"
   },
   {
    "duration": 141,
    "start_time": "2024-08-30T13:52:56.401Z"
   },
   {
    "duration": 150,
    "start_time": "2024-08-30T13:53:33.751Z"
   },
   {
    "duration": 141,
    "start_time": "2024-08-30T13:53:41.199Z"
   },
   {
    "duration": 135,
    "start_time": "2024-08-30T13:53:51.875Z"
   },
   {
    "duration": 146,
    "start_time": "2024-08-30T13:54:04.927Z"
   },
   {
    "duration": 155,
    "start_time": "2024-08-30T13:54:12.062Z"
   },
   {
    "duration": 133,
    "start_time": "2024-08-30T13:54:25.887Z"
   },
   {
    "duration": 125,
    "start_time": "2024-08-30T13:58:23.175Z"
   },
   {
    "duration": 84,
    "start_time": "2024-08-30T13:59:11.688Z"
   },
   {
    "duration": 225,
    "start_time": "2024-08-30T13:59:21.684Z"
   },
   {
    "duration": 112,
    "start_time": "2024-08-30T13:59:30.873Z"
   },
   {
    "duration": 219,
    "start_time": "2024-08-30T13:59:34.770Z"
   },
   {
    "duration": 140,
    "start_time": "2024-08-30T14:10:23.039Z"
   },
   {
    "duration": 162,
    "start_time": "2024-08-30T14:15:18.517Z"
   },
   {
    "duration": 12,
    "start_time": "2024-08-30T14:15:55.684Z"
   },
   {
    "duration": 126,
    "start_time": "2024-08-30T14:17:22.891Z"
   },
   {
    "duration": 114,
    "start_time": "2024-08-30T14:17:34.634Z"
   },
   {
    "duration": 1279,
    "start_time": "2024-08-30T14:22:51.318Z"
   },
   {
    "duration": 72,
    "start_time": "2024-08-30T14:22:52.599Z"
   },
   {
    "duration": 23,
    "start_time": "2024-08-30T14:22:52.673Z"
   },
   {
    "duration": 28,
    "start_time": "2024-08-30T14:22:52.698Z"
   },
   {
    "duration": 172,
    "start_time": "2024-08-30T14:22:52.728Z"
   },
   {
    "duration": 177,
    "start_time": "2024-08-30T14:22:52.902Z"
   },
   {
    "duration": 181,
    "start_time": "2024-08-30T14:22:53.081Z"
   },
   {
    "duration": 16,
    "start_time": "2024-08-30T14:22:53.263Z"
   },
   {
    "duration": 7,
    "start_time": "2024-08-30T14:22:53.281Z"
   },
   {
    "duration": 18,
    "start_time": "2024-08-30T14:22:53.289Z"
   },
   {
    "duration": 6,
    "start_time": "2024-08-30T14:22:53.308Z"
   },
   {
    "duration": 11,
    "start_time": "2024-08-30T14:22:53.315Z"
   },
   {
    "duration": 41,
    "start_time": "2024-08-30T14:22:53.328Z"
   },
   {
    "duration": 10,
    "start_time": "2024-08-30T14:22:53.371Z"
   },
   {
    "duration": 17,
    "start_time": "2024-08-30T14:22:53.382Z"
   },
   {
    "duration": 8,
    "start_time": "2024-08-30T14:22:53.400Z"
   },
   {
    "duration": 13,
    "start_time": "2024-08-30T14:22:53.409Z"
   },
   {
    "duration": 220,
    "start_time": "2024-08-30T14:22:53.424Z"
   },
   {
    "duration": 5,
    "start_time": "2024-08-30T14:22:53.647Z"
   },
   {
    "duration": 123,
    "start_time": "2024-08-30T14:22:53.654Z"
   },
   {
    "duration": 189,
    "start_time": "2024-08-30T14:22:53.779Z"
   },
   {
    "duration": 11,
    "start_time": "2024-08-30T14:22:53.970Z"
   },
   {
    "duration": 186,
    "start_time": "2024-08-30T14:22:53.983Z"
   },
   {
    "duration": 11,
    "start_time": "2024-08-30T14:22:54.171Z"
   },
   {
    "duration": 236,
    "start_time": "2024-08-30T14:22:54.184Z"
   },
   {
    "duration": 160,
    "start_time": "2024-08-30T14:22:54.421Z"
   },
   {
    "duration": 7,
    "start_time": "2024-08-30T14:22:54.583Z"
   },
   {
    "duration": 124,
    "start_time": "2024-08-30T14:22:54.592Z"
   },
   {
    "duration": 7,
    "start_time": "2024-08-30T14:23:55.972Z"
   },
   {
    "duration": 11,
    "start_time": "2024-08-30T14:24:15.545Z"
   },
   {
    "duration": 8,
    "start_time": "2024-08-30T14:24:43.410Z"
   },
   {
    "duration": 8,
    "start_time": "2024-08-30T14:25:06.944Z"
   },
   {
    "duration": 3023,
    "start_time": "2024-08-30T14:25:38.781Z"
   },
   {
    "duration": 2945,
    "start_time": "2024-08-30T14:25:42.596Z"
   },
   {
    "duration": 124,
    "start_time": "2024-08-30T14:25:59.657Z"
   },
   {
    "duration": 1431,
    "start_time": "2024-09-02T08:42:17.841Z"
   },
   {
    "duration": 353,
    "start_time": "2024-09-02T08:42:19.275Z"
   },
   {
    "duration": 25,
    "start_time": "2024-09-02T08:42:19.629Z"
   },
   {
    "duration": 29,
    "start_time": "2024-09-02T08:42:19.655Z"
   },
   {
    "duration": 182,
    "start_time": "2024-09-02T08:42:19.686Z"
   },
   {
    "duration": 176,
    "start_time": "2024-09-02T08:42:19.869Z"
   },
   {
    "duration": 177,
    "start_time": "2024-09-02T08:42:20.046Z"
   },
   {
    "duration": 9,
    "start_time": "2024-09-02T08:42:20.225Z"
   },
   {
    "duration": 16,
    "start_time": "2024-09-02T08:42:20.236Z"
   },
   {
    "duration": 22,
    "start_time": "2024-09-02T08:42:20.254Z"
   },
   {
    "duration": 5,
    "start_time": "2024-09-02T08:42:20.278Z"
   },
   {
    "duration": 17,
    "start_time": "2024-09-02T08:42:20.285Z"
   },
   {
    "duration": 8,
    "start_time": "2024-09-02T08:42:20.303Z"
   },
   {
    "duration": 10,
    "start_time": "2024-09-02T08:42:20.314Z"
   },
   {
    "duration": 38,
    "start_time": "2024-09-02T08:42:20.326Z"
   },
   {
    "duration": 8,
    "start_time": "2024-09-02T08:42:20.365Z"
   },
   {
    "duration": 14,
    "start_time": "2024-09-02T08:42:20.374Z"
   },
   {
    "duration": 207,
    "start_time": "2024-09-02T08:42:20.389Z"
   },
   {
    "duration": 5,
    "start_time": "2024-09-02T08:42:20.597Z"
   },
   {
    "duration": 106,
    "start_time": "2024-09-02T08:42:20.603Z"
   },
   {
    "duration": 146,
    "start_time": "2024-09-02T08:42:20.711Z"
   },
   {
    "duration": 7,
    "start_time": "2024-09-02T08:42:20.859Z"
   },
   {
    "duration": 197,
    "start_time": "2024-09-02T08:42:20.868Z"
   },
   {
    "duration": 8,
    "start_time": "2024-09-02T08:42:21.066Z"
   },
   {
    "duration": 232,
    "start_time": "2024-09-02T08:42:21.076Z"
   },
   {
    "duration": 173,
    "start_time": "2024-09-02T08:42:21.310Z"
   },
   {
    "duration": 9,
    "start_time": "2024-09-02T08:42:21.484Z"
   },
   {
    "duration": 128,
    "start_time": "2024-09-02T08:42:21.494Z"
   },
   {
    "duration": 15,
    "start_time": "2024-09-02T08:42:21.623Z"
   },
   {
    "duration": 11,
    "start_time": "2024-09-02T08:42:44.786Z"
   },
   {
    "duration": 105,
    "start_time": "2024-09-02T08:58:00.423Z"
   },
   {
    "duration": 6,
    "start_time": "2024-09-02T08:58:11.512Z"
   },
   {
    "duration": 15,
    "start_time": "2024-09-02T08:58:21.718Z"
   },
   {
    "duration": 9,
    "start_time": "2024-09-02T09:03:03.186Z"
   },
   {
    "duration": 7,
    "start_time": "2024-09-02T09:03:05.962Z"
   },
   {
    "duration": 8,
    "start_time": "2024-09-02T09:04:33.689Z"
   },
   {
    "duration": 9,
    "start_time": "2024-09-02T09:04:51.245Z"
   },
   {
    "duration": 10,
    "start_time": "2024-09-02T09:05:20.467Z"
   },
   {
    "duration": 9,
    "start_time": "2024-09-02T09:05:24.056Z"
   },
   {
    "duration": 1251,
    "start_time": "2024-09-02T09:06:04.388Z"
   },
   {
    "duration": 72,
    "start_time": "2024-09-02T09:06:05.641Z"
   },
   {
    "duration": 23,
    "start_time": "2024-09-02T09:06:05.714Z"
   },
   {
    "duration": 32,
    "start_time": "2024-09-02T09:06:05.738Z"
   },
   {
    "duration": 172,
    "start_time": "2024-09-02T09:06:05.772Z"
   },
   {
    "duration": 173,
    "start_time": "2024-09-02T09:06:05.945Z"
   },
   {
    "duration": 162,
    "start_time": "2024-09-02T09:06:06.120Z"
   },
   {
    "duration": 10,
    "start_time": "2024-09-02T09:06:06.283Z"
   },
   {
    "duration": 20,
    "start_time": "2024-09-02T09:06:06.295Z"
   },
   {
    "duration": 16,
    "start_time": "2024-09-02T09:06:06.316Z"
   },
   {
    "duration": 8,
    "start_time": "2024-09-02T09:06:06.334Z"
   },
   {
    "duration": 11,
    "start_time": "2024-09-02T09:06:06.352Z"
   },
   {
    "duration": 8,
    "start_time": "2024-09-02T09:06:06.364Z"
   },
   {
    "duration": 9,
    "start_time": "2024-09-02T09:06:06.375Z"
   },
   {
    "duration": 31,
    "start_time": "2024-09-02T09:06:06.385Z"
   },
   {
    "duration": 11,
    "start_time": "2024-09-02T09:06:06.418Z"
   },
   {
    "duration": 30,
    "start_time": "2024-09-02T09:06:06.431Z"
   },
   {
    "duration": 189,
    "start_time": "2024-09-02T09:06:06.463Z"
   },
   {
    "duration": 4,
    "start_time": "2024-09-02T09:06:06.654Z"
   },
   {
    "duration": 116,
    "start_time": "2024-09-02T09:06:06.660Z"
   },
   {
    "duration": 153,
    "start_time": "2024-09-02T09:06:06.778Z"
   },
   {
    "duration": 8,
    "start_time": "2024-09-02T09:06:06.932Z"
   },
   {
    "duration": 173,
    "start_time": "2024-09-02T09:06:06.941Z"
   },
   {
    "duration": 8,
    "start_time": "2024-09-02T09:06:07.115Z"
   },
   {
    "duration": 227,
    "start_time": "2024-09-02T09:06:07.125Z"
   },
   {
    "duration": 160,
    "start_time": "2024-09-02T09:06:07.354Z"
   },
   {
    "duration": 7,
    "start_time": "2024-09-02T09:06:07.516Z"
   },
   {
    "duration": 131,
    "start_time": "2024-09-02T09:06:07.525Z"
   },
   {
    "duration": 15,
    "start_time": "2024-09-02T09:06:07.657Z"
   },
   {
    "duration": 11,
    "start_time": "2024-09-02T09:06:07.673Z"
   },
   {
    "duration": 21,
    "start_time": "2024-09-02T09:06:07.686Z"
   },
   {
    "duration": 13,
    "start_time": "2024-09-02T09:06:07.708Z"
   },
   {
    "duration": 122,
    "start_time": "2024-09-02T09:06:07.723Z"
   },
   {
    "duration": 0,
    "start_time": "2024-09-02T09:06:07.847Z"
   },
   {
    "duration": 9,
    "start_time": "2024-09-02T09:08:42.473Z"
   },
   {
    "duration": 15,
    "start_time": "2024-09-02T09:08:43.689Z"
   },
   {
    "duration": 11,
    "start_time": "2024-09-02T09:37:08.386Z"
   },
   {
    "duration": 12,
    "start_time": "2024-09-02T09:37:24.405Z"
   },
   {
    "duration": 7,
    "start_time": "2024-09-02T09:37:35.992Z"
   },
   {
    "duration": 20,
    "start_time": "2024-09-02T09:38:15.707Z"
   },
   {
    "duration": 21,
    "start_time": "2024-09-02T09:42:37.087Z"
   },
   {
    "duration": 1254,
    "start_time": "2024-09-02T09:42:55.789Z"
   },
   {
    "duration": 70,
    "start_time": "2024-09-02T09:42:57.045Z"
   },
   {
    "duration": 23,
    "start_time": "2024-09-02T09:42:57.117Z"
   },
   {
    "duration": 28,
    "start_time": "2024-09-02T09:42:57.142Z"
   },
   {
    "duration": 165,
    "start_time": "2024-09-02T09:42:57.171Z"
   },
   {
    "duration": 169,
    "start_time": "2024-09-02T09:42:57.338Z"
   },
   {
    "duration": 167,
    "start_time": "2024-09-02T09:42:57.509Z"
   },
   {
    "duration": 10,
    "start_time": "2024-09-02T09:42:57.678Z"
   },
   {
    "duration": 39,
    "start_time": "2024-09-02T09:42:57.689Z"
   },
   {
    "duration": 15,
    "start_time": "2024-09-02T09:42:57.730Z"
   },
   {
    "duration": 5,
    "start_time": "2024-09-02T09:42:57.747Z"
   },
   {
    "duration": 11,
    "start_time": "2024-09-02T09:42:57.754Z"
   },
   {
    "duration": 8,
    "start_time": "2024-09-02T09:42:57.766Z"
   },
   {
    "duration": 11,
    "start_time": "2024-09-02T09:42:57.776Z"
   },
   {
    "duration": 14,
    "start_time": "2024-09-02T09:42:57.789Z"
   },
   {
    "duration": 8,
    "start_time": "2024-09-02T09:42:57.805Z"
   },
   {
    "duration": 47,
    "start_time": "2024-09-02T09:42:57.814Z"
   },
   {
    "duration": 183,
    "start_time": "2024-09-02T09:42:57.863Z"
   },
   {
    "duration": 6,
    "start_time": "2024-09-02T09:42:58.047Z"
   },
   {
    "duration": 112,
    "start_time": "2024-09-02T09:42:58.054Z"
   },
   {
    "duration": 145,
    "start_time": "2024-09-02T09:42:58.168Z"
   },
   {
    "duration": 7,
    "start_time": "2024-09-02T09:42:58.315Z"
   },
   {
    "duration": 172,
    "start_time": "2024-09-02T09:42:58.324Z"
   },
   {
    "duration": 8,
    "start_time": "2024-09-02T09:42:58.498Z"
   },
   {
    "duration": 223,
    "start_time": "2024-09-02T09:42:58.508Z"
   },
   {
    "duration": 175,
    "start_time": "2024-09-02T09:42:58.732Z"
   },
   {
    "duration": 8,
    "start_time": "2024-09-02T09:42:58.908Z"
   },
   {
    "duration": 123,
    "start_time": "2024-09-02T09:42:58.920Z"
   },
   {
    "duration": 20,
    "start_time": "2024-09-02T09:42:59.045Z"
   },
   {
    "duration": 11,
    "start_time": "2024-09-02T09:42:59.067Z"
   },
   {
    "duration": 6,
    "start_time": "2024-09-02T09:42:59.080Z"
   },
   {
    "duration": 13,
    "start_time": "2024-09-02T09:42:59.087Z"
   },
   {
    "duration": 9,
    "start_time": "2024-09-02T09:42:59.102Z"
   },
   {
    "duration": 48,
    "start_time": "2024-09-02T09:42:59.113Z"
   },
   {
    "duration": 20,
    "start_time": "2024-09-02T09:42:59.163Z"
   },
   {
    "duration": 682,
    "start_time": "2024-09-02T10:22:31.735Z"
   },
   {
    "duration": 672,
    "start_time": "2024-09-02T10:22:49.056Z"
   },
   {
    "duration": 625,
    "start_time": "2024-09-02T10:23:30.168Z"
   },
   {
    "duration": 661,
    "start_time": "2024-09-02T10:23:45.044Z"
   },
   {
    "duration": 687,
    "start_time": "2024-09-02T10:23:54.620Z"
   },
   {
    "duration": 633,
    "start_time": "2024-09-02T10:24:04.480Z"
   },
   {
    "duration": 639,
    "start_time": "2024-09-02T10:24:23.500Z"
   },
   {
    "duration": 427,
    "start_time": "2024-09-02T10:24:33.884Z"
   },
   {
    "duration": 388,
    "start_time": "2024-09-02T10:24:51.909Z"
   },
   {
    "duration": 499,
    "start_time": "2024-09-02T10:25:30.919Z"
   },
   {
    "duration": 393,
    "start_time": "2024-09-02T10:25:44.673Z"
   },
   {
    "duration": 381,
    "start_time": "2024-09-02T10:26:11.166Z"
   },
   {
    "duration": 78,
    "start_time": "2024-09-02T10:26:31.591Z"
   },
   {
    "duration": 371,
    "start_time": "2024-09-02T10:26:40.210Z"
   },
   {
    "duration": 378,
    "start_time": "2024-09-02T10:26:58.820Z"
   },
   {
    "duration": 391,
    "start_time": "2024-09-02T10:27:04.613Z"
   },
   {
    "duration": 567,
    "start_time": "2024-09-02T10:27:15.727Z"
   },
   {
    "duration": 328,
    "start_time": "2024-09-02T10:27:24.688Z"
   },
   {
    "duration": 316,
    "start_time": "2024-09-02T10:28:24.913Z"
   },
   {
    "duration": 343,
    "start_time": "2024-09-02T10:29:27.626Z"
   },
   {
    "duration": 309,
    "start_time": "2024-09-02T10:29:46.164Z"
   },
   {
    "duration": 426,
    "start_time": "2024-09-02T10:30:11.462Z"
   },
   {
    "duration": 329,
    "start_time": "2024-09-02T10:30:29.597Z"
   },
   {
    "duration": 330,
    "start_time": "2024-09-02T10:35:13.980Z"
   },
   {
    "duration": 320,
    "start_time": "2024-09-02T10:39:14.802Z"
   },
   {
    "duration": 374,
    "start_time": "2024-09-02T10:39:27.224Z"
   },
   {
    "duration": 427,
    "start_time": "2024-09-02T11:08:54.010Z"
   },
   {
    "duration": 403,
    "start_time": "2024-09-02T11:09:05.185Z"
   },
   {
    "duration": 439,
    "start_time": "2024-09-02T11:09:19.255Z"
   },
   {
    "duration": 385,
    "start_time": "2024-09-02T11:09:33.354Z"
   },
   {
    "duration": 332,
    "start_time": "2024-09-02T11:09:41.612Z"
   },
   {
    "duration": 338,
    "start_time": "2024-09-02T11:09:52.036Z"
   },
   {
    "duration": 430,
    "start_time": "2024-09-02T11:09:58.122Z"
   },
   {
    "duration": 66,
    "start_time": "2024-09-02T11:18:47.935Z"
   },
   {
    "duration": 90,
    "start_time": "2024-09-02T11:19:38.110Z"
   },
   {
    "duration": 67,
    "start_time": "2024-09-02T11:21:19.761Z"
   },
   {
    "duration": 66,
    "start_time": "2024-09-02T11:21:54.574Z"
   },
   {
    "duration": 69,
    "start_time": "2024-09-02T11:23:28.239Z"
   },
   {
    "duration": 67,
    "start_time": "2024-09-02T11:24:03.948Z"
   },
   {
    "duration": 72,
    "start_time": "2024-09-02T11:25:07.433Z"
   },
   {
    "duration": 77,
    "start_time": "2024-09-02T11:25:41.909Z"
   },
   {
    "duration": 85,
    "start_time": "2024-09-02T11:26:15.743Z"
   },
   {
    "duration": 101,
    "start_time": "2024-09-02T11:26:31.374Z"
   },
   {
    "duration": 64,
    "start_time": "2024-09-02T11:27:00.241Z"
   },
   {
    "duration": 5,
    "start_time": "2024-09-02T11:27:30.868Z"
   },
   {
    "duration": 5,
    "start_time": "2024-09-02T11:28:33.453Z"
   },
   {
    "duration": 1619,
    "start_time": "2024-09-03T08:15:09.712Z"
   },
   {
    "duration": 288,
    "start_time": "2024-09-03T08:15:11.334Z"
   },
   {
    "duration": 35,
    "start_time": "2024-09-03T08:15:11.625Z"
   },
   {
    "duration": 32,
    "start_time": "2024-09-03T08:15:11.662Z"
   },
   {
    "duration": 213,
    "start_time": "2024-09-03T08:15:11.696Z"
   },
   {
    "duration": 219,
    "start_time": "2024-09-03T08:15:11.921Z"
   },
   {
    "duration": 172,
    "start_time": "2024-09-03T08:15:12.142Z"
   },
   {
    "duration": 13,
    "start_time": "2024-09-03T08:15:12.319Z"
   },
   {
    "duration": 9,
    "start_time": "2024-09-03T08:15:12.334Z"
   },
   {
    "duration": 36,
    "start_time": "2024-09-03T08:15:12.346Z"
   },
   {
    "duration": 6,
    "start_time": "2024-09-03T08:15:12.384Z"
   },
   {
    "duration": 32,
    "start_time": "2024-09-03T08:15:12.391Z"
   },
   {
    "duration": 10,
    "start_time": "2024-09-03T08:15:12.425Z"
   },
   {
    "duration": 31,
    "start_time": "2024-09-03T08:15:12.442Z"
   },
   {
    "duration": 50,
    "start_time": "2024-09-03T08:15:12.475Z"
   },
   {
    "duration": 21,
    "start_time": "2024-09-03T08:15:12.528Z"
   },
   {
    "duration": 24,
    "start_time": "2024-09-03T08:15:12.551Z"
   },
   {
    "duration": 209,
    "start_time": "2024-09-03T08:15:12.577Z"
   },
   {
    "duration": 5,
    "start_time": "2024-09-03T08:15:12.787Z"
   },
   {
    "duration": 128,
    "start_time": "2024-09-03T08:15:12.793Z"
   },
   {
    "duration": 177,
    "start_time": "2024-09-03T08:15:12.923Z"
   },
   {
    "duration": 28,
    "start_time": "2024-09-03T08:15:13.101Z"
   },
   {
    "duration": 276,
    "start_time": "2024-09-03T08:15:13.132Z"
   },
   {
    "duration": 12,
    "start_time": "2024-09-03T08:15:13.409Z"
   },
   {
    "duration": 173,
    "start_time": "2024-09-03T08:15:13.424Z"
   },
   {
    "duration": 175,
    "start_time": "2024-09-03T08:15:13.599Z"
   },
   {
    "duration": 10,
    "start_time": "2024-09-03T08:15:13.777Z"
   },
   {
    "duration": 130,
    "start_time": "2024-09-03T08:15:13.789Z"
   },
   {
    "duration": 17,
    "start_time": "2024-09-03T08:15:13.923Z"
   },
   {
    "duration": 15,
    "start_time": "2024-09-03T08:15:13.942Z"
   },
   {
    "duration": 107,
    "start_time": "2024-09-03T08:15:13.959Z"
   },
   {
    "duration": 17,
    "start_time": "2024-09-03T08:15:14.068Z"
   },
   {
    "duration": 10,
    "start_time": "2024-09-03T08:15:14.086Z"
   },
   {
    "duration": 64,
    "start_time": "2024-09-03T08:15:14.097Z"
   },
   {
    "duration": 23,
    "start_time": "2024-09-03T08:15:14.163Z"
   },
   {
    "duration": 582,
    "start_time": "2024-09-03T08:15:14.188Z"
   },
   {
    "duration": 429,
    "start_time": "2024-09-03T08:15:14.772Z"
   },
   {
    "duration": 126,
    "start_time": "2024-09-03T08:15:15.203Z"
   },
   {
    "duration": 48,
    "start_time": "2024-09-03T08:16:52.729Z"
   },
   {
    "duration": 9,
    "start_time": "2024-09-03T08:18:59.787Z"
   },
   {
    "duration": 28,
    "start_time": "2024-09-03T08:28:14.524Z"
   },
   {
    "duration": 22,
    "start_time": "2024-09-03T08:30:24.499Z"
   },
   {
    "duration": 402,
    "start_time": "2024-09-03T08:56:39.295Z"
   },
   {
    "duration": 7,
    "start_time": "2024-09-03T09:55:16.007Z"
   },
   {
    "duration": 5,
    "start_time": "2024-09-03T10:02:26.399Z"
   },
   {
    "duration": 5,
    "start_time": "2024-09-03T10:03:09.199Z"
   },
   {
    "duration": 11,
    "start_time": "2024-09-03T11:10:58.425Z"
   },
   {
    "duration": 5,
    "start_time": "2024-09-03T11:11:13.546Z"
   },
   {
    "duration": 6,
    "start_time": "2024-09-03T11:12:44.968Z"
   },
   {
    "duration": 6,
    "start_time": "2024-09-03T11:12:55.441Z"
   },
   {
    "duration": 1436,
    "start_time": "2024-09-03T11:13:56.726Z"
   },
   {
    "duration": 11,
    "start_time": "2024-09-03T11:14:51.391Z"
   },
   {
    "duration": 1311,
    "start_time": "2024-09-03T13:18:04.823Z"
   },
   {
    "duration": 70,
    "start_time": "2024-09-03T13:18:06.136Z"
   },
   {
    "duration": 23,
    "start_time": "2024-09-03T13:18:06.207Z"
   },
   {
    "duration": 89,
    "start_time": "2024-09-03T13:18:06.232Z"
   },
   {
    "duration": 152,
    "start_time": "2024-09-03T13:18:06.323Z"
   },
   {
    "duration": 184,
    "start_time": "2024-09-03T13:18:06.476Z"
   },
   {
    "duration": 172,
    "start_time": "2024-09-03T13:18:06.661Z"
   },
   {
    "duration": 10,
    "start_time": "2024-09-03T13:18:06.835Z"
   },
   {
    "duration": 48,
    "start_time": "2024-09-03T13:18:06.847Z"
   },
   {
    "duration": 35,
    "start_time": "2024-09-03T13:18:06.897Z"
   },
   {
    "duration": 6,
    "start_time": "2024-09-03T13:18:06.933Z"
   },
   {
    "duration": 11,
    "start_time": "2024-09-03T13:18:06.941Z"
   },
   {
    "duration": 7,
    "start_time": "2024-09-03T13:18:06.954Z"
   },
   {
    "duration": 18,
    "start_time": "2024-09-03T13:18:06.963Z"
   },
   {
    "duration": 38,
    "start_time": "2024-09-03T13:18:06.983Z"
   },
   {
    "duration": 9,
    "start_time": "2024-09-03T13:18:07.023Z"
   },
   {
    "duration": 95,
    "start_time": "2024-09-03T13:18:07.033Z"
   },
   {
    "duration": 192,
    "start_time": "2024-09-03T13:18:07.130Z"
   },
   {
    "duration": 5,
    "start_time": "2024-09-03T13:18:07.323Z"
   },
   {
    "duration": 110,
    "start_time": "2024-09-03T13:18:07.329Z"
   },
   {
    "duration": 154,
    "start_time": "2024-09-03T13:18:07.441Z"
   },
   {
    "duration": 8,
    "start_time": "2024-09-03T13:18:07.596Z"
   },
   {
    "duration": 196,
    "start_time": "2024-09-03T13:18:07.605Z"
   },
   {
    "duration": 18,
    "start_time": "2024-09-03T13:18:07.803Z"
   },
   {
    "duration": 229,
    "start_time": "2024-09-03T13:18:07.823Z"
   },
   {
    "duration": 172,
    "start_time": "2024-09-03T13:18:08.053Z"
   },
   {
    "duration": 9,
    "start_time": "2024-09-03T13:18:08.227Z"
   },
   {
    "duration": 190,
    "start_time": "2024-09-03T13:18:08.239Z"
   },
   {
    "duration": 17,
    "start_time": "2024-09-03T13:18:08.430Z"
   },
   {
    "duration": 12,
    "start_time": "2024-09-03T13:18:08.448Z"
   },
   {
    "duration": 19,
    "start_time": "2024-09-03T13:18:08.462Z"
   },
   {
    "duration": 23,
    "start_time": "2024-09-03T13:18:08.483Z"
   },
   {
    "duration": 15,
    "start_time": "2024-09-03T13:18:08.508Z"
   },
   {
    "duration": 26,
    "start_time": "2024-09-03T13:18:08.525Z"
   },
   {
    "duration": 20,
    "start_time": "2024-09-03T13:18:08.553Z"
   },
   {
    "duration": 366,
    "start_time": "2024-09-03T13:18:08.574Z"
   },
   {
    "duration": 406,
    "start_time": "2024-09-03T13:18:08.943Z"
   },
   {
    "duration": 45,
    "start_time": "2024-09-03T13:18:09.351Z"
   },
   {
    "duration": 23,
    "start_time": "2024-09-03T13:18:09.398Z"
   },
   {
    "duration": 15,
    "start_time": "2024-09-03T13:18:09.423Z"
   },
   {
    "duration": 15,
    "start_time": "2024-09-03T13:18:09.440Z"
   },
   {
    "duration": 24,
    "start_time": "2024-09-03T13:18:09.457Z"
   },
   {
    "duration": 53,
    "start_time": "2024-09-03T13:18:09.483Z"
   },
   {
    "duration": 1359,
    "start_time": "2024-09-03T13:26:58.274Z"
   },
   {
    "duration": 282,
    "start_time": "2024-09-03T13:26:59.635Z"
   },
   {
    "duration": 25,
    "start_time": "2024-09-03T13:26:59.919Z"
   },
   {
    "duration": 36,
    "start_time": "2024-09-03T13:26:59.945Z"
   },
   {
    "duration": 201,
    "start_time": "2024-09-03T13:26:59.983Z"
   },
   {
    "duration": 191,
    "start_time": "2024-09-03T13:27:00.186Z"
   },
   {
    "duration": 170,
    "start_time": "2024-09-03T13:27:00.380Z"
   },
   {
    "duration": 11,
    "start_time": "2024-09-03T13:27:00.552Z"
   },
   {
    "duration": 21,
    "start_time": "2024-09-03T13:27:00.565Z"
   },
   {
    "duration": 31,
    "start_time": "2024-09-03T13:27:00.588Z"
   },
   {
    "duration": 7,
    "start_time": "2024-09-03T13:27:00.620Z"
   },
   {
    "duration": 25,
    "start_time": "2024-09-03T13:27:00.629Z"
   },
   {
    "duration": 19,
    "start_time": "2024-09-03T13:27:00.655Z"
   },
   {
    "duration": 15,
    "start_time": "2024-09-03T13:27:00.677Z"
   },
   {
    "duration": 25,
    "start_time": "2024-09-03T13:27:00.694Z"
   },
   {
    "duration": 16,
    "start_time": "2024-09-03T13:27:00.720Z"
   },
   {
    "duration": 20,
    "start_time": "2024-09-03T13:27:00.738Z"
   },
   {
    "duration": 197,
    "start_time": "2024-09-03T13:27:00.759Z"
   },
   {
    "duration": 5,
    "start_time": "2024-09-03T13:27:00.958Z"
   },
   {
    "duration": 119,
    "start_time": "2024-09-03T13:27:00.965Z"
   },
   {
    "duration": 155,
    "start_time": "2024-09-03T13:27:01.086Z"
   },
   {
    "duration": 8,
    "start_time": "2024-09-03T13:27:01.243Z"
   },
   {
    "duration": 183,
    "start_time": "2024-09-03T13:27:01.253Z"
   },
   {
    "duration": 9,
    "start_time": "2024-09-03T13:27:01.438Z"
   },
   {
    "duration": 272,
    "start_time": "2024-09-03T13:27:01.449Z"
   },
   {
    "duration": 199,
    "start_time": "2024-09-03T13:27:01.723Z"
   },
   {
    "duration": 9,
    "start_time": "2024-09-03T13:27:01.924Z"
   },
   {
    "duration": 132,
    "start_time": "2024-09-03T13:27:01.934Z"
   },
   {
    "duration": 15,
    "start_time": "2024-09-03T13:27:02.068Z"
   },
   {
    "duration": 25,
    "start_time": "2024-09-03T13:27:02.085Z"
   },
   {
    "duration": 34,
    "start_time": "2024-09-03T13:27:02.112Z"
   },
   {
    "duration": 19,
    "start_time": "2024-09-03T13:27:02.148Z"
   },
   {
    "duration": 10,
    "start_time": "2024-09-03T13:27:02.169Z"
   },
   {
    "duration": 19,
    "start_time": "2024-09-03T13:27:02.180Z"
   },
   {
    "duration": 22,
    "start_time": "2024-09-03T13:27:02.205Z"
   },
   {
    "duration": 343,
    "start_time": "2024-09-03T13:27:02.228Z"
   },
   {
    "duration": 396,
    "start_time": "2024-09-03T13:27:02.573Z"
   },
   {
    "duration": 49,
    "start_time": "2024-09-03T13:27:02.971Z"
   },
   {
    "duration": 9,
    "start_time": "2024-09-03T13:27:03.022Z"
   },
   {
    "duration": 15,
    "start_time": "2024-09-03T13:27:03.032Z"
   },
   {
    "duration": 5,
    "start_time": "2024-09-03T13:27:03.051Z"
   },
   {
    "duration": 15,
    "start_time": "2024-09-03T13:27:03.058Z"
   },
   {
    "duration": 34,
    "start_time": "2024-09-03T13:27:03.074Z"
   },
   {
    "duration": 16,
    "start_time": "2024-09-03T14:43:33.733Z"
   },
   {
    "duration": 52,
    "start_time": "2024-09-05T07:25:03.846Z"
   },
   {
    "duration": 1471,
    "start_time": "2024-09-05T07:25:13.034Z"
   },
   {
    "duration": 408,
    "start_time": "2024-09-05T07:25:14.507Z"
   },
   {
    "duration": 25,
    "start_time": "2024-09-05T07:25:14.916Z"
   },
   {
    "duration": 57,
    "start_time": "2024-09-05T07:25:14.943Z"
   },
   {
    "duration": 169,
    "start_time": "2024-09-05T07:25:15.002Z"
   },
   {
    "duration": 179,
    "start_time": "2024-09-05T07:25:15.172Z"
   },
   {
    "duration": 169,
    "start_time": "2024-09-05T07:25:15.353Z"
   },
   {
    "duration": 10,
    "start_time": "2024-09-05T07:25:15.524Z"
   },
   {
    "duration": 10,
    "start_time": "2024-09-05T07:25:15.536Z"
   },
   {
    "duration": 16,
    "start_time": "2024-09-05T07:25:15.548Z"
   },
   {
    "duration": 13,
    "start_time": "2024-09-05T07:25:15.565Z"
   },
   {
    "duration": 11,
    "start_time": "2024-09-05T07:25:15.598Z"
   },
   {
    "duration": 39,
    "start_time": "2024-09-05T07:25:15.611Z"
   },
   {
    "duration": 10,
    "start_time": "2024-09-05T07:25:15.652Z"
   },
   {
    "duration": 15,
    "start_time": "2024-09-05T07:25:15.663Z"
   },
   {
    "duration": 82,
    "start_time": "2024-09-05T07:25:15.680Z"
   },
   {
    "duration": 150,
    "start_time": "2024-09-05T07:25:15.764Z"
   },
   {
    "duration": 263,
    "start_time": "2024-09-05T07:25:15.915Z"
   },
   {
    "duration": 4,
    "start_time": "2024-09-05T07:25:16.180Z"
   },
   {
    "duration": 113,
    "start_time": "2024-09-05T07:25:16.186Z"
   },
   {
    "duration": 151,
    "start_time": "2024-09-05T07:25:16.301Z"
   },
   {
    "duration": 8,
    "start_time": "2024-09-05T07:25:16.453Z"
   },
   {
    "duration": 189,
    "start_time": "2024-09-05T07:25:16.462Z"
   },
   {
    "duration": 10,
    "start_time": "2024-09-05T07:25:16.653Z"
   },
   {
    "duration": 234,
    "start_time": "2024-09-05T07:25:16.665Z"
   },
   {
    "duration": 176,
    "start_time": "2024-09-05T07:25:16.901Z"
   },
   {
    "duration": 8,
    "start_time": "2024-09-05T07:25:17.078Z"
   },
   {
    "duration": 131,
    "start_time": "2024-09-05T07:25:17.100Z"
   },
   {
    "duration": 16,
    "start_time": "2024-09-05T07:25:17.233Z"
   },
   {
    "duration": 13,
    "start_time": "2024-09-05T07:25:17.251Z"
   },
   {
    "duration": 17,
    "start_time": "2024-09-05T07:25:17.265Z"
   },
   {
    "duration": 24,
    "start_time": "2024-09-05T07:25:17.283Z"
   },
   {
    "duration": 9,
    "start_time": "2024-09-05T07:25:17.309Z"
   },
   {
    "duration": 28,
    "start_time": "2024-09-05T07:25:17.320Z"
   },
   {
    "duration": 22,
    "start_time": "2024-09-05T07:25:17.350Z"
   },
   {
    "duration": 369,
    "start_time": "2024-09-05T07:25:17.374Z"
   },
   {
    "duration": 382,
    "start_time": "2024-09-05T07:25:17.745Z"
   },
   {
    "duration": 42,
    "start_time": "2024-09-05T07:25:18.129Z"
   },
   {
    "duration": 26,
    "start_time": "2024-09-05T07:25:18.173Z"
   },
   {
    "duration": 15,
    "start_time": "2024-09-05T07:25:18.200Z"
   },
   {
    "duration": 8,
    "start_time": "2024-09-05T07:25:18.216Z"
   },
   {
    "duration": 7,
    "start_time": "2024-09-05T07:25:18.226Z"
   },
   {
    "duration": 50,
    "start_time": "2024-09-05T07:25:18.234Z"
   },
   {
    "duration": 0,
    "start_time": "2024-09-05T07:25:18.286Z"
   },
   {
    "duration": 7,
    "start_time": "2024-09-05T07:31:46.288Z"
   },
   {
    "duration": 56,
    "start_time": "2024-09-05T07:32:19.985Z"
   },
   {
    "duration": 65,
    "start_time": "2024-09-05T07:54:57.443Z"
   },
   {
    "duration": 11,
    "start_time": "2024-09-05T08:12:17.504Z"
   },
   {
    "duration": 50,
    "start_time": "2024-09-05T08:16:51.745Z"
   },
   {
    "duration": 1346,
    "start_time": "2024-09-05T08:17:05.083Z"
   },
   {
    "duration": 82,
    "start_time": "2024-09-05T08:17:06.431Z"
   },
   {
    "duration": 24,
    "start_time": "2024-09-05T08:17:06.514Z"
   },
   {
    "duration": 31,
    "start_time": "2024-09-05T08:17:06.540Z"
   },
   {
    "duration": 175,
    "start_time": "2024-09-05T08:17:06.572Z"
   },
   {
    "duration": 177,
    "start_time": "2024-09-05T08:17:06.749Z"
   },
   {
    "duration": 172,
    "start_time": "2024-09-05T08:17:06.928Z"
   },
   {
    "duration": 10,
    "start_time": "2024-09-05T08:17:07.102Z"
   },
   {
    "duration": 47,
    "start_time": "2024-09-05T08:17:07.114Z"
   },
   {
    "duration": 25,
    "start_time": "2024-09-05T08:17:07.164Z"
   },
   {
    "duration": 19,
    "start_time": "2024-09-05T08:17:07.190Z"
   },
   {
    "duration": 34,
    "start_time": "2024-09-05T08:17:07.211Z"
   },
   {
    "duration": 17,
    "start_time": "2024-09-05T08:17:07.247Z"
   },
   {
    "duration": 20,
    "start_time": "2024-09-05T08:17:07.265Z"
   },
   {
    "duration": 32,
    "start_time": "2024-09-05T08:17:07.287Z"
   },
   {
    "duration": 13,
    "start_time": "2024-09-05T08:17:07.321Z"
   },
   {
    "duration": 14,
    "start_time": "2024-09-05T08:17:07.336Z"
   },
   {
    "duration": 197,
    "start_time": "2024-09-05T08:17:07.352Z"
   },
   {
    "duration": 5,
    "start_time": "2024-09-05T08:17:07.551Z"
   },
   {
    "duration": 118,
    "start_time": "2024-09-05T08:17:07.557Z"
   },
   {
    "duration": 154,
    "start_time": "2024-09-05T08:17:07.677Z"
   },
   {
    "duration": 7,
    "start_time": "2024-09-05T08:17:07.833Z"
   },
   {
    "duration": 184,
    "start_time": "2024-09-05T08:17:07.842Z"
   },
   {
    "duration": 8,
    "start_time": "2024-09-05T08:17:08.028Z"
   },
   {
    "duration": 235,
    "start_time": "2024-09-05T08:17:08.038Z"
   },
   {
    "duration": 192,
    "start_time": "2024-09-05T08:17:08.275Z"
   },
   {
    "duration": 8,
    "start_time": "2024-09-05T08:17:08.469Z"
   },
   {
    "duration": 134,
    "start_time": "2024-09-05T08:17:08.480Z"
   },
   {
    "duration": 16,
    "start_time": "2024-09-05T08:17:08.616Z"
   },
   {
    "duration": 38,
    "start_time": "2024-09-05T08:17:08.633Z"
   },
   {
    "duration": 16,
    "start_time": "2024-09-05T08:17:08.673Z"
   },
   {
    "duration": 45,
    "start_time": "2024-09-05T08:17:08.690Z"
   },
   {
    "duration": 33,
    "start_time": "2024-09-05T08:17:08.736Z"
   },
   {
    "duration": 50,
    "start_time": "2024-09-05T08:17:08.771Z"
   },
   {
    "duration": 35,
    "start_time": "2024-09-05T08:17:08.822Z"
   },
   {
    "duration": 352,
    "start_time": "2024-09-05T08:17:08.859Z"
   },
   {
    "duration": 380,
    "start_time": "2024-09-05T08:17:09.213Z"
   },
   {
    "duration": 44,
    "start_time": "2024-09-05T08:17:09.598Z"
   },
   {
    "duration": 8,
    "start_time": "2024-09-05T08:17:09.643Z"
   },
   {
    "duration": 19,
    "start_time": "2024-09-05T08:17:09.653Z"
   },
   {
    "duration": 33,
    "start_time": "2024-09-05T08:17:09.674Z"
   },
   {
    "duration": 22,
    "start_time": "2024-09-05T08:17:09.709Z"
   },
   {
    "duration": 14,
    "start_time": "2024-09-05T08:17:09.733Z"
   },
   {
    "duration": 1494,
    "start_time": "2024-09-05T08:24:12.097Z"
   },
   {
    "duration": 364,
    "start_time": "2024-09-05T08:24:13.594Z"
   },
   {
    "duration": 23,
    "start_time": "2024-09-05T08:24:13.960Z"
   },
   {
    "duration": 29,
    "start_time": "2024-09-05T08:24:13.985Z"
   },
   {
    "duration": 163,
    "start_time": "2024-09-05T08:24:14.017Z"
   },
   {
    "duration": 176,
    "start_time": "2024-09-05T08:24:14.182Z"
   },
   {
    "duration": 171,
    "start_time": "2024-09-05T08:24:14.360Z"
   },
   {
    "duration": 10,
    "start_time": "2024-09-05T08:24:14.533Z"
   },
   {
    "duration": 6,
    "start_time": "2024-09-05T08:24:14.545Z"
   },
   {
    "duration": 18,
    "start_time": "2024-09-05T08:24:14.553Z"
   },
   {
    "duration": 5,
    "start_time": "2024-09-05T08:24:14.573Z"
   },
   {
    "duration": 17,
    "start_time": "2024-09-05T08:24:14.580Z"
   },
   {
    "duration": 8,
    "start_time": "2024-09-05T08:24:14.626Z"
   },
   {
    "duration": 17,
    "start_time": "2024-09-05T08:24:14.637Z"
   },
   {
    "duration": 15,
    "start_time": "2024-09-05T08:24:14.656Z"
   },
   {
    "duration": 8,
    "start_time": "2024-09-05T08:24:14.673Z"
   },
   {
    "duration": 21,
    "start_time": "2024-09-05T08:24:14.683Z"
   },
   {
    "duration": 193,
    "start_time": "2024-09-05T08:24:14.726Z"
   },
   {
    "duration": 6,
    "start_time": "2024-09-05T08:24:14.921Z"
   },
   {
    "duration": 117,
    "start_time": "2024-09-05T08:24:14.929Z"
   },
   {
    "duration": 162,
    "start_time": "2024-09-05T08:24:15.048Z"
   },
   {
    "duration": 15,
    "start_time": "2024-09-05T08:24:15.212Z"
   },
   {
    "duration": 259,
    "start_time": "2024-09-05T08:24:15.229Z"
   },
   {
    "duration": 8,
    "start_time": "2024-09-05T08:24:15.490Z"
   },
   {
    "duration": 153,
    "start_time": "2024-09-05T08:24:15.500Z"
   },
   {
    "duration": 172,
    "start_time": "2024-09-05T08:24:15.655Z"
   },
   {
    "duration": 9,
    "start_time": "2024-09-05T08:24:15.829Z"
   },
   {
    "duration": 135,
    "start_time": "2024-09-05T08:24:15.840Z"
   },
   {
    "duration": 16,
    "start_time": "2024-09-05T08:24:15.977Z"
   },
   {
    "duration": 23,
    "start_time": "2024-09-05T08:24:15.994Z"
   },
   {
    "duration": 11,
    "start_time": "2024-09-05T08:24:16.018Z"
   },
   {
    "duration": 28,
    "start_time": "2024-09-05T08:24:16.031Z"
   },
   {
    "duration": 13,
    "start_time": "2024-09-05T08:24:16.061Z"
   },
   {
    "duration": 20,
    "start_time": "2024-09-05T08:24:16.075Z"
   },
   {
    "duration": 38,
    "start_time": "2024-09-05T08:24:16.097Z"
   },
   {
    "duration": 358,
    "start_time": "2024-09-05T08:24:16.136Z"
   },
   {
    "duration": 376,
    "start_time": "2024-09-05T08:24:16.496Z"
   },
   {
    "duration": 52,
    "start_time": "2024-09-05T08:24:16.874Z"
   },
   {
    "duration": 8,
    "start_time": "2024-09-05T08:24:16.928Z"
   },
   {
    "duration": 16,
    "start_time": "2024-09-05T08:24:16.938Z"
   },
   {
    "duration": 5,
    "start_time": "2024-09-05T08:24:16.958Z"
   },
   {
    "duration": 15,
    "start_time": "2024-09-05T08:24:16.965Z"
   },
   {
    "duration": 12,
    "start_time": "2024-09-05T08:24:16.982Z"
   }
  ],
  "kernelspec": {
   "display_name": "Python [conda env:practicum]",
   "language": "python",
   "name": "conda-env-practicum-py"
  },
  "language_info": {
   "codemirror_mode": {
    "name": "ipython",
    "version": 3
   },
   "file_extension": ".py",
   "mimetype": "text/x-python",
   "name": "python",
   "nbconvert_exporter": "python",
   "pygments_lexer": "ipython3",
   "version": "3.9.19"
  },
  "toc": {
   "base_numbering": 1,
   "nav_menu": {
    "height": "292px",
    "width": "227px"
   },
   "number_sections": true,
   "sideBar": true,
   "skip_h1_title": true,
   "title_cell": "Table of Contents",
   "title_sidebar": "Contents",
   "toc_cell": false,
   "toc_position": {},
   "toc_section_display": true,
   "toc_window_display": false
  }
 },
 "nbformat": 4,
 "nbformat_minor": 5
}
