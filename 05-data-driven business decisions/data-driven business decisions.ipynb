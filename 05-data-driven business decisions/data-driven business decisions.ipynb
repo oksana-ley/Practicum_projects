{
 "cells": [
  {
   "cell_type": "markdown",
   "metadata": {},
   "source": [
    "# Проект \"Принятие решений в бизнесе\""
   ]
  },
  {
   "cell_type": "markdown",
   "metadata": {},
   "source": [
    "**Описание и цель проекта**: Вместе с отделом маркетинга был подготовлен список гипотез для увеличения выручки крупного интернет-магазина. Для этого, проведем предобработку данных, приоритизируем гипотезы, запустим A/B-тест и проанализируем результаты. \n",
    "\n",
    "**Описание данных**:\n",
    "\n",
    "Датасет hypothesis.csv:\n",
    "- Hypothesis — краткое описание гипотезы;\n",
    "- Reach — охват пользователей по 10-балльной шкале;\n",
    "- Impact — влияние на пользователей по 10-балльной шкале;\n",
    "- Confidence — уверенность в гипотезе по 10-балльной шкале;\n",
    "- Efforts — затраты ресурсов на проверку гипотезы по 10-балльной шкале. Чем больше значение Efforts, тем дороже проверка гипотезы.\n",
    "\n",
    "Датасет orders.csv:\n",
    "- transactionId — идентификатор заказа;\n",
    "- visitorId — идентификатор пользователя, совершившего заказ;\n",
    "- date — дата, когда был совершён заказ;\n",
    "- revenue — выручка заказа;\n",
    "- group — группа A/B-теста, в которую попал заказ.\n",
    "\n",
    "Датасет visitors.csv:\n",
    "- date — дата;\n",
    "- group — группа A/B-теста;\n",
    "- visitors — количество пользователей в указанную дату в указанной группе A/B-теста."
   ]
  },
  {
   "cell_type": "code",
   "execution_count": 1,
   "metadata": {},
   "outputs": [],
   "source": [
    "# импорт библиотек\n",
    "import pandas as pd\n",
    "import scipy.stats as stats\n",
    "import numpy as np\n",
    "import matplotlib.pyplot as plt\n",
    "import datetime as dt"
   ]
  },
  {
   "cell_type": "markdown",
   "metadata": {},
   "source": [
    "## Загрузка данных"
   ]
  },
  {
   "cell_type": "code",
   "execution_count": 2,
   "metadata": {},
   "outputs": [],
   "source": [
    "# считаем CSV-файлы с данными с помощью библиотеки pandas и сохраним в датафреймы\n",
    "hypothesis = pd.read_csv('/Users/numberone/Documents/Projects/datasets/hypothesis.csv')\n",
    "orders = pd.read_csv('/Users/numberone/Documents/Projects/datasets/orders.csv')\n",
    "visitors = pd.read_csv('/Users/numberone/Documents/Projects/datasets/visitors.csv')"
   ]
  },
  {
   "cell_type": "code",
   "execution_count": 3,
   "metadata": {},
   "outputs": [],
   "source": [
    "# увеличим ширину столбцов, в которых не помещается вся информация \n",
    "pd.options.display.max_colwidth = 1"
   ]
  },
  {
   "cell_type": "code",
   "execution_count": 4,
   "metadata": {},
   "outputs": [
    {
     "data": {
      "text/html": [
       "<div>\n",
       "<style scoped>\n",
       "    .dataframe tbody tr th:only-of-type {\n",
       "        vertical-align: middle;\n",
       "    }\n",
       "\n",
       "    .dataframe tbody tr th {\n",
       "        vertical-align: top;\n",
       "    }\n",
       "\n",
       "    .dataframe thead th {\n",
       "        text-align: right;\n",
       "    }\n",
       "</style>\n",
       "<table border=\"1\" class=\"dataframe\">\n",
       "  <thead>\n",
       "    <tr style=\"text-align: right;\">\n",
       "      <th></th>\n",
       "      <th>Hypothesis</th>\n",
       "      <th>Reach</th>\n",
       "      <th>Impact</th>\n",
       "      <th>Confidence</th>\n",
       "      <th>Efforts</th>\n",
       "    </tr>\n",
       "  </thead>\n",
       "  <tbody>\n",
       "    <tr>\n",
       "      <th>0</th>\n",
       "      <td>Добавить два новых канала привлечения трафика, что позволит привлекать на 30% больше пользователей</td>\n",
       "      <td>3</td>\n",
       "      <td>10</td>\n",
       "      <td>8</td>\n",
       "      <td>6</td>\n",
       "    </tr>\n",
       "    <tr>\n",
       "      <th>1</th>\n",
       "      <td>Запустить собственную службу доставки, что сократит срок доставки заказов</td>\n",
       "      <td>2</td>\n",
       "      <td>5</td>\n",
       "      <td>4</td>\n",
       "      <td>10</td>\n",
       "    </tr>\n",
       "    <tr>\n",
       "      <th>2</th>\n",
       "      <td>Добавить блоки рекомендаций товаров на сайт интернет магазина, чтобы повысить конверсию и средний чек заказа</td>\n",
       "      <td>8</td>\n",
       "      <td>3</td>\n",
       "      <td>7</td>\n",
       "      <td>3</td>\n",
       "    </tr>\n",
       "    <tr>\n",
       "      <th>3</th>\n",
       "      <td>Изменить структура категорий, что увеличит конверсию, т.к. пользователи быстрее найдут нужный товар</td>\n",
       "      <td>8</td>\n",
       "      <td>3</td>\n",
       "      <td>3</td>\n",
       "      <td>8</td>\n",
       "    </tr>\n",
       "    <tr>\n",
       "      <th>4</th>\n",
       "      <td>Изменить цвет фона главной страницы, чтобы увеличить вовлеченность пользователей</td>\n",
       "      <td>3</td>\n",
       "      <td>1</td>\n",
       "      <td>1</td>\n",
       "      <td>1</td>\n",
       "    </tr>\n",
       "    <tr>\n",
       "      <th>5</th>\n",
       "      <td>Добавить страницу отзывов клиентов о магазине, что позволит увеличить количество заказов</td>\n",
       "      <td>3</td>\n",
       "      <td>2</td>\n",
       "      <td>2</td>\n",
       "      <td>3</td>\n",
       "    </tr>\n",
       "    <tr>\n",
       "      <th>6</th>\n",
       "      <td>Показать на главной странице баннеры с актуальными акциями и распродажами, чтобы увеличить конверсию</td>\n",
       "      <td>5</td>\n",
       "      <td>3</td>\n",
       "      <td>8</td>\n",
       "      <td>3</td>\n",
       "    </tr>\n",
       "    <tr>\n",
       "      <th>7</th>\n",
       "      <td>Добавить форму подписки на все основные страницы, чтобы собрать базу клиентов для email-рассылок</td>\n",
       "      <td>10</td>\n",
       "      <td>7</td>\n",
       "      <td>8</td>\n",
       "      <td>5</td>\n",
       "    </tr>\n",
       "    <tr>\n",
       "      <th>8</th>\n",
       "      <td>Запустить акцию, дающую скидку на товар в день рождения</td>\n",
       "      <td>1</td>\n",
       "      <td>9</td>\n",
       "      <td>9</td>\n",
       "      <td>5</td>\n",
       "    </tr>\n",
       "  </tbody>\n",
       "</table>\n",
       "</div>"
      ],
      "text/plain": [
       "                                                                                                     Hypothesis  \\\n",
       "0  Добавить два новых канала привлечения трафика, что позволит привлекать на 30% больше пользователей             \n",
       "1  Запустить собственную службу доставки, что сократит срок доставки заказов                                      \n",
       "2  Добавить блоки рекомендаций товаров на сайт интернет магазина, чтобы повысить конверсию и средний чек заказа   \n",
       "3  Изменить структура категорий, что увеличит конверсию, т.к. пользователи быстрее найдут нужный товар            \n",
       "4  Изменить цвет фона главной страницы, чтобы увеличить вовлеченность пользователей                               \n",
       "5  Добавить страницу отзывов клиентов о магазине, что позволит увеличить количество заказов                       \n",
       "6  Показать на главной странице баннеры с актуальными акциями и распродажами, чтобы увеличить конверсию           \n",
       "7  Добавить форму подписки на все основные страницы, чтобы собрать базу клиентов для email-рассылок               \n",
       "8  Запустить акцию, дающую скидку на товар в день рождения                                                        \n",
       "\n",
       "   Reach  Impact  Confidence  Efforts  \n",
       "0  3      10      8           6        \n",
       "1  2      5       4           10       \n",
       "2  8      3       7           3        \n",
       "3  8      3       3           8        \n",
       "4  3      1       1           1        \n",
       "5  3      2       2           3        \n",
       "6  5      3       8           3        \n",
       "7  10     7       8           5        \n",
       "8  1      9       9           5        "
      ]
     },
     "metadata": {},
     "output_type": "display_data"
    }
   ],
   "source": [
    "# выведем первые 10 cтрок таблицы hypothesis\n",
    "display(hypothesis.head(10))"
   ]
  },
  {
   "cell_type": "code",
   "execution_count": 5,
   "metadata": {},
   "outputs": [
    {
     "name": "stdout",
     "output_type": "stream",
     "text": [
      "<class 'pandas.core.frame.DataFrame'>\n",
      "RangeIndex: 9 entries, 0 to 8\n",
      "Data columns (total 5 columns):\n",
      " #   Column      Non-Null Count  Dtype \n",
      "---  ------      --------------  ----- \n",
      " 0   Hypothesis  9 non-null      object\n",
      " 1   Reach       9 non-null      int64 \n",
      " 2   Impact      9 non-null      int64 \n",
      " 3   Confidence  9 non-null      int64 \n",
      " 4   Efforts     9 non-null      int64 \n",
      "dtypes: int64(4), object(1)\n",
      "memory usage: 488.0+ bytes\n"
     ]
    }
   ],
   "source": [
    "# посмотрим общую информацию о таблице hypothesis\n",
    "hypothesis.info()"
   ]
  },
  {
   "cell_type": "code",
   "execution_count": 6,
   "metadata": {},
   "outputs": [
    {
     "data": {
      "text/html": [
       "<div>\n",
       "<style scoped>\n",
       "    .dataframe tbody tr th:only-of-type {\n",
       "        vertical-align: middle;\n",
       "    }\n",
       "\n",
       "    .dataframe tbody tr th {\n",
       "        vertical-align: top;\n",
       "    }\n",
       "\n",
       "    .dataframe thead th {\n",
       "        text-align: right;\n",
       "    }\n",
       "</style>\n",
       "<table border=\"1\" class=\"dataframe\">\n",
       "  <thead>\n",
       "    <tr style=\"text-align: right;\">\n",
       "      <th></th>\n",
       "      <th>transactionId</th>\n",
       "      <th>visitorId</th>\n",
       "      <th>date</th>\n",
       "      <th>revenue</th>\n",
       "      <th>group</th>\n",
       "    </tr>\n",
       "  </thead>\n",
       "  <tbody>\n",
       "    <tr>\n",
       "      <th>0</th>\n",
       "      <td>3667963787</td>\n",
       "      <td>3312258926</td>\n",
       "      <td>2019-08-15</td>\n",
       "      <td>1650</td>\n",
       "      <td>B</td>\n",
       "    </tr>\n",
       "    <tr>\n",
       "      <th>1</th>\n",
       "      <td>2804400009</td>\n",
       "      <td>3642806036</td>\n",
       "      <td>2019-08-15</td>\n",
       "      <td>730</td>\n",
       "      <td>B</td>\n",
       "    </tr>\n",
       "    <tr>\n",
       "      <th>2</th>\n",
       "      <td>2961555356</td>\n",
       "      <td>4069496402</td>\n",
       "      <td>2019-08-15</td>\n",
       "      <td>400</td>\n",
       "      <td>A</td>\n",
       "    </tr>\n",
       "    <tr>\n",
       "      <th>3</th>\n",
       "      <td>3797467345</td>\n",
       "      <td>1196621759</td>\n",
       "      <td>2019-08-15</td>\n",
       "      <td>9759</td>\n",
       "      <td>B</td>\n",
       "    </tr>\n",
       "    <tr>\n",
       "      <th>4</th>\n",
       "      <td>2282983706</td>\n",
       "      <td>2322279887</td>\n",
       "      <td>2019-08-15</td>\n",
       "      <td>2308</td>\n",
       "      <td>B</td>\n",
       "    </tr>\n",
       "    <tr>\n",
       "      <th>5</th>\n",
       "      <td>182168103</td>\n",
       "      <td>935554773</td>\n",
       "      <td>2019-08-15</td>\n",
       "      <td>2210</td>\n",
       "      <td>B</td>\n",
       "    </tr>\n",
       "    <tr>\n",
       "      <th>6</th>\n",
       "      <td>398296753</td>\n",
       "      <td>2900797465</td>\n",
       "      <td>2019-08-15</td>\n",
       "      <td>1860</td>\n",
       "      <td>B</td>\n",
       "    </tr>\n",
       "    <tr>\n",
       "      <th>7</th>\n",
       "      <td>2626614568</td>\n",
       "      <td>78758296</td>\n",
       "      <td>2019-08-15</td>\n",
       "      <td>1044</td>\n",
       "      <td>A</td>\n",
       "    </tr>\n",
       "    <tr>\n",
       "      <th>8</th>\n",
       "      <td>1576988021</td>\n",
       "      <td>295230930</td>\n",
       "      <td>2019-08-15</td>\n",
       "      <td>13710</td>\n",
       "      <td>A</td>\n",
       "    </tr>\n",
       "    <tr>\n",
       "      <th>9</th>\n",
       "      <td>1506739906</td>\n",
       "      <td>1882260405</td>\n",
       "      <td>2019-08-15</td>\n",
       "      <td>1855</td>\n",
       "      <td>B</td>\n",
       "    </tr>\n",
       "  </tbody>\n",
       "</table>\n",
       "</div>"
      ],
      "text/plain": [
       "   transactionId   visitorId        date  revenue group\n",
       "0  3667963787     3312258926  2019-08-15  1650     B   \n",
       "1  2804400009     3642806036  2019-08-15  730      B   \n",
       "2  2961555356     4069496402  2019-08-15  400      A   \n",
       "3  3797467345     1196621759  2019-08-15  9759     B   \n",
       "4  2282983706     2322279887  2019-08-15  2308     B   \n",
       "5  182168103      935554773   2019-08-15  2210     B   \n",
       "6  398296753      2900797465  2019-08-15  1860     B   \n",
       "7  2626614568     78758296    2019-08-15  1044     A   \n",
       "8  1576988021     295230930   2019-08-15  13710    A   \n",
       "9  1506739906     1882260405  2019-08-15  1855     B   "
      ]
     },
     "execution_count": 6,
     "metadata": {},
     "output_type": "execute_result"
    }
   ],
   "source": [
    "# выведем первые 10 cтрок таблицы orders\n",
    "orders.head(10)"
   ]
  },
  {
   "cell_type": "code",
   "execution_count": 7,
   "metadata": {},
   "outputs": [
    {
     "name": "stdout",
     "output_type": "stream",
     "text": [
      "<class 'pandas.core.frame.DataFrame'>\n",
      "RangeIndex: 1197 entries, 0 to 1196\n",
      "Data columns (total 5 columns):\n",
      " #   Column         Non-Null Count  Dtype \n",
      "---  ------         --------------  ----- \n",
      " 0   transactionId  1197 non-null   int64 \n",
      " 1   visitorId      1197 non-null   int64 \n",
      " 2   date           1197 non-null   object\n",
      " 3   revenue        1197 non-null   int64 \n",
      " 4   group          1197 non-null   object\n",
      "dtypes: int64(3), object(2)\n",
      "memory usage: 46.9+ KB\n"
     ]
    }
   ],
   "source": [
    "# посмотрим общую информацию о таблице orders\n",
    "orders.info()"
   ]
  },
  {
   "cell_type": "code",
   "execution_count": 8,
   "metadata": {},
   "outputs": [
    {
     "data": {
      "text/html": [
       "<div>\n",
       "<style scoped>\n",
       "    .dataframe tbody tr th:only-of-type {\n",
       "        vertical-align: middle;\n",
       "    }\n",
       "\n",
       "    .dataframe tbody tr th {\n",
       "        vertical-align: top;\n",
       "    }\n",
       "\n",
       "    .dataframe thead th {\n",
       "        text-align: right;\n",
       "    }\n",
       "</style>\n",
       "<table border=\"1\" class=\"dataframe\">\n",
       "  <thead>\n",
       "    <tr style=\"text-align: right;\">\n",
       "      <th></th>\n",
       "      <th>date</th>\n",
       "      <th>group</th>\n",
       "      <th>visitors</th>\n",
       "    </tr>\n",
       "  </thead>\n",
       "  <tbody>\n",
       "    <tr>\n",
       "      <th>0</th>\n",
       "      <td>2019-08-01</td>\n",
       "      <td>A</td>\n",
       "      <td>719</td>\n",
       "    </tr>\n",
       "    <tr>\n",
       "      <th>1</th>\n",
       "      <td>2019-08-02</td>\n",
       "      <td>A</td>\n",
       "      <td>619</td>\n",
       "    </tr>\n",
       "    <tr>\n",
       "      <th>2</th>\n",
       "      <td>2019-08-03</td>\n",
       "      <td>A</td>\n",
       "      <td>507</td>\n",
       "    </tr>\n",
       "    <tr>\n",
       "      <th>3</th>\n",
       "      <td>2019-08-04</td>\n",
       "      <td>A</td>\n",
       "      <td>717</td>\n",
       "    </tr>\n",
       "    <tr>\n",
       "      <th>4</th>\n",
       "      <td>2019-08-05</td>\n",
       "      <td>A</td>\n",
       "      <td>756</td>\n",
       "    </tr>\n",
       "    <tr>\n",
       "      <th>5</th>\n",
       "      <td>2019-08-06</td>\n",
       "      <td>A</td>\n",
       "      <td>667</td>\n",
       "    </tr>\n",
       "    <tr>\n",
       "      <th>6</th>\n",
       "      <td>2019-08-07</td>\n",
       "      <td>A</td>\n",
       "      <td>644</td>\n",
       "    </tr>\n",
       "    <tr>\n",
       "      <th>7</th>\n",
       "      <td>2019-08-08</td>\n",
       "      <td>A</td>\n",
       "      <td>610</td>\n",
       "    </tr>\n",
       "    <tr>\n",
       "      <th>8</th>\n",
       "      <td>2019-08-09</td>\n",
       "      <td>A</td>\n",
       "      <td>617</td>\n",
       "    </tr>\n",
       "    <tr>\n",
       "      <th>9</th>\n",
       "      <td>2019-08-10</td>\n",
       "      <td>A</td>\n",
       "      <td>406</td>\n",
       "    </tr>\n",
       "  </tbody>\n",
       "</table>\n",
       "</div>"
      ],
      "text/plain": [
       "         date group  visitors\n",
       "0  2019-08-01  A     719     \n",
       "1  2019-08-02  A     619     \n",
       "2  2019-08-03  A     507     \n",
       "3  2019-08-04  A     717     \n",
       "4  2019-08-05  A     756     \n",
       "5  2019-08-06  A     667     \n",
       "6  2019-08-07  A     644     \n",
       "7  2019-08-08  A     610     \n",
       "8  2019-08-09  A     617     \n",
       "9  2019-08-10  A     406     "
      ]
     },
     "execution_count": 8,
     "metadata": {},
     "output_type": "execute_result"
    }
   ],
   "source": [
    "# выведем первые 10 cтрок таблицы visitors\n",
    "visitors.head(10)"
   ]
  },
  {
   "cell_type": "code",
   "execution_count": 9,
   "metadata": {},
   "outputs": [
    {
     "name": "stdout",
     "output_type": "stream",
     "text": [
      "<class 'pandas.core.frame.DataFrame'>\n",
      "RangeIndex: 62 entries, 0 to 61\n",
      "Data columns (total 3 columns):\n",
      " #   Column    Non-Null Count  Dtype \n",
      "---  ------    --------------  ----- \n",
      " 0   date      62 non-null     object\n",
      " 1   group     62 non-null     object\n",
      " 2   visitors  62 non-null     int64 \n",
      "dtypes: int64(1), object(2)\n",
      "memory usage: 1.6+ KB\n"
     ]
    }
   ],
   "source": [
    "# посмотрим общую информацию о таблице visitors\n",
    "visitors.info()"
   ]
  },
  {
   "cell_type": "markdown",
   "metadata": {},
   "source": [
    "**Вывод**\n",
    "\n",
    "Видим в данных hypothesis 9 строк и 5 столбцов, вес датафрейма - 488.0+ bytes; столбцы Reach, Impact, Confidence и Efforts - имеют тип данных int64; столбец Hypothesis имеет тип данных - object. Необходимо привести к нижнему регистру наименования столбцов.\n",
    "\n",
    "Видим в данных orders 1197 cтрок и 5 столбцов, вес датафрейма - 46.9+ KB; столбцы transactionId, visitorId и revenue имеют тип данных - int64; столбцы date и group - имеют тип данных object. Необходимо тип данных столбца date изменить на datetime64. Также необходимо привести к нижнему регистру наименования столбцов transactionId и \tvisitorId.\n",
    "\n",
    "Видим в данных visitors 62 строки и 3 столбца, вес датафрейма - 1.6+ KB; столбцы date и group имеют тип данных - object; столбец visitors имеет тип данных - int64. Необходимо тип данных столбца date изменить на datetime64.\n",
    "\n",
    "Проверим наличие пропусков и дубликатов в следующем разделе."
   ]
  },
  {
   "cell_type": "markdown",
   "metadata": {},
   "source": [
    "## Предобработка данных"
   ]
  },
  {
   "cell_type": "markdown",
   "metadata": {},
   "source": [
    "### Замена названия столбцов (приведение к нижнему регистру)"
   ]
  },
  {
   "cell_type": "code",
   "execution_count": 10,
   "metadata": {},
   "outputs": [
    {
     "data": {
      "text/html": [
       "<div>\n",
       "<style scoped>\n",
       "    .dataframe tbody tr th:only-of-type {\n",
       "        vertical-align: middle;\n",
       "    }\n",
       "\n",
       "    .dataframe tbody tr th {\n",
       "        vertical-align: top;\n",
       "    }\n",
       "\n",
       "    .dataframe thead th {\n",
       "        text-align: right;\n",
       "    }\n",
       "</style>\n",
       "<table border=\"1\" class=\"dataframe\">\n",
       "  <thead>\n",
       "    <tr style=\"text-align: right;\">\n",
       "      <th></th>\n",
       "      <th>hypothesis</th>\n",
       "      <th>reach</th>\n",
       "      <th>impact</th>\n",
       "      <th>confidence</th>\n",
       "      <th>efforts</th>\n",
       "    </tr>\n",
       "  </thead>\n",
       "  <tbody>\n",
       "    <tr>\n",
       "      <th>0</th>\n",
       "      <td>Добавить два новых канала привлечения трафика, что позволит привлекать на 30% больше пользователей</td>\n",
       "      <td>3</td>\n",
       "      <td>10</td>\n",
       "      <td>8</td>\n",
       "      <td>6</td>\n",
       "    </tr>\n",
       "    <tr>\n",
       "      <th>1</th>\n",
       "      <td>Запустить собственную службу доставки, что сократит срок доставки заказов</td>\n",
       "      <td>2</td>\n",
       "      <td>5</td>\n",
       "      <td>4</td>\n",
       "      <td>10</td>\n",
       "    </tr>\n",
       "    <tr>\n",
       "      <th>2</th>\n",
       "      <td>Добавить блоки рекомендаций товаров на сайт интернет магазина, чтобы повысить конверсию и средний чек заказа</td>\n",
       "      <td>8</td>\n",
       "      <td>3</td>\n",
       "      <td>7</td>\n",
       "      <td>3</td>\n",
       "    </tr>\n",
       "    <tr>\n",
       "      <th>3</th>\n",
       "      <td>Изменить структура категорий, что увеличит конверсию, т.к. пользователи быстрее найдут нужный товар</td>\n",
       "      <td>8</td>\n",
       "      <td>3</td>\n",
       "      <td>3</td>\n",
       "      <td>8</td>\n",
       "    </tr>\n",
       "    <tr>\n",
       "      <th>4</th>\n",
       "      <td>Изменить цвет фона главной страницы, чтобы увеличить вовлеченность пользователей</td>\n",
       "      <td>3</td>\n",
       "      <td>1</td>\n",
       "      <td>1</td>\n",
       "      <td>1</td>\n",
       "    </tr>\n",
       "  </tbody>\n",
       "</table>\n",
       "</div>"
      ],
      "text/plain": [
       "                                                                                                     hypothesis  \\\n",
       "0  Добавить два новых канала привлечения трафика, что позволит привлекать на 30% больше пользователей             \n",
       "1  Запустить собственную службу доставки, что сократит срок доставки заказов                                      \n",
       "2  Добавить блоки рекомендаций товаров на сайт интернет магазина, чтобы повысить конверсию и средний чек заказа   \n",
       "3  Изменить структура категорий, что увеличит конверсию, т.к. пользователи быстрее найдут нужный товар            \n",
       "4  Изменить цвет фона главной страницы, чтобы увеличить вовлеченность пользователей                               \n",
       "\n",
       "   reach  impact  confidence  efforts  \n",
       "0  3      10      8           6        \n",
       "1  2      5       4           10       \n",
       "2  8      3       7           3        \n",
       "3  8      3       3           8        \n",
       "4  3      1       1           1        "
      ]
     },
     "execution_count": 10,
     "metadata": {},
     "output_type": "execute_result"
    }
   ],
   "source": [
    "hypothesis.columns = hypothesis.columns.str.lower()\n",
    "hypothesis.head()"
   ]
  },
  {
   "cell_type": "code",
   "execution_count": 11,
   "metadata": {},
   "outputs": [
    {
     "data": {
      "text/html": [
       "<div>\n",
       "<style scoped>\n",
       "    .dataframe tbody tr th:only-of-type {\n",
       "        vertical-align: middle;\n",
       "    }\n",
       "\n",
       "    .dataframe tbody tr th {\n",
       "        vertical-align: top;\n",
       "    }\n",
       "\n",
       "    .dataframe thead th {\n",
       "        text-align: right;\n",
       "    }\n",
       "</style>\n",
       "<table border=\"1\" class=\"dataframe\">\n",
       "  <thead>\n",
       "    <tr style=\"text-align: right;\">\n",
       "      <th></th>\n",
       "      <th>transaction_id</th>\n",
       "      <th>visitor_id</th>\n",
       "      <th>date</th>\n",
       "      <th>revenue</th>\n",
       "      <th>group</th>\n",
       "    </tr>\n",
       "  </thead>\n",
       "  <tbody>\n",
       "    <tr>\n",
       "      <th>0</th>\n",
       "      <td>3667963787</td>\n",
       "      <td>3312258926</td>\n",
       "      <td>2019-08-15</td>\n",
       "      <td>1650</td>\n",
       "      <td>B</td>\n",
       "    </tr>\n",
       "    <tr>\n",
       "      <th>1</th>\n",
       "      <td>2804400009</td>\n",
       "      <td>3642806036</td>\n",
       "      <td>2019-08-15</td>\n",
       "      <td>730</td>\n",
       "      <td>B</td>\n",
       "    </tr>\n",
       "    <tr>\n",
       "      <th>2</th>\n",
       "      <td>2961555356</td>\n",
       "      <td>4069496402</td>\n",
       "      <td>2019-08-15</td>\n",
       "      <td>400</td>\n",
       "      <td>A</td>\n",
       "    </tr>\n",
       "    <tr>\n",
       "      <th>3</th>\n",
       "      <td>3797467345</td>\n",
       "      <td>1196621759</td>\n",
       "      <td>2019-08-15</td>\n",
       "      <td>9759</td>\n",
       "      <td>B</td>\n",
       "    </tr>\n",
       "    <tr>\n",
       "      <th>4</th>\n",
       "      <td>2282983706</td>\n",
       "      <td>2322279887</td>\n",
       "      <td>2019-08-15</td>\n",
       "      <td>2308</td>\n",
       "      <td>B</td>\n",
       "    </tr>\n",
       "  </tbody>\n",
       "</table>\n",
       "</div>"
      ],
      "text/plain": [
       "   transaction_id  visitor_id        date  revenue group\n",
       "0  3667963787      3312258926  2019-08-15  1650     B   \n",
       "1  2804400009      3642806036  2019-08-15  730      B   \n",
       "2  2961555356      4069496402  2019-08-15  400      A   \n",
       "3  3797467345      1196621759  2019-08-15  9759     B   \n",
       "4  2282983706      2322279887  2019-08-15  2308     B   "
      ]
     },
     "execution_count": 11,
     "metadata": {},
     "output_type": "execute_result"
    }
   ],
   "source": [
    "orders.columns = [name.replace('Id', '_id') for name in orders.columns]\n",
    "orders.head()"
   ]
  },
  {
   "cell_type": "markdown",
   "metadata": {},
   "source": [
    "### Замена типа данных"
   ]
  },
  {
   "cell_type": "code",
   "execution_count": 12,
   "metadata": {},
   "outputs": [
    {
     "name": "stdout",
     "output_type": "stream",
     "text": [
      "<class 'pandas.core.frame.DataFrame'>\n",
      "RangeIndex: 1197 entries, 0 to 1196\n",
      "Data columns (total 5 columns):\n",
      " #   Column          Non-Null Count  Dtype         \n",
      "---  ------          --------------  -----         \n",
      " 0   transaction_id  1197 non-null   int64         \n",
      " 1   visitor_id      1197 non-null   int64         \n",
      " 2   date            1197 non-null   datetime64[ns]\n",
      " 3   revenue         1197 non-null   int64         \n",
      " 4   group           1197 non-null   object        \n",
      "dtypes: datetime64[ns](1), int64(3), object(1)\n",
      "memory usage: 46.9+ KB\n",
      "<class 'pandas.core.frame.DataFrame'>\n",
      "RangeIndex: 62 entries, 0 to 61\n",
      "Data columns (total 3 columns):\n",
      " #   Column    Non-Null Count  Dtype         \n",
      "---  ------    --------------  -----         \n",
      " 0   date      62 non-null     datetime64[ns]\n",
      " 1   group     62 non-null     object        \n",
      " 2   visitors  62 non-null     int64         \n",
      "dtypes: datetime64[ns](1), int64(1), object(1)\n",
      "memory usage: 1.6+ KB\n"
     ]
    }
   ],
   "source": [
    "# заменим тип данных для orders['date'] и visitors['date']\n",
    "orders['date'] = pd.to_datetime(orders['date'])\n",
    "visitors['date'] = pd.to_datetime(visitors['date'])\n",
    "\n",
    "# проверим\n",
    "orders.info()\n",
    "visitors.info()"
   ]
  },
  {
   "cell_type": "markdown",
   "metadata": {},
   "source": [
    "### Проверка наличия пропущенных значений и дубликатов в датафреймах и их обработка"
   ]
  },
  {
   "cell_type": "code",
   "execution_count": 13,
   "metadata": {},
   "outputs": [
    {
     "name": "stdout",
     "output_type": "stream",
     "text": [
      "Количество пропущенных значений в hypothesis: 0\n",
      "Количество пропущенных значений в orders: 0\n",
      "Количество пропущенных значений в visitors: 0\n"
     ]
    }
   ],
   "source": [
    "# посчитаем количество пропущенных значений в датафреймах\n",
    "print(f'Количество пропущенных значений в hypothesis: {hypothesis.isna().sum().sum()}')\n",
    "print(f'Количество пропущенных значений в orders: {orders.isna().sum().sum()}')\n",
    "print(f'Количество пропущенных значений в visitors: {visitors.isna().sum().sum()}')"
   ]
  },
  {
   "cell_type": "code",
   "execution_count": 14,
   "metadata": {},
   "outputs": [
    {
     "name": "stdout",
     "output_type": "stream",
     "text": [
      "Количество дубликатов в hypothesis: 0\n",
      "Количество дубликатов в orders: 0\n",
      "Количество дубликатов в visitors: 0\n"
     ]
    }
   ],
   "source": [
    "# посчитаем количество дубликатов в датафреймах\n",
    "print(f'Количество дубликатов в hypothesis: {hypothesis.duplicated().sum()}')\n",
    "print(f'Количество дубликатов в orders: {orders.duplicated().sum()}')\n",
    "print(f'Количество дубликатов в visitors: {visitors.duplicated().sum()}')"
   ]
  },
  {
   "cell_type": "code",
   "execution_count": 15,
   "metadata": {},
   "outputs": [
    {
     "name": "stdout",
     "output_type": "stream",
     "text": [
      "Количество пользователей в двух группах: 58\n"
     ]
    }
   ],
   "source": [
    "# проверим наличие пользователей, которые попали в два теста одновременно в датафрейме orders\n",
    "group_a = orders[orders['group'] == 'A']['visitor_id']\n",
    "group_b = orders[orders['group'] == 'B']['visitor_id']\n",
    "group_orders = orders.query('visitor_id in @group_a and visitor_id in @group_b')\n",
    "print('Количество пользователей в двух группах:', group_orders['visitor_id'].nunique())"
   ]
  },
  {
   "cell_type": "code",
   "execution_count": 16,
   "metadata": {},
   "outputs": [
    {
     "data": {
      "text/plain": [
       "'4.8%'"
      ]
     },
     "execution_count": 16,
     "metadata": {},
     "output_type": "execute_result"
    }
   ],
   "source": [
    "# посчитаем процент этих пользователей от всего датафрейма orders\n",
    "'{:.1%}'.format(group_orders['visitor_id'].nunique()/orders['visitor_id'].count())"
   ]
  },
  {
   "cell_type": "code",
   "execution_count": 17,
   "metadata": {},
   "outputs": [
    {
     "data": {
      "text/plain": [
       "group\n",
       "A    503\n",
       "B    586\n",
       "Name: visitor_id, dtype: int64"
      ]
     },
     "execution_count": 17,
     "metadata": {},
     "output_type": "execute_result"
    }
   ],
   "source": [
    "# посмотрим на количество уникальных пользователей по группам\n",
    "orders.groupby('group').nunique('visitor_id')['visitor_id']"
   ]
  },
  {
   "cell_type": "code",
   "execution_count": 18,
   "metadata": {},
   "outputs": [
    {
     "data": {
      "text/plain": [
       "group\n",
       "A    445\n",
       "B    528\n",
       "Name: visitor_id, dtype: int64"
      ]
     },
     "execution_count": 18,
     "metadata": {},
     "output_type": "execute_result"
    }
   ],
   "source": [
    "# удалим строки с задублированными пользователями, будет потерено 4.8% строк с данными, что не является критичным\n",
    "orders = orders.query('visitor_id not in @group_orders[\"visitor_id\"]')\n",
    "# проверим\n",
    "orders.groupby('group').nunique('visitor_id')['visitor_id']"
   ]
  },
  {
   "cell_type": "markdown",
   "metadata": {},
   "source": [
    "**Вывод**\n",
    "\n",
    "Провели предобработку данных, а именно привели наименования столбцов к 'хорошему стилю'; заменили тип данных, где требовалось; проверили на наличие пропущенных значений и дубликатов; выявили задублированных пользователей, а именно 4.8% от датафрейма orders и удалили их для корректности дальнейших действий."
   ]
  },
  {
   "cell_type": "markdown",
   "metadata": {},
   "source": [
    "## Приоритизация гипотез"
   ]
  },
  {
   "cell_type": "markdown",
   "metadata": {},
   "source": [
    "### Применение фреймворка ICE"
   ]
  },
  {
   "cell_type": "code",
   "execution_count": 19,
   "metadata": {},
   "outputs": [
    {
     "data": {
      "text/html": [
       "<div>\n",
       "<style scoped>\n",
       "    .dataframe tbody tr th:only-of-type {\n",
       "        vertical-align: middle;\n",
       "    }\n",
       "\n",
       "    .dataframe tbody tr th {\n",
       "        vertical-align: top;\n",
       "    }\n",
       "\n",
       "    .dataframe thead th {\n",
       "        text-align: right;\n",
       "    }\n",
       "</style>\n",
       "<table border=\"1\" class=\"dataframe\">\n",
       "  <thead>\n",
       "    <tr style=\"text-align: right;\">\n",
       "      <th></th>\n",
       "      <th>hypothesis</th>\n",
       "      <th>ICE</th>\n",
       "    </tr>\n",
       "  </thead>\n",
       "  <tbody>\n",
       "    <tr>\n",
       "      <th>8</th>\n",
       "      <td>Запустить акцию, дающую скидку на товар в день рождения</td>\n",
       "      <td>16.2</td>\n",
       "    </tr>\n",
       "    <tr>\n",
       "      <th>0</th>\n",
       "      <td>Добавить два новых канала привлечения трафика, что позволит привлекать на 30% больше пользователей</td>\n",
       "      <td>13.3</td>\n",
       "    </tr>\n",
       "    <tr>\n",
       "      <th>7</th>\n",
       "      <td>Добавить форму подписки на все основные страницы, чтобы собрать базу клиентов для email-рассылок</td>\n",
       "      <td>11.2</td>\n",
       "    </tr>\n",
       "    <tr>\n",
       "      <th>6</th>\n",
       "      <td>Показать на главной странице баннеры с актуальными акциями и распродажами, чтобы увеличить конверсию</td>\n",
       "      <td>8.0</td>\n",
       "    </tr>\n",
       "    <tr>\n",
       "      <th>2</th>\n",
       "      <td>Добавить блоки рекомендаций товаров на сайт интернет магазина, чтобы повысить конверсию и средний чек заказа</td>\n",
       "      <td>7.0</td>\n",
       "    </tr>\n",
       "    <tr>\n",
       "      <th>1</th>\n",
       "      <td>Запустить собственную службу доставки, что сократит срок доставки заказов</td>\n",
       "      <td>2.0</td>\n",
       "    </tr>\n",
       "    <tr>\n",
       "      <th>5</th>\n",
       "      <td>Добавить страницу отзывов клиентов о магазине, что позволит увеличить количество заказов</td>\n",
       "      <td>1.3</td>\n",
       "    </tr>\n",
       "    <tr>\n",
       "      <th>3</th>\n",
       "      <td>Изменить структура категорий, что увеличит конверсию, т.к. пользователи быстрее найдут нужный товар</td>\n",
       "      <td>1.1</td>\n",
       "    </tr>\n",
       "    <tr>\n",
       "      <th>4</th>\n",
       "      <td>Изменить цвет фона главной страницы, чтобы увеличить вовлеченность пользователей</td>\n",
       "      <td>1.0</td>\n",
       "    </tr>\n",
       "  </tbody>\n",
       "</table>\n",
       "</div>"
      ],
      "text/plain": [
       "                                                                                                     hypothesis  \\\n",
       "8  Запустить акцию, дающую скидку на товар в день рождения                                                        \n",
       "0  Добавить два новых канала привлечения трафика, что позволит привлекать на 30% больше пользователей             \n",
       "7  Добавить форму подписки на все основные страницы, чтобы собрать базу клиентов для email-рассылок               \n",
       "6  Показать на главной странице баннеры с актуальными акциями и распродажами, чтобы увеличить конверсию           \n",
       "2  Добавить блоки рекомендаций товаров на сайт интернет магазина, чтобы повысить конверсию и средний чек заказа   \n",
       "1  Запустить собственную службу доставки, что сократит срок доставки заказов                                      \n",
       "5  Добавить страницу отзывов клиентов о магазине, что позволит увеличить количество заказов                       \n",
       "3  Изменить структура категорий, что увеличит конверсию, т.к. пользователи быстрее найдут нужный товар            \n",
       "4  Изменить цвет фона главной страницы, чтобы увеличить вовлеченность пользователей                               \n",
       "\n",
       "    ICE  \n",
       "8  16.2  \n",
       "0  13.3  \n",
       "7  11.2  \n",
       "6  8.0   \n",
       "2  7.0   \n",
       "1  2.0   \n",
       "5  1.3   \n",
       "3  1.1   \n",
       "4  1.0   "
      ]
     },
     "execution_count": 19,
     "metadata": {},
     "output_type": "execute_result"
    }
   ],
   "source": [
    "hypothesis['ICE'] = (hypothesis['impact']*hypothesis['confidence']) / hypothesis['efforts']   \n",
    "hypothesis[['hypothesis', 'ICE']].sort_values(by='ICE', ascending = False).round(1)"
   ]
  },
  {
   "cell_type": "markdown",
   "metadata": {},
   "source": [
    "### Применение фреймворка RICE"
   ]
  },
  {
   "cell_type": "code",
   "execution_count": 20,
   "metadata": {},
   "outputs": [
    {
     "data": {
      "text/html": [
       "<div>\n",
       "<style scoped>\n",
       "    .dataframe tbody tr th:only-of-type {\n",
       "        vertical-align: middle;\n",
       "    }\n",
       "\n",
       "    .dataframe tbody tr th {\n",
       "        vertical-align: top;\n",
       "    }\n",
       "\n",
       "    .dataframe thead th {\n",
       "        text-align: right;\n",
       "    }\n",
       "</style>\n",
       "<table border=\"1\" class=\"dataframe\">\n",
       "  <thead>\n",
       "    <tr style=\"text-align: right;\">\n",
       "      <th></th>\n",
       "      <th>hypothesis</th>\n",
       "      <th>RICE</th>\n",
       "    </tr>\n",
       "  </thead>\n",
       "  <tbody>\n",
       "    <tr>\n",
       "      <th>7</th>\n",
       "      <td>Добавить форму подписки на все основные страницы, чтобы собрать базу клиентов для email-рассылок</td>\n",
       "      <td>112.0</td>\n",
       "    </tr>\n",
       "    <tr>\n",
       "      <th>2</th>\n",
       "      <td>Добавить блоки рекомендаций товаров на сайт интернет магазина, чтобы повысить конверсию и средний чек заказа</td>\n",
       "      <td>56.0</td>\n",
       "    </tr>\n",
       "    <tr>\n",
       "      <th>0</th>\n",
       "      <td>Добавить два новых канала привлечения трафика, что позволит привлекать на 30% больше пользователей</td>\n",
       "      <td>40.0</td>\n",
       "    </tr>\n",
       "    <tr>\n",
       "      <th>6</th>\n",
       "      <td>Показать на главной странице баннеры с актуальными акциями и распродажами, чтобы увеличить конверсию</td>\n",
       "      <td>40.0</td>\n",
       "    </tr>\n",
       "    <tr>\n",
       "      <th>8</th>\n",
       "      <td>Запустить акцию, дающую скидку на товар в день рождения</td>\n",
       "      <td>16.2</td>\n",
       "    </tr>\n",
       "    <tr>\n",
       "      <th>3</th>\n",
       "      <td>Изменить структура категорий, что увеличит конверсию, т.к. пользователи быстрее найдут нужный товар</td>\n",
       "      <td>9.0</td>\n",
       "    </tr>\n",
       "    <tr>\n",
       "      <th>1</th>\n",
       "      <td>Запустить собственную службу доставки, что сократит срок доставки заказов</td>\n",
       "      <td>4.0</td>\n",
       "    </tr>\n",
       "    <tr>\n",
       "      <th>5</th>\n",
       "      <td>Добавить страницу отзывов клиентов о магазине, что позволит увеличить количество заказов</td>\n",
       "      <td>4.0</td>\n",
       "    </tr>\n",
       "    <tr>\n",
       "      <th>4</th>\n",
       "      <td>Изменить цвет фона главной страницы, чтобы увеличить вовлеченность пользователей</td>\n",
       "      <td>3.0</td>\n",
       "    </tr>\n",
       "  </tbody>\n",
       "</table>\n",
       "</div>"
      ],
      "text/plain": [
       "                                                                                                     hypothesis  \\\n",
       "7  Добавить форму подписки на все основные страницы, чтобы собрать базу клиентов для email-рассылок               \n",
       "2  Добавить блоки рекомендаций товаров на сайт интернет магазина, чтобы повысить конверсию и средний чек заказа   \n",
       "0  Добавить два новых канала привлечения трафика, что позволит привлекать на 30% больше пользователей             \n",
       "6  Показать на главной странице баннеры с актуальными акциями и распродажами, чтобы увеличить конверсию           \n",
       "8  Запустить акцию, дающую скидку на товар в день рождения                                                        \n",
       "3  Изменить структура категорий, что увеличит конверсию, т.к. пользователи быстрее найдут нужный товар            \n",
       "1  Запустить собственную службу доставки, что сократит срок доставки заказов                                      \n",
       "5  Добавить страницу отзывов клиентов о магазине, что позволит увеличить количество заказов                       \n",
       "4  Изменить цвет фона главной страницы, чтобы увеличить вовлеченность пользователей                               \n",
       "\n",
       "    RICE  \n",
       "7  112.0  \n",
       "2  56.0   \n",
       "0  40.0   \n",
       "6  40.0   \n",
       "8  16.2   \n",
       "3  9.0    \n",
       "1  4.0    \n",
       "5  4.0    \n",
       "4  3.0    "
      ]
     },
     "execution_count": 20,
     "metadata": {},
     "output_type": "execute_result"
    }
   ],
   "source": [
    "hypothesis['RICE'] = (hypothesis['reach']*hypothesis['impact']*hypothesis['confidence'])/hypothesis['efforts']\n",
    "hypothesis[['hypothesis', 'RICE']].sort_values(by='RICE', ascending = False).round(1)"
   ]
  },
  {
   "cell_type": "markdown",
   "metadata": {},
   "source": [
    "### Как изменялась приоритизация гипотез при применении фреймворков"
   ]
  },
  {
   "cell_type": "code",
   "execution_count": 21,
   "metadata": {},
   "outputs": [
    {
     "data": {
      "image/png": "[encoded data removed]",
      "text/plain": [
       "<Figure size 800x400 with 1 Axes>"
      ]
     },
     "metadata": {},
     "output_type": "display_data"
    }
   ],
   "source": [
    "#  посмотрим на визуализации как изменилась приоритезация гипотез при применении RICE вместо ICE\n",
    "ax = hypothesis[['hypothesis', 'ICE', 'RICE']].sort_values(by=['ICE']) \\\n",
    "                                      .set_index('hypothesis') \\\n",
    "                                      .plot(kind='barh', figsize=(8,4), color = ['b', 'g'], alpha = 1)\n",
    "ax.set_xlabel('')\n",
    "ax.set_ylabel('')\n",
    "ax.set_title('Сравнение приоритезаций гипотез ICE и RICE')\n",
    "plt.grid(b=True, color='black', alpha=0.5)\n",
    "plt.show()"
   ]
  },
  {
   "cell_type": "markdown",
   "metadata": {},
   "source": [
    "**Вывод**\n",
    "\n",
    "Видим, что при применении ICE лидируют гипотезы №8 и №0, а после применения RICE - №7 и №2. ICE учитывает такие показатели как 'влияние', 'ваша уверенность' и 'простата реализации'. Модель ICE позволяет провести быструю оценку приоритетности работы, однако субъективный взгляд оценивающего может привести к серьезным неточностям. ICE подойдет для первичной сортировки работы, хоть и без точных расчетов. Более сбалансированная модель RICE дает больше критериев оценки.\n",
    "Модель RICE плюс еще учитывает охват клиентов, поэтому мы видим такое изменение приоритезации на нашем графике. Объективность оценки RICE повышается за счет четких количественных показателей трудозатрат и охвата.\n",
    "Поэтому, рекомендуется в первую очередь протестировать гипотезы:\n",
    "- Добавить форму подписки на все основные страницы, чтобы собрать базу клиентов для email-рассылок;\n",
    "- Добавить блоки рекомендаций товаров на сайт интернет магазина, чтобы повысить конверсию и средний чек заказа.\n"
   ]
  },
  {
   "cell_type": "markdown",
   "metadata": {},
   "source": [
    "## Анализ А/В теста"
   ]
  },
  {
   "cell_type": "markdown",
   "metadata": {},
   "source": [
    "### График кумулятивной выручки по группам"
   ]
  },
  {
   "cell_type": "markdown",
   "metadata": {},
   "source": [
    "Чтобы построить графики, нужно собрать кумулятивные данные. Объявим датафрейм cumulativeData со столбцами: \n",
    "\n",
    "    date — дата;\n",
    "    group — группа A/B-теста (A или B);\n",
    "    orders — кумулятивное количество заказов на указанную дату в указанной группе;\n",
    "    buyers — кумулятивное количество пользователей, совершивших хотя бы один заказ, на указанную дату в указанной группе;\n",
    "    revenue — кумулятивная выручка на указанную дату в указанной группе (средний чек);\n",
    "    visitors — кумулятивное количество посетителей интернет-магазина на указанную дату в определённой группе."
   ]
  },
  {
   "cell_type": "code",
   "execution_count": 22,
   "metadata": {},
   "outputs": [
    {
     "data": {
      "text/html": [
       "<div>\n",
       "<style scoped>\n",
       "    .dataframe tbody tr th:only-of-type {\n",
       "        vertical-align: middle;\n",
       "    }\n",
       "\n",
       "    .dataframe tbody tr th {\n",
       "        vertical-align: top;\n",
       "    }\n",
       "\n",
       "    .dataframe thead th {\n",
       "        text-align: right;\n",
       "    }\n",
       "</style>\n",
       "<table border=\"1\" class=\"dataframe\">\n",
       "  <thead>\n",
       "    <tr style=\"text-align: right;\">\n",
       "      <th></th>\n",
       "      <th>date</th>\n",
       "      <th>group</th>\n",
       "      <th>transaction_id</th>\n",
       "      <th>visitor_id</th>\n",
       "      <th>revenue</th>\n",
       "    </tr>\n",
       "  </thead>\n",
       "  <tbody>\n",
       "    <tr>\n",
       "      <th>55</th>\n",
       "      <td>2019-08-01</td>\n",
       "      <td>A</td>\n",
       "      <td>23</td>\n",
       "      <td>19</td>\n",
       "      <td>142779</td>\n",
       "    </tr>\n",
       "    <tr>\n",
       "      <th>66</th>\n",
       "      <td>2019-08-01</td>\n",
       "      <td>B</td>\n",
       "      <td>17</td>\n",
       "      <td>17</td>\n",
       "      <td>59758</td>\n",
       "    </tr>\n",
       "    <tr>\n",
       "      <th>175</th>\n",
       "      <td>2019-08-02</td>\n",
       "      <td>A</td>\n",
       "      <td>42</td>\n",
       "      <td>36</td>\n",
       "      <td>234381</td>\n",
       "    </tr>\n",
       "    <tr>\n",
       "      <th>173</th>\n",
       "      <td>2019-08-02</td>\n",
       "      <td>B</td>\n",
       "      <td>40</td>\n",
       "      <td>39</td>\n",
       "      <td>221801</td>\n",
       "    </tr>\n",
       "    <tr>\n",
       "      <th>291</th>\n",
       "      <td>2019-08-03</td>\n",
       "      <td>A</td>\n",
       "      <td>66</td>\n",
       "      <td>60</td>\n",
       "      <td>346854</td>\n",
       "    </tr>\n",
       "  </tbody>\n",
       "</table>\n",
       "</div>"
      ],
      "text/plain": [
       "          date group  transaction_id  visitor_id  revenue\n",
       "55  2019-08-01  A     23              19          142779 \n",
       "66  2019-08-01  B     17              17          59758  \n",
       "175 2019-08-02  A     42              36          234381 \n",
       "173 2019-08-02  B     40              39          221801 \n",
       "291 2019-08-03  A     66              60          346854 "
      ]
     },
     "execution_count": 22,
     "metadata": {},
     "output_type": "execute_result"
    }
   ],
   "source": [
    "# создаем массив уникальных пар значений дат и групп теста\n",
    "dates_groups = orders[['date','group']].drop_duplicates()\n",
    "\n",
    "# получим агрегированные кумулятивные по дням данные о заказах \n",
    "orders_aggregated = dates_groups.apply(lambda x: orders[np.logical_and(orders['date'] <= x['date'],\n",
    "                                                                       orders['group'] == x['group'])]\n",
    "                                                                       .agg({'date' : 'max', \n",
    "                                                                             'group': 'max',\n",
    "                                                                             'transaction_id': 'nunique',\n",
    "                                                                             'visitor_id': 'nunique',\n",
    "                                                                             'revenue': 'sum',\n",
    "                                                                            }),\n",
    "                                      axis=1).sort_values(by=['date','group'])\n",
    "\n",
    "orders_aggregated.head(5)"
   ]
  },
  {
   "cell_type": "code",
   "execution_count": 23,
   "metadata": {},
   "outputs": [
    {
     "data": {
      "text/html": [
       "<div>\n",
       "<style scoped>\n",
       "    .dataframe tbody tr th:only-of-type {\n",
       "        vertical-align: middle;\n",
       "    }\n",
       "\n",
       "    .dataframe tbody tr th {\n",
       "        vertical-align: top;\n",
       "    }\n",
       "\n",
       "    .dataframe thead th {\n",
       "        text-align: right;\n",
       "    }\n",
       "</style>\n",
       "<table border=\"1\" class=\"dataframe\">\n",
       "  <thead>\n",
       "    <tr style=\"text-align: right;\">\n",
       "      <th></th>\n",
       "      <th>date</th>\n",
       "      <th>group</th>\n",
       "      <th>visitors</th>\n",
       "    </tr>\n",
       "  </thead>\n",
       "  <tbody>\n",
       "    <tr>\n",
       "      <th>55</th>\n",
       "      <td>2019-08-01</td>\n",
       "      <td>A</td>\n",
       "      <td>719</td>\n",
       "    </tr>\n",
       "    <tr>\n",
       "      <th>66</th>\n",
       "      <td>2019-08-01</td>\n",
       "      <td>B</td>\n",
       "      <td>713</td>\n",
       "    </tr>\n",
       "    <tr>\n",
       "      <th>175</th>\n",
       "      <td>2019-08-02</td>\n",
       "      <td>A</td>\n",
       "      <td>1338</td>\n",
       "    </tr>\n",
       "    <tr>\n",
       "      <th>173</th>\n",
       "      <td>2019-08-02</td>\n",
       "      <td>B</td>\n",
       "      <td>1294</td>\n",
       "    </tr>\n",
       "    <tr>\n",
       "      <th>291</th>\n",
       "      <td>2019-08-03</td>\n",
       "      <td>A</td>\n",
       "      <td>1845</td>\n",
       "    </tr>\n",
       "  </tbody>\n",
       "</table>\n",
       "</div>"
      ],
      "text/plain": [
       "          date group  visitors\n",
       "55  2019-08-01  A     719     \n",
       "66  2019-08-01  B     713     \n",
       "175 2019-08-02  A     1338    \n",
       "173 2019-08-02  B     1294    \n",
       "291 2019-08-03  A     1845    "
      ]
     },
     "execution_count": 23,
     "metadata": {},
     "output_type": "execute_result"
    }
   ],
   "source": [
    "# получим агрегированные кумулятивные по дням данные о пользователях \n",
    "visitors_aggregated = dates_groups.apply(lambda x: visitors[np.logical_and(visitors['date'] <= x['date'],\n",
    "                                                                           visitors['group'] == x['group'])]\n",
    "                                                                           .agg({'date' : 'max', \n",
    "                                                                                'group' : 'max', \n",
    "                                                                                'visitors' : 'sum'}), \n",
    "                                         axis=1).sort_values(by=['date','group'])\n",
    "\n",
    "visitors_aggregated.head(5)"
   ]
  },
  {
   "cell_type": "code",
   "execution_count": 24,
   "metadata": {},
   "outputs": [
    {
     "data": {
      "text/html": [
       "<div>\n",
       "<style scoped>\n",
       "    .dataframe tbody tr th:only-of-type {\n",
       "        vertical-align: middle;\n",
       "    }\n",
       "\n",
       "    .dataframe tbody tr th {\n",
       "        vertical-align: top;\n",
       "    }\n",
       "\n",
       "    .dataframe thead th {\n",
       "        text-align: right;\n",
       "    }\n",
       "</style>\n",
       "<table border=\"1\" class=\"dataframe\">\n",
       "  <thead>\n",
       "    <tr style=\"text-align: right;\">\n",
       "      <th></th>\n",
       "      <th>date</th>\n",
       "      <th>group</th>\n",
       "      <th>orders</th>\n",
       "      <th>buyers</th>\n",
       "      <th>revenue</th>\n",
       "      <th>visitors</th>\n",
       "    </tr>\n",
       "  </thead>\n",
       "  <tbody>\n",
       "    <tr>\n",
       "      <th>0</th>\n",
       "      <td>2019-08-01</td>\n",
       "      <td>A</td>\n",
       "      <td>23</td>\n",
       "      <td>19</td>\n",
       "      <td>142779</td>\n",
       "      <td>719</td>\n",
       "    </tr>\n",
       "    <tr>\n",
       "      <th>1</th>\n",
       "      <td>2019-08-01</td>\n",
       "      <td>B</td>\n",
       "      <td>17</td>\n",
       "      <td>17</td>\n",
       "      <td>59758</td>\n",
       "      <td>713</td>\n",
       "    </tr>\n",
       "    <tr>\n",
       "      <th>2</th>\n",
       "      <td>2019-08-02</td>\n",
       "      <td>A</td>\n",
       "      <td>42</td>\n",
       "      <td>36</td>\n",
       "      <td>234381</td>\n",
       "      <td>1338</td>\n",
       "    </tr>\n",
       "    <tr>\n",
       "      <th>3</th>\n",
       "      <td>2019-08-02</td>\n",
       "      <td>B</td>\n",
       "      <td>40</td>\n",
       "      <td>39</td>\n",
       "      <td>221801</td>\n",
       "      <td>1294</td>\n",
       "    </tr>\n",
       "    <tr>\n",
       "      <th>4</th>\n",
       "      <td>2019-08-03</td>\n",
       "      <td>A</td>\n",
       "      <td>66</td>\n",
       "      <td>60</td>\n",
       "      <td>346854</td>\n",
       "      <td>1845</td>\n",
       "    </tr>\n",
       "  </tbody>\n",
       "</table>\n",
       "</div>"
      ],
      "text/plain": [
       "        date group  orders  buyers  revenue  visitors\n",
       "0 2019-08-01  A     23      19      142779   719     \n",
       "1 2019-08-01  B     17      17      59758    713     \n",
       "2 2019-08-02  A     42      36      234381   1338    \n",
       "3 2019-08-02  B     40      39      221801   1294    \n",
       "4 2019-08-03  A     66      60      346854   1845    "
      ]
     },
     "execution_count": 24,
     "metadata": {},
     "output_type": "execute_result"
    }
   ],
   "source": [
    "# объединяем кумулятивные данные в одной таблице и присваиваем ее столбцам понятные названия\n",
    "cumulative_data = orders_aggregated.merge(visitors_aggregated, left_on=['date', 'group'], right_on=['date', 'group'])\n",
    "cumulative_data.columns = ['date', 'group', 'orders', 'buyers', 'revenue', 'visitors']\n",
    "\n",
    "cumulative_data.head(5)"
   ]
  },
  {
   "cell_type": "code",
   "execution_count": 25,
   "metadata": {},
   "outputs": [
    {
     "data": {
      "image/png": "[encoded data removed]",
      "text/plain": [
       "<Figure size 1800x900 with 1 Axes>"
      ]
     },
     "metadata": {},
     "output_type": "display_data"
    }
   ],
   "source": [
    "# датафрейм с кумулятивным количеством заказов и кумулятивной выручкой по дням в группе А\n",
    "cumulative_revenue_a = cumulative_data[cumulative_data['group']=='A'][['date','revenue', 'orders']]\n",
    "\n",
    "# датафрейм с кумулятивным количеством заказов и кумулятивной выручкой по дням в группе B\n",
    "cumulative_revenue_b = cumulative_data[cumulative_data['group']=='B'][['date','revenue', 'orders']]\n",
    "\n",
    "# строим график кумулятивной выручки по группам\n",
    "plt.figure(figsize=(18,9))\n",
    "plt.plot(cumulative_revenue_a['date'], cumulative_revenue_a['revenue'], label='A')\n",
    "plt.plot(cumulative_revenue_b['date'], cumulative_revenue_b['revenue'], label='B')\n",
    "plt.title('Кумулятивная выручка по группам')\n",
    "plt.xlabel('Дата')\n",
    "plt.ylabel('Выручка')\n",
    "plt.grid()\n",
    "plt.legend();"
   ]
  },
  {
   "cell_type": "markdown",
   "metadata": {},
   "source": [
    "**Вывод**\n",
    "\n",
    "Видим, что выручка групп почти равномерно увеличивается в течение всего теста. Выручка группы А меньше выручки группы В соответственно. Также заметен резкий скачек кумулятивной выручки группы В с 18 августа 2019 года, это может сигнализировать о всплесках числа заказов, либо о появлении очень дорогих заказов в выборке. "
   ]
  },
  {
   "cell_type": "markdown",
   "metadata": {},
   "source": [
    "### График кумулятивного среднего чека по группам"
   ]
  },
  {
   "cell_type": "code",
   "execution_count": 26,
   "metadata": {},
   "outputs": [
    {
     "data": {
      "image/png": "[encoded data removed]",
      "text/plain": [
       "<Figure size 1800x900 with 1 Axes>"
      ]
     },
     "metadata": {},
     "output_type": "display_data"
    }
   ],
   "source": [
    "plt.figure(figsize=(18,9))\n",
    "plt.plot(cumulative_revenue_a['date'], cumulative_revenue_a['revenue']/cumulative_revenue_a['orders'], label='A')\n",
    "plt.plot(cumulative_revenue_b['date'], cumulative_revenue_b['revenue']/cumulative_revenue_b['orders'], label='B')\n",
    "plt.title('Кумулятивный средний чек по группам')\n",
    "plt.xlabel('Дата')\n",
    "plt.ylabel('Средний чек')\n",
    "plt.grid()\n",
    "plt.legend();"
   ]
  },
  {
   "cell_type": "markdown",
   "metadata": {},
   "source": [
    "**Вывод**\n",
    "\n",
    "Видим, что средний чек становится равномерным после середины теста: установился для группы A и продолжает падать для группы B. Наблюдается резкий скачек для группы В 18 августа 2019 года и затем постепенное падение. Возможно, в группу B в этот промежуток попали крупные заказы. Тогда ей нужно больше данных, чтобы прийти к реальному среднему чеку и установиться на его уровне."
   ]
  },
  {
   "cell_type": "markdown",
   "metadata": {},
   "source": [
    "### График относительного изменения кумулятивного среднего чека группы B к группе A"
   ]
  },
  {
   "cell_type": "code",
   "execution_count": 27,
   "metadata": {},
   "outputs": [
    {
     "data": {
      "image/png": "[encoded data removed]",
      "text/plain": [
       "<Figure size 1800x900 with 1 Axes>"
      ]
     },
     "metadata": {},
     "output_type": "display_data"
    }
   ],
   "source": [
    "# собираем данные в одном датафрейме\n",
    "merged_cumulative_revenue = cumulative_revenue_a.merge(cumulative_revenue_b, left_on='date', right_on='date', \n",
    "                                                       how='left', suffixes=['_a', '_b'])\n",
    "\n",
    "# cтроим отношение средних чеков\n",
    "plt.figure(figsize=(18,9))\n",
    "plt.plot(merged_cumulative_revenue['date'], (merged_cumulative_revenue['revenue_b']/merged_cumulative_revenue['orders_b'])/\n",
    "        (merged_cumulative_revenue['revenue_a']/merged_cumulative_revenue['orders_a'])-1)\n",
    "plt.title('Относительное изменение кумулятивного среднего чека группы В к группе А')\n",
    "plt.xlabel('Дата')\n",
    "plt.ylabel('Изменение среднего чека')\n",
    "plt.grid()\n",
    "\n",
    "# добавляем ось X\n",
    "plt.axhline(y=0, color='black', linestyle='--');"
   ]
  },
  {
   "cell_type": "markdown",
   "metadata": {},
   "source": [
    "**Вывод**\n",
    "\n",
    "В нескольких точках график различия между сегментами резко «скачет». Где-то точно спрятались крупные заказы и выбросы! "
   ]
  },
  {
   "cell_type": "markdown",
   "metadata": {},
   "source": [
    "### График кумулятивного среднего количества заказов на посетителя по группам"
   ]
  },
  {
   "cell_type": "code",
   "execution_count": 28,
   "metadata": {},
   "outputs": [
    {
     "name": "stdout",
     "output_type": "stream",
     "text": [
      "2019-08-01 00:00:00\n",
      "2019-08-31 00:00:00\n"
     ]
    }
   ],
   "source": [
    "print(merged_cumulative_revenue['date'].min())\n",
    "print(merged_cumulative_revenue['date'].max())"
   ]
  },
  {
   "cell_type": "code",
   "execution_count": 29,
   "metadata": {},
   "outputs": [
    {
     "data": {
      "image/png": "[encoded data removed]",
      "text/plain": [
       "<Figure size 1800x900 with 1 Axes>"
      ]
     },
     "metadata": {},
     "output_type": "display_data"
    }
   ],
   "source": [
    "# считаем среднее количество заказов на посетителя\n",
    "cumulative_data['conversion'] = cumulative_data['orders']/cumulative_data['visitors']\n",
    "\n",
    "# отделяем данные по группе A\n",
    "cumulative_data_a = cumulative_data[cumulative_data['group']=='A']\n",
    "\n",
    "# отделяем данные по группе B\n",
    "cumulative_data_b = cumulative_data[cumulative_data['group']=='B']\n",
    "\n",
    "# строим график\n",
    "plt.figure(figsize=(18,9))\n",
    "plt.plot(cumulative_data_a['date'], cumulative_data_a['conversion'], label='A')\n",
    "plt.plot(cumulative_data_b['date'], cumulative_data_b['conversion'], label='B')\n",
    "plt.title('Кумулятивное среднее количество заказов на посетителя')\n",
    "plt.xlabel('Дата')\n",
    "plt.ylabel('Конверсия')\n",
    "plt.grid()\n",
    "plt.legend()\n",
    "\n",
    "# задаем масштаб осей\n",
    "plt.axis([dt.datetime(2019, 8, 1), dt.datetime(2019, 8, 31), 0, 0.05]);"
   ]
  },
  {
   "cell_type": "markdown",
   "metadata": {},
   "source": [
    "**Вывод**\n",
    "\n",
    "Видим, что с 1 по 4 августа 2019 года среднее колмчество заказов на посетителя колебалось, затем ситауция стабилизировалась. Среднее количество заказов на посетителя в группе В выше чем в А."
   ]
  },
  {
   "cell_type": "markdown",
   "metadata": {},
   "source": [
    "### График относительного изменения кумулятивного среднего количества заказов на посетителя группы B к группе A"
   ]
  },
  {
   "cell_type": "code",
   "execution_count": 30,
   "metadata": {},
   "outputs": [
    {
     "data": {
      "image/png": "[encoded data removed]",
      "text/plain": [
       "<Figure size 1500x700 with 1 Axes>"
      ]
     },
     "metadata": {},
     "output_type": "display_data"
    }
   ],
   "source": [
    "merged_cumulative_conversions = cumulative_data_a[['date','conversion']].merge(cumulative_data_b[['date','conversion']], \n",
    "                                                                               left_on='date', right_on='date', \n",
    "                                                                               how='left', suffixes=['_a', '_b'])\n",
    "plt.figure(figsize=(15,7))\n",
    "plt.plot(merged_cumulative_conversions['date'], merged_cumulative_conversions['conversion_b']/\n",
    "         merged_cumulative_conversions['conversion_a']-1)\n",
    "plt.title('Относительный прирост кумулятивного среднего количества заказов на посетителя группы B относительно группы A')\n",
    "plt.xlabel('Дата')\n",
    "plt.ylabel('Конверсия')\n",
    "plt.grid()\n",
    "\n",
    "\n",
    "plt.axhline(y=0, color='black', linestyle='--')\n",
    "plt.axhline(y=-0.1, color='grey', linestyle='--')\n",
    "plt.axis([dt.datetime(2019, 8, 1), dt.datetime(2019, 8, 31), -0.5, 0.5]);"
   ]
  },
  {
   "cell_type": "markdown",
   "metadata": {},
   "source": [
    "**Вывод**\n",
    "\n",
    "Видим, что среднее количество заказов на посетителя для группы B с 1 августа по 9 августа то растет, то падает, далее фиксируется в отметке примерно 10-21% конверсии. "
   ]
  },
  {
   "cell_type": "markdown",
   "metadata": {},
   "source": [
    "### Точечный график количества заказов по пользователям"
   ]
  },
  {
   "cell_type": "code",
   "execution_count": 31,
   "metadata": {},
   "outputs": [
    {
     "data": {
      "text/html": [
       "<div>\n",
       "<style scoped>\n",
       "    .dataframe tbody tr th:only-of-type {\n",
       "        vertical-align: middle;\n",
       "    }\n",
       "\n",
       "    .dataframe tbody tr th {\n",
       "        vertical-align: top;\n",
       "    }\n",
       "\n",
       "    .dataframe thead th {\n",
       "        text-align: right;\n",
       "    }\n",
       "</style>\n",
       "<table border=\"1\" class=\"dataframe\">\n",
       "  <thead>\n",
       "    <tr style=\"text-align: right;\">\n",
       "      <th></th>\n",
       "      <th>user_id</th>\n",
       "      <th>orders</th>\n",
       "    </tr>\n",
       "  </thead>\n",
       "  <tbody>\n",
       "    <tr>\n",
       "      <th>908</th>\n",
       "      <td>3967698036</td>\n",
       "      <td>3</td>\n",
       "    </tr>\n",
       "    <tr>\n",
       "      <th>55</th>\n",
       "      <td>249864742</td>\n",
       "      <td>3</td>\n",
       "    </tr>\n",
       "    <tr>\n",
       "      <th>478</th>\n",
       "      <td>2108163459</td>\n",
       "      <td>3</td>\n",
       "    </tr>\n",
       "    <tr>\n",
       "      <th>687</th>\n",
       "      <td>2988190573</td>\n",
       "      <td>3</td>\n",
       "    </tr>\n",
       "    <tr>\n",
       "      <th>890</th>\n",
       "      <td>3908431265</td>\n",
       "      <td>3</td>\n",
       "    </tr>\n",
       "    <tr>\n",
       "      <th>138</th>\n",
       "      <td>611059232</td>\n",
       "      <td>3</td>\n",
       "    </tr>\n",
       "    <tr>\n",
       "      <th>632</th>\n",
       "      <td>2742574263</td>\n",
       "      <td>3</td>\n",
       "    </tr>\n",
       "    <tr>\n",
       "      <th>157</th>\n",
       "      <td>678354126</td>\n",
       "      <td>2</td>\n",
       "    </tr>\n",
       "    <tr>\n",
       "      <th>323</th>\n",
       "      <td>1404560065</td>\n",
       "      <td>2</td>\n",
       "    </tr>\n",
       "    <tr>\n",
       "      <th>452</th>\n",
       "      <td>1985475298</td>\n",
       "      <td>2</td>\n",
       "    </tr>\n",
       "  </tbody>\n",
       "</table>\n",
       "</div>"
      ],
      "text/plain": [
       "        user_id  orders\n",
       "908  3967698036  3     \n",
       "55   249864742   3     \n",
       "478  2108163459  3     \n",
       "687  2988190573  3     \n",
       "890  3908431265  3     \n",
       "138  611059232   3     \n",
       "632  2742574263  3     \n",
       "157  678354126   2     \n",
       "323  1404560065  2     \n",
       "452  1985475298  2     "
      ]
     },
     "execution_count": 31,
     "metadata": {},
     "output_type": "execute_result"
    }
   ],
   "source": [
    "orders_by_users = (orders.groupby('visitor_id', as_index=False).agg({'transaction_id': 'nunique'}))\n",
    "orders_by_users.columns = ['user_id', 'orders']\n",
    "orders_by_users.sort_values(by='orders', ascending=False).head(10)"
   ]
  },
  {
   "cell_type": "code",
   "execution_count": 32,
   "metadata": {},
   "outputs": [
    {
     "data": {
      "image/png": "[encoded data removed]",
      "text/plain": [
       "<Figure size 1500x700 with 1 Axes>"
      ]
     },
     "metadata": {},
     "output_type": "display_data"
    }
   ],
   "source": [
    "# строим график\n",
    "plt.figure(figsize=(15,7))\n",
    "x_values = pd.Series(range(0,len(orders_by_users)))\n",
    "plt.scatter(x_values, orders_by_users['orders'])\n",
    "plt.title('Точечный график количества заказов по пользователям')\n",
    "plt.xlabel('Кол-во пользователей')\n",
    "plt.ylabel('Кол-во заказов')\n",
    "plt.grid()"
   ]
  },
  {
   "cell_type": "markdown",
   "metadata": {},
   "source": [
    "**Вывод**\n",
    "\n",
    "Видим, что сновное количество заказов - 1, затем 2 и немного 3. Необходимо откинуть аномалии (от 1% до 5%)."
   ]
  },
  {
   "cell_type": "markdown",
   "metadata": {},
   "source": [
    "### 95-й и 99-й перцентили количества заказов на пользователя"
   ]
  },
  {
   "cell_type": "code",
   "execution_count": 33,
   "metadata": {},
   "outputs": [
    {
     "data": {
      "text/plain": [
       "array([1., 2.])"
      ]
     },
     "execution_count": 33,
     "metadata": {},
     "output_type": "execute_result"
    }
   ],
   "source": [
    "np.percentile(orders_by_users['orders'], [95, 99])"
   ]
  },
  {
   "cell_type": "markdown",
   "metadata": {},
   "source": [
    "**Вывод**\n",
    "\n",
    "Не более 5% пользователей совершали более 1 заказа, и не более 1% - больше 2 заказов. Разумно выбрать 2 заказа на одного пользователя за верхнюю границу числа заказов, и отсеять аномальных пользователей по ней."
   ]
  },
  {
   "cell_type": "markdown",
   "metadata": {},
   "source": [
    "### Точечный график стоимостей заказов"
   ]
  },
  {
   "cell_type": "code",
   "execution_count": 34,
   "metadata": {},
   "outputs": [
    {
     "data": {
      "image/png": "[encoded data removed]",
      "text/plain": [
       "<Figure size 1500x700 with 1 Axes>"
      ]
     },
     "metadata": {},
     "output_type": "display_data"
    }
   ],
   "source": [
    "plt.figure(figsize=(15,7))\n",
    "x_values = pd.Series(range(0,len(orders['revenue'])))\n",
    "plt.scatter(x_values, orders['revenue'])\n",
    "plt.title('Точечный график стоимостей заказов')\n",
    "plt.xlabel('Кол-во пользователей')\n",
    "plt.ylabel('Cтоимость заказов')\n",
    "plt.grid()\n",
    "plt.show()"
   ]
  },
  {
   "cell_type": "markdown",
   "metadata": {},
   "source": [
    "**Вывод**\n",
    "\n",
    "Видим выбросы в районе 200000 и более 1200000, предполагаю, что скачки на графиках происходят из-за них."
   ]
  },
  {
   "cell_type": "markdown",
   "metadata": {},
   "source": [
    "### 95-й и 99-й перцентили стоимости заказов"
   ]
  },
  {
   "cell_type": "code",
   "execution_count": 35,
   "metadata": {},
   "outputs": [
    {
     "data": {
      "text/plain": [
       "array([26785., 53904.])"
      ]
     },
     "execution_count": 35,
     "metadata": {},
     "output_type": "execute_result"
    }
   ],
   "source": [
    "np.percentile(orders['revenue'], [95, 99])"
   ]
  },
  {
   "cell_type": "markdown",
   "metadata": {},
   "source": [
    "**Вывод**\n",
    "\n",
    "Не более, чем у 5% стоимость заказов превышает 26785 и не боллее у 1% cтоимость заказов превышает 53904. Значение 99 перцентиля возьмем как границу для определения аномальных заказов."
   ]
  },
  {
   "cell_type": "markdown",
   "metadata": {},
   "source": [
    "###  Cтатистическая значимость различий в среднем количестве заказов на посетителя между группами по «сырым» данным"
   ]
  },
  {
   "cell_type": "markdown",
   "metadata": {},
   "source": [
    "Посчитаем статистическую значимость различий в среднем числе заказов на пользователя между группами по «сырым» данным — без удаления аномальных пользователей. Сформулируем гипотезы. \n",
    "\n",
    "    Нулевая: различий в среднем количестве заказов между группами нет. \n",
    "    Альтернативная: различия в среднем между группами есть.\n",
    "Подготовим данные.\n",
    "\n",
    "Для проверки гипотез будем использовать непараметрический тест Уилкоксона-Манна-Уитни (он больше всего подойдет для наших данных). Для уровня значимости установим стандартный уровень, равный 0.05."
   ]
  },
  {
   "cell_type": "code",
   "execution_count": 36,
   "metadata": {},
   "outputs": [
    {
     "data": {
      "text/html": [
       "<div>\n",
       "<style scoped>\n",
       "    .dataframe tbody tr th:only-of-type {\n",
       "        vertical-align: middle;\n",
       "    }\n",
       "\n",
       "    .dataframe tbody tr th {\n",
       "        vertical-align: top;\n",
       "    }\n",
       "\n",
       "    .dataframe thead th {\n",
       "        text-align: right;\n",
       "    }\n",
       "</style>\n",
       "<table border=\"1\" class=\"dataframe\">\n",
       "  <thead>\n",
       "    <tr style=\"text-align: right;\">\n",
       "      <th></th>\n",
       "      <th>date</th>\n",
       "      <th>orders_per_date_a</th>\n",
       "      <th>revenue_per_date_a</th>\n",
       "      <th>orders_per_date_b</th>\n",
       "      <th>revenue_per_date_b</th>\n",
       "      <th>orders_cummulative_a</th>\n",
       "      <th>revenue_cummulative_a</th>\n",
       "      <th>orders_cummulative_b</th>\n",
       "      <th>revenue_cummulative_b</th>\n",
       "      <th>visitors_per_date_a</th>\n",
       "      <th>visitors_per_date_b</th>\n",
       "      <th>visitors_cummulative_a</th>\n",
       "      <th>visitors_cummulative_b</th>\n",
       "    </tr>\n",
       "  </thead>\n",
       "  <tbody>\n",
       "    <tr>\n",
       "      <th>0</th>\n",
       "      <td>2019-08-01</td>\n",
       "      <td>23</td>\n",
       "      <td>142779</td>\n",
       "      <td>17</td>\n",
       "      <td>59758</td>\n",
       "      <td>23</td>\n",
       "      <td>142779</td>\n",
       "      <td>17</td>\n",
       "      <td>59758</td>\n",
       "      <td>719</td>\n",
       "      <td>713</td>\n",
       "      <td>719</td>\n",
       "      <td>713</td>\n",
       "    </tr>\n",
       "    <tr>\n",
       "      <th>1</th>\n",
       "      <td>2019-08-02</td>\n",
       "      <td>19</td>\n",
       "      <td>91602</td>\n",
       "      <td>23</td>\n",
       "      <td>162043</td>\n",
       "      <td>42</td>\n",
       "      <td>234381</td>\n",
       "      <td>40</td>\n",
       "      <td>221801</td>\n",
       "      <td>619</td>\n",
       "      <td>581</td>\n",
       "      <td>1338</td>\n",
       "      <td>1294</td>\n",
       "    </tr>\n",
       "    <tr>\n",
       "      <th>2</th>\n",
       "      <td>2019-08-03</td>\n",
       "      <td>24</td>\n",
       "      <td>112473</td>\n",
       "      <td>14</td>\n",
       "      <td>67049</td>\n",
       "      <td>66</td>\n",
       "      <td>346854</td>\n",
       "      <td>54</td>\n",
       "      <td>288850</td>\n",
       "      <td>507</td>\n",
       "      <td>509</td>\n",
       "      <td>1845</td>\n",
       "      <td>1803</td>\n",
       "    </tr>\n",
       "    <tr>\n",
       "      <th>3</th>\n",
       "      <td>2019-08-04</td>\n",
       "      <td>11</td>\n",
       "      <td>41176</td>\n",
       "      <td>14</td>\n",
       "      <td>96890</td>\n",
       "      <td>77</td>\n",
       "      <td>388030</td>\n",
       "      <td>68</td>\n",
       "      <td>385740</td>\n",
       "      <td>717</td>\n",
       "      <td>770</td>\n",
       "      <td>2562</td>\n",
       "      <td>2573</td>\n",
       "    </tr>\n",
       "    <tr>\n",
       "      <th>4</th>\n",
       "      <td>2019-08-05</td>\n",
       "      <td>22</td>\n",
       "      <td>86383</td>\n",
       "      <td>21</td>\n",
       "      <td>89908</td>\n",
       "      <td>99</td>\n",
       "      <td>474413</td>\n",
       "      <td>89</td>\n",
       "      <td>475648</td>\n",
       "      <td>756</td>\n",
       "      <td>707</td>\n",
       "      <td>3318</td>\n",
       "      <td>3280</td>\n",
       "    </tr>\n",
       "  </tbody>\n",
       "</table>\n",
       "</div>"
      ],
      "text/plain": [
       "        date  orders_per_date_a  revenue_per_date_a  orders_per_date_b  \\\n",
       "0 2019-08-01  23                 142779              17                  \n",
       "1 2019-08-02  19                 91602               23                  \n",
       "2 2019-08-03  24                 112473              14                  \n",
       "3 2019-08-04  11                 41176               14                  \n",
       "4 2019-08-05  22                 86383               21                  \n",
       "\n",
       "   revenue_per_date_b  orders_cummulative_a  revenue_cummulative_a  \\\n",
       "0  59758               23                    142779                  \n",
       "1  162043              42                    234381                  \n",
       "2  67049               66                    346854                  \n",
       "3  96890               77                    388030                  \n",
       "4  89908               99                    474413                  \n",
       "\n",
       "   orders_cummulative_b  revenue_cummulative_b  visitors_per_date_a  \\\n",
       "0  17                    59758                  719                   \n",
       "1  40                    221801                 619                   \n",
       "2  54                    288850                 507                   \n",
       "3  68                    385740                 717                   \n",
       "4  89                    475648                 756                   \n",
       "\n",
       "   visitors_per_date_b  visitors_cummulative_a  visitors_cummulative_b  \n",
       "0  713                  719                     713                     \n",
       "1  581                  1338                    1294                    \n",
       "2  509                  1845                    1803                    \n",
       "3  770                  2562                    2573                    \n",
       "4  707                  3318                    3280                    "
      ]
     },
     "execution_count": 36,
     "metadata": {},
     "output_type": "execute_result"
    }
   ],
   "source": [
    "visitors_a_daily = visitors[visitors['group'] == 'A'][['date', 'visitors']]\n",
    "visitors_a_daily.columns = ['date', 'visitors_per_date_a']\n",
    "\n",
    "visitors_a_cummulative = visitors_a_daily.apply(\n",
    "    lambda x: visitors_a_daily[visitors_a_daily['date'] <= x['date']].agg(\n",
    "        {'date': 'max', 'visitors_per_date_a': 'sum'}\n",
    "    ),\n",
    "    axis=1,\n",
    ")\n",
    "visitors_a_cummulative.columns = ['date', 'visitors_cummulative_a']\n",
    "\n",
    "visitors_b_daily = visitors[visitors['group'] == 'B'][['date', 'visitors']]\n",
    "visitors_b_daily.columns = ['date', 'visitors_per_date_b']\n",
    "\n",
    "visitors_b_cummulative = visitors_b_daily.apply(\n",
    "    lambda x: visitors_b_daily[visitors_b_daily['date'] <= x['date']].agg(\n",
    "        {'date': 'max', 'visitors_per_date_b': 'sum'}\n",
    "    ),\n",
    "    axis=1,\n",
    ")\n",
    "visitors_b_cummulative.columns = ['date', 'visitors_cummulative_b']\n",
    "\n",
    "orders_a_daily = (\n",
    "    orders[orders['group'] == 'A'][['date', 'transaction_id', 'visitor_id', 'revenue']]\n",
    "    .groupby('date', as_index=False)\n",
    "    .agg({'transaction_id': pd.Series.nunique, 'revenue': 'sum'})\n",
    ")\n",
    "orders_a_daily.columns = ['date', 'orders_per_date_a', 'revenue_per_date_a']\n",
    "\n",
    "orders_a_cummulative = orders_a_daily.apply(\n",
    "    lambda x: orders_a_daily[orders_a_daily['date'] <= x['date']].agg(\n",
    "        {'date': 'max', 'orders_per_date_a': 'sum', 'revenue_per_date_a': 'sum'}\n",
    "    ),\n",
    "    axis=1,\n",
    ").sort_values(by=['date'])\n",
    "orders_a_cummulative.columns = [\n",
    "    'date',\n",
    "    'orders_cummulative_a',\n",
    "    'revenue_cummulative_a',\n",
    "]\n",
    "\n",
    "orders_b_daily = (\n",
    "    orders[orders['group'] == 'B'][['date', 'transaction_id', 'visitor_id', 'revenue']]\n",
    "    .groupby('date', as_index=False)\n",
    "    .agg({'transaction_id': pd.Series.nunique, 'revenue': 'sum'})\n",
    ")\n",
    "orders_b_daily.columns = ['date', 'orders_per_date_b', 'revenue_per_date_b']\n",
    "\n",
    "orders_b_cummulative = orders_b_daily.apply(\n",
    "    lambda x: orders_b_daily[orders_b_daily['date'] <= x['date']].agg(\n",
    "        {'date': 'max', 'orders_per_date_b': 'sum', 'revenue_per_date_b': 'sum'}\n",
    "    ),\n",
    "    axis=1,\n",
    ").sort_values(by=['date'])\n",
    "orders_b_cummulative.columns = [\n",
    "    'date',\n",
    "    'orders_cummulative_b',\n",
    "    'revenue_cummulative_b',\n",
    "]\n",
    "\n",
    "data = (\n",
    "    orders_a_daily.merge(\n",
    "        orders_b_daily, left_on='date', right_on='date', how='left'\n",
    "    )\n",
    "    .merge(orders_a_cummulative, left_on='date', right_on='date', how='left')\n",
    "    .merge(orders_b_cummulative, left_on='date', right_on='date', how='left')\n",
    "    .merge(visitors_a_daily, left_on='date', right_on='date', how='left')\n",
    "    .merge(visitors_b_daily, left_on='date', right_on='date', how='left')\n",
    "    .merge(visitors_a_cummulative, left_on='date', right_on='date', how='left')\n",
    "    .merge(visitors_b_cummulative, left_on='date', right_on='date', how='left')\n",
    ")\n",
    "\n",
    "data.head(5)"
   ]
  },
  {
   "cell_type": "markdown",
   "metadata": {},
   "source": [
    "Названия столбцов данных:\n",
    "\n",
    "    date — дата;\n",
    "    orders_per_date_a — количество заказов в выбранную дату в группе A;\n",
    "    revenue_per_date_a — суммарная выручка в выбранную дату в группе A;\n",
    "    orders_per_date_b — количество заказов в выбранную дату в группе B;\n",
    "    revenue_per_date_b — суммарная выручка в выбранную дату в группе B;\n",
    "    orders_cummulative_a — суммарное число заказов до выбранной даты включительно в группе A;\n",
    "    revenue_cummulative_a — суммарная выручка до выбранной даты включительно в группе A;\n",
    "    orders_cummulative_b — суммарное количество заказов до выбранной даты включительно в группе B;\n",
    "    revenue_cummulative_b — суммарная выручка до выбранной даты включительно в группе B;\n",
    "    visitor_perDate_a — количество пользователей в выбранную дату в группе A;\n",
    "    visitors_perDate_b — количество пользователей в выбранную дату в группе B;\n",
    "    visitors_cummulative_a — количество пользователей до выбранной даты включительно в группе A;\n",
    "    visitors_cummulative_B — количество пользователей до выбранной даты включительно в группе B."
   ]
  },
  {
   "cell_type": "code",
   "execution_count": 37,
   "metadata": {
    "scrolled": true
   },
   "outputs": [
    {
     "name": "stdout",
     "output_type": "stream",
     "text": [
      "P-value: 0.011\n",
      "Относительный прирост В к А: 0.160\n"
     ]
    }
   ],
   "source": [
    "# посчитаем статистическую значимость различия в среднем количестве заказов между группами\n",
    "orders_by_users_a = (\n",
    "    orders[orders['group'] == 'A']\n",
    "    .groupby('visitor_id', as_index=False)\n",
    "    .agg({'transaction_id': pd.Series.nunique})\n",
    ")\n",
    "orders_by_users_a.columns = ['visitor_id', 'orders']\n",
    "\n",
    "orders_by_users_b = (\n",
    "    orders[orders['group'] == 'B']\n",
    "    .groupby('visitor_id', as_index=False)\n",
    "    .agg({'transaction_id': pd.Series.nunique})\n",
    ")\n",
    "orders_by_users_b.columns = ['visitor_id', 'orders']\n",
    "\n",
    "sample_a = pd.concat(\n",
    "    [\n",
    "        orders_by_users_a['orders'],\n",
    "        pd.Series(\n",
    "            0,\n",
    "            index=np.arange(\n",
    "                data['visitors_per_date_a'].sum() - len(orders_by_users_a['orders'])\n",
    "            ),\n",
    "            name='orders',\n",
    "        ),\n",
    "    ],\n",
    "    axis=0,\n",
    ")\n",
    "\n",
    "sample_b = pd.concat(\n",
    "    [\n",
    "        orders_by_users_b['orders'],\n",
    "        pd.Series(\n",
    "            0,\n",
    "            index=np.arange(\n",
    "                data['visitors_per_date_b'].sum() - len(orders_by_users_b['orders'])\n",
    "            ),\n",
    "            name='orders',\n",
    "        ),\n",
    "    ],\n",
    "    axis=0,\n",
    ")\n",
    "\n",
    "print(\"P-value: {0:.3f}\".format(stats.mannwhitneyu(sample_a, sample_b)[1]))\n",
    "\n",
    "print(\"Относительный прирост В к А: {0:.3f}\".format(sample_b.mean() / sample_a.mean() - 1))"
   ]
  },
  {
   "cell_type": "markdown",
   "metadata": {},
   "source": [
    "**Вывод**\n",
    "\n",
    "P-value<0.05, значит, нулевую гипотезу о том, что статистически значимых различий в среднем числе заказов между группами нет, отвергаем. Относительный прирост группы B к А равен 16%, значит различия в среднем между группами все-таки имеются."
   ]
  },
  {
   "cell_type": "markdown",
   "metadata": {},
   "source": [
    "### Cтатистическая значимость различий в среднем чеке заказа между группами по «сырым» данным"
   ]
  },
  {
   "cell_type": "markdown",
   "metadata": {},
   "source": [
    "Теперь проверим статистическую значимость различий в среднем чеке между группами по «сырым» данным. \n",
    "    \n",
    "    Нулевая гипотеза: различий в среднем чеке между группами нет. \n",
    "    Альтернативная гипотеза: различия в среднем чеке между группами есть. \n",
    "    \n",
    "Для проверки гипотез будем использовать непараметрический тест Уилкоксона-Манна-Уитни (он больше всего подойдет для наших данных). Для уровня значимости установим стандартный уровень, равный 0.05."
   ]
  },
  {
   "cell_type": "code",
   "execution_count": 38,
   "metadata": {},
   "outputs": [
    {
     "name": "stdout",
     "output_type": "stream",
     "text": [
      "P-value: 0.829\n",
      "Относительный прирост В к А: 0.287\n"
     ]
    }
   ],
   "source": [
    "print('P-value: {0:.3f}'.format(stats.mannwhitneyu(orders[orders['group']=='A']['revenue'], orders[orders['group']=='B']['revenue'])[1]))\n",
    "print('Относительный прирост В к А: {0:.3f}'.format(orders[orders['group']=='B']['revenue'].mean()/orders[orders['group']=='A']['revenue'].mean()-1))"
   ]
  },
  {
   "cell_type": "markdown",
   "metadata": {},
   "source": [
    "**Вывод**\n",
    "\n",
    "P-value значительно больше 0.05. Значит, причин отвергать нулевую гипотезу и считать, что в среднем чеке есть различия, нет. Также средний чек группы B значительно выше среднего чека группы A - 28.7% (на это видимо повлияли наши выбросы)."
   ]
  },
  {
   "cell_type": "markdown",
   "metadata": {},
   "source": [
    "###  Статистическая значимость различий в среднем количестве заказов на посетителя между группами по «очищенным» данным"
   ]
  },
  {
   "cell_type": "markdown",
   "metadata": {},
   "source": [
    "Примем за аномальных пользователей тех, кто совершил от 2 заказов или совершил заказ дороже 53904. Так мы уберём 1% пользователей с наибольшим числом заказов и 5% пользователей с дорогими заказами. "
   ]
  },
  {
   "cell_type": "code",
   "execution_count": 39,
   "metadata": {},
   "outputs": [
    {
     "name": "stdout",
     "output_type": "stream",
     "text": [
      "1099    148427295\n",
      "33      249864742\n",
      "58      611059232\n",
      "949     887908475\n",
      "744     888512513\n",
      "Name: visitor_id, dtype: int64\n",
      "16\n"
     ]
    }
   ],
   "source": [
    "users_with_many_orders = pd.concat(\n",
    "    [\n",
    "        orders_by_users_a[orders_by_users_a['orders'] > 2]['visitor_id'],\n",
    "        orders_by_users_b[orders_by_users_b['orders'] > 2]['visitor_id'],\n",
    "    ],\n",
    "    axis=0,\n",
    ")\n",
    "users_with_expensive_orders = orders[orders['revenue']>int(np.percentile(orders['revenue'], [99]))]['visitor_id']\n",
    "abnormal_users = (\n",
    "    pd.concat([users_with_many_orders, users_with_expensive_orders], axis=0)\n",
    "    .drop_duplicates()\n",
    "    .sort_values()\n",
    ")\n",
    "print(abnormal_users.head(5))\n",
    "print(abnormal_users.shape[0])"
   ]
  },
  {
   "cell_type": "markdown",
   "metadata": {},
   "source": [
    "Всего 16 аномальных пользователей. \n",
    "Узнаем, как их действия повлияли на результаты теста. Посчитаем статистическую значимость различий в среднем количестве заказов между группами теста по очищенным данным. "
   ]
  },
  {
   "cell_type": "code",
   "execution_count": 40,
   "metadata": {},
   "outputs": [
    {
     "name": "stdout",
     "output_type": "stream",
     "text": [
      "P-value: 0.007\n",
      "Относительный прирост В к А: 0.189\n"
     ]
    }
   ],
   "source": [
    "sample_a_filtered = pd.concat(\n",
    "    [\n",
    "        orders_by_users_a[\n",
    "            np.logical_not(orders_by_users_a['visitor_id'].isin(abnormal_users))\n",
    "        ]['orders'],\n",
    "        pd.Series(\n",
    "            0,\n",
    "            index=np.arange(\n",
    "                data['visitors_per_date_a'].sum() - len(orders_by_users_a['orders'])\n",
    "            ),\n",
    "            name='orders',\n",
    "        ),\n",
    "    ],\n",
    "    axis=0,\n",
    ")\n",
    "\n",
    "sample_b_filtered = pd.concat(\n",
    "    [\n",
    "        orders_by_users_b[\n",
    "            np.logical_not(orders_by_users_b['visitor_id'].isin(abnormal_users))\n",
    "        ]['orders'],\n",
    "        pd.Series(\n",
    "            0,\n",
    "            index=np.arange(\n",
    "                data['visitors_per_date_b'].sum() - len(orders_by_users_b['orders'])\n",
    "            ),\n",
    "            name='orders',\n",
    "        ),\n",
    "    ],\n",
    "    axis=0,\n",
    ")\n",
    "\n",
    "print('P-value: {0:.3f}'.format(stats.mannwhitneyu(sample_a_filtered, sample_b_filtered)[1]))\n",
    "print('Относительный прирост В к А: {0:.3f}'.format(sample_b_filtered.mean()/sample_a_filtered.mean()-1))"
   ]
  },
  {
   "cell_type": "markdown",
   "metadata": {},
   "source": [
    "**Вывод**\n",
    "\n",
    "По \"очищенным\" данным также как и не по \"очищенным\" различия между группами A и B есть: p-value меньше 0.05, и нулевую гипотезу о том, что статистически значимых различий в конверсии между группами нет, следует отвергнуть. Относительный выигрыш группы B немного увеличился и равен 18,9%. Группа В лучше группы А."
   ]
  },
  {
   "cell_type": "markdown",
   "metadata": {},
   "source": [
    "### Статистическая значимость различий в среднем чеке заказа между группами по «очищенным» данным"
   ]
  },
  {
   "cell_type": "code",
   "execution_count": 41,
   "metadata": {},
   "outputs": [
    {
     "name": "stdout",
     "output_type": "stream",
     "text": [
      "P-value: 0.788\n",
      "Относительный прирост В к А:-0.032\n"
     ]
    }
   ],
   "source": [
    "print(\n",
    "    'P-value: {0:.3f}'.format(\n",
    "        stats.mannwhitneyu(\n",
    "            orders[\n",
    "                np.logical_and(\n",
    "                    orders['group'] == 'A',\n",
    "                    np.logical_not(orders['visitor_id'].isin(abnormal_users)),\n",
    "                )\n",
    "            ]['revenue'],\n",
    "            orders[\n",
    "                np.logical_and(\n",
    "                    orders['group'] == 'B',\n",
    "                    np.logical_not(orders['visitor_id'].isin(abnormal_users)),\n",
    "                )\n",
    "            ]['revenue'],\n",
    "        )[1]\n",
    "    )\n",
    ")\n",
    "\n",
    "print(\n",
    "    \"Относительный прирост В к А:{0:.3f}\".format(\n",
    "        orders[\n",
    "            np.logical_and(\n",
    "                orders['group'] == 'B',\n",
    "                np.logical_not(orders['visitor_id'].isin(abnormal_users)),\n",
    "            )\n",
    "        ]['revenue'].mean()\n",
    "        / orders[\n",
    "            np.logical_and(\n",
    "                orders['group'] == 'A',\n",
    "                np.logical_not(orders['visitor_id'].isin(abnormal_users)),\n",
    "            )\n",
    "        ]['revenue'].mean()\n",
    "        - 1\n",
    "    )\n",
    ")"
   ]
  },
  {
   "cell_type": "markdown",
   "metadata": {},
   "source": [
    "**Вывод**\n",
    "\n",
    "По \"очищенным\" данным также как и не по \"очищенным\" различия между группами A и B нет: p-value больше 0.05, и нулевую гипотезу о том, что различий в среднем чеке между группами нет, не отвергаем. Также видим изменения после чистки - средний чек группы B оказался на 3,2% ниже среднего чека группы A, в то время как по \"сырым\" данным, он был больше на 28,7%, что показывает вляние дорогих заказов."
   ]
  },
  {
   "cell_type": "markdown",
   "metadata": {},
   "source": [
    "## Общий вывод"
   ]
  },
  {
   "cell_type": "markdown",
   "metadata": {},
   "source": [
    "1. Была проведена предобработка данных, а именно:\n",
    "    заменили типы данных, где это требовалось;\n",
    "    привели наименования столбцов к \"хорошему\" стилю;\n",
    "    проверили на наличие пропущенных значений и дубликатов - было найденно 58 пользователей, которые находились в двух группах одновременно, были удаленны;\n",
    "2. При применении фреймворка RICE выявили приоритетные гипотезы:\n",
    "    Добавить форму подписки на все основные страницы, чтобы собрать базу клиентов для email-рассылок;\n",
    "    Добавить блоки рекомендаций товаров на сайт интернет магазина, чтобы повысить конверсию и средний чек заказа.\n",
    "  Рекоменадации отделу маркетинга обратить внимание в первую очередь на эти гипотезы.\n",
    "3. Из анализа А/B теста было выясненно:\n",
    "    Есть статистически значимое различие по среднему количеству заказов между группами по «сырым» и по данным после фильтрации аномалий;\n",
    "    Нет статистически значимого различия по среднему чеку между группами ни по «сырым», ни по данным после фильтрации аномалий;\n",
    "    График различия среднего количества заказов между группами сообщает, что результаты группы B лучше группы A и нет значительной тенденции к ухудшению;\n",
    "    График различия среднего чека до удаления аномалий колеблется: именно благодаря ему мы нашли аномалии. Сделать из этого графика определённые выводы нельзя.\n",
    "\n",
    "Исходя из обнаруженных фактов, тест следует остановить и признать его успешным. Конверсия выросла, средний чек практически не изменился.Группа В лучше чем А, соответственно группа В приносит больше денежных средств бизнесу. Перейти к проверке следующей гипотезы."
   ]
  },
  {
   "cell_type": "markdown",
   "metadata": {},
   "source": [
    "Спасибо за внимание!"
   ]
  }
 ],
 "metadata": {
  "ExecuteTimeLog": [
   {
    "duration": 1554,
    "start_time": "2025-02-11T19:16:44.719Z"
   },
   {
    "duration": 17,
    "start_time": "2025-02-11T19:52:20.736Z"
   },
   {
    "duration": 1236,
    "start_time": "2025-02-11T19:54:22.719Z"
   },
   {
    "duration": 64,
    "start_time": "2025-02-11T19:54:23.956Z"
   },
   {
    "duration": 14,
    "start_time": "2025-02-11T19:57:06.713Z"
   },
   {
    "duration": 11,
    "start_time": "2025-02-11T19:57:49.511Z"
   },
   {
    "duration": 11,
    "start_time": "2025-02-11T20:01:36.366Z"
   },
   {
    "duration": 8,
    "start_time": "2025-02-11T20:06:48.083Z"
   },
   {
    "duration": 10,
    "start_time": "2025-02-11T20:07:14.830Z"
   },
   {
    "duration": 11,
    "start_time": "2025-02-11T20:07:48.715Z"
   },
   {
    "duration": 10,
    "start_time": "2025-02-11T20:08:19.337Z"
   },
   {
    "duration": 1487,
    "start_time": "2025-02-12T15:41:12.316Z"
   },
   {
    "duration": 63,
    "start_time": "2025-02-12T15:41:13.805Z"
   },
   {
    "duration": 14,
    "start_time": "2025-02-12T15:41:13.870Z"
   },
   {
    "duration": 13,
    "start_time": "2025-02-12T15:41:13.886Z"
   },
   {
    "duration": 10,
    "start_time": "2025-02-12T15:41:13.902Z"
   },
   {
    "duration": 10,
    "start_time": "2025-02-12T15:41:13.914Z"
   },
   {
    "duration": 8,
    "start_time": "2025-02-12T15:41:13.926Z"
   },
   {
    "duration": 11,
    "start_time": "2025-02-12T15:41:13.936Z"
   },
   {
    "duration": 25,
    "start_time": "2025-02-12T15:41:13.948Z"
   },
   {
    "duration": 8,
    "start_time": "2025-02-12T15:49:14.218Z"
   },
   {
    "duration": 2,
    "start_time": "2025-02-12T15:52:46.744Z"
   },
   {
    "duration": 1258,
    "start_time": "2025-02-12T16:22:21.540Z"
   },
   {
    "duration": 65,
    "start_time": "2025-02-12T16:22:22.799Z"
   },
   {
    "duration": 11,
    "start_time": "2025-02-12T16:22:22.866Z"
   },
   {
    "duration": 20,
    "start_time": "2025-02-12T16:22:22.879Z"
   },
   {
    "duration": 40,
    "start_time": "2025-02-12T16:22:22.901Z"
   },
   {
    "duration": 63,
    "start_time": "2025-02-12T16:22:22.942Z"
   },
   {
    "duration": 45,
    "start_time": "2025-02-12T16:22:23.006Z"
   },
   {
    "duration": 27,
    "start_time": "2025-02-12T16:22:23.053Z"
   },
   {
    "duration": 19,
    "start_time": "2025-02-12T16:22:23.082Z"
   },
   {
    "duration": 30,
    "start_time": "2025-02-12T16:22:23.102Z"
   },
   {
    "duration": 43,
    "start_time": "2025-02-12T16:22:23.134Z"
   },
   {
    "duration": 1475,
    "start_time": "2025-02-14T11:56:07.899Z"
   },
   {
    "duration": 65,
    "start_time": "2025-02-14T11:56:09.376Z"
   },
   {
    "duration": 13,
    "start_time": "2025-02-14T11:56:09.443Z"
   },
   {
    "duration": 16,
    "start_time": "2025-02-14T11:56:09.457Z"
   },
   {
    "duration": 26,
    "start_time": "2025-02-14T11:56:09.475Z"
   },
   {
    "duration": 39,
    "start_time": "2025-02-14T11:56:09.503Z"
   },
   {
    "duration": 24,
    "start_time": "2025-02-14T11:56:09.544Z"
   },
   {
    "duration": 24,
    "start_time": "2025-02-14T11:56:09.570Z"
   },
   {
    "duration": 23,
    "start_time": "2025-02-14T11:56:09.596Z"
   },
   {
    "duration": 25,
    "start_time": "2025-02-14T11:56:09.621Z"
   },
   {
    "duration": 115,
    "start_time": "2025-02-14T11:56:09.647Z"
   },
   {
    "duration": 8,
    "start_time": "2025-02-14T11:56:09.764Z"
   },
   {
    "duration": 90,
    "start_time": "2025-02-14T12:06:27.908Z"
   },
   {
    "duration": 8,
    "start_time": "2025-02-14T12:07:08.728Z"
   },
   {
    "duration": 1354,
    "start_time": "2025-02-14T12:20:57.533Z"
   },
   {
    "duration": 68,
    "start_time": "2025-02-14T12:20:58.889Z"
   },
   {
    "duration": 19,
    "start_time": "2025-02-14T12:20:58.960Z"
   },
   {
    "duration": 55,
    "start_time": "2025-02-14T12:20:58.982Z"
   },
   {
    "duration": 56,
    "start_time": "2025-02-14T12:20:59.039Z"
   },
   {
    "duration": 14,
    "start_time": "2025-02-14T12:20:59.097Z"
   },
   {
    "duration": 14,
    "start_time": "2025-02-14T12:20:59.114Z"
   },
   {
    "duration": 32,
    "start_time": "2025-02-14T12:20:59.130Z"
   },
   {
    "duration": 13,
    "start_time": "2025-02-14T12:20:59.168Z"
   },
   {
    "duration": 19,
    "start_time": "2025-02-14T12:20:59.184Z"
   },
   {
    "duration": 55,
    "start_time": "2025-02-14T12:20:59.205Z"
   },
   {
    "duration": 175,
    "start_time": "2025-02-14T12:20:59.262Z"
   },
   {
    "duration": 19,
    "start_time": "2025-02-14T12:20:59.439Z"
   },
   {
    "duration": 27,
    "start_time": "2025-02-14T12:20:59.461Z"
   },
   {
    "duration": 140,
    "start_time": "2025-02-14T12:29:05.970Z"
   },
   {
    "duration": 4,
    "start_time": "2025-02-14T12:29:23.973Z"
   },
   {
    "duration": 1340,
    "start_time": "2025-02-14T13:08:40.638Z"
   },
   {
    "duration": 65,
    "start_time": "2025-02-14T13:08:41.980Z"
   },
   {
    "duration": 13,
    "start_time": "2025-02-14T13:08:42.047Z"
   },
   {
    "duration": 28,
    "start_time": "2025-02-14T13:08:42.062Z"
   },
   {
    "duration": 17,
    "start_time": "2025-02-14T13:08:42.093Z"
   },
   {
    "duration": 21,
    "start_time": "2025-02-14T13:08:42.112Z"
   },
   {
    "duration": 36,
    "start_time": "2025-02-14T13:08:42.135Z"
   },
   {
    "duration": 11,
    "start_time": "2025-02-14T13:08:42.173Z"
   },
   {
    "duration": 9,
    "start_time": "2025-02-14T13:08:42.186Z"
   },
   {
    "duration": 10,
    "start_time": "2025-02-14T13:08:42.197Z"
   },
   {
    "duration": 32,
    "start_time": "2025-02-14T13:08:42.208Z"
   },
   {
    "duration": 13,
    "start_time": "2025-02-14T13:08:42.242Z"
   },
   {
    "duration": 10,
    "start_time": "2025-02-14T13:08:42.257Z"
   },
   {
    "duration": 22,
    "start_time": "2025-02-14T13:08:42.270Z"
   },
   {
    "duration": 5,
    "start_time": "2025-02-14T13:08:42.293Z"
   },
   {
    "duration": 11,
    "start_time": "2025-02-14T13:08:42.300Z"
   },
   {
    "duration": 11,
    "start_time": "2025-02-14T13:13:21.522Z"
   },
   {
    "duration": 5,
    "start_time": "2025-02-14T13:15:30.084Z"
   },
   {
    "duration": 4,
    "start_time": "2025-02-14T13:15:35.839Z"
   },
   {
    "duration": 1385,
    "start_time": "2025-02-14T13:25:29.025Z"
   },
   {
    "duration": 68,
    "start_time": "2025-02-14T13:25:30.412Z"
   },
   {
    "duration": 14,
    "start_time": "2025-02-14T13:25:30.482Z"
   },
   {
    "duration": 108,
    "start_time": "2025-02-14T13:25:30.498Z"
   },
   {
    "duration": 57,
    "start_time": "2025-02-14T13:25:30.608Z"
   },
   {
    "duration": 155,
    "start_time": "2025-02-14T13:25:30.666Z"
   },
   {
    "duration": 15,
    "start_time": "2025-02-14T13:25:30.823Z"
   },
   {
    "duration": 31,
    "start_time": "2025-02-14T13:25:30.840Z"
   },
   {
    "duration": 48,
    "start_time": "2025-02-14T13:25:30.873Z"
   },
   {
    "duration": 21,
    "start_time": "2025-02-14T13:25:30.924Z"
   },
   {
    "duration": 39,
    "start_time": "2025-02-14T13:25:30.946Z"
   },
   {
    "duration": 88,
    "start_time": "2025-02-14T13:25:30.986Z"
   },
   {
    "duration": 131,
    "start_time": "2025-02-14T13:25:31.076Z"
   },
   {
    "duration": 126,
    "start_time": "2025-02-14T13:25:31.209Z"
   },
   {
    "duration": 1316,
    "start_time": "2025-02-14T13:25:31.337Z"
   },
   {
    "duration": 0,
    "start_time": "2025-02-14T13:25:32.655Z"
   },
   {
    "duration": 1362,
    "start_time": "2025-02-14T13:27:28.252Z"
   },
   {
    "duration": 1318,
    "start_time": "2025-02-14T13:28:14.883Z"
   },
   {
    "duration": 2328,
    "start_time": "2025-02-14T13:28:42.793Z"
   },
   {
    "duration": 2718,
    "start_time": "2025-02-14T13:29:34.003Z"
   },
   {
    "duration": 16,
    "start_time": "2025-02-14T13:30:19.979Z"
   },
   {
    "duration": 18,
    "start_time": "2025-02-14T13:30:56.744Z"
   },
   {
    "duration": 12,
    "start_time": "2025-02-14T13:33:28.059Z"
   },
   {
    "duration": 10,
    "start_time": "2025-02-14T13:33:42.062Z"
   },
   {
    "duration": 13,
    "start_time": "2025-02-14T13:33:52.721Z"
   },
   {
    "duration": 12,
    "start_time": "2025-02-14T13:34:22.110Z"
   },
   {
    "duration": 13,
    "start_time": "2025-02-14T13:34:53.339Z"
   },
   {
    "duration": 4,
    "start_time": "2025-02-14T14:03:03.172Z"
   },
   {
    "duration": 11,
    "start_time": "2025-02-14T14:03:12.545Z"
   },
   {
    "duration": 14,
    "start_time": "2025-02-14T14:05:27.490Z"
   },
   {
    "duration": 1409,
    "start_time": "2025-02-14T14:05:34.116Z"
   },
   {
    "duration": 66,
    "start_time": "2025-02-14T14:05:35.528Z"
   },
   {
    "duration": 13,
    "start_time": "2025-02-14T14:05:35.596Z"
   },
   {
    "duration": 70,
    "start_time": "2025-02-14T14:05:35.613Z"
   },
   {
    "duration": 10,
    "start_time": "2025-02-14T14:05:35.685Z"
   },
   {
    "duration": 85,
    "start_time": "2025-02-14T14:05:35.697Z"
   },
   {
    "duration": 51,
    "start_time": "2025-02-14T14:05:35.784Z"
   },
   {
    "duration": 50,
    "start_time": "2025-02-14T14:05:35.836Z"
   },
   {
    "duration": 70,
    "start_time": "2025-02-14T14:05:35.888Z"
   },
   {
    "duration": 104,
    "start_time": "2025-02-14T14:05:35.960Z"
   },
   {
    "duration": 138,
    "start_time": "2025-02-14T14:05:36.067Z"
   },
   {
    "duration": 50,
    "start_time": "2025-02-14T14:05:36.207Z"
   },
   {
    "duration": 32,
    "start_time": "2025-02-14T14:05:36.259Z"
   },
   {
    "duration": 199,
    "start_time": "2025-02-14T14:05:36.293Z"
   },
   {
    "duration": 0,
    "start_time": "2025-02-14T14:05:36.493Z"
   },
   {
    "duration": 0,
    "start_time": "2025-02-14T14:05:36.495Z"
   },
   {
    "duration": 12,
    "start_time": "2025-02-14T14:05:54.359Z"
   },
   {
    "duration": 5,
    "start_time": "2025-02-14T14:06:18.606Z"
   },
   {
    "duration": 1598,
    "start_time": "2025-02-17T08:59:01.420Z"
   },
   {
    "duration": 75,
    "start_time": "2025-02-17T08:59:03.021Z"
   },
   {
    "duration": 13,
    "start_time": "2025-02-17T08:59:03.098Z"
   },
   {
    "duration": 16,
    "start_time": "2025-02-17T08:59:03.114Z"
   },
   {
    "duration": 182,
    "start_time": "2025-02-17T08:59:03.132Z"
   },
   {
    "duration": 39,
    "start_time": "2025-02-17T08:59:03.316Z"
   },
   {
    "duration": 50,
    "start_time": "2025-02-17T08:59:03.357Z"
   },
   {
    "duration": 15,
    "start_time": "2025-02-17T08:59:03.408Z"
   },
   {
    "duration": 20,
    "start_time": "2025-02-17T08:59:03.425Z"
   },
   {
    "duration": 14,
    "start_time": "2025-02-17T08:59:03.448Z"
   },
   {
    "duration": 29,
    "start_time": "2025-02-17T08:59:03.464Z"
   },
   {
    "duration": 27,
    "start_time": "2025-02-17T08:59:03.495Z"
   },
   {
    "duration": 21,
    "start_time": "2025-02-17T08:59:03.525Z"
   },
   {
    "duration": 52,
    "start_time": "2025-02-17T08:59:03.548Z"
   },
   {
    "duration": 27,
    "start_time": "2025-02-17T08:59:03.602Z"
   },
   {
    "duration": 38,
    "start_time": "2025-02-17T08:59:03.631Z"
   },
   {
    "duration": 108,
    "start_time": "2025-02-17T09:25:58.334Z"
   },
   {
    "duration": 10,
    "start_time": "2025-02-17T09:26:24.506Z"
   },
   {
    "duration": 1299,
    "start_time": "2025-02-17T09:26:29.785Z"
   },
   {
    "duration": 76,
    "start_time": "2025-02-17T09:26:31.087Z"
   },
   {
    "duration": 14,
    "start_time": "2025-02-17T09:26:31.164Z"
   },
   {
    "duration": 19,
    "start_time": "2025-02-17T09:26:31.180Z"
   },
   {
    "duration": 24,
    "start_time": "2025-02-17T09:26:31.201Z"
   },
   {
    "duration": 25,
    "start_time": "2025-02-17T09:26:31.227Z"
   },
   {
    "duration": 22,
    "start_time": "2025-02-17T09:26:31.253Z"
   },
   {
    "duration": 36,
    "start_time": "2025-02-17T09:26:31.277Z"
   },
   {
    "duration": 134,
    "start_time": "2025-02-17T09:26:31.315Z"
   },
   {
    "duration": 26,
    "start_time": "2025-02-17T09:26:31.451Z"
   },
   {
    "duration": 55,
    "start_time": "2025-02-17T09:26:31.479Z"
   },
   {
    "duration": 49,
    "start_time": "2025-02-17T09:26:31.536Z"
   },
   {
    "duration": 25,
    "start_time": "2025-02-17T09:26:31.587Z"
   },
   {
    "duration": 32,
    "start_time": "2025-02-17T09:26:31.613Z"
   },
   {
    "duration": 56,
    "start_time": "2025-02-17T09:26:31.647Z"
   },
   {
    "duration": 32,
    "start_time": "2025-02-17T09:26:31.705Z"
   },
   {
    "duration": 116,
    "start_time": "2025-02-17T09:26:31.739Z"
   },
   {
    "duration": 1359,
    "start_time": "2025-02-17T09:27:13.578Z"
   },
   {
    "duration": 1271,
    "start_time": "2025-02-17T09:28:28.363Z"
   },
   {
    "duration": 2034,
    "start_time": "2025-02-17T09:30:38.233Z"
   },
   {
    "duration": 1390,
    "start_time": "2025-02-17T09:30:45.908Z"
   },
   {
    "duration": 65,
    "start_time": "2025-02-17T09:30:47.300Z"
   },
   {
    "duration": 14,
    "start_time": "2025-02-17T09:30:47.367Z"
   },
   {
    "duration": 109,
    "start_time": "2025-02-17T09:30:47.383Z"
   },
   {
    "duration": 15,
    "start_time": "2025-02-17T09:30:47.494Z"
   },
   {
    "duration": 13,
    "start_time": "2025-02-17T09:30:47.511Z"
   },
   {
    "duration": 9,
    "start_time": "2025-02-17T09:30:47.526Z"
   },
   {
    "duration": 17,
    "start_time": "2025-02-17T09:30:47.537Z"
   },
   {
    "duration": 18,
    "start_time": "2025-02-17T09:30:47.556Z"
   },
   {
    "duration": 17,
    "start_time": "2025-02-17T09:30:47.577Z"
   },
   {
    "duration": 49,
    "start_time": "2025-02-17T09:30:47.596Z"
   },
   {
    "duration": 25,
    "start_time": "2025-02-17T09:30:47.647Z"
   },
   {
    "duration": 16,
    "start_time": "2025-02-17T09:30:47.674Z"
   },
   {
    "duration": 11,
    "start_time": "2025-02-17T09:30:47.692Z"
   },
   {
    "duration": 8,
    "start_time": "2025-02-17T09:30:47.704Z"
   },
   {
    "duration": 22,
    "start_time": "2025-02-17T09:30:47.714Z"
   },
   {
    "duration": 1405,
    "start_time": "2025-02-17T09:30:47.738Z"
   },
   {
    "duration": 1289,
    "start_time": "2025-02-17T10:16:38.299Z"
   },
   {
    "duration": 65,
    "start_time": "2025-02-17T10:16:39.590Z"
   },
   {
    "duration": 13,
    "start_time": "2025-02-17T10:16:39.657Z"
   },
   {
    "duration": 17,
    "start_time": "2025-02-17T10:16:39.672Z"
   },
   {
    "duration": 76,
    "start_time": "2025-02-17T10:16:39.691Z"
   },
   {
    "duration": 19,
    "start_time": "2025-02-17T10:16:39.768Z"
   },
   {
    "duration": 12,
    "start_time": "2025-02-17T10:16:39.789Z"
   },
   {
    "duration": 26,
    "start_time": "2025-02-17T10:16:39.803Z"
   },
   {
    "duration": 18,
    "start_time": "2025-02-17T10:16:39.831Z"
   },
   {
    "duration": 15,
    "start_time": "2025-02-17T10:16:39.850Z"
   },
   {
    "duration": 53,
    "start_time": "2025-02-17T10:16:39.867Z"
   },
   {
    "duration": 13,
    "start_time": "2025-02-17T10:16:39.922Z"
   },
   {
    "duration": 20,
    "start_time": "2025-02-17T10:16:39.937Z"
   },
   {
    "duration": 29,
    "start_time": "2025-02-17T10:16:39.960Z"
   },
   {
    "duration": 42,
    "start_time": "2025-02-17T10:16:39.990Z"
   },
   {
    "duration": 52,
    "start_time": "2025-02-17T10:16:40.034Z"
   },
   {
    "duration": 1349,
    "start_time": "2025-02-17T10:16:40.088Z"
   },
   {
    "duration": 1429,
    "start_time": "2025-02-17T10:17:58.449Z"
   },
   {
    "duration": 65,
    "start_time": "2025-02-17T10:17:59.880Z"
   },
   {
    "duration": 13,
    "start_time": "2025-02-17T10:17:59.946Z"
   },
   {
    "duration": 89,
    "start_time": "2025-02-17T10:17:59.961Z"
   },
   {
    "duration": 97,
    "start_time": "2025-02-17T10:18:00.053Z"
   },
   {
    "duration": 288,
    "start_time": "2025-02-17T10:18:00.152Z"
   },
   {
    "duration": 207,
    "start_time": "2025-02-17T10:18:00.442Z"
   },
   {
    "duration": 193,
    "start_time": "2025-02-17T10:18:00.651Z"
   },
   {
    "duration": 50,
    "start_time": "2025-02-17T10:18:00.845Z"
   },
   {
    "duration": 29,
    "start_time": "2025-02-17T10:18:00.897Z"
   },
   {
    "duration": 67,
    "start_time": "2025-02-17T10:18:00.928Z"
   },
   {
    "duration": 92,
    "start_time": "2025-02-17T10:18:00.997Z"
   },
   {
    "duration": 118,
    "start_time": "2025-02-17T10:18:01.091Z"
   },
   {
    "duration": 139,
    "start_time": "2025-02-17T10:18:01.211Z"
   },
   {
    "duration": 38,
    "start_time": "2025-02-17T10:18:01.353Z"
   },
   {
    "duration": 96,
    "start_time": "2025-02-17T10:18:01.393Z"
   },
   {
    "duration": 1446,
    "start_time": "2025-02-17T10:18:01.491Z"
   },
   {
    "duration": 1226,
    "start_time": "2025-02-17T10:19:01.839Z"
   },
   {
    "duration": 1268,
    "start_time": "2025-02-17T10:30:22.896Z"
   },
   {
    "duration": 75,
    "start_time": "2025-02-17T10:30:24.166Z"
   },
   {
    "duration": 12,
    "start_time": "2025-02-17T10:30:24.244Z"
   },
   {
    "duration": 34,
    "start_time": "2025-02-17T10:30:24.258Z"
   },
   {
    "duration": 18,
    "start_time": "2025-02-17T10:30:24.295Z"
   },
   {
    "duration": 11,
    "start_time": "2025-02-17T10:30:24.315Z"
   },
   {
    "duration": 40,
    "start_time": "2025-02-17T10:30:24.328Z"
   },
   {
    "duration": 19,
    "start_time": "2025-02-17T10:30:24.370Z"
   },
   {
    "duration": 11,
    "start_time": "2025-02-17T10:30:24.391Z"
   },
   {
    "duration": 10,
    "start_time": "2025-02-17T10:30:24.404Z"
   },
   {
    "duration": 21,
    "start_time": "2025-02-17T10:30:24.416Z"
   },
   {
    "duration": 19,
    "start_time": "2025-02-17T10:30:24.439Z"
   },
   {
    "duration": 9,
    "start_time": "2025-02-17T10:30:24.460Z"
   },
   {
    "duration": 22,
    "start_time": "2025-02-17T10:30:24.472Z"
   },
   {
    "duration": 5,
    "start_time": "2025-02-17T10:30:24.495Z"
   },
   {
    "duration": 12,
    "start_time": "2025-02-17T10:30:24.501Z"
   },
   {
    "duration": 141,
    "start_time": "2025-02-17T10:30:24.515Z"
   },
   {
    "duration": 1344,
    "start_time": "2025-02-17T10:30:40.748Z"
   },
   {
    "duration": 66,
    "start_time": "2025-02-17T10:30:42.094Z"
   },
   {
    "duration": 13,
    "start_time": "2025-02-17T10:30:42.162Z"
   },
   {
    "duration": 13,
    "start_time": "2025-02-17T10:30:42.177Z"
   },
   {
    "duration": 41,
    "start_time": "2025-02-17T10:30:42.192Z"
   },
   {
    "duration": 48,
    "start_time": "2025-02-17T10:30:42.235Z"
   },
   {
    "duration": 25,
    "start_time": "2025-02-17T10:30:42.285Z"
   },
   {
    "duration": 117,
    "start_time": "2025-02-17T10:30:42.312Z"
   },
   {
    "duration": 21,
    "start_time": "2025-02-17T10:30:42.431Z"
   },
   {
    "duration": 17,
    "start_time": "2025-02-17T10:30:42.454Z"
   },
   {
    "duration": 138,
    "start_time": "2025-02-17T10:30:42.473Z"
   },
   {
    "duration": 19,
    "start_time": "2025-02-17T10:30:42.613Z"
   },
   {
    "duration": 38,
    "start_time": "2025-02-17T10:30:42.633Z"
   },
   {
    "duration": 123,
    "start_time": "2025-02-17T10:30:42.674Z"
   },
   {
    "duration": 104,
    "start_time": "2025-02-17T10:30:42.799Z"
   },
   {
    "duration": 37,
    "start_time": "2025-02-17T10:30:42.906Z"
   },
   {
    "duration": 131,
    "start_time": "2025-02-17T10:30:42.945Z"
   },
   {
    "duration": 14,
    "start_time": "2025-02-17T10:32:49.278Z"
   },
   {
    "duration": 1366,
    "start_time": "2025-02-17T11:34:39.904Z"
   },
   {
    "duration": 77,
    "start_time": "2025-02-17T11:34:41.272Z"
   },
   {
    "duration": 20,
    "start_time": "2025-02-17T11:34:41.351Z"
   },
   {
    "duration": 13,
    "start_time": "2025-02-17T11:34:41.373Z"
   },
   {
    "duration": 13,
    "start_time": "2025-02-17T11:34:41.389Z"
   },
   {
    "duration": 29,
    "start_time": "2025-02-17T11:34:41.404Z"
   },
   {
    "duration": 12,
    "start_time": "2025-02-17T11:34:41.448Z"
   },
   {
    "duration": 15,
    "start_time": "2025-02-17T11:34:41.462Z"
   },
   {
    "duration": 25,
    "start_time": "2025-02-17T11:34:41.479Z"
   },
   {
    "duration": 32,
    "start_time": "2025-02-17T11:34:41.506Z"
   },
   {
    "duration": 115,
    "start_time": "2025-02-17T11:34:41.539Z"
   },
   {
    "duration": 19,
    "start_time": "2025-02-17T11:34:41.656Z"
   },
   {
    "duration": 9,
    "start_time": "2025-02-17T11:34:41.677Z"
   },
   {
    "duration": 19,
    "start_time": "2025-02-17T11:34:41.689Z"
   },
   {
    "duration": 10,
    "start_time": "2025-02-17T11:34:41.710Z"
   },
   {
    "duration": 19,
    "start_time": "2025-02-17T11:34:41.722Z"
   },
   {
    "duration": 137,
    "start_time": "2025-02-17T11:34:41.747Z"
   },
   {
    "duration": 70,
    "start_time": "2025-02-17T11:55:32.923Z"
   },
   {
    "duration": 1327,
    "start_time": "2025-02-17T11:55:45.086Z"
   },
   {
    "duration": 65,
    "start_time": "2025-02-17T11:55:46.415Z"
   },
   {
    "duration": 88,
    "start_time": "2025-02-17T11:55:46.483Z"
   },
   {
    "duration": 51,
    "start_time": "2025-02-17T11:55:46.573Z"
   },
   {
    "duration": 49,
    "start_time": "2025-02-17T11:55:46.626Z"
   },
   {
    "duration": 26,
    "start_time": "2025-02-17T11:55:46.677Z"
   },
   {
    "duration": 43,
    "start_time": "2025-02-17T11:55:46.705Z"
   },
   {
    "duration": 19,
    "start_time": "2025-02-17T11:55:46.750Z"
   },
   {
    "duration": 99,
    "start_time": "2025-02-17T11:55:46.770Z"
   },
   {
    "duration": 24,
    "start_time": "2025-02-17T11:55:46.871Z"
   },
   {
    "duration": 161,
    "start_time": "2025-02-17T11:55:46.897Z"
   },
   {
    "duration": 8,
    "start_time": "2025-02-17T11:55:47.059Z"
   },
   {
    "duration": 12,
    "start_time": "2025-02-17T11:55:47.069Z"
   },
   {
    "duration": 66,
    "start_time": "2025-02-17T11:55:47.084Z"
   },
   {
    "duration": 0,
    "start_time": "2025-02-17T11:55:47.152Z"
   },
   {
    "duration": 0,
    "start_time": "2025-02-17T11:55:47.153Z"
   },
   {
    "duration": 0,
    "start_time": "2025-02-17T11:55:47.155Z"
   },
   {
    "duration": 111,
    "start_time": "2025-02-17T11:56:57.912Z"
   },
   {
    "duration": 1543,
    "start_time": "2025-02-17T12:14:58.340Z"
   },
   {
    "duration": 66,
    "start_time": "2025-02-17T12:14:59.885Z"
   },
   {
    "duration": 13,
    "start_time": "2025-02-17T12:14:59.953Z"
   },
   {
    "duration": 43,
    "start_time": "2025-02-17T12:14:59.968Z"
   },
   {
    "duration": 59,
    "start_time": "2025-02-17T12:15:00.013Z"
   },
   {
    "duration": 29,
    "start_time": "2025-02-17T12:15:00.074Z"
   },
   {
    "duration": 44,
    "start_time": "2025-02-17T12:15:00.105Z"
   },
   {
    "duration": 29,
    "start_time": "2025-02-17T12:15:00.151Z"
   },
   {
    "duration": 131,
    "start_time": "2025-02-17T12:15:00.182Z"
   },
   {
    "duration": 110,
    "start_time": "2025-02-17T12:15:00.315Z"
   },
   {
    "duration": 45,
    "start_time": "2025-02-17T12:15:00.426Z"
   },
   {
    "duration": 63,
    "start_time": "2025-02-17T12:15:00.473Z"
   },
   {
    "duration": 104,
    "start_time": "2025-02-17T12:15:00.538Z"
   },
   {
    "duration": 102,
    "start_time": "2025-02-17T12:15:00.643Z"
   },
   {
    "duration": 0,
    "start_time": "2025-02-17T12:15:00.747Z"
   },
   {
    "duration": 0,
    "start_time": "2025-02-17T12:15:00.748Z"
   },
   {
    "duration": 0,
    "start_time": "2025-02-17T12:15:00.749Z"
   },
   {
    "duration": 11,
    "start_time": "2025-02-17T12:15:47.086Z"
   },
   {
    "duration": 72,
    "start_time": "2025-02-17T12:16:39.842Z"
   },
   {
    "duration": 9,
    "start_time": "2025-02-17T12:17:49.992Z"
   },
   {
    "duration": 1329,
    "start_time": "2025-02-17T12:19:18.145Z"
   },
   {
    "duration": 65,
    "start_time": "2025-02-17T12:19:19.476Z"
   },
   {
    "duration": 13,
    "start_time": "2025-02-17T12:19:19.542Z"
   },
   {
    "duration": 14,
    "start_time": "2025-02-17T12:19:19.557Z"
   },
   {
    "duration": 11,
    "start_time": "2025-02-17T12:19:19.573Z"
   },
   {
    "duration": 13,
    "start_time": "2025-02-17T12:19:19.586Z"
   },
   {
    "duration": 15,
    "start_time": "2025-02-17T12:19:19.601Z"
   },
   {
    "duration": 60,
    "start_time": "2025-02-17T12:19:19.618Z"
   },
   {
    "duration": 13,
    "start_time": "2025-02-17T12:19:19.679Z"
   },
   {
    "duration": 8,
    "start_time": "2025-02-17T12:19:19.693Z"
   },
   {
    "duration": 36,
    "start_time": "2025-02-17T12:19:19.703Z"
   },
   {
    "duration": 44,
    "start_time": "2025-02-17T12:19:19.741Z"
   },
   {
    "duration": 21,
    "start_time": "2025-02-17T12:19:19.786Z"
   },
   {
    "duration": 46,
    "start_time": "2025-02-17T12:19:19.810Z"
   },
   {
    "duration": 110,
    "start_time": "2025-02-17T12:19:19.858Z"
   },
   {
    "duration": 0,
    "start_time": "2025-02-17T12:19:19.970Z"
   },
   {
    "duration": 0,
    "start_time": "2025-02-17T12:19:19.971Z"
   },
   {
    "duration": 4,
    "start_time": "2025-02-17T12:21:22.642Z"
   },
   {
    "duration": 10,
    "start_time": "2025-02-17T12:21:37.783Z"
   },
   {
    "duration": 4,
    "start_time": "2025-02-17T12:21:53.743Z"
   },
   {
    "duration": 11,
    "start_time": "2025-02-17T12:22:04.618Z"
   },
   {
    "duration": 9,
    "start_time": "2025-02-17T12:22:56.382Z"
   },
   {
    "duration": 5,
    "start_time": "2025-02-17T12:23:21.386Z"
   },
   {
    "duration": 10,
    "start_time": "2025-02-17T12:23:58.029Z"
   },
   {
    "duration": 20,
    "start_time": "2025-02-17T12:25:19.648Z"
   },
   {
    "duration": 22,
    "start_time": "2025-02-17T12:26:50.503Z"
   },
   {
    "duration": 20,
    "start_time": "2025-02-17T12:27:28.164Z"
   },
   {
    "duration": 4,
    "start_time": "2025-02-17T15:12:45.000Z"
   },
   {
    "duration": 59,
    "start_time": "2025-02-17T15:15:27.808Z"
   },
   {
    "duration": 1534,
    "start_time": "2025-02-17T15:15:33.069Z"
   },
   {
    "duration": 67,
    "start_time": "2025-02-17T15:15:34.605Z"
   },
   {
    "duration": 13,
    "start_time": "2025-02-17T15:15:34.674Z"
   },
   {
    "duration": 36,
    "start_time": "2025-02-17T15:15:34.690Z"
   },
   {
    "duration": 76,
    "start_time": "2025-02-17T15:15:34.728Z"
   },
   {
    "duration": 19,
    "start_time": "2025-02-17T15:15:34.806Z"
   },
   {
    "duration": 28,
    "start_time": "2025-02-17T15:15:34.827Z"
   },
   {
    "duration": 32,
    "start_time": "2025-02-17T15:15:34.857Z"
   },
   {
    "duration": 41,
    "start_time": "2025-02-17T15:15:34.891Z"
   },
   {
    "duration": 46,
    "start_time": "2025-02-17T15:15:34.934Z"
   },
   {
    "duration": 56,
    "start_time": "2025-02-17T15:15:34.981Z"
   },
   {
    "duration": 43,
    "start_time": "2025-02-17T15:15:35.039Z"
   },
   {
    "duration": 55,
    "start_time": "2025-02-17T15:15:35.084Z"
   },
   {
    "duration": 36,
    "start_time": "2025-02-17T15:15:35.140Z"
   },
   {
    "duration": 35,
    "start_time": "2025-02-17T15:15:35.177Z"
   },
   {
    "duration": 36,
    "start_time": "2025-02-17T15:15:35.215Z"
   },
   {
    "duration": 156,
    "start_time": "2025-02-17T15:15:35.253Z"
   },
   {
    "duration": 23,
    "start_time": "2025-02-17T15:15:35.411Z"
   },
   {
    "duration": 12,
    "start_time": "2025-02-17T15:16:50.287Z"
   },
   {
    "duration": 13,
    "start_time": "2025-02-17T15:17:08.823Z"
   },
   {
    "duration": 14,
    "start_time": "2025-02-17T15:17:14.288Z"
   },
   {
    "duration": 14,
    "start_time": "2025-02-17T15:22:25.838Z"
   },
   {
    "duration": 3,
    "start_time": "2025-02-17T15:23:57.870Z"
   },
   {
    "duration": 524,
    "start_time": "2025-02-17T16:00:13.841Z"
   },
   {
    "duration": 332,
    "start_time": "2025-02-17T16:01:06.069Z"
   },
   {
    "duration": 344,
    "start_time": "2025-02-17T16:01:42.122Z"
   },
   {
    "duration": 301,
    "start_time": "2025-02-17T16:02:23.767Z"
   },
   {
    "duration": 305,
    "start_time": "2025-02-17T16:02:56.272Z"
   },
   {
    "duration": 137,
    "start_time": "2025-02-17T16:03:04.298Z"
   },
   {
    "duration": 381,
    "start_time": "2025-02-17T16:03:12.423Z"
   },
   {
    "duration": 299,
    "start_time": "2025-02-17T16:03:31.208Z"
   },
   {
    "duration": 319,
    "start_time": "2025-02-17T16:05:36.578Z"
   },
   {
    "duration": 335,
    "start_time": "2025-02-17T16:05:55.728Z"
   },
   {
    "duration": 305,
    "start_time": "2025-02-17T16:06:22.469Z"
   },
   {
    "duration": 301,
    "start_time": "2025-02-17T16:06:38.146Z"
   },
   {
    "duration": 316,
    "start_time": "2025-02-17T16:07:03.702Z"
   },
   {
    "duration": 316,
    "start_time": "2025-02-17T16:07:20.267Z"
   },
   {
    "duration": 302,
    "start_time": "2025-02-17T16:07:51.047Z"
   },
   {
    "duration": 308,
    "start_time": "2025-02-17T16:08:01.673Z"
   },
   {
    "duration": 361,
    "start_time": "2025-02-17T16:10:42.154Z"
   },
   {
    "duration": 476,
    "start_time": "2025-02-17T16:10:51.036Z"
   },
   {
    "duration": 340,
    "start_time": "2025-02-17T16:11:04.215Z"
   },
   {
    "duration": 309,
    "start_time": "2025-02-17T16:11:14.705Z"
   },
   {
    "duration": 307,
    "start_time": "2025-02-17T16:11:32.629Z"
   },
   {
    "duration": 331,
    "start_time": "2025-02-17T16:11:47.287Z"
   },
   {
    "duration": 313,
    "start_time": "2025-02-17T16:11:54.299Z"
   },
   {
    "duration": 1379,
    "start_time": "2025-02-18T08:26:45.374Z"
   },
   {
    "duration": 68,
    "start_time": "2025-02-18T08:26:46.755Z"
   },
   {
    "duration": 11,
    "start_time": "2025-02-18T08:26:46.825Z"
   },
   {
    "duration": 100,
    "start_time": "2025-02-18T08:26:46.837Z"
   },
   {
    "duration": 45,
    "start_time": "2025-02-18T08:26:46.939Z"
   },
   {
    "duration": 36,
    "start_time": "2025-02-18T08:26:46.985Z"
   },
   {
    "duration": 23,
    "start_time": "2025-02-18T08:26:47.022Z"
   },
   {
    "duration": 187,
    "start_time": "2025-02-18T08:26:47.046Z"
   },
   {
    "duration": 14,
    "start_time": "2025-02-18T08:26:47.235Z"
   },
   {
    "duration": 15,
    "start_time": "2025-02-18T08:26:47.250Z"
   },
   {
    "duration": 32,
    "start_time": "2025-02-18T08:26:47.267Z"
   },
   {
    "duration": 7,
    "start_time": "2025-02-18T08:26:47.300Z"
   },
   {
    "duration": 16,
    "start_time": "2025-02-18T08:26:47.309Z"
   },
   {
    "duration": 21,
    "start_time": "2025-02-18T08:26:47.328Z"
   },
   {
    "duration": 5,
    "start_time": "2025-02-18T08:26:47.351Z"
   },
   {
    "duration": 24,
    "start_time": "2025-02-18T08:26:47.358Z"
   },
   {
    "duration": 118,
    "start_time": "2025-02-18T08:26:47.384Z"
   },
   {
    "duration": 12,
    "start_time": "2025-02-18T08:26:47.504Z"
   },
   {
    "duration": 95,
    "start_time": "2025-02-18T08:26:47.517Z"
   },
   {
    "duration": 279,
    "start_time": "2025-02-18T08:26:47.613Z"
   },
   {
    "duration": 1507,
    "start_time": "2025-02-18T16:51:33.484Z"
   },
   {
    "duration": 0,
    "start_time": "2025-02-18T16:54:28.840Z"
   },
   {
    "duration": 0,
    "start_time": "2025-02-18T16:54:28.842Z"
   },
   {
    "duration": 0,
    "start_time": "2025-02-18T16:54:28.843Z"
   },
   {
    "duration": 0,
    "start_time": "2025-02-18T16:54:28.844Z"
   },
   {
    "duration": 0,
    "start_time": "2025-02-18T16:54:28.845Z"
   },
   {
    "duration": 0,
    "start_time": "2025-02-18T16:54:28.846Z"
   },
   {
    "duration": 0,
    "start_time": "2025-02-18T16:54:28.848Z"
   },
   {
    "duration": 0,
    "start_time": "2025-02-18T16:54:28.848Z"
   },
   {
    "duration": 0,
    "start_time": "2025-02-18T16:54:28.849Z"
   },
   {
    "duration": 0,
    "start_time": "2025-02-18T16:54:28.850Z"
   },
   {
    "duration": 0,
    "start_time": "2025-02-18T16:54:28.851Z"
   },
   {
    "duration": 0,
    "start_time": "2025-02-18T16:54:28.852Z"
   },
   {
    "duration": 0,
    "start_time": "2025-02-18T16:54:28.870Z"
   },
   {
    "duration": 0,
    "start_time": "2025-02-18T16:54:28.871Z"
   },
   {
    "duration": 0,
    "start_time": "2025-02-18T16:54:28.872Z"
   },
   {
    "duration": 0,
    "start_time": "2025-02-18T16:54:28.874Z"
   },
   {
    "duration": 0,
    "start_time": "2025-02-18T16:54:28.875Z"
   },
   {
    "duration": 0,
    "start_time": "2025-02-18T16:54:28.876Z"
   },
   {
    "duration": 0,
    "start_time": "2025-02-18T16:54:28.877Z"
   },
   {
    "duration": 0,
    "start_time": "2025-02-18T16:54:28.878Z"
   },
   {
    "duration": 0,
    "start_time": "2025-02-18T16:54:28.879Z"
   },
   {
    "duration": 354,
    "start_time": "2025-02-18T16:54:32.994Z"
   },
   {
    "duration": 55,
    "start_time": "2025-02-18T16:57:29.954Z"
   },
   {
    "duration": 0,
    "start_time": "2025-02-18T16:57:30.011Z"
   },
   {
    "duration": 0,
    "start_time": "2025-02-18T16:57:32.664Z"
   },
   {
    "duration": 0,
    "start_time": "2025-02-18T16:57:32.666Z"
   },
   {
    "duration": 0,
    "start_time": "2025-02-18T16:57:32.668Z"
   },
   {
    "duration": 0,
    "start_time": "2025-02-18T16:57:32.670Z"
   },
   {
    "duration": 0,
    "start_time": "2025-02-18T16:57:32.671Z"
   },
   {
    "duration": 0,
    "start_time": "2025-02-18T16:57:32.673Z"
   },
   {
    "duration": 0,
    "start_time": "2025-02-18T16:57:32.675Z"
   },
   {
    "duration": 0,
    "start_time": "2025-02-18T16:57:32.676Z"
   },
   {
    "duration": 0,
    "start_time": "2025-02-18T16:57:32.678Z"
   },
   {
    "duration": 0,
    "start_time": "2025-02-18T16:57:32.680Z"
   },
   {
    "duration": 0,
    "start_time": "2025-02-18T16:57:32.682Z"
   },
   {
    "duration": 0,
    "start_time": "2025-02-18T16:57:32.683Z"
   },
   {
    "duration": 0,
    "start_time": "2025-02-18T16:57:32.685Z"
   },
   {
    "duration": 1,
    "start_time": "2025-02-18T16:57:32.686Z"
   },
   {
    "duration": 0,
    "start_time": "2025-02-18T16:57:32.688Z"
   },
   {
    "duration": 0,
    "start_time": "2025-02-18T16:57:32.690Z"
   },
   {
    "duration": 0,
    "start_time": "2025-02-18T16:57:32.691Z"
   },
   {
    "duration": 0,
    "start_time": "2025-02-18T16:57:32.693Z"
   },
   {
    "duration": 0,
    "start_time": "2025-02-18T16:57:32.695Z"
   },
   {
    "duration": 0,
    "start_time": "2025-02-18T16:57:32.696Z"
   },
   {
    "duration": 0,
    "start_time": "2025-02-18T16:57:32.698Z"
   },
   {
    "duration": 4,
    "start_time": "2025-02-18T17:00:43.571Z"
   },
   {
    "duration": 12,
    "start_time": "2025-02-18T17:00:43.576Z"
   },
   {
    "duration": 17,
    "start_time": "2025-02-18T17:00:43.589Z"
   },
   {
    "duration": 11,
    "start_time": "2025-02-18T17:00:43.609Z"
   },
   {
    "duration": 33,
    "start_time": "2025-02-18T17:00:43.621Z"
   },
   {
    "duration": 28,
    "start_time": "2025-02-18T17:00:43.656Z"
   },
   {
    "duration": 8,
    "start_time": "2025-02-18T17:00:43.686Z"
   },
   {
    "duration": 12,
    "start_time": "2025-02-18T17:00:43.695Z"
   },
   {
    "duration": 17,
    "start_time": "2025-02-18T17:00:43.708Z"
   },
   {
    "duration": 9,
    "start_time": "2025-02-18T17:00:43.726Z"
   },
   {
    "duration": 46,
    "start_time": "2025-02-18T17:00:43.737Z"
   },
   {
    "duration": 16,
    "start_time": "2025-02-18T17:00:43.785Z"
   },
   {
    "duration": 10,
    "start_time": "2025-02-18T17:00:43.803Z"
   },
   {
    "duration": 11,
    "start_time": "2025-02-18T17:00:43.815Z"
   },
   {
    "duration": 89,
    "start_time": "2025-02-18T17:00:43.828Z"
   },
   {
    "duration": 13,
    "start_time": "2025-02-18T17:00:43.919Z"
   },
   {
    "duration": 23,
    "start_time": "2025-02-18T17:00:43.933Z"
   },
   {
    "duration": 11,
    "start_time": "2025-02-18T17:00:43.958Z"
   },
   {
    "duration": 13,
    "start_time": "2025-02-18T17:00:43.971Z"
   },
   {
    "duration": 360,
    "start_time": "2025-02-18T17:00:43.986Z"
   },
   {
    "duration": 7,
    "start_time": "2025-02-18T17:01:28.680Z"
   },
   {
    "duration": 1323,
    "start_time": "2025-02-18T17:15:06.282Z"
   },
   {
    "duration": 69,
    "start_time": "2025-02-18T17:15:07.607Z"
   },
   {
    "duration": 12,
    "start_time": "2025-02-18T17:15:07.678Z"
   },
   {
    "duration": 14,
    "start_time": "2025-02-18T17:15:07.692Z"
   },
   {
    "duration": 10,
    "start_time": "2025-02-18T17:15:07.709Z"
   },
   {
    "duration": 14,
    "start_time": "2025-02-18T17:15:07.721Z"
   },
   {
    "duration": 10,
    "start_time": "2025-02-18T17:15:07.736Z"
   },
   {
    "duration": 30,
    "start_time": "2025-02-18T17:15:07.748Z"
   },
   {
    "duration": 13,
    "start_time": "2025-02-18T17:15:07.780Z"
   },
   {
    "duration": 19,
    "start_time": "2025-02-18T17:15:07.795Z"
   },
   {
    "duration": 21,
    "start_time": "2025-02-18T17:15:07.816Z"
   },
   {
    "duration": 8,
    "start_time": "2025-02-18T17:15:07.838Z"
   },
   {
    "duration": 26,
    "start_time": "2025-02-18T17:15:07.848Z"
   },
   {
    "duration": 10,
    "start_time": "2025-02-18T17:15:07.877Z"
   },
   {
    "duration": 4,
    "start_time": "2025-02-18T17:15:07.888Z"
   },
   {
    "duration": 43,
    "start_time": "2025-02-18T17:15:07.894Z"
   },
   {
    "duration": 145,
    "start_time": "2025-02-18T17:15:07.938Z"
   },
   {
    "duration": 13,
    "start_time": "2025-02-18T17:15:08.086Z"
   },
   {
    "duration": 15,
    "start_time": "2025-02-18T17:15:08.100Z"
   },
   {
    "duration": 328,
    "start_time": "2025-02-18T17:15:08.117Z"
   },
   {
    "duration": 40,
    "start_time": "2025-02-18T17:15:08.447Z"
   },
   {
    "duration": 0,
    "start_time": "2025-02-18T17:15:08.489Z"
   },
   {
    "duration": 28,
    "start_time": "2025-02-18T17:15:52.644Z"
   },
   {
    "duration": 29,
    "start_time": "2025-02-18T17:16:06.774Z"
   },
   {
    "duration": 30,
    "start_time": "2025-02-18T17:17:17.183Z"
   },
   {
    "duration": 38,
    "start_time": "2025-02-18T17:19:30.552Z"
   },
   {
    "duration": 295,
    "start_time": "2025-02-18T17:23:21.853Z"
   },
   {
    "duration": 1488,
    "start_time": "2025-02-18T17:24:07.902Z"
   },
   {
    "duration": 69,
    "start_time": "2025-02-18T17:24:09.392Z"
   },
   {
    "duration": 16,
    "start_time": "2025-02-18T17:24:09.463Z"
   },
   {
    "duration": 16,
    "start_time": "2025-02-18T17:24:09.482Z"
   },
   {
    "duration": 31,
    "start_time": "2025-02-18T17:24:09.501Z"
   },
   {
    "duration": 27,
    "start_time": "2025-02-18T17:24:09.535Z"
   },
   {
    "duration": 15,
    "start_time": "2025-02-18T17:24:09.564Z"
   },
   {
    "duration": 16,
    "start_time": "2025-02-18T17:24:09.583Z"
   },
   {
    "duration": 25,
    "start_time": "2025-02-18T17:24:09.601Z"
   },
   {
    "duration": 12,
    "start_time": "2025-02-18T17:24:09.629Z"
   },
   {
    "duration": 40,
    "start_time": "2025-02-18T17:24:09.644Z"
   },
   {
    "duration": 9,
    "start_time": "2025-02-18T17:24:09.687Z"
   },
   {
    "duration": 10,
    "start_time": "2025-02-18T17:24:09.698Z"
   },
   {
    "duration": 21,
    "start_time": "2025-02-18T17:24:09.711Z"
   },
   {
    "duration": 5,
    "start_time": "2025-02-18T17:24:09.734Z"
   },
   {
    "duration": 35,
    "start_time": "2025-02-18T17:24:09.741Z"
   },
   {
    "duration": 140,
    "start_time": "2025-02-18T17:24:09.778Z"
   },
   {
    "duration": 13,
    "start_time": "2025-02-18T17:24:09.919Z"
   },
   {
    "duration": 48,
    "start_time": "2025-02-18T17:24:09.933Z"
   },
   {
    "duration": 372,
    "start_time": "2025-02-18T17:24:09.982Z"
   },
   {
    "duration": 305,
    "start_time": "2025-02-18T17:24:10.356Z"
   },
   {
    "duration": 14,
    "start_time": "2025-02-18T17:24:10.663Z"
   },
   {
    "duration": 179,
    "start_time": "2025-02-18T17:28:32.614Z"
   },
   {
    "duration": 173,
    "start_time": "2025-02-18T17:28:37.084Z"
   },
   {
    "duration": 162,
    "start_time": "2025-02-18T17:29:32.664Z"
   },
   {
    "duration": 149,
    "start_time": "2025-02-18T17:30:04.743Z"
   },
   {
    "duration": 13,
    "start_time": "2025-02-18T17:30:15.428Z"
   },
   {
    "duration": 263,
    "start_time": "2025-02-18T17:31:31.010Z"
   },
   {
    "duration": 187,
    "start_time": "2025-02-18T17:32:11.638Z"
   },
   {
    "duration": 205,
    "start_time": "2025-02-18T17:34:21.318Z"
   },
   {
    "duration": 1373,
    "start_time": "2025-02-18T17:35:28.644Z"
   },
   {
    "duration": 69,
    "start_time": "2025-02-18T17:35:30.019Z"
   },
   {
    "duration": 13,
    "start_time": "2025-02-18T17:35:30.090Z"
   },
   {
    "duration": 44,
    "start_time": "2025-02-18T17:35:30.105Z"
   },
   {
    "duration": 22,
    "start_time": "2025-02-18T17:35:30.152Z"
   },
   {
    "duration": 46,
    "start_time": "2025-02-18T17:35:30.176Z"
   },
   {
    "duration": 31,
    "start_time": "2025-02-18T17:35:30.224Z"
   },
   {
    "duration": 104,
    "start_time": "2025-02-18T17:35:30.257Z"
   },
   {
    "duration": 41,
    "start_time": "2025-02-18T17:35:30.363Z"
   },
   {
    "duration": 28,
    "start_time": "2025-02-18T17:35:30.406Z"
   },
   {
    "duration": 51,
    "start_time": "2025-02-18T17:35:30.437Z"
   },
   {
    "duration": 23,
    "start_time": "2025-02-18T17:35:30.490Z"
   },
   {
    "duration": 44,
    "start_time": "2025-02-18T17:35:30.515Z"
   },
   {
    "duration": 11,
    "start_time": "2025-02-18T17:35:30.562Z"
   },
   {
    "duration": 20,
    "start_time": "2025-02-18T17:35:30.575Z"
   },
   {
    "duration": 44,
    "start_time": "2025-02-18T17:35:30.597Z"
   },
   {
    "duration": 135,
    "start_time": "2025-02-18T17:35:30.643Z"
   },
   {
    "duration": 13,
    "start_time": "2025-02-18T17:35:30.780Z"
   },
   {
    "duration": 29,
    "start_time": "2025-02-18T17:35:30.794Z"
   },
   {
    "duration": 328,
    "start_time": "2025-02-18T17:35:30.825Z"
   },
   {
    "duration": 192,
    "start_time": "2025-02-18T17:35:31.154Z"
   },
   {
    "duration": 143,
    "start_time": "2025-02-18T17:35:31.348Z"
   },
   {
    "duration": 13,
    "start_time": "2025-02-18T17:35:31.494Z"
   },
   {
    "duration": 327,
    "start_time": "2025-02-18T17:35:31.510Z"
   },
   {
    "duration": 4,
    "start_time": "2025-02-18T17:35:45.634Z"
   },
   {
    "duration": 5,
    "start_time": "2025-02-18T17:36:26.687Z"
   },
   {
    "duration": 1352,
    "start_time": "2025-02-18T17:36:31.501Z"
   },
   {
    "duration": 68,
    "start_time": "2025-02-18T17:36:32.856Z"
   },
   {
    "duration": 12,
    "start_time": "2025-02-18T17:36:32.926Z"
   },
   {
    "duration": 11,
    "start_time": "2025-02-18T17:36:32.940Z"
   },
   {
    "duration": 23,
    "start_time": "2025-02-18T17:36:32.954Z"
   },
   {
    "duration": 23,
    "start_time": "2025-02-18T17:36:32.979Z"
   },
   {
    "duration": 41,
    "start_time": "2025-02-18T17:36:33.004Z"
   },
   {
    "duration": 41,
    "start_time": "2025-02-18T17:36:33.047Z"
   },
   {
    "duration": 18,
    "start_time": "2025-02-18T17:36:33.090Z"
   },
   {
    "duration": 14,
    "start_time": "2025-02-18T17:36:33.110Z"
   },
   {
    "duration": 96,
    "start_time": "2025-02-18T17:36:33.125Z"
   },
   {
    "duration": 18,
    "start_time": "2025-02-18T17:36:33.223Z"
   },
   {
    "duration": 12,
    "start_time": "2025-02-18T17:36:33.243Z"
   },
   {
    "duration": 10,
    "start_time": "2025-02-18T17:36:33.258Z"
   },
   {
    "duration": 19,
    "start_time": "2025-02-18T17:36:33.270Z"
   },
   {
    "duration": 20,
    "start_time": "2025-02-18T17:36:33.291Z"
   },
   {
    "duration": 150,
    "start_time": "2025-02-18T17:36:33.313Z"
   },
   {
    "duration": 13,
    "start_time": "2025-02-18T17:36:33.465Z"
   },
   {
    "duration": 20,
    "start_time": "2025-02-18T17:36:33.480Z"
   },
   {
    "duration": 339,
    "start_time": "2025-02-18T17:36:33.502Z"
   },
   {
    "duration": 188,
    "start_time": "2025-02-18T17:36:33.843Z"
   },
   {
    "duration": 142,
    "start_time": "2025-02-18T17:36:34.032Z"
   },
   {
    "duration": 13,
    "start_time": "2025-02-18T17:36:34.175Z"
   },
   {
    "duration": 303,
    "start_time": "2025-02-18T17:36:34.190Z"
   },
   {
    "duration": 1342,
    "start_time": "2025-02-18T17:37:23.650Z"
   },
   {
    "duration": 67,
    "start_time": "2025-02-18T17:37:24.994Z"
   },
   {
    "duration": 12,
    "start_time": "2025-02-18T17:37:25.063Z"
   },
   {
    "duration": 11,
    "start_time": "2025-02-18T17:37:25.077Z"
   },
   {
    "duration": 12,
    "start_time": "2025-02-18T17:37:25.090Z"
   },
   {
    "duration": 12,
    "start_time": "2025-02-18T17:37:25.103Z"
   },
   {
    "duration": 22,
    "start_time": "2025-02-18T17:37:25.117Z"
   },
   {
    "duration": 62,
    "start_time": "2025-02-18T17:37:25.141Z"
   },
   {
    "duration": 24,
    "start_time": "2025-02-18T17:37:25.204Z"
   },
   {
    "duration": 10,
    "start_time": "2025-02-18T17:37:25.230Z"
   },
   {
    "duration": 22,
    "start_time": "2025-02-18T17:37:25.242Z"
   },
   {
    "duration": 7,
    "start_time": "2025-02-18T17:37:25.266Z"
   },
   {
    "duration": 8,
    "start_time": "2025-02-18T17:37:25.275Z"
   },
   {
    "duration": 10,
    "start_time": "2025-02-18T17:37:25.286Z"
   },
   {
    "duration": 11,
    "start_time": "2025-02-18T17:37:25.298Z"
   },
   {
    "duration": 10,
    "start_time": "2025-02-18T17:37:25.310Z"
   },
   {
    "duration": 149,
    "start_time": "2025-02-18T17:37:25.322Z"
   },
   {
    "duration": 14,
    "start_time": "2025-02-18T17:37:25.473Z"
   },
   {
    "duration": 13,
    "start_time": "2025-02-18T17:37:25.489Z"
   },
   {
    "duration": 327,
    "start_time": "2025-02-18T17:37:25.504Z"
   },
   {
    "duration": 183,
    "start_time": "2025-02-18T17:37:25.832Z"
   },
   {
    "duration": 160,
    "start_time": "2025-02-18T17:37:26.017Z"
   },
   {
    "duration": 14,
    "start_time": "2025-02-18T17:37:26.179Z"
   },
   {
    "duration": 299,
    "start_time": "2025-02-18T17:37:26.195Z"
   },
   {
    "duration": 203,
    "start_time": "2025-02-18T17:38:32.176Z"
   },
   {
    "duration": 170,
    "start_time": "2025-02-18T17:43:24.904Z"
   },
   {
    "duration": 254,
    "start_time": "2025-02-18T17:44:30.518Z"
   },
   {
    "duration": 236,
    "start_time": "2025-02-18T17:44:47.262Z"
   },
   {
    "duration": 304,
    "start_time": "2025-02-18T17:45:57.435Z"
   },
   {
    "duration": 220,
    "start_time": "2025-02-18T17:46:10.304Z"
   },
   {
    "duration": 225,
    "start_time": "2025-02-18T17:46:23.882Z"
   },
   {
    "duration": 231,
    "start_time": "2025-02-18T17:46:32.497Z"
   },
   {
    "duration": 258,
    "start_time": "2025-02-18T17:49:56.618Z"
   },
   {
    "duration": 319,
    "start_time": "2025-02-18T17:50:14.429Z"
   },
   {
    "duration": 65,
    "start_time": "2025-02-18T17:53:22.664Z"
   },
   {
    "duration": 156,
    "start_time": "2025-02-18T17:53:34.009Z"
   },
   {
    "duration": 72,
    "start_time": "2025-02-18T17:54:05.101Z"
   },
   {
    "duration": 251,
    "start_time": "2025-02-18T17:55:11.586Z"
   },
   {
    "duration": 271,
    "start_time": "2025-02-18T17:55:37.375Z"
   },
   {
    "duration": 260,
    "start_time": "2025-02-18T18:09:49.417Z"
   },
   {
    "duration": 344,
    "start_time": "2025-02-18T18:13:36.792Z"
   },
   {
    "duration": 358,
    "start_time": "2025-02-18T18:13:43.943Z"
   },
   {
    "duration": 1306,
    "start_time": "2025-02-18T18:13:50.012Z"
   },
   {
    "duration": 68,
    "start_time": "2025-02-18T18:13:51.320Z"
   },
   {
    "duration": 13,
    "start_time": "2025-02-18T18:13:51.390Z"
   },
   {
    "duration": 15,
    "start_time": "2025-02-18T18:13:51.405Z"
   },
   {
    "duration": 17,
    "start_time": "2025-02-18T18:13:51.422Z"
   },
   {
    "duration": 13,
    "start_time": "2025-02-18T18:13:51.441Z"
   },
   {
    "duration": 11,
    "start_time": "2025-02-18T18:13:51.456Z"
   },
   {
    "duration": 38,
    "start_time": "2025-02-18T18:13:51.469Z"
   },
   {
    "duration": 12,
    "start_time": "2025-02-18T18:13:51.508Z"
   },
   {
    "duration": 8,
    "start_time": "2025-02-18T18:13:51.523Z"
   },
   {
    "duration": 23,
    "start_time": "2025-02-18T18:13:51.533Z"
   },
   {
    "duration": 8,
    "start_time": "2025-02-18T18:13:51.558Z"
   },
   {
    "duration": 9,
    "start_time": "2025-02-18T18:13:51.567Z"
   },
   {
    "duration": 10,
    "start_time": "2025-02-18T18:13:51.578Z"
   },
   {
    "duration": 27,
    "start_time": "2025-02-18T18:13:51.589Z"
   },
   {
    "duration": 10,
    "start_time": "2025-02-18T18:13:51.618Z"
   },
   {
    "duration": 137,
    "start_time": "2025-02-18T18:13:51.630Z"
   },
   {
    "duration": 21,
    "start_time": "2025-02-18T18:13:51.770Z"
   },
   {
    "duration": 14,
    "start_time": "2025-02-18T18:13:51.794Z"
   },
   {
    "duration": 346,
    "start_time": "2025-02-18T18:13:51.809Z"
   },
   {
    "duration": 192,
    "start_time": "2025-02-18T18:13:52.157Z"
   },
   {
    "duration": 146,
    "start_time": "2025-02-18T18:13:52.350Z"
   },
   {
    "duration": 14,
    "start_time": "2025-02-18T18:13:52.498Z"
   },
   {
    "duration": 361,
    "start_time": "2025-02-18T18:13:52.514Z"
   },
   {
    "duration": 385,
    "start_time": "2025-02-18T18:13:52.877Z"
   },
   {
    "duration": 353,
    "start_time": "2025-02-18T18:14:18.389Z"
   },
   {
    "duration": 271,
    "start_time": "2025-02-18T18:14:53.409Z"
   },
   {
    "duration": 296,
    "start_time": "2025-02-18T18:15:04.342Z"
   },
   {
    "duration": 51,
    "start_time": "2025-02-19T08:11:44.241Z"
   },
   {
    "duration": 1416,
    "start_time": "2025-02-19T08:12:02.420Z"
   },
   {
    "duration": 76,
    "start_time": "2025-02-19T08:12:03.838Z"
   },
   {
    "duration": 14,
    "start_time": "2025-02-19T08:12:03.915Z"
   },
   {
    "duration": 22,
    "start_time": "2025-02-19T08:12:03.930Z"
   },
   {
    "duration": 14,
    "start_time": "2025-02-19T08:12:03.954Z"
   },
   {
    "duration": 18,
    "start_time": "2025-02-19T08:12:03.970Z"
   },
   {
    "duration": 18,
    "start_time": "2025-02-19T08:12:03.989Z"
   },
   {
    "duration": 10,
    "start_time": "2025-02-19T08:12:04.008Z"
   },
   {
    "duration": 8,
    "start_time": "2025-02-19T08:12:04.019Z"
   },
   {
    "duration": 22,
    "start_time": "2025-02-19T08:12:04.029Z"
   },
   {
    "duration": 20,
    "start_time": "2025-02-19T08:12:04.052Z"
   },
   {
    "duration": 9,
    "start_time": "2025-02-19T08:12:04.073Z"
   },
   {
    "duration": 7,
    "start_time": "2025-02-19T08:12:04.084Z"
   },
   {
    "duration": 16,
    "start_time": "2025-02-19T08:12:04.094Z"
   },
   {
    "duration": 5,
    "start_time": "2025-02-19T08:12:04.111Z"
   },
   {
    "duration": 11,
    "start_time": "2025-02-19T08:12:04.117Z"
   },
   {
    "duration": 149,
    "start_time": "2025-02-19T08:12:04.129Z"
   },
   {
    "duration": 11,
    "start_time": "2025-02-19T08:12:04.280Z"
   },
   {
    "duration": 101,
    "start_time": "2025-02-19T08:12:04.292Z"
   },
   {
    "duration": 297,
    "start_time": "2025-02-19T08:12:04.394Z"
   },
   {
    "duration": 177,
    "start_time": "2025-02-19T08:12:04.692Z"
   },
   {
    "duration": 140,
    "start_time": "2025-02-19T08:12:04.871Z"
   },
   {
    "duration": 12,
    "start_time": "2025-02-19T08:12:05.012Z"
   },
   {
    "duration": 353,
    "start_time": "2025-02-19T08:12:05.025Z"
   },
   {
    "duration": 258,
    "start_time": "2025-02-19T08:12:05.380Z"
   },
   {
    "duration": 329,
    "start_time": "2025-02-19T08:12:05.640Z"
   },
   {
    "duration": 370,
    "start_time": "2025-02-19T08:16:09.870Z"
   },
   {
    "duration": 418,
    "start_time": "2025-02-19T08:16:31.212Z"
   },
   {
    "duration": 329,
    "start_time": "2025-02-19T08:16:42.901Z"
   },
   {
    "duration": 357,
    "start_time": "2025-02-19T08:17:02.943Z"
   },
   {
    "duration": 326,
    "start_time": "2025-02-19T08:17:33.993Z"
   },
   {
    "duration": 1271,
    "start_time": "2025-02-19T09:37:41.487Z"
   },
   {
    "duration": 63,
    "start_time": "2025-02-19T09:37:42.760Z"
   },
   {
    "duration": 12,
    "start_time": "2025-02-19T09:37:42.825Z"
   },
   {
    "duration": 13,
    "start_time": "2025-02-19T09:37:42.838Z"
   },
   {
    "duration": 8,
    "start_time": "2025-02-19T09:37:42.854Z"
   },
   {
    "duration": 11,
    "start_time": "2025-02-19T09:37:42.864Z"
   },
   {
    "duration": 7,
    "start_time": "2025-02-19T09:37:42.877Z"
   },
   {
    "duration": 9,
    "start_time": "2025-02-19T09:37:42.886Z"
   },
   {
    "duration": 8,
    "start_time": "2025-02-19T09:37:42.896Z"
   },
   {
    "duration": 7,
    "start_time": "2025-02-19T09:37:42.906Z"
   },
   {
    "duration": 55,
    "start_time": "2025-02-19T09:37:42.915Z"
   },
   {
    "duration": 8,
    "start_time": "2025-02-19T09:37:42.972Z"
   },
   {
    "duration": 8,
    "start_time": "2025-02-19T09:37:42.982Z"
   },
   {
    "duration": 10,
    "start_time": "2025-02-19T09:37:42.993Z"
   },
   {
    "duration": 20,
    "start_time": "2025-02-19T09:37:43.004Z"
   },
   {
    "duration": 11,
    "start_time": "2025-02-19T09:37:43.026Z"
   },
   {
    "duration": 125,
    "start_time": "2025-02-19T09:37:43.058Z"
   },
   {
    "duration": 13,
    "start_time": "2025-02-19T09:37:43.185Z"
   },
   {
    "duration": 16,
    "start_time": "2025-02-19T09:37:43.199Z"
   },
   {
    "duration": 319,
    "start_time": "2025-02-19T09:37:43.217Z"
   },
   {
    "duration": 189,
    "start_time": "2025-02-19T09:37:43.539Z"
   },
   {
    "duration": 133,
    "start_time": "2025-02-19T09:37:43.730Z"
   },
   {
    "duration": 14,
    "start_time": "2025-02-19T09:37:43.865Z"
   },
   {
    "duration": 364,
    "start_time": "2025-02-19T09:37:43.881Z"
   },
   {
    "duration": 285,
    "start_time": "2025-02-19T09:37:44.247Z"
   },
   {
    "duration": 384,
    "start_time": "2025-02-19T09:37:44.534Z"
   },
   {
    "duration": 4,
    "start_time": "2025-02-19T09:37:44.920Z"
   },
   {
    "duration": 7,
    "start_time": "2025-02-19T09:37:44.926Z"
   },
   {
    "duration": 251,
    "start_time": "2025-02-19T09:37:44.934Z"
   },
   {
    "duration": 5,
    "start_time": "2025-02-19T09:38:35.416Z"
   },
   {
    "duration": 201,
    "start_time": "2025-02-19T09:39:12.287Z"
   },
   {
    "duration": 1256,
    "start_time": "2025-02-19T09:39:47.397Z"
   },
   {
    "duration": 63,
    "start_time": "2025-02-19T09:39:48.655Z"
   },
   {
    "duration": 13,
    "start_time": "2025-02-19T09:39:48.719Z"
   },
   {
    "duration": 19,
    "start_time": "2025-02-19T09:39:48.733Z"
   },
   {
    "duration": 17,
    "start_time": "2025-02-19T09:39:48.755Z"
   },
   {
    "duration": 10,
    "start_time": "2025-02-19T09:39:48.774Z"
   },
   {
    "duration": 8,
    "start_time": "2025-02-19T09:39:48.785Z"
   },
   {
    "duration": 9,
    "start_time": "2025-02-19T09:39:48.795Z"
   },
   {
    "duration": 9,
    "start_time": "2025-02-19T09:39:48.805Z"
   },
   {
    "duration": 9,
    "start_time": "2025-02-19T09:39:48.816Z"
   },
   {
    "duration": 47,
    "start_time": "2025-02-19T09:39:48.827Z"
   },
   {
    "duration": 8,
    "start_time": "2025-02-19T09:39:48.875Z"
   },
   {
    "duration": 9,
    "start_time": "2025-02-19T09:39:48.885Z"
   },
   {
    "duration": 10,
    "start_time": "2025-02-19T09:39:48.897Z"
   },
   {
    "duration": 7,
    "start_time": "2025-02-19T09:39:48.909Z"
   },
   {
    "duration": 51,
    "start_time": "2025-02-19T09:39:48.918Z"
   },
   {
    "duration": 144,
    "start_time": "2025-02-19T09:39:48.971Z"
   },
   {
    "duration": 13,
    "start_time": "2025-02-19T09:39:49.117Z"
   },
   {
    "duration": 31,
    "start_time": "2025-02-19T09:39:49.132Z"
   },
   {
    "duration": 319,
    "start_time": "2025-02-19T09:39:49.165Z"
   },
   {
    "duration": 186,
    "start_time": "2025-02-19T09:39:49.486Z"
   },
   {
    "duration": 149,
    "start_time": "2025-02-19T09:39:49.674Z"
   },
   {
    "duration": 16,
    "start_time": "2025-02-19T09:39:49.824Z"
   },
   {
    "duration": 373,
    "start_time": "2025-02-19T09:39:49.843Z"
   },
   {
    "duration": 276,
    "start_time": "2025-02-19T09:39:50.217Z"
   },
   {
    "duration": 346,
    "start_time": "2025-02-19T09:39:50.495Z"
   },
   {
    "duration": 5,
    "start_time": "2025-02-19T09:39:50.843Z"
   },
   {
    "duration": 5,
    "start_time": "2025-02-19T09:39:50.857Z"
   },
   {
    "duration": 228,
    "start_time": "2025-02-19T09:39:50.864Z"
   },
   {
    "duration": 199,
    "start_time": "2025-02-19T09:44:32.459Z"
   },
   {
    "duration": 277,
    "start_time": "2025-02-19T09:46:25.225Z"
   },
   {
    "duration": 1324,
    "start_time": "2025-02-19T09:48:53.420Z"
   },
   {
    "duration": 63,
    "start_time": "2025-02-19T09:48:54.747Z"
   },
   {
    "duration": 13,
    "start_time": "2025-02-19T09:48:54.811Z"
   },
   {
    "duration": 11,
    "start_time": "2025-02-19T09:48:54.826Z"
   },
   {
    "duration": 9,
    "start_time": "2025-02-19T09:48:54.838Z"
   },
   {
    "duration": 12,
    "start_time": "2025-02-19T09:48:54.848Z"
   },
   {
    "duration": 10,
    "start_time": "2025-02-19T09:48:54.862Z"
   },
   {
    "duration": 10,
    "start_time": "2025-02-19T09:48:54.874Z"
   },
   {
    "duration": 9,
    "start_time": "2025-02-19T09:48:54.885Z"
   },
   {
    "duration": 15,
    "start_time": "2025-02-19T09:48:54.896Z"
   },
   {
    "duration": 45,
    "start_time": "2025-02-19T09:48:54.913Z"
   },
   {
    "duration": 10,
    "start_time": "2025-02-19T09:48:54.961Z"
   },
   {
    "duration": 14,
    "start_time": "2025-02-19T09:48:54.973Z"
   },
   {
    "duration": 15,
    "start_time": "2025-02-19T09:48:54.989Z"
   },
   {
    "duration": 5,
    "start_time": "2025-02-19T09:48:55.007Z"
   },
   {
    "duration": 11,
    "start_time": "2025-02-19T09:48:55.014Z"
   },
   {
    "duration": 148,
    "start_time": "2025-02-19T09:48:55.027Z"
   },
   {
    "duration": 18,
    "start_time": "2025-02-19T09:48:55.177Z"
   },
   {
    "duration": 19,
    "start_time": "2025-02-19T09:48:55.197Z"
   },
   {
    "duration": 334,
    "start_time": "2025-02-19T09:48:55.219Z"
   },
   {
    "duration": 178,
    "start_time": "2025-02-19T09:48:55.557Z"
   },
   {
    "duration": 130,
    "start_time": "2025-02-19T09:48:55.736Z"
   },
   {
    "duration": 12,
    "start_time": "2025-02-19T09:48:55.867Z"
   },
   {
    "duration": 335,
    "start_time": "2025-02-19T09:48:55.880Z"
   },
   {
    "duration": 267,
    "start_time": "2025-02-19T09:48:56.216Z"
   },
   {
    "duration": 322,
    "start_time": "2025-02-19T09:48:56.485Z"
   },
   {
    "duration": 4,
    "start_time": "2025-02-19T09:48:56.809Z"
   },
   {
    "duration": 16,
    "start_time": "2025-02-19T09:48:56.816Z"
   },
   {
    "duration": 189,
    "start_time": "2025-02-19T09:48:56.834Z"
   },
   {
    "duration": 5,
    "start_time": "2025-02-19T09:54:30.003Z"
   },
   {
    "duration": 5,
    "start_time": "2025-02-19T09:54:40.146Z"
   },
   {
    "duration": 5,
    "start_time": "2025-02-19T09:54:56.185Z"
   },
   {
    "duration": 1204,
    "start_time": "2025-02-19T12:50:56.411Z"
   },
   {
    "duration": 63,
    "start_time": "2025-02-19T12:50:57.617Z"
   },
   {
    "duration": 11,
    "start_time": "2025-02-19T12:50:57.682Z"
   },
   {
    "duration": 11,
    "start_time": "2025-02-19T12:50:57.695Z"
   },
   {
    "duration": 8,
    "start_time": "2025-02-19T12:50:57.708Z"
   },
   {
    "duration": 20,
    "start_time": "2025-02-19T12:50:57.718Z"
   },
   {
    "duration": 8,
    "start_time": "2025-02-19T12:50:57.740Z"
   },
   {
    "duration": 14,
    "start_time": "2025-02-19T12:50:57.750Z"
   },
   {
    "duration": 7,
    "start_time": "2025-02-19T12:50:57.766Z"
   },
   {
    "duration": 9,
    "start_time": "2025-02-19T12:50:57.776Z"
   },
   {
    "duration": 20,
    "start_time": "2025-02-19T12:50:57.786Z"
   },
   {
    "duration": 8,
    "start_time": "2025-02-19T12:50:57.808Z"
   },
   {
    "duration": 43,
    "start_time": "2025-02-19T12:50:57.818Z"
   },
   {
    "duration": 9,
    "start_time": "2025-02-19T12:50:57.863Z"
   },
   {
    "duration": 4,
    "start_time": "2025-02-19T12:50:57.874Z"
   },
   {
    "duration": 9,
    "start_time": "2025-02-19T12:50:57.880Z"
   },
   {
    "duration": 146,
    "start_time": "2025-02-19T12:50:57.890Z"
   },
   {
    "duration": 21,
    "start_time": "2025-02-19T12:50:58.037Z"
   },
   {
    "duration": 13,
    "start_time": "2025-02-19T12:50:58.060Z"
   },
   {
    "duration": 302,
    "start_time": "2025-02-19T12:50:58.074Z"
   },
   {
    "duration": 174,
    "start_time": "2025-02-19T12:50:58.378Z"
   },
   {
    "duration": 133,
    "start_time": "2025-02-19T12:50:58.553Z"
   },
   {
    "duration": 12,
    "start_time": "2025-02-19T12:50:58.687Z"
   },
   {
    "duration": 391,
    "start_time": "2025-02-19T12:50:58.700Z"
   },
   {
    "duration": 256,
    "start_time": "2025-02-19T12:50:59.093Z"
   },
   {
    "duration": 350,
    "start_time": "2025-02-19T12:50:59.350Z"
   },
   {
    "duration": 4,
    "start_time": "2025-02-19T12:50:59.701Z"
   },
   {
    "duration": 1454,
    "start_time": "2025-02-19T12:50:59.708Z"
   },
   {
    "duration": 238,
    "start_time": "2025-02-19T12:52:30.361Z"
   },
   {
    "duration": 296,
    "start_time": "2025-02-19T12:57:08.419Z"
   },
   {
    "duration": 3,
    "start_time": "2025-02-19T13:06:59.651Z"
   },
   {
    "duration": 1251,
    "start_time": "2025-02-19T14:10:53.219Z"
   },
   {
    "duration": 63,
    "start_time": "2025-02-19T14:10:54.471Z"
   },
   {
    "duration": 13,
    "start_time": "2025-02-19T14:10:54.536Z"
   },
   {
    "duration": 52,
    "start_time": "2025-02-19T14:10:54.550Z"
   },
   {
    "duration": 57,
    "start_time": "2025-02-19T14:10:54.604Z"
   },
   {
    "duration": 16,
    "start_time": "2025-02-19T14:10:54.663Z"
   },
   {
    "duration": 12,
    "start_time": "2025-02-19T14:10:54.681Z"
   },
   {
    "duration": 20,
    "start_time": "2025-02-19T14:10:54.695Z"
   },
   {
    "duration": 13,
    "start_time": "2025-02-19T14:10:54.717Z"
   },
   {
    "duration": 9,
    "start_time": "2025-02-19T14:10:54.731Z"
   },
   {
    "duration": 27,
    "start_time": "2025-02-19T14:10:54.742Z"
   },
   {
    "duration": 7,
    "start_time": "2025-02-19T14:10:54.771Z"
   },
   {
    "duration": 10,
    "start_time": "2025-02-19T14:10:54.780Z"
   },
   {
    "duration": 9,
    "start_time": "2025-02-19T14:10:54.793Z"
   },
   {
    "duration": 5,
    "start_time": "2025-02-19T14:10:54.803Z"
   },
   {
    "duration": 9,
    "start_time": "2025-02-19T14:10:54.810Z"
   },
   {
    "duration": 155,
    "start_time": "2025-02-19T14:10:54.820Z"
   },
   {
    "duration": 13,
    "start_time": "2025-02-19T14:10:54.976Z"
   },
   {
    "duration": 77,
    "start_time": "2025-02-19T14:10:54.990Z"
   },
   {
    "duration": 319,
    "start_time": "2025-02-19T14:10:55.068Z"
   },
   {
    "duration": 183,
    "start_time": "2025-02-19T14:10:55.388Z"
   },
   {
    "duration": 131,
    "start_time": "2025-02-19T14:10:55.573Z"
   },
   {
    "duration": 12,
    "start_time": "2025-02-19T14:10:55.705Z"
   },
   {
    "duration": 324,
    "start_time": "2025-02-19T14:10:55.718Z"
   },
   {
    "duration": 263,
    "start_time": "2025-02-19T14:10:56.044Z"
   },
   {
    "duration": 336,
    "start_time": "2025-02-19T14:10:56.308Z"
   },
   {
    "duration": 4,
    "start_time": "2025-02-19T14:10:56.645Z"
   },
   {
    "duration": 238,
    "start_time": "2025-02-19T14:10:56.651Z"
   },
   {
    "duration": 105,
    "start_time": "2025-02-19T14:10:56.890Z"
   },
   {
    "duration": 337,
    "start_time": "2025-02-19T14:11:14.238Z"
   },
   {
    "duration": 373,
    "start_time": "2025-02-19T14:12:08.097Z"
   },
   {
    "duration": 323,
    "start_time": "2025-02-19T14:12:57.078Z"
   },
   {
    "duration": 321,
    "start_time": "2025-02-19T14:13:19.271Z"
   },
   {
    "duration": 311,
    "start_time": "2025-02-19T14:16:13.516Z"
   },
   {
    "duration": 336,
    "start_time": "2025-02-19T14:16:43.735Z"
   },
   {
    "duration": 277,
    "start_time": "2025-02-19T14:16:52.493Z"
   },
   {
    "duration": 324,
    "start_time": "2025-02-19T14:19:39.119Z"
   },
   {
    "duration": 311,
    "start_time": "2025-02-19T14:22:02.990Z"
   },
   {
    "duration": 307,
    "start_time": "2025-02-19T14:22:46.469Z"
   },
   {
    "duration": 1543,
    "start_time": "2025-02-19T19:34:16.517Z"
   },
   {
    "duration": 80,
    "start_time": "2025-02-19T19:34:18.062Z"
   },
   {
    "duration": 13,
    "start_time": "2025-02-19T19:34:18.144Z"
   },
   {
    "duration": 12,
    "start_time": "2025-02-19T19:34:18.158Z"
   },
   {
    "duration": 10,
    "start_time": "2025-02-19T19:34:18.173Z"
   },
   {
    "duration": 11,
    "start_time": "2025-02-19T19:34:18.185Z"
   },
   {
    "duration": 12,
    "start_time": "2025-02-19T19:34:18.198Z"
   },
   {
    "duration": 10,
    "start_time": "2025-02-19T19:34:18.212Z"
   },
   {
    "duration": 9,
    "start_time": "2025-02-19T19:34:18.223Z"
   },
   {
    "duration": 43,
    "start_time": "2025-02-19T19:34:18.234Z"
   },
   {
    "duration": 21,
    "start_time": "2025-02-19T19:34:18.279Z"
   },
   {
    "duration": 7,
    "start_time": "2025-02-19T19:34:18.302Z"
   },
   {
    "duration": 8,
    "start_time": "2025-02-19T19:34:18.311Z"
   },
   {
    "duration": 10,
    "start_time": "2025-02-19T19:34:18.322Z"
   },
   {
    "duration": 40,
    "start_time": "2025-02-19T19:34:18.333Z"
   },
   {
    "duration": 10,
    "start_time": "2025-02-19T19:34:18.375Z"
   },
   {
    "duration": 144,
    "start_time": "2025-02-19T19:34:18.386Z"
   },
   {
    "duration": 16,
    "start_time": "2025-02-19T19:34:18.532Z"
   },
   {
    "duration": 27,
    "start_time": "2025-02-19T19:34:18.550Z"
   },
   {
    "duration": 348,
    "start_time": "2025-02-19T19:34:18.579Z"
   },
   {
    "duration": 228,
    "start_time": "2025-02-19T19:34:18.929Z"
   },
   {
    "duration": 148,
    "start_time": "2025-02-19T19:34:19.159Z"
   },
   {
    "duration": 14,
    "start_time": "2025-02-19T19:34:19.309Z"
   },
   {
    "duration": 378,
    "start_time": "2025-02-19T19:34:19.325Z"
   },
   {
    "duration": 273,
    "start_time": "2025-02-19T19:34:19.705Z"
   },
   {
    "duration": 407,
    "start_time": "2025-02-19T19:34:19.980Z"
   },
   {
    "duration": 4,
    "start_time": "2025-02-19T19:34:20.389Z"
   },
   {
    "duration": 266,
    "start_time": "2025-02-19T19:34:20.395Z"
   },
   {
    "duration": 350,
    "start_time": "2025-02-19T19:34:20.662Z"
   },
   {
    "duration": 12,
    "start_time": "2025-02-19T19:34:21.014Z"
   },
   {
    "duration": 1377,
    "start_time": "2025-02-19T19:43:22.154Z"
   },
   {
    "duration": 68,
    "start_time": "2025-02-19T19:43:23.534Z"
   },
   {
    "duration": 13,
    "start_time": "2025-02-19T19:43:23.604Z"
   },
   {
    "duration": 12,
    "start_time": "2025-02-19T19:43:23.619Z"
   },
   {
    "duration": 9,
    "start_time": "2025-02-19T19:43:23.633Z"
   },
   {
    "duration": 12,
    "start_time": "2025-02-19T19:43:23.643Z"
   },
   {
    "duration": 16,
    "start_time": "2025-02-19T19:43:23.657Z"
   },
   {
    "duration": 12,
    "start_time": "2025-02-19T19:43:23.674Z"
   },
   {
    "duration": 13,
    "start_time": "2025-02-19T19:43:23.687Z"
   },
   {
    "duration": 13,
    "start_time": "2025-02-19T19:43:23.703Z"
   },
   {
    "duration": 27,
    "start_time": "2025-02-19T19:43:23.718Z"
   },
   {
    "duration": 27,
    "start_time": "2025-02-19T19:43:23.747Z"
   },
   {
    "duration": 11,
    "start_time": "2025-02-19T19:43:23.776Z"
   },
   {
    "duration": 38,
    "start_time": "2025-02-19T19:43:23.789Z"
   },
   {
    "duration": 5,
    "start_time": "2025-02-19T19:43:23.829Z"
   },
   {
    "duration": 17,
    "start_time": "2025-02-19T19:43:23.837Z"
   },
   {
    "duration": 131,
    "start_time": "2025-02-19T19:43:23.856Z"
   },
   {
    "duration": 16,
    "start_time": "2025-02-19T19:43:23.989Z"
   },
   {
    "duration": 16,
    "start_time": "2025-02-19T19:43:24.007Z"
   },
   {
    "duration": 350,
    "start_time": "2025-02-19T19:43:24.025Z"
   },
   {
    "duration": 199,
    "start_time": "2025-02-19T19:43:24.377Z"
   },
   {
    "duration": 149,
    "start_time": "2025-02-19T19:43:24.579Z"
   },
   {
    "duration": 13,
    "start_time": "2025-02-19T19:43:24.730Z"
   },
   {
    "duration": 362,
    "start_time": "2025-02-19T19:43:24.744Z"
   },
   {
    "duration": 275,
    "start_time": "2025-02-19T19:43:25.107Z"
   },
   {
    "duration": 376,
    "start_time": "2025-02-19T19:43:25.384Z"
   },
   {
    "duration": 14,
    "start_time": "2025-02-19T19:43:25.762Z"
   },
   {
    "duration": 343,
    "start_time": "2025-02-19T19:43:25.779Z"
   },
   {
    "duration": 333,
    "start_time": "2025-02-19T19:43:26.124Z"
   },
   {
    "duration": 17,
    "start_time": "2025-02-19T19:43:26.459Z"
   },
   {
    "duration": 0,
    "start_time": "2025-02-19T19:43:26.478Z"
   },
   {
    "duration": 15,
    "start_time": "2025-02-19T19:45:22.345Z"
   },
   {
    "duration": 10,
    "start_time": "2025-02-19T19:45:36.394Z"
   },
   {
    "duration": 12,
    "start_time": "2025-02-19T19:45:52.105Z"
   },
   {
    "duration": 54,
    "start_time": "2025-02-20T08:22:36.667Z"
   },
   {
    "duration": 7,
    "start_time": "2025-02-20T08:23:12.348Z"
   },
   {
    "duration": 7,
    "start_time": "2025-02-20T08:24:01.885Z"
   },
   {
    "duration": 1540,
    "start_time": "2025-02-20T08:24:11.359Z"
   },
   {
    "duration": 69,
    "start_time": "2025-02-20T08:24:12.902Z"
   },
   {
    "duration": 13,
    "start_time": "2025-02-20T08:24:12.973Z"
   },
   {
    "duration": 28,
    "start_time": "2025-02-20T08:24:12.988Z"
   },
   {
    "duration": 9,
    "start_time": "2025-02-20T08:24:13.019Z"
   },
   {
    "duration": 11,
    "start_time": "2025-02-20T08:24:13.029Z"
   },
   {
    "duration": 8,
    "start_time": "2025-02-20T08:24:13.041Z"
   },
   {
    "duration": 11,
    "start_time": "2025-02-20T08:24:13.051Z"
   },
   {
    "duration": 23,
    "start_time": "2025-02-20T08:24:13.064Z"
   },
   {
    "duration": 10,
    "start_time": "2025-02-20T08:24:13.089Z"
   },
   {
    "duration": 47,
    "start_time": "2025-02-20T08:24:13.101Z"
   },
   {
    "duration": 8,
    "start_time": "2025-02-20T08:24:13.149Z"
   },
   {
    "duration": 9,
    "start_time": "2025-02-20T08:24:13.159Z"
   },
   {
    "duration": 11,
    "start_time": "2025-02-20T08:24:13.171Z"
   },
   {
    "duration": 5,
    "start_time": "2025-02-20T08:24:13.184Z"
   },
   {
    "duration": 50,
    "start_time": "2025-02-20T08:24:13.191Z"
   },
   {
    "duration": 133,
    "start_time": "2025-02-20T08:24:13.242Z"
   },
   {
    "duration": 13,
    "start_time": "2025-02-20T08:24:13.377Z"
   },
   {
    "duration": 14,
    "start_time": "2025-02-20T08:24:13.392Z"
   },
   {
    "duration": 354,
    "start_time": "2025-02-20T08:24:13.408Z"
   },
   {
    "duration": 193,
    "start_time": "2025-02-20T08:24:13.764Z"
   },
   {
    "duration": 140,
    "start_time": "2025-02-20T08:24:13.959Z"
   },
   {
    "duration": 13,
    "start_time": "2025-02-20T08:24:14.101Z"
   },
   {
    "duration": 370,
    "start_time": "2025-02-20T08:24:14.116Z"
   },
   {
    "duration": 280,
    "start_time": "2025-02-20T08:24:14.488Z"
   },
   {
    "duration": 397,
    "start_time": "2025-02-20T08:24:14.770Z"
   },
   {
    "duration": 5,
    "start_time": "2025-02-20T08:24:15.169Z"
   },
   {
    "duration": 258,
    "start_time": "2025-02-20T08:24:15.176Z"
   },
   {
    "duration": 339,
    "start_time": "2025-02-20T08:24:15.436Z"
   },
   {
    "duration": 12,
    "start_time": "2025-02-20T08:24:15.777Z"
   },
   {
    "duration": 13,
    "start_time": "2025-02-20T08:24:15.791Z"
   },
   {
    "duration": 233,
    "start_time": "2025-02-20T08:27:26.493Z"
   },
   {
    "duration": 145,
    "start_time": "2025-02-20T08:29:17.049Z"
   },
   {
    "duration": 175,
    "start_time": "2025-02-20T08:29:51.938Z"
   },
   {
    "duration": 173,
    "start_time": "2025-02-20T08:34:55.856Z"
   },
   {
    "duration": 88,
    "start_time": "2025-02-20T08:49:37.020Z"
   },
   {
    "duration": 178,
    "start_time": "2025-02-20T08:50:43.870Z"
   },
   {
    "duration": 175,
    "start_time": "2025-02-20T08:51:00.082Z"
   },
   {
    "duration": 10,
    "start_time": "2025-02-20T08:52:22.403Z"
   },
   {
    "duration": 11,
    "start_time": "2025-02-20T08:52:36.275Z"
   },
   {
    "duration": 13,
    "start_time": "2025-02-20T08:58:48.589Z"
   },
   {
    "duration": 1359,
    "start_time": "2025-02-20T09:03:56.056Z"
   },
   {
    "duration": 70,
    "start_time": "2025-02-20T09:03:57.417Z"
   },
   {
    "duration": 13,
    "start_time": "2025-02-20T09:03:57.489Z"
   },
   {
    "duration": 45,
    "start_time": "2025-02-20T09:03:57.504Z"
   },
   {
    "duration": 16,
    "start_time": "2025-02-20T09:03:57.551Z"
   },
   {
    "duration": 17,
    "start_time": "2025-02-20T09:03:57.569Z"
   },
   {
    "duration": 19,
    "start_time": "2025-02-20T09:03:57.588Z"
   },
   {
    "duration": 31,
    "start_time": "2025-02-20T09:03:57.609Z"
   },
   {
    "duration": 68,
    "start_time": "2025-02-20T09:03:57.642Z"
   },
   {
    "duration": 22,
    "start_time": "2025-02-20T09:03:57.712Z"
   },
   {
    "duration": 41,
    "start_time": "2025-02-20T09:03:57.736Z"
   },
   {
    "duration": 10,
    "start_time": "2025-02-20T09:03:57.780Z"
   },
   {
    "duration": 10,
    "start_time": "2025-02-20T09:03:57.791Z"
   },
   {
    "duration": 11,
    "start_time": "2025-02-20T09:03:57.803Z"
   },
   {
    "duration": 17,
    "start_time": "2025-02-20T09:03:57.816Z"
   },
   {
    "duration": 22,
    "start_time": "2025-02-20T09:03:57.835Z"
   },
   {
    "duration": 133,
    "start_time": "2025-02-20T09:03:57.859Z"
   },
   {
    "duration": 14,
    "start_time": "2025-02-20T09:03:57.994Z"
   },
   {
    "duration": 27,
    "start_time": "2025-02-20T09:03:58.009Z"
   },
   {
    "duration": 333,
    "start_time": "2025-02-20T09:03:58.038Z"
   },
   {
    "duration": 190,
    "start_time": "2025-02-20T09:03:58.373Z"
   },
   {
    "duration": 144,
    "start_time": "2025-02-20T09:03:58.565Z"
   },
   {
    "duration": 24,
    "start_time": "2025-02-20T09:03:58.711Z"
   },
   {
    "duration": 364,
    "start_time": "2025-02-20T09:03:58.737Z"
   },
   {
    "duration": 297,
    "start_time": "2025-02-20T09:03:59.104Z"
   },
   {
    "duration": 384,
    "start_time": "2025-02-20T09:03:59.403Z"
   },
   {
    "duration": 5,
    "start_time": "2025-02-20T09:03:59.788Z"
   },
   {
    "duration": 266,
    "start_time": "2025-02-20T09:03:59.796Z"
   },
   {
    "duration": 323,
    "start_time": "2025-02-20T09:04:00.064Z"
   },
   {
    "duration": 12,
    "start_time": "2025-02-20T09:04:00.389Z"
   },
   {
    "duration": 297,
    "start_time": "2025-02-20T09:04:00.403Z"
   },
   {
    "duration": 5,
    "start_time": "2025-02-20T09:04:00.701Z"
   },
   {
    "duration": 146,
    "start_time": "2025-02-20T09:21:09.728Z"
   },
   {
    "duration": 166,
    "start_time": "2025-02-20T09:23:52.243Z"
   },
   {
    "duration": 179,
    "start_time": "2025-02-20T09:27:14.640Z"
   },
   {
    "duration": 188,
    "start_time": "2025-02-20T09:27:25.518Z"
   },
   {
    "duration": 5,
    "start_time": "2025-02-20T09:52:46.150Z"
   },
   {
    "duration": 7,
    "start_time": "2025-02-20T09:52:58.824Z"
   },
   {
    "duration": 6,
    "start_time": "2025-02-20T09:53:07.415Z"
   },
   {
    "duration": 6,
    "start_time": "2025-02-20T09:53:14.035Z"
   },
   {
    "duration": 10,
    "start_time": "2025-02-20T09:55:23.539Z"
   },
   {
    "duration": 9,
    "start_time": "2025-02-20T09:59:47.913Z"
   },
   {
    "duration": 6,
    "start_time": "2025-02-20T10:04:38.331Z"
   },
   {
    "duration": 1368,
    "start_time": "2025-02-20T13:49:44.702Z"
   },
   {
    "duration": 81,
    "start_time": "2025-02-20T13:49:46.072Z"
   },
   {
    "duration": 12,
    "start_time": "2025-02-20T13:49:46.155Z"
   },
   {
    "duration": 22,
    "start_time": "2025-02-20T13:49:46.170Z"
   },
   {
    "duration": 11,
    "start_time": "2025-02-20T13:49:46.194Z"
   },
   {
    "duration": 41,
    "start_time": "2025-02-20T13:49:46.207Z"
   },
   {
    "duration": 25,
    "start_time": "2025-02-20T13:49:46.250Z"
   },
   {
    "duration": 15,
    "start_time": "2025-02-20T13:49:46.278Z"
   },
   {
    "duration": 19,
    "start_time": "2025-02-20T13:49:46.295Z"
   },
   {
    "duration": 25,
    "start_time": "2025-02-20T13:49:46.317Z"
   },
   {
    "duration": 24,
    "start_time": "2025-02-20T13:49:46.344Z"
   },
   {
    "duration": 19,
    "start_time": "2025-02-20T13:49:46.370Z"
   },
   {
    "duration": 9,
    "start_time": "2025-02-20T13:49:46.391Z"
   },
   {
    "duration": 31,
    "start_time": "2025-02-20T13:49:46.401Z"
   },
   {
    "duration": 6,
    "start_time": "2025-02-20T13:49:46.434Z"
   },
   {
    "duration": 13,
    "start_time": "2025-02-20T13:49:46.442Z"
   },
   {
    "duration": 144,
    "start_time": "2025-02-20T13:49:46.457Z"
   },
   {
    "duration": 14,
    "start_time": "2025-02-20T13:49:46.604Z"
   },
   {
    "duration": 25,
    "start_time": "2025-02-20T13:49:46.620Z"
   },
   {
    "duration": 335,
    "start_time": "2025-02-20T13:49:46.646Z"
   },
   {
    "duration": 187,
    "start_time": "2025-02-20T13:49:46.982Z"
   },
   {
    "duration": 134,
    "start_time": "2025-02-20T13:49:47.171Z"
   },
   {
    "duration": 14,
    "start_time": "2025-02-20T13:49:47.307Z"
   },
   {
    "duration": 409,
    "start_time": "2025-02-20T13:49:47.334Z"
   },
   {
    "duration": 288,
    "start_time": "2025-02-20T13:49:47.745Z"
   },
   {
    "duration": 359,
    "start_time": "2025-02-20T13:49:48.035Z"
   },
   {
    "duration": 5,
    "start_time": "2025-02-20T13:49:48.396Z"
   },
   {
    "duration": 263,
    "start_time": "2025-02-20T13:49:48.404Z"
   },
   {
    "duration": 319,
    "start_time": "2025-02-20T13:49:48.668Z"
   },
   {
    "duration": 12,
    "start_time": "2025-02-20T13:49:48.988Z"
   },
   {
    "duration": 277,
    "start_time": "2025-02-20T13:49:49.002Z"
   },
   {
    "duration": 5,
    "start_time": "2025-02-20T13:49:49.281Z"
   },
   {
    "duration": 190,
    "start_time": "2025-02-20T13:49:49.288Z"
   },
   {
    "duration": 4,
    "start_time": "2025-02-20T13:49:49.480Z"
   },
   {
    "duration": 124,
    "start_time": "2025-02-20T13:49:49.486Z"
   },
   {
    "duration": 123,
    "start_time": "2025-02-20T13:55:10.909Z"
   },
   {
    "duration": 242,
    "start_time": "2025-02-20T13:55:30.313Z"
   },
   {
    "duration": 237,
    "start_time": "2025-02-20T13:56:02.753Z"
   },
   {
    "duration": 95,
    "start_time": "2025-02-20T15:23:26.217Z"
   },
   {
    "duration": 68,
    "start_time": "2025-02-20T15:23:49.198Z"
   },
   {
    "duration": 147,
    "start_time": "2025-02-20T15:24:24.728Z"
   },
   {
    "duration": 1275,
    "start_time": "2025-02-20T15:24:39.468Z"
   },
   {
    "duration": 69,
    "start_time": "2025-02-20T15:24:40.745Z"
   },
   {
    "duration": 12,
    "start_time": "2025-02-20T15:24:40.815Z"
   },
   {
    "duration": 29,
    "start_time": "2025-02-20T15:24:40.830Z"
   },
   {
    "duration": 19,
    "start_time": "2025-02-20T15:24:40.861Z"
   },
   {
    "duration": 21,
    "start_time": "2025-02-20T15:24:40.881Z"
   },
   {
    "duration": 33,
    "start_time": "2025-02-20T15:24:40.904Z"
   },
   {
    "duration": 14,
    "start_time": "2025-02-20T15:24:40.939Z"
   },
   {
    "duration": 9,
    "start_time": "2025-02-20T15:24:40.954Z"
   },
   {
    "duration": 31,
    "start_time": "2025-02-20T15:24:40.966Z"
   },
   {
    "duration": 22,
    "start_time": "2025-02-20T15:24:40.998Z"
   },
   {
    "duration": 13,
    "start_time": "2025-02-20T15:24:41.022Z"
   },
   {
    "duration": 15,
    "start_time": "2025-02-20T15:24:41.036Z"
   },
   {
    "duration": 12,
    "start_time": "2025-02-20T15:24:41.053Z"
   },
   {
    "duration": 11,
    "start_time": "2025-02-20T15:24:41.066Z"
   },
   {
    "duration": 14,
    "start_time": "2025-02-20T15:24:41.079Z"
   },
   {
    "duration": 138,
    "start_time": "2025-02-20T15:24:41.095Z"
   },
   {
    "duration": 13,
    "start_time": "2025-02-20T15:24:41.235Z"
   },
   {
    "duration": 17,
    "start_time": "2025-02-20T15:24:41.250Z"
   },
   {
    "duration": 315,
    "start_time": "2025-02-20T15:24:41.269Z"
   },
   {
    "duration": 183,
    "start_time": "2025-02-20T15:24:41.586Z"
   },
   {
    "duration": 135,
    "start_time": "2025-02-20T15:24:41.771Z"
   },
   {
    "duration": 26,
    "start_time": "2025-02-20T15:24:41.908Z"
   },
   {
    "duration": 371,
    "start_time": "2025-02-20T15:24:41.935Z"
   },
   {
    "duration": 262,
    "start_time": "2025-02-20T15:24:42.308Z"
   },
   {
    "duration": 324,
    "start_time": "2025-02-20T15:24:42.571Z"
   },
   {
    "duration": 5,
    "start_time": "2025-02-20T15:24:42.897Z"
   },
   {
    "duration": 254,
    "start_time": "2025-02-20T15:24:42.905Z"
   },
   {
    "duration": 316,
    "start_time": "2025-02-20T15:24:43.161Z"
   },
   {
    "duration": 11,
    "start_time": "2025-02-20T15:24:43.479Z"
   },
   {
    "duration": 272,
    "start_time": "2025-02-20T15:24:43.492Z"
   },
   {
    "duration": 6,
    "start_time": "2025-02-20T15:24:43.766Z"
   },
   {
    "duration": 183,
    "start_time": "2025-02-20T15:24:43.774Z"
   },
   {
    "duration": 7,
    "start_time": "2025-02-20T15:24:43.959Z"
   },
   {
    "duration": 238,
    "start_time": "2025-02-20T15:24:43.967Z"
   },
   {
    "duration": 136,
    "start_time": "2025-02-20T15:24:44.208Z"
   },
   {
    "duration": 1330,
    "start_time": "2025-02-20T15:27:12.214Z"
   },
   {
    "duration": 81,
    "start_time": "2025-02-20T15:27:13.546Z"
   },
   {
    "duration": 14,
    "start_time": "2025-02-20T15:27:13.629Z"
   },
   {
    "duration": 11,
    "start_time": "2025-02-20T15:27:13.645Z"
   },
   {
    "duration": 22,
    "start_time": "2025-02-20T15:27:13.659Z"
   },
   {
    "duration": 22,
    "start_time": "2025-02-20T15:27:13.683Z"
   },
   {
    "duration": 10,
    "start_time": "2025-02-20T15:27:13.707Z"
   },
   {
    "duration": 24,
    "start_time": "2025-02-20T15:27:13.719Z"
   },
   {
    "duration": 29,
    "start_time": "2025-02-20T15:27:13.745Z"
   },
   {
    "duration": 9,
    "start_time": "2025-02-20T15:27:13.776Z"
   },
   {
    "duration": 23,
    "start_time": "2025-02-20T15:27:13.787Z"
   },
   {
    "duration": 25,
    "start_time": "2025-02-20T15:27:13.812Z"
   },
   {
    "duration": 16,
    "start_time": "2025-02-20T15:27:13.839Z"
   },
   {
    "duration": 9,
    "start_time": "2025-02-20T15:27:13.858Z"
   },
   {
    "duration": 10,
    "start_time": "2025-02-20T15:27:13.869Z"
   },
   {
    "duration": 11,
    "start_time": "2025-02-20T15:27:13.880Z"
   },
   {
    "duration": 140,
    "start_time": "2025-02-20T15:27:13.892Z"
   },
   {
    "duration": 12,
    "start_time": "2025-02-20T15:27:14.034Z"
   },
   {
    "duration": 13,
    "start_time": "2025-02-20T15:27:14.048Z"
   },
   {
    "duration": 313,
    "start_time": "2025-02-20T15:27:14.063Z"
   },
   {
    "duration": 175,
    "start_time": "2025-02-20T15:27:14.377Z"
   },
   {
    "duration": 136,
    "start_time": "2025-02-20T15:27:14.554Z"
   },
   {
    "duration": 13,
    "start_time": "2025-02-20T15:27:14.691Z"
   },
   {
    "duration": 337,
    "start_time": "2025-02-20T15:27:14.705Z"
   },
   {
    "duration": 258,
    "start_time": "2025-02-20T15:27:15.044Z"
   },
   {
    "duration": 370,
    "start_time": "2025-02-20T15:27:15.304Z"
   },
   {
    "duration": 4,
    "start_time": "2025-02-20T15:27:15.676Z"
   },
   {
    "duration": 250,
    "start_time": "2025-02-20T15:27:15.682Z"
   },
   {
    "duration": 338,
    "start_time": "2025-02-20T15:27:15.934Z"
   },
   {
    "duration": 11,
    "start_time": "2025-02-20T15:27:16.273Z"
   },
   {
    "duration": 263,
    "start_time": "2025-02-20T15:27:16.286Z"
   },
   {
    "duration": 6,
    "start_time": "2025-02-20T15:27:16.551Z"
   },
   {
    "duration": 180,
    "start_time": "2025-02-20T15:27:16.559Z"
   },
   {
    "duration": 6,
    "start_time": "2025-02-20T15:27:16.741Z"
   },
   {
    "duration": 233,
    "start_time": "2025-02-20T15:27:16.749Z"
   },
   {
    "duration": 134,
    "start_time": "2025-02-20T15:27:16.984Z"
   },
   {
    "duration": 122,
    "start_time": "2025-02-20T15:30:31.262Z"
   },
   {
    "duration": 136,
    "start_time": "2025-02-20T15:30:44.021Z"
   },
   {
    "duration": 1288,
    "start_time": "2025-02-20T15:30:53.961Z"
   },
   {
    "duration": 69,
    "start_time": "2025-02-20T15:30:55.251Z"
   },
   {
    "duration": 12,
    "start_time": "2025-02-20T15:30:55.322Z"
   },
   {
    "duration": 23,
    "start_time": "2025-02-20T15:30:55.336Z"
   },
   {
    "duration": 21,
    "start_time": "2025-02-20T15:30:55.361Z"
   },
   {
    "duration": 34,
    "start_time": "2025-02-20T15:30:55.383Z"
   },
   {
    "duration": 18,
    "start_time": "2025-02-20T15:30:55.419Z"
   },
   {
    "duration": 21,
    "start_time": "2025-02-20T15:30:55.439Z"
   },
   {
    "duration": 14,
    "start_time": "2025-02-20T15:30:55.462Z"
   },
   {
    "duration": 20,
    "start_time": "2025-02-20T15:30:55.478Z"
   },
   {
    "duration": 32,
    "start_time": "2025-02-20T15:30:55.500Z"
   },
   {
    "duration": 7,
    "start_time": "2025-02-20T15:30:55.534Z"
   },
   {
    "duration": 7,
    "start_time": "2025-02-20T15:30:55.543Z"
   },
   {
    "duration": 10,
    "start_time": "2025-02-20T15:30:55.553Z"
   },
   {
    "duration": 11,
    "start_time": "2025-02-20T15:30:55.565Z"
   },
   {
    "duration": 19,
    "start_time": "2025-02-20T15:30:55.577Z"
   },
   {
    "duration": 140,
    "start_time": "2025-02-20T15:30:55.598Z"
   },
   {
    "duration": 14,
    "start_time": "2025-02-20T15:30:55.739Z"
   },
   {
    "duration": 20,
    "start_time": "2025-02-20T15:30:55.755Z"
   },
   {
    "duration": 334,
    "start_time": "2025-02-20T15:30:55.776Z"
   },
   {
    "duration": 191,
    "start_time": "2025-02-20T15:30:56.111Z"
   },
   {
    "duration": 139,
    "start_time": "2025-02-20T15:30:56.303Z"
   },
   {
    "duration": 12,
    "start_time": "2025-02-20T15:30:56.444Z"
   },
   {
    "duration": 341,
    "start_time": "2025-02-20T15:30:56.457Z"
   },
   {
    "duration": 266,
    "start_time": "2025-02-20T15:30:56.800Z"
   },
   {
    "duration": 327,
    "start_time": "2025-02-20T15:30:57.068Z"
   },
   {
    "duration": 5,
    "start_time": "2025-02-20T15:30:57.397Z"
   },
   {
    "duration": 275,
    "start_time": "2025-02-20T15:30:57.404Z"
   },
   {
    "duration": 346,
    "start_time": "2025-02-20T15:30:57.681Z"
   },
   {
    "duration": 11,
    "start_time": "2025-02-20T15:30:58.032Z"
   },
   {
    "duration": 258,
    "start_time": "2025-02-20T15:30:58.045Z"
   },
   {
    "duration": 6,
    "start_time": "2025-02-20T15:30:58.305Z"
   },
   {
    "duration": 176,
    "start_time": "2025-02-20T15:30:58.313Z"
   },
   {
    "duration": 6,
    "start_time": "2025-02-20T15:30:58.491Z"
   },
   {
    "duration": 230,
    "start_time": "2025-02-20T15:30:58.498Z"
   },
   {
    "duration": 155,
    "start_time": "2025-02-20T15:30:58.733Z"
   },
   {
    "duration": 131,
    "start_time": "2025-02-20T15:31:09.222Z"
   },
   {
    "duration": 828,
    "start_time": "2025-02-20T15:33:50.485Z"
   },
   {
    "duration": 68,
    "start_time": "2025-02-20T15:33:51.315Z"
   },
   {
    "duration": 15,
    "start_time": "2025-02-20T15:33:51.385Z"
   },
   {
    "duration": 24,
    "start_time": "2025-02-20T15:33:51.403Z"
   },
   {
    "duration": 13,
    "start_time": "2025-02-20T15:33:51.429Z"
   },
   {
    "duration": 19,
    "start_time": "2025-02-20T15:33:51.444Z"
   },
   {
    "duration": 18,
    "start_time": "2025-02-20T15:33:51.465Z"
   },
   {
    "duration": 16,
    "start_time": "2025-02-20T15:33:51.485Z"
   },
   {
    "duration": 10,
    "start_time": "2025-02-20T15:33:51.503Z"
   },
   {
    "duration": 19,
    "start_time": "2025-02-20T15:33:51.517Z"
   },
   {
    "duration": 20,
    "start_time": "2025-02-20T15:33:51.538Z"
   },
   {
    "duration": 18,
    "start_time": "2025-02-20T15:33:51.559Z"
   },
   {
    "duration": 24,
    "start_time": "2025-02-20T15:33:51.579Z"
   },
   {
    "duration": 31,
    "start_time": "2025-02-20T15:33:51.605Z"
   },
   {
    "duration": 9,
    "start_time": "2025-02-20T15:33:51.637Z"
   },
   {
    "duration": 33,
    "start_time": "2025-02-20T15:33:51.648Z"
   },
   {
    "duration": 119,
    "start_time": "2025-02-20T15:33:51.683Z"
   },
   {
    "duration": 28,
    "start_time": "2025-02-20T15:33:51.804Z"
   },
   {
    "duration": 15,
    "start_time": "2025-02-20T15:33:51.834Z"
   },
   {
    "duration": 601,
    "start_time": "2025-02-20T15:33:51.850Z"
   },
   {
    "duration": 0,
    "start_time": "2025-02-20T15:33:52.453Z"
   },
   {
    "duration": 0,
    "start_time": "2025-02-20T15:33:52.455Z"
   },
   {
    "duration": 0,
    "start_time": "2025-02-20T15:33:52.457Z"
   },
   {
    "duration": 0,
    "start_time": "2025-02-20T15:33:52.458Z"
   },
   {
    "duration": 0,
    "start_time": "2025-02-20T15:33:52.460Z"
   },
   {
    "duration": 0,
    "start_time": "2025-02-20T15:33:52.461Z"
   },
   {
    "duration": 0,
    "start_time": "2025-02-20T15:33:52.463Z"
   },
   {
    "duration": 0,
    "start_time": "2025-02-20T15:33:52.464Z"
   },
   {
    "duration": 0,
    "start_time": "2025-02-20T15:33:52.466Z"
   },
   {
    "duration": 0,
    "start_time": "2025-02-20T15:33:52.467Z"
   },
   {
    "duration": 0,
    "start_time": "2025-02-20T15:33:52.469Z"
   },
   {
    "duration": 0,
    "start_time": "2025-02-20T15:33:52.470Z"
   },
   {
    "duration": 0,
    "start_time": "2025-02-20T15:33:52.472Z"
   },
   {
    "duration": 0,
    "start_time": "2025-02-20T15:33:52.473Z"
   },
   {
    "duration": 0,
    "start_time": "2025-02-20T15:33:52.475Z"
   },
   {
    "duration": 0,
    "start_time": "2025-02-20T15:33:52.476Z"
   },
   {
    "duration": 1068,
    "start_time": "2025-02-20T15:34:56.435Z"
   },
   {
    "duration": 139,
    "start_time": "2025-02-20T15:34:57.505Z"
   },
   {
    "duration": 12,
    "start_time": "2025-02-20T15:34:57.645Z"
   },
   {
    "duration": 14,
    "start_time": "2025-02-20T15:34:57.659Z"
   },
   {
    "duration": 15,
    "start_time": "2025-02-20T15:34:57.675Z"
   },
   {
    "duration": 15,
    "start_time": "2025-02-20T15:34:57.692Z"
   },
   {
    "duration": 9,
    "start_time": "2025-02-20T15:34:57.709Z"
   },
   {
    "duration": 24,
    "start_time": "2025-02-20T15:34:57.719Z"
   },
   {
    "duration": 20,
    "start_time": "2025-02-20T15:34:57.745Z"
   },
   {
    "duration": 17,
    "start_time": "2025-02-20T15:34:57.767Z"
   },
   {
    "duration": 21,
    "start_time": "2025-02-20T15:34:57.786Z"
   },
   {
    "duration": 28,
    "start_time": "2025-02-20T15:34:57.809Z"
   },
   {
    "duration": 9,
    "start_time": "2025-02-20T15:34:57.839Z"
   },
   {
    "duration": 21,
    "start_time": "2025-02-20T15:34:57.851Z"
   },
   {
    "duration": 8,
    "start_time": "2025-02-20T15:34:57.874Z"
   },
   {
    "duration": 18,
    "start_time": "2025-02-20T15:34:57.884Z"
   },
   {
    "duration": 130,
    "start_time": "2025-02-20T15:34:57.904Z"
   },
   {
    "duration": 15,
    "start_time": "2025-02-20T15:34:58.036Z"
   },
   {
    "duration": 14,
    "start_time": "2025-02-20T15:34:58.052Z"
   },
   {
    "duration": 319,
    "start_time": "2025-02-20T15:34:58.068Z"
   },
   {
    "duration": 179,
    "start_time": "2025-02-20T15:34:58.389Z"
   },
   {
    "duration": 136,
    "start_time": "2025-02-20T15:34:58.570Z"
   },
   {
    "duration": 25,
    "start_time": "2025-02-20T15:34:58.708Z"
   },
   {
    "duration": 329,
    "start_time": "2025-02-20T15:34:58.735Z"
   },
   {
    "duration": 266,
    "start_time": "2025-02-20T15:34:59.066Z"
   },
   {
    "duration": 343,
    "start_time": "2025-02-20T15:34:59.334Z"
   },
   {
    "duration": 4,
    "start_time": "2025-02-20T15:34:59.679Z"
   },
   {
    "duration": 247,
    "start_time": "2025-02-20T15:34:59.685Z"
   },
   {
    "duration": 329,
    "start_time": "2025-02-20T15:34:59.934Z"
   },
   {
    "duration": 13,
    "start_time": "2025-02-20T15:35:00.265Z"
   },
   {
    "duration": 265,
    "start_time": "2025-02-20T15:35:00.284Z"
   },
   {
    "duration": 5,
    "start_time": "2025-02-20T15:35:00.551Z"
   },
   {
    "duration": 210,
    "start_time": "2025-02-20T15:35:00.558Z"
   },
   {
    "duration": 6,
    "start_time": "2025-02-20T15:35:00.769Z"
   },
   {
    "duration": 241,
    "start_time": "2025-02-20T15:35:00.776Z"
   },
   {
    "duration": 159,
    "start_time": "2025-02-20T15:35:01.019Z"
   },
   {
    "duration": 159,
    "start_time": "2025-02-20T15:42:58.718Z"
   },
   {
    "duration": 6,
    "start_time": "2025-02-20T15:44:16.114Z"
   },
   {
    "duration": 149,
    "start_time": "2025-02-20T15:44:24.306Z"
   },
   {
    "duration": 152,
    "start_time": "2025-02-20T15:44:42.469Z"
   },
   {
    "duration": 10,
    "start_time": "2025-02-20T16:33:05.427Z"
   },
   {
    "duration": 10,
    "start_time": "2025-02-20T16:33:50.648Z"
   },
   {
    "duration": 1036,
    "start_time": "2025-02-20T16:42:39.359Z"
   },
   {
    "duration": 115,
    "start_time": "2025-02-20T16:42:40.396Z"
   },
   {
    "duration": 12,
    "start_time": "2025-02-20T16:42:40.512Z"
   },
   {
    "duration": 14,
    "start_time": "2025-02-20T16:42:40.526Z"
   },
   {
    "duration": 19,
    "start_time": "2025-02-20T16:42:40.542Z"
   },
   {
    "duration": 10,
    "start_time": "2025-02-20T16:42:40.562Z"
   },
   {
    "duration": 8,
    "start_time": "2025-02-20T16:42:40.573Z"
   },
   {
    "duration": 16,
    "start_time": "2025-02-20T16:42:40.582Z"
   },
   {
    "duration": 10,
    "start_time": "2025-02-20T16:42:40.599Z"
   },
   {
    "duration": 25,
    "start_time": "2025-02-20T16:42:40.612Z"
   },
   {
    "duration": 20,
    "start_time": "2025-02-20T16:42:40.639Z"
   },
   {
    "duration": 7,
    "start_time": "2025-02-20T16:42:40.661Z"
   },
   {
    "duration": 10,
    "start_time": "2025-02-20T16:42:40.670Z"
   },
   {
    "duration": 13,
    "start_time": "2025-02-20T16:42:40.682Z"
   },
   {
    "duration": 38,
    "start_time": "2025-02-20T16:42:40.696Z"
   },
   {
    "duration": 9,
    "start_time": "2025-02-20T16:42:40.736Z"
   },
   {
    "duration": 126,
    "start_time": "2025-02-20T16:42:40.746Z"
   },
   {
    "duration": 13,
    "start_time": "2025-02-20T16:42:40.874Z"
   },
   {
    "duration": 15,
    "start_time": "2025-02-20T16:42:40.888Z"
   },
   {
    "duration": 309,
    "start_time": "2025-02-20T16:42:40.904Z"
   },
   {
    "duration": 178,
    "start_time": "2025-02-20T16:42:41.214Z"
   },
   {
    "duration": 140,
    "start_time": "2025-02-20T16:42:41.393Z"
   },
   {
    "duration": 13,
    "start_time": "2025-02-20T16:42:41.535Z"
   },
   {
    "duration": 336,
    "start_time": "2025-02-20T16:42:41.549Z"
   },
   {
    "duration": 257,
    "start_time": "2025-02-20T16:42:41.887Z"
   },
   {
    "duration": 340,
    "start_time": "2025-02-20T16:42:42.147Z"
   },
   {
    "duration": 5,
    "start_time": "2025-02-20T16:42:42.489Z"
   },
   {
    "duration": 246,
    "start_time": "2025-02-20T16:42:42.497Z"
   },
   {
    "duration": 322,
    "start_time": "2025-02-20T16:42:42.745Z"
   },
   {
    "duration": 11,
    "start_time": "2025-02-20T16:42:43.069Z"
   },
   {
    "duration": 175,
    "start_time": "2025-02-20T16:42:43.081Z"
   },
   {
    "duration": 6,
    "start_time": "2025-02-20T16:42:43.258Z"
   },
   {
    "duration": 181,
    "start_time": "2025-02-20T16:42:43.265Z"
   },
   {
    "duration": 5,
    "start_time": "2025-02-20T16:42:43.447Z"
   },
   {
    "duration": 243,
    "start_time": "2025-02-20T16:42:43.454Z"
   },
   {
    "duration": 171,
    "start_time": "2025-02-20T16:42:43.698Z"
   },
   {
    "duration": 10,
    "start_time": "2025-02-20T16:42:43.871Z"
   },
   {
    "duration": 1201,
    "start_time": "2025-02-20T18:57:53.144Z"
   },
   {
    "duration": 143,
    "start_time": "2025-02-20T18:57:54.347Z"
   },
   {
    "duration": 11,
    "start_time": "2025-02-20T18:57:54.492Z"
   },
   {
    "duration": 13,
    "start_time": "2025-02-20T18:57:54.505Z"
   },
   {
    "duration": 10,
    "start_time": "2025-02-20T18:57:54.521Z"
   },
   {
    "duration": 12,
    "start_time": "2025-02-20T18:57:54.533Z"
   },
   {
    "duration": 9,
    "start_time": "2025-02-20T18:57:54.547Z"
   },
   {
    "duration": 28,
    "start_time": "2025-02-20T18:57:54.558Z"
   },
   {
    "duration": 12,
    "start_time": "2025-02-20T18:57:54.588Z"
   },
   {
    "duration": 13,
    "start_time": "2025-02-20T18:57:54.601Z"
   },
   {
    "duration": 38,
    "start_time": "2025-02-20T18:57:54.615Z"
   },
   {
    "duration": 7,
    "start_time": "2025-02-20T18:57:54.655Z"
   },
   {
    "duration": 9,
    "start_time": "2025-02-20T18:57:54.664Z"
   },
   {
    "duration": 10,
    "start_time": "2025-02-20T18:57:54.676Z"
   },
   {
    "duration": 6,
    "start_time": "2025-02-20T18:57:54.688Z"
   },
   {
    "duration": 47,
    "start_time": "2025-02-20T18:57:54.695Z"
   },
   {
    "duration": 137,
    "start_time": "2025-02-20T18:57:54.744Z"
   },
   {
    "duration": 13,
    "start_time": "2025-02-20T18:57:54.883Z"
   },
   {
    "duration": 12,
    "start_time": "2025-02-20T18:57:54.898Z"
   },
   {
    "duration": 343,
    "start_time": "2025-02-20T18:57:54.912Z"
   },
   {
    "duration": 193,
    "start_time": "2025-02-20T18:57:55.257Z"
   },
   {
    "duration": 155,
    "start_time": "2025-02-20T18:57:55.452Z"
   },
   {
    "duration": 25,
    "start_time": "2025-02-20T18:57:55.609Z"
   },
   {
    "duration": 348,
    "start_time": "2025-02-20T18:57:55.636Z"
   },
   {
    "duration": 289,
    "start_time": "2025-02-20T18:57:55.985Z"
   },
   {
    "duration": 349,
    "start_time": "2025-02-20T18:57:56.276Z"
   },
   {
    "duration": 7,
    "start_time": "2025-02-20T18:57:56.626Z"
   },
   {
    "duration": 258,
    "start_time": "2025-02-20T18:57:56.635Z"
   },
   {
    "duration": 369,
    "start_time": "2025-02-20T18:57:56.895Z"
   },
   {
    "duration": 12,
    "start_time": "2025-02-20T18:57:57.266Z"
   },
   {
    "duration": 206,
    "start_time": "2025-02-20T18:57:57.279Z"
   },
   {
    "duration": 6,
    "start_time": "2025-02-20T18:57:57.487Z"
   },
   {
    "duration": 229,
    "start_time": "2025-02-20T18:57:57.494Z"
   },
   {
    "duration": 10,
    "start_time": "2025-02-20T18:57:57.725Z"
   },
   {
    "duration": 281,
    "start_time": "2025-02-20T18:57:57.737Z"
   },
   {
    "duration": 190,
    "start_time": "2025-02-20T18:57:58.020Z"
   },
   {
    "duration": 24,
    "start_time": "2025-02-20T18:57:58.212Z"
   },
   {
    "duration": 1435,
    "start_time": "2025-02-20T18:57:58.238Z"
   },
   {
    "duration": 10,
    "start_time": "2025-02-20T18:58:06.465Z"
   },
   {
    "duration": 10,
    "start_time": "2025-02-20T18:58:13.688Z"
   },
   {
    "duration": 11,
    "start_time": "2025-02-20T18:58:27.718Z"
   },
   {
    "duration": 14,
    "start_time": "2025-02-20T19:05:55.104Z"
   },
   {
    "duration": 8,
    "start_time": "2025-02-20T19:06:08.571Z"
   },
   {
    "duration": 14,
    "start_time": "2025-02-20T19:06:16.046Z"
   },
   {
    "duration": 30,
    "start_time": "2025-02-20T19:07:05.617Z"
   },
   {
    "duration": 33,
    "start_time": "2025-02-20T19:08:15.648Z"
   },
   {
    "duration": 15,
    "start_time": "2025-02-20T19:28:03.197Z"
   },
   {
    "duration": 15,
    "start_time": "2025-02-20T19:28:37.650Z"
   },
   {
    "duration": 2,
    "start_time": "2025-02-20T19:44:38.745Z"
   },
   {
    "duration": 1162,
    "start_time": "2025-02-20T20:28:18.433Z"
   },
   {
    "duration": 141,
    "start_time": "2025-02-20T20:28:19.597Z"
   },
   {
    "duration": 16,
    "start_time": "2025-02-20T20:28:19.740Z"
   },
   {
    "duration": 12,
    "start_time": "2025-02-20T20:28:19.757Z"
   },
   {
    "duration": 14,
    "start_time": "2025-02-20T20:28:19.771Z"
   },
   {
    "duration": 13,
    "start_time": "2025-02-20T20:28:19.786Z"
   },
   {
    "duration": 10,
    "start_time": "2025-02-20T20:28:19.801Z"
   },
   {
    "duration": 18,
    "start_time": "2025-02-20T20:28:19.838Z"
   },
   {
    "duration": 29,
    "start_time": "2025-02-20T20:28:19.858Z"
   },
   {
    "duration": 11,
    "start_time": "2025-02-20T20:28:19.888Z"
   },
   {
    "duration": 34,
    "start_time": "2025-02-20T20:28:19.901Z"
   },
   {
    "duration": 9,
    "start_time": "2025-02-20T20:28:19.941Z"
   },
   {
    "duration": 8,
    "start_time": "2025-02-20T20:28:19.952Z"
   },
   {
    "duration": 11,
    "start_time": "2025-02-20T20:28:19.963Z"
   },
   {
    "duration": 4,
    "start_time": "2025-02-20T20:28:19.976Z"
   },
   {
    "duration": 12,
    "start_time": "2025-02-20T20:28:19.982Z"
   },
   {
    "duration": 158,
    "start_time": "2025-02-20T20:28:19.995Z"
   },
   {
    "duration": 14,
    "start_time": "2025-02-20T20:28:20.154Z"
   },
   {
    "duration": 26,
    "start_time": "2025-02-20T20:28:20.170Z"
   },
   {
    "duration": 349,
    "start_time": "2025-02-20T20:28:20.198Z"
   },
   {
    "duration": 197,
    "start_time": "2025-02-20T20:28:20.549Z"
   },
   {
    "duration": 152,
    "start_time": "2025-02-20T20:28:20.748Z"
   },
   {
    "duration": 14,
    "start_time": "2025-02-20T20:28:20.903Z"
   },
   {
    "duration": 366,
    "start_time": "2025-02-20T20:28:20.933Z"
   },
   {
    "duration": 290,
    "start_time": "2025-02-20T20:28:21.301Z"
   },
   {
    "duration": 410,
    "start_time": "2025-02-20T20:28:21.593Z"
   },
   {
    "duration": 4,
    "start_time": "2025-02-20T20:28:22.004Z"
   },
   {
    "duration": 274,
    "start_time": "2025-02-20T20:28:22.010Z"
   },
   {
    "duration": 389,
    "start_time": "2025-02-20T20:28:22.286Z"
   },
   {
    "duration": 12,
    "start_time": "2025-02-20T20:28:22.677Z"
   },
   {
    "duration": 204,
    "start_time": "2025-02-20T20:28:22.691Z"
   },
   {
    "duration": 5,
    "start_time": "2025-02-20T20:28:22.897Z"
   },
   {
    "duration": 197,
    "start_time": "2025-02-20T20:28:22.904Z"
   },
   {
    "duration": 5,
    "start_time": "2025-02-20T20:28:23.102Z"
   },
   {
    "duration": 256,
    "start_time": "2025-02-20T20:28:23.109Z"
   },
   {
    "duration": 171,
    "start_time": "2025-02-20T20:28:23.366Z"
   },
   {
    "duration": 21,
    "start_time": "2025-02-20T20:28:23.539Z"
   },
   {
    "duration": 12,
    "start_time": "2025-02-20T20:28:23.562Z"
   },
   {
    "duration": 31,
    "start_time": "2025-02-20T20:28:23.575Z"
   },
   {
    "duration": 40,
    "start_time": "2025-02-20T20:28:23.608Z"
   },
   {
    "duration": 1093,
    "start_time": "2025-02-20T21:25:03.837Z"
   },
   {
    "duration": 139,
    "start_time": "2025-02-20T21:25:04.932Z"
   },
   {
    "duration": 12,
    "start_time": "2025-02-20T21:25:05.073Z"
   },
   {
    "duration": 27,
    "start_time": "2025-02-20T21:25:05.087Z"
   },
   {
    "duration": 14,
    "start_time": "2025-02-20T21:25:05.116Z"
   },
   {
    "duration": 37,
    "start_time": "2025-02-20T21:25:05.132Z"
   },
   {
    "duration": 18,
    "start_time": "2025-02-20T21:25:05.171Z"
   },
   {
    "duration": 15,
    "start_time": "2025-02-20T21:25:05.190Z"
   },
   {
    "duration": 22,
    "start_time": "2025-02-20T21:25:05.207Z"
   },
   {
    "duration": 8,
    "start_time": "2025-02-20T21:25:05.232Z"
   },
   {
    "duration": 47,
    "start_time": "2025-02-20T21:25:05.241Z"
   },
   {
    "duration": 7,
    "start_time": "2025-02-20T21:25:05.290Z"
   },
   {
    "duration": 29,
    "start_time": "2025-02-20T21:25:05.299Z"
   },
   {
    "duration": 11,
    "start_time": "2025-02-20T21:25:05.329Z"
   },
   {
    "duration": 17,
    "start_time": "2025-02-20T21:25:05.341Z"
   },
   {
    "duration": 40,
    "start_time": "2025-02-20T21:25:05.360Z"
   },
   {
    "duration": 125,
    "start_time": "2025-02-20T21:25:05.402Z"
   },
   {
    "duration": 12,
    "start_time": "2025-02-20T21:25:05.529Z"
   },
   {
    "duration": 29,
    "start_time": "2025-02-20T21:25:05.543Z"
   },
   {
    "duration": 312,
    "start_time": "2025-02-20T21:25:05.573Z"
   },
   {
    "duration": 181,
    "start_time": "2025-02-20T21:25:05.887Z"
   },
   {
    "duration": 131,
    "start_time": "2025-02-20T21:25:06.070Z"
   },
   {
    "duration": 12,
    "start_time": "2025-02-20T21:25:06.202Z"
   },
   {
    "duration": 324,
    "start_time": "2025-02-20T21:25:06.216Z"
   },
   {
    "duration": 247,
    "start_time": "2025-02-20T21:25:06.542Z"
   },
   {
    "duration": 319,
    "start_time": "2025-02-20T21:25:06.790Z"
   },
   {
    "duration": 4,
    "start_time": "2025-02-20T21:25:07.111Z"
   },
   {
    "duration": 251,
    "start_time": "2025-02-20T21:25:07.118Z"
   },
   {
    "duration": 315,
    "start_time": "2025-02-20T21:25:07.371Z"
   },
   {
    "duration": 12,
    "start_time": "2025-02-20T21:25:07.688Z"
   },
   {
    "duration": 186,
    "start_time": "2025-02-20T21:25:07.702Z"
   },
   {
    "duration": 6,
    "start_time": "2025-02-20T21:25:07.889Z"
   },
   {
    "duration": 197,
    "start_time": "2025-02-20T21:25:07.896Z"
   },
   {
    "duration": 5,
    "start_time": "2025-02-20T21:25:08.095Z"
   },
   {
    "duration": 234,
    "start_time": "2025-02-20T21:25:08.101Z"
   },
   {
    "duration": 142,
    "start_time": "2025-02-20T21:25:08.337Z"
   },
   {
    "duration": 9,
    "start_time": "2025-02-20T21:25:08.481Z"
   },
   {
    "duration": 23,
    "start_time": "2025-02-20T21:25:08.492Z"
   },
   {
    "duration": 29,
    "start_time": "2025-02-20T21:25:08.516Z"
   },
   {
    "duration": 22,
    "start_time": "2025-02-20T21:25:08.547Z"
   },
   {
    "duration": 1250,
    "start_time": "2025-02-24T12:22:19.186Z"
   },
   {
    "duration": 141,
    "start_time": "2025-02-24T12:22:20.438Z"
   },
   {
    "duration": 12,
    "start_time": "2025-02-24T12:22:20.581Z"
   },
   {
    "duration": 16,
    "start_time": "2025-02-24T12:22:20.594Z"
   },
   {
    "duration": 19,
    "start_time": "2025-02-24T12:22:20.612Z"
   },
   {
    "duration": 29,
    "start_time": "2025-02-24T12:22:20.632Z"
   },
   {
    "duration": 16,
    "start_time": "2025-02-24T12:22:20.662Z"
   },
   {
    "duration": 27,
    "start_time": "2025-02-24T12:22:20.679Z"
   },
   {
    "duration": 17,
    "start_time": "2025-02-24T12:22:20.707Z"
   },
   {
    "duration": 29,
    "start_time": "2025-02-24T12:22:20.725Z"
   },
   {
    "duration": 34,
    "start_time": "2025-02-24T12:22:20.755Z"
   },
   {
    "duration": 18,
    "start_time": "2025-02-24T12:22:20.791Z"
   },
   {
    "duration": 26,
    "start_time": "2025-02-24T12:22:20.810Z"
   },
   {
    "duration": 43,
    "start_time": "2025-02-24T12:22:20.839Z"
   },
   {
    "duration": 5,
    "start_time": "2025-02-24T12:22:20.883Z"
   },
   {
    "duration": 10,
    "start_time": "2025-02-24T12:22:20.890Z"
   },
   {
    "duration": 112,
    "start_time": "2025-02-24T12:22:20.901Z"
   },
   {
    "duration": 13,
    "start_time": "2025-02-24T12:22:21.014Z"
   },
   {
    "duration": 19,
    "start_time": "2025-02-24T12:22:21.028Z"
   },
   {
    "duration": 321,
    "start_time": "2025-02-24T12:22:21.049Z"
   },
   {
    "duration": 181,
    "start_time": "2025-02-24T12:22:21.372Z"
   },
   {
    "duration": 129,
    "start_time": "2025-02-24T12:22:21.555Z"
   },
   {
    "duration": 25,
    "start_time": "2025-02-24T12:22:21.686Z"
   },
   {
    "duration": 327,
    "start_time": "2025-02-24T12:22:21.712Z"
   },
   {
    "duration": 263,
    "start_time": "2025-02-24T12:22:22.040Z"
   },
   {
    "duration": 393,
    "start_time": "2025-02-24T12:22:22.305Z"
   },
   {
    "duration": 3,
    "start_time": "2025-02-24T12:22:22.700Z"
   },
   {
    "duration": 232,
    "start_time": "2025-02-24T12:22:22.708Z"
   },
   {
    "duration": 318,
    "start_time": "2025-02-24T12:22:22.941Z"
   },
   {
    "duration": 11,
    "start_time": "2025-02-24T12:22:23.261Z"
   },
   {
    "duration": 236,
    "start_time": "2025-02-24T12:22:23.274Z"
   },
   {
    "duration": 6,
    "start_time": "2025-02-24T12:22:23.512Z"
   },
   {
    "duration": 240,
    "start_time": "2025-02-24T12:22:23.519Z"
   },
   {
    "duration": 4,
    "start_time": "2025-02-24T12:22:23.761Z"
   },
   {
    "duration": 232,
    "start_time": "2025-02-24T12:22:23.767Z"
   },
   {
    "duration": 148,
    "start_time": "2025-02-24T12:22:24.000Z"
   },
   {
    "duration": 10,
    "start_time": "2025-02-24T12:22:24.149Z"
   },
   {
    "duration": 24,
    "start_time": "2025-02-24T12:22:24.160Z"
   },
   {
    "duration": 42,
    "start_time": "2025-02-24T12:22:24.186Z"
   },
   {
    "duration": 12,
    "start_time": "2025-02-24T12:22:24.230Z"
   },
   {
    "duration": 3,
    "start_time": "2025-02-24T12:24:12.192Z"
   },
   {
    "duration": 3,
    "start_time": "2025-02-24T12:24:18.296Z"
   },
   {
    "duration": 1065,
    "start_time": "2025-02-24T12:24:31.930Z"
   },
   {
    "duration": 119,
    "start_time": "2025-02-24T12:24:32.997Z"
   },
   {
    "duration": 3,
    "start_time": "2025-02-24T12:24:33.118Z"
   },
   {
    "duration": 70,
    "start_time": "2025-02-24T12:24:33.123Z"
   },
   {
    "duration": 0,
    "start_time": "2025-02-24T12:24:33.196Z"
   },
   {
    "duration": 0,
    "start_time": "2025-02-24T12:24:33.198Z"
   },
   {
    "duration": 0,
    "start_time": "2025-02-24T12:24:33.199Z"
   },
   {
    "duration": 0,
    "start_time": "2025-02-24T12:24:33.201Z"
   },
   {
    "duration": 0,
    "start_time": "2025-02-24T12:24:33.203Z"
   },
   {
    "duration": 0,
    "start_time": "2025-02-24T12:24:33.204Z"
   },
   {
    "duration": 0,
    "start_time": "2025-02-24T12:24:33.205Z"
   },
   {
    "duration": 0,
    "start_time": "2025-02-24T12:24:33.207Z"
   },
   {
    "duration": 0,
    "start_time": "2025-02-24T12:24:33.209Z"
   },
   {
    "duration": 0,
    "start_time": "2025-02-24T12:24:33.211Z"
   },
   {
    "duration": 0,
    "start_time": "2025-02-24T12:24:33.212Z"
   },
   {
    "duration": 0,
    "start_time": "2025-02-24T12:24:33.213Z"
   },
   {
    "duration": 0,
    "start_time": "2025-02-24T12:24:33.214Z"
   },
   {
    "duration": 0,
    "start_time": "2025-02-24T12:24:33.215Z"
   },
   {
    "duration": 0,
    "start_time": "2025-02-24T12:24:33.217Z"
   },
   {
    "duration": 0,
    "start_time": "2025-02-24T12:24:33.218Z"
   },
   {
    "duration": 0,
    "start_time": "2025-02-24T12:24:33.220Z"
   },
   {
    "duration": 0,
    "start_time": "2025-02-24T12:24:33.221Z"
   },
   {
    "duration": 0,
    "start_time": "2025-02-24T12:24:33.223Z"
   },
   {
    "duration": 0,
    "start_time": "2025-02-24T12:24:33.224Z"
   },
   {
    "duration": 0,
    "start_time": "2025-02-24T12:24:33.227Z"
   },
   {
    "duration": 0,
    "start_time": "2025-02-24T12:24:33.228Z"
   },
   {
    "duration": 1,
    "start_time": "2025-02-24T12:24:33.229Z"
   },
   {
    "duration": 0,
    "start_time": "2025-02-24T12:24:33.231Z"
   },
   {
    "duration": 0,
    "start_time": "2025-02-24T12:24:33.233Z"
   },
   {
    "duration": 0,
    "start_time": "2025-02-24T12:24:33.234Z"
   },
   {
    "duration": 0,
    "start_time": "2025-02-24T12:24:33.235Z"
   },
   {
    "duration": 0,
    "start_time": "2025-02-24T12:24:33.237Z"
   },
   {
    "duration": 0,
    "start_time": "2025-02-24T12:24:33.238Z"
   },
   {
    "duration": 0,
    "start_time": "2025-02-24T12:24:33.239Z"
   },
   {
    "duration": 0,
    "start_time": "2025-02-24T12:24:33.240Z"
   },
   {
    "duration": 0,
    "start_time": "2025-02-24T12:24:33.242Z"
   },
   {
    "duration": 0,
    "start_time": "2025-02-24T12:24:33.244Z"
   },
   {
    "duration": 0,
    "start_time": "2025-02-24T12:24:33.245Z"
   },
   {
    "duration": 0,
    "start_time": "2025-02-24T12:24:33.246Z"
   },
   {
    "duration": 0,
    "start_time": "2025-02-24T12:24:33.247Z"
   },
   {
    "duration": 0,
    "start_time": "2025-02-24T12:24:33.310Z"
   },
   {
    "duration": 11,
    "start_time": "2025-02-24T12:25:17.931Z"
   },
   {
    "duration": 1115,
    "start_time": "2025-02-24T12:28:00.017Z"
   },
   {
    "duration": 118,
    "start_time": "2025-02-24T12:28:01.134Z"
   },
   {
    "duration": 12,
    "start_time": "2025-02-24T12:28:01.253Z"
   },
   {
    "duration": 66,
    "start_time": "2025-02-24T12:28:01.267Z"
   },
   {
    "duration": 20,
    "start_time": "2025-02-24T12:28:01.335Z"
   },
   {
    "duration": 42,
    "start_time": "2025-02-24T12:28:01.357Z"
   },
   {
    "duration": 26,
    "start_time": "2025-02-24T12:28:01.401Z"
   },
   {
    "duration": 20,
    "start_time": "2025-02-24T12:28:01.429Z"
   },
   {
    "duration": 22,
    "start_time": "2025-02-24T12:28:01.451Z"
   },
   {
    "duration": 24,
    "start_time": "2025-02-24T12:28:01.476Z"
   },
   {
    "duration": 57,
    "start_time": "2025-02-24T12:28:01.502Z"
   },
   {
    "duration": 93,
    "start_time": "2025-02-24T12:28:01.561Z"
   },
   {
    "duration": 54,
    "start_time": "2025-02-24T12:28:01.656Z"
   },
   {
    "duration": 39,
    "start_time": "2025-02-24T12:28:01.712Z"
   },
   {
    "duration": 31,
    "start_time": "2025-02-24T12:28:01.752Z"
   },
   {
    "duration": 22,
    "start_time": "2025-02-24T12:28:01.785Z"
   },
   {
    "duration": 137,
    "start_time": "2025-02-24T12:28:01.808Z"
   },
   {
    "duration": 13,
    "start_time": "2025-02-24T12:28:01.946Z"
   },
   {
    "duration": 18,
    "start_time": "2025-02-24T12:28:01.961Z"
   },
   {
    "duration": 298,
    "start_time": "2025-02-24T12:28:01.981Z"
   },
   {
    "duration": 188,
    "start_time": "2025-02-24T12:28:02.280Z"
   },
   {
    "duration": 128,
    "start_time": "2025-02-24T12:28:02.470Z"
   },
   {
    "duration": 20,
    "start_time": "2025-02-24T12:28:02.600Z"
   },
   {
    "duration": 391,
    "start_time": "2025-02-24T12:28:02.622Z"
   },
   {
    "duration": 266,
    "start_time": "2025-02-24T12:28:03.015Z"
   },
   {
    "duration": 380,
    "start_time": "2025-02-24T12:28:03.283Z"
   },
   {
    "duration": 4,
    "start_time": "2025-02-24T12:28:03.664Z"
   },
   {
    "duration": 291,
    "start_time": "2025-02-24T12:28:03.672Z"
   },
   {
    "duration": 356,
    "start_time": "2025-02-24T12:28:03.964Z"
   },
   {
    "duration": 12,
    "start_time": "2025-02-24T12:28:04.322Z"
   },
   {
    "duration": 269,
    "start_time": "2025-02-24T12:28:04.336Z"
   },
   {
    "duration": 6,
    "start_time": "2025-02-24T12:28:04.609Z"
   },
   {
    "duration": 214,
    "start_time": "2025-02-24T12:28:04.617Z"
   },
   {
    "duration": 6,
    "start_time": "2025-02-24T12:28:04.833Z"
   },
   {
    "duration": 233,
    "start_time": "2025-02-24T12:28:04.840Z"
   },
   {
    "duration": 161,
    "start_time": "2025-02-24T12:28:05.075Z"
   },
   {
    "duration": 11,
    "start_time": "2025-02-24T12:28:05.238Z"
   },
   {
    "duration": 142,
    "start_time": "2025-02-24T12:28:05.250Z"
   },
   {
    "duration": 59,
    "start_time": "2025-02-24T12:28:05.394Z"
   },
   {
    "duration": 14,
    "start_time": "2025-02-24T12:28:05.454Z"
   },
   {
    "duration": 12,
    "start_time": "2025-02-24T12:28:22.531Z"
   },
   {
    "duration": 1089,
    "start_time": "2025-02-24T12:28:38.278Z"
   },
   {
    "duration": 113,
    "start_time": "2025-02-24T12:28:39.369Z"
   },
   {
    "duration": 11,
    "start_time": "2025-02-24T12:28:39.484Z"
   },
   {
    "duration": 10,
    "start_time": "2025-02-24T12:28:39.497Z"
   },
   {
    "duration": 8,
    "start_time": "2025-02-24T12:28:39.509Z"
   },
   {
    "duration": 11,
    "start_time": "2025-02-24T12:28:39.518Z"
   },
   {
    "duration": 7,
    "start_time": "2025-02-24T12:28:39.530Z"
   },
   {
    "duration": 9,
    "start_time": "2025-02-24T12:28:39.538Z"
   },
   {
    "duration": 8,
    "start_time": "2025-02-24T12:28:39.548Z"
   },
   {
    "duration": 8,
    "start_time": "2025-02-24T12:28:39.558Z"
   },
   {
    "duration": 52,
    "start_time": "2025-02-24T12:28:39.567Z"
   },
   {
    "duration": 7,
    "start_time": "2025-02-24T12:28:39.621Z"
   },
   {
    "duration": 10,
    "start_time": "2025-02-24T12:28:39.629Z"
   },
   {
    "duration": 9,
    "start_time": "2025-02-24T12:28:39.640Z"
   },
   {
    "duration": 3,
    "start_time": "2025-02-24T12:28:39.651Z"
   },
   {
    "duration": 11,
    "start_time": "2025-02-24T12:28:39.656Z"
   },
   {
    "duration": 142,
    "start_time": "2025-02-24T12:28:39.668Z"
   },
   {
    "duration": 13,
    "start_time": "2025-02-24T12:28:39.811Z"
   },
   {
    "duration": 12,
    "start_time": "2025-02-24T12:28:39.825Z"
   },
   {
    "duration": 307,
    "start_time": "2025-02-24T12:28:39.838Z"
   },
   {
    "duration": 171,
    "start_time": "2025-02-24T12:28:40.147Z"
   },
   {
    "duration": 131,
    "start_time": "2025-02-24T12:28:40.319Z"
   },
   {
    "duration": 12,
    "start_time": "2025-02-24T12:28:40.451Z"
   },
   {
    "duration": 319,
    "start_time": "2025-02-24T12:28:40.464Z"
   },
   {
    "duration": 251,
    "start_time": "2025-02-24T12:28:40.785Z"
   },
   {
    "duration": 322,
    "start_time": "2025-02-24T12:28:41.038Z"
   },
   {
    "duration": 4,
    "start_time": "2025-02-24T12:28:41.361Z"
   },
   {
    "duration": 226,
    "start_time": "2025-02-24T12:28:41.368Z"
   },
   {
    "duration": 328,
    "start_time": "2025-02-24T12:28:41.596Z"
   },
   {
    "duration": 11,
    "start_time": "2025-02-24T12:28:41.926Z"
   },
   {
    "duration": 175,
    "start_time": "2025-02-24T12:28:41.938Z"
   },
   {
    "duration": 5,
    "start_time": "2025-02-24T12:28:42.115Z"
   },
   {
    "duration": 188,
    "start_time": "2025-02-24T12:28:42.121Z"
   },
   {
    "duration": 6,
    "start_time": "2025-02-24T12:28:42.311Z"
   },
   {
    "duration": 228,
    "start_time": "2025-02-24T12:28:42.319Z"
   },
   {
    "duration": 161,
    "start_time": "2025-02-24T12:28:42.549Z"
   },
   {
    "duration": 10,
    "start_time": "2025-02-24T12:28:42.711Z"
   },
   {
    "duration": 8,
    "start_time": "2025-02-24T12:28:42.722Z"
   },
   {
    "duration": 29,
    "start_time": "2025-02-24T12:28:42.731Z"
   },
   {
    "duration": 13,
    "start_time": "2025-02-24T12:28:42.762Z"
   },
   {
    "duration": 10,
    "start_time": "2025-02-24T12:28:55.378Z"
   },
   {
    "duration": 11,
    "start_time": "2025-02-24T12:29:35.599Z"
   },
   {
    "duration": 995,
    "start_time": "2025-02-24T12:29:41.762Z"
   },
   {
    "duration": 112,
    "start_time": "2025-02-24T12:29:42.759Z"
   },
   {
    "duration": 13,
    "start_time": "2025-02-24T12:29:42.872Z"
   },
   {
    "duration": 10,
    "start_time": "2025-02-24T12:29:42.887Z"
   },
   {
    "duration": 26,
    "start_time": "2025-02-24T12:29:42.899Z"
   },
   {
    "duration": 17,
    "start_time": "2025-02-24T12:29:42.927Z"
   },
   {
    "duration": 9,
    "start_time": "2025-02-24T12:29:42.946Z"
   },
   {
    "duration": 12,
    "start_time": "2025-02-24T12:29:42.957Z"
   },
   {
    "duration": 8,
    "start_time": "2025-02-24T12:29:42.975Z"
   },
   {
    "duration": 24,
    "start_time": "2025-02-24T12:29:42.986Z"
   },
   {
    "duration": 21,
    "start_time": "2025-02-24T12:29:43.011Z"
   },
   {
    "duration": 8,
    "start_time": "2025-02-24T12:29:43.034Z"
   },
   {
    "duration": 13,
    "start_time": "2025-02-24T12:29:43.045Z"
   },
   {
    "duration": 11,
    "start_time": "2025-02-24T12:29:43.060Z"
   },
   {
    "duration": 37,
    "start_time": "2025-02-24T12:29:43.072Z"
   },
   {
    "duration": 9,
    "start_time": "2025-02-24T12:29:43.111Z"
   },
   {
    "duration": 129,
    "start_time": "2025-02-24T12:29:43.121Z"
   },
   {
    "duration": 13,
    "start_time": "2025-02-24T12:29:43.252Z"
   },
   {
    "duration": 78,
    "start_time": "2025-02-24T12:29:43.267Z"
   },
   {
    "duration": 298,
    "start_time": "2025-02-24T12:29:43.347Z"
   },
   {
    "duration": 172,
    "start_time": "2025-02-24T12:29:43.647Z"
   },
   {
    "duration": 140,
    "start_time": "2025-02-24T12:29:43.821Z"
   },
   {
    "duration": 11,
    "start_time": "2025-02-24T12:29:43.963Z"
   },
   {
    "duration": 316,
    "start_time": "2025-02-24T12:29:43.976Z"
   },
   {
    "duration": 244,
    "start_time": "2025-02-24T12:29:44.293Z"
   },
   {
    "duration": 325,
    "start_time": "2025-02-24T12:29:44.539Z"
   },
   {
    "duration": 4,
    "start_time": "2025-02-24T12:29:44.866Z"
   },
   {
    "duration": 236,
    "start_time": "2025-02-24T12:29:44.873Z"
   },
   {
    "duration": 324,
    "start_time": "2025-02-24T12:29:45.111Z"
   },
   {
    "duration": 11,
    "start_time": "2025-02-24T12:29:45.437Z"
   },
   {
    "duration": 185,
    "start_time": "2025-02-24T12:29:45.450Z"
   },
   {
    "duration": 5,
    "start_time": "2025-02-24T12:29:45.636Z"
   },
   {
    "duration": 171,
    "start_time": "2025-02-24T12:29:45.643Z"
   },
   {
    "duration": 6,
    "start_time": "2025-02-24T12:29:45.815Z"
   },
   {
    "duration": 242,
    "start_time": "2025-02-24T12:29:45.822Z"
   },
   {
    "duration": 148,
    "start_time": "2025-02-24T12:29:46.066Z"
   },
   {
    "duration": 9,
    "start_time": "2025-02-24T12:29:46.215Z"
   },
   {
    "duration": 10,
    "start_time": "2025-02-24T12:29:46.225Z"
   },
   {
    "duration": 31,
    "start_time": "2025-02-24T12:29:46.237Z"
   },
   {
    "duration": 40,
    "start_time": "2025-02-24T12:29:46.270Z"
   },
   {
    "duration": 1021,
    "start_time": "2025-02-24T12:38:46.619Z"
   },
   {
    "duration": 129,
    "start_time": "2025-02-24T12:38:47.642Z"
   },
   {
    "duration": 3,
    "start_time": "2025-02-24T12:38:47.772Z"
   },
   {
    "duration": 18,
    "start_time": "2025-02-24T12:38:47.777Z"
   },
   {
    "duration": 10,
    "start_time": "2025-02-24T12:38:47.797Z"
   },
   {
    "duration": 16,
    "start_time": "2025-02-24T12:38:47.809Z"
   },
   {
    "duration": 13,
    "start_time": "2025-02-24T12:38:47.826Z"
   },
   {
    "duration": 15,
    "start_time": "2025-02-24T12:38:47.840Z"
   },
   {
    "duration": 11,
    "start_time": "2025-02-24T12:38:47.857Z"
   },
   {
    "duration": 12,
    "start_time": "2025-02-24T12:38:47.869Z"
   },
   {
    "duration": 14,
    "start_time": "2025-02-24T12:38:47.883Z"
   },
   {
    "duration": 20,
    "start_time": "2025-02-24T12:38:47.898Z"
   },
   {
    "duration": 6,
    "start_time": "2025-02-24T12:38:47.919Z"
   },
   {
    "duration": 7,
    "start_time": "2025-02-24T12:38:47.928Z"
   },
   {
    "duration": 9,
    "start_time": "2025-02-24T12:38:47.936Z"
   },
   {
    "duration": 5,
    "start_time": "2025-02-24T12:38:47.946Z"
   },
   {
    "duration": 10,
    "start_time": "2025-02-24T12:38:47.953Z"
   },
   {
    "duration": 134,
    "start_time": "2025-02-24T12:38:47.965Z"
   },
   {
    "duration": 18,
    "start_time": "2025-02-24T12:38:48.100Z"
   },
   {
    "duration": 13,
    "start_time": "2025-02-24T12:38:48.120Z"
   },
   {
    "duration": 299,
    "start_time": "2025-02-24T12:38:48.134Z"
   },
   {
    "duration": 175,
    "start_time": "2025-02-24T12:38:48.435Z"
   },
   {
    "duration": 131,
    "start_time": "2025-02-24T12:38:48.611Z"
   },
   {
    "duration": 12,
    "start_time": "2025-02-24T12:38:48.743Z"
   },
   {
    "duration": 363,
    "start_time": "2025-02-24T12:38:48.756Z"
   },
   {
    "duration": 266,
    "start_time": "2025-02-24T12:38:49.121Z"
   },
   {
    "duration": 363,
    "start_time": "2025-02-24T12:38:49.389Z"
   },
   {
    "duration": 4,
    "start_time": "2025-02-24T12:38:49.754Z"
   },
   {
    "duration": 237,
    "start_time": "2025-02-24T12:38:49.759Z"
   },
   {
    "duration": 329,
    "start_time": "2025-02-24T12:38:49.997Z"
   },
   {
    "duration": 11,
    "start_time": "2025-02-24T12:38:50.327Z"
   },
   {
    "duration": 173,
    "start_time": "2025-02-24T12:38:50.339Z"
   },
   {
    "duration": 5,
    "start_time": "2025-02-24T12:38:50.514Z"
   },
   {
    "duration": 195,
    "start_time": "2025-02-24T12:38:50.520Z"
   },
   {
    "duration": 5,
    "start_time": "2025-02-24T12:38:50.717Z"
   },
   {
    "duration": 212,
    "start_time": "2025-02-24T12:38:50.723Z"
   },
   {
    "duration": 153,
    "start_time": "2025-02-24T12:38:50.936Z"
   },
   {
    "duration": 22,
    "start_time": "2025-02-24T12:38:51.090Z"
   },
   {
    "duration": 8,
    "start_time": "2025-02-24T12:38:51.114Z"
   },
   {
    "duration": 28,
    "start_time": "2025-02-24T12:38:51.124Z"
   },
   {
    "duration": 13,
    "start_time": "2025-02-24T12:38:51.155Z"
   },
   {
    "duration": 66,
    "start_time": "2025-02-24T12:54:01.490Z"
   },
   {
    "duration": 1054,
    "start_time": "2025-02-24T14:31:26.652Z"
   },
   {
    "duration": 116,
    "start_time": "2025-02-24T14:31:27.708Z"
   },
   {
    "duration": 3,
    "start_time": "2025-02-24T14:31:27.825Z"
   },
   {
    "duration": 43,
    "start_time": "2025-02-24T14:31:27.830Z"
   },
   {
    "duration": 11,
    "start_time": "2025-02-24T14:31:27.875Z"
   },
   {
    "duration": 11,
    "start_time": "2025-02-24T14:31:27.887Z"
   },
   {
    "duration": 14,
    "start_time": "2025-02-24T14:31:27.899Z"
   },
   {
    "duration": 14,
    "start_time": "2025-02-24T14:31:27.915Z"
   },
   {
    "duration": 9,
    "start_time": "2025-02-24T14:31:27.931Z"
   },
   {
    "duration": 13,
    "start_time": "2025-02-24T14:31:27.941Z"
   },
   {
    "duration": 11,
    "start_time": "2025-02-24T14:31:27.956Z"
   },
   {
    "duration": 23,
    "start_time": "2025-02-24T14:31:27.968Z"
   },
   {
    "duration": 22,
    "start_time": "2025-02-24T14:31:27.993Z"
   },
   {
    "duration": 9,
    "start_time": "2025-02-24T14:31:28.018Z"
   },
   {
    "duration": 9,
    "start_time": "2025-02-24T14:31:28.028Z"
   },
   {
    "duration": 4,
    "start_time": "2025-02-24T14:31:28.039Z"
   },
   {
    "duration": 10,
    "start_time": "2025-02-24T14:31:28.044Z"
   },
   {
    "duration": 143,
    "start_time": "2025-02-24T14:31:28.056Z"
   },
   {
    "duration": 19,
    "start_time": "2025-02-24T14:31:28.200Z"
   },
   {
    "duration": 12,
    "start_time": "2025-02-24T14:31:28.221Z"
   },
   {
    "duration": 345,
    "start_time": "2025-02-24T14:31:28.235Z"
   },
   {
    "duration": 179,
    "start_time": "2025-02-24T14:31:28.582Z"
   },
   {
    "duration": 171,
    "start_time": "2025-02-24T14:31:28.763Z"
   },
   {
    "duration": 12,
    "start_time": "2025-02-24T14:31:28.936Z"
   },
   {
    "duration": 402,
    "start_time": "2025-02-24T14:31:28.950Z"
   },
   {
    "duration": 276,
    "start_time": "2025-02-24T14:31:29.354Z"
   },
   {
    "duration": 350,
    "start_time": "2025-02-24T14:31:29.632Z"
   },
   {
    "duration": 4,
    "start_time": "2025-02-24T14:31:29.983Z"
   },
   {
    "duration": 249,
    "start_time": "2025-02-24T14:31:29.989Z"
   },
   {
    "duration": 67,
    "start_time": "2025-02-24T14:31:30.240Z"
   },
   {
    "duration": 0,
    "start_time": "2025-02-24T14:31:30.309Z"
   },
   {
    "duration": 0,
    "start_time": "2025-02-24T14:31:30.310Z"
   },
   {
    "duration": 0,
    "start_time": "2025-02-24T14:31:30.311Z"
   },
   {
    "duration": 0,
    "start_time": "2025-02-24T14:31:30.312Z"
   },
   {
    "duration": 0,
    "start_time": "2025-02-24T14:31:30.314Z"
   },
   {
    "duration": 0,
    "start_time": "2025-02-24T14:31:30.315Z"
   },
   {
    "duration": 0,
    "start_time": "2025-02-24T14:31:30.316Z"
   },
   {
    "duration": 0,
    "start_time": "2025-02-24T14:31:30.317Z"
   },
   {
    "duration": 0,
    "start_time": "2025-02-24T14:31:30.318Z"
   },
   {
    "duration": 0,
    "start_time": "2025-02-24T14:31:30.319Z"
   },
   {
    "duration": 0,
    "start_time": "2025-02-24T14:31:30.320Z"
   },
   {
    "duration": 337,
    "start_time": "2025-02-24T14:32:07.010Z"
   },
   {
    "duration": 338,
    "start_time": "2025-02-24T14:32:14.889Z"
   },
   {
    "duration": 325,
    "start_time": "2025-02-24T14:32:44.931Z"
   },
   {
    "duration": 310,
    "start_time": "2025-02-24T14:33:19.033Z"
   },
   {
    "duration": 78,
    "start_time": "2025-02-24T14:34:39.241Z"
   },
   {
    "duration": 1022,
    "start_time": "2025-02-24T14:35:37.637Z"
   },
   {
    "duration": 121,
    "start_time": "2025-02-24T14:35:38.662Z"
   },
   {
    "duration": 2,
    "start_time": "2025-02-24T14:35:38.785Z"
   },
   {
    "duration": 74,
    "start_time": "2025-02-24T14:35:38.788Z"
   },
   {
    "duration": 99,
    "start_time": "2025-02-24T14:35:38.865Z"
   },
   {
    "duration": 13,
    "start_time": "2025-02-24T14:35:38.965Z"
   },
   {
    "duration": 18,
    "start_time": "2025-02-24T14:35:38.979Z"
   },
   {
    "duration": 13,
    "start_time": "2025-02-24T14:35:38.999Z"
   },
   {
    "duration": 10,
    "start_time": "2025-02-24T14:35:39.014Z"
   },
   {
    "duration": 22,
    "start_time": "2025-02-24T14:35:39.025Z"
   },
   {
    "duration": 37,
    "start_time": "2025-02-24T14:35:39.048Z"
   },
   {
    "duration": 31,
    "start_time": "2025-02-24T14:35:39.087Z"
   },
   {
    "duration": 8,
    "start_time": "2025-02-24T14:35:39.119Z"
   },
   {
    "duration": 26,
    "start_time": "2025-02-24T14:35:39.129Z"
   },
   {
    "duration": 19,
    "start_time": "2025-02-24T14:35:39.157Z"
   },
   {
    "duration": 4,
    "start_time": "2025-02-24T14:35:39.178Z"
   },
   {
    "duration": 12,
    "start_time": "2025-02-24T14:35:39.183Z"
   },
   {
    "duration": 107,
    "start_time": "2025-02-24T14:35:39.197Z"
   },
   {
    "duration": 12,
    "start_time": "2025-02-24T14:35:39.309Z"
   },
   {
    "duration": 37,
    "start_time": "2025-02-24T14:35:39.323Z"
   },
   {
    "duration": 296,
    "start_time": "2025-02-24T14:35:39.362Z"
   },
   {
    "duration": 175,
    "start_time": "2025-02-24T14:35:39.660Z"
   },
   {
    "duration": 134,
    "start_time": "2025-02-24T14:35:39.837Z"
   },
   {
    "duration": 12,
    "start_time": "2025-02-24T14:35:39.973Z"
   },
   {
    "duration": 328,
    "start_time": "2025-02-24T14:35:39.986Z"
   },
   {
    "duration": 249,
    "start_time": "2025-02-24T14:35:40.316Z"
   },
   {
    "duration": 344,
    "start_time": "2025-02-24T14:35:40.567Z"
   },
   {
    "duration": 4,
    "start_time": "2025-02-24T14:35:40.913Z"
   },
   {
    "duration": 235,
    "start_time": "2025-02-24T14:35:40.918Z"
   },
   {
    "duration": 312,
    "start_time": "2025-02-24T14:35:41.154Z"
   },
   {
    "duration": 10,
    "start_time": "2025-02-24T14:35:41.468Z"
   },
   {
    "duration": 179,
    "start_time": "2025-02-24T14:35:41.480Z"
   },
   {
    "duration": 5,
    "start_time": "2025-02-24T14:35:41.661Z"
   },
   {
    "duration": 173,
    "start_time": "2025-02-24T14:35:41.667Z"
   },
   {
    "duration": 5,
    "start_time": "2025-02-24T14:35:41.841Z"
   },
   {
    "duration": 221,
    "start_time": "2025-02-24T14:35:41.847Z"
   },
   {
    "duration": 153,
    "start_time": "2025-02-24T14:35:42.069Z"
   },
   {
    "duration": 9,
    "start_time": "2025-02-24T14:35:42.224Z"
   },
   {
    "duration": 11,
    "start_time": "2025-02-24T14:35:42.235Z"
   },
   {
    "duration": 67,
    "start_time": "2025-02-24T14:35:42.249Z"
   },
   {
    "duration": 18,
    "start_time": "2025-02-24T14:35:42.320Z"
   },
   {
    "duration": 278,
    "start_time": "2025-02-24T14:38:54.957Z"
   },
   {
    "duration": 221,
    "start_time": "2025-02-24T14:39:18.490Z"
   },
   {
    "duration": 183,
    "start_time": "2025-02-24T14:39:55.358Z"
   },
   {
    "duration": 82,
    "start_time": "2025-02-24T14:40:18.761Z"
   },
   {
    "duration": 163,
    "start_time": "2025-02-24T14:41:39.725Z"
   },
   {
    "duration": 171,
    "start_time": "2025-02-24T14:42:43.533Z"
   },
   {
    "duration": 169,
    "start_time": "2025-02-24T14:43:50.018Z"
   },
   {
    "duration": 82,
    "start_time": "2025-02-24T14:47:26.490Z"
   },
   {
    "duration": 17,
    "start_time": "2025-02-24T14:54:49.689Z"
   },
   {
    "duration": 988,
    "start_time": "2025-02-24T14:55:09.359Z"
   },
   {
    "duration": 128,
    "start_time": "2025-02-24T14:55:10.349Z"
   },
   {
    "duration": 2,
    "start_time": "2025-02-24T14:55:10.479Z"
   },
   {
    "duration": 12,
    "start_time": "2025-02-24T14:55:10.483Z"
   },
   {
    "duration": 10,
    "start_time": "2025-02-24T14:55:10.497Z"
   },
   {
    "duration": 10,
    "start_time": "2025-02-24T14:55:10.508Z"
   },
   {
    "duration": 11,
    "start_time": "2025-02-24T14:55:10.519Z"
   },
   {
    "duration": 15,
    "start_time": "2025-02-24T14:55:10.531Z"
   },
   {
    "duration": 11,
    "start_time": "2025-02-24T14:55:10.547Z"
   },
   {
    "duration": 7,
    "start_time": "2025-02-24T14:55:10.560Z"
   },
   {
    "duration": 11,
    "start_time": "2025-02-24T14:55:10.569Z"
   },
   {
    "duration": 40,
    "start_time": "2025-02-24T14:55:10.582Z"
   },
   {
    "duration": 7,
    "start_time": "2025-02-24T14:55:10.624Z"
   },
   {
    "duration": 36,
    "start_time": "2025-02-24T14:55:10.635Z"
   },
   {
    "duration": 19,
    "start_time": "2025-02-24T14:55:10.673Z"
   },
   {
    "duration": 5,
    "start_time": "2025-02-24T14:55:10.694Z"
   },
   {
    "duration": 9,
    "start_time": "2025-02-24T14:55:10.701Z"
   },
   {
    "duration": 121,
    "start_time": "2025-02-24T14:55:10.712Z"
   },
   {
    "duration": 13,
    "start_time": "2025-02-24T14:55:10.835Z"
   },
   {
    "duration": 11,
    "start_time": "2025-02-24T14:55:10.850Z"
   },
   {
    "duration": 313,
    "start_time": "2025-02-24T14:55:10.863Z"
   },
   {
    "duration": 172,
    "start_time": "2025-02-24T14:55:11.178Z"
   },
   {
    "duration": 130,
    "start_time": "2025-02-24T14:55:11.351Z"
   },
   {
    "duration": 12,
    "start_time": "2025-02-24T14:55:11.482Z"
   },
   {
    "duration": 324,
    "start_time": "2025-02-24T14:55:11.495Z"
   },
   {
    "duration": 240,
    "start_time": "2025-02-24T14:55:11.820Z"
   },
   {
    "duration": 347,
    "start_time": "2025-02-24T14:55:12.062Z"
   },
   {
    "duration": 3,
    "start_time": "2025-02-24T14:55:12.411Z"
   },
   {
    "duration": 232,
    "start_time": "2025-02-24T14:55:12.416Z"
   },
   {
    "duration": 304,
    "start_time": "2025-02-24T14:55:12.649Z"
   },
   {
    "duration": 12,
    "start_time": "2025-02-24T14:55:12.955Z"
   },
   {
    "duration": 214,
    "start_time": "2025-02-24T14:55:12.968Z"
   },
   {
    "duration": 6,
    "start_time": "2025-02-24T14:55:13.183Z"
   },
   {
    "duration": 187,
    "start_time": "2025-02-24T14:55:13.191Z"
   },
   {
    "duration": 5,
    "start_time": "2025-02-24T14:55:13.380Z"
   },
   {
    "duration": 236,
    "start_time": "2025-02-24T14:55:13.388Z"
   },
   {
    "duration": 171,
    "start_time": "2025-02-24T14:55:13.626Z"
   },
   {
    "duration": 19,
    "start_time": "2025-02-24T14:55:13.798Z"
   },
   {
    "duration": 19,
    "start_time": "2025-02-24T14:55:13.819Z"
   },
   {
    "duration": 0,
    "start_time": "2025-02-24T14:55:13.840Z"
   },
   {
    "duration": 0,
    "start_time": "2025-02-24T14:55:13.841Z"
   },
   {
    "duration": 14,
    "start_time": "2025-02-24T14:55:37.852Z"
   },
   {
    "duration": 1362,
    "start_time": "2025-02-24T15:00:52.098Z"
   },
   {
    "duration": 1709,
    "start_time": "2025-02-24T15:02:33.660Z"
   },
   {
    "duration": 10,
    "start_time": "2025-02-24T15:03:09.024Z"
   },
   {
    "duration": 69,
    "start_time": "2025-02-24T15:04:09.091Z"
   },
   {
    "duration": 14,
    "start_time": "2025-02-24T15:05:52.549Z"
   },
   {
    "duration": 1018,
    "start_time": "2025-02-24T15:10:53.932Z"
   },
   {
    "duration": 106,
    "start_time": "2025-02-24T15:10:54.951Z"
   },
   {
    "duration": 2,
    "start_time": "2025-02-24T15:10:55.059Z"
   },
   {
    "duration": 14,
    "start_time": "2025-02-24T15:10:55.063Z"
   },
   {
    "duration": 10,
    "start_time": "2025-02-24T15:10:55.079Z"
   },
   {
    "duration": 8,
    "start_time": "2025-02-24T15:10:55.091Z"
   },
   {
    "duration": 10,
    "start_time": "2025-02-24T15:10:55.100Z"
   },
   {
    "duration": 11,
    "start_time": "2025-02-24T15:10:55.112Z"
   },
   {
    "duration": 10,
    "start_time": "2025-02-24T15:10:55.125Z"
   },
   {
    "duration": 7,
    "start_time": "2025-02-24T15:10:55.136Z"
   },
   {
    "duration": 18,
    "start_time": "2025-02-24T15:10:55.144Z"
   },
   {
    "duration": 22,
    "start_time": "2025-02-24T15:10:55.163Z"
   },
   {
    "duration": 26,
    "start_time": "2025-02-24T15:10:55.187Z"
   },
   {
    "duration": 8,
    "start_time": "2025-02-24T15:10:55.215Z"
   },
   {
    "duration": 9,
    "start_time": "2025-02-24T15:10:55.225Z"
   },
   {
    "duration": 4,
    "start_time": "2025-02-24T15:10:55.236Z"
   },
   {
    "duration": 10,
    "start_time": "2025-02-24T15:10:55.241Z"
   },
   {
    "duration": 153,
    "start_time": "2025-02-24T15:10:55.253Z"
   },
   {
    "duration": 12,
    "start_time": "2025-02-24T15:10:55.410Z"
   },
   {
    "duration": 12,
    "start_time": "2025-02-24T15:10:55.424Z"
   },
   {
    "duration": 318,
    "start_time": "2025-02-24T15:10:55.438Z"
   },
   {
    "duration": 181,
    "start_time": "2025-02-24T15:10:55.758Z"
   },
   {
    "duration": 149,
    "start_time": "2025-02-24T15:10:55.940Z"
   },
   {
    "duration": 12,
    "start_time": "2025-02-24T15:10:56.090Z"
   },
   {
    "duration": 352,
    "start_time": "2025-02-24T15:10:56.110Z"
   },
   {
    "duration": 260,
    "start_time": "2025-02-24T15:10:56.464Z"
   },
   {
    "duration": 338,
    "start_time": "2025-02-24T15:10:56.726Z"
   },
   {
    "duration": 4,
    "start_time": "2025-02-24T15:10:57.066Z"
   },
   {
    "duration": 239,
    "start_time": "2025-02-24T15:10:57.072Z"
   },
   {
    "duration": 308,
    "start_time": "2025-02-24T15:10:57.313Z"
   },
   {
    "duration": 11,
    "start_time": "2025-02-24T15:10:57.623Z"
   },
   {
    "duration": 195,
    "start_time": "2025-02-24T15:10:57.636Z"
   },
   {
    "duration": 5,
    "start_time": "2025-02-24T15:10:57.833Z"
   },
   {
    "duration": 188,
    "start_time": "2025-02-24T15:10:57.839Z"
   },
   {
    "duration": 4,
    "start_time": "2025-02-24T15:10:58.029Z"
   },
   {
    "duration": 242,
    "start_time": "2025-02-24T15:10:58.035Z"
   },
   {
    "duration": 165,
    "start_time": "2025-02-24T15:10:58.278Z"
   },
   {
    "duration": 9,
    "start_time": "2025-02-24T15:10:58.445Z"
   },
   {
    "duration": 9,
    "start_time": "2025-02-24T15:10:58.455Z"
   },
   {
    "duration": 52,
    "start_time": "2025-02-24T15:10:58.466Z"
   },
   {
    "duration": 12,
    "start_time": "2025-02-24T15:10:58.522Z"
   },
   {
    "duration": 1106,
    "start_time": "2025-02-24T19:06:10.676Z"
   },
   {
    "duration": 117,
    "start_time": "2025-02-24T19:06:11.784Z"
   },
   {
    "duration": 3,
    "start_time": "2025-02-24T19:06:11.906Z"
   },
   {
    "duration": 26,
    "start_time": "2025-02-24T19:06:11.912Z"
   },
   {
    "duration": 9,
    "start_time": "2025-02-24T19:06:11.940Z"
   },
   {
    "duration": 12,
    "start_time": "2025-02-24T19:06:11.951Z"
   },
   {
    "duration": 30,
    "start_time": "2025-02-24T19:06:11.964Z"
   },
   {
    "duration": 25,
    "start_time": "2025-02-24T19:06:11.996Z"
   },
   {
    "duration": 21,
    "start_time": "2025-02-24T19:06:12.022Z"
   },
   {
    "duration": 18,
    "start_time": "2025-02-24T19:06:12.046Z"
   },
   {
    "duration": 25,
    "start_time": "2025-02-24T19:06:12.066Z"
   },
   {
    "duration": 27,
    "start_time": "2025-02-24T19:06:12.093Z"
   },
   {
    "duration": 7,
    "start_time": "2025-02-24T19:06:12.122Z"
   },
   {
    "duration": 14,
    "start_time": "2025-02-24T19:06:12.131Z"
   },
   {
    "duration": 20,
    "start_time": "2025-02-24T19:06:12.147Z"
   },
   {
    "duration": 12,
    "start_time": "2025-02-24T19:06:12.168Z"
   },
   {
    "duration": 21,
    "start_time": "2025-02-24T19:06:12.182Z"
   },
   {
    "duration": 128,
    "start_time": "2025-02-24T19:06:12.205Z"
   },
   {
    "duration": 14,
    "start_time": "2025-02-24T19:06:12.334Z"
   },
   {
    "duration": 84,
    "start_time": "2025-02-24T19:06:12.349Z"
   },
   {
    "duration": 310,
    "start_time": "2025-02-24T19:06:12.435Z"
   },
   {
    "duration": 185,
    "start_time": "2025-02-24T19:06:12.746Z"
   },
   {
    "duration": 140,
    "start_time": "2025-02-24T19:06:12.932Z"
   },
   {
    "duration": 12,
    "start_time": "2025-02-24T19:06:13.074Z"
   },
   {
    "duration": 348,
    "start_time": "2025-02-24T19:06:13.087Z"
   },
   {
    "duration": 276,
    "start_time": "2025-02-24T19:06:13.436Z"
   },
   {
    "duration": 378,
    "start_time": "2025-02-24T19:06:13.714Z"
   },
   {
    "duration": 5,
    "start_time": "2025-02-24T19:06:14.101Z"
   },
   {
    "duration": 258,
    "start_time": "2025-02-24T19:06:14.108Z"
   },
   {
    "duration": 377,
    "start_time": "2025-02-24T19:06:14.367Z"
   },
   {
    "duration": 11,
    "start_time": "2025-02-24T19:06:14.745Z"
   },
   {
    "duration": 263,
    "start_time": "2025-02-24T19:06:14.757Z"
   },
   {
    "duration": 5,
    "start_time": "2025-02-24T19:06:15.022Z"
   },
   {
    "duration": 206,
    "start_time": "2025-02-24T19:06:15.029Z"
   },
   {
    "duration": 6,
    "start_time": "2025-02-24T19:06:15.237Z"
   },
   {
    "duration": 254,
    "start_time": "2025-02-24T19:06:15.245Z"
   },
   {
    "duration": 147,
    "start_time": "2025-02-24T19:06:15.504Z"
   },
   {
    "duration": 11,
    "start_time": "2025-02-24T19:06:15.653Z"
   },
   {
    "duration": 15,
    "start_time": "2025-02-24T19:06:15.666Z"
   },
   {
    "duration": 50,
    "start_time": "2025-02-24T19:06:15.682Z"
   },
   {
    "duration": 13,
    "start_time": "2025-02-24T19:06:15.734Z"
   },
   {
    "duration": 1111,
    "start_time": "2025-02-24T19:07:59.421Z"
   },
   {
    "duration": 121,
    "start_time": "2025-02-24T19:08:00.534Z"
   },
   {
    "duration": 185,
    "start_time": "2025-02-24T19:08:00.657Z"
   },
   {
    "duration": 33,
    "start_time": "2025-02-24T19:08:00.844Z"
   },
   {
    "duration": 49,
    "start_time": "2025-02-24T19:08:00.879Z"
   },
   {
    "duration": 47,
    "start_time": "2025-02-24T19:08:00.930Z"
   },
   {
    "duration": 38,
    "start_time": "2025-02-24T19:08:00.979Z"
   },
   {
    "duration": 90,
    "start_time": "2025-02-24T19:08:01.019Z"
   },
   {
    "duration": 134,
    "start_time": "2025-02-24T19:08:01.111Z"
   },
   {
    "duration": 8,
    "start_time": "2025-02-24T19:08:01.248Z"
   },
   {
    "duration": 26,
    "start_time": "2025-02-24T19:08:01.257Z"
   },
   {
    "duration": 67,
    "start_time": "2025-02-24T19:08:01.285Z"
   },
   {
    "duration": 17,
    "start_time": "2025-02-24T19:08:01.354Z"
   },
   {
    "duration": 17,
    "start_time": "2025-02-24T19:08:01.372Z"
   },
   {
    "duration": 33,
    "start_time": "2025-02-24T19:08:01.391Z"
   },
   {
    "duration": 18,
    "start_time": "2025-02-24T19:08:01.425Z"
   },
   {
    "duration": 18,
    "start_time": "2025-02-24T19:08:01.445Z"
   },
   {
    "duration": 155,
    "start_time": "2025-02-24T19:08:01.465Z"
   },
   {
    "duration": 12,
    "start_time": "2025-02-24T19:08:01.622Z"
   },
   {
    "duration": 24,
    "start_time": "2025-02-24T19:08:01.636Z"
   },
   {
    "duration": 367,
    "start_time": "2025-02-24T19:08:01.661Z"
   },
   {
    "duration": 191,
    "start_time": "2025-02-24T19:08:02.030Z"
   },
   {
    "duration": 128,
    "start_time": "2025-02-24T19:08:02.222Z"
   },
   {
    "duration": 139,
    "start_time": "2025-02-24T19:08:02.351Z"
   },
   {
    "duration": 415,
    "start_time": "2025-02-24T19:08:02.492Z"
   },
   {
    "duration": 271,
    "start_time": "2025-02-24T19:08:02.911Z"
   },
   {
    "duration": 376,
    "start_time": "2025-02-24T19:08:03.184Z"
   },
   {
    "duration": 4,
    "start_time": "2025-02-24T19:08:03.563Z"
   },
   {
    "duration": 256,
    "start_time": "2025-02-24T19:08:03.569Z"
   },
   {
    "duration": 323,
    "start_time": "2025-02-24T19:08:03.827Z"
   },
   {
    "duration": 10,
    "start_time": "2025-02-24T19:08:04.152Z"
   },
   {
    "duration": 197,
    "start_time": "2025-02-24T19:08:04.163Z"
   },
   {
    "duration": 6,
    "start_time": "2025-02-24T19:08:04.361Z"
   },
   {
    "duration": 259,
    "start_time": "2025-02-24T19:08:04.368Z"
   },
   {
    "duration": 4,
    "start_time": "2025-02-24T19:08:04.629Z"
   },
   {
    "duration": 255,
    "start_time": "2025-02-24T19:08:04.635Z"
   },
   {
    "duration": 175,
    "start_time": "2025-02-24T19:08:04.892Z"
   },
   {
    "duration": 10,
    "start_time": "2025-02-24T19:08:05.068Z"
   },
   {
    "duration": 30,
    "start_time": "2025-02-24T19:08:05.080Z"
   },
   {
    "duration": 32,
    "start_time": "2025-02-24T19:08:05.112Z"
   },
   {
    "duration": 97,
    "start_time": "2025-02-24T19:08:05.145Z"
   }
  ],
  "kernelspec": {
   "display_name": "Python [conda env:practicum]",
   "language": "python",
   "name": "conda-env-practicum-py"
  },
  "language_info": {
   "codemirror_mode": {
    "name": "ipython",
    "version": 3
   },
   "file_extension": ".py",
   "mimetype": "text/x-python",
   "name": "python",
   "nbconvert_exporter": "python",
   "pygments_lexer": "ipython3",
   "version": "3.9.19"
  },
  "toc": {
   "base_numbering": 1,
   "nav_menu": {},
   "number_sections": true,
   "sideBar": true,
   "skip_h1_title": true,
   "title_cell": "Table of Contents",
   "title_sidebar": "Contents",
   "toc_cell": false,
   "toc_position": {},
   "toc_section_display": true,
   "toc_window_display": false
  }
 },
 "nbformat": 4,
 "nbformat_minor": 4
}
